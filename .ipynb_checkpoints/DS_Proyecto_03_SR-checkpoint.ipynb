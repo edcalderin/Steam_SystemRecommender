{
 "cells": [
  {
   "cell_type": "markdown",
   "metadata": {
    "colab_type": "text",
    "id": "gzJLet17WTzh"
   },
   "source": [
    "# Proyecto 03 - Sistemas de Recomendación\n",
    "\n",
    "## Dataset: STEAM\n",
    "\n",
    "**Recuerda descargar el dataset de [aquí](https://github.com/kang205/SASRec). Son dos archivos, uno de calificaciones y otro de información sobre los juegos.**\n",
    "\n",
    "En este notebook te dejamos unas celdas para que puedas comenzar a trabajar con este dataset. Sin embargo, **deberás** modificarlas para hacer un mejor manejo de datos. Algunas cosas a las que deberás prestar atención (tal vez no a todas):\n",
    "1. Tipos de datos: elige tipos de datos apropiados para cada columna.\n",
    "2. Descartar columnas poco informativas.\n",
    "3. Guardar en memoria datasets preprocesados para no tener que repetir código que tarde en correr.\n",
    "\n",
    "### Exploración de datos\n",
    "\n",
    "Dedícale un buen tiempo a hacer un Análisis Exploratorio de Datos. Elige preguntas que creas que puedas responder con este dataset. Por ejemplo, ¿cuáles son los juegos más populares?¿Y los menos populares?\n",
    "\n",
    "### Filtro Colaborativo\n",
    "\n",
    "Deberás implementar un sistema de recomendación colaborativo para este dataset. Ten en cuenta:\n",
    "\n",
    "1. Haz todas las transformaciones de datos que consideres necesarias. Justifica.\n",
    "1. Evalúa de forma apropiada sus resultados. Justifica la métrica elegida.\n",
    "1. Elige un modelo benchmark y compara tus resultados con este modelo.\n",
    "1. Optimiza los hiperparámetros de tu modelo.\n",
    "\n",
    "Puedes implementar un filtro colaborativo a partir de la similitud coseno o índice de Jaccard. ¿Puedes utilizar los métodos de la librería Surprise? Si no es así, busca implementaciones (por ejemplo, nuevas librerías) que sean apropiadas.\n",
    "\n",
    "Para comenzar a trabajar, puedes asumir que cada entrada es un enlace entre una persona usuaria y un item, **independientemente** de si la crítica es buena o mala. \n",
    "\n",
    "### Para pensar, investigar y, opcionalmente, implementar\n",
    "1. ¿Cómo harías para ponerle un valor a la calificación?\n",
    "1. ¿Cómo harías para agregar contenido? Por ejemplo, cuentas con el género, precio, fecha de lanzamiento y más información de los juegos.\n",
    "1. ¿Hay algo que te gustaría investigar o probar?\n",
    "\n",
    "### **¡Tómate tiempo para investigar y leer mucho!**"
   ]
  },
  {
   "cell_type": "code",
   "execution_count": 1,
   "metadata": {
    "ExecuteTime": {
     "end_time": "2020-10-08T18:11:55.664725Z",
     "start_time": "2020-10-08T18:11:53.968276Z"
    }
   },
   "outputs": [],
   "source": [
    "import gzip\n",
    "import pandas as pd\n",
    "import seaborn as sns\n",
    "import matplotlib.pyplot as plt\n",
    "import numpy as np\n",
    "import gc\n",
    "import itertools\n",
    "sns.set()"
   ]
  },
  {
   "cell_type": "code",
   "execution_count": 2,
   "metadata": {
    "ExecuteTime": {
     "end_time": "2020-10-08T18:11:55.670704Z",
     "start_time": "2020-10-08T18:11:55.665719Z"
    },
    "colab": {},
    "colab_type": "code",
    "id": "lWZhtUxEWTzj"
   },
   "outputs": [],
   "source": [
    "def parse(path):\n",
    "    g = gzip.open(path, 'r')\n",
    "    for l in g:\n",
    "        yield eval(l)"
   ]
  },
  {
   "cell_type": "markdown",
   "metadata": {
    "colab_type": "text",
    "id": "BmEM25k4WTzw"
   },
   "source": [
    "#### Reviews"
   ]
  },
  {
   "cell_type": "code",
   "execution_count": 3,
   "metadata": {
    "ExecuteTime": {
     "end_time": "2020-10-08T18:17:27.408550Z",
     "start_time": "2020-10-08T18:11:55.673697Z"
    },
    "colab": {},
    "colab_type": "code",
    "id": "abAXItn1WTz0"
   },
   "outputs": [],
   "source": [
    "#contador = 0\n",
    "data_reviews = []\n",
    "# Vamos a guardar una de cada 10 reviews para no llenar la memoria RAM. Si pones n = 3, \n",
    "# abrira uno de cada tres, y asi.\n",
    "n = 2\n",
    "for l in parse('steam_reviews.json.gz'):\n",
    "    #if contador%n == 0:\n",
    "    data_reviews.append(l)\n",
    "    #else:\n",
    "    #    pass\n",
    "    #contador += 1"
   ]
  },
  {
   "cell_type": "markdown",
   "metadata": {},
   "source": [
    "Recibimos las columnas necesarias para el preprocesamiento y analisis, ademas agiliza la conversion a DataFrame."
   ]
  },
  {
   "cell_type": "code",
   "execution_count": 6,
   "metadata": {
    "ExecuteTime": {
     "end_time": "2020-10-08T18:22:09.632897Z",
     "start_time": "2020-10-08T18:19:06.815851Z"
    }
   },
   "outputs": [],
   "source": [
    "data_reviews = pd.DataFrame(data_reviews, columns=[\n",
    "                            'username', 'hours', 'product_id', 'date', 'text'])"
   ]
  },
  {
   "cell_type": "markdown",
   "metadata": {},
   "source": [
    "Mejorando performance al convertir algunos tipos de datos:"
   ]
  },
  {
   "cell_type": "code",
   "execution_count": 7,
   "metadata": {
    "ExecuteTime": {
     "end_time": "2020-10-08T18:22:37.847406Z",
     "start_time": "2020-10-08T18:22:37.663742Z"
    }
   },
   "outputs": [
    {
     "data": {
      "text/plain": [
       "username       object\n",
       "hours         float64\n",
       "product_id     object\n",
       "date           object\n",
       "text           object\n",
       "dtype: object"
      ]
     },
     "execution_count": 7,
     "metadata": {},
     "output_type": "execute_result"
    }
   ],
   "source": [
    "data_reviews.dtypes"
   ]
  },
  {
   "cell_type": "code",
   "execution_count": 9,
   "metadata": {
    "ExecuteTime": {
     "end_time": "2020-10-08T18:35:42.849694Z",
     "start_time": "2020-10-08T18:34:47.888715Z"
    }
   },
   "outputs": [],
   "source": [
    "types_reviews = dict(hours='float16', product_id='int8')\n",
    "data_reviews = data_reviews.astype(types_reviews)"
   ]
  },
  {
   "cell_type": "code",
   "execution_count": 11,
   "metadata": {
    "ExecuteTime": {
     "end_time": "2020-10-08T19:32:26.503149Z",
     "start_time": "2020-10-08T19:32:16.928354Z"
    }
   },
   "outputs": [],
   "source": [
    "data_reviews['date'] = pd.to_datetime(data_reviews['date'])"
   ]
  },
  {
   "cell_type": "markdown",
   "metadata": {},
   "source": [
    "Resultado:"
   ]
  },
  {
   "cell_type": "code",
   "execution_count": 12,
   "metadata": {
    "ExecuteTime": {
     "end_time": "2020-10-08T19:32:32.819117Z",
     "start_time": "2020-10-08T19:32:32.776222Z"
    }
   },
   "outputs": [
    {
     "data": {
      "text/plain": [
       "username              object\n",
       "hours                float16\n",
       "product_id              int8\n",
       "date          datetime64[ns]\n",
       "text                  object\n",
       "dtype: object"
      ]
     },
     "execution_count": 12,
     "metadata": {},
     "output_type": "execute_result"
    }
   ],
   "source": [
    "data_reviews.dtypes"
   ]
  },
  {
   "cell_type": "code",
   "execution_count": 13,
   "metadata": {
    "ExecuteTime": {
     "end_time": "2020-10-08T19:45:24.481544Z",
     "start_time": "2020-10-08T19:45:24.300695Z"
    },
    "colab": {},
    "colab_type": "code",
    "id": "j24F0ZaYWT0E"
   },
   "outputs": [
    {
     "name": "stdout",
     "output_type": "stream",
     "text": [
      "(7793069, 5)\n"
     ]
    },
    {
     "data": {
      "text/html": [
       "<div>\n",
       "<style scoped>\n",
       "    .dataframe tbody tr th:only-of-type {\n",
       "        vertical-align: middle;\n",
       "    }\n",
       "\n",
       "    .dataframe tbody tr th {\n",
       "        vertical-align: top;\n",
       "    }\n",
       "\n",
       "    .dataframe thead th {\n",
       "        text-align: right;\n",
       "    }\n",
       "</style>\n",
       "<table border=\"1\" class=\"dataframe\">\n",
       "  <thead>\n",
       "    <tr style=\"text-align: right;\">\n",
       "      <th></th>\n",
       "      <th>username</th>\n",
       "      <th>hours</th>\n",
       "      <th>product_id</th>\n",
       "      <th>date</th>\n",
       "      <th>text</th>\n",
       "    </tr>\n",
       "  </thead>\n",
       "  <tbody>\n",
       "    <tr>\n",
       "      <th>0</th>\n",
       "      <td>Chaos Syren</td>\n",
       "      <td>0.099976</td>\n",
       "      <td>32</td>\n",
       "      <td>2017-12-17</td>\n",
       "      <td>This would not be acceptable as an entertainme...</td>\n",
       "    </tr>\n",
       "    <tr>\n",
       "      <th>1</th>\n",
       "      <td>₮ʜᴇ Wᴀʀᴛᴏɴ</td>\n",
       "      <td>51.093750</td>\n",
       "      <td>-92</td>\n",
       "      <td>2017-12-27</td>\n",
       "      <td>looks like a facebook game</td>\n",
       "    </tr>\n",
       "    <tr>\n",
       "      <th>2</th>\n",
       "      <td>hello?&lt;</td>\n",
       "      <td>14.601562</td>\n",
       "      <td>-92</td>\n",
       "      <td>2017-10-16</td>\n",
       "      <td>Better than Minecraft</td>\n",
       "    </tr>\n",
       "    <tr>\n",
       "      <th>3</th>\n",
       "      <td>Cyderine916</td>\n",
       "      <td>5.000000</td>\n",
       "      <td>68</td>\n",
       "      <td>2018-01-04</td>\n",
       "      <td>I love and idolized Batman and this game is Ma...</td>\n",
       "    </tr>\n",
       "    <tr>\n",
       "      <th>4</th>\n",
       "      <td>DarklyThinking</td>\n",
       "      <td>16.593750</td>\n",
       "      <td>68</td>\n",
       "      <td>2018-01-04</td>\n",
       "      <td>Still worth playing in 2018.\\nProbably my favo...</td>\n",
       "    </tr>\n",
       "  </tbody>\n",
       "</table>\n",
       "</div>"
      ],
      "text/plain": [
       "         username      hours  product_id       date  \\\n",
       "0     Chaos Syren   0.099976          32 2017-12-17   \n",
       "1      ₮ʜᴇ Wᴀʀᴛᴏɴ  51.093750         -92 2017-12-27   \n",
       "2         hello?<  14.601562         -92 2017-10-16   \n",
       "3     Cyderine916   5.000000          68 2018-01-04   \n",
       "4  DarklyThinking  16.593750          68 2018-01-04   \n",
       "\n",
       "                                                text  \n",
       "0  This would not be acceptable as an entertainme...  \n",
       "1                         looks like a facebook game  \n",
       "2                              Better than Minecraft  \n",
       "3  I love and idolized Batman and this game is Ma...  \n",
       "4  Still worth playing in 2018.\\nProbably my favo...  "
      ]
     },
     "execution_count": 13,
     "metadata": {},
     "output_type": "execute_result"
    }
   ],
   "source": [
    "print(data_reviews.shape)\n",
    "data_reviews.head()"
   ]
  },
  {
   "cell_type": "code",
   "execution_count": 14,
   "metadata": {
    "ExecuteTime": {
     "end_time": "2020-10-08T19:45:30.631388Z",
     "start_time": "2020-10-08T19:45:28.447955Z"
    },
    "colab": {},
    "colab_type": "code",
    "id": "8F-EVRZ4WT0L"
   },
   "outputs": [
    {
     "data": {
      "text/plain": [
       "username      0.000000\n",
       "hours         0.340521\n",
       "product_id    0.000000\n",
       "date          0.000000\n",
       "text          0.000000\n",
       "dtype: float64"
      ]
     },
     "execution_count": 14,
     "metadata": {},
     "output_type": "execute_result"
    }
   ],
   "source": [
    "data_reviews.isna().sum()*100/len(data_reviews)"
   ]
  },
  {
   "cell_type": "markdown",
   "metadata": {
    "colab_type": "text",
    "id": "04ed3teRWT0T"
   },
   "source": [
    "#### Games"
   ]
  },
  {
   "cell_type": "code",
   "execution_count": 33,
   "metadata": {
    "ExecuteTime": {
     "end_time": "2020-10-08T21:41:50.061148Z",
     "start_time": "2020-10-08T21:41:42.459167Z"
    },
    "colab": {},
    "colab_type": "code",
    "id": "8wRb24Y5WT0U"
   },
   "outputs": [],
   "source": [
    "data_games = []\n",
    "for l in parse('steam_games.json.gz'):\n",
    "    data_games.append(l)\n",
    "data_games = pd.DataFrame(data_games)"
   ]
  },
  {
   "cell_type": "code",
   "execution_count": 34,
   "metadata": {
    "ExecuteTime": {
     "end_time": "2020-10-08T21:41:50.892191Z",
     "start_time": "2020-10-08T21:41:50.863272Z"
    },
    "colab": {},
    "colab_type": "code",
    "id": "sVR0Cs6SWT0b"
   },
   "outputs": [
    {
     "data": {
      "text/html": [
       "<div>\n",
       "<style scoped>\n",
       "    .dataframe tbody tr th:only-of-type {\n",
       "        vertical-align: middle;\n",
       "    }\n",
       "\n",
       "    .dataframe tbody tr th {\n",
       "        vertical-align: top;\n",
       "    }\n",
       "\n",
       "    .dataframe thead th {\n",
       "        text-align: right;\n",
       "    }\n",
       "</style>\n",
       "<table border=\"1\" class=\"dataframe\">\n",
       "  <thead>\n",
       "    <tr style=\"text-align: right;\">\n",
       "      <th></th>\n",
       "      <th>publisher</th>\n",
       "      <th>genres</th>\n",
       "      <th>app_name</th>\n",
       "      <th>title</th>\n",
       "      <th>url</th>\n",
       "      <th>release_date</th>\n",
       "      <th>tags</th>\n",
       "      <th>discount_price</th>\n",
       "      <th>reviews_url</th>\n",
       "      <th>specs</th>\n",
       "      <th>price</th>\n",
       "      <th>early_access</th>\n",
       "      <th>id</th>\n",
       "      <th>developer</th>\n",
       "      <th>sentiment</th>\n",
       "      <th>metascore</th>\n",
       "    </tr>\n",
       "  </thead>\n",
       "  <tbody>\n",
       "    <tr>\n",
       "      <th>0</th>\n",
       "      <td>Kotoshiro</td>\n",
       "      <td>[Action, Casual, Indie, Simulation, Strategy]</td>\n",
       "      <td>Lost Summoner Kitty</td>\n",
       "      <td>Lost Summoner Kitty</td>\n",
       "      <td>http://store.steampowered.com/app/761140/Lost_...</td>\n",
       "      <td>2018-01-04</td>\n",
       "      <td>[Strategy, Action, Indie, Casual, Simulation]</td>\n",
       "      <td>4.49</td>\n",
       "      <td>http://steamcommunity.com/app/761140/reviews/?...</td>\n",
       "      <td>[Single-player]</td>\n",
       "      <td>4.99</td>\n",
       "      <td>False</td>\n",
       "      <td>761140</td>\n",
       "      <td>Kotoshiro</td>\n",
       "      <td>NaN</td>\n",
       "      <td>NaN</td>\n",
       "    </tr>\n",
       "    <tr>\n",
       "      <th>1</th>\n",
       "      <td>Making Fun, Inc.</td>\n",
       "      <td>[Free to Play, Indie, RPG, Strategy]</td>\n",
       "      <td>Ironbound</td>\n",
       "      <td>Ironbound</td>\n",
       "      <td>http://store.steampowered.com/app/643980/Ironb...</td>\n",
       "      <td>2018-01-04</td>\n",
       "      <td>[Free to Play, Strategy, Indie, RPG, Card Game...</td>\n",
       "      <td>NaN</td>\n",
       "      <td>http://steamcommunity.com/app/643980/reviews/?...</td>\n",
       "      <td>[Single-player, Multi-player, Online Multi-Pla...</td>\n",
       "      <td>Free To Play</td>\n",
       "      <td>False</td>\n",
       "      <td>643980</td>\n",
       "      <td>Secret Level SRL</td>\n",
       "      <td>Mostly Positive</td>\n",
       "      <td>NaN</td>\n",
       "    </tr>\n",
       "  </tbody>\n",
       "</table>\n",
       "</div>"
      ],
      "text/plain": [
       "          publisher                                         genres  \\\n",
       "0         Kotoshiro  [Action, Casual, Indie, Simulation, Strategy]   \n",
       "1  Making Fun, Inc.           [Free to Play, Indie, RPG, Strategy]   \n",
       "\n",
       "              app_name                title  \\\n",
       "0  Lost Summoner Kitty  Lost Summoner Kitty   \n",
       "1            Ironbound            Ironbound   \n",
       "\n",
       "                                                 url release_date  \\\n",
       "0  http://store.steampowered.com/app/761140/Lost_...   2018-01-04   \n",
       "1  http://store.steampowered.com/app/643980/Ironb...   2018-01-04   \n",
       "\n",
       "                                                tags  discount_price  \\\n",
       "0      [Strategy, Action, Indie, Casual, Simulation]            4.49   \n",
       "1  [Free to Play, Strategy, Indie, RPG, Card Game...             NaN   \n",
       "\n",
       "                                         reviews_url  \\\n",
       "0  http://steamcommunity.com/app/761140/reviews/?...   \n",
       "1  http://steamcommunity.com/app/643980/reviews/?...   \n",
       "\n",
       "                                               specs         price  \\\n",
       "0                                    [Single-player]          4.99   \n",
       "1  [Single-player, Multi-player, Online Multi-Pla...  Free To Play   \n",
       "\n",
       "   early_access      id         developer        sentiment metascore  \n",
       "0         False  761140         Kotoshiro              NaN       NaN  \n",
       "1         False  643980  Secret Level SRL  Mostly Positive       NaN  "
      ]
     },
     "execution_count": 34,
     "metadata": {},
     "output_type": "execute_result"
    }
   ],
   "source": [
    "data_games.head(2)"
   ]
  },
  {
   "cell_type": "markdown",
   "metadata": {},
   "source": [
    "## Analisis Exploratorio "
   ]
  },
  {
   "cell_type": "markdown",
   "metadata": {},
   "source": [
    "### Preprocesamiento Reviews"
   ]
  },
  {
   "cell_type": "code",
   "execution_count": 35,
   "metadata": {
    "ExecuteTime": {
     "end_time": "2020-10-08T21:41:51.843113Z",
     "start_time": "2020-10-08T21:41:51.814193Z"
    }
   },
   "outputs": [
    {
     "data": {
      "text/html": [
       "<div>\n",
       "<style scoped>\n",
       "    .dataframe tbody tr th:only-of-type {\n",
       "        vertical-align: middle;\n",
       "    }\n",
       "\n",
       "    .dataframe tbody tr th {\n",
       "        vertical-align: top;\n",
       "    }\n",
       "\n",
       "    .dataframe thead th {\n",
       "        text-align: right;\n",
       "    }\n",
       "</style>\n",
       "<table border=\"1\" class=\"dataframe\">\n",
       "  <thead>\n",
       "    <tr style=\"text-align: right;\">\n",
       "      <th></th>\n",
       "      <th>username</th>\n",
       "      <th>hours</th>\n",
       "      <th>product_id</th>\n",
       "      <th>date</th>\n",
       "      <th>text</th>\n",
       "    </tr>\n",
       "  </thead>\n",
       "  <tbody>\n",
       "    <tr>\n",
       "      <th>0</th>\n",
       "      <td>Chaos Syren</td>\n",
       "      <td>0.099976</td>\n",
       "      <td>32</td>\n",
       "      <td>2017-12-17</td>\n",
       "      <td>This would not be acceptable as an entertainme...</td>\n",
       "    </tr>\n",
       "    <tr>\n",
       "      <th>1</th>\n",
       "      <td>₮ʜᴇ Wᴀʀᴛᴏɴ</td>\n",
       "      <td>51.093750</td>\n",
       "      <td>-92</td>\n",
       "      <td>2017-12-27</td>\n",
       "      <td>looks like a facebook game</td>\n",
       "    </tr>\n",
       "    <tr>\n",
       "      <th>2</th>\n",
       "      <td>hello?&lt;</td>\n",
       "      <td>14.601562</td>\n",
       "      <td>-92</td>\n",
       "      <td>2017-10-16</td>\n",
       "      <td>Better than Minecraft</td>\n",
       "    </tr>\n",
       "    <tr>\n",
       "      <th>3</th>\n",
       "      <td>Cyderine916</td>\n",
       "      <td>5.000000</td>\n",
       "      <td>68</td>\n",
       "      <td>2018-01-04</td>\n",
       "      <td>I love and idolized Batman and this game is Ma...</td>\n",
       "    </tr>\n",
       "    <tr>\n",
       "      <th>4</th>\n",
       "      <td>DarklyThinking</td>\n",
       "      <td>16.593750</td>\n",
       "      <td>68</td>\n",
       "      <td>2018-01-04</td>\n",
       "      <td>Still worth playing in 2018.\\nProbably my favo...</td>\n",
       "    </tr>\n",
       "  </tbody>\n",
       "</table>\n",
       "</div>"
      ],
      "text/plain": [
       "         username      hours  product_id       date  \\\n",
       "0     Chaos Syren   0.099976          32 2017-12-17   \n",
       "1      ₮ʜᴇ Wᴀʀᴛᴏɴ  51.093750         -92 2017-12-27   \n",
       "2         hello?<  14.601562         -92 2017-10-16   \n",
       "3     Cyderine916   5.000000          68 2018-01-04   \n",
       "4  DarklyThinking  16.593750          68 2018-01-04   \n",
       "\n",
       "                                                text  \n",
       "0  This would not be acceptable as an entertainme...  \n",
       "1                         looks like a facebook game  \n",
       "2                              Better than Minecraft  \n",
       "3  I love and idolized Batman and this game is Ma...  \n",
       "4  Still worth playing in 2018.\\nProbably my favo...  "
      ]
     },
     "execution_count": 35,
     "metadata": {},
     "output_type": "execute_result"
    }
   ],
   "source": [
    "data_reviews.head()"
   ]
  },
  {
   "cell_type": "code",
   "execution_count": 36,
   "metadata": {
    "ExecuteTime": {
     "end_time": "2020-10-08T21:41:52.306551Z",
     "start_time": "2020-10-08T21:41:52.300588Z"
    }
   },
   "outputs": [
    {
     "data": {
      "text/plain": [
       "(6961100, 5)"
      ]
     },
     "execution_count": 36,
     "metadata": {},
     "output_type": "execute_result"
    }
   ],
   "source": [
    "data_reviews.shape"
   ]
  },
  {
   "cell_type": "markdown",
   "metadata": {},
   "source": [
    "Se analiza si existen registros duplicados en el dataset:"
   ]
  },
  {
   "cell_type": "code",
   "execution_count": 37,
   "metadata": {
    "ExecuteTime": {
     "end_time": "2020-10-08T21:43:50.496492Z",
     "start_time": "2020-10-08T21:41:57.139793Z"
    }
   },
   "outputs": [
    {
     "data": {
      "text/plain": [
       "(0, 5)"
      ]
     },
     "execution_count": 37,
     "metadata": {},
     "output_type": "execute_result"
    }
   ],
   "source": [
    "duplicated = data_reviews[data_reviews.duplicated()]\n",
    "duplicated.shape"
   ]
  },
  {
   "cell_type": "markdown",
   "metadata": {},
   "source": [
    "Se confirma la existencia registros duplicados, ahora se detalla un usuario aleatorio de estos registros:"
   ]
  },
  {
   "cell_type": "code",
   "execution_count": 38,
   "metadata": {
    "ExecuteTime": {
     "end_time": "2020-10-08T21:43:50.606197Z",
     "start_time": "2020-10-08T21:43:50.523418Z"
    }
   },
   "outputs": [
    {
     "data": {
      "text/html": [
       "<div>\n",
       "<style scoped>\n",
       "    .dataframe tbody tr th:only-of-type {\n",
       "        vertical-align: middle;\n",
       "    }\n",
       "\n",
       "    .dataframe tbody tr th {\n",
       "        vertical-align: top;\n",
       "    }\n",
       "\n",
       "    .dataframe thead th {\n",
       "        text-align: right;\n",
       "    }\n",
       "</style>\n",
       "<table border=\"1\" class=\"dataframe\">\n",
       "  <thead>\n",
       "    <tr style=\"text-align: right;\">\n",
       "      <th></th>\n",
       "      <th>username</th>\n",
       "      <th>hours</th>\n",
       "      <th>product_id</th>\n",
       "      <th>date</th>\n",
       "      <th>text</th>\n",
       "    </tr>\n",
       "  </thead>\n",
       "  <tbody>\n",
       "  </tbody>\n",
       "</table>\n",
       "</div>"
      ],
      "text/plain": [
       "Empty DataFrame\n",
       "Columns: [username, hours, product_id, date, text]\n",
       "Index: []"
      ]
     },
     "execution_count": 38,
     "metadata": {},
     "output_type": "execute_result"
    }
   ],
   "source": [
    "duplicated.head()"
   ]
  },
  {
   "cell_type": "markdown",
   "metadata": {},
   "source": [
    "Para probar, se selecciona el usuario **\"feel it break\"**"
   ]
  },
  {
   "cell_type": "code",
   "execution_count": 23,
   "metadata": {
    "ExecuteTime": {
     "end_time": "2020-10-08T20:42:23.751426Z",
     "start_time": "2020-10-08T20:42:20.440418Z"
    }
   },
   "outputs": [
    {
     "data": {
      "text/html": [
       "<div>\n",
       "<style scoped>\n",
       "    .dataframe tbody tr th:only-of-type {\n",
       "        vertical-align: middle;\n",
       "    }\n",
       "\n",
       "    .dataframe tbody tr th {\n",
       "        vertical-align: top;\n",
       "    }\n",
       "\n",
       "    .dataframe thead th {\n",
       "        text-align: right;\n",
       "    }\n",
       "</style>\n",
       "<table border=\"1\" class=\"dataframe\">\n",
       "  <thead>\n",
       "    <tr style=\"text-align: right;\">\n",
       "      <th></th>\n",
       "      <th>username</th>\n",
       "      <th>hours</th>\n",
       "      <th>product_id</th>\n",
       "      <th>date</th>\n",
       "      <th>text</th>\n",
       "    </tr>\n",
       "  </thead>\n",
       "  <tbody>\n",
       "    <tr>\n",
       "      <th>3880</th>\n",
       "      <td>feel it break</td>\n",
       "      <td>53.593750</td>\n",
       "      <td>4</td>\n",
       "      <td>2017-05-30</td>\n",
       "      <td>Great and unique gameplay, lovely comic style ...</td>\n",
       "    </tr>\n",
       "    <tr>\n",
       "      <th>4028</th>\n",
       "      <td>feel it break</td>\n",
       "      <td>53.593750</td>\n",
       "      <td>4</td>\n",
       "      <td>2017-05-30</td>\n",
       "      <td>Great and unique gameplay, lovely comic style ...</td>\n",
       "    </tr>\n",
       "    <tr>\n",
       "      <th>179401</th>\n",
       "      <td>feel it break</td>\n",
       "      <td>14.500000</td>\n",
       "      <td>60</td>\n",
       "      <td>2017-12-30</td>\n",
       "      <td>Well the first few hours into the game I had a...</td>\n",
       "    </tr>\n",
       "    <tr>\n",
       "      <th>3498769</th>\n",
       "      <td>feel it break</td>\n",
       "      <td>3.099609</td>\n",
       "      <td>24</td>\n",
       "      <td>2017-12-07</td>\n",
       "      <td>What a f***ing piece of turd of a game this is...</td>\n",
       "    </tr>\n",
       "    <tr>\n",
       "      <th>5340520</th>\n",
       "      <td>feel it break</td>\n",
       "      <td>323.500000</td>\n",
       "      <td>50</td>\n",
       "      <td>2017-10-12</td>\n",
       "      <td>Of all the Magic Games that came out and that ...</td>\n",
       "    </tr>\n",
       "    <tr>\n",
       "      <th>5518204</th>\n",
       "      <td>feel it break</td>\n",
       "      <td>469.000000</td>\n",
       "      <td>106</td>\n",
       "      <td>2016-12-11</td>\n",
       "      <td>Pro: You can build own magic decks\\nCons: .......</td>\n",
       "    </tr>\n",
       "    <tr>\n",
       "      <th>6861873</th>\n",
       "      <td>feel it break</td>\n",
       "      <td>56.687500</td>\n",
       "      <td>-94</td>\n",
       "      <td>2017-10-12</td>\n",
       "      <td>Amazing game, very fast paced, stylish, combat...</td>\n",
       "    </tr>\n",
       "  </tbody>\n",
       "</table>\n",
       "</div>"
      ],
      "text/plain": [
       "              username       hours  product_id       date  \\\n",
       "3880     feel it break   53.593750           4 2017-05-30   \n",
       "4028     feel it break   53.593750           4 2017-05-30   \n",
       "179401   feel it break   14.500000          60 2017-12-30   \n",
       "3498769  feel it break    3.099609          24 2017-12-07   \n",
       "5340520  feel it break  323.500000          50 2017-10-12   \n",
       "5518204  feel it break  469.000000         106 2016-12-11   \n",
       "6861873  feel it break   56.687500         -94 2017-10-12   \n",
       "\n",
       "                                                      text  \n",
       "3880     Great and unique gameplay, lovely comic style ...  \n",
       "4028     Great and unique gameplay, lovely comic style ...  \n",
       "179401   Well the first few hours into the game I had a...  \n",
       "3498769  What a f***ing piece of turd of a game this is...  \n",
       "5340520  Of all the Magic Games that came out and that ...  \n",
       "5518204  Pro: You can build own magic decks\\nCons: .......  \n",
       "6861873  Amazing game, very fast paced, stylish, combat...  "
      ]
     },
     "execution_count": 23,
     "metadata": {},
     "output_type": "execute_result"
    }
   ],
   "source": [
    "data_reviews[data_reviews.username == 'feel it break']"
   ]
  },
  {
   "cell_type": "markdown",
   "metadata": {},
   "source": [
    "En los 2 primeros registros de esta busqueda se evidencia error de los datos, misma cantidad de horas, id de videojuego y fecha. Por lo tanto es razonable eliminar estos registros."
   ]
  },
  {
   "cell_type": "code",
   "execution_count": 24,
   "metadata": {
    "ExecuteTime": {
     "end_time": "2020-10-08T20:53:54.423497Z",
     "start_time": "2020-10-08T20:52:33.480570Z"
    }
   },
   "outputs": [],
   "source": [
    "data_reviews.drop_duplicates(inplace=True, ignore_index=True)"
   ]
  },
  {
   "cell_type": "code",
   "execution_count": 25,
   "metadata": {
    "ExecuteTime": {
     "end_time": "2020-10-08T21:36:23.244412Z",
     "start_time": "2020-10-08T21:36:23.217484Z"
    }
   },
   "outputs": [
    {
     "data": {
      "text/plain": [
       "(6961100, 5)"
      ]
     },
     "execution_count": 25,
     "metadata": {},
     "output_type": "execute_result"
    }
   ],
   "source": [
    "data_reviews.shape"
   ]
  },
  {
   "cell_type": "code",
   "execution_count": 26,
   "metadata": {
    "ExecuteTime": {
     "end_time": "2020-10-08T21:37:17.879456Z",
     "start_time": "2020-10-08T21:36:25.405358Z"
    }
   },
   "outputs": [
    {
     "data": {
      "text/plain": [
       "username          0\n",
       "hours         25926\n",
       "product_id        0\n",
       "date              0\n",
       "text              0\n",
       "dtype: int64"
      ]
     },
     "execution_count": 26,
     "metadata": {},
     "output_type": "execute_result"
    }
   ],
   "source": [
    "data_reviews.isna().sum()"
   ]
  },
  {
   "cell_type": "code",
   "execution_count": 27,
   "metadata": {
    "ExecuteTime": {
     "end_time": "2020-10-08T21:38:58.968128Z",
     "start_time": "2020-10-08T21:38:56.885839Z"
    }
   },
   "outputs": [
    {
     "data": {
      "text/plain": [
       "3506"
      ]
     },
     "execution_count": 27,
     "metadata": {},
     "output_type": "execute_result"
    }
   ],
   "source": [
    "gc.collect()"
   ]
  },
  {
   "cell_type": "markdown",
   "metadata": {},
   "source": [
    "### Preprocesamiento Games"
   ]
  },
  {
   "cell_type": "code",
   "execution_count": 39,
   "metadata": {
    "ExecuteTime": {
     "end_time": "2020-10-08T21:44:12.033750Z",
     "start_time": "2020-10-08T21:44:11.959974Z"
    }
   },
   "outputs": [
    {
     "data": {
      "text/html": [
       "<div>\n",
       "<style scoped>\n",
       "    .dataframe tbody tr th:only-of-type {\n",
       "        vertical-align: middle;\n",
       "    }\n",
       "\n",
       "    .dataframe tbody tr th {\n",
       "        vertical-align: top;\n",
       "    }\n",
       "\n",
       "    .dataframe thead th {\n",
       "        text-align: right;\n",
       "    }\n",
       "</style>\n",
       "<table border=\"1\" class=\"dataframe\">\n",
       "  <thead>\n",
       "    <tr style=\"text-align: right;\">\n",
       "      <th></th>\n",
       "      <th>publisher</th>\n",
       "      <th>genres</th>\n",
       "      <th>app_name</th>\n",
       "      <th>title</th>\n",
       "      <th>url</th>\n",
       "      <th>release_date</th>\n",
       "      <th>tags</th>\n",
       "      <th>discount_price</th>\n",
       "      <th>reviews_url</th>\n",
       "      <th>specs</th>\n",
       "      <th>price</th>\n",
       "      <th>early_access</th>\n",
       "      <th>id</th>\n",
       "      <th>developer</th>\n",
       "      <th>sentiment</th>\n",
       "      <th>metascore</th>\n",
       "    </tr>\n",
       "  </thead>\n",
       "  <tbody>\n",
       "    <tr>\n",
       "      <th>0</th>\n",
       "      <td>Kotoshiro</td>\n",
       "      <td>[Action, Casual, Indie, Simulation, Strategy]</td>\n",
       "      <td>Lost Summoner Kitty</td>\n",
       "      <td>Lost Summoner Kitty</td>\n",
       "      <td>http://store.steampowered.com/app/761140/Lost_...</td>\n",
       "      <td>2018-01-04</td>\n",
       "      <td>[Strategy, Action, Indie, Casual, Simulation]</td>\n",
       "      <td>4.49</td>\n",
       "      <td>http://steamcommunity.com/app/761140/reviews/?...</td>\n",
       "      <td>[Single-player]</td>\n",
       "      <td>4.99</td>\n",
       "      <td>False</td>\n",
       "      <td>761140</td>\n",
       "      <td>Kotoshiro</td>\n",
       "      <td>NaN</td>\n",
       "      <td>NaN</td>\n",
       "    </tr>\n",
       "    <tr>\n",
       "      <th>1</th>\n",
       "      <td>Making Fun, Inc.</td>\n",
       "      <td>[Free to Play, Indie, RPG, Strategy]</td>\n",
       "      <td>Ironbound</td>\n",
       "      <td>Ironbound</td>\n",
       "      <td>http://store.steampowered.com/app/643980/Ironb...</td>\n",
       "      <td>2018-01-04</td>\n",
       "      <td>[Free to Play, Strategy, Indie, RPG, Card Game...</td>\n",
       "      <td>NaN</td>\n",
       "      <td>http://steamcommunity.com/app/643980/reviews/?...</td>\n",
       "      <td>[Single-player, Multi-player, Online Multi-Pla...</td>\n",
       "      <td>Free To Play</td>\n",
       "      <td>False</td>\n",
       "      <td>643980</td>\n",
       "      <td>Secret Level SRL</td>\n",
       "      <td>Mostly Positive</td>\n",
       "      <td>NaN</td>\n",
       "    </tr>\n",
       "    <tr>\n",
       "      <th>2</th>\n",
       "      <td>Poolians.com</td>\n",
       "      <td>[Casual, Free to Play, Indie, Simulation, Sports]</td>\n",
       "      <td>Real Pool 3D - Poolians</td>\n",
       "      <td>Real Pool 3D - Poolians</td>\n",
       "      <td>http://store.steampowered.com/app/670290/Real_...</td>\n",
       "      <td>2017-07-24</td>\n",
       "      <td>[Free to Play, Simulation, Sports, Casual, Ind...</td>\n",
       "      <td>NaN</td>\n",
       "      <td>http://steamcommunity.com/app/670290/reviews/?...</td>\n",
       "      <td>[Single-player, Multi-player, Online Multi-Pla...</td>\n",
       "      <td>Free to Play</td>\n",
       "      <td>False</td>\n",
       "      <td>670290</td>\n",
       "      <td>Poolians.com</td>\n",
       "      <td>Mostly Positive</td>\n",
       "      <td>NaN</td>\n",
       "    </tr>\n",
       "  </tbody>\n",
       "</table>\n",
       "</div>"
      ],
      "text/plain": [
       "          publisher                                             genres  \\\n",
       "0         Kotoshiro      [Action, Casual, Indie, Simulation, Strategy]   \n",
       "1  Making Fun, Inc.               [Free to Play, Indie, RPG, Strategy]   \n",
       "2      Poolians.com  [Casual, Free to Play, Indie, Simulation, Sports]   \n",
       "\n",
       "                  app_name                    title  \\\n",
       "0      Lost Summoner Kitty      Lost Summoner Kitty   \n",
       "1                Ironbound                Ironbound   \n",
       "2  Real Pool 3D - Poolians  Real Pool 3D - Poolians   \n",
       "\n",
       "                                                 url release_date  \\\n",
       "0  http://store.steampowered.com/app/761140/Lost_...   2018-01-04   \n",
       "1  http://store.steampowered.com/app/643980/Ironb...   2018-01-04   \n",
       "2  http://store.steampowered.com/app/670290/Real_...   2017-07-24   \n",
       "\n",
       "                                                tags  discount_price  \\\n",
       "0      [Strategy, Action, Indie, Casual, Simulation]            4.49   \n",
       "1  [Free to Play, Strategy, Indie, RPG, Card Game...             NaN   \n",
       "2  [Free to Play, Simulation, Sports, Casual, Ind...             NaN   \n",
       "\n",
       "                                         reviews_url  \\\n",
       "0  http://steamcommunity.com/app/761140/reviews/?...   \n",
       "1  http://steamcommunity.com/app/643980/reviews/?...   \n",
       "2  http://steamcommunity.com/app/670290/reviews/?...   \n",
       "\n",
       "                                               specs         price  \\\n",
       "0                                    [Single-player]          4.99   \n",
       "1  [Single-player, Multi-player, Online Multi-Pla...  Free To Play   \n",
       "2  [Single-player, Multi-player, Online Multi-Pla...  Free to Play   \n",
       "\n",
       "   early_access      id         developer        sentiment metascore  \n",
       "0         False  761140         Kotoshiro              NaN       NaN  \n",
       "1         False  643980  Secret Level SRL  Mostly Positive       NaN  \n",
       "2         False  670290      Poolians.com  Mostly Positive       NaN  "
      ]
     },
     "execution_count": 39,
     "metadata": {},
     "output_type": "execute_result"
    }
   ],
   "source": [
    "data_games.head(3)"
   ]
  },
  {
   "cell_type": "markdown",
   "metadata": {},
   "source": [
    "#### Valores faltantes"
   ]
  },
  {
   "cell_type": "code",
   "execution_count": 40,
   "metadata": {
    "ExecuteTime": {
     "end_time": "2020-10-08T21:44:13.917404Z",
     "start_time": "2020-10-08T21:44:12.993882Z"
    }
   },
   "outputs": [
    {
     "data": {
      "text/plain": [
       "publisher         25.056792\n",
       "genres            10.216275\n",
       "app_name           0.006224\n",
       "title              6.379337\n",
       "url                0.000000\n",
       "release_date       6.432239\n",
       "tags               0.507235\n",
       "discount_price    99.299829\n",
       "reviews_url        0.006224\n",
       "specs              2.084954\n",
       "price              4.285047\n",
       "early_access       0.000000\n",
       "id                 0.006224\n",
       "developer         10.266065\n",
       "sentiment         22.349463\n",
       "metascore         91.669519\n",
       "dtype: float64"
      ]
     },
     "execution_count": 40,
     "metadata": {},
     "output_type": "execute_result"
    }
   ],
   "source": [
    "data_games.isna().sum()*100/len(data_games)"
   ]
  },
  {
   "cell_type": "code",
   "execution_count": 41,
   "metadata": {
    "ExecuteTime": {
     "end_time": "2020-10-08T21:44:13.953308Z",
     "start_time": "2020-10-08T21:44:13.920415Z"
    }
   },
   "outputs": [],
   "source": [
    "def heatmap_nan_values(data):\n",
    "    plt.figure(figsize=(18, 10))\n",
    "    nan_values = data.isna().sum()\n",
    "    fig = sns.heatmap(data.isna(), cbar=False, yticklabels=False)\n",
    "    col_width = fig.get_xlim()[1]/len(data.columns)\n",
    "    for i, col in enumerate(data.columns):\n",
    "        pos_text_x = col_width*(i+1/2)\n",
    "        plt.text(pos_text_x, 0, nan_values[i], fontdict=dict(\n",
    "            fontsize=15, rotation=33))\n",
    "        plt.axvline(x=col_width*i, c='white', lw=2)"
   ]
  },
  {
   "cell_type": "code",
   "execution_count": 42,
   "metadata": {
    "ExecuteTime": {
     "end_time": "2020-10-08T21:44:15.460255Z",
     "start_time": "2020-10-08T21:44:14.124848Z"
    }
   },
   "outputs": [
    {
     "data": {
      "image/png": "[encoded data removed]",
      "text/plain": [
       "<Figure size 1296x720 with 1 Axes>"
      ]
     },
     "metadata": {},
     "output_type": "display_data"
    }
   ],
   "source": [
    "heatmap_nan_values(data_games)"
   ]
  },
  {
   "cell_type": "code",
   "execution_count": 43,
   "metadata": {
    "ExecuteTime": {
     "end_time": "2020-10-08T21:44:17.912298Z",
     "start_time": "2020-10-08T21:44:17.905346Z"
    }
   },
   "outputs": [
    {
     "data": {
      "text/plain": [
       "(32135, 16)"
      ]
     },
     "execution_count": 43,
     "metadata": {},
     "output_type": "execute_result"
    }
   ],
   "source": [
    "data_games.shape"
   ]
  },
  {
   "cell_type": "markdown",
   "metadata": {},
   "source": [
    "* Las columnas a continuacion no otorgan valor para el analisis exploratorio, se incluyen algunas con valores faltantes superiores al 90% del total de los datos.\n",
    "* La columna **\"sentiment\"** se exluiria tambien ya que posee muchas categorias, algunas de ellas no son predecibles y no se podrian agrupar en categorias generales.\n",
    "* El resto de columnas no incluidas aqui serviran para un posterior analisis exploratorio."
   ]
  },
  {
   "cell_type": "code",
   "execution_count": 44,
   "metadata": {
    "ExecuteTime": {
     "end_time": "2020-10-08T21:44:20.541668Z",
     "start_time": "2020-10-08T21:44:20.519697Z"
    }
   },
   "outputs": [],
   "source": [
    "data_games.drop(columns=['title', 'discount_price', 'reviews_url',\n",
    "                         'early_access', 'sentiment', 'metascore'], inplace=True)"
   ]
  },
  {
   "cell_type": "code",
   "execution_count": 45,
   "metadata": {
    "ExecuteTime": {
     "end_time": "2020-10-08T21:44:21.186726Z",
     "start_time": "2020-10-08T21:44:21.140872Z"
    }
   },
   "outputs": [
    {
     "data": {
      "text/plain": [
       "publisher       8052\n",
       "genres          3283\n",
       "app_name           2\n",
       "url                0\n",
       "release_date    2067\n",
       "tags             163\n",
       "specs            670\n",
       "price           1377\n",
       "id                 2\n",
       "developer       3299\n",
       "dtype: int64"
      ]
     },
     "execution_count": 45,
     "metadata": {},
     "output_type": "execute_result"
    }
   ],
   "source": [
    "data_games.isna().sum()"
   ]
  },
  {
   "cell_type": "markdown",
   "metadata": {},
   "source": [
    "**Videjuegos con app_name e Id faltante:**"
   ]
  },
  {
   "cell_type": "markdown",
   "metadata": {},
   "source": [
    "* El nombre de la aplicacion es importante a la hora de conocer que aplicacion se va a recomendar."
   ]
  },
  {
   "cell_type": "code",
   "execution_count": 46,
   "metadata": {
    "ExecuteTime": {
     "end_time": "2020-10-08T21:44:23.457046Z",
     "start_time": "2020-10-08T21:44:23.433112Z"
    }
   },
   "outputs": [
    {
     "data": {
      "text/html": [
       "<div>\n",
       "<style scoped>\n",
       "    .dataframe tbody tr th:only-of-type {\n",
       "        vertical-align: middle;\n",
       "    }\n",
       "\n",
       "    .dataframe tbody tr th {\n",
       "        vertical-align: top;\n",
       "    }\n",
       "\n",
       "    .dataframe thead th {\n",
       "        text-align: right;\n",
       "    }\n",
       "</style>\n",
       "<table border=\"1\" class=\"dataframe\">\n",
       "  <thead>\n",
       "    <tr style=\"text-align: right;\">\n",
       "      <th></th>\n",
       "      <th>publisher</th>\n",
       "      <th>genres</th>\n",
       "      <th>app_name</th>\n",
       "      <th>url</th>\n",
       "      <th>release_date</th>\n",
       "      <th>tags</th>\n",
       "      <th>specs</th>\n",
       "      <th>price</th>\n",
       "      <th>id</th>\n",
       "      <th>developer</th>\n",
       "    </tr>\n",
       "  </thead>\n",
       "  <tbody>\n",
       "    <tr>\n",
       "      <th>74</th>\n",
       "      <td>NaN</td>\n",
       "      <td>NaN</td>\n",
       "      <td>NaN</td>\n",
       "      <td>http://store.steampowered.com/</td>\n",
       "      <td>NaN</td>\n",
       "      <td>NaN</td>\n",
       "      <td>NaN</td>\n",
       "      <td>19.99</td>\n",
       "      <td>NaN</td>\n",
       "      <td>NaN</td>\n",
       "    </tr>\n",
       "    <tr>\n",
       "      <th>2580</th>\n",
       "      <td>NaN</td>\n",
       "      <td>[Action, Indie]</td>\n",
       "      <td>NaN</td>\n",
       "      <td>http://store.steampowered.com/app/317160/_/</td>\n",
       "      <td>2014-08-26</td>\n",
       "      <td>[Action, Indie]</td>\n",
       "      <td>[Single-player, Game demo]</td>\n",
       "      <td>NaN</td>\n",
       "      <td>317160</td>\n",
       "      <td>NaN</td>\n",
       "    </tr>\n",
       "  </tbody>\n",
       "</table>\n",
       "</div>"
      ],
      "text/plain": [
       "     publisher           genres app_name  \\\n",
       "74         NaN              NaN      NaN   \n",
       "2580       NaN  [Action, Indie]      NaN   \n",
       "\n",
       "                                              url release_date  \\\n",
       "74                 http://store.steampowered.com/          NaN   \n",
       "2580  http://store.steampowered.com/app/317160/_/   2014-08-26   \n",
       "\n",
       "                 tags                       specs  price      id developer  \n",
       "74                NaN                         NaN  19.99     NaN       NaN  \n",
       "2580  [Action, Indie]  [Single-player, Game demo]    NaN  317160       NaN  "
      ]
     },
     "execution_count": 46,
     "metadata": {},
     "output_type": "execute_result"
    }
   ],
   "source": [
    "data_games[data_games.app_name.isna()]"
   ]
  },
  {
   "cell_type": "markdown",
   "metadata": {},
   "source": [
    "* El id del videojuego tambien es identificador importante y no se debe ignorar."
   ]
  },
  {
   "cell_type": "code",
   "execution_count": 47,
   "metadata": {
    "ExecuteTime": {
     "end_time": "2020-10-08T21:44:25.881003Z",
     "start_time": "2020-10-08T21:44:25.856042Z"
    },
    "scrolled": true
   },
   "outputs": [
    {
     "data": {
      "text/html": [
       "<div>\n",
       "<style scoped>\n",
       "    .dataframe tbody tr th:only-of-type {\n",
       "        vertical-align: middle;\n",
       "    }\n",
       "\n",
       "    .dataframe tbody tr th {\n",
       "        vertical-align: top;\n",
       "    }\n",
       "\n",
       "    .dataframe thead th {\n",
       "        text-align: right;\n",
       "    }\n",
       "</style>\n",
       "<table border=\"1\" class=\"dataframe\">\n",
       "  <thead>\n",
       "    <tr style=\"text-align: right;\">\n",
       "      <th></th>\n",
       "      <th>publisher</th>\n",
       "      <th>genres</th>\n",
       "      <th>app_name</th>\n",
       "      <th>url</th>\n",
       "      <th>release_date</th>\n",
       "      <th>tags</th>\n",
       "      <th>specs</th>\n",
       "      <th>price</th>\n",
       "      <th>id</th>\n",
       "      <th>developer</th>\n",
       "    </tr>\n",
       "  </thead>\n",
       "  <tbody>\n",
       "    <tr>\n",
       "      <th>74</th>\n",
       "      <td>NaN</td>\n",
       "      <td>NaN</td>\n",
       "      <td>NaN</td>\n",
       "      <td>http://store.steampowered.com/</td>\n",
       "      <td>NaN</td>\n",
       "      <td>NaN</td>\n",
       "      <td>NaN</td>\n",
       "      <td>19.99</td>\n",
       "      <td>NaN</td>\n",
       "      <td>NaN</td>\n",
       "    </tr>\n",
       "    <tr>\n",
       "      <th>30961</th>\n",
       "      <td>Warner Bros. Interactive Entertainment, Feral ...</td>\n",
       "      <td>[Action, Adventure]</td>\n",
       "      <td>Batman: Arkham City - Game of the Year Edition</td>\n",
       "      <td>http://store.steampowered.com/app/200260</td>\n",
       "      <td>2012-09-07</td>\n",
       "      <td>[Action, Open World, Batman, Adventure, Stealt...</td>\n",
       "      <td>[Single-player, Steam Achievements, Steam Trad...</td>\n",
       "      <td>19.99</td>\n",
       "      <td>NaN</td>\n",
       "      <td>Rocksteady Studios,Feral Interactive (Mac)</td>\n",
       "    </tr>\n",
       "  </tbody>\n",
       "</table>\n",
       "</div>"
      ],
      "text/plain": [
       "                                               publisher               genres  \\\n",
       "74                                                   NaN                  NaN   \n",
       "30961  Warner Bros. Interactive Entertainment, Feral ...  [Action, Adventure]   \n",
       "\n",
       "                                             app_name  \\\n",
       "74                                                NaN   \n",
       "30961  Batman: Arkham City - Game of the Year Edition   \n",
       "\n",
       "                                            url release_date  \\\n",
       "74               http://store.steampowered.com/          NaN   \n",
       "30961  http://store.steampowered.com/app/200260   2012-09-07   \n",
       "\n",
       "                                                    tags  \\\n",
       "74                                                   NaN   \n",
       "30961  [Action, Open World, Batman, Adventure, Stealt...   \n",
       "\n",
       "                                                   specs  price   id  \\\n",
       "74                                                   NaN  19.99  NaN   \n",
       "30961  [Single-player, Steam Achievements, Steam Trad...  19.99  NaN   \n",
       "\n",
       "                                        developer  \n",
       "74                                            NaN  \n",
       "30961  Rocksteady Studios,Feral Interactive (Mac)  "
      ]
     },
     "execution_count": 47,
     "metadata": {},
     "output_type": "execute_result"
    }
   ],
   "source": [
    "data_games[data_games.id.isna()]"
   ]
  },
  {
   "cell_type": "markdown",
   "metadata": {},
   "source": [
    "Ambas busquedas coinciden en un registro para un videojuego que no existe (registro 74), se puede verificar examinando su url la cual no esta compuesta por id ni nombre del videojuego.  \n",
    "El segundo registro obtenido con nombres faltantes corresponde a un videojuego que, al parecer, se migro a otra url o ha caducado. Para este videojuego con id 317160 encontramos que tampoco existen reviews, por lo tanto, se pueden eliminar estos dos elementos."
   ]
  },
  {
   "cell_type": "code",
   "execution_count": 48,
   "metadata": {
    "ExecuteTime": {
     "end_time": "2020-10-08T21:44:29.023920Z",
     "start_time": "2020-10-08T21:44:28.763593Z"
    }
   },
   "outputs": [
    {
     "data": {
      "text/html": [
       "<div>\n",
       "<style scoped>\n",
       "    .dataframe tbody tr th:only-of-type {\n",
       "        vertical-align: middle;\n",
       "    }\n",
       "\n",
       "    .dataframe tbody tr th {\n",
       "        vertical-align: top;\n",
       "    }\n",
       "\n",
       "    .dataframe thead th {\n",
       "        text-align: right;\n",
       "    }\n",
       "</style>\n",
       "<table border=\"1\" class=\"dataframe\">\n",
       "  <thead>\n",
       "    <tr style=\"text-align: right;\">\n",
       "      <th></th>\n",
       "      <th>username</th>\n",
       "      <th>hours</th>\n",
       "      <th>product_id</th>\n",
       "      <th>date</th>\n",
       "      <th>text</th>\n",
       "    </tr>\n",
       "  </thead>\n",
       "  <tbody>\n",
       "  </tbody>\n",
       "</table>\n",
       "</div>"
      ],
      "text/plain": [
       "Empty DataFrame\n",
       "Columns: [username, hours, product_id, date, text]\n",
       "Index: []"
      ]
     },
     "execution_count": 48,
     "metadata": {},
     "output_type": "execute_result"
    }
   ],
   "source": [
    "data_reviews.query('product_id == \"317160\"')"
   ]
  },
  {
   "cell_type": "markdown",
   "metadata": {},
   "source": [
    "Sin embargo al acceder a la url (http://store.steampowered.com/app/317160/_/) del videojuego en cuestion no aparece titulo, ni imagenes adjuntas, pero en la portada del videjuego se logra apreciar su nombre: \"Duet\", y al tratar de consultar por este nombre en el dataset el resultado obtenido es:"
   ]
  },
  {
   "cell_type": "code",
   "execution_count": 49,
   "metadata": {
    "ExecuteTime": {
     "end_time": "2020-10-08T21:44:30.320332Z",
     "start_time": "2020-10-08T21:44:30.297398Z"
    }
   },
   "outputs": [
    {
     "data": {
      "text/html": [
       "<div>\n",
       "<style scoped>\n",
       "    .dataframe tbody tr th:only-of-type {\n",
       "        vertical-align: middle;\n",
       "    }\n",
       "\n",
       "    .dataframe tbody tr th {\n",
       "        vertical-align: top;\n",
       "    }\n",
       "\n",
       "    .dataframe thead th {\n",
       "        text-align: right;\n",
       "    }\n",
       "</style>\n",
       "<table border=\"1\" class=\"dataframe\">\n",
       "  <thead>\n",
       "    <tr style=\"text-align: right;\">\n",
       "      <th></th>\n",
       "      <th>publisher</th>\n",
       "      <th>genres</th>\n",
       "      <th>app_name</th>\n",
       "      <th>url</th>\n",
       "      <th>release_date</th>\n",
       "      <th>tags</th>\n",
       "      <th>specs</th>\n",
       "      <th>price</th>\n",
       "      <th>id</th>\n",
       "      <th>developer</th>\n",
       "    </tr>\n",
       "  </thead>\n",
       "  <tbody>\n",
       "    <tr>\n",
       "      <th>4103</th>\n",
       "      <td>Kumobius</td>\n",
       "      <td>[Action, Indie]</td>\n",
       "      <td>Duet</td>\n",
       "      <td>http://store.steampowered.com/app/292600/Duet/</td>\n",
       "      <td>2015-08-03</td>\n",
       "      <td>[Indie, Action, Minimalist, Great Soundtrack, ...</td>\n",
       "      <td>[Single-player, Steam Achievements, Full contr...</td>\n",
       "      <td>4.99</td>\n",
       "      <td>292600</td>\n",
       "      <td>Kumobius</td>\n",
       "    </tr>\n",
       "  </tbody>\n",
       "</table>\n",
       "</div>"
      ],
      "text/plain": [
       "     publisher           genres app_name  \\\n",
       "4103  Kumobius  [Action, Indie]     Duet   \n",
       "\n",
       "                                                 url release_date  \\\n",
       "4103  http://store.steampowered.com/app/292600/Duet/   2015-08-03   \n",
       "\n",
       "                                                   tags  \\\n",
       "4103  [Indie, Action, Minimalist, Great Soundtrack, ...   \n",
       "\n",
       "                                                  specs price      id  \\\n",
       "4103  [Single-player, Steam Achievements, Full contr...  4.99  292600   \n",
       "\n",
       "     developer  \n",
       "4103  Kumobius  "
      ]
     },
     "execution_count": 49,
     "metadata": {},
     "output_type": "execute_result"
    }
   ],
   "source": [
    "query_duet = data_games.query('app_name == \"Duet\"')\n",
    "query_duet"
   ]
  },
  {
   "cell_type": "markdown",
   "metadata": {},
   "source": [
    "El cual si contiene reviews asociados:"
   ]
  },
  {
   "cell_type": "code",
   "execution_count": 50,
   "metadata": {
    "ExecuteTime": {
     "end_time": "2020-10-08T21:44:33.399174Z",
     "start_time": "2020-10-08T21:44:33.224916Z"
    }
   },
   "outputs": [
    {
     "name": "stdout",
     "output_type": "stream",
     "text": [
      "Duet: 292600\n"
     ]
    },
    {
     "data": {
      "text/html": [
       "<div>\n",
       "<style scoped>\n",
       "    .dataframe tbody tr th:only-of-type {\n",
       "        vertical-align: middle;\n",
       "    }\n",
       "\n",
       "    .dataframe tbody tr th {\n",
       "        vertical-align: top;\n",
       "    }\n",
       "\n",
       "    .dataframe thead th {\n",
       "        text-align: right;\n",
       "    }\n",
       "</style>\n",
       "<table border=\"1\" class=\"dataframe\">\n",
       "  <thead>\n",
       "    <tr style=\"text-align: right;\">\n",
       "      <th></th>\n",
       "      <th>username</th>\n",
       "      <th>hours</th>\n",
       "      <th>product_id</th>\n",
       "      <th>date</th>\n",
       "      <th>text</th>\n",
       "    </tr>\n",
       "  </thead>\n",
       "  <tbody>\n",
       "  </tbody>\n",
       "</table>\n",
       "</div>"
      ],
      "text/plain": [
       "Empty DataFrame\n",
       "Columns: [username, hours, product_id, date, text]\n",
       "Index: []"
      ]
     },
     "execution_count": 50,
     "metadata": {},
     "output_type": "execute_result"
    }
   ],
   "source": [
    "duet = query_duet.iloc[0]\n",
    "print(f'Duet: {duet.id}')\n",
    "data_reviews.query('product_id == @duet.id')"
   ]
  },
  {
   "cell_type": "markdown",
   "metadata": {},
   "source": [
    "Aplicando dropna() al dataset con valores faltantes por la columna **\"app_name\"**"
   ]
  },
  {
   "cell_type": "code",
   "execution_count": 51,
   "metadata": {
    "ExecuteTime": {
     "end_time": "2020-10-08T21:44:39.827557Z",
     "start_time": "2020-10-08T21:44:39.793649Z"
    }
   },
   "outputs": [],
   "source": [
    "data_games.dropna(subset=['app_name'], inplace=True)"
   ]
  },
  {
   "cell_type": "code",
   "execution_count": 52,
   "metadata": {
    "ExecuteTime": {
     "end_time": "2020-10-08T21:44:40.206342Z",
     "start_time": "2020-10-08T21:44:40.200387Z"
    }
   },
   "outputs": [
    {
     "data": {
      "text/plain": [
       "(32133, 10)"
      ]
     },
     "execution_count": 52,
     "metadata": {},
     "output_type": "execute_result"
    }
   ],
   "source": [
    "data_games.shape"
   ]
  },
  {
   "cell_type": "code",
   "execution_count": 53,
   "metadata": {
    "ExecuteTime": {
     "end_time": "2020-10-08T21:44:40.597167Z",
     "start_time": "2020-10-08T21:44:40.558246Z"
    }
   },
   "outputs": [
    {
     "data": {
      "text/plain": [
       "publisher       8050\n",
       "genres          3282\n",
       "app_name           0\n",
       "url                0\n",
       "release_date    2066\n",
       "tags             162\n",
       "specs            669\n",
       "price           1376\n",
       "id                 1\n",
       "developer       3297\n",
       "dtype: int64"
      ]
     },
     "execution_count": 53,
     "metadata": {},
     "output_type": "execute_result"
    }
   ],
   "source": [
    "data_games.isna().sum()"
   ]
  },
  {
   "cell_type": "markdown",
   "metadata": {},
   "source": [
    "Es importante que la columna **\"id\"** este sin valores faltantes dado que el modelo en la segunda etapa de este proyecto lo requerira, el resto de campos tendra mayor uso para realizar consultas. Dado lo anterior, se aplicara el siguiente analisis para rellenar este valor:"
   ]
  },
  {
   "cell_type": "code",
   "execution_count": 54,
   "metadata": {
    "ExecuteTime": {
     "end_time": "2020-10-08T21:44:41.886433Z",
     "start_time": "2020-10-08T21:44:41.865485Z"
    }
   },
   "outputs": [
    {
     "data": {
      "text/html": [
       "<div>\n",
       "<style scoped>\n",
       "    .dataframe tbody tr th:only-of-type {\n",
       "        vertical-align: middle;\n",
       "    }\n",
       "\n",
       "    .dataframe tbody tr th {\n",
       "        vertical-align: top;\n",
       "    }\n",
       "\n",
       "    .dataframe thead th {\n",
       "        text-align: right;\n",
       "    }\n",
       "</style>\n",
       "<table border=\"1\" class=\"dataframe\">\n",
       "  <thead>\n",
       "    <tr style=\"text-align: right;\">\n",
       "      <th></th>\n",
       "      <th>publisher</th>\n",
       "      <th>genres</th>\n",
       "      <th>app_name</th>\n",
       "      <th>url</th>\n",
       "      <th>release_date</th>\n",
       "      <th>tags</th>\n",
       "      <th>specs</th>\n",
       "      <th>price</th>\n",
       "      <th>id</th>\n",
       "      <th>developer</th>\n",
       "    </tr>\n",
       "  </thead>\n",
       "  <tbody>\n",
       "    <tr>\n",
       "      <th>30961</th>\n",
       "      <td>Warner Bros. Interactive Entertainment, Feral ...</td>\n",
       "      <td>[Action, Adventure]</td>\n",
       "      <td>Batman: Arkham City - Game of the Year Edition</td>\n",
       "      <td>http://store.steampowered.com/app/200260</td>\n",
       "      <td>2012-09-07</td>\n",
       "      <td>[Action, Open World, Batman, Adventure, Stealt...</td>\n",
       "      <td>[Single-player, Steam Achievements, Steam Trad...</td>\n",
       "      <td>19.99</td>\n",
       "      <td>NaN</td>\n",
       "      <td>Rocksteady Studios,Feral Interactive (Mac)</td>\n",
       "    </tr>\n",
       "  </tbody>\n",
       "</table>\n",
       "</div>"
      ],
      "text/plain": [
       "                                               publisher               genres  \\\n",
       "30961  Warner Bros. Interactive Entertainment, Feral ...  [Action, Adventure]   \n",
       "\n",
       "                                             app_name  \\\n",
       "30961  Batman: Arkham City - Game of the Year Edition   \n",
       "\n",
       "                                            url release_date  \\\n",
       "30961  http://store.steampowered.com/app/200260   2012-09-07   \n",
       "\n",
       "                                                    tags  \\\n",
       "30961  [Action, Open World, Batman, Adventure, Stealt...   \n",
       "\n",
       "                                                   specs  price   id  \\\n",
       "30961  [Single-player, Steam Achievements, Steam Trad...  19.99  NaN   \n",
       "\n",
       "                                        developer  \n",
       "30961  Rocksteady Studios,Feral Interactive (Mac)  "
      ]
     },
     "execution_count": 54,
     "metadata": {},
     "output_type": "execute_result"
    }
   ],
   "source": [
    "data_games[data_games.id.isna()]"
   ]
  },
  {
   "cell_type": "markdown",
   "metadata": {},
   "source": [
    "**Rellenando columna \"id\"**"
   ]
  },
  {
   "cell_type": "markdown",
   "metadata": {},
   "source": [
    "Vemos que la url contiene el id faltante y en este caso se obtuvo un solo registro, con un simple _\"copy - paste\"_ de este id y conociendo el indice se podria solucionar, pero si se hubieran obtenido multiples registros seria una tarea tediosa, entonces se realizara un \"loop\" sobre estos videojuegos para completar el id. "
   ]
  },
  {
   "cell_type": "code",
   "execution_count": 55,
   "metadata": {
    "ExecuteTime": {
     "end_time": "2020-10-08T21:44:43.544352Z",
     "start_time": "2020-10-08T21:44:43.535365Z"
    }
   },
   "outputs": [
    {
     "data": {
      "text/plain": [
       "publisher       Warner Bros. Interactive Entertainment, Feral ...\n",
       "genres                                        [Action, Adventure]\n",
       "app_name           Batman: Arkham City - Game of the Year Edition\n",
       "url                      http://store.steampowered.com/app/200260\n",
       "release_date                                           2012-09-07\n",
       "tags            [Action, Open World, Batman, Adventure, Stealt...\n",
       "specs           [Single-player, Steam Achievements, Steam Trad...\n",
       "price                                                       19.99\n",
       "id                                                            NaN\n",
       "developer              Rocksteady Studios,Feral Interactive (Mac)\n",
       "Name: 30961, dtype: object"
      ]
     },
     "execution_count": 55,
     "metadata": {},
     "output_type": "execute_result"
    }
   ],
   "source": [
    "data_games.loc[30961]"
   ]
  },
  {
   "cell_type": "markdown",
   "metadata": {},
   "source": [
    "Split basico a una url para obtener el id:"
   ]
  },
  {
   "cell_type": "code",
   "execution_count": 56,
   "metadata": {
    "ExecuteTime": {
     "end_time": "2020-10-08T21:44:44.303150Z",
     "start_time": "2020-10-08T21:44:44.289195Z"
    }
   },
   "outputs": [
    {
     "data": {
      "text/plain": [
       "'200260'"
      ]
     },
     "execution_count": 56,
     "metadata": {},
     "output_type": "execute_result"
    }
   ],
   "source": [
    "'http://store.steampowered.com/app/200260'.split('app/')[1].split('/')[0]"
   ]
  },
  {
   "cell_type": "markdown",
   "metadata": {},
   "source": [
    "Aplicando la estrategia en un loop:"
   ]
  },
  {
   "cell_type": "code",
   "execution_count": 57,
   "metadata": {
    "ExecuteTime": {
     "end_time": "2020-10-08T21:44:44.920892Z",
     "start_time": "2020-10-08T21:44:44.904905Z"
    }
   },
   "outputs": [],
   "source": [
    "index_id_nan = data_games[data_games.id.isna()].index\n",
    "for idx in index_id_nan:\n",
    "    url = data_games.loc[idx].url\n",
    "    id_game = url.split('app/')[1].split('/')[0]\n",
    "    data_games.loc[idx].id = id_game"
   ]
  },
  {
   "cell_type": "code",
   "execution_count": 58,
   "metadata": {
    "ExecuteTime": {
     "end_time": "2020-10-08T21:44:45.466403Z",
     "start_time": "2020-10-08T21:44:45.447456Z"
    }
   },
   "outputs": [
    {
     "data": {
      "text/html": [
       "<div>\n",
       "<style scoped>\n",
       "    .dataframe tbody tr th:only-of-type {\n",
       "        vertical-align: middle;\n",
       "    }\n",
       "\n",
       "    .dataframe tbody tr th {\n",
       "        vertical-align: top;\n",
       "    }\n",
       "\n",
       "    .dataframe thead th {\n",
       "        text-align: right;\n",
       "    }\n",
       "</style>\n",
       "<table border=\"1\" class=\"dataframe\">\n",
       "  <thead>\n",
       "    <tr style=\"text-align: right;\">\n",
       "      <th></th>\n",
       "      <th>publisher</th>\n",
       "      <th>genres</th>\n",
       "      <th>app_name</th>\n",
       "      <th>url</th>\n",
       "      <th>release_date</th>\n",
       "      <th>tags</th>\n",
       "      <th>specs</th>\n",
       "      <th>price</th>\n",
       "      <th>id</th>\n",
       "      <th>developer</th>\n",
       "    </tr>\n",
       "  </thead>\n",
       "  <tbody>\n",
       "    <tr>\n",
       "      <th>30961</th>\n",
       "      <td>Warner Bros. Interactive Entertainment, Feral ...</td>\n",
       "      <td>[Action, Adventure]</td>\n",
       "      <td>Batman: Arkham City - Game of the Year Edition</td>\n",
       "      <td>http://store.steampowered.com/app/200260</td>\n",
       "      <td>2012-09-07</td>\n",
       "      <td>[Action, Open World, Batman, Adventure, Stealt...</td>\n",
       "      <td>[Single-player, Steam Achievements, Steam Trad...</td>\n",
       "      <td>19.99</td>\n",
       "      <td>200260</td>\n",
       "      <td>Rocksteady Studios,Feral Interactive (Mac)</td>\n",
       "    </tr>\n",
       "  </tbody>\n",
       "</table>\n",
       "</div>"
      ],
      "text/plain": [
       "                                               publisher               genres  \\\n",
       "30961  Warner Bros. Interactive Entertainment, Feral ...  [Action, Adventure]   \n",
       "\n",
       "                                             app_name  \\\n",
       "30961  Batman: Arkham City - Game of the Year Edition   \n",
       "\n",
       "                                            url release_date  \\\n",
       "30961  http://store.steampowered.com/app/200260   2012-09-07   \n",
       "\n",
       "                                                    tags  \\\n",
       "30961  [Action, Open World, Batman, Adventure, Stealt...   \n",
       "\n",
       "                                                   specs  price      id  \\\n",
       "30961  [Single-player, Steam Achievements, Steam Trad...  19.99  200260   \n",
       "\n",
       "                                        developer  \n",
       "30961  Rocksteady Studios,Feral Interactive (Mac)  "
      ]
     },
     "execution_count": 58,
     "metadata": {},
     "output_type": "execute_result"
    }
   ],
   "source": [
    "data_games[data_games.index == 30961]"
   ]
  },
  {
   "cell_type": "code",
   "execution_count": 59,
   "metadata": {
    "ExecuteTime": {
     "end_time": "2020-10-08T21:44:45.979424Z",
     "start_time": "2020-10-08T21:44:45.939553Z"
    }
   },
   "outputs": [
    {
     "data": {
      "text/plain": [
       "publisher       8050\n",
       "genres          3282\n",
       "app_name           0\n",
       "url                0\n",
       "release_date    2066\n",
       "tags             162\n",
       "specs            669\n",
       "price           1376\n",
       "id                 0\n",
       "developer       3297\n",
       "dtype: int64"
      ]
     },
     "execution_count": 59,
     "metadata": {},
     "output_type": "execute_result"
    }
   ],
   "source": [
    "data_games.isna().sum()"
   ]
  },
  {
   "cell_type": "markdown",
   "metadata": {},
   "source": [
    "#### Transformacion de precios"
   ]
  },
  {
   "cell_type": "markdown",
   "metadata": {},
   "source": [
    "La columna \"price\" esta conforma por valores numericos y categoricos, entonces haremos un filtro para obtener y analizar estas categorias."
   ]
  },
  {
   "cell_type": "code",
   "execution_count": 60,
   "metadata": {
    "ExecuteTime": {
     "end_time": "2020-10-08T21:57:01.647337Z",
     "start_time": "2020-10-08T21:57:01.595465Z"
    }
   },
   "outputs": [
    {
     "data": {
      "text/plain": [
       "array(['Free', 'Free Demo', 'Free HITMAN™ Holiday Pack', 'Free Mod',\n",
       "       'Free Movie', 'Free To Play', 'Free to Play', 'Free to Try',\n",
       "       'Free to Use', 'Install Now', 'Install Theme', 'Play Now',\n",
       "       'Play WARMACHINE: Tactics Demo', 'Play for Free!', 'Play the Demo',\n",
       "       'Starting at $449.00', 'Starting at $499.00', 'Third-party'],\n",
       "      dtype='<U29')"
      ]
     },
     "execution_count": 60,
     "metadata": {},
     "output_type": "execute_result"
    }
   ],
   "source": [
    "prices = np.array([i for i in list(data_games.price) if (type(i) == str)])\n",
    "np.unique(prices)"
   ]
  },
  {
   "cell_type": "markdown",
   "metadata": {},
   "source": [
    "**NOTA**: Se observa dos veces la categoria \"Starting at $449.00\", parece que el metodo np.unique() lo distinguio como categorias diferentes, algo inusual.  \n",
    "\n",
    "Creando nuevas categorias para la columna precio, actualmente contamos con valores numericos y categoricos, la unica categoria que se transformara a videojuego pago es \"Starting at $499.00\", el resto quedara como \"free\"."
   ]
  },
  {
   "cell_type": "code",
   "execution_count": 62,
   "metadata": {
    "ExecuteTime": {
     "end_time": "2020-10-09T05:48:16.469563Z",
     "start_time": "2020-10-09T05:48:14.336743Z"
    }
   },
   "outputs": [
    {
     "data": {
      "text/html": [
       "<div>\n",
       "<style scoped>\n",
       "    .dataframe tbody tr th:only-of-type {\n",
       "        vertical-align: middle;\n",
       "    }\n",
       "\n",
       "    .dataframe tbody tr th {\n",
       "        vertical-align: top;\n",
       "    }\n",
       "\n",
       "    .dataframe thead th {\n",
       "        text-align: right;\n",
       "    }\n",
       "</style>\n",
       "<table border=\"1\" class=\"dataframe\">\n",
       "  <thead>\n",
       "    <tr style=\"text-align: right;\">\n",
       "      <th></th>\n",
       "      <th>publisher</th>\n",
       "      <th>genres</th>\n",
       "      <th>app_name</th>\n",
       "      <th>url</th>\n",
       "      <th>release_date</th>\n",
       "      <th>tags</th>\n",
       "      <th>specs</th>\n",
       "      <th>id</th>\n",
       "      <th>developer</th>\n",
       "      <th>category_price</th>\n",
       "    </tr>\n",
       "  </thead>\n",
       "  <tbody>\n",
       "    <tr>\n",
       "      <th>0</th>\n",
       "      <td>Kotoshiro</td>\n",
       "      <td>[Action, Casual, Indie, Simulation, Strategy]</td>\n",
       "      <td>Lost Summoner Kitty</td>\n",
       "      <td>http://store.steampowered.com/app/761140/Lost_...</td>\n",
       "      <td>2018-01-04</td>\n",
       "      <td>[Strategy, Action, Indie, Casual, Simulation]</td>\n",
       "      <td>[Single-player]</td>\n",
       "      <td>761140</td>\n",
       "      <td>Kotoshiro</td>\n",
       "      <td>paid</td>\n",
       "    </tr>\n",
       "    <tr>\n",
       "      <th>1</th>\n",
       "      <td>Making Fun, Inc.</td>\n",
       "      <td>[Free to Play, Indie, RPG, Strategy]</td>\n",
       "      <td>Ironbound</td>\n",
       "      <td>http://store.steampowered.com/app/643980/Ironb...</td>\n",
       "      <td>2018-01-04</td>\n",
       "      <td>[Free to Play, Strategy, Indie, RPG, Card Game...</td>\n",
       "      <td>[Single-player, Multi-player, Online Multi-Pla...</td>\n",
       "      <td>643980</td>\n",
       "      <td>Secret Level SRL</td>\n",
       "      <td>free</td>\n",
       "    </tr>\n",
       "    <tr>\n",
       "      <th>2</th>\n",
       "      <td>Poolians.com</td>\n",
       "      <td>[Casual, Free to Play, Indie, Simulation, Sports]</td>\n",
       "      <td>Real Pool 3D - Poolians</td>\n",
       "      <td>http://store.steampowered.com/app/670290/Real_...</td>\n",
       "      <td>2017-07-24</td>\n",
       "      <td>[Free to Play, Simulation, Sports, Casual, Ind...</td>\n",
       "      <td>[Single-player, Multi-player, Online Multi-Pla...</td>\n",
       "      <td>670290</td>\n",
       "      <td>Poolians.com</td>\n",
       "      <td>free</td>\n",
       "    </tr>\n",
       "    <tr>\n",
       "      <th>3</th>\n",
       "      <td>彼岸领域</td>\n",
       "      <td>[Action, Adventure, Casual]</td>\n",
       "      <td>弹炸人2222</td>\n",
       "      <td>http://store.steampowered.com/app/767400/2222/</td>\n",
       "      <td>2017-12-07</td>\n",
       "      <td>[Action, Adventure, Casual]</td>\n",
       "      <td>[Single-player]</td>\n",
       "      <td>767400</td>\n",
       "      <td>彼岸领域</td>\n",
       "      <td>paid</td>\n",
       "    </tr>\n",
       "    <tr>\n",
       "      <th>4</th>\n",
       "      <td>NaN</td>\n",
       "      <td>NaN</td>\n",
       "      <td>Log Challenge</td>\n",
       "      <td>http://store.steampowered.com/app/773570/Log_C...</td>\n",
       "      <td>NaN</td>\n",
       "      <td>[Action, Indie, Casual, Sports]</td>\n",
       "      <td>[Single-player, Full controller support, HTC V...</td>\n",
       "      <td>773570</td>\n",
       "      <td>NaN</td>\n",
       "      <td>paid</td>\n",
       "    </tr>\n",
       "  </tbody>\n",
       "</table>\n",
       "</div>"
      ],
      "text/plain": [
       "          publisher                                             genres  \\\n",
       "0         Kotoshiro      [Action, Casual, Indie, Simulation, Strategy]   \n",
       "1  Making Fun, Inc.               [Free to Play, Indie, RPG, Strategy]   \n",
       "2      Poolians.com  [Casual, Free to Play, Indie, Simulation, Sports]   \n",
       "3              彼岸领域                        [Action, Adventure, Casual]   \n",
       "4               NaN                                                NaN   \n",
       "\n",
       "                  app_name                                                url  \\\n",
       "0      Lost Summoner Kitty  http://store.steampowered.com/app/761140/Lost_...   \n",
       "1                Ironbound  http://store.steampowered.com/app/643980/Ironb...   \n",
       "2  Real Pool 3D - Poolians  http://store.steampowered.com/app/670290/Real_...   \n",
       "3                  弹炸人2222     http://store.steampowered.com/app/767400/2222/   \n",
       "4            Log Challenge  http://store.steampowered.com/app/773570/Log_C...   \n",
       "\n",
       "  release_date                                               tags  \\\n",
       "0   2018-01-04      [Strategy, Action, Indie, Casual, Simulation]   \n",
       "1   2018-01-04  [Free to Play, Strategy, Indie, RPG, Card Game...   \n",
       "2   2017-07-24  [Free to Play, Simulation, Sports, Casual, Ind...   \n",
       "3   2017-12-07                        [Action, Adventure, Casual]   \n",
       "4          NaN                    [Action, Indie, Casual, Sports]   \n",
       "\n",
       "                                               specs      id  \\\n",
       "0                                    [Single-player]  761140   \n",
       "1  [Single-player, Multi-player, Online Multi-Pla...  643980   \n",
       "2  [Single-player, Multi-player, Online Multi-Pla...  670290   \n",
       "3                                    [Single-player]  767400   \n",
       "4  [Single-player, Full controller support, HTC V...  773570   \n",
       "\n",
       "          developer category_price  \n",
       "0         Kotoshiro           paid  \n",
       "1  Secret Level SRL           free  \n",
       "2      Poolians.com           free  \n",
       "3              彼岸领域           paid  \n",
       "4               NaN           paid  "
      ]
     },
     "execution_count": 62,
     "metadata": {},
     "output_type": "execute_result"
    }
   ],
   "source": [
    "data_games['category_price'] = data_games.price.apply(\n",
    "    lambda p: 'paid' if (type(p) == float or p.startswith('Starting')) else 'free')\n",
    "data_games.drop('price', axis=1, inplace=True)\n",
    "data_games.head()"
   ]
  },
  {
   "cell_type": "markdown",
   "metadata": {},
   "source": [
    "#### Videojuegos duplicados"
   ]
  },
  {
   "cell_type": "markdown",
   "metadata": {},
   "source": [
    "Estrategia para eliminar videojuegos duplicados empezando por aquellos cuyo id sea el mismo, teniendo en cuenta ademas el nombre y publicador."
   ]
  },
  {
   "cell_type": "code",
   "execution_count": 63,
   "metadata": {
    "ExecuteTime": {
     "end_time": "2020-10-09T05:53:12.906768Z",
     "start_time": "2020-10-09T05:53:12.784367Z"
    },
    "scrolled": true
   },
   "outputs": [
    {
     "data": {
      "text/html": [
       "<div>\n",
       "<style scoped>\n",
       "    .dataframe tbody tr th:only-of-type {\n",
       "        vertical-align: middle;\n",
       "    }\n",
       "\n",
       "    .dataframe tbody tr th {\n",
       "        vertical-align: top;\n",
       "    }\n",
       "\n",
       "    .dataframe thead th {\n",
       "        text-align: right;\n",
       "    }\n",
       "</style>\n",
       "<table border=\"1\" class=\"dataframe\">\n",
       "  <thead>\n",
       "    <tr style=\"text-align: right;\">\n",
       "      <th></th>\n",
       "      <th>publisher</th>\n",
       "      <th>genres</th>\n",
       "      <th>app_name</th>\n",
       "      <th>url</th>\n",
       "      <th>release_date</th>\n",
       "      <th>tags</th>\n",
       "      <th>specs</th>\n",
       "      <th>id</th>\n",
       "      <th>developer</th>\n",
       "      <th>category_price</th>\n",
       "    </tr>\n",
       "  </thead>\n",
       "  <tbody>\n",
       "    <tr>\n",
       "      <th>13894</th>\n",
       "      <td>Bethesda Softworks</td>\n",
       "      <td>[Action]</td>\n",
       "      <td>Wolfenstein II: The New Colossus</td>\n",
       "      <td>http://store.steampowered.com/app/612880/</td>\n",
       "      <td>2017-10-26</td>\n",
       "      <td>[Action, FPS, Gore, Violent, Alternate History...</td>\n",
       "      <td>[Single-player, Steam Achievements, Full contr...</td>\n",
       "      <td>612880</td>\n",
       "      <td>Machine Games</td>\n",
       "      <td>paid</td>\n",
       "    </tr>\n",
       "    <tr>\n",
       "      <th>14573</th>\n",
       "      <td>Bethesda Softworks</td>\n",
       "      <td>[Action]</td>\n",
       "      <td>Wolfenstein II: The New Colossus</td>\n",
       "      <td>http://store.steampowered.com/app/612880/Wolfe...</td>\n",
       "      <td>2017-10-26</td>\n",
       "      <td>[Action, FPS, Gore, Violent, Alternate History...</td>\n",
       "      <td>[Single-player, Steam Achievements, Full contr...</td>\n",
       "      <td>612880</td>\n",
       "      <td>Machine Games</td>\n",
       "      <td>paid</td>\n",
       "    </tr>\n",
       "    <tr>\n",
       "      <th>1068</th>\n",
       "      <td>Warner Bros. Interactive Entertainment, Feral ...</td>\n",
       "      <td>[Action, Adventure]</td>\n",
       "      <td>Batman: Arkham City - Game of the Year Edition</td>\n",
       "      <td>http://store.steampowered.com/app/200260/Batma...</td>\n",
       "      <td>2012-09-07</td>\n",
       "      <td>[Action, Open World, Batman, Adventure, Stealt...</td>\n",
       "      <td>[Single-player, Steam Achievements, Steam Trad...</td>\n",
       "      <td>200260</td>\n",
       "      <td>Rocksteady Studios,Feral Interactive (Mac)</td>\n",
       "      <td>paid</td>\n",
       "    </tr>\n",
       "    <tr>\n",
       "      <th>30961</th>\n",
       "      <td>Warner Bros. Interactive Entertainment, Feral ...</td>\n",
       "      <td>[Action, Adventure]</td>\n",
       "      <td>Batman: Arkham City - Game of the Year Edition</td>\n",
       "      <td>http://store.steampowered.com/app/200260</td>\n",
       "      <td>2012-09-07</td>\n",
       "      <td>[Action, Open World, Batman, Adventure, Stealt...</td>\n",
       "      <td>[Single-player, Steam Achievements, Steam Trad...</td>\n",
       "      <td>200260</td>\n",
       "      <td>Rocksteady Studios,Feral Interactive (Mac)</td>\n",
       "      <td>paid</td>\n",
       "    </tr>\n",
       "  </tbody>\n",
       "</table>\n",
       "</div>"
      ],
      "text/plain": [
       "                                               publisher               genres  \\\n",
       "13894                                 Bethesda Softworks             [Action]   \n",
       "14573                                 Bethesda Softworks             [Action]   \n",
       "1068   Warner Bros. Interactive Entertainment, Feral ...  [Action, Adventure]   \n",
       "30961  Warner Bros. Interactive Entertainment, Feral ...  [Action, Adventure]   \n",
       "\n",
       "                                             app_name  \\\n",
       "13894                Wolfenstein II: The New Colossus   \n",
       "14573                Wolfenstein II: The New Colossus   \n",
       "1068   Batman: Arkham City - Game of the Year Edition   \n",
       "30961  Batman: Arkham City - Game of the Year Edition   \n",
       "\n",
       "                                                     url release_date  \\\n",
       "13894          http://store.steampowered.com/app/612880/   2017-10-26   \n",
       "14573  http://store.steampowered.com/app/612880/Wolfe...   2017-10-26   \n",
       "1068   http://store.steampowered.com/app/200260/Batma...   2012-09-07   \n",
       "30961           http://store.steampowered.com/app/200260   2012-09-07   \n",
       "\n",
       "                                                    tags  \\\n",
       "13894  [Action, FPS, Gore, Violent, Alternate History...   \n",
       "14573  [Action, FPS, Gore, Violent, Alternate History...   \n",
       "1068   [Action, Open World, Batman, Adventure, Stealt...   \n",
       "30961  [Action, Open World, Batman, Adventure, Stealt...   \n",
       "\n",
       "                                                   specs      id  \\\n",
       "13894  [Single-player, Steam Achievements, Full contr...  612880   \n",
       "14573  [Single-player, Steam Achievements, Full contr...  612880   \n",
       "1068   [Single-player, Steam Achievements, Steam Trad...  200260   \n",
       "30961  [Single-player, Steam Achievements, Steam Trad...  200260   \n",
       "\n",
       "                                        developer category_price  \n",
       "13894                               Machine Games           paid  \n",
       "14573                               Machine Games           paid  \n",
       "1068   Rocksteady Studios,Feral Interactive (Mac)           paid  \n",
       "30961  Rocksteady Studios,Feral Interactive (Mac)           paid  "
      ]
     },
     "execution_count": 63,
     "metadata": {},
     "output_type": "execute_result"
    }
   ],
   "source": [
    "data_games[data_games.duplicated(\n",
    "    subset=['id', 'publisher', 'app_name'], keep=False)].sort_values(by='publisher')"
   ]
  },
  {
   "cell_type": "code",
   "execution_count": 64,
   "metadata": {
    "ExecuteTime": {
     "end_time": "2020-10-09T05:53:35.479243Z",
     "start_time": "2020-10-09T05:53:35.411398Z"
    }
   },
   "outputs": [],
   "source": [
    "data_games.drop_duplicates(\n",
    "    subset=['id', 'publisher', 'app_name'], ignore_index=True, inplace=True)"
   ]
  },
  {
   "cell_type": "code",
   "execution_count": 65,
   "metadata": {
    "ExecuteTime": {
     "end_time": "2020-10-09T05:53:36.284058Z",
     "start_time": "2020-10-09T05:53:36.275083Z"
    }
   },
   "outputs": [
    {
     "data": {
      "text/plain": [
       "(32131, 10)"
      ]
     },
     "execution_count": 65,
     "metadata": {},
     "output_type": "execute_result"
    }
   ],
   "source": [
    "data_games.shape"
   ]
  },
  {
   "cell_type": "markdown",
   "metadata": {},
   "source": [
    "**Analizando valores duplicados por publicador y nombre:** Se han encontrado los siguientes registros duplicados por nombre y publicador, pero estos no podria ser removidos del dataset, al investigar algunos de estos se descubrio que para cada par de videojuegos duplicado, uno es requisito para iniciar el otro. Esto se corroboro accediendo a la url de alguno de uno estos videojuegos."
   ]
  },
  {
   "cell_type": "code",
   "execution_count": 91,
   "metadata": {
    "ExecuteTime": {
     "end_time": "2020-10-09T06:33:18.481813Z",
     "start_time": "2020-10-09T06:33:18.415005Z"
    }
   },
   "outputs": [
    {
     "data": {
      "text/html": [
       "<div>\n",
       "<style scoped>\n",
       "    .dataframe tbody tr th:only-of-type {\n",
       "        vertical-align: middle;\n",
       "    }\n",
       "\n",
       "    .dataframe tbody tr th {\n",
       "        vertical-align: top;\n",
       "    }\n",
       "\n",
       "    .dataframe thead th {\n",
       "        text-align: right;\n",
       "    }\n",
       "</style>\n",
       "<table border=\"1\" class=\"dataframe\">\n",
       "  <thead>\n",
       "    <tr style=\"text-align: right;\">\n",
       "      <th></th>\n",
       "      <th>publisher</th>\n",
       "      <th>genres</th>\n",
       "      <th>app_name</th>\n",
       "      <th>url</th>\n",
       "      <th>release_date</th>\n",
       "      <th>tags</th>\n",
       "      <th>specs</th>\n",
       "      <th>id</th>\n",
       "      <th>developer</th>\n",
       "      <th>category_price</th>\n",
       "    </tr>\n",
       "  </thead>\n",
       "  <tbody>\n",
       "    <tr>\n",
       "      <th>27668</th>\n",
       "      <td>Chilled Mouse</td>\n",
       "      <td>[RPG, Strategy]</td>\n",
       "      <td>Warhammer Quest</td>\n",
       "      <td>http://store.steampowered.com/app/329270/Warha...</td>\n",
       "      <td>2015-01-07</td>\n",
       "      <td>[Strategy, RPG]</td>\n",
       "      <td>[Single-player, Downloadable Content, Steam Ac...</td>\n",
       "      <td>329270</td>\n",
       "      <td>Twistplay,Rodeo Games</td>\n",
       "      <td>paid</td>\n",
       "    </tr>\n",
       "    <tr>\n",
       "      <th>27669</th>\n",
       "      <td>Chilled Mouse</td>\n",
       "      <td>[RPG, Strategy]</td>\n",
       "      <td>Warhammer Quest</td>\n",
       "      <td>http://store.steampowered.com/app/326670/Warha...</td>\n",
       "      <td>2015-01-07</td>\n",
       "      <td>[RPG, Strategy, Games Workshop, Turn-Based, Bo...</td>\n",
       "      <td>[Single-player, Steam Achievements, Steam Trad...</td>\n",
       "      <td>326670</td>\n",
       "      <td>Rodeo Games,Twistplay</td>\n",
       "      <td>paid</td>\n",
       "    </tr>\n",
       "    <tr>\n",
       "      <th>13153</th>\n",
       "      <td>Rock Path Collective</td>\n",
       "      <td>[Casual, Indie, Simulation]</td>\n",
       "      <td>MORE SWEATER? OK!</td>\n",
       "      <td>http://store.steampowered.com/app/773080/MORE_...</td>\n",
       "      <td>2017-12-19</td>\n",
       "      <td>[Indie, Casual, Simulation]</td>\n",
       "      <td>[Single-player, Downloadable Content, Steam Ac...</td>\n",
       "      <td>773080</td>\n",
       "      <td>Triple-Star Studio</td>\n",
       "      <td>paid</td>\n",
       "    </tr>\n",
       "    <tr>\n",
       "      <th>31993</th>\n",
       "      <td>Rock Path Collective</td>\n",
       "      <td>[Action, Casual, Indie, RPG, Simulation]</td>\n",
       "      <td>MORE SWEATER? OK!</td>\n",
       "      <td>http://store.steampowered.com/app/746050/MORE_...</td>\n",
       "      <td>2017-12-29</td>\n",
       "      <td>[Casual, Action, Indie, RPG, Simulation, Singl...</td>\n",
       "      <td>[Single-player, Steam Cloud, Stats, Steam Lead...</td>\n",
       "      <td>746050</td>\n",
       "      <td>Triple-Star Studio</td>\n",
       "      <td>paid</td>\n",
       "    </tr>\n",
       "    <tr>\n",
       "      <th>30175</th>\n",
       "      <td>SEGA</td>\n",
       "      <td>[Action]</td>\n",
       "      <td>Aliens: Colonial Marines - Reconnaissance Pack</td>\n",
       "      <td>http://store.steampowered.com/app/224850/Alien...</td>\n",
       "      <td>2013-05-07</td>\n",
       "      <td>[Action]</td>\n",
       "      <td>[Single-player, Multi-player, Co-op, Downloada...</td>\n",
       "      <td>224850</td>\n",
       "      <td>Gearbox Software</td>\n",
       "      <td>paid</td>\n",
       "    </tr>\n",
       "  </tbody>\n",
       "</table>\n",
       "</div>"
      ],
      "text/plain": [
       "                  publisher                                    genres  \\\n",
       "27668         Chilled Mouse                           [RPG, Strategy]   \n",
       "27669         Chilled Mouse                           [RPG, Strategy]   \n",
       "13153  Rock Path Collective               [Casual, Indie, Simulation]   \n",
       "31993  Rock Path Collective  [Action, Casual, Indie, RPG, Simulation]   \n",
       "30175                  SEGA                                  [Action]   \n",
       "\n",
       "                                             app_name  \\\n",
       "27668                                 Warhammer Quest   \n",
       "27669                                 Warhammer Quest   \n",
       "13153                               MORE SWEATER? OK!   \n",
       "31993                               MORE SWEATER? OK!   \n",
       "30175  Aliens: Colonial Marines - Reconnaissance Pack   \n",
       "\n",
       "                                                     url release_date  \\\n",
       "27668  http://store.steampowered.com/app/329270/Warha...   2015-01-07   \n",
       "27669  http://store.steampowered.com/app/326670/Warha...   2015-01-07   \n",
       "13153  http://store.steampowered.com/app/773080/MORE_...   2017-12-19   \n",
       "31993  http://store.steampowered.com/app/746050/MORE_...   2017-12-29   \n",
       "30175  http://store.steampowered.com/app/224850/Alien...   2013-05-07   \n",
       "\n",
       "                                                    tags  \\\n",
       "27668                                    [Strategy, RPG]   \n",
       "27669  [RPG, Strategy, Games Workshop, Turn-Based, Bo...   \n",
       "13153                        [Indie, Casual, Simulation]   \n",
       "31993  [Casual, Action, Indie, RPG, Simulation, Singl...   \n",
       "30175                                           [Action]   \n",
       "\n",
       "                                                   specs      id  \\\n",
       "27668  [Single-player, Downloadable Content, Steam Ac...  329270   \n",
       "27669  [Single-player, Steam Achievements, Steam Trad...  326670   \n",
       "13153  [Single-player, Downloadable Content, Steam Ac...  773080   \n",
       "31993  [Single-player, Steam Cloud, Stats, Steam Lead...  746050   \n",
       "30175  [Single-player, Multi-player, Co-op, Downloada...  224850   \n",
       "\n",
       "                   developer category_price  \n",
       "27668  Twistplay,Rodeo Games           paid  \n",
       "27669  Rodeo Games,Twistplay           paid  \n",
       "13153     Triple-Star Studio           paid  \n",
       "31993     Triple-Star Studio           paid  \n",
       "30175       Gearbox Software           paid  "
      ]
     },
     "execution_count": 91,
     "metadata": {},
     "output_type": "execute_result"
    }
   ],
   "source": [
    "data_games[data_games.duplicated(\n",
    "    subset=['app_name', 'publisher'], keep=False)].sort_values(by='publisher').head()"
   ]
  },
  {
   "cell_type": "markdown",
   "metadata": {},
   "source": [
    "#### Creando dummy de Generos"
   ]
  },
  {
   "cell_type": "code",
   "execution_count": 208,
   "metadata": {
    "ExecuteTime": {
     "end_time": "2020-10-08T03:24:23.130484Z",
     "start_time": "2020-10-08T03:24:22.306678Z"
    }
   },
   "outputs": [
    {
     "data": {
      "text/plain": [
       "<matplotlib.axes._subplots.AxesSubplot at 0x1859f1ecb88>"
      ]
     },
     "execution_count": 208,
     "metadata": {},
     "output_type": "execute_result"
    },
    {
     "data": {
      "image/png": "[encoded data removed]",
      "text/plain": [
       "<Figure size 1008x288 with 1 Axes>"
      ]
     },
     "metadata": {},
     "output_type": "display_data"
    }
   ],
   "source": [
    "genres_no_null = data_games.genres[data_games.genres.isna() == False]\n",
    "genres_no_null = list(itertools.chain(*genres_no_null))\n",
    "plt.figure(figsize=(14, 4))\n",
    "g = pd.Series(genres_no_null)\n",
    "sns.countplot(genres_no_null, order=g.value_counts().index, orient='h')"
   ]
  },
  {
   "cell_type": "code",
   "execution_count": 116,
   "metadata": {
    "ExecuteTime": {
     "end_time": "2020-10-07T02:23:49.542960Z",
     "start_time": "2020-10-07T02:21:46.296482Z"
    }
   },
   "outputs": [
    {
     "data": {
      "text/html": [
       "<div>\n",
       "<style scoped>\n",
       "    .dataframe tbody tr th:only-of-type {\n",
       "        vertical-align: middle;\n",
       "    }\n",
       "\n",
       "    .dataframe tbody tr th {\n",
       "        vertical-align: top;\n",
       "    }\n",
       "\n",
       "    .dataframe thead th {\n",
       "        text-align: right;\n",
       "    }\n",
       "</style>\n",
       "<table border=\"1\" class=\"dataframe\">\n",
       "  <thead>\n",
       "    <tr style=\"text-align: right;\">\n",
       "      <th></th>\n",
       "      <th>0</th>\n",
       "      <th>1</th>\n",
       "      <th>2</th>\n",
       "      <th>3</th>\n",
       "      <th>4</th>\n",
       "      <th>5</th>\n",
       "      <th>6</th>\n",
       "      <th>7</th>\n",
       "      <th>8</th>\n",
       "      <th>9</th>\n",
       "      <th>10</th>\n",
       "    </tr>\n",
       "  </thead>\n",
       "  <tbody>\n",
       "    <tr>\n",
       "      <th>0</th>\n",
       "      <td>Action</td>\n",
       "      <td>Casual</td>\n",
       "      <td>Indie</td>\n",
       "      <td>Simulation</td>\n",
       "      <td>Strategy</td>\n",
       "      <td>NaN</td>\n",
       "      <td>NaN</td>\n",
       "      <td>NaN</td>\n",
       "      <td>NaN</td>\n",
       "      <td>NaN</td>\n",
       "      <td>NaN</td>\n",
       "    </tr>\n",
       "    <tr>\n",
       "      <th>1</th>\n",
       "      <td>Free to Play</td>\n",
       "      <td>Indie</td>\n",
       "      <td>RPG</td>\n",
       "      <td>Strategy</td>\n",
       "      <td>NaN</td>\n",
       "      <td>NaN</td>\n",
       "      <td>NaN</td>\n",
       "      <td>NaN</td>\n",
       "      <td>NaN</td>\n",
       "      <td>NaN</td>\n",
       "      <td>NaN</td>\n",
       "    </tr>\n",
       "    <tr>\n",
       "      <th>2</th>\n",
       "      <td>Casual</td>\n",
       "      <td>Free to Play</td>\n",
       "      <td>Indie</td>\n",
       "      <td>Simulation</td>\n",
       "      <td>Sports</td>\n",
       "      <td>NaN</td>\n",
       "      <td>NaN</td>\n",
       "      <td>NaN</td>\n",
       "      <td>NaN</td>\n",
       "      <td>NaN</td>\n",
       "      <td>NaN</td>\n",
       "    </tr>\n",
       "    <tr>\n",
       "      <th>3</th>\n",
       "      <td>Action</td>\n",
       "      <td>Adventure</td>\n",
       "      <td>Casual</td>\n",
       "      <td>NaN</td>\n",
       "      <td>NaN</td>\n",
       "      <td>NaN</td>\n",
       "      <td>NaN</td>\n",
       "      <td>NaN</td>\n",
       "      <td>NaN</td>\n",
       "      <td>NaN</td>\n",
       "      <td>NaN</td>\n",
       "    </tr>\n",
       "    <tr>\n",
       "      <th>4</th>\n",
       "      <td>NaN</td>\n",
       "      <td>NaN</td>\n",
       "      <td>NaN</td>\n",
       "      <td>NaN</td>\n",
       "      <td>NaN</td>\n",
       "      <td>NaN</td>\n",
       "      <td>NaN</td>\n",
       "      <td>NaN</td>\n",
       "      <td>NaN</td>\n",
       "      <td>NaN</td>\n",
       "      <td>NaN</td>\n",
       "    </tr>\n",
       "    <tr>\n",
       "      <th>...</th>\n",
       "      <td>...</td>\n",
       "      <td>...</td>\n",
       "      <td>...</td>\n",
       "      <td>...</td>\n",
       "      <td>...</td>\n",
       "      <td>...</td>\n",
       "      <td>...</td>\n",
       "      <td>...</td>\n",
       "      <td>...</td>\n",
       "      <td>...</td>\n",
       "      <td>...</td>\n",
       "    </tr>\n",
       "    <tr>\n",
       "      <th>32123</th>\n",
       "      <td>Casual</td>\n",
       "      <td>Indie</td>\n",
       "      <td>Simulation</td>\n",
       "      <td>Strategy</td>\n",
       "      <td>NaN</td>\n",
       "      <td>NaN</td>\n",
       "      <td>NaN</td>\n",
       "      <td>NaN</td>\n",
       "      <td>NaN</td>\n",
       "      <td>NaN</td>\n",
       "      <td>NaN</td>\n",
       "    </tr>\n",
       "    <tr>\n",
       "      <th>32124</th>\n",
       "      <td>Casual</td>\n",
       "      <td>Indie</td>\n",
       "      <td>Strategy</td>\n",
       "      <td>NaN</td>\n",
       "      <td>NaN</td>\n",
       "      <td>NaN</td>\n",
       "      <td>NaN</td>\n",
       "      <td>NaN</td>\n",
       "      <td>NaN</td>\n",
       "      <td>NaN</td>\n",
       "      <td>NaN</td>\n",
       "    </tr>\n",
       "    <tr>\n",
       "      <th>32125</th>\n",
       "      <td>Indie</td>\n",
       "      <td>Racing</td>\n",
       "      <td>Simulation</td>\n",
       "      <td>NaN</td>\n",
       "      <td>NaN</td>\n",
       "      <td>NaN</td>\n",
       "      <td>NaN</td>\n",
       "      <td>NaN</td>\n",
       "      <td>NaN</td>\n",
       "      <td>NaN</td>\n",
       "      <td>NaN</td>\n",
       "    </tr>\n",
       "    <tr>\n",
       "      <th>32126</th>\n",
       "      <td>Casual</td>\n",
       "      <td>Indie</td>\n",
       "      <td>NaN</td>\n",
       "      <td>NaN</td>\n",
       "      <td>NaN</td>\n",
       "      <td>NaN</td>\n",
       "      <td>NaN</td>\n",
       "      <td>NaN</td>\n",
       "      <td>NaN</td>\n",
       "      <td>NaN</td>\n",
       "      <td>NaN</td>\n",
       "    </tr>\n",
       "    <tr>\n",
       "      <th>32127</th>\n",
       "      <td>NaN</td>\n",
       "      <td>NaN</td>\n",
       "      <td>NaN</td>\n",
       "      <td>NaN</td>\n",
       "      <td>NaN</td>\n",
       "      <td>NaN</td>\n",
       "      <td>NaN</td>\n",
       "      <td>NaN</td>\n",
       "      <td>NaN</td>\n",
       "      <td>NaN</td>\n",
       "      <td>NaN</td>\n",
       "    </tr>\n",
       "  </tbody>\n",
       "</table>\n",
       "<p>32128 rows × 11 columns</p>\n",
       "</div>"
      ],
      "text/plain": [
       "                  0             1           2           3         4    5    6  \\\n",
       "0            Action        Casual       Indie  Simulation  Strategy  NaN  NaN   \n",
       "1      Free to Play         Indie         RPG    Strategy       NaN  NaN  NaN   \n",
       "2            Casual  Free to Play       Indie  Simulation    Sports  NaN  NaN   \n",
       "3            Action     Adventure      Casual         NaN       NaN  NaN  NaN   \n",
       "4               NaN           NaN         NaN         NaN       NaN  NaN  NaN   \n",
       "...             ...           ...         ...         ...       ...  ...  ...   \n",
       "32123        Casual         Indie  Simulation    Strategy       NaN  NaN  NaN   \n",
       "32124        Casual         Indie    Strategy         NaN       NaN  NaN  NaN   \n",
       "32125         Indie        Racing  Simulation         NaN       NaN  NaN  NaN   \n",
       "32126        Casual         Indie         NaN         NaN       NaN  NaN  NaN   \n",
       "32127           NaN           NaN         NaN         NaN       NaN  NaN  NaN   \n",
       "\n",
       "         7    8    9   10  \n",
       "0      NaN  NaN  NaN  NaN  \n",
       "1      NaN  NaN  NaN  NaN  \n",
       "2      NaN  NaN  NaN  NaN  \n",
       "3      NaN  NaN  NaN  NaN  \n",
       "4      NaN  NaN  NaN  NaN  \n",
       "...    ...  ...  ...  ...  \n",
       "32123  NaN  NaN  NaN  NaN  \n",
       "32124  NaN  NaN  NaN  NaN  \n",
       "32125  NaN  NaN  NaN  NaN  \n",
       "32126  NaN  NaN  NaN  NaN  \n",
       "32127  NaN  NaN  NaN  NaN  \n",
       "\n",
       "[32128 rows x 11 columns]"
      ]
     },
     "execution_count": 116,
     "metadata": {},
     "output_type": "execute_result"
    }
   ],
   "source": [
    "df = pd.DataFrame([pd.Series(x) for x in data_games.genres])\n",
    "df"
   ]
  },
  {
   "cell_type": "code",
   "execution_count": 62,
   "metadata": {
    "ExecuteTime": {
     "end_time": "2020-10-06T01:13:48.683088Z",
     "start_time": "2020-10-06T01:13:42.151613Z"
    }
   },
   "outputs": [
    {
     "data": {
      "text/plain": [
       "7223"
      ]
     },
     "execution_count": 62,
     "metadata": {},
     "output_type": "execute_result"
    }
   ],
   "source": [
    "gc.collect()"
   ]
  },
  {
   "cell_type": "markdown",
   "metadata": {},
   "source": [
    "### Exportando Datasets"
   ]
  },
  {
   "cell_type": "code",
   "execution_count": 63,
   "metadata": {
    "ExecuteTime": {
     "end_time": "2020-10-06T01:18:16.558635Z",
     "start_time": "2020-10-06T01:14:39.137506Z"
    }
   },
   "outputs": [],
   "source": [
    "data_reviews.to_csv('data_processed/data_reviews.csv', index=False)\n",
    "data_games.to_csv('data_processed/data_games.csv', index=False)"
   ]
  },
  {
   "cell_type": "markdown",
   "metadata": {},
   "source": [
    "### Consultas"
   ]
  },
  {
   "cell_type": "code",
   "execution_count": 81,
   "metadata": {
    "ExecuteTime": {
     "end_time": "2020-10-06T01:35:00.316951Z",
     "start_time": "2020-10-06T01:35:00.281064Z"
    }
   },
   "outputs": [
    {
     "data": {
      "text/html": [
       "<div>\n",
       "<style scoped>\n",
       "    .dataframe tbody tr th:only-of-type {\n",
       "        vertical-align: middle;\n",
       "    }\n",
       "\n",
       "    .dataframe tbody tr th {\n",
       "        vertical-align: top;\n",
       "    }\n",
       "\n",
       "    .dataframe thead th {\n",
       "        text-align: right;\n",
       "    }\n",
       "</style>\n",
       "<table border=\"1\" class=\"dataframe\">\n",
       "  <thead>\n",
       "    <tr style=\"text-align: right;\">\n",
       "      <th></th>\n",
       "      <th>app_name</th>\n",
       "      <th>url</th>\n",
       "      <th>release_date</th>\n",
       "      <th>tags</th>\n",
       "      <th>price</th>\n",
       "      <th>id</th>\n",
       "      <th>category_price</th>\n",
       "    </tr>\n",
       "  </thead>\n",
       "  <tbody>\n",
       "    <tr>\n",
       "      <th>278</th>\n",
       "      <td>Nancy Drew®: Ransom of the Seven Ships Demo</td>\n",
       "      <td>http://store.steampowered.com/app/31990/Nancy_...</td>\n",
       "      <td>2009-07-21</td>\n",
       "      <td>NaN</td>\n",
       "      <td>NaN</td>\n",
       "      <td>31990</td>\n",
       "      <td>paid</td>\n",
       "    </tr>\n",
       "    <tr>\n",
       "      <th>297</th>\n",
       "      <td>Mini Ninjas Demo</td>\n",
       "      <td>http://store.steampowered.com/app/35050/Mini_N...</td>\n",
       "      <td>2009-08-19</td>\n",
       "      <td>NaN</td>\n",
       "      <td>NaN</td>\n",
       "      <td>35050</td>\n",
       "      <td>paid</td>\n",
       "    </tr>\n",
       "    <tr>\n",
       "      <th>308</th>\n",
       "      <td>Freeze Tag Fun Pack #2</td>\n",
       "      <td>http://store.steampowered.com/app/39392/Freeze...</td>\n",
       "      <td>2009-09-23</td>\n",
       "      <td>NaN</td>\n",
       "      <td>19.99</td>\n",
       "      <td>39392</td>\n",
       "      <td>paid</td>\n",
       "    </tr>\n",
       "    <tr>\n",
       "      <th>309</th>\n",
       "      <td>Freeze Tag Fun Pack #1</td>\n",
       "      <td>http://store.steampowered.com/app/39391/Freeze...</td>\n",
       "      <td>1999-11-30</td>\n",
       "      <td>NaN</td>\n",
       "      <td>19.99</td>\n",
       "      <td>39391</td>\n",
       "      <td>paid</td>\n",
       "    </tr>\n",
       "    <tr>\n",
       "      <th>357</th>\n",
       "      <td>Europa Universalis III: Heir to the Throne</td>\n",
       "      <td>http://store.steampowered.com/app/25806/Europa...</td>\n",
       "      <td>2009-12-15</td>\n",
       "      <td>NaN</td>\n",
       "      <td>9.99</td>\n",
       "      <td>25806</td>\n",
       "      <td>paid</td>\n",
       "    </tr>\n",
       "    <tr>\n",
       "      <th>...</th>\n",
       "      <td>...</td>\n",
       "      <td>...</td>\n",
       "      <td>...</td>\n",
       "      <td>...</td>\n",
       "      <td>...</td>\n",
       "      <td>...</td>\n",
       "      <td>...</td>\n",
       "    </tr>\n",
       "    <tr>\n",
       "      <th>31618</th>\n",
       "      <td>Zenerchi®</td>\n",
       "      <td>http://store.steampowered.com/app/37290/Zenerchi/</td>\n",
       "      <td>2009-08-12</td>\n",
       "      <td>NaN</td>\n",
       "      <td>9.99</td>\n",
       "      <td>37290</td>\n",
       "      <td>paid</td>\n",
       "    </tr>\n",
       "    <tr>\n",
       "      <th>31620</th>\n",
       "      <td>Wedding Dash® 2: Rings Around the World</td>\n",
       "      <td>http://store.steampowered.com/app/37280/Weddin...</td>\n",
       "      <td>2009-08-12</td>\n",
       "      <td>NaN</td>\n",
       "      <td>9.99</td>\n",
       "      <td>37280</td>\n",
       "      <td>paid</td>\n",
       "    </tr>\n",
       "    <tr>\n",
       "      <th>31632</th>\n",
       "      <td>Super Granny Collection</td>\n",
       "      <td>http://store.steampowered.com/app/36270/Super_...</td>\n",
       "      <td>2009-07-17</td>\n",
       "      <td>NaN</td>\n",
       "      <td>14.99</td>\n",
       "      <td>36270</td>\n",
       "      <td>paid</td>\n",
       "    </tr>\n",
       "    <tr>\n",
       "      <th>31645</th>\n",
       "      <td>Bad Rats: the Rats' Revenge Demo</td>\n",
       "      <td>http://store.steampowered.com/app/34910/Bad_Ra...</td>\n",
       "      <td>2009-07-20</td>\n",
       "      <td>NaN</td>\n",
       "      <td>NaN</td>\n",
       "      <td>34910</td>\n",
       "      <td>paid</td>\n",
       "    </tr>\n",
       "    <tr>\n",
       "      <th>31801</th>\n",
       "      <td>LUMINES™ Advance Pack</td>\n",
       "      <td>http://store.steampowered.com/app/11920/LUMINE...</td>\n",
       "      <td>2008-04-18</td>\n",
       "      <td>NaN</td>\n",
       "      <td>7.99</td>\n",
       "      <td>11920</td>\n",
       "      <td>paid</td>\n",
       "    </tr>\n",
       "  </tbody>\n",
       "</table>\n",
       "<p>162 rows × 7 columns</p>\n",
       "</div>"
      ],
      "text/plain": [
       "                                          app_name  \\\n",
       "278    Nancy Drew®: Ransom of the Seven Ships Demo   \n",
       "297                               Mini Ninjas Demo   \n",
       "308                         Freeze Tag Fun Pack #2   \n",
       "309                         Freeze Tag Fun Pack #1   \n",
       "357     Europa Universalis III: Heir to the Throne   \n",
       "...                                            ...   \n",
       "31618                                    Zenerchi®   \n",
       "31620      Wedding Dash® 2: Rings Around the World   \n",
       "31632                      Super Granny Collection   \n",
       "31645             Bad Rats: the Rats' Revenge Demo   \n",
       "31801                        LUMINES™ Advance Pack   \n",
       "\n",
       "                                                     url release_date tags  \\\n",
       "278    http://store.steampowered.com/app/31990/Nancy_...   2009-07-21  NaN   \n",
       "297    http://store.steampowered.com/app/35050/Mini_N...   2009-08-19  NaN   \n",
       "308    http://store.steampowered.com/app/39392/Freeze...   2009-09-23  NaN   \n",
       "309    http://store.steampowered.com/app/39391/Freeze...   1999-11-30  NaN   \n",
       "357    http://store.steampowered.com/app/25806/Europa...   2009-12-15  NaN   \n",
       "...                                                  ...          ...  ...   \n",
       "31618  http://store.steampowered.com/app/37290/Zenerchi/   2009-08-12  NaN   \n",
       "31620  http://store.steampowered.com/app/37280/Weddin...   2009-08-12  NaN   \n",
       "31632  http://store.steampowered.com/app/36270/Super_...   2009-07-17  NaN   \n",
       "31645  http://store.steampowered.com/app/34910/Bad_Ra...   2009-07-20  NaN   \n",
       "31801  http://store.steampowered.com/app/11920/LUMINE...   2008-04-18  NaN   \n",
       "\n",
       "       price     id category_price  \n",
       "278      NaN  31990           paid  \n",
       "297      NaN  35050           paid  \n",
       "308    19.99  39392           paid  \n",
       "309    19.99  39391           paid  \n",
       "357     9.99  25806           paid  \n",
       "...      ...    ...            ...  \n",
       "31618   9.99  37290           paid  \n",
       "31620   9.99  37280           paid  \n",
       "31632  14.99  36270           paid  \n",
       "31645    NaN  34910           paid  \n",
       "31801   7.99  11920           paid  \n",
       "\n",
       "[162 rows x 7 columns]"
      ]
     },
     "execution_count": 81,
     "metadata": {},
     "output_type": "execute_result"
    }
   ],
   "source": [
    "data_games[data_games.tags.isna()==True]"
   ]
  },
  {
   "cell_type": "code",
   "execution_count": 74,
   "metadata": {
    "ExecuteTime": {
     "end_time": "2020-10-06T01:33:06.265557Z",
     "start_time": "2020-10-06T01:33:06.258570Z"
    }
   },
   "outputs": [
    {
     "ename": "SyntaxError",
     "evalue": "invalid syntax (<ipython-input-74-26ed2c405881>, line 5)",
     "output_type": "error",
     "traceback": [
      "\u001b[1;36m  File \u001b[1;32m\"<ipython-input-74-26ed2c405881>\"\u001b[1;36m, line \u001b[1;32m5\u001b[0m\n\u001b[1;33m    converters={'tags': lambda x: [1:-1].replace(\"'\", '').split(', ') if (x not nan) else nan })\u001b[0m\n\u001b[1;37m                                    ^\u001b[0m\n\u001b[1;31mSyntaxError\u001b[0m\u001b[1;31m:\u001b[0m invalid syntax\n"
     ]
    }
   ],
   "source": [
    "new_data_reviews = pd.read_csv('data_processed/data_reviews.csv')\n",
    "\n",
    "# Aqui se convierte cada elemento de tag en una lista\n",
    "new_data_games = pd.read_csv('data_processed/data_games.csv',\n",
    "                             converters={'tags': lambda x: [1:-1].replace(\"'\", '').split(', ') if (x not nan) else nan })"
   ]
  },
  {
   "cell_type": "code",
   "execution_count": 67,
   "metadata": {
    "ExecuteTime": {
     "end_time": "2020-10-06T01:30:12.407473Z",
     "start_time": "2020-10-06T01:30:12.381576Z"
    }
   },
   "outputs": [
    {
     "data": {
      "text/html": [
       "<div>\n",
       "<style scoped>\n",
       "    .dataframe tbody tr th:only-of-type {\n",
       "        vertical-align: middle;\n",
       "    }\n",
       "\n",
       "    .dataframe tbody tr th {\n",
       "        vertical-align: top;\n",
       "    }\n",
       "\n",
       "    .dataframe thead th {\n",
       "        text-align: right;\n",
       "    }\n",
       "</style>\n",
       "<table border=\"1\" class=\"dataframe\">\n",
       "  <thead>\n",
       "    <tr style=\"text-align: right;\">\n",
       "      <th></th>\n",
       "      <th>app_name</th>\n",
       "      <th>url</th>\n",
       "      <th>release_date</th>\n",
       "      <th>tags</th>\n",
       "      <th>price</th>\n",
       "      <th>id</th>\n",
       "      <th>category_price</th>\n",
       "    </tr>\n",
       "  </thead>\n",
       "  <tbody>\n",
       "    <tr>\n",
       "      <th>0</th>\n",
       "      <td>Lost Summoner Kitty</td>\n",
       "      <td>http://store.steampowered.com/app/761140/Lost_...</td>\n",
       "      <td>2018-01-04</td>\n",
       "      <td>[Strategy, Action, Indie, Casual, Simulation]</td>\n",
       "      <td>4.99</td>\n",
       "      <td>761140</td>\n",
       "      <td>paid</td>\n",
       "    </tr>\n",
       "    <tr>\n",
       "      <th>1</th>\n",
       "      <td>Ironbound</td>\n",
       "      <td>http://store.steampowered.com/app/643980/Ironb...</td>\n",
       "      <td>2018-01-04</td>\n",
       "      <td>[Free to Play, Strategy, Indie, RPG, Card Game...</td>\n",
       "      <td>Free To Play</td>\n",
       "      <td>643980</td>\n",
       "      <td>free</td>\n",
       "    </tr>\n",
       "    <tr>\n",
       "      <th>2</th>\n",
       "      <td>Real Pool 3D - Poolians</td>\n",
       "      <td>http://store.steampowered.com/app/670290/Real_...</td>\n",
       "      <td>2017-07-24</td>\n",
       "      <td>[Free to Play, Simulation, Sports, Casual, Ind...</td>\n",
       "      <td>Free to Play</td>\n",
       "      <td>670290</td>\n",
       "      <td>free</td>\n",
       "    </tr>\n",
       "    <tr>\n",
       "      <th>3</th>\n",
       "      <td>弹炸人2222</td>\n",
       "      <td>http://store.steampowered.com/app/767400/2222/</td>\n",
       "      <td>2017-12-07</td>\n",
       "      <td>[Action, Adventure, Casual]</td>\n",
       "      <td>0.99</td>\n",
       "      <td>767400</td>\n",
       "      <td>paid</td>\n",
       "    </tr>\n",
       "    <tr>\n",
       "      <th>4</th>\n",
       "      <td>Log Challenge</td>\n",
       "      <td>http://store.steampowered.com/app/773570/Log_C...</td>\n",
       "      <td>NaN</td>\n",
       "      <td>[Action, Indie, Casual, Sports]</td>\n",
       "      <td>2.99</td>\n",
       "      <td>773570</td>\n",
       "      <td>paid</td>\n",
       "    </tr>\n",
       "  </tbody>\n",
       "</table>\n",
       "</div>"
      ],
      "text/plain": [
       "                  app_name                                                url  \\\n",
       "0      Lost Summoner Kitty  http://store.steampowered.com/app/761140/Lost_...   \n",
       "1                Ironbound  http://store.steampowered.com/app/643980/Ironb...   \n",
       "2  Real Pool 3D - Poolians  http://store.steampowered.com/app/670290/Real_...   \n",
       "3                  弹炸人2222     http://store.steampowered.com/app/767400/2222/   \n",
       "4            Log Challenge  http://store.steampowered.com/app/773570/Log_C...   \n",
       "\n",
       "  release_date                                               tags  \\\n",
       "0   2018-01-04      [Strategy, Action, Indie, Casual, Simulation]   \n",
       "1   2018-01-04  [Free to Play, Strategy, Indie, RPG, Card Game...   \n",
       "2   2017-07-24  [Free to Play, Simulation, Sports, Casual, Ind...   \n",
       "3   2017-12-07                        [Action, Adventure, Casual]   \n",
       "4          NaN                    [Action, Indie, Casual, Sports]   \n",
       "\n",
       "          price      id category_price  \n",
       "0          4.99  761140           paid  \n",
       "1  Free To Play  643980           free  \n",
       "2  Free to Play  670290           free  \n",
       "3          0.99  767400           paid  \n",
       "4          2.99  773570           paid  "
      ]
     },
     "execution_count": 67,
     "metadata": {},
     "output_type": "execute_result"
    }
   ],
   "source": [
    "new_data_games.head()"
   ]
  },
  {
   "cell_type": "code",
   "execution_count": 65,
   "metadata": {
    "ExecuteTime": {
     "end_time": "2020-10-06T01:19:43.574441Z",
     "start_time": "2020-10-06T01:19:43.297031Z"
    }
   },
   "outputs": [
    {
     "data": {
      "text/plain": [
       "app_name             0\n",
       "url                  0\n",
       "release_date      2066\n",
       "tags                 0\n",
       "price             1376\n",
       "id                   0\n",
       "category_price       0\n",
       "dtype: int64"
      ]
     },
     "execution_count": 65,
     "metadata": {},
     "output_type": "execute_result"
    }
   ],
   "source": [
    "new_data_games.isna().sum()"
   ]
  },
  {
   "cell_type": "code",
   "execution_count": 66,
   "metadata": {
    "ExecuteTime": {
     "end_time": "2020-10-06T01:30:07.735156Z",
     "start_time": "2020-10-06T01:30:07.476528Z"
    }
   },
   "outputs": [
    {
     "data": {
      "text/html": [
       "<div>\n",
       "<style scoped>\n",
       "    .dataframe tbody tr th:only-of-type {\n",
       "        vertical-align: middle;\n",
       "    }\n",
       "\n",
       "    .dataframe tbody tr th {\n",
       "        vertical-align: top;\n",
       "    }\n",
       "\n",
       "    .dataframe thead th {\n",
       "        text-align: right;\n",
       "    }\n",
       "</style>\n",
       "<table border=\"1\" class=\"dataframe\">\n",
       "  <thead>\n",
       "    <tr style=\"text-align: right;\">\n",
       "      <th></th>\n",
       "      <th>username</th>\n",
       "      <th>hours</th>\n",
       "      <th>product_id</th>\n",
       "      <th>date</th>\n",
       "      <th>text</th>\n",
       "    </tr>\n",
       "  </thead>\n",
       "  <tbody>\n",
       "    <tr>\n",
       "      <th>0</th>\n",
       "      <td>Chaos Syren</td>\n",
       "      <td>0.1</td>\n",
       "      <td>725280</td>\n",
       "      <td>2017-12-17</td>\n",
       "      <td>This would not be acceptable as an entertainme...</td>\n",
       "    </tr>\n",
       "    <tr>\n",
       "      <th>1</th>\n",
       "      <td>₮ʜᴇ Wᴀʀᴛᴏɴ</td>\n",
       "      <td>51.1</td>\n",
       "      <td>328100</td>\n",
       "      <td>2017-12-27</td>\n",
       "      <td>looks like a facebook game</td>\n",
       "    </tr>\n",
       "    <tr>\n",
       "      <th>2</th>\n",
       "      <td>hello?&lt;</td>\n",
       "      <td>14.6</td>\n",
       "      <td>328100</td>\n",
       "      <td>2017-10-16</td>\n",
       "      <td>Better than Minecraft</td>\n",
       "    </tr>\n",
       "    <tr>\n",
       "      <th>3</th>\n",
       "      <td>Cyderine916</td>\n",
       "      <td>5.0</td>\n",
       "      <td>35140</td>\n",
       "      <td>2018-01-04</td>\n",
       "      <td>I love and idolized Batman and this game is Ma...</td>\n",
       "    </tr>\n",
       "    <tr>\n",
       "      <th>4</th>\n",
       "      <td>DarklyThinking</td>\n",
       "      <td>16.6</td>\n",
       "      <td>35140</td>\n",
       "      <td>2018-01-04</td>\n",
       "      <td>Still worth playing in 2018.\\nProbably my favo...</td>\n",
       "    </tr>\n",
       "  </tbody>\n",
       "</table>\n",
       "</div>"
      ],
      "text/plain": [
       "         username  hours  product_id        date  \\\n",
       "0     Chaos Syren    0.1      725280  2017-12-17   \n",
       "1      ₮ʜᴇ Wᴀʀᴛᴏɴ   51.1      328100  2017-12-27   \n",
       "2         hello?<   14.6      328100  2017-10-16   \n",
       "3     Cyderine916    5.0       35140  2018-01-04   \n",
       "4  DarklyThinking   16.6       35140  2018-01-04   \n",
       "\n",
       "                                                text  \n",
       "0  This would not be acceptable as an entertainme...  \n",
       "1                         looks like a facebook game  \n",
       "2                              Better than Minecraft  \n",
       "3  I love and idolized Batman and this game is Ma...  \n",
       "4  Still worth playing in 2018.\\nProbably my favo...  "
      ]
     },
     "execution_count": 66,
     "metadata": {},
     "output_type": "execute_result"
    }
   ],
   "source": [
    "new_data_reviews.head()"
   ]
  },
  {
   "cell_type": "code",
   "execution_count": 68,
   "metadata": {
    "ExecuteTime": {
     "end_time": "2020-10-06T01:30:28.103186Z",
     "start_time": "2020-10-06T01:30:26.773746Z"
    }
   },
   "outputs": [
    {
     "data": {
      "text/plain": [
       "username        182\n",
       "hours         25707\n",
       "product_id        0\n",
       "date              0\n",
       "text          16184\n",
       "dtype: int64"
      ]
     },
     "execution_count": 68,
     "metadata": {},
     "output_type": "execute_result"
    }
   ],
   "source": [
    "new_data_reviews.isna().sum()"
   ]
  },
  {
   "cell_type": "code",
   "execution_count": 72,
   "metadata": {
    "ExecuteTime": {
     "end_time": "2020-10-06T01:31:29.557644Z",
     "start_time": "2020-10-06T01:31:29.543688Z"
    }
   },
   "outputs": [
    {
     "ename": "NameError",
     "evalue": "name 'null' is not defined",
     "output_type": "error",
     "traceback": [
      "\u001b[1;31m---------------------------------------------------------------------------\u001b[0m",
      "\u001b[1;31mNameError\u001b[0m                                 Traceback (most recent call last)",
      "\u001b[1;32m<ipython-input-72-5a49bed4632b>\u001b[0m in \u001b[0;36m<module>\u001b[1;34m\u001b[0m\n\u001b[1;32m----> 1\u001b[1;33m \u001b[1;33m(\u001b[0m\u001b[0mnew_data_reviews\u001b[0m\u001b[1;33m.\u001b[0m\u001b[0musername\u001b[0m\u001b[1;33m==\u001b[0m\u001b[0mnull\u001b[0m\u001b[1;33m)\u001b[0m\u001b[1;33m.\u001b[0m\u001b[0msum\u001b[0m\u001b[1;33m(\u001b[0m\u001b[1;33m)\u001b[0m\u001b[1;33m\u001b[0m\u001b[1;33m\u001b[0m\u001b[0m\n\u001b[0m",
      "\u001b[1;31mNameError\u001b[0m: name 'null' is not defined"
     ]
    }
   ],
   "source": []
  },
  {
   "cell_type": "markdown",
   "metadata": {},
   "source": [
    "#### Usuarios únicos"
   ]
  },
  {
   "cell_type": "code",
   "execution_count": 63,
   "metadata": {
    "ExecuteTime": {
     "end_time": "2020-10-05T19:38:44.352223Z",
     "start_time": "2020-10-05T19:38:34.172596Z"
    }
   },
   "outputs": [
    {
     "name": "stdout",
     "output_type": "stream",
     "text": [
      "2565919 usuarios únicos\n"
     ]
    }
   ],
   "source": [
    "print(f'{len(data_reviews.username.value_counts())} usuarios únicos')"
   ]
  },
  {
   "cell_type": "markdown",
   "metadata": {},
   "source": [
    "#### Top 10 videojuegos mas populares"
   ]
  },
  {
   "cell_type": "code",
   "execution_count": 65,
   "metadata": {
    "ExecuteTime": {
     "end_time": "2020-10-05T19:39:20.791723Z",
     "start_time": "2020-10-05T19:39:20.231052Z"
    }
   },
   "outputs": [
    {
     "data": {
      "text/html": [
       "<div>\n",
       "<style scoped>\n",
       "    .dataframe tbody tr th:only-of-type {\n",
       "        vertical-align: middle;\n",
       "    }\n",
       "\n",
       "    .dataframe tbody tr th {\n",
       "        vertical-align: top;\n",
       "    }\n",
       "\n",
       "    .dataframe thead th {\n",
       "        text-align: right;\n",
       "    }\n",
       "</style>\n",
       "<table border=\"1\" class=\"dataframe\">\n",
       "  <thead>\n",
       "    <tr style=\"text-align: right;\">\n",
       "      <th></th>\n",
       "      <th>product_id</th>\n",
       "      <th>amount</th>\n",
       "    </tr>\n",
       "  </thead>\n",
       "  <tbody>\n",
       "    <tr>\n",
       "      <th>0</th>\n",
       "      <td>10</td>\n",
       "      <td>350</td>\n",
       "    </tr>\n",
       "    <tr>\n",
       "      <th>1</th>\n",
       "      <td>20</td>\n",
       "      <td>2197</td>\n",
       "    </tr>\n",
       "    <tr>\n",
       "      <th>2</th>\n",
       "      <td>30</td>\n",
       "      <td>1572</td>\n",
       "    </tr>\n",
       "    <tr>\n",
       "      <th>3</th>\n",
       "      <td>40</td>\n",
       "      <td>681</td>\n",
       "    </tr>\n",
       "    <tr>\n",
       "      <th>4</th>\n",
       "      <td>50</td>\n",
       "      <td>2463</td>\n",
       "    </tr>\n",
       "    <tr>\n",
       "      <th>...</th>\n",
       "      <td>...</td>\n",
       "      <td>...</td>\n",
       "    </tr>\n",
       "    <tr>\n",
       "      <th>15466</th>\n",
       "      <td>773650</td>\n",
       "      <td>1</td>\n",
       "    </tr>\n",
       "    <tr>\n",
       "      <th>15467</th>\n",
       "      <td>773900</td>\n",
       "      <td>11</td>\n",
       "    </tr>\n",
       "    <tr>\n",
       "      <th>15468</th>\n",
       "      <td>775460</td>\n",
       "      <td>4</td>\n",
       "    </tr>\n",
       "    <tr>\n",
       "      <th>15469</th>\n",
       "      <td>775690</td>\n",
       "      <td>1</td>\n",
       "    </tr>\n",
       "    <tr>\n",
       "      <th>15470</th>\n",
       "      <td>777950</td>\n",
       "      <td>1</td>\n",
       "    </tr>\n",
       "  </tbody>\n",
       "</table>\n",
       "<p>15471 rows × 2 columns</p>\n",
       "</div>"
      ],
      "text/plain": [
       "       product_id  amount\n",
       "0              10     350\n",
       "1              20    2197\n",
       "2              30    1572\n",
       "3              40     681\n",
       "4              50    2463\n",
       "...           ...     ...\n",
       "15466      773650       1\n",
       "15467      773900      11\n",
       "15468      775460       4\n",
       "15469      775690       1\n",
       "15470      777950       1\n",
       "\n",
       "[15471 rows x 2 columns]"
      ]
     },
     "execution_count": 65,
     "metadata": {},
     "output_type": "execute_result"
    }
   ],
   "source": [
    "amount_by_productId = data_reviews.groupby('product_id').product_id.count().reset_index(name='amount')\n",
    "amount_by_productId"
   ]
  },
  {
   "cell_type": "markdown",
   "metadata": {},
   "source": [
    "Merge entre videojuegos y reviews:"
   ]
  },
  {
   "cell_type": "code",
   "execution_count": 66,
   "metadata": {
    "ExecuteTime": {
     "end_time": "2020-10-05T19:39:21.745963Z",
     "start_time": "2020-10-05T19:39:21.557415Z"
    }
   },
   "outputs": [],
   "source": [
    "merge_reviews_games = pd.merge(amount_by_productId, data_games, left_on='product_id',\n",
    "                               right_on='id').sort_values(by='amount', ascending=False)"
   ]
  },
  {
   "cell_type": "code",
   "execution_count": 67,
   "metadata": {
    "ExecuteTime": {
     "end_time": "2020-10-05T19:39:21.977011Z",
     "start_time": "2020-10-05T19:39:21.971044Z"
    }
   },
   "outputs": [],
   "source": [
    "top10 = merge_reviews_games.head(10)"
   ]
  },
  {
   "cell_type": "code",
   "execution_count": 68,
   "metadata": {
    "ExecuteTime": {
     "end_time": "2020-10-05T19:39:23.099260Z",
     "start_time": "2020-10-05T19:39:23.079307Z"
    }
   },
   "outputs": [],
   "source": [
    "# Configuracion de fuentes\n",
    "\n",
    "fontdict_title = {'fontsize': 17, 'fontweight': 'bold'}\n",
    "fontdict_axis = {'fontsize': 14}"
   ]
  },
  {
   "cell_type": "markdown",
   "metadata": {},
   "source": [
    "Funcion configurada para graficar diagrama de barra con estilos y fuentes"
   ]
  },
  {
   "cell_type": "code",
   "execution_count": 69,
   "metadata": {
    "ExecuteTime": {
     "end_time": "2020-10-05T19:39:23.896214Z",
     "start_time": "2020-10-05T19:39:23.880224Z"
    }
   },
   "outputs": [],
   "source": [
    "def barplot_games(title, df_merged, rotation=20):\n",
    "    plt.figure(figsize=(15, 5))\n",
    "    plt.title(title, fontdict=fontdict_title)\n",
    "    sns.barplot(df_merged.app_name, df_merged.amount, palette='ocean')\n",
    "    plt.xlabel('Videojuegos', fontdict=fontdict_axis)\n",
    "    plt.ylabel('Cantidad de usuarios', fontdict=fontdict_axis)\n",
    "    plt.xticks(rotation=rotation)"
   ]
  },
  {
   "cell_type": "code",
   "execution_count": 70,
   "metadata": {
    "ExecuteTime": {
     "end_time": "2020-10-05T19:39:24.428180Z",
     "start_time": "2020-10-05T19:39:24.402223Z"
    }
   },
   "outputs": [
    {
     "data": {
      "text/html": [
       "<div>\n",
       "<style scoped>\n",
       "    .dataframe tbody tr th:only-of-type {\n",
       "        vertical-align: middle;\n",
       "    }\n",
       "\n",
       "    .dataframe tbody tr th {\n",
       "        vertical-align: top;\n",
       "    }\n",
       "\n",
       "    .dataframe thead th {\n",
       "        text-align: right;\n",
       "    }\n",
       "</style>\n",
       "<table border=\"1\" class=\"dataframe\">\n",
       "  <thead>\n",
       "    <tr style=\"text-align: right;\">\n",
       "      <th></th>\n",
       "      <th>product_id</th>\n",
       "      <th>amount</th>\n",
       "      <th>app_name</th>\n",
       "      <th>url</th>\n",
       "      <th>release_date</th>\n",
       "      <th>tags</th>\n",
       "      <th>price</th>\n",
       "      <th>id</th>\n",
       "      <th>category_price</th>\n",
       "    </tr>\n",
       "  </thead>\n",
       "  <tbody>\n",
       "    <tr>\n",
       "      <th>19</th>\n",
       "      <td>440</td>\n",
       "      <td>129697</td>\n",
       "      <td>Team Fortress 2</td>\n",
       "      <td>http://store.steampowered.com/app/440/Team_For...</td>\n",
       "      <td>2007-10-10</td>\n",
       "      <td>[Free to Play, Multiplayer, FPS, Action, Shoot...</td>\n",
       "      <td>Free to Play</td>\n",
       "      <td>440</td>\n",
       "      <td>free</td>\n",
       "    </tr>\n",
       "    <tr>\n",
       "      <th>2219</th>\n",
       "      <td>252490</td>\n",
       "      <td>72339</td>\n",
       "      <td>Rust</td>\n",
       "      <td>http://store.steampowered.com/app/252490/Rust/</td>\n",
       "      <td>2013-12-11</td>\n",
       "      <td>[Early Access, Survival, Crafting, Multiplayer...</td>\n",
       "      <td>19.99</td>\n",
       "      <td>252490</td>\n",
       "      <td>paid</td>\n",
       "    </tr>\n",
       "    <tr>\n",
       "      <th>1003</th>\n",
       "      <td>49520</td>\n",
       "      <td>52471</td>\n",
       "      <td>Borderlands 2</td>\n",
       "      <td>http://store.steampowered.com/app/49520/Border...</td>\n",
       "      <td>2012-09-17</td>\n",
       "      <td>[FPS, Co-op, Action, RPG, Loot, Shooter, Open ...</td>\n",
       "      <td>19.99</td>\n",
       "      <td>49520</td>\n",
       "      <td>paid</td>\n",
       "    </tr>\n",
       "    <tr>\n",
       "      <th>6141</th>\n",
       "      <td>377160</td>\n",
       "      <td>49760</td>\n",
       "      <td>Fallout 4</td>\n",
       "      <td>http://store.steampowered.com/app/377160/Fallo...</td>\n",
       "      <td>2015-11-09</td>\n",
       "      <td>[Open World, Post-apocalyptic, Exploration, Si...</td>\n",
       "      <td>29.99</td>\n",
       "      <td>377160</td>\n",
       "      <td>paid</td>\n",
       "    </tr>\n",
       "    <tr>\n",
       "      <th>3467</th>\n",
       "      <td>301520</td>\n",
       "      <td>46985</td>\n",
       "      <td>Robocraft</td>\n",
       "      <td>http://store.steampowered.com/app/301520/Roboc...</td>\n",
       "      <td>2017-08-24</td>\n",
       "      <td>[Free to Play, Robots, Building, Multiplayer, ...</td>\n",
       "      <td>Free to Play</td>\n",
       "      <td>301520</td>\n",
       "      <td>free</td>\n",
       "    </tr>\n",
       "    <tr>\n",
       "      <th>2693</th>\n",
       "      <td>271590</td>\n",
       "      <td>43336</td>\n",
       "      <td>Grand Theft Auto V</td>\n",
       "      <td>http://store.steampowered.com/app/271590/Grand...</td>\n",
       "      <td>2015-04-14</td>\n",
       "      <td>[Open World, Action, Multiplayer, First-Person...</td>\n",
       "      <td>39.99</td>\n",
       "      <td>271590</td>\n",
       "      <td>paid</td>\n",
       "    </tr>\n",
       "    <tr>\n",
       "      <th>1660</th>\n",
       "      <td>221100</td>\n",
       "      <td>41603</td>\n",
       "      <td>DayZ</td>\n",
       "      <td>http://store.steampowered.com/app/221100/DayZ/</td>\n",
       "      <td>2013-12-16</td>\n",
       "      <td>[Early Access, Survival, Zombies, Open World, ...</td>\n",
       "      <td>34.99</td>\n",
       "      <td>221100</td>\n",
       "      <td>paid</td>\n",
       "    </tr>\n",
       "    <tr>\n",
       "      <th>6684</th>\n",
       "      <td>391540</td>\n",
       "      <td>41504</td>\n",
       "      <td>Undertale</td>\n",
       "      <td>http://store.steampowered.com/app/391540/Under...</td>\n",
       "      <td>2015-09-15</td>\n",
       "      <td>[Great Soundtrack, Story Rich, Choices Matter,...</td>\n",
       "      <td>9.99</td>\n",
       "      <td>391540</td>\n",
       "      <td>paid</td>\n",
       "    </tr>\n",
       "    <tr>\n",
       "      <th>1798</th>\n",
       "      <td>230410</td>\n",
       "      <td>40138</td>\n",
       "      <td>Warframe</td>\n",
       "      <td>http://store.steampowered.com/app/230410/Warfr...</td>\n",
       "      <td>2013-03-25</td>\n",
       "      <td>[Free to Play, Action, Co-op, Multiplayer, Thi...</td>\n",
       "      <td>Free to Play</td>\n",
       "      <td>230410</td>\n",
       "      <td>free</td>\n",
       "    </tr>\n",
       "    <tr>\n",
       "      <th>22</th>\n",
       "      <td>620</td>\n",
       "      <td>39966</td>\n",
       "      <td>Portal 2</td>\n",
       "      <td>http://store.steampowered.com/app/620/Portal_2/</td>\n",
       "      <td>2011-04-18</td>\n",
       "      <td>[Puzzle, Co-op, First-Person, Sci-fi, Comedy, ...</td>\n",
       "      <td>19.99</td>\n",
       "      <td>620</td>\n",
       "      <td>paid</td>\n",
       "    </tr>\n",
       "  </tbody>\n",
       "</table>\n",
       "</div>"
      ],
      "text/plain": [
       "      product_id  amount            app_name  \\\n",
       "19           440  129697     Team Fortress 2   \n",
       "2219      252490   72339                Rust   \n",
       "1003       49520   52471       Borderlands 2   \n",
       "6141      377160   49760           Fallout 4   \n",
       "3467      301520   46985           Robocraft   \n",
       "2693      271590   43336  Grand Theft Auto V   \n",
       "1660      221100   41603                DayZ   \n",
       "6684      391540   41504           Undertale   \n",
       "1798      230410   40138            Warframe   \n",
       "22           620   39966            Portal 2   \n",
       "\n",
       "                                                    url release_date  \\\n",
       "19    http://store.steampowered.com/app/440/Team_For...   2007-10-10   \n",
       "2219     http://store.steampowered.com/app/252490/Rust/   2013-12-11   \n",
       "1003  http://store.steampowered.com/app/49520/Border...   2012-09-17   \n",
       "6141  http://store.steampowered.com/app/377160/Fallo...   2015-11-09   \n",
       "3467  http://store.steampowered.com/app/301520/Roboc...   2017-08-24   \n",
       "2693  http://store.steampowered.com/app/271590/Grand...   2015-04-14   \n",
       "1660     http://store.steampowered.com/app/221100/DayZ/   2013-12-16   \n",
       "6684  http://store.steampowered.com/app/391540/Under...   2015-09-15   \n",
       "1798  http://store.steampowered.com/app/230410/Warfr...   2013-03-25   \n",
       "22      http://store.steampowered.com/app/620/Portal_2/   2011-04-18   \n",
       "\n",
       "                                                   tags         price      id  \\\n",
       "19    [Free to Play, Multiplayer, FPS, Action, Shoot...  Free to Play     440   \n",
       "2219  [Early Access, Survival, Crafting, Multiplayer...         19.99  252490   \n",
       "1003  [FPS, Co-op, Action, RPG, Loot, Shooter, Open ...         19.99   49520   \n",
       "6141  [Open World, Post-apocalyptic, Exploration, Si...         29.99  377160   \n",
       "3467  [Free to Play, Robots, Building, Multiplayer, ...  Free to Play  301520   \n",
       "2693  [Open World, Action, Multiplayer, First-Person...         39.99  271590   \n",
       "1660  [Early Access, Survival, Zombies, Open World, ...         34.99  221100   \n",
       "6684  [Great Soundtrack, Story Rich, Choices Matter,...          9.99  391540   \n",
       "1798  [Free to Play, Action, Co-op, Multiplayer, Thi...  Free to Play  230410   \n",
       "22    [Puzzle, Co-op, First-Person, Sci-fi, Comedy, ...         19.99     620   \n",
       "\n",
       "     category_price  \n",
       "19             free  \n",
       "2219           paid  \n",
       "1003           paid  \n",
       "6141           paid  \n",
       "3467           free  \n",
       "2693           paid  \n",
       "1660           paid  \n",
       "6684           paid  \n",
       "1798           free  \n",
       "22             paid  "
      ]
     },
     "execution_count": 70,
     "metadata": {},
     "output_type": "execute_result"
    }
   ],
   "source": [
    "top10"
   ]
  },
  {
   "cell_type": "code",
   "execution_count": 71,
   "metadata": {
    "ExecuteTime": {
     "end_time": "2020-10-05T19:39:25.100931Z",
     "start_time": "2020-10-05T19:39:24.790767Z"
    }
   },
   "outputs": [
    {
     "data": {
      "image/png": "[encoded data removed]",
      "text/plain": [
       "<Figure size 1080x360 with 1 Axes>"
      ]
     },
     "metadata": {},
     "output_type": "display_data"
    }
   ],
   "source": [
    "barplot_games('Top 10 Mas jugados', top10)"
   ]
  },
  {
   "cell_type": "markdown",
   "metadata": {},
   "source": [
    "#### Videojuego mas popular"
   ]
  },
  {
   "cell_type": "code",
   "execution_count": 72,
   "metadata": {
    "ExecuteTime": {
     "end_time": "2020-10-05T19:39:25.394394Z",
     "start_time": "2020-10-05T19:39:25.389415Z"
    }
   },
   "outputs": [],
   "source": [
    "tail10 = merge_reviews_games.tail(10)"
   ]
  },
  {
   "cell_type": "code",
   "execution_count": 73,
   "metadata": {
    "ExecuteTime": {
     "end_time": "2020-10-05T19:39:26.104405Z",
     "start_time": "2020-10-05T19:39:25.682836Z"
    }
   },
   "outputs": [
    {
     "name": "stderr",
     "output_type": "stream",
     "text": [
      "C:\\Users\\Erick\\anaconda3\\lib\\site-packages\\matplotlib\\backends\\backend_agg.py:211: RuntimeWarning: Glyph 32043 missing from current font.\n",
      "  font.set_text(s, 0.0, flags=flags)\n",
      "C:\\Users\\Erick\\anaconda3\\lib\\site-packages\\matplotlib\\backends\\backend_agg.py:180: RuntimeWarning: Glyph 32043 missing from current font.\n",
      "  font.set_text(s, 0, flags=flags)\n"
     ]
    },
    {
     "data": {
      "image/png": "[encoded data removed]",
      "text/plain": [
       "<Figure size 1080x360 with 1 Axes>"
      ]
     },
     "metadata": {},
     "output_type": "display_data"
    }
   ],
   "source": [
    "barplot_games('Videojuegos menos populares', tail10, rotation=80)"
   ]
  },
  {
   "cell_type": "markdown",
   "metadata": {
    "ExecuteTime": {
     "end_time": "2020-09-29T04:21:23.165816Z",
     "start_time": "2020-09-29T04:21:23.157836Z"
    }
   },
   "source": [
    "#### Top 10 Videojuegos de accion mas populares"
   ]
  },
  {
   "cell_type": "code",
   "execution_count": 74,
   "metadata": {
    "ExecuteTime": {
     "end_time": "2020-10-05T19:39:26.406750Z",
     "start_time": "2020-10-05T19:39:26.396751Z"
    }
   },
   "outputs": [],
   "source": [
    "def games_by_tag(tag):\n",
    "    return pd.DataFrame(item for item in data_games.itertuples()\n",
    "                         if (tag in item.tags))"
   ]
  },
  {
   "cell_type": "code",
   "execution_count": 75,
   "metadata": {
    "ExecuteTime": {
     "end_time": "2020-10-05T19:39:28.156634Z",
     "start_time": "2020-10-05T19:39:26.872525Z"
    }
   },
   "outputs": [
    {
     "data": {
      "text/html": [
       "<div>\n",
       "<style scoped>\n",
       "    .dataframe tbody tr th:only-of-type {\n",
       "        vertical-align: middle;\n",
       "    }\n",
       "\n",
       "    .dataframe tbody tr th {\n",
       "        vertical-align: top;\n",
       "    }\n",
       "\n",
       "    .dataframe thead th {\n",
       "        text-align: right;\n",
       "    }\n",
       "</style>\n",
       "<table border=\"1\" class=\"dataframe\">\n",
       "  <thead>\n",
       "    <tr style=\"text-align: right;\">\n",
       "      <th></th>\n",
       "      <th>Index</th>\n",
       "      <th>app_name</th>\n",
       "      <th>url</th>\n",
       "      <th>release_date</th>\n",
       "      <th>tags</th>\n",
       "      <th>price</th>\n",
       "      <th>id</th>\n",
       "      <th>category_price</th>\n",
       "    </tr>\n",
       "  </thead>\n",
       "  <tbody>\n",
       "    <tr>\n",
       "      <th>0</th>\n",
       "      <td>0</td>\n",
       "      <td>Lost Summoner Kitty</td>\n",
       "      <td>http://store.steampowered.com/app/761140/Lost_...</td>\n",
       "      <td>2018-01-04</td>\n",
       "      <td>[Strategy, Action, Indie, Casual, Simulation]</td>\n",
       "      <td>4.99</td>\n",
       "      <td>761140</td>\n",
       "      <td>paid</td>\n",
       "    </tr>\n",
       "    <tr>\n",
       "      <th>1</th>\n",
       "      <td>3</td>\n",
       "      <td>弹炸人2222</td>\n",
       "      <td>http://store.steampowered.com/app/767400/2222/</td>\n",
       "      <td>2017-12-07</td>\n",
       "      <td>[Action, Adventure, Casual]</td>\n",
       "      <td>0.99</td>\n",
       "      <td>767400</td>\n",
       "      <td>paid</td>\n",
       "    </tr>\n",
       "    <tr>\n",
       "      <th>2</th>\n",
       "      <td>4</td>\n",
       "      <td>Log Challenge</td>\n",
       "      <td>http://store.steampowered.com/app/773570/Log_C...</td>\n",
       "      <td>NaN</td>\n",
       "      <td>[Action, Indie, Casual, Sports]</td>\n",
       "      <td>2.99</td>\n",
       "      <td>773570</td>\n",
       "      <td>paid</td>\n",
       "    </tr>\n",
       "    <tr>\n",
       "      <th>3</th>\n",
       "      <td>5</td>\n",
       "      <td>Battle Royale Trainer</td>\n",
       "      <td>http://store.steampowered.com/app/772540/Battl...</td>\n",
       "      <td>2018-01-04</td>\n",
       "      <td>[Action, Adventure, Simulation, FPS, Shooter, ...</td>\n",
       "      <td>3.99</td>\n",
       "      <td>772540</td>\n",
       "      <td>paid</td>\n",
       "    </tr>\n",
       "    <tr>\n",
       "      <th>4</th>\n",
       "      <td>10</td>\n",
       "      <td>Uncanny Islands</td>\n",
       "      <td>http://store.steampowered.com/app/768570/Uncan...</td>\n",
       "      <td>Soon..</td>\n",
       "      <td>[Early Access, Action, Indie, Simulation, Surv...</td>\n",
       "      <td>NaN</td>\n",
       "      <td>768570</td>\n",
       "      <td>paid</td>\n",
       "    </tr>\n",
       "  </tbody>\n",
       "</table>\n",
       "</div>"
      ],
      "text/plain": [
       "   Index               app_name  \\\n",
       "0      0    Lost Summoner Kitty   \n",
       "1      3                弹炸人2222   \n",
       "2      4          Log Challenge   \n",
       "3      5  Battle Royale Trainer   \n",
       "4     10        Uncanny Islands   \n",
       "\n",
       "                                                 url release_date  \\\n",
       "0  http://store.steampowered.com/app/761140/Lost_...   2018-01-04   \n",
       "1     http://store.steampowered.com/app/767400/2222/   2017-12-07   \n",
       "2  http://store.steampowered.com/app/773570/Log_C...          NaN   \n",
       "3  http://store.steampowered.com/app/772540/Battl...   2018-01-04   \n",
       "4  http://store.steampowered.com/app/768570/Uncan...       Soon..   \n",
       "\n",
       "                                                tags price      id  \\\n",
       "0      [Strategy, Action, Indie, Casual, Simulation]  4.99  761140   \n",
       "1                        [Action, Adventure, Casual]  0.99  767400   \n",
       "2                    [Action, Indie, Casual, Sports]  2.99  773570   \n",
       "3  [Action, Adventure, Simulation, FPS, Shooter, ...  3.99  772540   \n",
       "4  [Early Access, Action, Indie, Simulation, Surv...   NaN  768570   \n",
       "\n",
       "  category_price  \n",
       "0           paid  \n",
       "1           paid  \n",
       "2           paid  \n",
       "3           paid  \n",
       "4           paid  "
      ]
     },
     "execution_count": 75,
     "metadata": {},
     "output_type": "execute_result"
    }
   ],
   "source": [
    "df_items = games_by_tag('Action')\n",
    "df_items.head()"
   ]
  },
  {
   "cell_type": "code",
   "execution_count": 76,
   "metadata": {
    "ExecuteTime": {
     "end_time": "2020-10-05T19:39:28.190546Z",
     "start_time": "2020-10-05T19:39:28.160600Z"
    }
   },
   "outputs": [],
   "source": [
    "merge_action_games = pd.merge(amount_by_productId, df_items, left_on='product_id',\n",
    "                              right_on='id').sort_values(by='amount', ascending=False).head(10)"
   ]
  },
  {
   "cell_type": "code",
   "execution_count": 77,
   "metadata": {
    "ExecuteTime": {
     "end_time": "2020-10-05T19:39:28.507697Z",
     "start_time": "2020-10-05T19:39:28.193537Z"
    }
   },
   "outputs": [
    {
     "data": {
      "image/png": "[encoded data removed]",
      "text/plain": [
       "<Figure size 1080x360 with 1 Axes>"
      ]
     },
     "metadata": {},
     "output_type": "display_data"
    }
   ],
   "source": [
    "barplot_games('Top 10 videojuegos de accion', merge_action_games)"
   ]
  },
  {
   "cell_type": "markdown",
   "metadata": {},
   "source": [
    "#### Videojuegos RPG mas populares"
   ]
  },
  {
   "cell_type": "code",
   "execution_count": 78,
   "metadata": {
    "ExecuteTime": {
     "end_time": "2020-10-05T19:39:28.606436Z",
     "start_time": "2020-10-05T19:39:28.509664Z"
    }
   },
   "outputs": [],
   "source": [
    "df_items = games_by_tag('RPG')\n",
    "merge_adventure_games = pd.merge(amount_by_productId, df_items, left_on='product_id',\n",
    "                              right_on='id').sort_values(by='amount', ascending=False).head(10)"
   ]
  },
  {
   "cell_type": "code",
   "execution_count": 79,
   "metadata": {
    "ExecuteTime": {
     "end_time": "2020-10-05T19:39:28.874719Z",
     "start_time": "2020-10-05T19:39:28.608401Z"
    }
   },
   "outputs": [
    {
     "data": {
      "image/png": "[encoded data removed]",
      "text/plain": [
       "<Figure size 1080x360 with 1 Axes>"
      ]
     },
     "metadata": {},
     "output_type": "display_data"
    }
   ],
   "source": [
    "barplot_games('Top 10 videojuegos RPG', merge_adventure_games)"
   ]
  },
  {
   "cell_type": "markdown",
   "metadata": {},
   "source": [
    "#### Videojuegos de deporte mas jugados"
   ]
  },
  {
   "cell_type": "code",
   "execution_count": 80,
   "metadata": {
    "ExecuteTime": {
     "end_time": "2020-10-05T19:39:29.222199Z",
     "start_time": "2020-10-05T19:39:29.146323Z"
    }
   },
   "outputs": [],
   "source": [
    "df_items = games_by_tag('Sports')\n",
    "merge_sport_games = pd.merge(amount_by_productId, df_items, left_on='product_id',\n",
    "                              right_on='id').sort_values(by='amount', ascending=False).head(10)"
   ]
  },
  {
   "cell_type": "code",
   "execution_count": 81,
   "metadata": {
    "ExecuteTime": {
     "end_time": "2020-10-05T19:39:29.738005Z",
     "start_time": "2020-10-05T19:39:29.421827Z"
    }
   },
   "outputs": [
    {
     "data": {
      "image/png": "[encoded data removed]",
      "text/plain": [
       "<Figure size 1080x360 with 1 Axes>"
      ]
     },
     "metadata": {},
     "output_type": "display_data"
    }
   ],
   "source": [
    "barplot_games('Top 10 videojuegos de deporte', merge_sport_games, rotation=70)"
   ]
  },
  {
   "cell_type": "markdown",
   "metadata": {},
   "source": [
    "#### Videojuegos de pago mas jugados"
   ]
  },
  {
   "cell_type": "code",
   "execution_count": 82,
   "metadata": {
    "ExecuteTime": {
     "end_time": "2020-10-05T19:39:30.223253Z",
     "start_time": "2020-10-05T19:39:30.158391Z"
    }
   },
   "outputs": [],
   "source": [
    "df_items = data_games.query('category_price==\"paid\"')\n",
    "merge_paid_games = pd.merge(amount_by_productId, df_items, left_on='product_id',\n",
    "                            right_on='id').sort_values(by='amount', ascending=False).head(10)"
   ]
  },
  {
   "cell_type": "code",
   "execution_count": 83,
   "metadata": {
    "ExecuteTime": {
     "end_time": "2020-10-05T19:39:31.446232Z",
     "start_time": "2020-10-05T19:39:31.198859Z"
    }
   },
   "outputs": [
    {
     "data": {
      "image/png": "[encoded data removed]",
      "text/plain": [
       "<Figure size 1080x360 with 1 Axes>"
      ]
     },
     "metadata": {},
     "output_type": "display_data"
    }
   ],
   "source": [
    "barplot_games('Videojuegos de pago mas populares', merge_paid_games)"
   ]
  },
  {
   "cell_type": "markdown",
   "metadata": {},
   "source": [
    "#### Videojuegos gratis mas jugados"
   ]
  },
  {
   "cell_type": "code",
   "execution_count": 84,
   "metadata": {
    "ExecuteTime": {
     "end_time": "2020-10-05T19:39:31.898985Z",
     "start_time": "2020-10-05T19:39:31.869096Z"
    }
   },
   "outputs": [],
   "source": [
    "df_items = data_games.query('category_price==\"free\"')\n",
    "merge_free_games = pd.merge(amount_by_productId, df_items, left_on='product_id',\n",
    "                              right_on='id').sort_values(by='amount', ascending=False).head(10)"
   ]
  },
  {
   "cell_type": "code",
   "execution_count": 85,
   "metadata": {
    "ExecuteTime": {
     "end_time": "2020-10-05T19:39:32.480760Z",
     "start_time": "2020-10-05T19:39:32.193492Z"
    }
   },
   "outputs": [
    {
     "data": {
      "image/png": "[encoded data removed]",
      "text/plain": [
       "<Figure size 1080x360 with 1 Axes>"
      ]
     },
     "metadata": {},
     "output_type": "display_data"
    }
   ],
   "source": [
    "barplot_games('Videojuegos gratis mas populares', merge_free_games)"
   ]
  },
  {
   "cell_type": "markdown",
   "metadata": {},
   "source": [
    "#### Cantidad de usuarios por precio de videojuego"
   ]
  },
  {
   "cell_type": "code",
   "execution_count": 86,
   "metadata": {
    "ExecuteTime": {
     "end_time": "2020-10-05T19:39:33.077119Z",
     "start_time": "2020-10-05T19:39:33.044210Z"
    }
   },
   "outputs": [
    {
     "data": {
      "text/html": [
       "<div>\n",
       "<style scoped>\n",
       "    .dataframe tbody tr th:only-of-type {\n",
       "        vertical-align: middle;\n",
       "    }\n",
       "\n",
       "    .dataframe tbody tr th {\n",
       "        vertical-align: top;\n",
       "    }\n",
       "\n",
       "    .dataframe thead th {\n",
       "        text-align: right;\n",
       "    }\n",
       "</style>\n",
       "<table border=\"1\" class=\"dataframe\">\n",
       "  <thead>\n",
       "    <tr style=\"text-align: right;\">\n",
       "      <th></th>\n",
       "      <th>category_price</th>\n",
       "      <th>total_amount</th>\n",
       "    </tr>\n",
       "  </thead>\n",
       "  <tbody>\n",
       "    <tr>\n",
       "      <th>1</th>\n",
       "      <td>paid</td>\n",
       "      <td>0.811751</td>\n",
       "    </tr>\n",
       "    <tr>\n",
       "      <th>0</th>\n",
       "      <td>free</td>\n",
       "      <td>0.188249</td>\n",
       "    </tr>\n",
       "  </tbody>\n",
       "</table>\n",
       "</div>"
      ],
      "text/plain": [
       "  category_price  total_amount\n",
       "1           paid      0.811751\n",
       "0           free      0.188249"
      ]
     },
     "execution_count": 86,
     "metadata": {},
     "output_type": "execute_result"
    }
   ],
   "source": [
    "sum_amount_categories = (merge_reviews_games.groupby('category_price').amount.sum()\n",
    "                         / merge_reviews_games.amount.sum()).to_frame(name='total_amount').reset_index()\n",
    "sum_amount_categories.sort_values(\n",
    "    by='total_amount', ascending=False, inplace=True)\n",
    "sum_amount_categories"
   ]
  },
  {
   "cell_type": "code",
   "execution_count": 87,
   "metadata": {
    "ExecuteTime": {
     "end_time": "2020-10-05T19:39:35.046849Z",
     "start_time": "2020-10-05T19:39:34.882305Z"
    }
   },
   "outputs": [
    {
     "data": {
      "text/plain": [
       "Text(0, 0.5, '% Usuarios')"
      ]
     },
     "execution_count": 87,
     "metadata": {},
     "output_type": "execute_result"
    },
    {
     "data": {
      "image/png": "[encoded data removed]",
      "text/plain": [
       "<Figure size 504x360 with 1 Axes>"
      ]
     },
     "metadata": {},
     "output_type": "display_data"
    }
   ],
   "source": [
    "plt.figure(figsize=(7, 5))\n",
    "plt.title('% Usuarios por precio', fontdict=fontdict_title)\n",
    "sns.barplot(x='category_price', y='total_amount',\n",
    "            data=sum_amount_categories, palette='mako')\n",
    "plt.xlabel('Categoria de precios', fontdict=fontdict_axis)\n",
    "plt.ylabel('% Usuarios', fontdict=fontdict_axis)"
   ]
  },
  {
   "cell_type": "markdown",
   "metadata": {},
   "source": [
    "#### Algo con series de tiempo"
   ]
  },
  {
   "cell_type": "code",
   "execution_count": null,
   "metadata": {},
   "outputs": [],
   "source": []
  },
  {
   "cell_type": "markdown",
   "metadata": {},
   "source": [
    "#### Algo con NPL"
   ]
  },
  {
   "cell_type": "code",
   "execution_count": null,
   "metadata": {},
   "outputs": [],
   "source": []
  },
  {
   "cell_type": "markdown",
   "metadata": {},
   "source": [
    "**Liberando memoria**"
   ]
  },
  {
   "cell_type": "code",
   "execution_count": 88,
   "metadata": {
    "ExecuteTime": {
     "end_time": "2020-10-05T19:39:40.010878Z",
     "start_time": "2020-10-05T19:39:39.879230Z"
    }
   },
   "outputs": [
    {
     "data": {
      "text/plain": [
       "18877"
      ]
     },
     "execution_count": 88,
     "metadata": {},
     "output_type": "execute_result"
    }
   ],
   "source": [
    "gc.collect()"
   ]
  },
  {
   "cell_type": "markdown",
   "metadata": {},
   "source": [
    "## Sistema de recomendacion"
   ]
  },
  {
   "cell_type": "code",
   "execution_count": null,
   "metadata": {},
   "outputs": [],
   "source": []
  }
 ],
 "metadata": {
  "colab": {
   "collapsed_sections": [],
   "name": "DS_Proyecto_03_SR.ipynb",
   "provenance": []
  },
  "kernelspec": {
   "display_name": "Python 3",
   "language": "python",
   "name": "python3"
  },
  "language_info": {
   "codemirror_mode": {
    "name": "ipython",
    "version": 3
   },
   "file_extension": ".py",
   "mimetype": "text/x-python",
   "name": "python",
   "nbconvert_exporter": "python",
   "pygments_lexer": "ipython3",
   "version": "3.7.6"
  },
  "toc": {
   "base_numbering": 1,
   "nav_menu": {},
   "number_sections": true,
   "sideBar": true,
   "skip_h1_title": false,
   "title_cell": "Table of Contents",
   "title_sidebar": "Contents",
   "toc_cell": false,
   "toc_position": {
    "height": "calc(100% - 180px)",
    "left": "10px",
    "top": "150px",
    "width": "307.2px"
   },
   "toc_section_display": true,
   "toc_window_display": true
  }
 },
 "nbformat": 4,
 "nbformat_minor": 1
}
