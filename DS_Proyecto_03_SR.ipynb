{
 "cells": [
  {
   "cell_type": "markdown",
   "metadata": {
    "colab_type": "text",
    "id": "gzJLet17WTzh"
   },
   "source": [
    "# Proyecto 03 - Sistemas de Recomendación\n",
    "\n",
    "## Dataset: STEAM\n",
    "\n",
    "**Recuerda descargar el dataset de [aquí](https://github.com/kang205/SASRec). Son dos archivos, uno de calificaciones y otro de información sobre los juegos.**\n",
    "\n",
    "En este notebook te dejamos unas celdas para que puedas comenzar a trabajar con este dataset. Sin embargo, **deberás** modificarlas para hacer un mejor manejo de datos. Algunas cosas a las que deberás prestar atención (tal vez no a todas):\n",
    "1. Tipos de datos: elige tipos de datos apropiados para cada columna.\n",
    "2. Descartar columnas poco informativas.\n",
    "3. Guardar en memoria datasets preprocesados para no tener que repetir código que tarde en correr.\n",
    "\n",
    "### Exploración de datos\n",
    "\n",
    "Dedícale un buen tiempo a hacer un Análisis Exploratorio de Datos. Elige preguntas que creas que puedas responder con este dataset. Por ejemplo, ¿cuáles son los juegos más populares?¿Y los menos populares?\n",
    "\n",
    "### Filtro Colaborativo\n",
    "\n",
    "Deberás implementar un sistema de recomendación colaborativo para este dataset. Ten en cuenta:\n",
    "\n",
    "1. Haz todas las transformaciones de datos que consideres necesarias. Justifica.\n",
    "1. Evalúa de forma apropiada sus resultados. Justifica la métrica elegida.\n",
    "1. Elige un modelo benchmark y compara tus resultados con este modelo.\n",
    "1. Optimiza los hiperparámetros de tu modelo.\n",
    "\n",
    "Puedes implementar un filtro colaborativo a partir de la similitud coseno o índice de Jaccard. ¿Puedes utilizar los métodos de la librería Surprise? Si no es así, busca implementaciones (por ejemplo, nuevas librerías) que sean apropiadas.\n",
    "\n",
    "Para comenzar a trabajar, puedes asumir que cada entrada es un enlace entre una persona usuaria y un item, **independientemente** de si la crítica es buena o mala. \n",
    "\n",
    "### Para pensar, investigar y, opcionalmente, implementar\n",
    "1. ¿Cómo harías para ponerle un valor a la calificación?\n",
    "1. ¿Cómo harías para agregar contenido? Por ejemplo, cuentas con el género, precio, fecha de lanzamiento y más información de los juegos.\n",
    "1. ¿Hay algo que te gustaría investigar o probar?\n",
    "\n",
    "### **¡Tómate tiempo para investigar y leer mucho!**"
   ]
  },
  {
   "cell_type": "code",
   "execution_count": null,
   "metadata": {
    "ExecuteTime": {
     "end_time": "2020-10-24T02:46:07.251255Z",
     "start_time": "2020-10-24T02:46:07.245273Z"
    }
   },
   "outputs": [],
   "source": [
    "import gzip\n",
    "import pandas as pd\n",
    "import numpy as np\n",
    "import itertools\n",
    "import plotly.express as px\n",
    "import plotly.graph_objects as go\n",
    "import missingno as msno\n",
    "from time import strptime\n",
    "import datetime\n",
    "import re\n",
    "import nltk\n",
    "from nltk.stem import WordNetLemmatizer\n",
    "from wordcloud import WordCloud, ImageColorGenerator\n",
    "import matplotlib.pyplot as plt\n",
    "from PIL import Image\n",
    "from scipy.ndimage import gaussian_gradient_magnitude"
   ]
  },
  {
   "cell_type": "code",
   "execution_count": null,
   "metadata": {
    "ExecuteTime": {
     "end_time": "2020-10-23T03:53:44.665279Z",
     "start_time": "2020-10-23T03:53:44.661290Z"
    },
    "colab": {},
    "colab_type": "code",
    "id": "lWZhtUxEWTzj"
   },
   "outputs": [],
   "source": [
    "def parse(path):\n",
    "    g = gzip.open(path, 'r')\n",
    "    for l in g:\n",
    "        yield eval(l)"
   ]
  },
  {
   "cell_type": "markdown",
   "metadata": {
    "colab_type": "text",
    "id": "BmEM25k4WTzw"
   },
   "source": [
    "#### Reviews"
   ]
  },
  {
   "cell_type": "markdown",
   "metadata": {},
   "source": [
    "Obteniendo todos los datos:"
   ]
  },
  {
   "cell_type": "code",
   "execution_count": null,
   "metadata": {
    "ExecuteTime": {
     "end_time": "2020-10-23T03:59:06.552129Z",
     "start_time": "2020-10-23T03:53:44.669265Z"
    },
    "colab": {},
    "colab_type": "code",
    "id": "abAXItn1WTz0"
   },
   "outputs": [],
   "source": [
    "#contador = 0\n",
    "data_reviews = []\n",
    "# Vamos a guardar una de cada 10 reviews para no llenar la memoria RAM. Si pones n = 3, \n",
    "# abrira uno de cada tres, y asi.\n",
    "#n = 2\n",
    "for l in parse('steam_reviews.json.gz'):\n",
    "    #if contador%n == 0:\n",
    "    data_reviews.append(l)\n",
    "    #else:\n",
    "    #    pass\n",
    "    #contador += 1"
   ]
  },
  {
   "cell_type": "markdown",
   "metadata": {},
   "source": [
    "Recibimos las columnas necesarias para el preprocesamiento y análisis, además agiliza la conversión a DataFrame."
   ]
  },
  {
   "cell_type": "code",
   "execution_count": null,
   "metadata": {
    "ExecuteTime": {
     "end_time": "2020-10-23T04:03:39.181208Z",
     "start_time": "2020-10-23T03:59:06.583148Z"
    }
   },
   "outputs": [],
   "source": [
    "data_reviews = pd.DataFrame(data_reviews, columns=[\n",
    "                            'username', 'hours', 'product_id', 'date', 'text'])"
   ]
  },
  {
   "cell_type": "markdown",
   "metadata": {},
   "source": [
    "Conversión tipos de dato para columna \"date\":"
   ]
  },
  {
   "cell_type": "code",
   "execution_count": null,
   "metadata": {
    "ExecuteTime": {
     "end_time": "2020-10-23T04:05:30.402105Z",
     "start_time": "2020-10-23T04:03:39.212351Z"
    }
   },
   "outputs": [],
   "source": [
    "data_reviews['date'] = pd.to_datetime(data_reviews['date'])"
   ]
  },
  {
   "cell_type": "code",
   "execution_count": null,
   "metadata": {
    "ExecuteTime": {
     "end_time": "2020-10-23T04:05:31.089491Z",
     "start_time": "2020-10-23T04:05:30.462955Z"
    }
   },
   "outputs": [],
   "source": [
    "data_reviews.dtypes"
   ]
  },
  {
   "cell_type": "code",
   "execution_count": null,
   "metadata": {
    "ExecuteTime": {
     "end_time": "2020-10-23T04:05:32.181940Z",
     "start_time": "2020-10-23T04:05:31.092477Z"
    },
    "colab": {},
    "colab_type": "code",
    "id": "j24F0ZaYWT0E"
   },
   "outputs": [],
   "source": [
    "print(data_reviews.shape)\n",
    "data_reviews.head()"
   ]
  },
  {
   "cell_type": "code",
   "execution_count": null,
   "metadata": {
    "ExecuteTime": {
     "end_time": "2020-10-23T04:05:37.119644Z",
     "start_time": "2020-10-23T04:05:32.224797Z"
    },
    "colab": {},
    "colab_type": "code",
    "id": "8F-EVRZ4WT0L"
   },
   "outputs": [],
   "source": [
    "data_reviews.isna().sum()*100/len(data_reviews)"
   ]
  },
  {
   "cell_type": "markdown",
   "metadata": {
    "colab_type": "text",
    "id": "04ed3teRWT0T"
   },
   "source": [
    "#### Games"
   ]
  },
  {
   "cell_type": "code",
   "execution_count": null,
   "metadata": {
    "ExecuteTime": {
     "end_time": "2020-10-23T04:05:50.232394Z",
     "start_time": "2020-10-23T04:05:37.128585Z"
    },
    "colab": {},
    "colab_type": "code",
    "id": "8wRb24Y5WT0U"
   },
   "outputs": [],
   "source": [
    "data_games = []\n",
    "for l in parse('steam_games.json.gz'):\n",
    "    data_games.append(l)\n",
    "data_games = pd.DataFrame(data_games)"
   ]
  },
  {
   "cell_type": "code",
   "execution_count": null,
   "metadata": {
    "ExecuteTime": {
     "end_time": "2020-10-23T04:05:50.305212Z",
     "start_time": "2020-10-23T04:05:50.233372Z"
    },
    "colab": {},
    "colab_type": "code",
    "id": "sVR0Cs6SWT0b"
   },
   "outputs": [],
   "source": [
    "data_games.head(2)"
   ]
  },
  {
   "cell_type": "markdown",
   "metadata": {},
   "source": [
    "## Analisis Exploratorio "
   ]
  },
  {
   "cell_type": "markdown",
   "metadata": {},
   "source": [
    "El plan a llevar a cabo consiste en separar los videojuegos de las utilidades, complementos o elementos adicionales para que el sistema de recomendación basado en **filtro colaborativo** sea lo mas útil posible para el usuario, las utilidades son paquetes complementarios a un videojuego que ofrece Steam para brindar una mayor experiencia (Packs de personalización de personajes, sonidos de fondo, ambientación, etc) pero consideramos que no deben aparecer en la lista de recomendación porque quizás sea preferible para el usuario ver los videojuegos listos para instalar o jugar, en vez de ciertos items que requieren de un videojuego ya instalado.  \n",
    "Se decidio entonces elaborar otro mecanismo de recomendación para estas utilidades, no tan riguroso como el propuesto al inicio, pero que esté provisto con lo necesario, el algoritmo **basado en contenido** es una buena opción.\n",
    "\n",
    "Para poder realizar esta separación de registros se analizarán las categorías de los videojuegos manualmente al indagar el sitio web; una vez obtenido esto, se filtrará y exportarán los resultados en dos datasets diferentes. Lo mismo sucederá con los reviews, se incluirán en un dataset diferente aquellos reviews sobre las utilidades, además con ésto se logra reducir más la cantidad de reviews actual."
   ]
  },
  {
   "cell_type": "markdown",
   "metadata": {},
   "source": [
    "### Preprocesamiento Games"
   ]
  },
  {
   "cell_type": "code",
   "execution_count": null,
   "metadata": {
    "ExecuteTime": {
     "end_time": "2020-10-23T04:05:50.354047Z",
     "start_time": "2020-10-23T04:05:50.310185Z"
    }
   },
   "outputs": [],
   "source": [
    "data_games.head(3)"
   ]
  },
  {
   "cell_type": "markdown",
   "metadata": {},
   "source": [
    "#### Valores faltantes"
   ]
  },
  {
   "cell_type": "code",
   "execution_count": null,
   "metadata": {
    "ExecuteTime": {
     "end_time": "2020-10-23T04:05:50.439933Z",
     "start_time": "2020-10-23T04:05:50.356041Z"
    }
   },
   "outputs": [],
   "source": [
    "data_games.isna().sum()*100/len(data_games)"
   ]
  },
  {
   "cell_type": "markdown",
   "metadata": {
    "ExecuteTime": {
     "end_time": "2020-10-21T22:52:35.421999Z",
     "start_time": "2020-10-21T22:52:35.412025Z"
    }
   },
   "source": [
    "Visualización de valores faltantes:"
   ]
  },
  {
   "cell_type": "code",
   "execution_count": null,
   "metadata": {
    "ExecuteTime": {
     "end_time": "2020-10-23T04:05:52.943488Z",
     "start_time": "2020-10-23T04:05:50.441909Z"
    }
   },
   "outputs": [],
   "source": [
    "msno.matrix(data_games)"
   ]
  },
  {
   "cell_type": "code",
   "execution_count": null,
   "metadata": {
    "ExecuteTime": {
     "end_time": "2020-10-23T04:05:52.953460Z",
     "start_time": "2020-10-23T04:05:52.946478Z"
    }
   },
   "outputs": [],
   "source": [
    "data_games.shape"
   ]
  },
  {
   "cell_type": "markdown",
   "metadata": {},
   "source": [
    "Las columnas a continuación no otorgan valor para el análisis exploratorio, se incluyen algunas con valores faltantes superior al 90% del total de los datos. El resto de columnas no incluidas aqui servirán para un posterior análisis exploratorio."
   ]
  },
  {
   "cell_type": "code",
   "execution_count": null,
   "metadata": {
    "ExecuteTime": {
     "end_time": "2020-10-23T04:05:53.093157Z",
     "start_time": "2020-10-23T04:05:52.955453Z"
    }
   },
   "outputs": [],
   "source": [
    "data_games.drop(columns=['title', 'discount_price', 'reviews_url',\n",
    "                         'early_access', 'developer', 'sentiment', 'metascore'], inplace=True)"
   ]
  },
  {
   "cell_type": "code",
   "execution_count": null,
   "metadata": {
    "ExecuteTime": {
     "end_time": "2020-10-23T04:05:53.147972Z",
     "start_time": "2020-10-23T04:05:53.096085Z"
    }
   },
   "outputs": [],
   "source": [
    "data_games.isna().sum()*100/len(data_games)"
   ]
  },
  {
   "cell_type": "markdown",
   "metadata": {},
   "source": [
    "##### Videjuegos con nombre faltante:"
   ]
  },
  {
   "cell_type": "markdown",
   "metadata": {},
   "source": [
    "El nombre de la aplicación es importante a la hora de conocer que aplicación se va a recomendar"
   ]
  },
  {
   "cell_type": "code",
   "execution_count": null,
   "metadata": {
    "ExecuteTime": {
     "end_time": "2020-10-23T04:05:53.178863Z",
     "start_time": "2020-10-23T04:05:53.151934Z"
    }
   },
   "outputs": [],
   "source": [
    "data_games[data_games.app_name.isna()]"
   ]
  },
  {
   "cell_type": "markdown",
   "metadata": {},
   "source": [
    "* Al parecer hay un videojuego que no existe (indice 74), se puede verificar examinando su url la cual no está compuesta por id ni nombre del videojuego.  \n",
    "* Con el segundo registro obtenido, al acceder a su url (http://store.steampowered.com/app/317160/_/) parece ser una versión Demo gratuita, no aparece el titulo, ni imagenes adjuntas pero tiene reviews de algunos usuarios, en la imagen portada de se logra apreciar su nombre (\"Duet\").  \n",
    "Al consultar otro videojuego con este mismo nombre encontramos la versión completa de pago con los datos completos."
   ]
  },
  {
   "cell_type": "code",
   "execution_count": null,
   "metadata": {
    "ExecuteTime": {
     "end_time": "2020-10-23T04:05:53.214767Z",
     "start_time": "2020-10-23T04:05:53.181854Z"
    }
   },
   "outputs": [],
   "source": [
    "data_games.query('app_name==\"Duet\"')"
   ]
  },
  {
   "cell_type": "markdown",
   "metadata": {},
   "source": [
    "Asignando nombre de videojuego faltante:"
   ]
  },
  {
   "cell_type": "code",
   "execution_count": null,
   "metadata": {
    "ExecuteTime": {
     "end_time": "2020-10-23T04:05:53.225738Z",
     "start_time": "2020-10-23T04:05:53.217761Z"
    }
   },
   "outputs": [],
   "source": [
    "data_games.iloc[2580].app_name = 'Duet'"
   ]
  },
  {
   "cell_type": "markdown",
   "metadata": {},
   "source": [
    "Aplicando dropna() al dataset con valores faltantes por la columna **\"app_name\"**"
   ]
  },
  {
   "cell_type": "code",
   "execution_count": null,
   "metadata": {
    "ExecuteTime": {
     "end_time": "2020-10-23T04:05:53.311510Z",
     "start_time": "2020-10-23T04:05:53.227733Z"
    }
   },
   "outputs": [],
   "source": [
    "data_games.dropna(subset=['app_name'], inplace=True)\n",
    "data_games.isna().sum()"
   ]
  },
  {
   "cell_type": "markdown",
   "metadata": {},
   "source": [
    "##### Videojuegos con ID faltante"
   ]
  },
  {
   "cell_type": "markdown",
   "metadata": {},
   "source": [
    "El ID del videojuego también es un identificador importante y no se debe ignorar."
   ]
  },
  {
   "cell_type": "code",
   "execution_count": null,
   "metadata": {
    "ExecuteTime": {
     "end_time": "2020-10-23T04:05:53.340429Z",
     "start_time": "2020-10-23T04:05:53.313502Z"
    },
    "scrolled": true
   },
   "outputs": [],
   "source": [
    "data_games[data_games.id.isna()]"
   ]
  },
  {
   "cell_type": "markdown",
   "metadata": {},
   "source": [
    "Vemos que la url contiene el id faltante y en este caso se obtuvo un solo registro, con un simple _\"copy - paste\"_ de este id y conociendo el índice se podría solucionar, pero en caso de haber obtenido multiples registros la tarea sería mas tediosa si se hace manualmente. Crear una iteración sobre éstos videojuegos para completar el id es lo mas viable en este caso:"
   ]
  },
  {
   "cell_type": "markdown",
   "metadata": {},
   "source": [
    "Split basico a una url para obtener el id:"
   ]
  },
  {
   "cell_type": "code",
   "execution_count": null,
   "metadata": {
    "ExecuteTime": {
     "end_time": "2020-10-23T04:05:53.351403Z",
     "start_time": "2020-10-23T04:05:53.342427Z"
    }
   },
   "outputs": [],
   "source": [
    "'http://store.steampowered.com/app/200260'.split('app/')[1].split('/')[0]"
   ]
  },
  {
   "cell_type": "markdown",
   "metadata": {},
   "source": [
    "Aplicando la estrategia en un loop:"
   ]
  },
  {
   "cell_type": "code",
   "execution_count": null,
   "metadata": {
    "ExecuteTime": {
     "end_time": "2020-10-23T04:05:53.379335Z",
     "start_time": "2020-10-23T04:05:53.361375Z"
    }
   },
   "outputs": [],
   "source": [
    "games_id_nan = data_games[data_games.id.isna()].index\n",
    "for idx in games_id_nan:\n",
    "    url = data_games.loc[idx].url\n",
    "    id_game = url.split('app/')[1].split('/')[0]\n",
    "    data_games.loc[idx].id = id_game"
   ]
  },
  {
   "cell_type": "code",
   "execution_count": null,
   "metadata": {
    "ExecuteTime": {
     "end_time": "2020-10-23T04:05:53.402264Z",
     "start_time": "2020-10-23T04:05:53.382320Z"
    }
   },
   "outputs": [],
   "source": [
    "data_games[data_games.index==30961]"
   ]
  },
  {
   "cell_type": "code",
   "execution_count": null,
   "metadata": {
    "ExecuteTime": {
     "end_time": "2020-10-23T04:05:53.449138Z",
     "start_time": "2020-10-23T04:05:53.404261Z"
    }
   },
   "outputs": [],
   "source": [
    "data_games.isna().sum()"
   ]
  },
  {
   "cell_type": "code",
   "execution_count": null,
   "metadata": {
    "ExecuteTime": {
     "end_time": "2020-10-23T04:05:53.462105Z",
     "start_time": "2020-10-23T04:05:53.451135Z"
    }
   },
   "outputs": [],
   "source": [
    "data_games.shape"
   ]
  },
  {
   "cell_type": "markdown",
   "metadata": {},
   "source": [
    "#### Videojuegos duplicados"
   ]
  },
  {
   "cell_type": "markdown",
   "metadata": {},
   "source": [
    "Estrategia para eliminar videojuegos duplicados empezando por aquellos cuyo ID sea el mismo."
   ]
  },
  {
   "cell_type": "code",
   "execution_count": null,
   "metadata": {
    "ExecuteTime": {
     "end_time": "2020-10-23T04:05:53.534909Z",
     "start_time": "2020-10-23T04:05:53.463105Z"
    },
    "scrolled": true
   },
   "outputs": [],
   "source": [
    "data_games[data_games.duplicated(\n",
    "    subset=['id'], keep=False)].sort_values(by='publisher')"
   ]
  },
  {
   "cell_type": "code",
   "execution_count": null,
   "metadata": {
    "ExecuteTime": {
     "end_time": "2020-10-23T04:05:53.594749Z",
     "start_time": "2020-10-23T04:05:53.536905Z"
    }
   },
   "outputs": [],
   "source": [
    "data_games.drop_duplicates(subset=['id'], ignore_index=True, inplace=True)"
   ]
  },
  {
   "cell_type": "code",
   "execution_count": null,
   "metadata": {
    "ExecuteTime": {
     "end_time": "2020-10-23T04:05:53.603725Z",
     "start_time": "2020-10-23T04:05:53.596744Z"
    }
   },
   "outputs": [],
   "source": [
    "data_games.shape"
   ]
  },
  {
   "cell_type": "code",
   "execution_count": null,
   "metadata": {
    "ExecuteTime": {
     "end_time": "2020-10-23T04:05:53.658578Z",
     "start_time": "2020-10-23T04:05:53.609709Z"
    }
   },
   "outputs": [],
   "source": [
    "data_games.isna().sum()"
   ]
  },
  {
   "cell_type": "markdown",
   "metadata": {},
   "source": [
    "#### Filtrado de categorías"
   ]
  },
  {
   "cell_type": "markdown",
   "metadata": {},
   "source": [
    "Se filtrarán aquellas categorías relacionadas a Hardware, Software, vídeos, etc que se encuentran en este dataset procurando dejar únicamente videojuegos válidos para el sistema de recomendación basado en filtro colaborativo. Los registros exentos permanecerán para una recomendación más simple; creemos que aunque al usuario solo le interesen videojuegos tal vez sienta curiosidad por explorar items adicionales que la plataforma Steam ofrece."
   ]
  },
  {
   "cell_type": "markdown",
   "metadata": {},
   "source": [
    "* Filtrando géneros y tags faltantes"
   ]
  },
  {
   "cell_type": "markdown",
   "metadata": {
    "ExecuteTime": {
     "end_time": "2020-10-21T23:23:32.913898Z",
     "start_time": "2020-10-21T23:23:32.908911Z"
    }
   },
   "source": [
    "Seleccionando videojuegos con género y especificación faltante, con éste filtro removemos una gran cantidad de utilidades y los almacenanos en otro dataframe:"
   ]
  },
  {
   "cell_type": "code",
   "execution_count": null,
   "metadata": {
    "ExecuteTime": {
     "end_time": "2020-10-23T04:05:53.681528Z",
     "start_time": "2020-10-23T04:05:53.660573Z"
    }
   },
   "outputs": [],
   "source": [
    "isNan_genre_tag = data_games.genres.isna() & data_games.specs.isna()\n",
    "df_no_games = data_games[isNan_genre_tag]\n",
    "print(df_no_games.shape)"
   ]
  },
  {
   "cell_type": "code",
   "execution_count": null,
   "metadata": {
    "ExecuteTime": {
     "end_time": "2020-10-23T04:05:53.731383Z",
     "start_time": "2020-10-23T04:05:53.683511Z"
    }
   },
   "outputs": [],
   "source": [
    "df_no_games.sample(frac=.2)"
   ]
  },
  {
   "cell_type": "code",
   "execution_count": null,
   "metadata": {
    "ExecuteTime": {
     "end_time": "2020-10-23T04:05:53.763312Z",
     "start_time": "2020-10-23T04:05:53.734376Z"
    }
   },
   "outputs": [],
   "source": [
    "data_games = data_games[~isNan_genre_tag]"
   ]
  },
  {
   "cell_type": "code",
   "execution_count": null,
   "metadata": {
    "ExecuteTime": {
     "end_time": "2020-10-23T04:05:53.778259Z",
     "start_time": "2020-10-23T04:05:53.768291Z"
    }
   },
   "outputs": [],
   "source": [
    "data_games.shape"
   ]
  },
  {
   "cell_type": "code",
   "execution_count": null,
   "metadata": {
    "ExecuteTime": {
     "end_time": "2020-10-23T04:05:53.829125Z",
     "start_time": "2020-10-23T04:05:53.781252Z"
    }
   },
   "outputs": [],
   "source": [
    "data_games.isna().sum()"
   ]
  },
  {
   "cell_type": "markdown",
   "metadata": {},
   "source": [
    "* Rellenando genres, tags y specs faltantes con una lista vacia, para que las operaciones aplicadas a éstas columnas sea más fácil"
   ]
  },
  {
   "cell_type": "code",
   "execution_count": null,
   "metadata": {
    "ExecuteTime": {
     "end_time": "2020-10-23T04:05:54.370684Z",
     "start_time": "2020-10-23T04:05:53.831116Z"
    }
   },
   "outputs": [],
   "source": [
    "for col in ['genres', 'tags', 'specs']:\n",
    "    data_games[col].fillna({i: [] for i in data_games.index}, inplace=True)"
   ]
  },
  {
   "cell_type": "code",
   "execution_count": null,
   "metadata": {
    "ExecuteTime": {
     "end_time": "2020-10-23T04:05:54.417548Z",
     "start_time": "2020-10-23T04:05:54.372669Z"
    }
   },
   "outputs": [],
   "source": [
    "data_games.isna().sum()"
   ]
  },
  {
   "cell_type": "markdown",
   "metadata": {},
   "source": [
    "* Obteniendo categorias únicas para genres, tags y specs en cada registro:"
   ]
  },
  {
   "cell_type": "code",
   "execution_count": null,
   "metadata": {
    "ExecuteTime": {
     "end_time": "2020-10-23T04:05:56.227918Z",
     "start_time": "2020-10-23T04:05:54.419543Z"
    }
   },
   "outputs": [],
   "source": [
    "#Todas las categorías\n",
    "data_games['categories'] = data_games['genres'] + data_games['tags'] + data_games['specs']\n",
    "\n",
    "#Obtencion de categorías únicas\n",
    "data_games['categories'] = [np.unique(cat) for cat in data_games.categories]\n",
    "\n",
    "#Removiendo caracteres, ej: Single-player singleplayer, Multiplayer, MultiPlayer, Multi-Player\n",
    "data_games['categories'] = [[re.sub(r'[^\\w\\s]', '', subcat).lower() for subcat in cat] for cat in data_games.categories]"
   ]
  },
  {
   "cell_type": "markdown",
   "metadata": {},
   "source": [
    "* Obteniendo categorías válidas (manualmente):"
   ]
  },
  {
   "cell_type": "code",
   "execution_count": null,
   "metadata": {
    "ExecuteTime": {
     "end_time": "2020-10-23T04:05:56.692764Z",
     "start_time": "2020-10-23T04:05:56.228903Z"
    }
   },
   "outputs": [],
   "source": [
    "np.unique(list(itertools.chain(*data_games.categories)))"
   ]
  },
  {
   "cell_type": "markdown",
   "metadata": {},
   "source": [
    "* Verificando manualmente algunas de éstas categorías: En éste paso, realizamos una tediosa y necesaria labor de identificar cada una de estas categorías y aproximar su validez para un videojuego. Las categorías recoletadas se listan debajo."
   ]
  },
  {
   "cell_type": "code",
   "execution_count": null,
   "metadata": {
    "ExecuteTime": {
     "end_time": "2020-10-23T04:05:56.705727Z",
     "start_time": "2020-10-23T04:05:56.697744Z"
    }
   },
   "outputs": [],
   "source": [
    "INVALID_CATEGORIES = ['photo editing', 'game development', 'documentary', 'video production', 'tutorial', 'software',\n",
    "                      'movie', 'software training', 'soundtrack', 'utilities', 'accounting', 'downloadable content']"
   ]
  },
  {
   "cell_type": "markdown",
   "metadata": {},
   "source": [
    "La categoría \"downloadable content\", por ejemplo, está relacionada con packs de videojuegos (Verificado al acceder a la URL). Es decir, en este dataset encontramos videojuegos con sus packs respectivos y éstos últimos son elementos que no deberían estar en el sistema de recomendación objetivo.\n",
    "Para evidenciar lo dicho anteriormente, filtramos por la categoria de ejemplo y notamos a simple vista que algunos registros son complementos de un videojuego con nombre \"SNOW\" e identificador \"244930\"."
   ]
  },
  {
   "cell_type": "code",
   "execution_count": null,
   "metadata": {
    "ExecuteTime": {
     "end_time": "2020-10-23T04:05:56.720682Z",
     "start_time": "2020-10-23T04:05:56.707719Z"
    }
   },
   "outputs": [],
   "source": [
    "def getTuplesPandas(search_list):\n",
    "    return [game for game in data_games.itertuples()\n",
    "            if np.isin(search_list, game.categories).sum() > 0]"
   ]
  },
  {
   "cell_type": "code",
   "execution_count": null,
   "metadata": {
    "ExecuteTime": {
     "end_time": "2020-10-23T04:05:58.631428Z",
     "start_time": "2020-10-23T04:05:56.723673Z"
    }
   },
   "outputs": [],
   "source": [
    "pd.DataFrame(getTuplesPandas(['downloadable content'])).head(7)"
   ]
  },
  {
   "cell_type": "markdown",
   "metadata": {},
   "source": [
    "Buscando el videojuego SNOW:"
   ]
  },
  {
   "cell_type": "code",
   "execution_count": null,
   "metadata": {
    "ExecuteTime": {
     "end_time": "2020-10-23T04:05:58.687249Z",
     "start_time": "2020-10-23T04:05:58.633392Z"
    }
   },
   "outputs": [],
   "source": [
    "data_games.query('id==\"244930\"')"
   ]
  },
  {
   "cell_type": "markdown",
   "metadata": {},
   "source": [
    "Esto confirma la existencia de muchos complementos, la estrategia mencionada al inicio es separar todos los complementos, utilidades y herramientas adicionales en otro dataset para realizar un análisis con ellos."
   ]
  },
  {
   "cell_type": "markdown",
   "metadata": {},
   "source": [
    "* Sumando al dataframe aquellos ítems de esas categorías:"
   ]
  },
  {
   "cell_type": "code",
   "execution_count": null,
   "metadata": {
    "ExecuteTime": {
     "end_time": "2020-10-23T04:06:00.463101Z",
     "start_time": "2020-10-23T04:05:58.689241Z"
    }
   },
   "outputs": [],
   "source": [
    "df_no_games = df_no_games.append(getTuplesPandas(INVALID_CATEGORIES))"
   ]
  },
  {
   "cell_type": "code",
   "execution_count": null,
   "metadata": {
    "ExecuteTime": {
     "end_time": "2020-10-23T04:06:00.471609Z",
     "start_time": "2020-10-23T04:06:00.463101Z"
    }
   },
   "outputs": [],
   "source": [
    "df_no_games.shape"
   ]
  },
  {
   "cell_type": "code",
   "execution_count": null,
   "metadata": {
    "ExecuteTime": {
     "end_time": "2020-10-23T04:06:00.482578Z",
     "start_time": "2020-10-23T04:06:00.473602Z"
    }
   },
   "outputs": [],
   "source": [
    "df_no_games.columns"
   ]
  },
  {
   "cell_type": "code",
   "execution_count": null,
   "metadata": {
    "ExecuteTime": {
     "end_time": "2020-10-23T04:06:00.519479Z",
     "start_time": "2020-10-23T04:06:00.485575Z"
    }
   },
   "outputs": [],
   "source": [
    "df_no_games.drop('Index', axis=1, inplace=True)"
   ]
  },
  {
   "cell_type": "code",
   "execution_count": null,
   "metadata": {
    "ExecuteTime": {
     "end_time": "2020-10-23T04:06:00.540449Z",
     "start_time": "2020-10-23T04:06:00.522471Z"
    }
   },
   "outputs": [],
   "source": [
    "print(df_no_games.shape)\n",
    "df_no_games.head()"
   ]
  },
  {
   "cell_type": "markdown",
   "metadata": {},
   "source": [
    "* Filtrando videojuegos:"
   ]
  },
  {
   "cell_type": "code",
   "execution_count": null,
   "metadata": {
    "ExecuteTime": {
     "end_time": "2020-10-23T04:06:00.635243Z",
     "start_time": "2020-10-23T04:06:00.542444Z"
    }
   },
   "outputs": [],
   "source": [
    "data_games = data_games[~data_games.id.isin(df_no_games.id)]"
   ]
  },
  {
   "cell_type": "code",
   "execution_count": null,
   "metadata": {
    "ExecuteTime": {
     "end_time": "2020-10-23T04:06:00.707055Z",
     "start_time": "2020-10-23T04:06:00.636209Z"
    }
   },
   "outputs": [],
   "source": [
    "data_games.shape"
   ]
  },
  {
   "cell_type": "markdown",
   "metadata": {},
   "source": [
    "Eliminando columnas \"specs\" y \"tags\":"
   ]
  },
  {
   "cell_type": "code",
   "execution_count": null,
   "metadata": {
    "ExecuteTime": {
     "end_time": "2020-10-23T04:06:00.786838Z",
     "start_time": "2020-10-23T04:06:00.709022Z"
    }
   },
   "outputs": [],
   "source": [
    "data_games.drop(['specs', 'tags'], inplace=True, axis=1)"
   ]
  },
  {
   "cell_type": "markdown",
   "metadata": {
    "ExecuteTime": {
     "end_time": "2020-10-21T23:29:56.544912Z",
     "start_time": "2020-10-21T23:29:56.539886Z"
    }
   },
   "source": [
    "Ahora, rellenando con valores faltantes las listas vacías en columna \"genres\":"
   ]
  },
  {
   "cell_type": "code",
   "execution_count": null,
   "metadata": {
    "ExecuteTime": {
     "end_time": "2020-10-23T04:06:00.864629Z",
     "start_time": "2020-10-23T04:06:00.787804Z"
    }
   },
   "outputs": [],
   "source": [
    "data_games['genres'] = data_games['genres'].apply(lambda x: np.nan if len(x) == 0 else x)"
   ]
  },
  {
   "cell_type": "code",
   "execution_count": null,
   "metadata": {
    "ExecuteTime": {
     "end_time": "2020-10-23T04:06:00.951512Z",
     "start_time": "2020-10-23T04:06:00.867592Z"
    }
   },
   "outputs": [],
   "source": [
    "data_games.isna().sum()"
   ]
  },
  {
   "cell_type": "markdown",
   "metadata": {},
   "source": [
    "#### Procesamiento de precios"
   ]
  },
  {
   "cell_type": "markdown",
   "metadata": {},
   "source": [
    "La columna \"price\" esta conforma por valores numéricos y categóricos:"
   ]
  },
  {
   "cell_type": "code",
   "execution_count": null,
   "metadata": {
    "ExecuteTime": {
     "end_time": "2020-10-23T04:06:00.992388Z",
     "start_time": "2020-10-23T04:06:00.953481Z"
    }
   },
   "outputs": [],
   "source": [
    "category_prices = lambda x: np.unique(np.array([i for i in list(x) if type(i) == str]))"
   ]
  },
  {
   "cell_type": "markdown",
   "metadata": {},
   "source": [
    "* Categoría de precios"
   ]
  },
  {
   "cell_type": "code",
   "execution_count": null,
   "metadata": {
    "ExecuteTime": {
     "end_time": "2020-10-23T04:06:01.029286Z",
     "start_time": "2020-10-23T04:06:00.994366Z"
    }
   },
   "outputs": [],
   "source": [
    "category_prices(data_games.price)"
   ]
  },
  {
   "cell_type": "markdown",
   "metadata": {},
   "source": [
    "* Categoría de precios dataset de utilidades:"
   ]
  },
  {
   "cell_type": "code",
   "execution_count": null,
   "metadata": {
    "ExecuteTime": {
     "end_time": "2020-10-23T04:06:01.074159Z",
     "start_time": "2020-10-23T04:06:01.031275Z"
    }
   },
   "outputs": [],
   "source": [
    "category_prices(df_no_games.price)"
   ]
  },
  {
   "cell_type": "markdown",
   "metadata": {},
   "source": [
    "Creando nuevas categorías para la columna precio, actualmente contamos con valores numéricos y categóricos, la única categoría que se transformará a \"paid\" es \"Starting at $499.00\" del dataset de utilidades, el resto quedará como \"free\".  \n",
    "Con la siguiente función se procesarán éstas categorías y al mismo tiempo, los valores faltantes se convertirán a \"paid\" (tal vez algunos sean videojuegos gratuitos pero ésto no tiene gran impacto en el análisis)."
   ]
  },
  {
   "cell_type": "code",
   "execution_count": null,
   "metadata": {
    "ExecuteTime": {
     "end_time": "2020-10-23T04:06:01.094098Z",
     "start_time": "2020-10-23T04:06:01.076147Z"
    }
   },
   "outputs": [],
   "source": [
    "def transform_prices(df):\n",
    "    df['category_price'] = df.price.apply(\n",
    "        lambda p: 'paid' if (type(p) == float or p.startswith('Starting')) else 'free')\n",
    "    df.drop('price', axis=1, inplace=True)"
   ]
  },
  {
   "cell_type": "code",
   "execution_count": null,
   "metadata": {
    "ExecuteTime": {
     "end_time": "2020-10-23T04:06:01.163911Z",
     "start_time": "2020-10-23T04:06:01.095095Z"
    }
   },
   "outputs": [],
   "source": [
    "transform_prices(data_games)\n",
    "data_games.head()"
   ]
  },
  {
   "cell_type": "code",
   "execution_count": null,
   "metadata": {
    "ExecuteTime": {
     "end_time": "2020-10-23T04:06:01.212810Z",
     "start_time": "2020-10-23T04:06:01.165907Z"
    }
   },
   "outputs": [],
   "source": [
    "transform_prices(df_no_games)\n",
    "df_no_games.head()"
   ]
  },
  {
   "cell_type": "markdown",
   "metadata": {},
   "source": [
    "#### Procesamiento de fecha de lanzamiento"
   ]
  },
  {
   "cell_type": "markdown",
   "metadata": {},
   "source": [
    "En éste apartado, se transformarán algunas fechas del dataset de videojuegos al formato correcto, la columna release_date además de contener fechas de tipo datetime y valores faltantes, tiene valores categóricos del cual es posible convertirlos a datetime gracias a que algunos de ellos siguen el mismo patrón o comportamiento. \n",
    "Para el dataset de utilidades, no será necesario éste tipo de tratamiento."
   ]
  },
  {
   "cell_type": "code",
   "execution_count": null,
   "metadata": {
    "ExecuteTime": {
     "end_time": "2020-10-23T04:06:01.239741Z",
     "start_time": "2020-10-23T04:06:01.214775Z"
    }
   },
   "outputs": [],
   "source": [
    "data_games.release_date.value_counts()"
   ]
  },
  {
   "cell_type": "markdown",
   "metadata": {},
   "source": [
    "La siguiente función servirá para obtener aquellos valores que no corresponden a fechas válidas para poder examinar los valores categóricos:"
   ]
  },
  {
   "cell_type": "code",
   "execution_count": null,
   "metadata": {
    "ExecuteTime": {
     "end_time": "2020-10-23T04:06:01.255665Z",
     "start_time": "2020-10-23T04:06:01.240709Z"
    }
   },
   "outputs": [],
   "source": [
    "def isDateValid(x): \n",
    "    try:\n",
    "        return datetime.datetime.strptime(x, '%Y-%m-%d')        \n",
    "    except:\n",
    "        return False"
   ]
  },
  {
   "cell_type": "code",
   "execution_count": null,
   "metadata": {
    "ExecuteTime": {
     "end_time": "2020-10-23T04:06:01.547885Z",
     "start_time": "2020-10-23T04:06:01.257687Z"
    }
   },
   "outputs": [],
   "source": [
    "invalid_date_games = data_games.query('release_date.notna()', engine='python')\n",
    "invalid_date_games = pd.DataFrame([i for i in invalid_date_games.itertuples() \n",
    "                                   if not isDateValid(i.release_date)])\n",
    "invalid_date_games.release_date"
   ]
  },
  {
   "cell_type": "markdown",
   "metadata": {},
   "source": [
    "De las categorías mostradas, las que tienen el nombre del mes (completo o abreviado) y año es posible convertirlas. El nombre de la temporada y el año presentan el mismo caso. **Ejemplos: Nov 2020, November 2020, Winter 2020, Summer 2020...**"
   ]
  },
  {
   "cell_type": "markdown",
   "metadata": {
    "ExecuteTime": {
     "end_time": "2020-10-13T14:46:45.071432Z",
     "start_time": "2020-10-13T14:46:45.065457Z"
    }
   },
   "source": [
    "* Para empezar, la función a continuación retorna el número del mes basado en el nombre, gracias a una de las librerías incluidas en Python."
   ]
  },
  {
   "cell_type": "code",
   "execution_count": null,
   "metadata": {
    "ExecuteTime": {
     "end_time": "2020-10-23T04:06:01.743398Z",
     "start_time": "2020-10-23T04:06:01.548881Z"
    }
   },
   "outputs": [],
   "source": [
    "def get_month(month):\n",
    "    if len(month) > 3:\n",
    "        return strptime(month, '%B').tm_mon\n",
    "    else:\n",
    "        return strptime(month, '%b').tm_mon"
   ]
  },
  {
   "cell_type": "code",
   "execution_count": null,
   "metadata": {
    "ExecuteTime": {
     "end_time": "2020-10-23T04:06:01.762342Z",
     "start_time": "2020-10-23T04:06:01.745356Z"
    }
   },
   "outputs": [],
   "source": [
    "print('Noviembre:', get_month('Nov'))\n",
    "print('Noviembre:', get_month('November'))\n",
    "print('Abril:', get_month('Apr'))\n",
    "print('Abril:', get_month('April'))"
   ]
  },
  {
   "cell_type": "markdown",
   "metadata": {
    "ExecuteTime": {
     "end_time": "2020-10-13T14:52:00.994199Z",
     "start_time": "2020-10-13T14:52:00.990219Z"
    }
   },
   "source": [
    "Las temporadas se definirarán según el país, en éste caso es Estados Unidos. El diccionario contiene el nombre de la temporada y el mes en que inicia:"
   ]
  },
  {
   "cell_type": "code",
   "execution_count": null,
   "metadata": {
    "ExecuteTime": {
     "end_time": "2020-10-23T04:06:01.774304Z",
     "start_time": "2020-10-23T04:06:01.764305Z"
    }
   },
   "outputs": [],
   "source": [
    "SEASONS = {'Winter': 12, 'Summer': 7, 'Fall': 10, 'Spring': 4}"
   ]
  },
  {
   "cell_type": "markdown",
   "metadata": {},
   "source": [
    "* Ésta función obtiene una fecha como variable categórica y la transforma a datetime, si no corresponde al patron detectado la convierte a valor faltante. El resto de fechas no están definidas por un comportamiento, por lo tanto no es posible transformarlas una por una, y son mas de 100 categorías."
   ]
  },
  {
   "cell_type": "code",
   "execution_count": null,
   "metadata": {
    "ExecuteTime": {
     "end_time": "2020-10-23T04:06:01.788266Z",
     "start_time": "2020-10-23T04:06:01.776294Z"
    }
   },
   "outputs": [],
   "source": [
    "def get_date(date_sring):\n",
    "    try:\n",
    "        sep = date_sring.split()\n",
    "        # Primero verifica si es una temporada\n",
    "        if sep[0] in SEASONS.keys():\n",
    "            return datetime.datetime(year=int(sep[1]), month=SEASONS.get(sep[0]), day=1).date()\n",
    "\n",
    "        # Sino, utiliza la función anterior para obtener el número del mes a partir del nombre.\n",
    "        return datetime.datetime(year=int(sep[1]), month=get_month(sep[0]), day=1).date()\n",
    "    except:\n",
    "        # Retorna valor faltante si no se cumplen los dos casos, no es posible hacer más magia!!\n",
    "        return np.nan"
   ]
  },
  {
   "cell_type": "markdown",
   "metadata": {},
   "source": [
    "Ejemplo:"
   ]
  },
  {
   "cell_type": "code",
   "execution_count": null,
   "metadata": {
    "ExecuteTime": {
     "end_time": "2020-10-23T04:06:01.804203Z",
     "start_time": "2020-10-23T04:06:01.790240Z"
    }
   },
   "outputs": [],
   "source": [
    "example_date = 'Nov 2020'\n",
    "print('Noviembre', get_date(example_date))\n",
    "\n",
    "example_date = 'November 2020'\n",
    "print('Noviembre', get_date(example_date))\n",
    "\n",
    "example_date = 'Summer 2020'\n",
    "print('Verano', get_date(example_date))\n",
    "\n",
    "example_date = 'Winter 2020'\n",
    "print('Winter', get_date(example_date))"
   ]
  },
  {
   "cell_type": "markdown",
   "metadata": {},
   "source": [
    "* Transformando fechas categóricas:"
   ]
  },
  {
   "cell_type": "code",
   "execution_count": null,
   "metadata": {
    "ExecuteTime": {
     "end_time": "2020-10-23T04:06:01.824176Z",
     "start_time": "2020-10-23T04:06:01.810215Z"
    }
   },
   "outputs": [],
   "source": [
    "invalid_date_games.release_date = invalid_date_games.release_date.apply(lambda x: f'{get_date(x)}')\n",
    "invalid_date_games.release_date"
   ]
  },
  {
   "cell_type": "markdown",
   "metadata": {},
   "source": [
    "* Aplicando cambios sobre el dataframe original"
   ]
  },
  {
   "cell_type": "code",
   "execution_count": null,
   "metadata": {
    "ExecuteTime": {
     "end_time": "2020-10-23T04:06:01.837141Z",
     "start_time": "2020-10-23T04:06:01.826141Z"
    }
   },
   "outputs": [],
   "source": [
    "invalid_idx = invalid_date_games.Index.values\n",
    "data_games.loc[invalid_idx,\n",
    "               'release_date'] = invalid_date_games.release_date.values"
   ]
  },
  {
   "cell_type": "markdown",
   "metadata": {},
   "source": [
    "* Verificando los cambios en los índices donde previamente existían éstas categorías:"
   ]
  },
  {
   "cell_type": "code",
   "execution_count": null,
   "metadata": {
    "ExecuteTime": {
     "end_time": "2020-10-23T04:06:01.868037Z",
     "start_time": "2020-10-23T04:06:01.838107Z"
    }
   },
   "outputs": [],
   "source": [
    "data_games.loc[invalid_idx].head()"
   ]
  },
  {
   "cell_type": "markdown",
   "metadata": {},
   "source": [
    "Se ha completado el procedimiento de transformación de fecha de lanzamiento, con ésto es posible realizar un análisis exploratorio que conlleve Series de tiempo."
   ]
  },
  {
   "cell_type": "code",
   "execution_count": null,
   "metadata": {
    "ExecuteTime": {
     "end_time": "2020-10-23T04:06:01.878027Z",
     "start_time": "2020-10-23T04:06:01.870022Z"
    }
   },
   "outputs": [],
   "source": [
    "del invalid_date_games"
   ]
  },
  {
   "cell_type": "markdown",
   "metadata": {},
   "source": [
    "Finalmente, los valores faltantes resultantes:"
   ]
  },
  {
   "cell_type": "code",
   "execution_count": null,
   "metadata": {
    "ExecuteTime": {
     "end_time": "2020-10-23T04:07:53.195043Z",
     "start_time": "2020-10-23T04:07:53.171108Z"
    }
   },
   "outputs": [],
   "source": [
    "data_games.isna().sum()"
   ]
  },
  {
   "cell_type": "code",
   "execution_count": null,
   "metadata": {
    "ExecuteTime": {
     "end_time": "2020-10-23T04:07:58.087104Z",
     "start_time": "2020-10-23T04:07:57.598414Z"
    }
   },
   "outputs": [],
   "source": [
    "msno.matrix(data_games)"
   ]
  },
  {
   "cell_type": "markdown",
   "metadata": {},
   "source": [
    "### Preprocesamiento Reviews"
   ]
  },
  {
   "cell_type": "code",
   "execution_count": null,
   "metadata": {
    "ExecuteTime": {
     "end_time": "2020-10-23T04:08:06.781387Z",
     "start_time": "2020-10-23T04:08:06.728497Z"
    }
   },
   "outputs": [],
   "source": [
    "data_reviews.head()"
   ]
  },
  {
   "cell_type": "code",
   "execution_count": null,
   "metadata": {
    "ExecuteTime": {
     "end_time": "2020-10-23T04:08:08.626221Z",
     "start_time": "2020-10-23T04:08:08.621274Z"
    }
   },
   "outputs": [],
   "source": [
    "data_reviews.shape"
   ]
  },
  {
   "cell_type": "markdown",
   "metadata": {},
   "source": [
    "#### Reviews duplicados (Todos los campos)"
   ]
  },
  {
   "cell_type": "markdown",
   "metadata": {},
   "source": [
    "Se analiza si existen registros duplicados en el dataset:"
   ]
  },
  {
   "cell_type": "code",
   "execution_count": null,
   "metadata": {
    "ExecuteTime": {
     "end_time": "2020-10-23T04:09:29.181528Z",
     "start_time": "2020-10-23T04:08:09.329111Z"
    }
   },
   "outputs": [],
   "source": [
    "duplicated = data_reviews[data_reviews.duplicated()]\n",
    "duplicated.shape"
   ]
  },
  {
   "cell_type": "markdown",
   "metadata": {},
   "source": [
    "Se confirma la existencia registros duplicados, ahora se detalla un usuario aleatorio de éstos registros:"
   ]
  },
  {
   "cell_type": "code",
   "execution_count": null,
   "metadata": {
    "ExecuteTime": {
     "end_time": "2020-10-23T04:09:29.314142Z",
     "start_time": "2020-10-23T04:09:29.203467Z"
    }
   },
   "outputs": [],
   "source": [
    "duplicated.head()"
   ]
  },
  {
   "cell_type": "markdown",
   "metadata": {},
   "source": [
    "Para probar, se selecciona el usuario **\"feel it break\"**"
   ]
  },
  {
   "cell_type": "code",
   "execution_count": null,
   "metadata": {
    "ExecuteTime": {
     "end_time": "2020-10-23T04:09:31.673372Z",
     "start_time": "2020-10-23T04:09:29.319130Z"
    }
   },
   "outputs": [],
   "source": [
    "data_reviews[data_reviews.username == 'feel it break']"
   ]
  },
  {
   "cell_type": "markdown",
   "metadata": {},
   "source": [
    "En los 2 primeros registros de esta búsqueda se evidencia error de los datos, misma cantidad de horas, id de videojuego y fecha. Por lo tanto es razonable eliminar éstos registros."
   ]
  },
  {
   "cell_type": "code",
   "execution_count": null,
   "metadata": {
    "ExecuteTime": {
     "end_time": "2020-10-23T04:10:26.462764Z",
     "start_time": "2020-10-23T04:09:31.677362Z"
    }
   },
   "outputs": [],
   "source": [
    "data_reviews.drop_duplicates(inplace=True, ignore_index=True)"
   ]
  },
  {
   "cell_type": "code",
   "execution_count": null,
   "metadata": {
    "ExecuteTime": {
     "end_time": "2020-10-23T04:10:26.509635Z",
     "start_time": "2020-10-23T04:10:26.478383Z"
    }
   },
   "outputs": [],
   "source": [
    "data_reviews.shape"
   ]
  },
  {
   "cell_type": "code",
   "execution_count": null,
   "metadata": {
    "ExecuteTime": {
     "end_time": "2020-10-23T04:10:28.535793Z",
     "start_time": "2020-10-23T04:10:26.509635Z"
    }
   },
   "outputs": [],
   "source": [
    "data_reviews.isna().sum()"
   ]
  },
  {
   "cell_type": "markdown",
   "metadata": {},
   "source": [
    "#### Reviews duplicados (Username y product_id)"
   ]
  },
  {
   "cell_type": "markdown",
   "metadata": {},
   "source": [
    "Habiendo eliminado registros duplicados, nos queda realizar un tratamiento especial a aquellos usuarios que han comentado un videojuego más de una vez, la acción a ejecutar consiste en dejar el ultimo review de un usuario a un videojuego mediante la fecha."
   ]
  },
  {
   "cell_type": "markdown",
   "metadata": {},
   "source": [
    "Usuarios con más de un review a un videojuego:"
   ]
  },
  {
   "cell_type": "code",
   "execution_count": null,
   "metadata": {
    "ExecuteTime": {
     "end_time": "2020-10-23T04:10:34.039443Z",
     "start_time": "2020-10-23T04:10:28.537788Z"
    }
   },
   "outputs": [],
   "source": [
    "repeated_reviews = data_reviews[data_reviews.duplicated(\n",
    "    subset=['username', 'product_id'], keep=False)].sort_values(by='username')"
   ]
  },
  {
   "cell_type": "code",
   "execution_count": null,
   "metadata": {
    "ExecuteTime": {
     "end_time": "2020-10-23T04:10:34.067932Z",
     "start_time": "2020-10-23T04:10:34.053970Z"
    }
   },
   "outputs": [],
   "source": [
    "print('Reviews del mismo usuario al mismo videojuego:', repeated_reviews.shape[0])"
   ]
  },
  {
   "cell_type": "code",
   "execution_count": null,
   "metadata": {
    "ExecuteTime": {
     "end_time": "2020-10-23T04:10:34.136764Z",
     "start_time": "2020-10-23T04:10:34.074921Z"
    }
   },
   "outputs": [],
   "source": [
    "repeated_reviews.head()"
   ]
  },
  {
   "cell_type": "markdown",
   "metadata": {},
   "source": [
    "El usuario \"!?\" ha hecho dos comentarios al mismo videojuego (206210), el resultado entonces sería el último comentario realizado."
   ]
  },
  {
   "cell_type": "markdown",
   "metadata": {},
   "source": [
    "#### Últimos reviews por fecha"
   ]
  },
  {
   "cell_type": "code",
   "execution_count": null,
   "metadata": {
    "ExecuteTime": {
     "end_time": "2020-10-23T04:10:55.077100Z",
     "start_time": "2020-10-23T04:10:34.141736Z"
    }
   },
   "outputs": [],
   "source": [
    "# Para traer todas las columnas. Tarda mas!!\n",
    "unrepeated_reviews = data_reviews.sort_values(\n",
    "    by='date', ascending=False).drop_duplicates(subset=['username', 'product_id'])\n",
    "\n",
    "# unrepeated_reviews = data_reviews.groupby(\n",
    "#    ['username', 'product_id'], as_index=False).date.max()"
   ]
  },
  {
   "cell_type": "markdown",
   "metadata": {},
   "source": [
    "Verificando:"
   ]
  },
  {
   "cell_type": "code",
   "execution_count": null,
   "metadata": {
    "ExecuteTime": {
     "end_time": "2020-10-23T04:10:56.063430Z",
     "start_time": "2020-10-23T04:10:55.086045Z"
    }
   },
   "outputs": [],
   "source": [
    "unrepeated_reviews.query('username==\"!?\" & product_id==\"206210\"')"
   ]
  },
  {
   "cell_type": "code",
   "execution_count": null,
   "metadata": {
    "ExecuteTime": {
     "end_time": "2020-10-23T04:10:57.538829Z",
     "start_time": "2020-10-23T04:10:56.066427Z"
    }
   },
   "outputs": [],
   "source": [
    "data_reviews = unrepeated_reviews.copy()\n",
    "\n",
    "#Liberando espacio en memoria\n",
    "del repeated_reviews\n",
    "del unrepeated_reviews"
   ]
  },
  {
   "cell_type": "code",
   "execution_count": null,
   "metadata": {
    "ExecuteTime": {
     "end_time": "2020-10-23T04:11:00.014022Z",
     "start_time": "2020-10-23T04:10:57.542792Z"
    }
   },
   "outputs": [],
   "source": [
    "data_reviews.isna().sum()"
   ]
  },
  {
   "cell_type": "code",
   "execution_count": null,
   "metadata": {
    "ExecuteTime": {
     "end_time": "2020-10-23T04:11:00.025118Z",
     "start_time": "2020-10-23T04:11:00.018135Z"
    }
   },
   "outputs": [],
   "source": [
    "data_reviews.shape"
   ]
  },
  {
   "cell_type": "markdown",
   "metadata": {},
   "source": [
    "#### Tratamiento Horas faltantes"
   ]
  },
  {
   "cell_type": "markdown",
   "metadata": {},
   "source": [
    "Vemos que las horas faltantes son muy pocas, con solo calcular el promedio de las horas por cada usuario sería suficiente."
   ]
  },
  {
   "cell_type": "code",
   "execution_count": null,
   "metadata": {
    "ExecuteTime": {
     "end_time": "2020-10-23T04:11:14.510617Z",
     "start_time": "2020-10-23T04:11:00.028110Z"
    }
   },
   "outputs": [],
   "source": [
    "data_reviews.hours.fillna(data_reviews.groupby('username').hours.transform('mean'), inplace=True)"
   ]
  },
  {
   "cell_type": "code",
   "execution_count": null,
   "metadata": {
    "ExecuteTime": {
     "end_time": "2020-10-23T04:11:17.163349Z",
     "start_time": "2020-10-23T04:11:14.510617Z"
    }
   },
   "outputs": [],
   "source": [
    "data_reviews.isna().sum()"
   ]
  },
  {
   "cell_type": "markdown",
   "metadata": {
    "ExecuteTime": {
     "end_time": "2020-10-22T00:02:19.632618Z",
     "start_time": "2020-10-22T00:02:19.581755Z"
    }
   },
   "source": [
    "Aún existen horas faltantes, verémos que ocurre:"
   ]
  },
  {
   "cell_type": "code",
   "execution_count": null,
   "metadata": {
    "ExecuteTime": {
     "end_time": "2020-10-23T04:11:17.228138Z",
     "start_time": "2020-10-23T04:11:17.166306Z"
    }
   },
   "outputs": [],
   "source": [
    "data_reviews[data_reviews.hours.isna()]"
   ]
  },
  {
   "cell_type": "markdown",
   "metadata": {},
   "source": [
    "Explorando algunos usuarios de ésta búsqueda:"
   ]
  },
  {
   "cell_type": "code",
   "execution_count": null,
   "metadata": {
    "ExecuteTime": {
     "end_time": "2020-10-23T04:11:18.446748Z",
     "start_time": "2020-10-23T04:11:17.230133Z"
    }
   },
   "outputs": [],
   "source": [
    "USERNAMES = ['catsquad3', 'cardenas1149', 'MarbleMania']\n",
    "data_reviews.query('username in @USERNAMES')"
   ]
  },
  {
   "cell_type": "markdown",
   "metadata": {},
   "source": [
    "Aquí se demuestra que éstos usuarios solo han hecho review a un solo videojuego y no registran horas de juego. Por lo tanto, la única alternativa faltante es rellenarlos con el promedio de horas del id del videojuego en el que estuvieron interesados:"
   ]
  },
  {
   "cell_type": "code",
   "execution_count": null,
   "metadata": {
    "ExecuteTime": {
     "end_time": "2020-10-23T04:11:19.321417Z",
     "start_time": "2020-10-23T04:11:18.449714Z"
    }
   },
   "outputs": [],
   "source": [
    "data_reviews.hours.fillna(data_reviews.groupby('product_id').hours.transform('mean'), inplace=True)"
   ]
  },
  {
   "cell_type": "code",
   "execution_count": null,
   "metadata": {
    "ExecuteTime": {
     "end_time": "2020-10-23T04:11:21.871818Z",
     "start_time": "2020-10-23T04:11:19.324375Z"
    }
   },
   "outputs": [],
   "source": [
    "data_reviews.isna().sum()"
   ]
  },
  {
   "cell_type": "code",
   "execution_count": null,
   "metadata": {
    "ExecuteTime": {
     "end_time": "2020-10-23T04:11:21.901701Z",
     "start_time": "2020-10-23T04:11:21.874747Z"
    }
   },
   "outputs": [],
   "source": [
    "data_reviews[data_reviews.hours.isna()]"
   ]
  },
  {
   "cell_type": "markdown",
   "metadata": {},
   "source": [
    "Videojuegos que solo tienen un review con horas faltantes. Rellenando con el promedio total de horas:"
   ]
  },
  {
   "cell_type": "code",
   "execution_count": null,
   "metadata": {
    "ExecuteTime": {
     "end_time": "2020-10-23T04:11:21.995455Z",
     "start_time": "2020-10-23T04:11:21.904690Z"
    }
   },
   "outputs": [],
   "source": [
    "data_reviews.hours.fillna(data_reviews.hours.mean(), inplace=True)"
   ]
  },
  {
   "cell_type": "code",
   "execution_count": null,
   "metadata": {
    "ExecuteTime": {
     "end_time": "2020-10-23T04:11:24.484955Z",
     "start_time": "2020-10-23T04:11:22.002430Z"
    }
   },
   "outputs": [],
   "source": [
    "data_reviews.isna().sum()"
   ]
  },
  {
   "cell_type": "code",
   "execution_count": null,
   "metadata": {
    "ExecuteTime": {
     "end_time": "2020-10-23T04:11:24.492904Z",
     "start_time": "2020-10-23T04:11:24.486944Z"
    }
   },
   "outputs": [],
   "source": [
    "data_reviews.shape"
   ]
  },
  {
   "cell_type": "markdown",
   "metadata": {},
   "source": [
    "#### Separando reviews"
   ]
  },
  {
   "cell_type": "markdown",
   "metadata": {},
   "source": [
    "Se separarán en datasets diferentes los reviews de videojuegos y utilidades como se ha mencionado en apartados anteriores:"
   ]
  },
  {
   "cell_type": "code",
   "execution_count": null,
   "metadata": {
    "ExecuteTime": {
     "end_time": "2020-10-23T04:11:26.631093Z",
     "start_time": "2020-10-23T04:11:24.497887Z"
    }
   },
   "outputs": [],
   "source": [
    "# Filtrando reviews de videojuegos\n",
    "data_reviews_game = data_reviews.query('product_id not in @df_no_games.id')\n",
    "\n",
    "# Filtrando reviews de utilidades (Para exportar)\n",
    "data_reviews_utilites = data_reviews.query('product_id not in @data_games.id')"
   ]
  },
  {
   "cell_type": "code",
   "execution_count": null,
   "metadata": {
    "ExecuteTime": {
     "end_time": "2020-10-23T04:11:28.977256Z",
     "start_time": "2020-10-23T04:11:26.631093Z"
    }
   },
   "outputs": [],
   "source": [
    "# Dataset listo para exportar\n",
    "data_reviews = data_reviews_game.copy()\n",
    "\n",
    "del data_reviews_game"
   ]
  },
  {
   "cell_type": "code",
   "execution_count": null,
   "metadata": {
    "ExecuteTime": {
     "end_time": "2020-10-23T04:11:28.986240Z",
     "start_time": "2020-10-23T04:11:28.979226Z"
    }
   },
   "outputs": [],
   "source": [
    "print('Reviews games:', data_reviews.shape,\n",
    "      '- Reviews Utilites:', data_reviews_utilites.shape)"
   ]
  },
  {
   "cell_type": "markdown",
   "metadata": {},
   "source": [
    "### Exportando Datasets"
   ]
  },
  {
   "cell_type": "markdown",
   "metadata": {},
   "source": [
    "* Dataset de videojuegos:"
   ]
  },
  {
   "cell_type": "code",
   "execution_count": null,
   "metadata": {
    "ExecuteTime": {
     "end_time": "2020-10-23T04:14:34.258729Z",
     "start_time": "2020-10-23T04:12:10.179819Z"
    }
   },
   "outputs": [],
   "source": [
    "directory = 'data_processed_games'\n",
    "data_reviews.to_csv(f'{directory}/data_reviews_games.csv', index=False)\n",
    "data_games.to_csv(f'{directory}/data_games.csv', index=False)"
   ]
  },
  {
   "cell_type": "markdown",
   "metadata": {},
   "source": [
    "* Dataset de utilidades:"
   ]
  },
  {
   "cell_type": "code",
   "execution_count": null,
   "metadata": {
    "ExecuteTime": {
     "end_time": "2020-10-23T04:14:36.791991Z",
     "start_time": "2020-10-23T04:14:34.264594Z"
    }
   },
   "outputs": [],
   "source": [
    "directory = 'data_processed_utilites'\n",
    "data_reviews_utilites.to_csv(f'{directory}/data_reviews_utilites.csv', index=False)\n",
    "df_no_games.to_csv(f'{directory}/data_utilites.csv', index=False)"
   ]
  },
  {
   "cell_type": "markdown",
   "metadata": {},
   "source": [
    "### Lectura"
   ]
  },
  {
   "cell_type": "markdown",
   "metadata": {},
   "source": [
    "#### Videojuegos procesados:"
   ]
  },
  {
   "cell_type": "markdown",
   "metadata": {},
   "source": [
    "* Reviews: Se obliga a que la columna username sea tipo string porque existen usuarios cuyo nombre es \"null\" o \"N/A\", y Pandas los convierte a NaN. Ejemplo de usuario \"null\": https://steamcommunity.com/profiles/76561198170981531/"
   ]
  },
  {
   "cell_type": "code",
   "execution_count": null,
   "metadata": {
    "ExecuteTime": {
     "end_time": "2020-10-24T04:09:40.535088Z",
     "start_time": "2020-10-24T04:09:14.568559Z"
    }
   },
   "outputs": [],
   "source": [
    "directory = 'data_processed_games'\n",
    "data_reviews = pd.read_csv(\n",
    "    f'{directory}/data_reviews_games.csv', converters={'username': str, 'text': str})\n",
    "data_reviews.date = pd.to_datetime(data_reviews.date)"
   ]
  },
  {
   "cell_type": "markdown",
   "metadata": {},
   "source": [
    "* Videojuegos: Al exportar a CSV se pierde el formato de algunos datos, los géneros, tags y specs estaban compuestos por listas, en la sección de Preprocesamiento. En la lectura del archivo, aparecen como String, la siguiente función remueve las comillas simples y los corchetes en los extremos:"
   ]
  },
  {
   "cell_type": "code",
   "execution_count": null,
   "metadata": {
    "ExecuteTime": {
     "end_time": "2020-10-24T04:09:45.847378Z",
     "start_time": "2020-10-24T04:09:45.803521Z"
    }
   },
   "outputs": [],
   "source": [
    "def toList(x):\n",
    "    return x[1:-1].replace(\"'\", '').split(', ') if (x is not np.nan) else nan"
   ]
  },
  {
   "cell_type": "markdown",
   "metadata": {
    "ExecuteTime": {
     "end_time": "2020-10-22T20:30:28.619305Z",
     "start_time": "2020-10-22T20:30:28.605374Z"
    }
   },
   "source": [
    "Aquí se convierte cada elemento de tag en una lista:"
   ]
  },
  {
   "cell_type": "code",
   "execution_count": null,
   "metadata": {
    "ExecuteTime": {
     "end_time": "2020-10-24T04:09:50.645249Z",
     "start_time": "2020-10-24T04:09:46.869645Z"
    }
   },
   "outputs": [],
   "source": [
    "data_games = pd.read_csv(f'{directory}/data_games.csv',\n",
    "                         converters={\n",
    "                             'genres': lambda x: toList(x),\n",
    "                             'tags': lambda x: toList(x),\n",
    "                             'specs': lambda x: toList(x),\n",
    "                             'categories': lambda x: toList(x)\n",
    "                         })\n",
    "data_games.release_date = pd.to_datetime(data_games.release_date)"
   ]
  },
  {
   "cell_type": "code",
   "execution_count": null,
   "metadata": {
    "ExecuteTime": {
     "end_time": "2020-10-24T04:09:50.659191Z",
     "start_time": "2020-10-24T04:09:50.647222Z"
    }
   },
   "outputs": [],
   "source": [
    "data_reviews.dtypes"
   ]
  },
  {
   "cell_type": "code",
   "execution_count": null,
   "metadata": {
    "ExecuteTime": {
     "end_time": "2020-10-24T04:10:18.107176Z",
     "start_time": "2020-10-24T04:10:18.100202Z"
    }
   },
   "outputs": [],
   "source": [
    "data_games.dtypes"
   ]
  },
  {
   "cell_type": "code",
   "execution_count": null,
   "metadata": {
    "ExecuteTime": {
     "end_time": "2020-10-24T04:10:18.923725Z",
     "start_time": "2020-10-24T04:10:18.895795Z"
    }
   },
   "outputs": [],
   "source": [
    "data_games.head()"
   ]
  },
  {
   "cell_type": "code",
   "execution_count": null,
   "metadata": {
    "ExecuteTime": {
     "end_time": "2020-10-24T04:10:19.718927Z",
     "start_time": "2020-10-24T04:10:19.705962Z"
    }
   },
   "outputs": [],
   "source": [
    "data_reviews.head()"
   ]
  },
  {
   "cell_type": "code",
   "execution_count": null,
   "metadata": {
    "ExecuteTime": {
     "end_time": "2020-10-24T04:10:21.547369Z",
     "start_time": "2020-10-24T04:10:20.456255Z"
    }
   },
   "outputs": [],
   "source": [
    "data_reviews.isna().sum()"
   ]
  },
  {
   "cell_type": "markdown",
   "metadata": {},
   "source": [
    "### Consultas"
   ]
  },
  {
   "cell_type": "markdown",
   "metadata": {},
   "source": [
    "#### Usuarios únicos"
   ]
  },
  {
   "cell_type": "code",
   "execution_count": null,
   "metadata": {
    "ExecuteTime": {
     "end_time": "2020-10-24T04:10:28.426964Z",
     "start_time": "2020-10-24T04:10:23.936829Z"
    }
   },
   "outputs": [],
   "source": [
    "print(f'{len(data_reviews.username.value_counts())} usuarios únicos')"
   ]
  },
  {
   "cell_type": "markdown",
   "metadata": {},
   "source": [
    "#### Top 10 videojuegos más populares"
   ]
  },
  {
   "cell_type": "code",
   "execution_count": null,
   "metadata": {
    "ExecuteTime": {
     "end_time": "2020-10-24T04:10:28.737167Z",
     "start_time": "2020-10-24T04:10:28.428960Z"
    }
   },
   "outputs": [],
   "source": [
    "amount_by_productId = data_reviews.groupby('product_id').product_id.count().reset_index(name='amount')"
   ]
  },
  {
   "cell_type": "markdown",
   "metadata": {},
   "source": [
    "Merge entre videojuegos y reviews:"
   ]
  },
  {
   "cell_type": "code",
   "execution_count": null,
   "metadata": {
    "ExecuteTime": {
     "end_time": "2020-10-24T04:10:28.829930Z",
     "start_time": "2020-10-24T04:10:28.740127Z"
    }
   },
   "outputs": [],
   "source": [
    "reviews_games_amount = pd.merge(amount_by_productId, data_games, left_on='product_id',\n",
    "                               right_on='id').sort_values(by='amount', ascending=False)\n",
    "top10 = reviews_games_amount.head(10)"
   ]
  },
  {
   "cell_type": "code",
   "execution_count": null,
   "metadata": {
    "ExecuteTime": {
     "end_time": "2020-10-24T04:10:28.837899Z",
     "start_time": "2020-10-24T04:10:28.832921Z"
    }
   },
   "outputs": [],
   "source": [
    "# Valores para mostrar en la leyenda de cada barra\n",
    "HOVER_DATA_COLUMNS = ['publisher', 'release_date', 'genres', 'category_price']"
   ]
  },
  {
   "cell_type": "code",
   "execution_count": null,
   "metadata": {
    "ExecuteTime": {
     "end_time": "2020-10-24T04:10:29.345627Z",
     "start_time": "2020-10-24T04:10:28.839870Z"
    }
   },
   "outputs": [],
   "source": [
    "fig = px.bar(top10.sort_values(by='amount'), y='app_name', x='amount', color='amount', title='Videojuegos más populares',\n",
    "             color_continuous_scale='viridis',\n",
    "             labels={'app_name': 'Videojuegos',\n",
    "                     \"amount\": 'Cantidad de usuarios'},\n",
    "             hover_data=HOVER_DATA_COLUMNS)\n",
    "fig.update_layout(\n",
    "    autosize=False,\n",
    "    width=800,\n",
    "    height=500,\n",
    "    margin=dict(l=20, r=20, t=40, b=10)\n",
    ")\n",
    "fig.show('svg')"
   ]
  },
  {
   "cell_type": "code",
   "execution_count": null,
   "metadata": {
    "ExecuteTime": {
     "end_time": "2020-10-24T04:10:29.365571Z",
     "start_time": "2020-10-24T04:10:29.360559Z"
    }
   },
   "outputs": [],
   "source": [
    "del top10"
   ]
  },
  {
   "cell_type": "markdown",
   "metadata": {},
   "source": [
    "#### Videojuegos con más tiempo de juego"
   ]
  },
  {
   "cell_type": "code",
   "execution_count": null,
   "metadata": {
    "ExecuteTime": {
     "end_time": "2020-10-24T04:10:33.826284Z",
     "start_time": "2020-10-24T04:10:33.522999Z"
    }
   },
   "outputs": [],
   "source": [
    "hours_by_productId = data_reviews.groupby('product_id', as_index=False).hours.sum()\n",
    "\n",
    "reviews_games_hours = pd.merge(hours_by_productId, data_games, left_on='product_id',\n",
    "                               right_on='id').sort_values(by='hours', ascending=False)\n",
    "\n",
    "hours10 = reviews_games_hours.head(10).sort_values(by='hours')"
   ]
  },
  {
   "cell_type": "code",
   "execution_count": null,
   "metadata": {
    "ExecuteTime": {
     "end_time": "2020-10-24T04:10:34.507565Z",
     "start_time": "2020-10-24T04:10:34.372921Z"
    }
   },
   "outputs": [],
   "source": [
    "fig = px.bar(data_frame=hours10, y='app_name', x='hours', color='hours', title='Videojuegos con mas tiempo de juego',\n",
    "             color_continuous_scale='viridis',\n",
    "             labels={'app_name': 'Videojuegos', \"hours\": 'Horas de juego'},\n",
    "             hover_data=HOVER_DATA_COLUMNS)\n",
    "\n",
    "fig.update_layout(\n",
    "    autosize=False,\n",
    "    width=800,\n",
    "    height=500,\n",
    "    margin=dict(l=20, r=20, t=40, b=10)\n",
    ")\n",
    "fig.show('svg')"
   ]
  },
  {
   "cell_type": "code",
   "execution_count": null,
   "metadata": {
    "ExecuteTime": {
     "end_time": "2020-10-24T04:10:35.402698Z",
     "start_time": "2020-10-24T04:10:35.398718Z"
    }
   },
   "outputs": [],
   "source": [
    "#Liberando memoria\n",
    "del hours_by_productId, reviews_games_hours, hours10"
   ]
  },
  {
   "cell_type": "markdown",
   "metadata": {},
   "source": [
    "#### Género más popular"
   ]
  },
  {
   "cell_type": "code",
   "execution_count": null,
   "metadata": {
    "ExecuteTime": {
     "end_time": "2020-10-24T04:10:36.482079Z",
     "start_time": "2020-10-24T04:10:36.437213Z"
    }
   },
   "outputs": [],
   "source": [
    "all_genres = list(itertools.chain(*data_games.genres))\n",
    "value, count = np.unique(all_genres, return_counts=True)\n",
    "order = np.argsort(count)"
   ]
  },
  {
   "cell_type": "code",
   "execution_count": null,
   "metadata": {
    "ExecuteTime": {
     "end_time": "2020-10-24T04:10:37.198469Z",
     "start_time": "2020-10-24T04:10:36.912234Z"
    }
   },
   "outputs": [],
   "source": [
    "fig = px.bar(x=count[order], y=value[order], color=count[order], color_continuous_scale='emrld', title='Generos', labels={\n",
    "    'x': 'Cantidad de videojuegos', 'y': 'Generos', 'color': 'Cantidad'})\n",
    "fig.update_layout(\n",
    "    autosize=False,\n",
    "    width=800,\n",
    "    height=500,\n",
    "    margin=dict(l=20, r=20, t=3, b=10)\n",
    ")\n",
    "fig.show('svg')"
   ]
  },
  {
   "cell_type": "markdown",
   "metadata": {},
   "source": [
    "#### Videojuegos de pago mas jugados"
   ]
  },
  {
   "cell_type": "code",
   "execution_count": null,
   "metadata": {
    "ExecuteTime": {
     "end_time": "2020-10-24T04:10:37.952836Z",
     "start_time": "2020-10-24T04:10:37.904934Z"
    }
   },
   "outputs": [],
   "source": [
    "df_items = data_games.query('category_price==\"paid\"')\n",
    "merge_paid_games = pd.merge(amount_by_productId, df_items, left_on='product_id',\n",
    "                            right_on='id').sort_values(by='amount', ascending=False).head(10)"
   ]
  },
  {
   "cell_type": "code",
   "execution_count": null,
   "metadata": {
    "ExecuteTime": {
     "end_time": "2020-10-24T04:10:40.576328Z",
     "start_time": "2020-10-24T04:10:40.446650Z"
    }
   },
   "outputs": [],
   "source": [
    "fig = px.bar(data_frame=merge_paid_games, x='app_name', y='amount', title='Videojuegos de pago mas jugados',\n",
    "             labels={'app_name': 'Videojuegos',\n",
    "                     'amount': 'Cantidad de usuarios'},\n",
    "             hover_data=HOVER_DATA_COLUMNS,\n",
    "             color=merge_paid_games.amount, color_continuous_scale='ylorrd')\n",
    "fig.update_layout(\n",
    "    autosize=False,\n",
    "    width=800,\n",
    "    height=500,\n",
    "    margin=dict(l=30, r=20, t=40, b=30)\n",
    ")\n",
    "fig.show('svg')"
   ]
  },
  {
   "cell_type": "code",
   "execution_count": null,
   "metadata": {
    "ExecuteTime": {
     "end_time": "2020-10-24T04:10:41.196671Z",
     "start_time": "2020-10-24T04:10:41.192679Z"
    }
   },
   "outputs": [],
   "source": [
    "del merge_paid_games"
   ]
  },
  {
   "cell_type": "markdown",
   "metadata": {},
   "source": [
    "#### Videojuegos gratis mas jugados"
   ]
  },
  {
   "cell_type": "code",
   "execution_count": null,
   "metadata": {
    "ExecuteTime": {
     "end_time": "2020-10-24T04:10:42.993867Z",
     "start_time": "2020-10-24T04:10:42.976887Z"
    }
   },
   "outputs": [],
   "source": [
    "df_items = data_games.query('category_price==\"free\"')\n",
    "merge_free_games = pd.merge(amount_by_productId, df_items, left_on='product_id',\n",
    "                            right_on='id').sort_values(by='amount', ascending=False).head(10)"
   ]
  },
  {
   "cell_type": "code",
   "execution_count": null,
   "metadata": {
    "ExecuteTime": {
     "end_time": "2020-10-24T04:10:43.614184Z",
     "start_time": "2020-10-24T04:10:43.500495Z"
    }
   },
   "outputs": [],
   "source": [
    "fig = px.bar(data_frame=merge_free_games, x='app_name', y='amount', title='Videojuegos gratis mas jugados',\n",
    "             labels={'app_name': 'Videojuegos',\n",
    "                     'amount': 'Cantidad de usuarios', 'color': 'Cantidad'},\n",
    "             hover_data=HOVER_DATA_COLUMNS,\n",
    "             color=merge_free_games.amount, color_continuous_scale='ylorrd')\n",
    "\n",
    "fig.update_layout(\n",
    "    autosize=False,\n",
    "    width=800,\n",
    "    height=500,\n",
    "    margin=dict(l=20, r=20, t=40, b=30)\n",
    ")\n",
    "fig.show('svg')"
   ]
  },
  {
   "cell_type": "code",
   "execution_count": null,
   "metadata": {
    "ExecuteTime": {
     "end_time": "2020-10-24T04:10:44.372183Z",
     "start_time": "2020-10-24T04:10:44.367171Z"
    }
   },
   "outputs": [],
   "source": [
    "del merge_free_games"
   ]
  },
  {
   "cell_type": "markdown",
   "metadata": {},
   "source": [
    "#### Cantidad de usuarios por precio de videojuego"
   ]
  },
  {
   "cell_type": "code",
   "execution_count": null,
   "metadata": {
    "ExecuteTime": {
     "end_time": "2020-10-24T04:10:45.572974Z",
     "start_time": "2020-10-24T04:10:45.556991Z"
    }
   },
   "outputs": [],
   "source": [
    "sum_amount_categories = (reviews_games_amount.groupby('category_price').amount.sum() /\n",
    "                         reviews_games_amount.amount.sum()).to_frame(name='amount').reset_index()\n",
    "\n",
    "sum_amount_categories.sort_values(by='amount', ascending=False, inplace=True)\n",
    "sum_amount_categories"
   ]
  },
  {
   "cell_type": "code",
   "execution_count": null,
   "metadata": {
    "ExecuteTime": {
     "end_time": "2020-10-24T04:10:46.468556Z",
     "start_time": "2020-10-24T04:10:46.347903Z"
    }
   },
   "outputs": [],
   "source": [
    "fig = px.bar(sum_amount_categories, x='category_price',\n",
    "             y='amount', title='% Usuarios por precio', color=['Pago', 'Gratis'],  width=500, height=400,\n",
    "             labels={'category_price': 'Precios', 'amount': '% Usuarios', 'color': 'Categoria'})\n",
    "fig.update_layout(\n",
    "    autosize=False,\n",
    "    width=500,\n",
    "    height=400,\n",
    "    margin=dict(l=20, r=20, t=40, b=30)\n",
    ")\n",
    "fig.show('svg')"
   ]
  },
  {
   "cell_type": "markdown",
   "metadata": {},
   "source": [
    "#### Series de tiempo"
   ]
  },
  {
   "cell_type": "markdown",
   "metadata": {},
   "source": [
    "##### Lanzamiento de videojuegos"
   ]
  },
  {
   "cell_type": "code",
   "execution_count": null,
   "metadata": {
    "ExecuteTime": {
     "end_time": "2020-10-24T04:10:53.671029Z",
     "start_time": "2020-10-24T04:10:53.639112Z"
    }
   },
   "outputs": [],
   "source": [
    "# Creando nueva columna para nombre del mes\n",
    "games = data_games.assign(\n",
    "    month_name=data_games.release_date.dt.month_name())\n",
    "\n",
    "# Frecuencia de cada mes\n",
    "games = games.month_name.value_counts()\n",
    "\n",
    "# Pasando objeto value_counts a DataFrame\n",
    "games = pd.DataFrame({'month_name': games.index, 'amount': games.values})\n",
    "\n",
    "# Creando el numero del mes\n",
    "games['n_month'] = pd.to_datetime(\n",
    "    games.month_name, format='%B', errors='coerce').dt.month\n",
    "\n",
    "# Ordenando por numero de mes\n",
    "games.sort_values(by='n_month', inplace=True)"
   ]
  },
  {
   "cell_type": "code",
   "execution_count": null,
   "metadata": {
    "ExecuteTime": {
     "end_time": "2020-10-24T04:11:00.613409Z",
     "start_time": "2020-10-24T04:11:00.550602Z"
    }
   },
   "outputs": [],
   "source": [
    "fig = go.Figure()\n",
    "fig.add_trace(go.Scatter(\n",
    "    x=games.month_name,\n",
    "    y=games.amount,\n",
    "    marker={'size': 13, 'opacity': .7},\n",
    "))\n",
    "fig.update_layout(\n",
    "    title='Videojuegos / Fechas de lanzamiento',\n",
    "    autosize=False,\n",
    "    height=500,\n",
    "    width=950,\n",
    "    hoverdistance=100,\n",
    "    spikedistance=1000,\n",
    "    xaxis=dict(\n",
    "        title_text='Meses',\n",
    "        titlefont=dict(size=18),\n",
    "        showspikes=True,\n",
    "        spikethickness=2,\n",
    "        spikedash=\"dot\",\n",
    "        spikecolor=\"#999999\",\n",
    "        spikemode=\"across\"),\n",
    "    yaxis=dict(title_text=\"Videojuegos publicados\", titlefont=dict(size=18))\n",
    ")\n",
    "fig.show('svg')"
   ]
  },
  {
   "cell_type": "markdown",
   "metadata": {},
   "source": [
    "La mayoría de los videojuegos pueden estar siguiendo una estrategia de marketing lo cual explica que el número de publicaciones se acrecenta enormemente en los últimos meses del año."
   ]
  },
  {
   "cell_type": "code",
   "execution_count": null,
   "metadata": {
    "ExecuteTime": {
     "end_time": "2020-10-24T04:11:08.456451Z",
     "start_time": "2020-10-24T04:11:08.452484Z"
    }
   },
   "outputs": [],
   "source": [
    "del games"
   ]
  },
  {
   "cell_type": "markdown",
   "metadata": {},
   "source": [
    "##### Concentración de usuarios en el año"
   ]
  },
  {
   "cell_type": "code",
   "execution_count": null,
   "metadata": {
    "ExecuteTime": {
     "end_time": "2020-10-24T04:11:14.673567Z",
     "start_time": "2020-10-24T04:11:11.181866Z"
    }
   },
   "outputs": [],
   "source": [
    "users_by_month = data_reviews.assign(month_name=data_reviews.date.dt.month_name())\n",
    "\n",
    "users_by_month = users_by_month.month_name.value_counts()\n",
    "\n",
    "users_by_month = pd.DataFrame(\n",
    "    {'month_name': users_by_month.index, 'amount': users_by_month.values})\n",
    "\n",
    "users_by_month['month_number'] = pd.to_datetime(users_by_month.month_name,\n",
    "                                                format='%B', errors='coerce').dt.month\n",
    "\n",
    "users_by_month.sort_values(by='month_number', inplace=True)\n",
    "users_by_month"
   ]
  },
  {
   "cell_type": "code",
   "execution_count": null,
   "metadata": {
    "ExecuteTime": {
     "end_time": "2020-10-24T04:11:14.738363Z",
     "start_time": "2020-10-24T04:11:14.675533Z"
    }
   },
   "outputs": [],
   "source": [
    "fig = go.Figure()\n",
    "fig.add_trace(go.Scatter(\n",
    "    x=users_by_month.month_name,\n",
    "    y=users_by_month.amount,\n",
    "    line={'color': '#000000'},\n",
    "    marker={'size': 13, 'opacity': .7},\n",
    "))\n",
    "fig.update_layout(\n",
    "    title='Usuarios activos en el año',\n",
    "    autosize=False,\n",
    "    height=500,\n",
    "    width=950,\n",
    "    hoverdistance=100,\n",
    "    spikedistance=1000,\n",
    "    xaxis=dict(\n",
    "        title_text='Meses',\n",
    "        titlefont=dict(size=18),\n",
    "        showspikes=True,\n",
    "        spikethickness=2,\n",
    "        spikedash=\"dot\",\n",
    "        spikecolor=\"red\",\n",
    "        spikemode=\"across\"),\n",
    "    yaxis=dict(title_text=\"Cantidad de usuarios\", titlefont=dict(size=18))\n",
    ")\n",
    "fig.show('svg')"
   ]
  },
  {
   "cell_type": "markdown",
   "metadata": {},
   "source": [
    "Vemos que se presentan 3 picos en la gráfica: A inicios, mitad y fin de año, lo cual puede estar relacionado a las temporadas de verano e invierno en Estados Unidos, en éstas épocas se concentran la mayoría de usuarios e invierten más horas de su tiempo libre en videojuegos de Steam."
   ]
  },
  {
   "cell_type": "code",
   "execution_count": null,
   "metadata": {
    "ExecuteTime": {
     "end_time": "2020-10-24T04:11:14.747354Z",
     "start_time": "2020-10-24T04:11:14.742365Z"
    }
   },
   "outputs": [],
   "source": [
    "del users_by_month"
   ]
  },
  {
   "cell_type": "markdown",
   "metadata": {},
   "source": [
    "##### 20 Videojuegos más antiguos"
   ]
  },
  {
   "cell_type": "code",
   "execution_count": null,
   "metadata": {
    "ExecuteTime": {
     "end_time": "2020-10-24T04:11:16.117378Z",
     "start_time": "2020-10-24T04:11:15.773288Z"
    }
   },
   "outputs": [],
   "source": [
    "older_games = data_games.drop(['url', 'categories'], axis=1).sort_values(\n",
    "    by='release_date', ascending=True).head(20)\n",
    "\n",
    "group_users = data_reviews.query('product_id in @older_games.id')\\\n",
    "    .groupby('product_id').product_id.count().reset_index(name='amount')\n",
    "\n",
    "older_games = pd.merge(\n",
    "    older_games, group_users, left_on='id', right_on='product_id')\n",
    "\n",
    "older_games['year'] = older_games.release_date.dt.year"
   ]
  },
  {
   "cell_type": "code",
   "execution_count": null,
   "metadata": {
    "ExecuteTime": {
     "end_time": "2020-10-24T04:11:16.461449Z",
     "start_time": "2020-10-24T04:11:16.191181Z"
    }
   },
   "outputs": [],
   "source": [
    "fig = px.bar(data_frame=older_games,\n",
    "             x='amount',\n",
    "             y='year',\n",
    "             color='app_name',\n",
    "             labels={'year': 'Año', 'amount': 'Cantidad de usuarios',\n",
    "                     'app_name': 'Videojuego'},\n",
    "             hover_data=HOVER_DATA_COLUMNS, orientation='h')\n",
    "\n",
    "fig.update_layout(\n",
    "    width=850,\n",
    "    height=5000,\n",
    "    legend=dict(traceorder='reversed'),\n",
    "    margin=dict(r=0, t=0, l=0, b=0),\n",
    ")\n",
    "fig.show('svg')"
   ]
  },
  {
   "cell_type": "markdown",
   "metadata": {},
   "source": [
    "El videojuego \"Dragon's Lair\" a pesar de ser el más antiguo es el que posee mayor cantidad de reviews entre los videojuegos de esa época."
   ]
  },
  {
   "cell_type": "code",
   "execution_count": null,
   "metadata": {
    "ExecuteTime": {
     "end_time": "2020-10-24T04:11:17.082775Z",
     "start_time": "2020-10-24T04:11:17.078809Z"
    }
   },
   "outputs": [],
   "source": [
    "del older_games, group_users"
   ]
  },
  {
   "cell_type": "markdown",
   "metadata": {},
   "source": [
    "#### Nube de palabras Videojuego más popular"
   ]
  },
  {
   "cell_type": "markdown",
   "metadata": {},
   "source": [
    "Inicializando variables:"
   ]
  },
  {
   "cell_type": "code",
   "execution_count": null,
   "metadata": {
    "ExecuteTime": {
     "end_time": "2020-10-24T04:11:20.635897Z",
     "start_time": "2020-10-24T04:11:18.308970Z"
    }
   },
   "outputs": [],
   "source": [
    "reviews = data_reviews[data_reviews.product_id ==\n",
    "                       reviews_games_amount.iloc[0].id].text\n",
    "stopwords = nltk.corpus.stopwords.words('english')\n",
    "wnl = WordNetLemmatizer()\n",
    "sentences=[]"
   ]
  },
  {
   "cell_type": "code",
   "execution_count": null,
   "metadata": {
    "ExecuteTime": {
     "end_time": "2020-10-24T04:12:06.445681Z",
     "start_time": "2020-10-24T04:11:20.637888Z"
    }
   },
   "outputs": [],
   "source": [
    "for review in reviews:\n",
    "    # Normalizando\n",
    "    sent = re.sub('[^a-zA-Z!¡?¿]', ' ', review).strip().lower()\n",
    "    words = nltk.word_tokenize(sent)\n",
    "    \n",
    "    # Aplicando Lematizacion\n",
    "    words = [wnl.lemmatize(word) for word in words]\n",
    "    words = [word for word in words if (\n",
    "        word not in stopwords) and len(word) > 2]    \n",
    "    words = \" \".join(words)\n",
    "    sentences.append(words)"
   ]
  },
  {
   "cell_type": "markdown",
   "metadata": {},
   "source": [
    "Formando una sola oración con todas las palabras:"
   ]
  },
  {
   "cell_type": "code",
   "execution_count": null,
   "metadata": {
    "ExecuteTime": {
     "end_time": "2020-10-24T04:12:06.470526Z",
     "start_time": "2020-10-24T04:12:06.448598Z"
    }
   },
   "outputs": [],
   "source": [
    "sentences = \" \".join(sentences)"
   ]
  },
  {
   "cell_type": "markdown",
   "metadata": {},
   "source": [
    "Imagen original:"
   ]
  },
  {
   "cell_type": "code",
   "execution_count": null,
   "metadata": {
    "ExecuteTime": {
     "end_time": "2020-10-24T04:12:09.311247Z",
     "start_time": "2020-10-24T04:12:09.064930Z"
    }
   },
   "outputs": [],
   "source": [
    "steam_img = Image.open('background.jpg')\n",
    "steam_img"
   ]
  },
  {
   "cell_type": "markdown",
   "metadata": {},
   "source": [
    "Procesando imagen para la nube de palabras:"
   ]
  },
  {
   "cell_type": "code",
   "execution_count": null,
   "metadata": {
    "ExecuteTime": {
     "end_time": "2020-10-24T04:12:10.548158Z",
     "start_time": "2020-10-24T04:12:10.470361Z"
    }
   },
   "outputs": [],
   "source": [
    "steam_img = np.array(steam_img)[::3, ::3]\n",
    "steam_mask = steam_img.copy()\n",
    "steam_mask[steam_mask.sum(axis=2) == 88] = 255\n",
    "\n",
    "edges = np.mean([gaussian_gradient_magnitude(steam_img[:, :, i]/255, .5)\n",
    "                 for i in range(3)], axis=0)\n",
    "steam_mask[edges > .200] = 255"
   ]
  },
  {
   "cell_type": "code",
   "execution_count": null,
   "metadata": {
    "ExecuteTime": {
     "end_time": "2020-10-24T04:12:22.027479Z",
     "start_time": "2020-10-24T04:12:10.957037Z"
    }
   },
   "outputs": [],
   "source": [
    "wc = WordCloud(mask=steam_mask, max_words=2800, relative_scaling=.7,\n",
    "               max_font_size=50, repeat=False, scale=3, contour_color='white')\n",
    "wc.generate(sentences)"
   ]
  },
  {
   "cell_type": "markdown",
   "metadata": {
    "ExecuteTime": {
     "end_time": "2020-10-24T03:20:08.283521Z",
     "start_time": "2020-10-24T03:20:08.275512Z"
    }
   },
   "source": [
    "Finalmente:"
   ]
  },
  {
   "cell_type": "code",
   "execution_count": null,
   "metadata": {
    "ExecuteTime": {
     "end_time": "2020-10-24T04:12:23.270156Z",
     "start_time": "2020-10-24T04:12:22.029448Z"
    }
   },
   "outputs": [],
   "source": [
    "image_color=ImageColorGenerator(steam_img)\n",
    "wc.recolor(color_func=image_color)\n",
    "wc.to_image()"
   ]
  },
  {
   "cell_type": "code",
   "execution_count": null,
   "metadata": {
    "ExecuteTime": {
     "end_time": "2020-10-24T04:14:23.312751Z",
     "start_time": "2020-10-24T04:14:23.308742Z"
    }
   },
   "outputs": [],
   "source": [
    "del steam_img, steam_mask, wc"
   ]
  },
  {
   "cell_type": "markdown",
   "metadata": {},
   "source": [
    "## Sistema de recomendación"
   ]
  },
  {
   "cell_type": "markdown",
   "metadata": {},
   "source": [
    "### Generando calificaciones"
   ]
  },
  {
   "cell_type": "markdown",
   "metadata": {},
   "source": [
    "### Filtro colaborativo"
   ]
  },
  {
   "cell_type": "code",
   "execution_count": null,
   "metadata": {},
   "outputs": [],
   "source": []
  }
 ],
 "metadata": {
  "colab": {
   "collapsed_sections": [],
   "name": "DS_Proyecto_03_SR.ipynb",
   "provenance": []
  },
  "kernelspec": {
   "display_name": "Python 3",
   "language": "python",
   "name": "python3"
  },
  "language_info": {
   "codemirror_mode": {
    "name": "ipython",
    "version": 3
   },
   "file_extension": ".py",
   "mimetype": "text/x-python",
   "name": "python",
   "nbconvert_exporter": "python",
   "pygments_lexer": "ipython3",
   "version": "3.7.6"
  },
  "toc": {
   "base_numbering": 1,
   "nav_menu": {},
   "number_sections": true,
   "sideBar": true,
   "skip_h1_title": false,
   "title_cell": "Table of Contents",
   "title_sidebar": "Contents",
   "toc_cell": false,
   "toc_position": {
    "height": "calc(100% - 180px)",
    "left": "10px",
    "top": "150px",
    "width": "264.182px"
   },
   "toc_section_display": true,
   "toc_window_display": true
  }
 },
 "nbformat": 4,
 "nbformat_minor": 1
}