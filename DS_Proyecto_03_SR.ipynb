{
 "cells": [
  {
   "cell_type": "markdown",
   "metadata": {
    "colab_type": "text",
    "id": "gzJLet17WTzh"
   },
   "source": [
    "# Proyecto 03 - Sistemas de Recomendación\n",
    "\n",
    "## Dataset: STEAM\n",
    "\n",
    "**Recuerda descargar el dataset de [aquí](https://github.com/kang205/SASRec). Son dos archivos, uno de calificaciones y otro de información sobre los juegos.**\n",
    "\n",
    "En este notebook te dejamos unas celdas para que puedas comenzar a trabajar con este dataset. Sin embargo, **deberás** modificarlas para hacer un mejor manejo de datos. Algunas cosas a las que deberás prestar atención (tal vez no a todas):\n",
    "1. Tipos de datos: elige tipos de datos apropiados para cada columna.\n",
    "2. Descartar columnas poco informativas.\n",
    "3. Guardar en memoria datasets preprocesados para no tener que repetir código que tarde en correr.\n",
    "\n",
    "### Exploración de datos\n",
    "\n",
    "Dedícale un buen tiempo a hacer un Análisis Exploratorio de Datos. Elige preguntas que creas que puedas responder con este dataset. Por ejemplo, ¿cuáles son los juegos más populares?¿Y los menos populares?\n",
    "\n",
    "### Filtro Colaborativo\n",
    "\n",
    "Deberás implementar un sistema de recomendación colaborativo para este dataset. Ten en cuenta:\n",
    "\n",
    "1. Haz todas las transformaciones de datos que consideres necesarias. Justifica.\n",
    "1. Evalúa de forma apropiada sus resultados. Justifica la métrica elegida.\n",
    "1. Elige un modelo benchmark y compara tus resultados con este modelo.\n",
    "1. Optimiza los hiperparámetros de tu modelo.\n",
    "\n",
    "Puedes implementar un filtro colaborativo a partir de la similitud coseno o índice de Jaccard. ¿Puedes utilizar los métodos de la librería Surprise? Si no es así, busca implementaciones (por ejemplo, nuevas librerías) que sean apropiadas.\n",
    "\n",
    "Para comenzar a trabajar, puedes asumir que cada entrada es un enlace entre una persona usuaria y un item, **independientemente** de si la crítica es buena o mala. \n",
    "\n",
    "### Para pensar, investigar y, opcionalmente, implementar\n",
    "1. ¿Cómo harías para ponerle un valor a la calificación?\n",
    "1. ¿Cómo harías para agregar contenido? Por ejemplo, cuentas con el género, precio, fecha de lanzamiento y más información de los juegos.\n",
    "1. ¿Hay algo que te gustaría investigar o probar?\n",
    "\n",
    "### **¡Tómate tiempo para investigar y leer mucho!**"
   ]
  },
  {
   "cell_type": "code",
   "execution_count": 1,
   "metadata": {
    "ExecuteTime": {
     "end_time": "2020-10-05T18:54:27.319104Z",
     "start_time": "2020-10-05T18:54:24.740749Z"
    }
   },
   "outputs": [],
   "source": [
    "import gzip\n",
    "import pandas as pd\n",
    "import seaborn as sns\n",
    "import matplotlib.pyplot as plt\n",
    "import numpy as np\n",
    "import gc\n",
    "sns.set()"
   ]
  },
  {
   "cell_type": "code",
   "execution_count": 2,
   "metadata": {
    "ExecuteTime": {
     "end_time": "2020-10-05T18:54:27.326067Z",
     "start_time": "2020-10-05T18:54:27.321097Z"
    },
    "colab": {},
    "colab_type": "code",
    "id": "lWZhtUxEWTzj"
   },
   "outputs": [],
   "source": [
    "def parse(path):\n",
    "    g = gzip.open(path, 'r')\n",
    "    for l in g:\n",
    "        yield eval(l)"
   ]
  },
  {
   "cell_type": "markdown",
   "metadata": {
    "colab_type": "text",
    "id": "BmEM25k4WTzw"
   },
   "source": [
    "#### Reviews"
   ]
  },
  {
   "cell_type": "code",
   "execution_count": 3,
   "metadata": {
    "ExecuteTime": {
     "end_time": "2020-10-05T19:00:25.246742Z",
     "start_time": "2020-10-05T18:54:34.431932Z"
    },
    "colab": {},
    "colab_type": "code",
    "id": "abAXItn1WTz0"
   },
   "outputs": [],
   "source": [
    "contador = 0\n",
    "data_reviews = []\n",
    "# Vamos a guardar una de cada 10 reviews para no llenar la memoria RAM. Si pones n = 3, \n",
    "# abrira uno de cada tres, y asi.\n",
    "n = 1\n",
    "for l in parse('steam_reviews.json.gz'):\n",
    "    if contador%n == 0:\n",
    "        data_reviews.append(l)\n",
    "    else:\n",
    "        pass\n",
    "    contador += 1"
   ]
  },
  {
   "cell_type": "code",
   "execution_count": 4,
   "metadata": {
    "ExecuteTime": {
     "end_time": "2020-10-05T19:11:44.634008Z",
     "start_time": "2020-10-05T19:00:25.284684Z"
    }
   },
   "outputs": [],
   "source": [
    "data_reviews = pd.DataFrame(data_reviews)"
   ]
  },
  {
   "cell_type": "code",
   "execution_count": 5,
   "metadata": {
    "ExecuteTime": {
     "end_time": "2020-10-05T19:11:45.048022Z",
     "start_time": "2020-10-05T19:11:44.671941Z"
    },
    "colab": {},
    "colab_type": "code",
    "id": "j24F0ZaYWT0E"
   },
   "outputs": [
    {
     "data": {
      "text/html": [
       "<div>\n",
       "<style scoped>\n",
       "    .dataframe tbody tr th:only-of-type {\n",
       "        vertical-align: middle;\n",
       "    }\n",
       "\n",
       "    .dataframe tbody tr th {\n",
       "        vertical-align: top;\n",
       "    }\n",
       "\n",
       "    .dataframe thead th {\n",
       "        text-align: right;\n",
       "    }\n",
       "</style>\n",
       "<table border=\"1\" class=\"dataframe\">\n",
       "  <thead>\n",
       "    <tr style=\"text-align: right;\">\n",
       "      <th></th>\n",
       "      <th>username</th>\n",
       "      <th>hours</th>\n",
       "      <th>products</th>\n",
       "      <th>product_id</th>\n",
       "      <th>page_order</th>\n",
       "      <th>date</th>\n",
       "      <th>text</th>\n",
       "      <th>early_access</th>\n",
       "      <th>page</th>\n",
       "      <th>found_funny</th>\n",
       "      <th>compensation</th>\n",
       "      <th>user_id</th>\n",
       "    </tr>\n",
       "  </thead>\n",
       "  <tbody>\n",
       "    <tr>\n",
       "      <th>0</th>\n",
       "      <td>Chaos Syren</td>\n",
       "      <td>0.1</td>\n",
       "      <td>41.0</td>\n",
       "      <td>725280</td>\n",
       "      <td>0</td>\n",
       "      <td>2017-12-17</td>\n",
       "      <td>This would not be acceptable as an entertainme...</td>\n",
       "      <td>False</td>\n",
       "      <td>1</td>\n",
       "      <td>NaN</td>\n",
       "      <td>NaN</td>\n",
       "      <td>NaN</td>\n",
       "    </tr>\n",
       "    <tr>\n",
       "      <th>1</th>\n",
       "      <td>₮ʜᴇ Wᴀʀᴛᴏɴ</td>\n",
       "      <td>51.1</td>\n",
       "      <td>769.0</td>\n",
       "      <td>328100</td>\n",
       "      <td>0</td>\n",
       "      <td>2017-12-27</td>\n",
       "      <td>looks like a facebook game</td>\n",
       "      <td>False</td>\n",
       "      <td>1</td>\n",
       "      <td>NaN</td>\n",
       "      <td>NaN</td>\n",
       "      <td>NaN</td>\n",
       "    </tr>\n",
       "    <tr>\n",
       "      <th>2</th>\n",
       "      <td>hello?&lt;</td>\n",
       "      <td>14.6</td>\n",
       "      <td>2.0</td>\n",
       "      <td>328100</td>\n",
       "      <td>1</td>\n",
       "      <td>2017-10-16</td>\n",
       "      <td>Better than Minecraft</td>\n",
       "      <td>False</td>\n",
       "      <td>1</td>\n",
       "      <td>2.0</td>\n",
       "      <td>Product received for free</td>\n",
       "      <td>NaN</td>\n",
       "    </tr>\n",
       "    <tr>\n",
       "      <th>3</th>\n",
       "      <td>Cyderine916</td>\n",
       "      <td>5.0</td>\n",
       "      <td>64.0</td>\n",
       "      <td>35140</td>\n",
       "      <td>0</td>\n",
       "      <td>2018-01-04</td>\n",
       "      <td>I love and idolized Batman and this game is Ma...</td>\n",
       "      <td>False</td>\n",
       "      <td>1</td>\n",
       "      <td>NaN</td>\n",
       "      <td>NaN</td>\n",
       "      <td>NaN</td>\n",
       "    </tr>\n",
       "    <tr>\n",
       "      <th>4</th>\n",
       "      <td>DarklyThinking</td>\n",
       "      <td>16.6</td>\n",
       "      <td>577.0</td>\n",
       "      <td>35140</td>\n",
       "      <td>1</td>\n",
       "      <td>2018-01-04</td>\n",
       "      <td>Still worth playing in 2018.\\nProbably my favo...</td>\n",
       "      <td>False</td>\n",
       "      <td>1</td>\n",
       "      <td>NaN</td>\n",
       "      <td>NaN</td>\n",
       "      <td>76561198007483075</td>\n",
       "    </tr>\n",
       "  </tbody>\n",
       "</table>\n",
       "</div>"
      ],
      "text/plain": [
       "         username  hours  products product_id  page_order        date  \\\n",
       "0     Chaos Syren    0.1      41.0     725280           0  2017-12-17   \n",
       "1      ₮ʜᴇ Wᴀʀᴛᴏɴ   51.1     769.0     328100           0  2017-12-27   \n",
       "2         hello?<   14.6       2.0     328100           1  2017-10-16   \n",
       "3     Cyderine916    5.0      64.0      35140           0  2018-01-04   \n",
       "4  DarklyThinking   16.6     577.0      35140           1  2018-01-04   \n",
       "\n",
       "                                                text  early_access  page  \\\n",
       "0  This would not be acceptable as an entertainme...         False     1   \n",
       "1                         looks like a facebook game         False     1   \n",
       "2                              Better than Minecraft         False     1   \n",
       "3  I love and idolized Batman and this game is Ma...         False     1   \n",
       "4  Still worth playing in 2018.\\nProbably my favo...         False     1   \n",
       "\n",
       "   found_funny               compensation            user_id  \n",
       "0          NaN                        NaN                NaN  \n",
       "1          NaN                        NaN                NaN  \n",
       "2          2.0  Product received for free                NaN  \n",
       "3          NaN                        NaN                NaN  \n",
       "4          NaN                        NaN  76561198007483075  "
      ]
     },
     "execution_count": 5,
     "metadata": {},
     "output_type": "execute_result"
    }
   ],
   "source": [
    "data_reviews.head()"
   ]
  },
  {
   "cell_type": "code",
   "execution_count": 6,
   "metadata": {
    "ExecuteTime": {
     "end_time": "2020-10-05T19:12:49.845157Z",
     "start_time": "2020-10-05T19:11:45.051013Z"
    },
    "colab": {},
    "colab_type": "code",
    "id": "8F-EVRZ4WT0L"
   },
   "outputs": [
    {
     "data": {
      "text/plain": [
       "username         0.000000\n",
       "hours            0.340521\n",
       "products         0.191978\n",
       "product_id       0.000000\n",
       "page_order       0.000000\n",
       "date             0.000000\n",
       "text             0.000000\n",
       "early_access     0.000000\n",
       "page             0.000000\n",
       "found_funny     84.592001\n",
       "compensation    98.131378\n",
       "user_id         59.242976\n",
       "dtype: float64"
      ]
     },
     "execution_count": 6,
     "metadata": {},
     "output_type": "execute_result"
    }
   ],
   "source": [
    "data_reviews.isna().sum()*100/len(data_reviews)"
   ]
  },
  {
   "cell_type": "markdown",
   "metadata": {
    "colab_type": "text",
    "id": "04ed3teRWT0T"
   },
   "source": [
    "#### Games"
   ]
  },
  {
   "cell_type": "code",
   "execution_count": 7,
   "metadata": {
    "ExecuteTime": {
     "end_time": "2020-10-05T19:12:55.419737Z",
     "start_time": "2020-10-05T19:12:49.850142Z"
    },
    "colab": {},
    "colab_type": "code",
    "id": "8wRb24Y5WT0U"
   },
   "outputs": [],
   "source": [
    "data_games = []\n",
    "for l in parse('steam_games.json.gz'):\n",
    "    data_games.append(l)\n",
    "data_games = pd.DataFrame(data_games)"
   ]
  },
  {
   "cell_type": "code",
   "execution_count": 8,
   "metadata": {
    "ExecuteTime": {
     "end_time": "2020-10-05T19:12:55.450660Z",
     "start_time": "2020-10-05T19:12:55.421702Z"
    },
    "colab": {},
    "colab_type": "code",
    "id": "sVR0Cs6SWT0b"
   },
   "outputs": [
    {
     "data": {
      "text/html": [
       "<div>\n",
       "<style scoped>\n",
       "    .dataframe tbody tr th:only-of-type {\n",
       "        vertical-align: middle;\n",
       "    }\n",
       "\n",
       "    .dataframe tbody tr th {\n",
       "        vertical-align: top;\n",
       "    }\n",
       "\n",
       "    .dataframe thead th {\n",
       "        text-align: right;\n",
       "    }\n",
       "</style>\n",
       "<table border=\"1\" class=\"dataframe\">\n",
       "  <thead>\n",
       "    <tr style=\"text-align: right;\">\n",
       "      <th></th>\n",
       "      <th>publisher</th>\n",
       "      <th>genres</th>\n",
       "      <th>app_name</th>\n",
       "      <th>title</th>\n",
       "      <th>url</th>\n",
       "      <th>release_date</th>\n",
       "      <th>tags</th>\n",
       "      <th>discount_price</th>\n",
       "      <th>reviews_url</th>\n",
       "      <th>specs</th>\n",
       "      <th>price</th>\n",
       "      <th>early_access</th>\n",
       "      <th>id</th>\n",
       "      <th>developer</th>\n",
       "      <th>sentiment</th>\n",
       "      <th>metascore</th>\n",
       "    </tr>\n",
       "  </thead>\n",
       "  <tbody>\n",
       "    <tr>\n",
       "      <th>0</th>\n",
       "      <td>Kotoshiro</td>\n",
       "      <td>[Action, Casual, Indie, Simulation, Strategy]</td>\n",
       "      <td>Lost Summoner Kitty</td>\n",
       "      <td>Lost Summoner Kitty</td>\n",
       "      <td>http://store.steampowered.com/app/761140/Lost_...</td>\n",
       "      <td>2018-01-04</td>\n",
       "      <td>[Strategy, Action, Indie, Casual, Simulation]</td>\n",
       "      <td>4.49</td>\n",
       "      <td>http://steamcommunity.com/app/761140/reviews/?...</td>\n",
       "      <td>[Single-player]</td>\n",
       "      <td>4.99</td>\n",
       "      <td>False</td>\n",
       "      <td>761140</td>\n",
       "      <td>Kotoshiro</td>\n",
       "      <td>NaN</td>\n",
       "      <td>NaN</td>\n",
       "    </tr>\n",
       "    <tr>\n",
       "      <th>1</th>\n",
       "      <td>Making Fun, Inc.</td>\n",
       "      <td>[Free to Play, Indie, RPG, Strategy]</td>\n",
       "      <td>Ironbound</td>\n",
       "      <td>Ironbound</td>\n",
       "      <td>http://store.steampowered.com/app/643980/Ironb...</td>\n",
       "      <td>2018-01-04</td>\n",
       "      <td>[Free to Play, Strategy, Indie, RPG, Card Game...</td>\n",
       "      <td>NaN</td>\n",
       "      <td>http://steamcommunity.com/app/643980/reviews/?...</td>\n",
       "      <td>[Single-player, Multi-player, Online Multi-Pla...</td>\n",
       "      <td>Free To Play</td>\n",
       "      <td>False</td>\n",
       "      <td>643980</td>\n",
       "      <td>Secret Level SRL</td>\n",
       "      <td>Mostly Positive</td>\n",
       "      <td>NaN</td>\n",
       "    </tr>\n",
       "  </tbody>\n",
       "</table>\n",
       "</div>"
      ],
      "text/plain": [
       "          publisher                                         genres  \\\n",
       "0         Kotoshiro  [Action, Casual, Indie, Simulation, Strategy]   \n",
       "1  Making Fun, Inc.           [Free to Play, Indie, RPG, Strategy]   \n",
       "\n",
       "              app_name                title  \\\n",
       "0  Lost Summoner Kitty  Lost Summoner Kitty   \n",
       "1            Ironbound            Ironbound   \n",
       "\n",
       "                                                 url release_date  \\\n",
       "0  http://store.steampowered.com/app/761140/Lost_...   2018-01-04   \n",
       "1  http://store.steampowered.com/app/643980/Ironb...   2018-01-04   \n",
       "\n",
       "                                                tags  discount_price  \\\n",
       "0      [Strategy, Action, Indie, Casual, Simulation]            4.49   \n",
       "1  [Free to Play, Strategy, Indie, RPG, Card Game...             NaN   \n",
       "\n",
       "                                         reviews_url  \\\n",
       "0  http://steamcommunity.com/app/761140/reviews/?...   \n",
       "1  http://steamcommunity.com/app/643980/reviews/?...   \n",
       "\n",
       "                                               specs         price  \\\n",
       "0                                    [Single-player]          4.99   \n",
       "1  [Single-player, Multi-player, Online Multi-Pla...  Free To Play   \n",
       "\n",
       "   early_access      id         developer        sentiment metascore  \n",
       "0         False  761140         Kotoshiro              NaN       NaN  \n",
       "1         False  643980  Secret Level SRL  Mostly Positive       NaN  "
      ]
     },
     "execution_count": 8,
     "metadata": {},
     "output_type": "execute_result"
    }
   ],
   "source": [
    "data_games.head(2)"
   ]
  },
  {
   "cell_type": "markdown",
   "metadata": {},
   "source": [
    "## Analisis Exploratorio "
   ]
  },
  {
   "cell_type": "markdown",
   "metadata": {},
   "source": [
    "### Preprocesamiento Reviews"
   ]
  },
  {
   "cell_type": "markdown",
   "metadata": {},
   "source": [
    "Las columnas a continuacion no otorgan valor para el analisis exploratorio, se incluye la columna **user_id** porque tiene muchos valores faltantes, por lo tanto, el username se convierte en nuestro identificador unico de usuario. La columna **hours** permanece ya que se podria consultar cual fue el usuario que jugó mas tiempo o cual fue el videojuego con mayor tiempo de juego, igualmente con la columna **date** podemos averiguar cual fue el videojuego mas jugado de cada año, etc. Se excluye la columna **text** porque podriamos desarrollar NLP con esta feature."
   ]
  },
  {
   "cell_type": "code",
   "execution_count": 9,
   "metadata": {
    "ExecuteTime": {
     "end_time": "2020-10-05T19:14:59.861999Z",
     "start_time": "2020-10-05T19:13:58.160848Z"
    }
   },
   "outputs": [],
   "source": [
    "data_reviews.drop(['products', 'page_order', 'early_access',\n",
    "                   'page', 'user_id', 'compensation', 'found_funny'], axis=1, inplace=True)"
   ]
  },
  {
   "cell_type": "code",
   "execution_count": 10,
   "metadata": {
    "ExecuteTime": {
     "end_time": "2020-10-05T19:15:08.226238Z",
     "start_time": "2020-10-05T19:15:08.137440Z"
    }
   },
   "outputs": [
    {
     "data": {
      "text/html": [
       "<div>\n",
       "<style scoped>\n",
       "    .dataframe tbody tr th:only-of-type {\n",
       "        vertical-align: middle;\n",
       "    }\n",
       "\n",
       "    .dataframe tbody tr th {\n",
       "        vertical-align: top;\n",
       "    }\n",
       "\n",
       "    .dataframe thead th {\n",
       "        text-align: right;\n",
       "    }\n",
       "</style>\n",
       "<table border=\"1\" class=\"dataframe\">\n",
       "  <thead>\n",
       "    <tr style=\"text-align: right;\">\n",
       "      <th></th>\n",
       "      <th>username</th>\n",
       "      <th>hours</th>\n",
       "      <th>product_id</th>\n",
       "      <th>date</th>\n",
       "      <th>text</th>\n",
       "    </tr>\n",
       "  </thead>\n",
       "  <tbody>\n",
       "    <tr>\n",
       "      <th>0</th>\n",
       "      <td>Chaos Syren</td>\n",
       "      <td>0.1</td>\n",
       "      <td>725280</td>\n",
       "      <td>2017-12-17</td>\n",
       "      <td>This would not be acceptable as an entertainme...</td>\n",
       "    </tr>\n",
       "    <tr>\n",
       "      <th>1</th>\n",
       "      <td>₮ʜᴇ Wᴀʀᴛᴏɴ</td>\n",
       "      <td>51.1</td>\n",
       "      <td>328100</td>\n",
       "      <td>2017-12-27</td>\n",
       "      <td>looks like a facebook game</td>\n",
       "    </tr>\n",
       "    <tr>\n",
       "      <th>2</th>\n",
       "      <td>hello?&lt;</td>\n",
       "      <td>14.6</td>\n",
       "      <td>328100</td>\n",
       "      <td>2017-10-16</td>\n",
       "      <td>Better than Minecraft</td>\n",
       "    </tr>\n",
       "    <tr>\n",
       "      <th>3</th>\n",
       "      <td>Cyderine916</td>\n",
       "      <td>5.0</td>\n",
       "      <td>35140</td>\n",
       "      <td>2018-01-04</td>\n",
       "      <td>I love and idolized Batman and this game is Ma...</td>\n",
       "    </tr>\n",
       "    <tr>\n",
       "      <th>4</th>\n",
       "      <td>DarklyThinking</td>\n",
       "      <td>16.6</td>\n",
       "      <td>35140</td>\n",
       "      <td>2018-01-04</td>\n",
       "      <td>Still worth playing in 2018.\\nProbably my favo...</td>\n",
       "    </tr>\n",
       "  </tbody>\n",
       "</table>\n",
       "</div>"
      ],
      "text/plain": [
       "         username  hours product_id        date  \\\n",
       "0     Chaos Syren    0.1     725280  2017-12-17   \n",
       "1      ₮ʜᴇ Wᴀʀᴛᴏɴ   51.1     328100  2017-12-27   \n",
       "2         hello?<   14.6     328100  2017-10-16   \n",
       "3     Cyderine916    5.0      35140  2018-01-04   \n",
       "4  DarklyThinking   16.6      35140  2018-01-04   \n",
       "\n",
       "                                                text  \n",
       "0  This would not be acceptable as an entertainme...  \n",
       "1                         looks like a facebook game  \n",
       "2                              Better than Minecraft  \n",
       "3  I love and idolized Batman and this game is Ma...  \n",
       "4  Still worth playing in 2018.\\nProbably my favo...  "
      ]
     },
     "execution_count": 10,
     "metadata": {},
     "output_type": "execute_result"
    }
   ],
   "source": [
    "data_reviews.head()"
   ]
  },
  {
   "cell_type": "code",
   "execution_count": 13,
   "metadata": {
    "ExecuteTime": {
     "end_time": "2020-10-05T19:15:44.154678Z",
     "start_time": "2020-10-05T19:15:44.140694Z"
    }
   },
   "outputs": [
    {
     "data": {
      "text/plain": [
       "(7793069, 5)"
      ]
     },
     "execution_count": 13,
     "metadata": {},
     "output_type": "execute_result"
    }
   ],
   "source": [
    "data_reviews.shape"
   ]
  },
  {
   "cell_type": "markdown",
   "metadata": {},
   "source": [
    "Se analiza si existen registros duplicados en el dataset:"
   ]
  },
  {
   "cell_type": "code",
   "execution_count": 14,
   "metadata": {
    "ExecuteTime": {
     "end_time": "2020-10-05T19:18:47.405771Z",
     "start_time": "2020-10-05T19:15:48.173238Z"
    }
   },
   "outputs": [
    {
     "data": {
      "text/plain": [
       "(831833, 5)"
      ]
     },
     "execution_count": 14,
     "metadata": {},
     "output_type": "execute_result"
    }
   ],
   "source": [
    "duplicated = data_reviews[data_reviews.duplicated()]\n",
    "duplicated.shape"
   ]
  },
  {
   "cell_type": "markdown",
   "metadata": {},
   "source": [
    "Se confirma la existencia registros duplicados, ahora se detalla un usuario aleatorio de estos registros:"
   ]
  },
  {
   "cell_type": "code",
   "execution_count": 15,
   "metadata": {
    "ExecuteTime": {
     "end_time": "2020-10-05T19:19:08.868912Z",
     "start_time": "2020-10-05T19:19:08.763194Z"
    }
   },
   "outputs": [
    {
     "data": {
      "text/html": [
       "<div>\n",
       "<style scoped>\n",
       "    .dataframe tbody tr th:only-of-type {\n",
       "        vertical-align: middle;\n",
       "    }\n",
       "\n",
       "    .dataframe tbody tr th {\n",
       "        vertical-align: top;\n",
       "    }\n",
       "\n",
       "    .dataframe thead th {\n",
       "        text-align: right;\n",
       "    }\n",
       "</style>\n",
       "<table border=\"1\" class=\"dataframe\">\n",
       "  <thead>\n",
       "    <tr style=\"text-align: right;\">\n",
       "      <th></th>\n",
       "      <th>username</th>\n",
       "      <th>hours</th>\n",
       "      <th>product_id</th>\n",
       "      <th>date</th>\n",
       "      <th>text</th>\n",
       "    </tr>\n",
       "  </thead>\n",
       "  <tbody>\n",
       "    <tr>\n",
       "      <th>2435</th>\n",
       "      <td>Foggy Dreamer</td>\n",
       "      <td>2.2</td>\n",
       "      <td>308040</td>\n",
       "      <td>2017-11-04</td>\n",
       "      <td>PROS:\\n- Beautiful visuals and art\\n- Decent p...</td>\n",
       "    </tr>\n",
       "    <tr>\n",
       "      <th>2632</th>\n",
       "      <td>little gamer64</td>\n",
       "      <td>20.5</td>\n",
       "      <td>271590</td>\n",
       "      <td>2018-01-04</td>\n",
       "      <td>I love this game</td>\n",
       "    </tr>\n",
       "    <tr>\n",
       "      <th>3264</th>\n",
       "      <td>Space_Wafer</td>\n",
       "      <td>7.4</td>\n",
       "      <td>427730</td>\n",
       "      <td>2017-12-31</td>\n",
       "      <td>So fun</td>\n",
       "    </tr>\n",
       "    <tr>\n",
       "      <th>3498</th>\n",
       "      <td>xanderwhovian</td>\n",
       "      <td>25.5</td>\n",
       "      <td>8880</td>\n",
       "      <td>2014-08-27</td>\n",
       "      <td>freedom force is an absolutely amazing game, i...</td>\n",
       "    </tr>\n",
       "    <tr>\n",
       "      <th>4028</th>\n",
       "      <td>feel it break</td>\n",
       "      <td>53.6</td>\n",
       "      <td>61700</td>\n",
       "      <td>2017-05-30</td>\n",
       "      <td>Great and unique gameplay, lovely comic style ...</td>\n",
       "    </tr>\n",
       "  </tbody>\n",
       "</table>\n",
       "</div>"
      ],
      "text/plain": [
       "            username  hours product_id        date  \\\n",
       "2435   Foggy Dreamer    2.2     308040  2017-11-04   \n",
       "2632  little gamer64   20.5     271590  2018-01-04   \n",
       "3264     Space_Wafer    7.4     427730  2017-12-31   \n",
       "3498   xanderwhovian   25.5       8880  2014-08-27   \n",
       "4028   feel it break   53.6      61700  2017-05-30   \n",
       "\n",
       "                                                   text  \n",
       "2435  PROS:\\n- Beautiful visuals and art\\n- Decent p...  \n",
       "2632                                   I love this game  \n",
       "3264                                             So fun  \n",
       "3498  freedom force is an absolutely amazing game, i...  \n",
       "4028  Great and unique gameplay, lovely comic style ...  "
      ]
     },
     "execution_count": 15,
     "metadata": {},
     "output_type": "execute_result"
    }
   ],
   "source": [
    "duplicated.head()"
   ]
  },
  {
   "cell_type": "markdown",
   "metadata": {},
   "source": [
    "Para probar, se selecciona el usuario **\"Foggy Dreamer\"**"
   ]
  },
  {
   "cell_type": "code",
   "execution_count": 16,
   "metadata": {
    "ExecuteTime": {
     "end_time": "2020-10-05T19:19:13.359463Z",
     "start_time": "2020-10-05T19:19:10.727776Z"
    }
   },
   "outputs": [
    {
     "data": {
      "text/html": [
       "<div>\n",
       "<style scoped>\n",
       "    .dataframe tbody tr th:only-of-type {\n",
       "        vertical-align: middle;\n",
       "    }\n",
       "\n",
       "    .dataframe tbody tr th {\n",
       "        vertical-align: top;\n",
       "    }\n",
       "\n",
       "    .dataframe thead th {\n",
       "        text-align: right;\n",
       "    }\n",
       "</style>\n",
       "<table border=\"1\" class=\"dataframe\">\n",
       "  <thead>\n",
       "    <tr style=\"text-align: right;\">\n",
       "      <th></th>\n",
       "      <th>username</th>\n",
       "      <th>hours</th>\n",
       "      <th>product_id</th>\n",
       "      <th>date</th>\n",
       "      <th>text</th>\n",
       "    </tr>\n",
       "  </thead>\n",
       "  <tbody>\n",
       "    <tr>\n",
       "      <th>3880</th>\n",
       "      <td>feel it break</td>\n",
       "      <td>53.6</td>\n",
       "      <td>61700</td>\n",
       "      <td>2017-05-30</td>\n",
       "      <td>Great and unique gameplay, lovely comic style ...</td>\n",
       "    </tr>\n",
       "    <tr>\n",
       "      <th>4028</th>\n",
       "      <td>feel it break</td>\n",
       "      <td>53.6</td>\n",
       "      <td>61700</td>\n",
       "      <td>2017-05-30</td>\n",
       "      <td>Great and unique gameplay, lovely comic style ...</td>\n",
       "    </tr>\n",
       "    <tr>\n",
       "      <th>179401</th>\n",
       "      <td>feel it break</td>\n",
       "      <td>14.5</td>\n",
       "      <td>48700</td>\n",
       "      <td>2017-12-30</td>\n",
       "      <td>Well the first few hours into the game I had a...</td>\n",
       "    </tr>\n",
       "    <tr>\n",
       "      <th>3498769</th>\n",
       "      <td>feel it break</td>\n",
       "      <td>3.1</td>\n",
       "      <td>435480</td>\n",
       "      <td>2017-12-07</td>\n",
       "      <td>What a f***ing piece of turd of a game this is...</td>\n",
       "    </tr>\n",
       "    <tr>\n",
       "      <th>5340520</th>\n",
       "      <td>feel it break</td>\n",
       "      <td>323.5</td>\n",
       "      <td>97330</td>\n",
       "      <td>2017-10-12</td>\n",
       "      <td>Of all the Magic Games that came out and that ...</td>\n",
       "    </tr>\n",
       "    <tr>\n",
       "      <th>5518204</th>\n",
       "      <td>feel it break</td>\n",
       "      <td>469.0</td>\n",
       "      <td>316010</td>\n",
       "      <td>2016-12-11</td>\n",
       "      <td>Pro: You can build own magic decks\\nCons: .......</td>\n",
       "    </tr>\n",
       "    <tr>\n",
       "      <th>6861873</th>\n",
       "      <td>feel it break</td>\n",
       "      <td>56.7</td>\n",
       "      <td>204450</td>\n",
       "      <td>2017-10-12</td>\n",
       "      <td>Amazing game, very fast paced, stylish, combat...</td>\n",
       "    </tr>\n",
       "  </tbody>\n",
       "</table>\n",
       "</div>"
      ],
      "text/plain": [
       "              username  hours product_id        date  \\\n",
       "3880     feel it break   53.6      61700  2017-05-30   \n",
       "4028     feel it break   53.6      61700  2017-05-30   \n",
       "179401   feel it break   14.5      48700  2017-12-30   \n",
       "3498769  feel it break    3.1     435480  2017-12-07   \n",
       "5340520  feel it break  323.5      97330  2017-10-12   \n",
       "5518204  feel it break  469.0     316010  2016-12-11   \n",
       "6861873  feel it break   56.7     204450  2017-10-12   \n",
       "\n",
       "                                                      text  \n",
       "3880     Great and unique gameplay, lovely comic style ...  \n",
       "4028     Great and unique gameplay, lovely comic style ...  \n",
       "179401   Well the first few hours into the game I had a...  \n",
       "3498769  What a f***ing piece of turd of a game this is...  \n",
       "5340520  Of all the Magic Games that came out and that ...  \n",
       "5518204  Pro: You can build own magic decks\\nCons: .......  \n",
       "6861873  Amazing game, very fast paced, stylish, combat...  "
      ]
     },
     "execution_count": 16,
     "metadata": {},
     "output_type": "execute_result"
    }
   ],
   "source": [
    "data_reviews[data_reviews.username == 'feel it break']"
   ]
  },
  {
   "cell_type": "markdown",
   "metadata": {},
   "source": [
    "Los registros de esta busqueda arrojan un evidente error de los datos, misma cantidad de horas, id de videojuego y fecha. Por lo tanto es razonable eliminar estos registros."
   ]
  },
  {
   "cell_type": "code",
   "execution_count": 17,
   "metadata": {
    "ExecuteTime": {
     "end_time": "2020-10-05T19:21:08.932493Z",
     "start_time": "2020-10-05T19:19:15.373397Z"
    }
   },
   "outputs": [],
   "source": [
    "data_reviews.drop_duplicates(inplace=True, ignore_index=True)"
   ]
  },
  {
   "cell_type": "code",
   "execution_count": 18,
   "metadata": {
    "ExecuteTime": {
     "end_time": "2020-10-05T19:21:18.034758Z",
     "start_time": "2020-10-05T19:21:17.999855Z"
    }
   },
   "outputs": [
    {
     "data": {
      "text/plain": [
       "(6961236, 5)"
      ]
     },
     "execution_count": 18,
     "metadata": {},
     "output_type": "execute_result"
    }
   ],
   "source": [
    "data_reviews.shape"
   ]
  },
  {
   "cell_type": "markdown",
   "metadata": {},
   "source": [
    "Con esto se confirma finalmente la eliminacion de los registros duplicados."
   ]
  },
  {
   "cell_type": "code",
   "execution_count": 19,
   "metadata": {
    "ExecuteTime": {
     "end_time": "2020-10-05T19:22:51.981438Z",
     "start_time": "2020-10-05T19:21:20.128226Z"
    }
   },
   "outputs": [
    {
     "data": {
      "text/plain": [
       "0"
      ]
     },
     "execution_count": 19,
     "metadata": {},
     "output_type": "execute_result"
    }
   ],
   "source": [
    "data_reviews.duplicated().sum()"
   ]
  },
  {
   "cell_type": "code",
   "execution_count": 20,
   "metadata": {
    "ExecuteTime": {
     "end_time": "2020-10-05T19:23:08.040850Z",
     "start_time": "2020-10-05T19:23:01.346753Z"
    }
   },
   "outputs": [
    {
     "data": {
      "text/plain": [
       "username          0\n",
       "hours         25941\n",
       "product_id        0\n",
       "date              0\n",
       "text              0\n",
       "dtype: int64"
      ]
     },
     "execution_count": 20,
     "metadata": {},
     "output_type": "execute_result"
    }
   ],
   "source": [
    "data_reviews.isna().sum()"
   ]
  },
  {
   "cell_type": "code",
   "execution_count": 21,
   "metadata": {
    "ExecuteTime": {
     "end_time": "2020-10-05T19:23:12.860174Z",
     "start_time": "2020-10-05T19:23:11.767910Z"
    }
   },
   "outputs": [
    {
     "data": {
      "text/plain": [
       "40"
      ]
     },
     "execution_count": 21,
     "metadata": {},
     "output_type": "execute_result"
    }
   ],
   "source": [
    "gc.collect()"
   ]
  },
  {
   "cell_type": "markdown",
   "metadata": {},
   "source": [
    "### Preprocesamiento Games"
   ]
  },
  {
   "cell_type": "code",
   "execution_count": 22,
   "metadata": {
    "ExecuteTime": {
     "end_time": "2020-10-05T19:23:26.202763Z",
     "start_time": "2020-10-05T19:23:26.134711Z"
    }
   },
   "outputs": [
    {
     "data": {
      "text/html": [
       "<div>\n",
       "<style scoped>\n",
       "    .dataframe tbody tr th:only-of-type {\n",
       "        vertical-align: middle;\n",
       "    }\n",
       "\n",
       "    .dataframe tbody tr th {\n",
       "        vertical-align: top;\n",
       "    }\n",
       "\n",
       "    .dataframe thead th {\n",
       "        text-align: right;\n",
       "    }\n",
       "</style>\n",
       "<table border=\"1\" class=\"dataframe\">\n",
       "  <thead>\n",
       "    <tr style=\"text-align: right;\">\n",
       "      <th></th>\n",
       "      <th>publisher</th>\n",
       "      <th>genres</th>\n",
       "      <th>app_name</th>\n",
       "      <th>title</th>\n",
       "      <th>url</th>\n",
       "      <th>release_date</th>\n",
       "      <th>tags</th>\n",
       "      <th>discount_price</th>\n",
       "      <th>reviews_url</th>\n",
       "      <th>specs</th>\n",
       "      <th>price</th>\n",
       "      <th>early_access</th>\n",
       "      <th>id</th>\n",
       "      <th>developer</th>\n",
       "      <th>sentiment</th>\n",
       "      <th>metascore</th>\n",
       "    </tr>\n",
       "  </thead>\n",
       "  <tbody>\n",
       "    <tr>\n",
       "      <th>0</th>\n",
       "      <td>Kotoshiro</td>\n",
       "      <td>[Action, Casual, Indie, Simulation, Strategy]</td>\n",
       "      <td>Lost Summoner Kitty</td>\n",
       "      <td>Lost Summoner Kitty</td>\n",
       "      <td>http://store.steampowered.com/app/761140/Lost_...</td>\n",
       "      <td>2018-01-04</td>\n",
       "      <td>[Strategy, Action, Indie, Casual, Simulation]</td>\n",
       "      <td>4.49</td>\n",
       "      <td>http://steamcommunity.com/app/761140/reviews/?...</td>\n",
       "      <td>[Single-player]</td>\n",
       "      <td>4.99</td>\n",
       "      <td>False</td>\n",
       "      <td>761140</td>\n",
       "      <td>Kotoshiro</td>\n",
       "      <td>NaN</td>\n",
       "      <td>NaN</td>\n",
       "    </tr>\n",
       "    <tr>\n",
       "      <th>1</th>\n",
       "      <td>Making Fun, Inc.</td>\n",
       "      <td>[Free to Play, Indie, RPG, Strategy]</td>\n",
       "      <td>Ironbound</td>\n",
       "      <td>Ironbound</td>\n",
       "      <td>http://store.steampowered.com/app/643980/Ironb...</td>\n",
       "      <td>2018-01-04</td>\n",
       "      <td>[Free to Play, Strategy, Indie, RPG, Card Game...</td>\n",
       "      <td>NaN</td>\n",
       "      <td>http://steamcommunity.com/app/643980/reviews/?...</td>\n",
       "      <td>[Single-player, Multi-player, Online Multi-Pla...</td>\n",
       "      <td>Free To Play</td>\n",
       "      <td>False</td>\n",
       "      <td>643980</td>\n",
       "      <td>Secret Level SRL</td>\n",
       "      <td>Mostly Positive</td>\n",
       "      <td>NaN</td>\n",
       "    </tr>\n",
       "    <tr>\n",
       "      <th>2</th>\n",
       "      <td>Poolians.com</td>\n",
       "      <td>[Casual, Free to Play, Indie, Simulation, Sports]</td>\n",
       "      <td>Real Pool 3D - Poolians</td>\n",
       "      <td>Real Pool 3D - Poolians</td>\n",
       "      <td>http://store.steampowered.com/app/670290/Real_...</td>\n",
       "      <td>2017-07-24</td>\n",
       "      <td>[Free to Play, Simulation, Sports, Casual, Ind...</td>\n",
       "      <td>NaN</td>\n",
       "      <td>http://steamcommunity.com/app/670290/reviews/?...</td>\n",
       "      <td>[Single-player, Multi-player, Online Multi-Pla...</td>\n",
       "      <td>Free to Play</td>\n",
       "      <td>False</td>\n",
       "      <td>670290</td>\n",
       "      <td>Poolians.com</td>\n",
       "      <td>Mostly Positive</td>\n",
       "      <td>NaN</td>\n",
       "    </tr>\n",
       "  </tbody>\n",
       "</table>\n",
       "</div>"
      ],
      "text/plain": [
       "          publisher                                             genres  \\\n",
       "0         Kotoshiro      [Action, Casual, Indie, Simulation, Strategy]   \n",
       "1  Making Fun, Inc.               [Free to Play, Indie, RPG, Strategy]   \n",
       "2      Poolians.com  [Casual, Free to Play, Indie, Simulation, Sports]   \n",
       "\n",
       "                  app_name                    title  \\\n",
       "0      Lost Summoner Kitty      Lost Summoner Kitty   \n",
       "1                Ironbound                Ironbound   \n",
       "2  Real Pool 3D - Poolians  Real Pool 3D - Poolians   \n",
       "\n",
       "                                                 url release_date  \\\n",
       "0  http://store.steampowered.com/app/761140/Lost_...   2018-01-04   \n",
       "1  http://store.steampowered.com/app/643980/Ironb...   2018-01-04   \n",
       "2  http://store.steampowered.com/app/670290/Real_...   2017-07-24   \n",
       "\n",
       "                                                tags  discount_price  \\\n",
       "0      [Strategy, Action, Indie, Casual, Simulation]            4.49   \n",
       "1  [Free to Play, Strategy, Indie, RPG, Card Game...             NaN   \n",
       "2  [Free to Play, Simulation, Sports, Casual, Ind...             NaN   \n",
       "\n",
       "                                         reviews_url  \\\n",
       "0  http://steamcommunity.com/app/761140/reviews/?...   \n",
       "1  http://steamcommunity.com/app/643980/reviews/?...   \n",
       "2  http://steamcommunity.com/app/670290/reviews/?...   \n",
       "\n",
       "                                               specs         price  \\\n",
       "0                                    [Single-player]          4.99   \n",
       "1  [Single-player, Multi-player, Online Multi-Pla...  Free To Play   \n",
       "2  [Single-player, Multi-player, Online Multi-Pla...  Free to Play   \n",
       "\n",
       "   early_access      id         developer        sentiment metascore  \n",
       "0         False  761140         Kotoshiro              NaN       NaN  \n",
       "1         False  643980  Secret Level SRL  Mostly Positive       NaN  \n",
       "2         False  670290      Poolians.com  Mostly Positive       NaN  "
      ]
     },
     "execution_count": 22,
     "metadata": {},
     "output_type": "execute_result"
    }
   ],
   "source": [
    "data_games.head(3)"
   ]
  },
  {
   "cell_type": "markdown",
   "metadata": {},
   "source": [
    "#### Valores faltantes"
   ]
  },
  {
   "cell_type": "code",
   "execution_count": 23,
   "metadata": {
    "ExecuteTime": {
     "end_time": "2020-10-05T19:23:27.647356Z",
     "start_time": "2020-10-05T19:23:27.462856Z"
    }
   },
   "outputs": [
    {
     "data": {
      "text/plain": [
       "publisher         25.056792\n",
       "genres            10.216275\n",
       "app_name           0.006224\n",
       "title              6.379337\n",
       "url                0.000000\n",
       "release_date       6.432239\n",
       "tags               0.507235\n",
       "discount_price    99.299829\n",
       "reviews_url        0.006224\n",
       "specs              2.084954\n",
       "price              4.285047\n",
       "early_access       0.000000\n",
       "id                 0.006224\n",
       "developer         10.266065\n",
       "sentiment         22.349463\n",
       "metascore         91.669519\n",
       "dtype: float64"
      ]
     },
     "execution_count": 23,
     "metadata": {},
     "output_type": "execute_result"
    }
   ],
   "source": [
    "data_games.isna().sum()*100/len(data_games)"
   ]
  },
  {
   "cell_type": "code",
   "execution_count": 24,
   "metadata": {
    "ExecuteTime": {
     "end_time": "2020-10-05T19:23:28.492210Z",
     "start_time": "2020-10-05T19:23:28.449359Z"
    }
   },
   "outputs": [],
   "source": [
    "def heatmap_nan_values(data):\n",
    "    plt.figure(figsize=(18, 10))\n",
    "    nan_values = data.isna().sum()\n",
    "    fig = sns.heatmap(data.isna(), cbar=False, yticklabels=False)\n",
    "    col_width = fig.get_xlim()[1]/len(data.columns)\n",
    "    for i, col in enumerate(data.columns):\n",
    "        pos_text_x = col_width*(i+1/2)\n",
    "        plt.text(pos_text_x, 0, nan_values[i], fontdict=dict(\n",
    "            fontsize=15, rotation=33))\n",
    "        plt.axvline(x=col_width*i, c='white', lw=2)"
   ]
  },
  {
   "cell_type": "code",
   "execution_count": 25,
   "metadata": {
    "ExecuteTime": {
     "end_time": "2020-10-05T19:23:34.668974Z",
     "start_time": "2020-10-05T19:23:33.226555Z"
    }
   },
   "outputs": [
    {
     "data": {
      "image/png": "[encoded data removed]",
      "text/plain": [
       "<Figure size 1296x720 with 1 Axes>"
      ]
     },
     "metadata": {},
     "output_type": "display_data"
    }
   ],
   "source": [
    "heatmap_nan_values(data_games)"
   ]
  },
  {
   "cell_type": "code",
   "execution_count": 26,
   "metadata": {
    "ExecuteTime": {
     "end_time": "2020-10-05T19:23:36.133449Z",
     "start_time": "2020-10-05T19:23:36.128487Z"
    }
   },
   "outputs": [
    {
     "data": {
      "text/plain": [
       "(32135, 16)"
      ]
     },
     "execution_count": 26,
     "metadata": {},
     "output_type": "execute_result"
    }
   ],
   "source": [
    "data_games.shape"
   ]
  },
  {
   "cell_type": "code",
   "execution_count": 27,
   "metadata": {
    "ExecuteTime": {
     "end_time": "2020-10-05T19:23:36.899525Z",
     "start_time": "2020-10-05T19:23:36.876616Z"
    }
   },
   "outputs": [
    {
     "data": {
      "text/plain": [
       "Mixed                      4103\n",
       "Very Positive              3868\n",
       "Positive                   3281\n",
       "Mostly Positive            2744\n",
       "1 user reviews             2496\n",
       "2 user reviews             1756\n",
       "3 user reviews             1231\n",
       "4 user reviews              964\n",
       "5 user reviews              846\n",
       "Mostly Negative             802\n",
       "6 user reviews              756\n",
       "7 user reviews              619\n",
       "8 user reviews              537\n",
       "9 user reviews              488\n",
       "Overwhelmingly Positive     303\n",
       "Negative                    123\n",
       "Very Negative                29\n",
       "Overwhelmingly Negative       7\n",
       "Name: sentiment, dtype: int64"
      ]
     },
     "execution_count": 27,
     "metadata": {},
     "output_type": "execute_result"
    }
   ],
   "source": [
    "data_games.sentiment.value_counts()"
   ]
  },
  {
   "cell_type": "markdown",
   "metadata": {},
   "source": [
    "* Las columnas a continuacion no otorgan valor para el analisis exploratorio, se incluyen algunas con valores faltantes superiores al 90% del total de los datos.\n",
    "* Columnas como **\"genre\"** y **\"tag\"** otorgan casi la misma informacion con la unica diferencia que \"genre\" posee mas valores faltantes.\n",
    "* La columna **\"sentiment\"** se exluiria tambien ya que posee muchas categorias, algunas de ellas no son predecibles y no se podrian agrupar en categorias generales.\n",
    "* El resto de columnas no incluidas aqui serviran para un posterior analisis exploratorio."
   ]
  },
  {
   "cell_type": "code",
   "execution_count": 28,
   "metadata": {
    "ExecuteTime": {
     "end_time": "2020-10-05T19:23:41.910511Z",
     "start_time": "2020-10-05T19:23:41.876585Z"
    }
   },
   "outputs": [],
   "source": [
    "data_games.drop(columns=['publisher', 'genres', 'title', 'discount_price', 'reviews_url',\n",
    "                         'specs', 'early_access', 'developer', 'sentiment', 'metascore'], inplace=True)"
   ]
  },
  {
   "cell_type": "code",
   "execution_count": 29,
   "metadata": {
    "ExecuteTime": {
     "end_time": "2020-10-05T19:23:42.864464Z",
     "start_time": "2020-10-05T19:23:42.836542Z"
    }
   },
   "outputs": [
    {
     "data": {
      "text/plain": [
       "app_name           2\n",
       "url                0\n",
       "release_date    2067\n",
       "tags             163\n",
       "price           1377\n",
       "id                 2\n",
       "dtype: int64"
      ]
     },
     "execution_count": 29,
     "metadata": {},
     "output_type": "execute_result"
    }
   ],
   "source": [
    "data_games.isna().sum()"
   ]
  },
  {
   "cell_type": "markdown",
   "metadata": {},
   "source": [
    "**Videjuegos con app_name faltante:**"
   ]
  },
  {
   "cell_type": "markdown",
   "metadata": {},
   "source": [
    "El nombre de la aplicacion es importante a la hora de conocer que aplicacion se va a recomendar."
   ]
  },
  {
   "cell_type": "code",
   "execution_count": 30,
   "metadata": {
    "ExecuteTime": {
     "end_time": "2020-10-05T19:23:44.575383Z",
     "start_time": "2020-10-05T19:23:44.552420Z"
    }
   },
   "outputs": [
    {
     "data": {
      "text/html": [
       "<div>\n",
       "<style scoped>\n",
       "    .dataframe tbody tr th:only-of-type {\n",
       "        vertical-align: middle;\n",
       "    }\n",
       "\n",
       "    .dataframe tbody tr th {\n",
       "        vertical-align: top;\n",
       "    }\n",
       "\n",
       "    .dataframe thead th {\n",
       "        text-align: right;\n",
       "    }\n",
       "</style>\n",
       "<table border=\"1\" class=\"dataframe\">\n",
       "  <thead>\n",
       "    <tr style=\"text-align: right;\">\n",
       "      <th></th>\n",
       "      <th>app_name</th>\n",
       "      <th>url</th>\n",
       "      <th>release_date</th>\n",
       "      <th>tags</th>\n",
       "      <th>price</th>\n",
       "      <th>id</th>\n",
       "    </tr>\n",
       "  </thead>\n",
       "  <tbody>\n",
       "    <tr>\n",
       "      <th>74</th>\n",
       "      <td>NaN</td>\n",
       "      <td>http://store.steampowered.com/</td>\n",
       "      <td>NaN</td>\n",
       "      <td>NaN</td>\n",
       "      <td>19.99</td>\n",
       "      <td>NaN</td>\n",
       "    </tr>\n",
       "    <tr>\n",
       "      <th>2580</th>\n",
       "      <td>NaN</td>\n",
       "      <td>http://store.steampowered.com/app/317160/_/</td>\n",
       "      <td>2014-08-26</td>\n",
       "      <td>[Action, Indie]</td>\n",
       "      <td>NaN</td>\n",
       "      <td>317160</td>\n",
       "    </tr>\n",
       "  </tbody>\n",
       "</table>\n",
       "</div>"
      ],
      "text/plain": [
       "     app_name                                          url release_date  \\\n",
       "74        NaN               http://store.steampowered.com/          NaN   \n",
       "2580      NaN  http://store.steampowered.com/app/317160/_/   2014-08-26   \n",
       "\n",
       "                 tags  price      id  \n",
       "74                NaN  19.99     NaN  \n",
       "2580  [Action, Indie]    NaN  317160  "
      ]
     },
     "execution_count": 30,
     "metadata": {},
     "output_type": "execute_result"
    }
   ],
   "source": [
    "data_games[data_games.app_name.isna()]"
   ]
  },
  {
   "cell_type": "markdown",
   "metadata": {},
   "source": [
    "**Videjuegos con id faltante:**"
   ]
  },
  {
   "cell_type": "markdown",
   "metadata": {},
   "source": [
    "El id del videojuego tambien es identificador importante y no se debe ignorar."
   ]
  },
  {
   "cell_type": "code",
   "execution_count": 31,
   "metadata": {
    "ExecuteTime": {
     "end_time": "2020-10-05T19:23:45.415622Z",
     "start_time": "2020-10-05T19:23:45.383708Z"
    }
   },
   "outputs": [
    {
     "data": {
      "text/html": [
       "<div>\n",
       "<style scoped>\n",
       "    .dataframe tbody tr th:only-of-type {\n",
       "        vertical-align: middle;\n",
       "    }\n",
       "\n",
       "    .dataframe tbody tr th {\n",
       "        vertical-align: top;\n",
       "    }\n",
       "\n",
       "    .dataframe thead th {\n",
       "        text-align: right;\n",
       "    }\n",
       "</style>\n",
       "<table border=\"1\" class=\"dataframe\">\n",
       "  <thead>\n",
       "    <tr style=\"text-align: right;\">\n",
       "      <th></th>\n",
       "      <th>app_name</th>\n",
       "      <th>url</th>\n",
       "      <th>release_date</th>\n",
       "      <th>tags</th>\n",
       "      <th>price</th>\n",
       "      <th>id</th>\n",
       "    </tr>\n",
       "  </thead>\n",
       "  <tbody>\n",
       "    <tr>\n",
       "      <th>74</th>\n",
       "      <td>NaN</td>\n",
       "      <td>http://store.steampowered.com/</td>\n",
       "      <td>NaN</td>\n",
       "      <td>NaN</td>\n",
       "      <td>19.99</td>\n",
       "      <td>NaN</td>\n",
       "    </tr>\n",
       "    <tr>\n",
       "      <th>30961</th>\n",
       "      <td>Batman: Arkham City - Game of the Year Edition</td>\n",
       "      <td>http://store.steampowered.com/app/200260</td>\n",
       "      <td>2012-09-07</td>\n",
       "      <td>[Action, Open World, Batman, Adventure, Stealt...</td>\n",
       "      <td>19.99</td>\n",
       "      <td>NaN</td>\n",
       "    </tr>\n",
       "  </tbody>\n",
       "</table>\n",
       "</div>"
      ],
      "text/plain": [
       "                                             app_name  \\\n",
       "74                                                NaN   \n",
       "30961  Batman: Arkham City - Game of the Year Edition   \n",
       "\n",
       "                                            url release_date  \\\n",
       "74               http://store.steampowered.com/          NaN   \n",
       "30961  http://store.steampowered.com/app/200260   2012-09-07   \n",
       "\n",
       "                                                    tags  price   id  \n",
       "74                                                   NaN  19.99  NaN  \n",
       "30961  [Action, Open World, Batman, Adventure, Stealt...  19.99  NaN  "
      ]
     },
     "execution_count": 31,
     "metadata": {},
     "output_type": "execute_result"
    }
   ],
   "source": [
    "data_games[data_games.id.isna()]"
   ]
  },
  {
   "cell_type": "markdown",
   "metadata": {},
   "source": [
    "* Ambas busquedas coinciden en un registro para un videojuego que no existe (registro 74), se puede verificar examinando su url la cual no esta compuesta por id ni nombre del videojuego.\n",
    "* El segundo registro obtenido con nombres faltantes corresponde a un videojuego que, al parecer, se migro a otra url o ha caducado. Para este videojuego con id 317160 encontramos que tampoco existen reviews, por lo tanto, se pueden eliminar estos dos elementos."
   ]
  },
  {
   "cell_type": "code",
   "execution_count": 32,
   "metadata": {
    "ExecuteTime": {
     "end_time": "2020-10-05T19:23:46.213768Z",
     "start_time": "2020-10-05T19:23:45.945486Z"
    }
   },
   "outputs": [
    {
     "data": {
      "text/html": [
       "<div>\n",
       "<style scoped>\n",
       "    .dataframe tbody tr th:only-of-type {\n",
       "        vertical-align: middle;\n",
       "    }\n",
       "\n",
       "    .dataframe tbody tr th {\n",
       "        vertical-align: top;\n",
       "    }\n",
       "\n",
       "    .dataframe thead th {\n",
       "        text-align: right;\n",
       "    }\n",
       "</style>\n",
       "<table border=\"1\" class=\"dataframe\">\n",
       "  <thead>\n",
       "    <tr style=\"text-align: right;\">\n",
       "      <th></th>\n",
       "      <th>username</th>\n",
       "      <th>hours</th>\n",
       "      <th>product_id</th>\n",
       "      <th>date</th>\n",
       "      <th>text</th>\n",
       "    </tr>\n",
       "  </thead>\n",
       "  <tbody>\n",
       "  </tbody>\n",
       "</table>\n",
       "</div>"
      ],
      "text/plain": [
       "Empty DataFrame\n",
       "Columns: [username, hours, product_id, date, text]\n",
       "Index: []"
      ]
     },
     "execution_count": 32,
     "metadata": {},
     "output_type": "execute_result"
    }
   ],
   "source": [
    "data_reviews.query('product_id == \"317160\"')"
   ]
  },
  {
   "cell_type": "markdown",
   "metadata": {},
   "source": [
    "Sin embargo al acceder a la url (http://store.steampowered.com/app/317160/_/) del videojuego en cuestion no aparece titulo, ni imagenes adjuntas, pero en la portada del videjuego se logra apreciar su nombre: \"Duet\", y al tratar de consultar por este nombre en el dataset el resultado obtenido es:"
   ]
  },
  {
   "cell_type": "code",
   "execution_count": 33,
   "metadata": {
    "ExecuteTime": {
     "end_time": "2020-10-05T19:23:46.592800Z",
     "start_time": "2020-10-05T19:23:46.563856Z"
    }
   },
   "outputs": [
    {
     "data": {
      "text/html": [
       "<div>\n",
       "<style scoped>\n",
       "    .dataframe tbody tr th:only-of-type {\n",
       "        vertical-align: middle;\n",
       "    }\n",
       "\n",
       "    .dataframe tbody tr th {\n",
       "        vertical-align: top;\n",
       "    }\n",
       "\n",
       "    .dataframe thead th {\n",
       "        text-align: right;\n",
       "    }\n",
       "</style>\n",
       "<table border=\"1\" class=\"dataframe\">\n",
       "  <thead>\n",
       "    <tr style=\"text-align: right;\">\n",
       "      <th></th>\n",
       "      <th>app_name</th>\n",
       "      <th>url</th>\n",
       "      <th>release_date</th>\n",
       "      <th>tags</th>\n",
       "      <th>price</th>\n",
       "      <th>id</th>\n",
       "    </tr>\n",
       "  </thead>\n",
       "  <tbody>\n",
       "    <tr>\n",
       "      <th>4103</th>\n",
       "      <td>Duet</td>\n",
       "      <td>http://store.steampowered.com/app/292600/Duet/</td>\n",
       "      <td>2015-08-03</td>\n",
       "      <td>[Indie, Action, Minimalist, Great Soundtrack, ...</td>\n",
       "      <td>4.99</td>\n",
       "      <td>292600</td>\n",
       "    </tr>\n",
       "  </tbody>\n",
       "</table>\n",
       "</div>"
      ],
      "text/plain": [
       "     app_name                                             url release_date  \\\n",
       "4103     Duet  http://store.steampowered.com/app/292600/Duet/   2015-08-03   \n",
       "\n",
       "                                                   tags price      id  \n",
       "4103  [Indie, Action, Minimalist, Great Soundtrack, ...  4.99  292600  "
      ]
     },
     "execution_count": 33,
     "metadata": {},
     "output_type": "execute_result"
    }
   ],
   "source": [
    "query_duet = data_games.query('app_name == \"Duet\"')\n",
    "query_duet"
   ]
  },
  {
   "cell_type": "markdown",
   "metadata": {},
   "source": [
    "El cual si contiene reviews asociados:"
   ]
  },
  {
   "cell_type": "code",
   "execution_count": 34,
   "metadata": {
    "ExecuteTime": {
     "end_time": "2020-10-05T19:23:50.582526Z",
     "start_time": "2020-10-05T19:23:50.300244Z"
    }
   },
   "outputs": [
    {
     "name": "stdout",
     "output_type": "stream",
     "text": [
      "Duet: 292600\n"
     ]
    },
    {
     "data": {
      "text/html": [
       "<div>\n",
       "<style scoped>\n",
       "    .dataframe tbody tr th:only-of-type {\n",
       "        vertical-align: middle;\n",
       "    }\n",
       "\n",
       "    .dataframe tbody tr th {\n",
       "        vertical-align: top;\n",
       "    }\n",
       "\n",
       "    .dataframe thead th {\n",
       "        text-align: right;\n",
       "    }\n",
       "</style>\n",
       "<table border=\"1\" class=\"dataframe\">\n",
       "  <thead>\n",
       "    <tr style=\"text-align: right;\">\n",
       "      <th></th>\n",
       "      <th>username</th>\n",
       "      <th>hours</th>\n",
       "      <th>product_id</th>\n",
       "      <th>date</th>\n",
       "      <th>text</th>\n",
       "    </tr>\n",
       "  </thead>\n",
       "  <tbody>\n",
       "    <tr>\n",
       "      <th>6142810</th>\n",
       "      <td>nomomonopoly</td>\n",
       "      <td>18.6</td>\n",
       "      <td>292600</td>\n",
       "      <td>2018-01-03</td>\n",
       "      <td>There are a few games that manage to exceed wi...</td>\n",
       "    </tr>\n",
       "    <tr>\n",
       "      <th>6142811</th>\n",
       "      <td>brandtware</td>\n",
       "      <td>8.1</td>\n",
       "      <td>292600</td>\n",
       "      <td>2018-01-02</td>\n",
       "      <td>This is the only game I have ever played which...</td>\n",
       "    </tr>\n",
       "    <tr>\n",
       "      <th>6142812</th>\n",
       "      <td>Suh❀</td>\n",
       "      <td>1.9</td>\n",
       "      <td>292600</td>\n",
       "      <td>2017-12-29</td>\n",
       "      <td>Very, very good. I love it, one of my favorite...</td>\n",
       "    </tr>\n",
       "    <tr>\n",
       "      <th>6142816</th>\n",
       "      <td>AbsoluteZer0</td>\n",
       "      <td>0.1</td>\n",
       "      <td>292600</td>\n",
       "      <td>2017-12-27</td>\n",
       "      <td>+ Simple to play - hard to master: You have 2 ...</td>\n",
       "    </tr>\n",
       "    <tr>\n",
       "      <th>6142817</th>\n",
       "      <td>Ninjax</td>\n",
       "      <td>1.3</td>\n",
       "      <td>292600</td>\n",
       "      <td>2017-12-25</td>\n",
       "      <td>A wonderful game! I've played on mobile, and n...</td>\n",
       "    </tr>\n",
       "    <tr>\n",
       "      <th>...</th>\n",
       "      <td>...</td>\n",
       "      <td>...</td>\n",
       "      <td>...</td>\n",
       "      <td>...</td>\n",
       "      <td>...</td>\n",
       "    </tr>\n",
       "    <tr>\n",
       "      <th>6147715</th>\n",
       "      <td>Geoff_12889</td>\n",
       "      <td>3.8</td>\n",
       "      <td>292600</td>\n",
       "      <td>2015-08-04</td>\n",
       "      <td>This game is exactly like the mobile game, and...</td>\n",
       "    </tr>\n",
       "    <tr>\n",
       "      <th>6147716</th>\n",
       "      <td>Aetos</td>\n",
       "      <td>7.5</td>\n",
       "      <td>292600</td>\n",
       "      <td>2015-08-04</td>\n",
       "      <td>It’s perfect, highly recommend.\\nFan of Super ...</td>\n",
       "    </tr>\n",
       "    <tr>\n",
       "      <th>6147717</th>\n",
       "      <td>Zia</td>\n",
       "      <td>2.5</td>\n",
       "      <td>292600</td>\n",
       "      <td>2015-08-03</td>\n",
       "      <td>A marvellous and inspiring little game with a ...</td>\n",
       "    </tr>\n",
       "    <tr>\n",
       "      <th>6147718</th>\n",
       "      <td>Child Labor Work Force</td>\n",
       "      <td>7.8</td>\n",
       "      <td>292600</td>\n",
       "      <td>2015-08-03</td>\n",
       "      <td>\"Difficult\"and \"Rogue\" should be added to the ...</td>\n",
       "    </tr>\n",
       "    <tr>\n",
       "      <th>6147719</th>\n",
       "      <td>Enkhrypthor</td>\n",
       "      <td>0.8</td>\n",
       "      <td>292600</td>\n",
       "      <td>2015-08-03</td>\n",
       "      <td>This game.. Just...\\nits.. just...\\ndamn...\\na...</td>\n",
       "    </tr>\n",
       "  </tbody>\n",
       "</table>\n",
       "<p>291 rows × 5 columns</p>\n",
       "</div>"
      ],
      "text/plain": [
       "                       username  hours product_id        date  \\\n",
       "6142810            nomomonopoly   18.6     292600  2018-01-03   \n",
       "6142811              brandtware    8.1     292600  2018-01-02   \n",
       "6142812                    Suh❀    1.9     292600  2017-12-29   \n",
       "6142816            AbsoluteZer0    0.1     292600  2017-12-27   \n",
       "6142817                  Ninjax    1.3     292600  2017-12-25   \n",
       "...                         ...    ...        ...         ...   \n",
       "6147715             Geoff_12889    3.8     292600  2015-08-04   \n",
       "6147716                   Aetos    7.5     292600  2015-08-04   \n",
       "6147717                     Zia    2.5     292600  2015-08-03   \n",
       "6147718  Child Labor Work Force    7.8     292600  2015-08-03   \n",
       "6147719             Enkhrypthor    0.8     292600  2015-08-03   \n",
       "\n",
       "                                                      text  \n",
       "6142810  There are a few games that manage to exceed wi...  \n",
       "6142811  This is the only game I have ever played which...  \n",
       "6142812  Very, very good. I love it, one of my favorite...  \n",
       "6142816  + Simple to play - hard to master: You have 2 ...  \n",
       "6142817  A wonderful game! I've played on mobile, and n...  \n",
       "...                                                    ...  \n",
       "6147715  This game is exactly like the mobile game, and...  \n",
       "6147716  It’s perfect, highly recommend.\\nFan of Super ...  \n",
       "6147717  A marvellous and inspiring little game with a ...  \n",
       "6147718  \"Difficult\"and \"Rogue\" should be added to the ...  \n",
       "6147719  This game.. Just...\\nits.. just...\\ndamn...\\na...  \n",
       "\n",
       "[291 rows x 5 columns]"
      ]
     },
     "execution_count": 34,
     "metadata": {},
     "output_type": "execute_result"
    }
   ],
   "source": [
    "duet = query_duet.iloc[0]\n",
    "print(f'Duet: {duet.id}')\n",
    "data_reviews.query('product_id == @duet.id')"
   ]
  },
  {
   "cell_type": "markdown",
   "metadata": {},
   "source": [
    "Aplicando dropna() al dataset con valores faltantes por la columna **\"app_name\"**"
   ]
  },
  {
   "cell_type": "code",
   "execution_count": 35,
   "metadata": {
    "ExecuteTime": {
     "end_time": "2020-10-05T19:23:51.333883Z",
     "start_time": "2020-10-05T19:23:51.297954Z"
    }
   },
   "outputs": [],
   "source": [
    "data_games.dropna(subset=['app_name'], inplace=True)"
   ]
  },
  {
   "cell_type": "code",
   "execution_count": 36,
   "metadata": {
    "ExecuteTime": {
     "end_time": "2020-10-05T19:23:51.731735Z",
     "start_time": "2020-10-05T19:23:51.726715Z"
    }
   },
   "outputs": [
    {
     "data": {
      "text/plain": [
       "(32133, 6)"
      ]
     },
     "execution_count": 36,
     "metadata": {},
     "output_type": "execute_result"
    }
   ],
   "source": [
    "data_games.shape"
   ]
  },
  {
   "cell_type": "code",
   "execution_count": 37,
   "metadata": {
    "ExecuteTime": {
     "end_time": "2020-10-05T19:23:52.106306Z",
     "start_time": "2020-10-05T19:23:52.079381Z"
    }
   },
   "outputs": [
    {
     "data": {
      "text/plain": [
       "app_name           0\n",
       "url                0\n",
       "release_date    2066\n",
       "tags             162\n",
       "price           1376\n",
       "id                 1\n",
       "dtype: int64"
      ]
     },
     "execution_count": 37,
     "metadata": {},
     "output_type": "execute_result"
    }
   ],
   "source": [
    "data_games.isna().sum()"
   ]
  },
  {
   "cell_type": "markdown",
   "metadata": {},
   "source": [
    "Es importante que la columna **\"id\"** este sin valores faltantes dado que el modelo en la segunda etapa de este proyecto lo requerira, el resto de campos tendra mayor uso para realizar consultas. Dado lo anterior, se aplicara el siguiente analisis para rellenar este valor:"
   ]
  },
  {
   "cell_type": "code",
   "execution_count": 38,
   "metadata": {
    "ExecuteTime": {
     "end_time": "2020-10-05T19:23:53.355022Z",
     "start_time": "2020-10-05T19:23:53.325124Z"
    }
   },
   "outputs": [
    {
     "data": {
      "text/html": [
       "<div>\n",
       "<style scoped>\n",
       "    .dataframe tbody tr th:only-of-type {\n",
       "        vertical-align: middle;\n",
       "    }\n",
       "\n",
       "    .dataframe tbody tr th {\n",
       "        vertical-align: top;\n",
       "    }\n",
       "\n",
       "    .dataframe thead th {\n",
       "        text-align: right;\n",
       "    }\n",
       "</style>\n",
       "<table border=\"1\" class=\"dataframe\">\n",
       "  <thead>\n",
       "    <tr style=\"text-align: right;\">\n",
       "      <th></th>\n",
       "      <th>app_name</th>\n",
       "      <th>url</th>\n",
       "      <th>release_date</th>\n",
       "      <th>tags</th>\n",
       "      <th>price</th>\n",
       "      <th>id</th>\n",
       "    </tr>\n",
       "  </thead>\n",
       "  <tbody>\n",
       "    <tr>\n",
       "      <th>30961</th>\n",
       "      <td>Batman: Arkham City - Game of the Year Edition</td>\n",
       "      <td>http://store.steampowered.com/app/200260</td>\n",
       "      <td>2012-09-07</td>\n",
       "      <td>[Action, Open World, Batman, Adventure, Stealt...</td>\n",
       "      <td>19.99</td>\n",
       "      <td>NaN</td>\n",
       "    </tr>\n",
       "  </tbody>\n",
       "</table>\n",
       "</div>"
      ],
      "text/plain": [
       "                                             app_name  \\\n",
       "30961  Batman: Arkham City - Game of the Year Edition   \n",
       "\n",
       "                                            url release_date  \\\n",
       "30961  http://store.steampowered.com/app/200260   2012-09-07   \n",
       "\n",
       "                                                    tags  price   id  \n",
       "30961  [Action, Open World, Batman, Adventure, Stealt...  19.99  NaN  "
      ]
     },
     "execution_count": 38,
     "metadata": {},
     "output_type": "execute_result"
    }
   ],
   "source": [
    "data_games[data_games.id.isna()]"
   ]
  },
  {
   "cell_type": "markdown",
   "metadata": {},
   "source": [
    "**Rellenando columna \"id\"**"
   ]
  },
  {
   "cell_type": "markdown",
   "metadata": {},
   "source": [
    "Vemos que la url contiene el id faltante y en este caso se obtuvo un solo registro, con un simple _\"copy - paste\"_ de este id y conociendo el indice se podria solucionar, pero si se hubieran obtenido multiples registros seria una tarea tediosa, entonces se realizara un \"loop\" sobre estos videojuegos para completar el id. "
   ]
  },
  {
   "cell_type": "code",
   "execution_count": 39,
   "metadata": {
    "ExecuteTime": {
     "end_time": "2020-10-05T19:23:54.939136Z",
     "start_time": "2020-10-05T19:23:54.927181Z"
    }
   },
   "outputs": [
    {
     "data": {
      "text/plain": [
       "app_name           Batman: Arkham City - Game of the Year Edition\n",
       "url                      http://store.steampowered.com/app/200260\n",
       "release_date                                           2012-09-07\n",
       "tags            [Action, Open World, Batman, Adventure, Stealt...\n",
       "price                                                       19.99\n",
       "id                                                            NaN\n",
       "Name: 30961, dtype: object"
      ]
     },
     "execution_count": 39,
     "metadata": {},
     "output_type": "execute_result"
    }
   ],
   "source": [
    "data_games.loc[30961]"
   ]
  },
  {
   "cell_type": "markdown",
   "metadata": {},
   "source": [
    "Split basico a una url para obtener el id:"
   ]
  },
  {
   "cell_type": "code",
   "execution_count": 40,
   "metadata": {
    "ExecuteTime": {
     "end_time": "2020-10-05T19:23:55.521300Z",
     "start_time": "2020-10-05T19:23:55.515290Z"
    }
   },
   "outputs": [
    {
     "data": {
      "text/plain": [
       "'200260'"
      ]
     },
     "execution_count": 40,
     "metadata": {},
     "output_type": "execute_result"
    }
   ],
   "source": [
    "'http://store.steampowered.com/app/200260'.split('app/')[1].split('/')[0]"
   ]
  },
  {
   "cell_type": "markdown",
   "metadata": {},
   "source": [
    "Aplicando la estrategia en un loop:"
   ]
  },
  {
   "cell_type": "code",
   "execution_count": 41,
   "metadata": {
    "ExecuteTime": {
     "end_time": "2020-10-05T19:23:56.362649Z",
     "start_time": "2020-10-05T19:23:56.345693Z"
    }
   },
   "outputs": [],
   "source": [
    "index_id_nan = data_games[data_games.id.isna()].index\n",
    "for idx in index_id_nan:\n",
    "    url = data_games.loc[idx].url\n",
    "    id_game = url.split('app/')[1].split('/')[0]\n",
    "    data_games.loc[idx].id = id_game"
   ]
  },
  {
   "cell_type": "code",
   "execution_count": 42,
   "metadata": {
    "ExecuteTime": {
     "end_time": "2020-10-05T19:23:56.765550Z",
     "start_time": "2020-10-05T19:23:56.752611Z"
    }
   },
   "outputs": [
    {
     "data": {
      "text/html": [
       "<div>\n",
       "<style scoped>\n",
       "    .dataframe tbody tr th:only-of-type {\n",
       "        vertical-align: middle;\n",
       "    }\n",
       "\n",
       "    .dataframe tbody tr th {\n",
       "        vertical-align: top;\n",
       "    }\n",
       "\n",
       "    .dataframe thead th {\n",
       "        text-align: right;\n",
       "    }\n",
       "</style>\n",
       "<table border=\"1\" class=\"dataframe\">\n",
       "  <thead>\n",
       "    <tr style=\"text-align: right;\">\n",
       "      <th></th>\n",
       "      <th>app_name</th>\n",
       "      <th>url</th>\n",
       "      <th>release_date</th>\n",
       "      <th>tags</th>\n",
       "      <th>price</th>\n",
       "      <th>id</th>\n",
       "    </tr>\n",
       "  </thead>\n",
       "  <tbody>\n",
       "    <tr>\n",
       "      <th>30961</th>\n",
       "      <td>Batman: Arkham City - Game of the Year Edition</td>\n",
       "      <td>http://store.steampowered.com/app/200260</td>\n",
       "      <td>2012-09-07</td>\n",
       "      <td>[Action, Open World, Batman, Adventure, Stealt...</td>\n",
       "      <td>19.99</td>\n",
       "      <td>200260</td>\n",
       "    </tr>\n",
       "  </tbody>\n",
       "</table>\n",
       "</div>"
      ],
      "text/plain": [
       "                                             app_name  \\\n",
       "30961  Batman: Arkham City - Game of the Year Edition   \n",
       "\n",
       "                                            url release_date  \\\n",
       "30961  http://store.steampowered.com/app/200260   2012-09-07   \n",
       "\n",
       "                                                    tags  price      id  \n",
       "30961  [Action, Open World, Batman, Adventure, Stealt...  19.99  200260  "
      ]
     },
     "execution_count": 42,
     "metadata": {},
     "output_type": "execute_result"
    }
   ],
   "source": [
    "data_games[data_games.index == 30961]"
   ]
  },
  {
   "cell_type": "code",
   "execution_count": 43,
   "metadata": {
    "ExecuteTime": {
     "end_time": "2020-10-05T19:23:57.054772Z",
     "start_time": "2020-10-05T19:23:57.026873Z"
    }
   },
   "outputs": [
    {
     "data": {
      "text/plain": [
       "app_name           0\n",
       "url                0\n",
       "release_date    2066\n",
       "tags             162\n",
       "price           1376\n",
       "id                 0\n",
       "dtype: int64"
      ]
     },
     "execution_count": 43,
     "metadata": {},
     "output_type": "execute_result"
    }
   ],
   "source": [
    "data_games.isna().sum()"
   ]
  },
  {
   "cell_type": "markdown",
   "metadata": {},
   "source": [
    "#### Filtrado de categorias en precio"
   ]
  },
  {
   "cell_type": "markdown",
   "metadata": {},
   "source": [
    "La columna \"price\" esta conforma por valores numericos y categoricos, entonces haremos un filtro para obtener y analizar estas categorias."
   ]
  },
  {
   "cell_type": "code",
   "execution_count": 44,
   "metadata": {
    "ExecuteTime": {
     "end_time": "2020-10-05T19:23:58.998822Z",
     "start_time": "2020-10-05T19:23:58.955964Z"
    }
   },
   "outputs": [
    {
     "data": {
      "text/plain": [
       "array(['Free', 'Free Demo', 'Free HITMAN™ Holiday Pack', 'Free Mod',\n",
       "       'Free Movie', 'Free To Play', 'Free to Play', 'Free to Try',\n",
       "       'Free to Use', 'Install Now', 'Install Theme', 'Play Now',\n",
       "       'Play WARMACHINE: Tactics Demo', 'Play for Free!', 'Play the Demo',\n",
       "       'Starting at $449.00', 'Starting at $499.00', 'Third-party'],\n",
       "      dtype='<U29')"
      ]
     },
     "execution_count": 44,
     "metadata": {},
     "output_type": "execute_result"
    }
   ],
   "source": [
    "prices = np.array([i for i in list(data_games.price) if (type(i) == str)])\n",
    "np.unique(prices)"
   ]
  },
  {
   "cell_type": "markdown",
   "metadata": {
    "ExecuteTime": {
     "end_time": "2020-09-30T22:01:15.873358Z",
     "start_time": "2020-09-30T22:01:15.868373Z"
    }
   },
   "source": [
    "Se observa dos veces la categoria \"Starting at $449.00\", parece que el metodo np.unique() lo distinguio como categorias diferentes, algo inusual.  \n",
    "\n",
    "A continuacion se realizara un filtrado para explorar algunas categorias bastante curiosas por su nombre: \"Install Now\", \"Install Theme\", \"Free movie\", y \"Starting at $499\" "
   ]
  },
  {
   "cell_type": "code",
   "execution_count": 45,
   "metadata": {
    "ExecuteTime": {
     "end_time": "2020-10-05T19:24:01.073973Z",
     "start_time": "2020-10-05T19:24:00.977234Z"
    }
   },
   "outputs": [
    {
     "data": {
      "text/html": [
       "<div>\n",
       "<style scoped>\n",
       "    .dataframe tbody tr th:only-of-type {\n",
       "        vertical-align: middle;\n",
       "    }\n",
       "\n",
       "    .dataframe tbody tr th {\n",
       "        vertical-align: top;\n",
       "    }\n",
       "\n",
       "    .dataframe thead th {\n",
       "        text-align: right;\n",
       "    }\n",
       "</style>\n",
       "<table border=\"1\" class=\"dataframe\">\n",
       "  <thead>\n",
       "    <tr style=\"text-align: right;\">\n",
       "      <th></th>\n",
       "      <th>Index</th>\n",
       "      <th>app_name</th>\n",
       "      <th>url</th>\n",
       "      <th>release_date</th>\n",
       "      <th>tags</th>\n",
       "      <th>price</th>\n",
       "      <th>id</th>\n",
       "    </tr>\n",
       "  </thead>\n",
       "  <tbody>\n",
       "    <tr>\n",
       "      <th>0</th>\n",
       "      <td>2405</td>\n",
       "      <td>EVGA Precision XOC</td>\n",
       "      <td>http://store.steampowered.com/app/268850/EVGA_...</td>\n",
       "      <td>2014-09-19</td>\n",
       "      <td>[Utilities, Software, Free to Play]</td>\n",
       "      <td>Install Now</td>\n",
       "      <td>268850</td>\n",
       "    </tr>\n",
       "    <tr>\n",
       "      <th>1</th>\n",
       "      <td>3832</td>\n",
       "      <td>FREE China Theme Pack</td>\n",
       "      <td>http://store.steampowered.com/app/370880/FREE_...</td>\n",
       "      <td>2015-06-10</td>\n",
       "      <td>[Adventure, RPG, Indie, Casual, Simulation]</td>\n",
       "      <td>Install Theme</td>\n",
       "      <td>370880</td>\n",
       "    </tr>\n",
       "    <tr>\n",
       "      <th>2</th>\n",
       "      <td>25000</td>\n",
       "      <td>Syber Steam Machine</td>\n",
       "      <td>http://store.steampowered.com/app/353420/Syber...</td>\n",
       "      <td>2015-11-10</td>\n",
       "      <td>[Steam Machine, Hardware]</td>\n",
       "      <td>Starting at $499.00</td>\n",
       "      <td>353420</td>\n",
       "    </tr>\n",
       "    <tr>\n",
       "      <th>3</th>\n",
       "      <td>25001</td>\n",
       "      <td>Alienware Steam Machine</td>\n",
       "      <td>http://store.steampowered.com/app/353390/Alien...</td>\n",
       "      <td>2015-11-10</td>\n",
       "      <td>[Steam Machine, Hardware, Gaming, Futuristic, ...</td>\n",
       "      <td>Starting at $449.00</td>\n",
       "      <td>353390</td>\n",
       "    </tr>\n",
       "    <tr>\n",
       "      <th>4</th>\n",
       "      <td>29366</td>\n",
       "      <td>Free to Play</td>\n",
       "      <td>http://store.steampowered.com/app/245550/Free_...</td>\n",
       "      <td>2014-03-19</td>\n",
       "      <td>[Free to Play, Documentary, e-sports]</td>\n",
       "      <td>Free Movie</td>\n",
       "      <td>245550</td>\n",
       "    </tr>\n",
       "  </tbody>\n",
       "</table>\n",
       "</div>"
      ],
      "text/plain": [
       "   Index                 app_name  \\\n",
       "0   2405       EVGA Precision XOC   \n",
       "1   3832    FREE China Theme Pack   \n",
       "2  25000      Syber Steam Machine   \n",
       "3  25001  Alienware Steam Machine   \n",
       "4  29366             Free to Play   \n",
       "\n",
       "                                                 url release_date  \\\n",
       "0  http://store.steampowered.com/app/268850/EVGA_...   2014-09-19   \n",
       "1  http://store.steampowered.com/app/370880/FREE_...   2015-06-10   \n",
       "2  http://store.steampowered.com/app/353420/Syber...   2015-11-10   \n",
       "3  http://store.steampowered.com/app/353390/Alien...   2015-11-10   \n",
       "4  http://store.steampowered.com/app/245550/Free_...   2014-03-19   \n",
       "\n",
       "                                                tags                price  \\\n",
       "0                [Utilities, Software, Free to Play]          Install Now   \n",
       "1        [Adventure, RPG, Indie, Casual, Simulation]        Install Theme   \n",
       "2                          [Steam Machine, Hardware]  Starting at $499.00   \n",
       "3  [Steam Machine, Hardware, Gaming, Futuristic, ...  Starting at $449.00   \n",
       "4              [Free to Play, Documentary, e-sports]           Free Movie   \n",
       "\n",
       "       id  \n",
       "0  268850  \n",
       "1  370880  \n",
       "2  353420  \n",
       "3  353390  \n",
       "4  245550  "
      ]
     },
     "execution_count": 45,
     "metadata": {},
     "output_type": "execute_result"
    }
   ],
   "source": [
    "prices_not_allowed = ['Install Now', 'Install Theme', 'Free Movie']\n",
    "games_invalid = [game for game in data_games.itertuples()\n",
    "                 if ((type(game.price) == str) and ((game.price in prices_not_allowed) or game.price.startswith('Starting')))]\n",
    "games_invalid = pd.DataFrame(games_invalid)\n",
    "games_invalid"
   ]
  },
  {
   "cell_type": "markdown",
   "metadata": {},
   "source": [
    "Al investigar en profundidad estas categorias mediante la url descubrimos que estos registros no corresponden a videojuegos:\n",
    "* **EVGA Precision XOC**: Software que ayuda a la configuracion de la tarjeta grafica (Ejemplo: https://www.evga.com/precisionxoc/)\n",
    "* **FREE China Theme Pack**: Decorador de videojuegos adaptando tematica relacionada a la cultura china.\n",
    "* **Syber Steam Machine** y **Alienware Steam Machine**: Son unidades de hardware con un sistema operativo nativo Steam OS para brindar mejor experiencia de juego. (Ejemplo: https://www.cyberpowerpc.com/system/Syber-Steam-Machine-Core)\n",
    "* **Free to Play**: Video/Documental acerca de videojuegos."
   ]
  },
  {
   "cell_type": "markdown",
   "metadata": {},
   "source": [
    "Eliminando registros detectados del dataset de videojuegos, los registros a filtrar estan en una nueva variable:"
   ]
  },
  {
   "cell_type": "code",
   "execution_count": 46,
   "metadata": {
    "ExecuteTime": {
     "end_time": "2020-10-05T19:25:03.424700Z",
     "start_time": "2020-10-05T19:25:03.404732Z"
    }
   },
   "outputs": [],
   "source": [
    "data_games.drop(games_invalid.Index, inplace=True)\n",
    "data_games.reset_index(drop=True, inplace=True)"
   ]
  },
  {
   "cell_type": "code",
   "execution_count": 47,
   "metadata": {
    "ExecuteTime": {
     "end_time": "2020-10-05T19:25:20.239803Z",
     "start_time": "2020-10-05T19:25:20.216853Z"
    }
   },
   "outputs": [
    {
     "name": "stdout",
     "output_type": "stream",
     "text": [
      "(32128, 6)\n"
     ]
    },
    {
     "data": {
      "text/html": [
       "<div>\n",
       "<style scoped>\n",
       "    .dataframe tbody tr th:only-of-type {\n",
       "        vertical-align: middle;\n",
       "    }\n",
       "\n",
       "    .dataframe tbody tr th {\n",
       "        vertical-align: top;\n",
       "    }\n",
       "\n",
       "    .dataframe thead th {\n",
       "        text-align: right;\n",
       "    }\n",
       "</style>\n",
       "<table border=\"1\" class=\"dataframe\">\n",
       "  <thead>\n",
       "    <tr style=\"text-align: right;\">\n",
       "      <th></th>\n",
       "      <th>app_name</th>\n",
       "      <th>url</th>\n",
       "      <th>release_date</th>\n",
       "      <th>tags</th>\n",
       "      <th>price</th>\n",
       "      <th>id</th>\n",
       "    </tr>\n",
       "  </thead>\n",
       "  <tbody>\n",
       "    <tr>\n",
       "      <th>0</th>\n",
       "      <td>Lost Summoner Kitty</td>\n",
       "      <td>http://store.steampowered.com/app/761140/Lost_...</td>\n",
       "      <td>2018-01-04</td>\n",
       "      <td>[Strategy, Action, Indie, Casual, Simulation]</td>\n",
       "      <td>4.99</td>\n",
       "      <td>761140</td>\n",
       "    </tr>\n",
       "    <tr>\n",
       "      <th>1</th>\n",
       "      <td>Ironbound</td>\n",
       "      <td>http://store.steampowered.com/app/643980/Ironb...</td>\n",
       "      <td>2018-01-04</td>\n",
       "      <td>[Free to Play, Strategy, Indie, RPG, Card Game...</td>\n",
       "      <td>Free To Play</td>\n",
       "      <td>643980</td>\n",
       "    </tr>\n",
       "    <tr>\n",
       "      <th>2</th>\n",
       "      <td>Real Pool 3D - Poolians</td>\n",
       "      <td>http://store.steampowered.com/app/670290/Real_...</td>\n",
       "      <td>2017-07-24</td>\n",
       "      <td>[Free to Play, Simulation, Sports, Casual, Ind...</td>\n",
       "      <td>Free to Play</td>\n",
       "      <td>670290</td>\n",
       "    </tr>\n",
       "    <tr>\n",
       "      <th>3</th>\n",
       "      <td>弹炸人2222</td>\n",
       "      <td>http://store.steampowered.com/app/767400/2222/</td>\n",
       "      <td>2017-12-07</td>\n",
       "      <td>[Action, Adventure, Casual]</td>\n",
       "      <td>0.99</td>\n",
       "      <td>767400</td>\n",
       "    </tr>\n",
       "    <tr>\n",
       "      <th>4</th>\n",
       "      <td>Log Challenge</td>\n",
       "      <td>http://store.steampowered.com/app/773570/Log_C...</td>\n",
       "      <td>NaN</td>\n",
       "      <td>[Action, Indie, Casual, Sports]</td>\n",
       "      <td>2.99</td>\n",
       "      <td>773570</td>\n",
       "    </tr>\n",
       "    <tr>\n",
       "      <th>...</th>\n",
       "      <td>...</td>\n",
       "      <td>...</td>\n",
       "      <td>...</td>\n",
       "      <td>...</td>\n",
       "      <td>...</td>\n",
       "      <td>...</td>\n",
       "    </tr>\n",
       "    <tr>\n",
       "      <th>32123</th>\n",
       "      <td>Colony On Mars</td>\n",
       "      <td>http://store.steampowered.com/app/773640/Colon...</td>\n",
       "      <td>2018-01-04</td>\n",
       "      <td>[Strategy, Indie, Casual, Simulation]</td>\n",
       "      <td>1.99</td>\n",
       "      <td>773640</td>\n",
       "    </tr>\n",
       "    <tr>\n",
       "      <th>32124</th>\n",
       "      <td>LOGistICAL: South Africa</td>\n",
       "      <td>http://store.steampowered.com/app/733530/LOGis...</td>\n",
       "      <td>2018-01-04</td>\n",
       "      <td>[Strategy, Indie, Casual]</td>\n",
       "      <td>4.99</td>\n",
       "      <td>733530</td>\n",
       "    </tr>\n",
       "    <tr>\n",
       "      <th>32125</th>\n",
       "      <td>Russian Roads</td>\n",
       "      <td>http://store.steampowered.com/app/610660/Russi...</td>\n",
       "      <td>2018-01-04</td>\n",
       "      <td>[Indie, Simulation, Racing]</td>\n",
       "      <td>1.99</td>\n",
       "      <td>610660</td>\n",
       "    </tr>\n",
       "    <tr>\n",
       "      <th>32126</th>\n",
       "      <td>EXIT 2 - Directions</td>\n",
       "      <td>http://store.steampowered.com/app/658870/EXIT_...</td>\n",
       "      <td>2017-09-02</td>\n",
       "      <td>[Indie, Casual, Puzzle, Singleplayer, Atmosphe...</td>\n",
       "      <td>4.99</td>\n",
       "      <td>658870</td>\n",
       "    </tr>\n",
       "    <tr>\n",
       "      <th>32127</th>\n",
       "      <td>Maze Run VR</td>\n",
       "      <td>http://store.steampowered.com/app/681550/Maze_...</td>\n",
       "      <td>NaN</td>\n",
       "      <td>[Early Access, Adventure, Indie, Action, Simul...</td>\n",
       "      <td>4.99</td>\n",
       "      <td>681550</td>\n",
       "    </tr>\n",
       "  </tbody>\n",
       "</table>\n",
       "<p>32128 rows × 6 columns</p>\n",
       "</div>"
      ],
      "text/plain": [
       "                       app_name  \\\n",
       "0           Lost Summoner Kitty   \n",
       "1                     Ironbound   \n",
       "2       Real Pool 3D - Poolians   \n",
       "3                       弹炸人2222   \n",
       "4                 Log Challenge   \n",
       "...                         ...   \n",
       "32123            Colony On Mars   \n",
       "32124  LOGistICAL: South Africa   \n",
       "32125             Russian Roads   \n",
       "32126       EXIT 2 - Directions   \n",
       "32127               Maze Run VR   \n",
       "\n",
       "                                                     url release_date  \\\n",
       "0      http://store.steampowered.com/app/761140/Lost_...   2018-01-04   \n",
       "1      http://store.steampowered.com/app/643980/Ironb...   2018-01-04   \n",
       "2      http://store.steampowered.com/app/670290/Real_...   2017-07-24   \n",
       "3         http://store.steampowered.com/app/767400/2222/   2017-12-07   \n",
       "4      http://store.steampowered.com/app/773570/Log_C...          NaN   \n",
       "...                                                  ...          ...   \n",
       "32123  http://store.steampowered.com/app/773640/Colon...   2018-01-04   \n",
       "32124  http://store.steampowered.com/app/733530/LOGis...   2018-01-04   \n",
       "32125  http://store.steampowered.com/app/610660/Russi...   2018-01-04   \n",
       "32126  http://store.steampowered.com/app/658870/EXIT_...   2017-09-02   \n",
       "32127  http://store.steampowered.com/app/681550/Maze_...          NaN   \n",
       "\n",
       "                                                    tags         price      id  \n",
       "0          [Strategy, Action, Indie, Casual, Simulation]          4.99  761140  \n",
       "1      [Free to Play, Strategy, Indie, RPG, Card Game...  Free To Play  643980  \n",
       "2      [Free to Play, Simulation, Sports, Casual, Ind...  Free to Play  670290  \n",
       "3                            [Action, Adventure, Casual]          0.99  767400  \n",
       "4                        [Action, Indie, Casual, Sports]          2.99  773570  \n",
       "...                                                  ...           ...     ...  \n",
       "32123              [Strategy, Indie, Casual, Simulation]          1.99  773640  \n",
       "32124                          [Strategy, Indie, Casual]          4.99  733530  \n",
       "32125                        [Indie, Simulation, Racing]          1.99  610660  \n",
       "32126  [Indie, Casual, Puzzle, Singleplayer, Atmosphe...          4.99  658870  \n",
       "32127  [Early Access, Adventure, Indie, Action, Simul...          4.99  681550  \n",
       "\n",
       "[32128 rows x 6 columns]"
      ]
     },
     "execution_count": 47,
     "metadata": {},
     "output_type": "execute_result"
    }
   ],
   "source": [
    "print(data_games.shape)\n",
    "data_games"
   ]
  },
  {
   "cell_type": "code",
   "execution_count": 48,
   "metadata": {
    "ExecuteTime": {
     "end_time": "2020-10-05T19:25:24.034933Z",
     "start_time": "2020-10-05T19:25:24.006048Z"
    }
   },
   "outputs": [
    {
     "data": {
      "text/plain": [
       "app_name           0\n",
       "url                0\n",
       "release_date    2066\n",
       "tags             162\n",
       "price           1376\n",
       "id                 0\n",
       "dtype: int64"
      ]
     },
     "execution_count": 48,
     "metadata": {},
     "output_type": "execute_result"
    }
   ],
   "source": [
    "data_games.isna().sum()"
   ]
  },
  {
   "cell_type": "code",
   "execution_count": 49,
   "metadata": {
    "ExecuteTime": {
     "end_time": "2020-10-05T19:25:29.007652Z",
     "start_time": "2020-10-05T19:25:28.468124Z"
    }
   },
   "outputs": [
    {
     "data": {
      "image/png": "[encoded data removed]",
      "text/plain": [
       "<Figure size 1296x720 with 1 Axes>"
      ]
     },
     "metadata": {},
     "output_type": "display_data"
    }
   ],
   "source": [
    "heatmap_nan_values(data_games)"
   ]
  },
  {
   "cell_type": "markdown",
   "metadata": {},
   "source": [
    "Ahora examinaremos los reviews existentes de estas 4 categorias:"
   ]
  },
  {
   "cell_type": "code",
   "execution_count": 50,
   "metadata": {
    "ExecuteTime": {
     "end_time": "2020-10-05T19:25:38.798978Z",
     "start_time": "2020-10-05T19:25:37.571161Z"
    }
   },
   "outputs": [
    {
     "name": "stdout",
     "output_type": "stream",
     "text": [
      "(6289, 12)\n"
     ]
    },
    {
     "data": {
      "text/html": [
       "<div>\n",
       "<style scoped>\n",
       "    .dataframe tbody tr th:only-of-type {\n",
       "        vertical-align: middle;\n",
       "    }\n",
       "\n",
       "    .dataframe tbody tr th {\n",
       "        vertical-align: top;\n",
       "    }\n",
       "\n",
       "    .dataframe thead th {\n",
       "        text-align: right;\n",
       "    }\n",
       "</style>\n",
       "<table border=\"1\" class=\"dataframe\">\n",
       "  <thead>\n",
       "    <tr style=\"text-align: right;\">\n",
       "      <th></th>\n",
       "      <th>username</th>\n",
       "      <th>hours</th>\n",
       "      <th>product_id</th>\n",
       "      <th>date</th>\n",
       "      <th>text</th>\n",
       "      <th>Index</th>\n",
       "      <th>app_name</th>\n",
       "      <th>url</th>\n",
       "      <th>release_date</th>\n",
       "      <th>tags</th>\n",
       "      <th>price</th>\n",
       "      <th>id</th>\n",
       "    </tr>\n",
       "  </thead>\n",
       "  <tbody>\n",
       "    <tr>\n",
       "      <th>0</th>\n",
       "      <td>newabcd</td>\n",
       "      <td>1578.9</td>\n",
       "      <td>268850</td>\n",
       "      <td>2018-01-05</td>\n",
       "      <td>Does the job very well.</td>\n",
       "      <td>2405</td>\n",
       "      <td>EVGA Precision XOC</td>\n",
       "      <td>http://store.steampowered.com/app/268850/EVGA_...</td>\n",
       "      <td>2014-09-19</td>\n",
       "      <td>[Utilities, Software, Free to Play]</td>\n",
       "      <td>Install Now</td>\n",
       "      <td>268850</td>\n",
       "    </tr>\n",
       "    <tr>\n",
       "      <th>1</th>\n",
       "      <td>Rucko</td>\n",
       "      <td>318.3</td>\n",
       "      <td>268850</td>\n",
       "      <td>2018-01-04</td>\n",
       "      <td>I checked which of my games had the most hours...</td>\n",
       "      <td>2405</td>\n",
       "      <td>EVGA Precision XOC</td>\n",
       "      <td>http://store.steampowered.com/app/268850/EVGA_...</td>\n",
       "      <td>2014-09-19</td>\n",
       "      <td>[Utilities, Software, Free to Play]</td>\n",
       "      <td>Install Now</td>\n",
       "      <td>268850</td>\n",
       "    </tr>\n",
       "    <tr>\n",
       "      <th>2</th>\n",
       "      <td>chiken</td>\n",
       "      <td>242.6</td>\n",
       "      <td>268850</td>\n",
       "      <td>2018-01-03</td>\n",
       "      <td>Best RPG ever 10/10</td>\n",
       "      <td>2405</td>\n",
       "      <td>EVGA Precision XOC</td>\n",
       "      <td>http://store.steampowered.com/app/268850/EVGA_...</td>\n",
       "      <td>2014-09-19</td>\n",
       "      <td>[Utilities, Software, Free to Play]</td>\n",
       "      <td>Install Now</td>\n",
       "      <td>268850</td>\n",
       "    </tr>\n",
       "  </tbody>\n",
       "</table>\n",
       "</div>"
      ],
      "text/plain": [
       "  username   hours product_id        date  \\\n",
       "0  newabcd  1578.9     268850  2018-01-05   \n",
       "1    Rucko   318.3     268850  2018-01-04   \n",
       "2   chiken   242.6     268850  2018-01-03   \n",
       "\n",
       "                                                text  Index  \\\n",
       "0                            Does the job very well.   2405   \n",
       "1  I checked which of my games had the most hours...   2405   \n",
       "2                                Best RPG ever 10/10   2405   \n",
       "\n",
       "             app_name                                                url  \\\n",
       "0  EVGA Precision XOC  http://store.steampowered.com/app/268850/EVGA_...   \n",
       "1  EVGA Precision XOC  http://store.steampowered.com/app/268850/EVGA_...   \n",
       "2  EVGA Precision XOC  http://store.steampowered.com/app/268850/EVGA_...   \n",
       "\n",
       "  release_date                                 tags        price      id  \n",
       "0   2014-09-19  [Utilities, Software, Free to Play]  Install Now  268850  \n",
       "1   2014-09-19  [Utilities, Software, Free to Play]  Install Now  268850  \n",
       "2   2014-09-19  [Utilities, Software, Free to Play]  Install Now  268850  "
      ]
     },
     "execution_count": 50,
     "metadata": {},
     "output_type": "execute_result"
    }
   ],
   "source": [
    "merge_reviews = pd.merge(data_reviews, games_invalid, left_on='product_id', right_on='id')\n",
    "print(merge_reviews.shape)\n",
    "merge_reviews.head(3)"
   ]
  },
  {
   "cell_type": "markdown",
   "metadata": {},
   "source": [
    "Shape de la ultima version del dataset de reviews:"
   ]
  },
  {
   "cell_type": "code",
   "execution_count": 51,
   "metadata": {
    "ExecuteTime": {
     "end_time": "2020-10-05T19:28:57.799322Z",
     "start_time": "2020-10-05T19:28:57.793314Z"
    }
   },
   "outputs": [
    {
     "data": {
      "text/plain": [
       "(6961236, 5)"
      ]
     },
     "execution_count": 51,
     "metadata": {},
     "output_type": "execute_result"
    }
   ],
   "source": [
    "data_reviews.shape"
   ]
  },
  {
   "cell_type": "markdown",
   "metadata": {},
   "source": [
    "#### Filtrando reviews"
   ]
  },
  {
   "cell_type": "markdown",
   "metadata": {},
   "source": [
    "Filtrando reviews que pertenecen a estas categorias:"
   ]
  },
  {
   "cell_type": "code",
   "execution_count": 52,
   "metadata": {
    "ExecuteTime": {
     "end_time": "2020-10-05T19:30:30.208672Z",
     "start_time": "2020-10-05T19:29:04.301775Z"
    }
   },
   "outputs": [],
   "source": [
    "data_reviews.query('product_id not in @games_invalid.id', inplace=True)"
   ]
  },
  {
   "cell_type": "code",
   "execution_count": 53,
   "metadata": {
    "ExecuteTime": {
     "end_time": "2020-10-05T19:30:30.277493Z",
     "start_time": "2020-10-05T19:30:30.245573Z"
    }
   },
   "outputs": [
    {
     "data": {
      "text/plain": [
       "(6954947, 5)"
      ]
     },
     "execution_count": 53,
     "metadata": {},
     "output_type": "execute_result"
    }
   ],
   "source": [
    "data_reviews.shape"
   ]
  },
  {
   "cell_type": "markdown",
   "metadata": {},
   "source": [
    "#### Transformando categorias"
   ]
  },
  {
   "cell_type": "markdown",
   "metadata": {},
   "source": [
    "Creando nuevas categorias para la columna precio, actualmente contamos con valores numericos y categoricos:"
   ]
  },
  {
   "cell_type": "code",
   "execution_count": 54,
   "metadata": {
    "ExecuteTime": {
     "end_time": "2020-10-05T19:31:09.582295Z",
     "start_time": "2020-10-05T19:31:09.359738Z"
    }
   },
   "outputs": [
    {
     "name": "stdout",
     "output_type": "stream",
     "text": [
      "Videojuegos de pago: 30223\n",
      "Videojuegos con categoria de precios: free to play                     982\n",
      "free                             905\n",
      "free mod                           4\n",
      "free demo                          3\n",
      "play for free!                     2\n",
      "play now                           2\n",
      "third-party                        2\n",
      "play warmachine: tactics demo      1\n",
      "play the demo                      1\n",
      "free to use                        1\n",
      "free hitman™ holiday pack          1\n",
      "free to try                        1\n",
      "dtype: int64\n"
     ]
    }
   ],
   "source": [
    "paid_games = 0\n",
    "price_categories = []\n",
    "for price in data_games.price:\n",
    "    if type(price) == str:\n",
    "        price_categories.append(price.lower().strip())\n",
    "    else:\n",
    "        paid_games += 1\n",
    "print('Videojuegos de pago:', paid_games)\n",
    "print('Videojuegos con categoria de precios:', (pd.Series(price_categories).value_counts()))"
   ]
  },
  {
   "cell_type": "code",
   "execution_count": 55,
   "metadata": {
    "ExecuteTime": {
     "end_time": "2020-10-05T19:31:10.250391Z",
     "start_time": "2020-10-05T19:31:10.158633Z"
    }
   },
   "outputs": [
    {
     "data": {
      "text/html": [
       "<div>\n",
       "<style scoped>\n",
       "    .dataframe tbody tr th:only-of-type {\n",
       "        vertical-align: middle;\n",
       "    }\n",
       "\n",
       "    .dataframe tbody tr th {\n",
       "        vertical-align: top;\n",
       "    }\n",
       "\n",
       "    .dataframe thead th {\n",
       "        text-align: right;\n",
       "    }\n",
       "</style>\n",
       "<table border=\"1\" class=\"dataframe\">\n",
       "  <thead>\n",
       "    <tr style=\"text-align: right;\">\n",
       "      <th></th>\n",
       "      <th>app_name</th>\n",
       "      <th>url</th>\n",
       "      <th>release_date</th>\n",
       "      <th>tags</th>\n",
       "      <th>price</th>\n",
       "      <th>id</th>\n",
       "      <th>category_price</th>\n",
       "    </tr>\n",
       "  </thead>\n",
       "  <tbody>\n",
       "    <tr>\n",
       "      <th>0</th>\n",
       "      <td>Lost Summoner Kitty</td>\n",
       "      <td>http://store.steampowered.com/app/761140/Lost_...</td>\n",
       "      <td>2018-01-04</td>\n",
       "      <td>[Strategy, Action, Indie, Casual, Simulation]</td>\n",
       "      <td>4.99</td>\n",
       "      <td>761140</td>\n",
       "      <td>paid</td>\n",
       "    </tr>\n",
       "    <tr>\n",
       "      <th>1</th>\n",
       "      <td>Ironbound</td>\n",
       "      <td>http://store.steampowered.com/app/643980/Ironb...</td>\n",
       "      <td>2018-01-04</td>\n",
       "      <td>[Free to Play, Strategy, Indie, RPG, Card Game...</td>\n",
       "      <td>Free To Play</td>\n",
       "      <td>643980</td>\n",
       "      <td>free</td>\n",
       "    </tr>\n",
       "    <tr>\n",
       "      <th>2</th>\n",
       "      <td>Real Pool 3D - Poolians</td>\n",
       "      <td>http://store.steampowered.com/app/670290/Real_...</td>\n",
       "      <td>2017-07-24</td>\n",
       "      <td>[Free to Play, Simulation, Sports, Casual, Ind...</td>\n",
       "      <td>Free to Play</td>\n",
       "      <td>670290</td>\n",
       "      <td>free</td>\n",
       "    </tr>\n",
       "    <tr>\n",
       "      <th>3</th>\n",
       "      <td>弹炸人2222</td>\n",
       "      <td>http://store.steampowered.com/app/767400/2222/</td>\n",
       "      <td>2017-12-07</td>\n",
       "      <td>[Action, Adventure, Casual]</td>\n",
       "      <td>0.99</td>\n",
       "      <td>767400</td>\n",
       "      <td>paid</td>\n",
       "    </tr>\n",
       "    <tr>\n",
       "      <th>4</th>\n",
       "      <td>Log Challenge</td>\n",
       "      <td>http://store.steampowered.com/app/773570/Log_C...</td>\n",
       "      <td>NaN</td>\n",
       "      <td>[Action, Indie, Casual, Sports]</td>\n",
       "      <td>2.99</td>\n",
       "      <td>773570</td>\n",
       "      <td>paid</td>\n",
       "    </tr>\n",
       "  </tbody>\n",
       "</table>\n",
       "</div>"
      ],
      "text/plain": [
       "                  app_name                                                url  \\\n",
       "0      Lost Summoner Kitty  http://store.steampowered.com/app/761140/Lost_...   \n",
       "1                Ironbound  http://store.steampowered.com/app/643980/Ironb...   \n",
       "2  Real Pool 3D - Poolians  http://store.steampowered.com/app/670290/Real_...   \n",
       "3                  弹炸人2222     http://store.steampowered.com/app/767400/2222/   \n",
       "4            Log Challenge  http://store.steampowered.com/app/773570/Log_C...   \n",
       "\n",
       "  release_date                                               tags  \\\n",
       "0   2018-01-04      [Strategy, Action, Indie, Casual, Simulation]   \n",
       "1   2018-01-04  [Free to Play, Strategy, Indie, RPG, Card Game...   \n",
       "2   2017-07-24  [Free to Play, Simulation, Sports, Casual, Ind...   \n",
       "3   2017-12-07                        [Action, Adventure, Casual]   \n",
       "4          NaN                    [Action, Indie, Casual, Sports]   \n",
       "\n",
       "          price      id category_price  \n",
       "0          4.99  761140           paid  \n",
       "1  Free To Play  643980           free  \n",
       "2  Free to Play  670290           free  \n",
       "3          0.99  767400           paid  \n",
       "4          2.99  773570           paid  "
      ]
     },
     "execution_count": 55,
     "metadata": {},
     "output_type": "execute_result"
    }
   ],
   "source": [
    "data_games['category_price'] = data_games.price.apply(\n",
    "    lambda p: 'paid' if (type(p) == float) else 'free')\n",
    "data_games.head()"
   ]
  },
  {
   "cell_type": "code",
   "execution_count": 56,
   "metadata": {
    "ExecuteTime": {
     "end_time": "2020-10-05T19:31:11.665343Z",
     "start_time": "2020-10-05T19:31:11.076307Z"
    }
   },
   "outputs": [
    {
     "data": {
      "text/plain": [
       "7164"
      ]
     },
     "execution_count": 56,
     "metadata": {},
     "output_type": "execute_result"
    }
   ],
   "source": [
    "gc.collect()"
   ]
  },
  {
   "cell_type": "markdown",
   "metadata": {},
   "source": [
    "### Exportando Datasets"
   ]
  },
  {
   "cell_type": "code",
   "execution_count": 57,
   "metadata": {
    "ExecuteTime": {
     "end_time": "2020-10-05T19:33:55.648178Z",
     "start_time": "2020-10-05T19:31:18.877745Z"
    }
   },
   "outputs": [],
   "source": [
    "data_reviews.to_csv('data_processed/data_reviews.csv', index=False)\n",
    "data_games.to_csv('data_processed/data_games.csv', index=False)"
   ]
  },
  {
   "cell_type": "markdown",
   "metadata": {},
   "source": [
    "### Consultas"
   ]
  },
  {
   "cell_type": "code",
   "execution_count": 58,
   "metadata": {
    "ExecuteTime": {
     "end_time": "2020-10-05T19:37:11.975049Z",
     "start_time": "2020-10-05T19:33:55.677101Z"
    }
   },
   "outputs": [],
   "source": [
    "data_reviews = pd.read_csv('data_processed/data_reviews.csv')\n",
    "\n",
    "#Aqui se convierte cada elemento de tag en una lista\n",
    "data_games = pd.read_csv('data_processed/data_games.csv',\n",
    "                         converters={'tags': lambda x: x[1:-1].replace(\"'\", '').split(', ')}) "
   ]
  },
  {
   "cell_type": "code",
   "execution_count": 59,
   "metadata": {
    "ExecuteTime": {
     "end_time": "2020-10-05T19:37:12.102696Z",
     "start_time": "2020-10-05T19:37:11.999971Z"
    }
   },
   "outputs": [
    {
     "data": {
      "text/plain": [
       "app_name             0\n",
       "url                  0\n",
       "release_date      2066\n",
       "tags                 0\n",
       "price             1376\n",
       "id                   0\n",
       "category_price       0\n",
       "dtype: int64"
      ]
     },
     "execution_count": 59,
     "metadata": {},
     "output_type": "execute_result"
    }
   ],
   "source": [
    "data_games.isna().sum()"
   ]
  },
  {
   "cell_type": "code",
   "execution_count": 60,
   "metadata": {
    "ExecuteTime": {
     "end_time": "2020-10-05T19:37:12.171564Z",
     "start_time": "2020-10-05T19:37:12.105689Z"
    }
   },
   "outputs": [
    {
     "data": {
      "text/html": [
       "<div>\n",
       "<style scoped>\n",
       "    .dataframe tbody tr th:only-of-type {\n",
       "        vertical-align: middle;\n",
       "    }\n",
       "\n",
       "    .dataframe tbody tr th {\n",
       "        vertical-align: top;\n",
       "    }\n",
       "\n",
       "    .dataframe thead th {\n",
       "        text-align: right;\n",
       "    }\n",
       "</style>\n",
       "<table border=\"1\" class=\"dataframe\">\n",
       "  <thead>\n",
       "    <tr style=\"text-align: right;\">\n",
       "      <th></th>\n",
       "      <th>username</th>\n",
       "      <th>hours</th>\n",
       "      <th>product_id</th>\n",
       "      <th>date</th>\n",
       "      <th>text</th>\n",
       "    </tr>\n",
       "  </thead>\n",
       "  <tbody>\n",
       "    <tr>\n",
       "      <th>0</th>\n",
       "      <td>Chaos Syren</td>\n",
       "      <td>0.1</td>\n",
       "      <td>725280</td>\n",
       "      <td>2017-12-17</td>\n",
       "      <td>This would not be acceptable as an entertainme...</td>\n",
       "    </tr>\n",
       "    <tr>\n",
       "      <th>1</th>\n",
       "      <td>₮ʜᴇ Wᴀʀᴛᴏɴ</td>\n",
       "      <td>51.1</td>\n",
       "      <td>328100</td>\n",
       "      <td>2017-12-27</td>\n",
       "      <td>looks like a facebook game</td>\n",
       "    </tr>\n",
       "    <tr>\n",
       "      <th>2</th>\n",
       "      <td>hello?&lt;</td>\n",
       "      <td>14.6</td>\n",
       "      <td>328100</td>\n",
       "      <td>2017-10-16</td>\n",
       "      <td>Better than Minecraft</td>\n",
       "    </tr>\n",
       "    <tr>\n",
       "      <th>3</th>\n",
       "      <td>Cyderine916</td>\n",
       "      <td>5.0</td>\n",
       "      <td>35140</td>\n",
       "      <td>2018-01-04</td>\n",
       "      <td>I love and idolized Batman and this game is Ma...</td>\n",
       "    </tr>\n",
       "    <tr>\n",
       "      <th>4</th>\n",
       "      <td>DarklyThinking</td>\n",
       "      <td>16.6</td>\n",
       "      <td>35140</td>\n",
       "      <td>2018-01-04</td>\n",
       "      <td>Still worth playing in 2018.\\nProbably my favo...</td>\n",
       "    </tr>\n",
       "  </tbody>\n",
       "</table>\n",
       "</div>"
      ],
      "text/plain": [
       "         username  hours  product_id        date  \\\n",
       "0     Chaos Syren    0.1      725280  2017-12-17   \n",
       "1      ₮ʜᴇ Wᴀʀᴛᴏɴ   51.1      328100  2017-12-27   \n",
       "2         hello?<   14.6      328100  2017-10-16   \n",
       "3     Cyderine916    5.0       35140  2018-01-04   \n",
       "4  DarklyThinking   16.6       35140  2018-01-04   \n",
       "\n",
       "                                                text  \n",
       "0  This would not be acceptable as an entertainme...  \n",
       "1                         looks like a facebook game  \n",
       "2                              Better than Minecraft  \n",
       "3  I love and idolized Batman and this game is Ma...  \n",
       "4  Still worth playing in 2018.\\nProbably my favo...  "
      ]
     },
     "execution_count": 60,
     "metadata": {},
     "output_type": "execute_result"
    }
   ],
   "source": [
    "data_reviews.head()"
   ]
  },
  {
   "cell_type": "code",
   "execution_count": 61,
   "metadata": {
    "ExecuteTime": {
     "end_time": "2020-10-05T19:37:12.204611Z",
     "start_time": "2020-10-05T19:37:12.173544Z"
    }
   },
   "outputs": [
    {
     "data": {
      "text/html": [
       "<div>\n",
       "<style scoped>\n",
       "    .dataframe tbody tr th:only-of-type {\n",
       "        vertical-align: middle;\n",
       "    }\n",
       "\n",
       "    .dataframe tbody tr th {\n",
       "        vertical-align: top;\n",
       "    }\n",
       "\n",
       "    .dataframe thead th {\n",
       "        text-align: right;\n",
       "    }\n",
       "</style>\n",
       "<table border=\"1\" class=\"dataframe\">\n",
       "  <thead>\n",
       "    <tr style=\"text-align: right;\">\n",
       "      <th></th>\n",
       "      <th>app_name</th>\n",
       "      <th>url</th>\n",
       "      <th>release_date</th>\n",
       "      <th>tags</th>\n",
       "      <th>price</th>\n",
       "      <th>id</th>\n",
       "      <th>category_price</th>\n",
       "    </tr>\n",
       "  </thead>\n",
       "  <tbody>\n",
       "    <tr>\n",
       "      <th>0</th>\n",
       "      <td>Lost Summoner Kitty</td>\n",
       "      <td>http://store.steampowered.com/app/761140/Lost_...</td>\n",
       "      <td>2018-01-04</td>\n",
       "      <td>[Strategy, Action, Indie, Casual, Simulation]</td>\n",
       "      <td>4.99</td>\n",
       "      <td>761140</td>\n",
       "      <td>paid</td>\n",
       "    </tr>\n",
       "    <tr>\n",
       "      <th>1</th>\n",
       "      <td>Ironbound</td>\n",
       "      <td>http://store.steampowered.com/app/643980/Ironb...</td>\n",
       "      <td>2018-01-04</td>\n",
       "      <td>[Free to Play, Strategy, Indie, RPG, Card Game...</td>\n",
       "      <td>Free To Play</td>\n",
       "      <td>643980</td>\n",
       "      <td>free</td>\n",
       "    </tr>\n",
       "    <tr>\n",
       "      <th>2</th>\n",
       "      <td>Real Pool 3D - Poolians</td>\n",
       "      <td>http://store.steampowered.com/app/670290/Real_...</td>\n",
       "      <td>2017-07-24</td>\n",
       "      <td>[Free to Play, Simulation, Sports, Casual, Ind...</td>\n",
       "      <td>Free to Play</td>\n",
       "      <td>670290</td>\n",
       "      <td>free</td>\n",
       "    </tr>\n",
       "    <tr>\n",
       "      <th>3</th>\n",
       "      <td>弹炸人2222</td>\n",
       "      <td>http://store.steampowered.com/app/767400/2222/</td>\n",
       "      <td>2017-12-07</td>\n",
       "      <td>[Action, Adventure, Casual]</td>\n",
       "      <td>0.99</td>\n",
       "      <td>767400</td>\n",
       "      <td>paid</td>\n",
       "    </tr>\n",
       "    <tr>\n",
       "      <th>4</th>\n",
       "      <td>Log Challenge</td>\n",
       "      <td>http://store.steampowered.com/app/773570/Log_C...</td>\n",
       "      <td>NaN</td>\n",
       "      <td>[Action, Indie, Casual, Sports]</td>\n",
       "      <td>2.99</td>\n",
       "      <td>773570</td>\n",
       "      <td>paid</td>\n",
       "    </tr>\n",
       "  </tbody>\n",
       "</table>\n",
       "</div>"
      ],
      "text/plain": [
       "                  app_name                                                url  \\\n",
       "0      Lost Summoner Kitty  http://store.steampowered.com/app/761140/Lost_...   \n",
       "1                Ironbound  http://store.steampowered.com/app/643980/Ironb...   \n",
       "2  Real Pool 3D - Poolians  http://store.steampowered.com/app/670290/Real_...   \n",
       "3                  弹炸人2222     http://store.steampowered.com/app/767400/2222/   \n",
       "4            Log Challenge  http://store.steampowered.com/app/773570/Log_C...   \n",
       "\n",
       "  release_date                                               tags  \\\n",
       "0   2018-01-04      [Strategy, Action, Indie, Casual, Simulation]   \n",
       "1   2018-01-04  [Free to Play, Strategy, Indie, RPG, Card Game...   \n",
       "2   2017-07-24  [Free to Play, Simulation, Sports, Casual, Ind...   \n",
       "3   2017-12-07                        [Action, Adventure, Casual]   \n",
       "4          NaN                    [Action, Indie, Casual, Sports]   \n",
       "\n",
       "          price      id category_price  \n",
       "0          4.99  761140           paid  \n",
       "1  Free To Play  643980           free  \n",
       "2  Free to Play  670290           free  \n",
       "3          0.99  767400           paid  \n",
       "4          2.99  773570           paid  "
      ]
     },
     "execution_count": 61,
     "metadata": {},
     "output_type": "execute_result"
    }
   ],
   "source": [
    "data_games.head()"
   ]
  },
  {
   "cell_type": "code",
   "execution_count": null,
   "metadata": {
    "ExecuteTime": {
     "start_time": "2020-10-05T19:31:33.022Z"
    }
   },
   "outputs": [],
   "source": [
    "data_reviews.isna().sum()"
   ]
  },
  {
   "cell_type": "markdown",
   "metadata": {},
   "source": [
    "#### Usuarios únicos"
   ]
  },
  {
   "cell_type": "code",
   "execution_count": null,
   "metadata": {
    "ExecuteTime": {
     "end_time": "2020-10-03T00:14:21.988697Z",
     "start_time": "2020-10-03T00:14:16.490964Z"
    }
   },
   "outputs": [],
   "source": [
    "print(f'{len(data_reviews.username.value_counts())} usuarios únicos')"
   ]
  },
  {
   "cell_type": "markdown",
   "metadata": {},
   "source": [
    "#### Top 10 videojuegos mas populares"
   ]
  },
  {
   "cell_type": "code",
   "execution_count": null,
   "metadata": {
    "ExecuteTime": {
     "end_time": "2020-10-03T00:14:28.744132Z",
     "start_time": "2020-10-03T00:14:28.449920Z"
    }
   },
   "outputs": [],
   "source": [
    "amount_by_productId = data_reviews.groupby('product_id').product_id.count().reset_index(name='amount')\n",
    "amount_by_productId"
   ]
  },
  {
   "cell_type": "markdown",
   "metadata": {},
   "source": [
    "Merge entre videojuegos y reviews:"
   ]
  },
  {
   "cell_type": "code",
   "execution_count": null,
   "metadata": {
    "ExecuteTime": {
     "end_time": "2020-10-03T00:14:40.788763Z",
     "start_time": "2020-10-03T00:14:40.709944Z"
    }
   },
   "outputs": [],
   "source": [
    "merge_reviews_games = pd.merge(amount_by_productId, data_games, left_on='product_id',\n",
    "                               right_on='id').sort_values(by='amount', ascending=False)"
   ]
  },
  {
   "cell_type": "code",
   "execution_count": null,
   "metadata": {
    "ExecuteTime": {
     "end_time": "2020-10-03T00:14:44.053918Z",
     "start_time": "2020-10-03T00:14:44.046936Z"
    }
   },
   "outputs": [],
   "source": [
    "top10 = merge_reviews_games.head(10)"
   ]
  },
  {
   "cell_type": "code",
   "execution_count": null,
   "metadata": {
    "ExecuteTime": {
     "end_time": "2020-10-03T00:14:44.433302Z",
     "start_time": "2020-10-03T00:14:44.403363Z"
    }
   },
   "outputs": [],
   "source": [
    "# Configuracion de fuentes\n",
    "\n",
    "fontdict_title = {'fontsize': 17, 'fontweight': 'bold'}\n",
    "fontdict_axis = {'fontsize': 14}"
   ]
  },
  {
   "cell_type": "markdown",
   "metadata": {},
   "source": [
    "Funcion configurada para graficar diagrama de barra con estilos y fuentes"
   ]
  },
  {
   "cell_type": "code",
   "execution_count": null,
   "metadata": {
    "ExecuteTime": {
     "end_time": "2020-10-03T00:14:45.202284Z",
     "start_time": "2020-10-03T00:14:45.153409Z"
    }
   },
   "outputs": [],
   "source": [
    "def barplot_games(title, df_merged, rotation=20):\n",
    "    plt.figure(figsize=(15, 5))\n",
    "    plt.title(title, fontdict=fontdict_title)\n",
    "    sns.barplot(df_merged.app_name, df_merged.amount, palette='ocean')\n",
    "    plt.xlabel('Videojuegos', fontdict=fontdict_axis)\n",
    "    plt.ylabel('Cantidad de usuarios', fontdict=fontdict_axis)\n",
    "    plt.xticks(rotation=rotation)"
   ]
  },
  {
   "cell_type": "code",
   "execution_count": null,
   "metadata": {
    "ExecuteTime": {
     "end_time": "2020-10-03T00:14:45.754156Z",
     "start_time": "2020-10-03T00:14:45.717231Z"
    }
   },
   "outputs": [],
   "source": [
    "top10"
   ]
  },
  {
   "cell_type": "code",
   "execution_count": null,
   "metadata": {
    "ExecuteTime": {
     "end_time": "2020-10-03T00:14:47.712099Z",
     "start_time": "2020-10-03T00:14:46.908202Z"
    }
   },
   "outputs": [],
   "source": [
    "barplot_games('Top 10 Mas jugados', top10)"
   ]
  },
  {
   "cell_type": "markdown",
   "metadata": {},
   "source": [
    "#### Videojuego mas popular"
   ]
  },
  {
   "cell_type": "code",
   "execution_count": null,
   "metadata": {
    "ExecuteTime": {
     "end_time": "2020-10-03T00:14:54.266940Z",
     "start_time": "2020-10-03T00:14:54.256966Z"
    }
   },
   "outputs": [],
   "source": [
    "tail10 = merge_reviews_games.tail(10)"
   ]
  },
  {
   "cell_type": "code",
   "execution_count": null,
   "metadata": {
    "ExecuteTime": {
     "end_time": "2020-10-03T00:14:55.307578Z",
     "start_time": "2020-10-03T00:14:54.815501Z"
    }
   },
   "outputs": [],
   "source": [
    "barplot_games('Videojuegos menos populares', tail10, rotation=80)"
   ]
  },
  {
   "cell_type": "markdown",
   "metadata": {
    "ExecuteTime": {
     "end_time": "2020-09-29T04:21:23.165816Z",
     "start_time": "2020-09-29T04:21:23.157836Z"
    }
   },
   "source": [
    "#### Top 10 Videojuegos de accion mas populares"
   ]
  },
  {
   "cell_type": "code",
   "execution_count": null,
   "metadata": {
    "ExecuteTime": {
     "end_time": "2020-10-03T00:15:01.108357Z",
     "start_time": "2020-10-03T00:15:01.081402Z"
    }
   },
   "outputs": [],
   "source": [
    "def games_by_tag(tag):\n",
    "    return pd.DataFrame(item for item in data_games.itertuples()\n",
    "                         if (tag in item.tags))"
   ]
  },
  {
   "cell_type": "code",
   "execution_count": null,
   "metadata": {
    "ExecuteTime": {
     "end_time": "2020-10-03T00:15:01.615306Z",
     "start_time": "2020-10-03T00:15:01.389899Z"
    }
   },
   "outputs": [],
   "source": [
    "df_items = games_by_tag('Action')\n",
    "df_items.head()"
   ]
  },
  {
   "cell_type": "code",
   "execution_count": null,
   "metadata": {
    "ExecuteTime": {
     "end_time": "2020-10-03T00:15:02.875953Z",
     "start_time": "2020-10-03T00:15:02.786170Z"
    }
   },
   "outputs": [],
   "source": [
    "merge_action_games = pd.merge(amount_by_productId, df_items, left_on='product_id',\n",
    "                              right_on='id').sort_values(by='amount', ascending=False).head(10)"
   ]
  },
  {
   "cell_type": "code",
   "execution_count": null,
   "metadata": {
    "ExecuteTime": {
     "end_time": "2020-10-03T00:15:04.673433Z",
     "start_time": "2020-10-03T00:15:04.347270Z"
    }
   },
   "outputs": [],
   "source": [
    "barplot_games('Top 10 videojuegos de accion', merge_action_games)"
   ]
  },
  {
   "cell_type": "markdown",
   "metadata": {},
   "source": [
    "#### Videojuegos RPG mas populares"
   ]
  },
  {
   "cell_type": "code",
   "execution_count": null,
   "metadata": {
    "ExecuteTime": {
     "end_time": "2020-10-03T00:15:06.986192Z",
     "start_time": "2020-10-03T00:15:06.811554Z"
    }
   },
   "outputs": [],
   "source": [
    "df_items = games_by_tag('RPG')\n",
    "merge_adventure_games = pd.merge(amount_by_productId, df_items, left_on='product_id',\n",
    "                              right_on='id').sort_values(by='amount', ascending=False).head(10)"
   ]
  },
  {
   "cell_type": "code",
   "execution_count": null,
   "metadata": {
    "ExecuteTime": {
     "end_time": "2020-10-03T00:15:07.629208Z",
     "start_time": "2020-10-03T00:15:07.331200Z"
    }
   },
   "outputs": [],
   "source": [
    "barplot_games('Top 10 videojuegos RPG', merge_adventure_games)"
   ]
  },
  {
   "cell_type": "markdown",
   "metadata": {},
   "source": [
    "#### Videojuegos de deporte mas jugados"
   ]
  },
  {
   "cell_type": "code",
   "execution_count": null,
   "metadata": {
    "ExecuteTime": {
     "end_time": "2020-10-03T00:15:12.677359Z",
     "start_time": "2020-10-03T00:15:12.584572Z"
    }
   },
   "outputs": [],
   "source": [
    "df_items = games_by_tag('Sports')\n",
    "merge_sport_games = pd.merge(amount_by_productId, df_items, left_on='product_id',\n",
    "                              right_on='id').sort_values(by='amount', ascending=False).head(10)"
   ]
  },
  {
   "cell_type": "code",
   "execution_count": null,
   "metadata": {
    "ExecuteTime": {
     "end_time": "2020-10-03T00:15:13.881169Z",
     "start_time": "2020-10-03T00:15:13.565017Z"
    }
   },
   "outputs": [],
   "source": [
    "barplot_games('Top 10 videojuegos de deporte', merge_sport_games, rotation=70)"
   ]
  },
  {
   "cell_type": "markdown",
   "metadata": {},
   "source": [
    "#### Videojuegos de pago mas jugados"
   ]
  },
  {
   "cell_type": "code",
   "execution_count": null,
   "metadata": {
    "ExecuteTime": {
     "end_time": "2020-10-03T00:15:29.687982Z",
     "start_time": "2020-10-03T00:15:29.572176Z"
    }
   },
   "outputs": [],
   "source": [
    "df_items = data_games.query('category_price==\"paid\"')\n",
    "merge_paid_games = pd.merge(amount_by_productId, df_items, left_on='product_id',\n",
    "                            right_on='id').sort_values(by='amount', ascending=False).head(10)"
   ]
  },
  {
   "cell_type": "code",
   "execution_count": null,
   "metadata": {
    "ExecuteTime": {
     "end_time": "2020-10-03T00:15:32.747562Z",
     "start_time": "2020-10-03T00:15:32.442380Z"
    }
   },
   "outputs": [],
   "source": [
    "barplot_games('Videojuegos de pago mas populares', merge_paid_games)"
   ]
  },
  {
   "cell_type": "markdown",
   "metadata": {},
   "source": [
    "#### Videojuegos gratis mas jugados"
   ]
  },
  {
   "cell_type": "code",
   "execution_count": null,
   "metadata": {
    "ExecuteTime": {
     "end_time": "2020-10-03T00:15:36.135938Z",
     "start_time": "2020-10-03T00:15:36.091060Z"
    }
   },
   "outputs": [],
   "source": [
    "df_items = data_games.query('category_price==\"free\"')\n",
    "merge_free_games = pd.merge(amount_by_productId, df_items, left_on='product_id',\n",
    "                              right_on='id').sort_values(by='amount', ascending=False).head(10)"
   ]
  },
  {
   "cell_type": "code",
   "execution_count": null,
   "metadata": {
    "ExecuteTime": {
     "end_time": "2020-10-03T00:15:36.848764Z",
     "start_time": "2020-10-03T00:15:36.544580Z"
    }
   },
   "outputs": [],
   "source": [
    "barplot_games('Videojuegos gratis mas populares', merge_free_games)"
   ]
  },
  {
   "cell_type": "markdown",
   "metadata": {},
   "source": [
    "#### Cantidad de usuarios por precio de videojuego"
   ]
  },
  {
   "cell_type": "code",
   "execution_count": null,
   "metadata": {
    "ExecuteTime": {
     "end_time": "2020-10-03T00:15:40.948982Z",
     "start_time": "2020-10-03T00:15:40.914046Z"
    }
   },
   "outputs": [],
   "source": [
    "sum_amount_categories = (merge_reviews_games.groupby('category_price').amount.sum()\n",
    "                         / merge_reviews_games.amount.sum()).to_frame(name='total_amount').reset_index()\n",
    "sum_amount_categories.sort_values(\n",
    "    by='total_amount', ascending=False, inplace=True)\n",
    "sum_amount_categories"
   ]
  },
  {
   "cell_type": "code",
   "execution_count": null,
   "metadata": {
    "ExecuteTime": {
     "end_time": "2020-10-03T00:15:41.701349Z",
     "start_time": "2020-10-03T00:15:41.503879Z"
    }
   },
   "outputs": [],
   "source": [
    "plt.figure(figsize=(7, 5))\n",
    "plt.title('% Usuarios por precio', fontdict=fontdict_title)\n",
    "sns.barplot(x='category_price', y='total_amount',\n",
    "            data=sum_amount_categories, palette='mako')\n",
    "plt.xlabel('Categoria de precios', fontdict=fontdict_axis)\n",
    "plt.ylabel('% Usuarios', fontdict=fontdict_axis)"
   ]
  },
  {
   "cell_type": "markdown",
   "metadata": {},
   "source": [
    "#### Algo con series de tiempo"
   ]
  },
  {
   "cell_type": "code",
   "execution_count": null,
   "metadata": {},
   "outputs": [],
   "source": []
  },
  {
   "cell_type": "markdown",
   "metadata": {},
   "source": [
    "#### Algo con NPL"
   ]
  },
  {
   "cell_type": "code",
   "execution_count": null,
   "metadata": {},
   "outputs": [],
   "source": []
  },
  {
   "cell_type": "markdown",
   "metadata": {},
   "source": [
    "**Liberando memoria**"
   ]
  },
  {
   "cell_type": "code",
   "execution_count": null,
   "metadata": {
    "ExecuteTime": {
     "end_time": "2020-10-03T00:21:36.372365Z",
     "start_time": "2020-10-03T00:21:36.200710Z"
    }
   },
   "outputs": [],
   "source": [
    "gc.collect()"
   ]
  },
  {
   "cell_type": "markdown",
   "metadata": {},
   "source": [
    "## Sistema de recomendacion"
   ]
  },
  {
   "cell_type": "code",
   "execution_count": null,
   "metadata": {},
   "outputs": [],
   "source": []
  }
 ],
 "metadata": {
  "colab": {
   "collapsed_sections": [],
   "name": "DS_Proyecto_03_SR.ipynb",
   "provenance": []
  },
  "kernelspec": {
   "display_name": "Python 3",
   "language": "python",
   "name": "python3"
  },
  "language_info": {
   "codemirror_mode": {
    "name": "ipython",
    "version": 3
   },
   "file_extension": ".py",
   "mimetype": "text/x-python",
   "name": "python",
   "nbconvert_exporter": "python",
   "pygments_lexer": "ipython3",
   "version": "3.7.6"
  },
  "toc": {
   "base_numbering": 1,
   "nav_menu": {},
   "number_sections": true,
   "sideBar": true,
   "skip_h1_title": false,
   "title_cell": "Table of Contents",
   "title_sidebar": "Contents",
   "toc_cell": false,
   "toc_position": {},
   "toc_section_display": true,
   "toc_window_display": true
  }
 },
 "nbformat": 4,
 "nbformat_minor": 1
}
