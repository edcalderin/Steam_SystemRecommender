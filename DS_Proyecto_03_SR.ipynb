{
 "cells": [
  {
   "cell_type": "markdown",
   "metadata": {
    "colab_type": "text",
    "id": "gzJLet17WTzh"
   },
   "source": [
    "# Proyecto 03 - Sistemas de Recomendación\n",
    "\n",
    "## Dataset: STEAM\n",
    "\n",
    "**Recuerda descargar el dataset de [aquí](https://github.com/kang205/SASRec). Son dos archivos, uno de calificaciones y otro de información sobre los juegos.**\n",
    "\n",
    "En este notebook te dejamos unas celdas para que puedas comenzar a trabajar con este dataset. Sin embargo, **deberás** modificarlas para hacer un mejor manejo de datos. Algunas cosas a las que deberás prestar atención (tal vez no a todas):\n",
    "1. Tipos de datos: elige tipos de datos apropiados para cada columna.\n",
    "2. Descartar columnas poco informativas.\n",
    "3. Guardar en memoria datasets preprocesados para no tener que repetir código que tarde en correr.\n",
    "\n",
    "### Exploración de datos\n",
    "\n",
    "Dedícale un buen tiempo a hacer un Análisis Exploratorio de Datos. Elige preguntas que creas que puedas responder con este dataset. Por ejemplo, ¿cuáles son los juegos más populares?¿Y los menos populares?\n",
    "\n",
    "### Filtro Colaborativo\n",
    "\n",
    "Deberás implementar un sistema de recomendación colaborativo para este dataset. Ten en cuenta:\n",
    "\n",
    "1. Haz todas las transformaciones de datos que consideres necesarias. Justifica.\n",
    "1. Evalúa de forma apropiada sus resultados. Justifica la métrica elegida.\n",
    "1. Elige un modelo benchmark y compara tus resultados con este modelo.\n",
    "1. Optimiza los hiperparámetros de tu modelo.\n",
    "\n",
    "Puedes implementar un filtro colaborativo a partir de la similitud coseno o índice de Jaccard. ¿Puedes utilizar los métodos de la librería Surprise? Si no es así, busca implementaciones (por ejemplo, nuevas librerías) que sean apropiadas.\n",
    "\n",
    "Para comenzar a trabajar, puedes asumir que cada entrada es un enlace entre una persona usuaria y un item, **independientemente** de si la crítica es buena o mala. \n",
    "\n",
    "### Para pensar, investigar y, opcionalmente, implementar\n",
    "1. ¿Cómo harías para ponerle un valor a la calificación?\n",
    "1. ¿Cómo harías para agregar contenido? Por ejemplo, cuentas con el género, precio, fecha de lanzamiento y más información de los juegos.\n",
    "1. ¿Hay algo que te gustaría investigar o probar?\n",
    "\n",
    "### **¡Tómate tiempo para investigar y leer mucho!**"
   ]
  },
  {
   "cell_type": "code",
   "execution_count": null,
   "metadata": {
    "ExecuteTime": {
     "end_time": "2020-11-03T01:56:15.119785Z",
     "start_time": "2020-11-03T01:56:11.509968Z"
    }
   },
   "outputs": [],
   "source": [
    "import gzip\n",
    "import pandas as pd\n",
    "import numpy as np\n",
    "import itertools\n",
    "import plotly.express as px\n",
    "import plotly.graph_objects as go\n",
    "import missingno as msno\n",
    "from time import strptime\n",
    "import datetime\n",
    "import re\n",
    "import nltk\n",
    "from nltk.stem import WordNetLemmatizer\n",
    "from wordcloud import WordCloud, ImageColorGenerator\n",
    "from PIL import Image\n",
    "from scipy.ndimage import gaussian_gradient_magnitude\n",
    "from IPython.display import display, SVG"
   ]
  },
  {
   "cell_type": "code",
   "execution_count": null,
   "metadata": {
    "ExecuteTime": {
     "end_time": "2020-10-26T21:01:44.401552Z",
     "start_time": "2020-10-26T21:01:44.396560Z"
    },
    "colab": {},
    "colab_type": "code",
    "id": "lWZhtUxEWTzj"
   },
   "outputs": [],
   "source": [
    "def parse(path):\n",
    "    g = gzip.open(path, 'r')\n",
    "    for l in g:\n",
    "        yield eval(l)"
   ]
  },
  {
   "cell_type": "markdown",
   "metadata": {
    "colab_type": "text",
    "id": "BmEM25k4WTzw"
   },
   "source": [
    "#### Reviews"
   ]
  },
  {
   "cell_type": "markdown",
   "metadata": {},
   "source": [
    "Obteniendo todos los datos:"
   ]
  },
  {
   "cell_type": "code",
   "execution_count": null,
   "metadata": {
    "ExecuteTime": {
     "end_time": "2020-10-26T21:07:21.649031Z",
     "start_time": "2020-10-26T21:01:44.404546Z"
    },
    "colab": {},
    "colab_type": "code",
    "id": "abAXItn1WTz0"
   },
   "outputs": [],
   "source": [
    "#contador = 0\n",
    "data_reviews = []\n",
    "# Vamos a guardar una de cada 10 reviews para no llenar la memoria RAM. Si pones n = 3, \n",
    "# abrira uno de cada tres, y asi.\n",
    "#n = 2\n",
    "for l in parse('steam_reviews.json.gz'):\n",
    "    #if contador%n == 0:\n",
    "    data_reviews.append(l)\n",
    "    #else:\n",
    "    #    pass\n",
    "    #contador += 1"
   ]
  },
  {
   "cell_type": "markdown",
   "metadata": {},
   "source": [
    "Recibimos las columnas necesarias para el preprocesamiento y análisis, además agiliza la conversión a DataFrame."
   ]
  },
  {
   "cell_type": "code",
   "execution_count": null,
   "metadata": {
    "ExecuteTime": {
     "end_time": "2020-10-26T21:13:31.698330Z",
     "start_time": "2020-10-26T21:07:21.667987Z"
    }
   },
   "outputs": [],
   "source": [
    "data_reviews = pd.DataFrame(data_reviews, columns=[\n",
    "                            'username', 'hours', 'product_id', 'date', 'text'])"
   ]
  },
  {
   "cell_type": "markdown",
   "metadata": {},
   "source": [
    "Conversión tipos de dato para columna \"date\":"
   ]
  },
  {
   "cell_type": "code",
   "execution_count": null,
   "metadata": {
    "ExecuteTime": {
     "end_time": "2020-10-26T21:15:28.956415Z",
     "start_time": "2020-10-26T21:13:31.727255Z"
    }
   },
   "outputs": [],
   "source": [
    "data_reviews['date'] = pd.to_datetime(data_reviews['date'])"
   ]
  },
  {
   "cell_type": "code",
   "execution_count": null,
   "metadata": {
    "ExecuteTime": {
     "end_time": "2020-10-26T21:15:29.159873Z",
     "start_time": "2020-10-26T21:15:28.977359Z"
    }
   },
   "outputs": [],
   "source": [
    "data_reviews.dtypes"
   ]
  },
  {
   "cell_type": "code",
   "execution_count": null,
   "metadata": {
    "ExecuteTime": {
     "end_time": "2020-10-26T21:15:29.355350Z",
     "start_time": "2020-10-26T21:15:29.162864Z"
    },
    "colab": {},
    "colab_type": "code",
    "id": "j24F0ZaYWT0E"
   },
   "outputs": [],
   "source": [
    "print(data_reviews.shape)\n",
    "data_reviews.head()"
   ]
  },
  {
   "cell_type": "code",
   "execution_count": null,
   "metadata": {
    "ExecuteTime": {
     "end_time": "2020-10-26T21:15:39.403339Z",
     "start_time": "2020-10-26T21:15:29.370309Z"
    },
    "colab": {},
    "colab_type": "code",
    "id": "8F-EVRZ4WT0L"
   },
   "outputs": [],
   "source": [
    "data_reviews.isna().sum()*100/len(data_reviews)"
   ]
  },
  {
   "cell_type": "markdown",
   "metadata": {
    "colab_type": "text",
    "id": "04ed3teRWT0T"
   },
   "source": [
    "#### Games"
   ]
  },
  {
   "cell_type": "code",
   "execution_count": null,
   "metadata": {
    "ExecuteTime": {
     "end_time": "2020-10-26T21:15:45.222489Z",
     "start_time": "2020-10-26T21:15:39.408327Z"
    },
    "colab": {},
    "colab_type": "code",
    "id": "8wRb24Y5WT0U"
   },
   "outputs": [],
   "source": [
    "data_games = []\n",
    "for l in parse('steam_games.json.gz'):\n",
    "    data_games.append(l)\n",
    "data_games = pd.DataFrame(data_games)"
   ]
  },
  {
   "cell_type": "code",
   "execution_count": null,
   "metadata": {
    "ExecuteTime": {
     "end_time": "2020-10-26T21:15:45.262383Z",
     "start_time": "2020-10-26T21:15:45.224485Z"
    },
    "colab": {},
    "colab_type": "code",
    "id": "sVR0Cs6SWT0b"
   },
   "outputs": [],
   "source": [
    "data_games.head(2)"
   ]
  },
  {
   "cell_type": "markdown",
   "metadata": {},
   "source": [
    "## Analisis Exploratorio "
   ]
  },
  {
   "cell_type": "markdown",
   "metadata": {},
   "source": [
    "El plan a llevar a cabo consiste en separar los videojuegos de las utilidades, complementos o elementos adicionales para que el sistema de recomendación basado en **filtro colaborativo** sea lo mas útil posible para el usuario, las utilidades son paquetes complementarios a un videojuego que ofrece Steam para brindar una mayor experiencia (Packs de personalización de personajes, sonidos de fondo, ambientación, etc) pero consideramos que no deben aparecer en la lista de recomendación porque quizás sea preferible para el usuario ver los videojuegos listos para instalar o jugar, en vez de ciertos items que requieren de un videojuego ya instalado.  \n",
    "Se decidio entonces elaborar otro mecanismo de recomendación para estas utilidades, no tan riguroso como el propuesto al inicio, pero que esté provisto con lo necesario, el algoritmo **basado en contenido** es una buena opción.\n",
    "\n",
    "Para poder realizar esta separación de registros se analizarán las categorías de los videojuegos manualmente al indagar el sitio web; una vez obtenido esto, se filtrará y exportarán los resultados en dos datasets diferentes. Lo mismo sucederá con los reviews, se incluirán en un dataset diferente aquellos reviews sobre las utilidades, además con ésto se logra reducir más la cantidad de reviews actual."
   ]
  },
  {
   "cell_type": "markdown",
   "metadata": {},
   "source": [
    "### Preprocesamiento Games"
   ]
  },
  {
   "cell_type": "code",
   "execution_count": null,
   "metadata": {
    "ExecuteTime": {
     "end_time": "2020-10-26T21:15:45.300312Z",
     "start_time": "2020-10-26T21:15:45.270362Z"
    }
   },
   "outputs": [],
   "source": [
    "data_games.head(3)"
   ]
  },
  {
   "cell_type": "markdown",
   "metadata": {},
   "source": [
    "#### Valores faltantes"
   ]
  },
  {
   "cell_type": "code",
   "execution_count": null,
   "metadata": {
    "ExecuteTime": {
     "end_time": "2020-10-26T21:15:45.359147Z",
     "start_time": "2020-10-26T21:15:45.304293Z"
    }
   },
   "outputs": [],
   "source": [
    "data_games.isna().sum()*100/len(data_games)"
   ]
  },
  {
   "cell_type": "markdown",
   "metadata": {
    "ExecuteTime": {
     "end_time": "2020-10-21T22:52:35.421999Z",
     "start_time": "2020-10-21T22:52:35.412025Z"
    }
   },
   "source": [
    "Visualización de valores faltantes:"
   ]
  },
  {
   "cell_type": "code",
   "execution_count": null,
   "metadata": {
    "ExecuteTime": {
     "end_time": "2020-10-26T21:15:46.569888Z",
     "start_time": "2020-10-26T21:15:45.363114Z"
    }
   },
   "outputs": [],
   "source": [
    "msno.matrix(data_games)"
   ]
  },
  {
   "cell_type": "code",
   "execution_count": null,
   "metadata": {
    "ExecuteTime": {
     "end_time": "2020-10-26T21:15:46.577866Z",
     "start_time": "2020-10-26T21:15:46.571886Z"
    }
   },
   "outputs": [],
   "source": [
    "data_games.shape"
   ]
  },
  {
   "cell_type": "markdown",
   "metadata": {},
   "source": [
    "Las columnas a continuación no otorgan valor para el análisis exploratorio, se incluyen algunas con valores faltantes superior al 90% del total de los datos. El resto de columnas no incluidas aqui servirán para un posterior análisis exploratorio."
   ]
  },
  {
   "cell_type": "code",
   "execution_count": null,
   "metadata": {
    "ExecuteTime": {
     "end_time": "2020-10-26T21:15:46.609814Z",
     "start_time": "2020-10-26T21:15:46.583878Z"
    }
   },
   "outputs": [],
   "source": [
    "data_games.drop(columns=['title', 'discount_price', 'reviews_url',\n",
    "                         'early_access', 'developer', 'sentiment', 'metascore'], inplace=True)"
   ]
  },
  {
   "cell_type": "code",
   "execution_count": null,
   "metadata": {
    "ExecuteTime": {
     "end_time": "2020-10-26T21:15:46.656661Z",
     "start_time": "2020-10-26T21:15:46.611776Z"
    }
   },
   "outputs": [],
   "source": [
    "data_games.isna().sum()*100/len(data_games)"
   ]
  },
  {
   "cell_type": "markdown",
   "metadata": {},
   "source": [
    "##### Videjuegos con nombre faltante:"
   ]
  },
  {
   "cell_type": "markdown",
   "metadata": {},
   "source": [
    "El nombre de la aplicación es importante a la hora de conocer que aplicación se va a recomendar"
   ]
  },
  {
   "cell_type": "code",
   "execution_count": null,
   "metadata": {
    "ExecuteTime": {
     "end_time": "2020-10-26T21:15:46.683611Z",
     "start_time": "2020-10-26T21:15:46.659678Z"
    }
   },
   "outputs": [],
   "source": [
    "data_games[data_games.app_name.isna()]"
   ]
  },
  {
   "cell_type": "markdown",
   "metadata": {},
   "source": [
    "* Al parecer hay un videojuego que no existe (indice 74), se puede verificar examinando su url la cual no está compuesta por id ni nombre del videojuego.  \n",
    "* Con el segundo registro obtenido, al acceder a su url (http://store.steampowered.com/app/317160/_/) parece ser una versión Demo gratuita, no aparece el titulo, ni imagenes adjuntas pero tiene reviews de algunos usuarios, en la imagen portada de se logra apreciar su nombre (\"Duet\").  \n",
    "Al consultar otro videojuego con este mismo nombre encontramos la versión completa de pago con los datos completos."
   ]
  },
  {
   "cell_type": "code",
   "execution_count": null,
   "metadata": {
    "ExecuteTime": {
     "end_time": "2020-10-26T21:15:46.807254Z",
     "start_time": "2020-10-26T21:15:46.684584Z"
    }
   },
   "outputs": [],
   "source": [
    "data_games.query('app_name==\"Duet\"')"
   ]
  },
  {
   "cell_type": "markdown",
   "metadata": {},
   "source": [
    "Asignando nombre de videojuego faltante:"
   ]
  },
  {
   "cell_type": "code",
   "execution_count": null,
   "metadata": {
    "ExecuteTime": {
     "end_time": "2020-10-26T21:15:46.814235Z",
     "start_time": "2020-10-26T21:15:46.809276Z"
    }
   },
   "outputs": [],
   "source": [
    "data_games.iloc[2580].app_name = 'Duet'"
   ]
  },
  {
   "cell_type": "markdown",
   "metadata": {},
   "source": [
    "Aplicando dropna() al dataset con valores faltantes por la columna **\"app_name\"**"
   ]
  },
  {
   "cell_type": "code",
   "execution_count": null,
   "metadata": {
    "ExecuteTime": {
     "end_time": "2020-10-26T21:15:46.884076Z",
     "start_time": "2020-10-26T21:15:46.817238Z"
    }
   },
   "outputs": [],
   "source": [
    "data_games.dropna(subset=['app_name'], inplace=True)\n",
    "data_games.isna().sum()"
   ]
  },
  {
   "cell_type": "markdown",
   "metadata": {},
   "source": [
    "##### Videojuegos con ID faltante"
   ]
  },
  {
   "cell_type": "markdown",
   "metadata": {},
   "source": [
    "El ID del videojuego también es un identificador importante y no se debe ignorar."
   ]
  },
  {
   "cell_type": "code",
   "execution_count": null,
   "metadata": {
    "ExecuteTime": {
     "end_time": "2020-10-26T21:15:46.906010Z",
     "start_time": "2020-10-26T21:15:46.886070Z"
    },
    "scrolled": true
   },
   "outputs": [],
   "source": [
    "data_games[data_games.id.isna()]"
   ]
  },
  {
   "cell_type": "markdown",
   "metadata": {},
   "source": [
    "Vemos que la url contiene el id faltante y en este caso se obtuvo un solo registro, con un simple _\"copy - paste\"_ de este id y conociendo el índice se podría solucionar, pero en caso de haber obtenido multiples registros la tarea sería mas tediosa si se hace manualmente. Crear una iteración sobre éstos videojuegos para completar el id es lo mas viable en este caso:"
   ]
  },
  {
   "cell_type": "markdown",
   "metadata": {},
   "source": [
    "Split basico a una url para obtener el id:"
   ]
  },
  {
   "cell_type": "code",
   "execution_count": null,
   "metadata": {
    "ExecuteTime": {
     "end_time": "2020-10-26T21:15:46.916986Z",
     "start_time": "2020-10-26T21:15:46.908007Z"
    }
   },
   "outputs": [],
   "source": [
    "'http://store.steampowered.com/app/200260'.split('app/')[1].split('/')[0]"
   ]
  },
  {
   "cell_type": "markdown",
   "metadata": {},
   "source": [
    "Aplicando la estrategia en un loop:"
   ]
  },
  {
   "cell_type": "code",
   "execution_count": null,
   "metadata": {
    "ExecuteTime": {
     "end_time": "2020-10-26T21:15:46.961872Z",
     "start_time": "2020-10-26T21:15:46.944913Z"
    }
   },
   "outputs": [],
   "source": [
    "games_id_nan = data_games[data_games.id.isna()].index\n",
    "for idx in games_id_nan:\n",
    "    url = data_games.loc[idx].url\n",
    "    id_game = url.split('app/')[1].split('/')[0]\n",
    "    data_games.loc[idx].id = id_game"
   ]
  },
  {
   "cell_type": "code",
   "execution_count": null,
   "metadata": {
    "ExecuteTime": {
     "end_time": "2020-10-26T21:15:46.980791Z",
     "start_time": "2020-10-26T21:15:46.965829Z"
    }
   },
   "outputs": [],
   "source": [
    "data_games[data_games.index==30961]"
   ]
  },
  {
   "cell_type": "code",
   "execution_count": null,
   "metadata": {
    "ExecuteTime": {
     "end_time": "2020-10-26T21:15:47.022705Z",
     "start_time": "2020-10-26T21:15:46.982785Z"
    }
   },
   "outputs": [],
   "source": [
    "data_games.isna().sum()"
   ]
  },
  {
   "cell_type": "code",
   "execution_count": null,
   "metadata": {
    "ExecuteTime": {
     "end_time": "2020-10-26T21:15:47.035675Z",
     "start_time": "2020-10-26T21:15:47.024679Z"
    }
   },
   "outputs": [],
   "source": [
    "data_games.shape"
   ]
  },
  {
   "cell_type": "markdown",
   "metadata": {},
   "source": [
    "#### Videojuegos duplicados"
   ]
  },
  {
   "cell_type": "markdown",
   "metadata": {},
   "source": [
    "Estrategia para eliminar videojuegos duplicados empezando por aquellos cuyo ID sea el mismo."
   ]
  },
  {
   "cell_type": "code",
   "execution_count": null,
   "metadata": {
    "ExecuteTime": {
     "end_time": "2020-10-26T21:15:47.089501Z",
     "start_time": "2020-10-26T21:15:47.037641Z"
    },
    "scrolled": true
   },
   "outputs": [],
   "source": [
    "data_games[data_games.duplicated(\n",
    "    subset=['id'], keep=False)].sort_values(by='publisher')"
   ]
  },
  {
   "cell_type": "code",
   "execution_count": null,
   "metadata": {
    "ExecuteTime": {
     "end_time": "2020-10-26T21:15:47.134407Z",
     "start_time": "2020-10-26T21:15:47.090499Z"
    }
   },
   "outputs": [],
   "source": [
    "data_games.drop_duplicates(subset=['id'], ignore_index=True, inplace=True)"
   ]
  },
  {
   "cell_type": "code",
   "execution_count": null,
   "metadata": {
    "ExecuteTime": {
     "end_time": "2020-10-26T21:15:47.141390Z",
     "start_time": "2020-10-26T21:15:47.135391Z"
    }
   },
   "outputs": [],
   "source": [
    "data_games.shape"
   ]
  },
  {
   "cell_type": "code",
   "execution_count": null,
   "metadata": {
    "ExecuteTime": {
     "end_time": "2020-10-26T21:15:47.184248Z",
     "start_time": "2020-10-26T21:15:47.142358Z"
    }
   },
   "outputs": [],
   "source": [
    "data_games.isna().sum()"
   ]
  },
  {
   "cell_type": "markdown",
   "metadata": {},
   "source": [
    "#### Filtrado de categorías"
   ]
  },
  {
   "cell_type": "markdown",
   "metadata": {},
   "source": [
    "Se filtrarán aquellas categorías relacionadas a Hardware, Software, vídeos, etc que se encuentran en este dataset procurando dejar únicamente videojuegos válidos para el sistema de recomendación basado en filtro colaborativo. Los registros exentos permanecerán para una recomendación más simple; creemos que aunque al usuario solo le interesen videojuegos tal vez sienta curiosidad por explorar items adicionales que la plataforma Steam ofrece."
   ]
  },
  {
   "cell_type": "markdown",
   "metadata": {},
   "source": [
    "* Filtrando géneros y tags faltantes"
   ]
  },
  {
   "cell_type": "markdown",
   "metadata": {
    "ExecuteTime": {
     "end_time": "2020-10-21T23:23:32.913898Z",
     "start_time": "2020-10-21T23:23:32.908911Z"
    }
   },
   "source": [
    "Seleccionando videojuegos con género y especificación faltante, con éste filtro removemos una gran cantidad de utilidades y los almacenanos en otro dataframe:"
   ]
  },
  {
   "cell_type": "code",
   "execution_count": null,
   "metadata": {
    "ExecuteTime": {
     "end_time": "2020-10-26T21:15:47.209212Z",
     "start_time": "2020-10-26T21:15:47.185244Z"
    }
   },
   "outputs": [],
   "source": [
    "isNan_genre_tag = data_games.genres.isna() & data_games.specs.isna()\n",
    "df_no_games = data_games[isNan_genre_tag]\n",
    "print(df_no_games.shape)"
   ]
  },
  {
   "cell_type": "code",
   "execution_count": null,
   "metadata": {
    "ExecuteTime": {
     "end_time": "2020-10-26T21:15:47.240123Z",
     "start_time": "2020-10-26T21:15:47.211174Z"
    }
   },
   "outputs": [],
   "source": [
    "df_no_games.sample(frac=.2)"
   ]
  },
  {
   "cell_type": "code",
   "execution_count": null,
   "metadata": {
    "ExecuteTime": {
     "end_time": "2020-10-26T21:15:47.270045Z",
     "start_time": "2020-10-26T21:15:47.242105Z"
    }
   },
   "outputs": [],
   "source": [
    "data_games = data_games[~isNan_genre_tag]"
   ]
  },
  {
   "cell_type": "code",
   "execution_count": null,
   "metadata": {
    "ExecuteTime": {
     "end_time": "2020-10-26T21:15:47.284000Z",
     "start_time": "2020-10-26T21:15:47.273037Z"
    }
   },
   "outputs": [],
   "source": [
    "data_games.shape"
   ]
  },
  {
   "cell_type": "code",
   "execution_count": null,
   "metadata": {
    "ExecuteTime": {
     "end_time": "2020-10-26T21:15:47.326893Z",
     "start_time": "2020-10-26T21:15:47.284978Z"
    }
   },
   "outputs": [],
   "source": [
    "data_games.isna().sum()"
   ]
  },
  {
   "cell_type": "markdown",
   "metadata": {},
   "source": [
    "* Rellenando genres, tags y specs faltantes con una lista vacia, para que las operaciones aplicadas a éstas columnas sea más fácil"
   ]
  },
  {
   "cell_type": "code",
   "execution_count": null,
   "metadata": {
    "ExecuteTime": {
     "end_time": "2020-10-26T21:15:47.639051Z",
     "start_time": "2020-10-26T21:15:47.327864Z"
    }
   },
   "outputs": [],
   "source": [
    "for col in ['genres', 'tags', 'specs']:\n",
    "    data_games[col].fillna({i: [] for i in data_games.index}, inplace=True)"
   ]
  },
  {
   "cell_type": "code",
   "execution_count": null,
   "metadata": {
    "ExecuteTime": {
     "end_time": "2020-10-26T21:15:47.674961Z",
     "start_time": "2020-10-26T21:15:47.640028Z"
    }
   },
   "outputs": [],
   "source": [
    "data_games.isna().sum()"
   ]
  },
  {
   "cell_type": "markdown",
   "metadata": {},
   "source": [
    "* Obteniendo categorias únicas para genres, tags y specs en cada registro:"
   ]
  },
  {
   "cell_type": "code",
   "execution_count": null,
   "metadata": {
    "ExecuteTime": {
     "end_time": "2020-10-26T21:15:49.221801Z",
     "start_time": "2020-10-26T21:15:47.676930Z"
    }
   },
   "outputs": [],
   "source": [
    "#Todas las categorías\n",
    "data_games['categories'] = data_games['genres'] + data_games['tags'] + data_games['specs']\n",
    "\n",
    "#Obtencion de categorías únicas\n",
    "data_games['categories'] = [np.unique(cat) for cat in data_games.categories]\n",
    "\n",
    "#Removiendo caracteres, ej: Single-player singleplayer, Multiplayer, MultiPlayer, Multi-Player\n",
    "data_games['categories'] = [[re.sub(r'[^\\w\\s]', '', subcat).lower() for subcat in cat] for cat in data_games.categories]"
   ]
  },
  {
   "cell_type": "markdown",
   "metadata": {},
   "source": [
    "* Obteniendo categorías válidas (manualmente):"
   ]
  },
  {
   "cell_type": "code",
   "execution_count": null,
   "metadata": {
    "ExecuteTime": {
     "end_time": "2020-10-26T21:15:49.622728Z",
     "start_time": "2020-10-26T21:15:49.223811Z"
    }
   },
   "outputs": [],
   "source": [
    "np.unique(list(itertools.chain(*data_games.categories)))"
   ]
  },
  {
   "cell_type": "markdown",
   "metadata": {},
   "source": [
    "* Verificando manualmente algunas de éstas categorías: En éste paso, realizamos una tediosa y necesaria labor de identificar cada una de estas categorías y aproximar su validez para un videojuego. Las categorías recoletadas se listan debajo."
   ]
  },
  {
   "cell_type": "code",
   "execution_count": null,
   "metadata": {
    "ExecuteTime": {
     "end_time": "2020-10-26T21:15:49.630707Z",
     "start_time": "2020-10-26T21:15:49.624723Z"
    }
   },
   "outputs": [],
   "source": [
    "INVALID_CATEGORIES = ['photo editing', 'game development', 'documentary', 'video production', 'tutorial', 'software',\n",
    "                      'movie', 'software training', 'soundtrack', 'utilities', 'accounting', 'downloadable content']"
   ]
  },
  {
   "cell_type": "markdown",
   "metadata": {},
   "source": [
    "La categoría \"downloadable content\", por ejemplo, está relacionada con packs de videojuegos (Verificado al acceder a la URL). Es decir, en este dataset encontramos videojuegos con sus packs respectivos y éstos últimos son elementos que no deberían estar en el sistema de recomendación objetivo.\n",
    "Para evidenciar lo dicho anteriormente, filtramos por la categoria de ejemplo y notamos a simple vista que algunos registros son complementos de un videojuego con nombre \"SNOW\" e identificador \"244930\"."
   ]
  },
  {
   "cell_type": "code",
   "execution_count": null,
   "metadata": {
    "ExecuteTime": {
     "end_time": "2020-10-26T21:15:49.645667Z",
     "start_time": "2020-10-26T21:15:49.634697Z"
    }
   },
   "outputs": [],
   "source": [
    "def getTuplesPandas(search_list):\n",
    "    return [game for game in data_games.itertuples()\n",
    "            if np.isin(search_list, game.categories).sum() > 0]"
   ]
  },
  {
   "cell_type": "code",
   "execution_count": null,
   "metadata": {
    "ExecuteTime": {
     "end_time": "2020-10-26T21:15:51.758193Z",
     "start_time": "2020-10-26T21:15:49.647662Z"
    }
   },
   "outputs": [],
   "source": [
    "pd.DataFrame(getTuplesPandas(['downloadable content'])).head(7)"
   ]
  },
  {
   "cell_type": "markdown",
   "metadata": {},
   "source": [
    "Buscando el videojuego SNOW:"
   ]
  },
  {
   "cell_type": "code",
   "execution_count": null,
   "metadata": {
    "ExecuteTime": {
     "end_time": "2020-10-26T21:15:51.811050Z",
     "start_time": "2020-10-26T21:15:51.759162Z"
    }
   },
   "outputs": [],
   "source": [
    "data_games.query('id==\"244930\"')"
   ]
  },
  {
   "cell_type": "markdown",
   "metadata": {},
   "source": [
    "Esto confirma la existencia de muchos complementos, la estrategia mencionada al inicio es separar todos los complementos, utilidades y herramientas adicionales en otro dataset para realizar un análisis con ellos."
   ]
  },
  {
   "cell_type": "markdown",
   "metadata": {},
   "source": [
    "* Sumando al dataframe aquellos ítems de esas categorías:"
   ]
  },
  {
   "cell_type": "code",
   "execution_count": null,
   "metadata": {
    "ExecuteTime": {
     "end_time": "2020-10-26T21:15:53.743966Z",
     "start_time": "2020-10-26T21:15:51.813047Z"
    }
   },
   "outputs": [],
   "source": [
    "df_no_games = df_no_games.append(getTuplesPandas(INVALID_CATEGORIES))"
   ]
  },
  {
   "cell_type": "code",
   "execution_count": null,
   "metadata": {
    "ExecuteTime": {
     "end_time": "2020-10-26T21:15:53.749932Z",
     "start_time": "2020-10-26T21:15:53.744931Z"
    }
   },
   "outputs": [],
   "source": [
    "df_no_games.shape"
   ]
  },
  {
   "cell_type": "code",
   "execution_count": null,
   "metadata": {
    "ExecuteTime": {
     "end_time": "2020-10-26T21:15:53.764883Z",
     "start_time": "2020-10-26T21:15:53.750918Z"
    }
   },
   "outputs": [],
   "source": [
    "df_no_games.columns"
   ]
  },
  {
   "cell_type": "code",
   "execution_count": null,
   "metadata": {
    "ExecuteTime": {
     "end_time": "2020-10-26T21:15:53.796819Z",
     "start_time": "2020-10-26T21:15:53.767870Z"
    }
   },
   "outputs": [],
   "source": [
    "df_no_games.drop('Index', axis=1, inplace=True)"
   ]
  },
  {
   "cell_type": "code",
   "execution_count": null,
   "metadata": {
    "ExecuteTime": {
     "end_time": "2020-10-26T21:15:53.828740Z",
     "start_time": "2020-10-26T21:15:53.797789Z"
    }
   },
   "outputs": [],
   "source": [
    "print(df_no_games.shape)\n",
    "df_no_games.head()"
   ]
  },
  {
   "cell_type": "markdown",
   "metadata": {},
   "source": [
    "* Filtrando videojuegos:"
   ]
  },
  {
   "cell_type": "code",
   "execution_count": null,
   "metadata": {
    "ExecuteTime": {
     "end_time": "2020-10-26T21:15:53.874614Z",
     "start_time": "2020-10-26T21:15:53.829718Z"
    }
   },
   "outputs": [],
   "source": [
    "data_games = data_games[~data_games.id.isin(df_no_games.id)]"
   ]
  },
  {
   "cell_type": "code",
   "execution_count": null,
   "metadata": {
    "ExecuteTime": {
     "end_time": "2020-10-26T21:15:53.889561Z",
     "start_time": "2020-10-26T21:15:53.876579Z"
    }
   },
   "outputs": [],
   "source": [
    "data_games.shape"
   ]
  },
  {
   "cell_type": "markdown",
   "metadata": {},
   "source": [
    "Eliminando columnas \"specs\" y \"tags\":"
   ]
  },
  {
   "cell_type": "code",
   "execution_count": null,
   "metadata": {
    "ExecuteTime": {
     "end_time": "2020-10-26T21:15:53.912484Z",
     "start_time": "2020-10-26T21:15:53.890543Z"
    }
   },
   "outputs": [],
   "source": [
    "data_games.drop(['specs', 'tags'], inplace=True, axis=1)"
   ]
  },
  {
   "cell_type": "markdown",
   "metadata": {
    "ExecuteTime": {
     "end_time": "2020-10-21T23:29:56.544912Z",
     "start_time": "2020-10-21T23:29:56.539886Z"
    }
   },
   "source": [
    "Ahora, rellenando con valores faltantes las listas vacías en columna \"genres\":"
   ]
  },
  {
   "cell_type": "code",
   "execution_count": null,
   "metadata": {
    "ExecuteTime": {
     "end_time": "2020-10-26T21:15:53.939440Z",
     "start_time": "2020-10-26T21:15:53.913508Z"
    }
   },
   "outputs": [],
   "source": [
    "data_games['genres'] = data_games['genres'].apply(lambda x: np.nan if len(x) == 0 else x)"
   ]
  },
  {
   "cell_type": "code",
   "execution_count": null,
   "metadata": {
    "ExecuteTime": {
     "end_time": "2020-10-26T21:15:53.974349Z",
     "start_time": "2020-10-26T21:15:53.941408Z"
    }
   },
   "outputs": [],
   "source": [
    "data_games.isna().sum()"
   ]
  },
  {
   "cell_type": "markdown",
   "metadata": {},
   "source": [
    "#### Procesamiento de precios"
   ]
  },
  {
   "cell_type": "markdown",
   "metadata": {},
   "source": [
    "La columna \"price\" esta conforma por valores numéricos y categóricos:"
   ]
  },
  {
   "cell_type": "code",
   "execution_count": null,
   "metadata": {
    "ExecuteTime": {
     "end_time": "2020-10-26T21:15:53.985320Z",
     "start_time": "2020-10-26T21:15:53.976313Z"
    }
   },
   "outputs": [],
   "source": [
    "category_prices = lambda x: np.unique(np.array([i for i in list(x) if type(i) == str]))"
   ]
  },
  {
   "cell_type": "markdown",
   "metadata": {},
   "source": [
    "* Categoría de precios"
   ]
  },
  {
   "cell_type": "code",
   "execution_count": null,
   "metadata": {
    "ExecuteTime": {
     "end_time": "2020-10-26T21:15:54.009257Z",
     "start_time": "2020-10-26T21:15:53.986285Z"
    }
   },
   "outputs": [],
   "source": [
    "category_prices(data_games.price)"
   ]
  },
  {
   "cell_type": "markdown",
   "metadata": {},
   "source": [
    "* Categoría de precios dataset de utilidades:"
   ]
  },
  {
   "cell_type": "code",
   "execution_count": null,
   "metadata": {
    "ExecuteTime": {
     "end_time": "2020-10-26T21:15:54.029170Z",
     "start_time": "2020-10-26T21:15:54.011245Z"
    }
   },
   "outputs": [],
   "source": [
    "category_prices(df_no_games.price)"
   ]
  },
  {
   "cell_type": "markdown",
   "metadata": {},
   "source": [
    "Creando nuevas categorías para la columna precio, actualmente contamos con valores numéricos y categóricos, la única categoría que se transformará a \"paid\" es \"Starting at $499.00\" del dataset de utilidades, el resto quedará como \"free\".  \n",
    "Con la siguiente función se procesarán éstas categorías y al mismo tiempo, los valores faltantes se convertirán a \"paid\" (tal vez algunos sean videojuegos gratuitos pero ésto no tiene gran impacto en el análisis)."
   ]
  },
  {
   "cell_type": "code",
   "execution_count": null,
   "metadata": {
    "ExecuteTime": {
     "end_time": "2020-10-26T21:15:54.041162Z",
     "start_time": "2020-10-26T21:15:54.031166Z"
    }
   },
   "outputs": [],
   "source": [
    "def transform_prices(df):\n",
    "    df['category_price'] = df.price.apply(\n",
    "        lambda p: 'paid' if (type(p) == float or p.startswith('Starting')) else 'free')\n",
    "    df.drop('price', axis=1, inplace=True)"
   ]
  },
  {
   "cell_type": "code",
   "execution_count": null,
   "metadata": {
    "ExecuteTime": {
     "end_time": "2020-10-26T21:15:54.096003Z",
     "start_time": "2020-10-26T21:15:54.042136Z"
    }
   },
   "outputs": [],
   "source": [
    "transform_prices(data_games)\n",
    "data_games.head()"
   ]
  },
  {
   "cell_type": "code",
   "execution_count": null,
   "metadata": {
    "ExecuteTime": {
     "end_time": "2020-10-26T21:15:54.143866Z",
     "start_time": "2020-10-26T21:15:54.098985Z"
    }
   },
   "outputs": [],
   "source": [
    "transform_prices(df_no_games)\n",
    "df_no_games.head()"
   ]
  },
  {
   "cell_type": "markdown",
   "metadata": {},
   "source": [
    "#### Procesamiento de fecha de lanzamiento"
   ]
  },
  {
   "cell_type": "markdown",
   "metadata": {},
   "source": [
    "En éste apartado, se transformarán algunas fechas del dataset de videojuegos al formato correcto, la columna release_date además de contener fechas de tipo datetime y valores faltantes, tiene valores categóricos del cual es posible convertirlos a datetime gracias a que algunos de ellos siguen el mismo patrón o comportamiento. \n",
    "Para el dataset de utilidades, no será necesario éste tipo de tratamiento."
   ]
  },
  {
   "cell_type": "code",
   "execution_count": null,
   "metadata": {
    "ExecuteTime": {
     "end_time": "2020-10-26T21:15:54.183758Z",
     "start_time": "2020-10-26T21:15:54.144863Z"
    }
   },
   "outputs": [],
   "source": [
    "data_games.release_date.value_counts()"
   ]
  },
  {
   "cell_type": "markdown",
   "metadata": {},
   "source": [
    "La siguiente función servirá para obtener aquellos valores que no corresponden a fechas válidas para poder examinar los valores categóricos:"
   ]
  },
  {
   "cell_type": "code",
   "execution_count": null,
   "metadata": {
    "ExecuteTime": {
     "end_time": "2020-10-26T21:15:54.190767Z",
     "start_time": "2020-10-26T21:15:54.185752Z"
    }
   },
   "outputs": [],
   "source": [
    "def isDateValid(x): \n",
    "    try:\n",
    "        return datetime.datetime.strptime(x, '%Y-%m-%d')        \n",
    "    except:\n",
    "        return False"
   ]
  },
  {
   "cell_type": "code",
   "execution_count": null,
   "metadata": {
    "ExecuteTime": {
     "end_time": "2020-10-26T21:15:54.460059Z",
     "start_time": "2020-10-26T21:15:54.192734Z"
    }
   },
   "outputs": [],
   "source": [
    "invalid_date_games = data_games.query('release_date.notna()', engine='python')\n",
    "invalid_date_games = pd.DataFrame([i for i in invalid_date_games.itertuples() \n",
    "                                   if not isDateValid(i.release_date)])\n",
    "invalid_date_games.release_date"
   ]
  },
  {
   "cell_type": "markdown",
   "metadata": {},
   "source": [
    "De las categorías mostradas, las que tienen el nombre del mes (completo o abreviado) y año es posible convertirlas. El nombre de la temporada y el año presentan el mismo caso. **Ejemplos: Nov 2020, November 2020, Winter 2020, Summer 2020...**"
   ]
  },
  {
   "cell_type": "markdown",
   "metadata": {
    "ExecuteTime": {
     "end_time": "2020-10-13T14:46:45.071432Z",
     "start_time": "2020-10-13T14:46:45.065457Z"
    }
   },
   "source": [
    "* Para empezar, la función a continuación retorna el número del mes basado en el nombre, gracias a una de las librerías incluidas en Python."
   ]
  },
  {
   "cell_type": "code",
   "execution_count": null,
   "metadata": {
    "ExecuteTime": {
     "end_time": "2020-10-26T21:15:54.466032Z",
     "start_time": "2020-10-26T21:15:54.462026Z"
    }
   },
   "outputs": [],
   "source": [
    "def get_month(month):\n",
    "    if len(month) > 3:\n",
    "        return strptime(month, '%B').tm_mon\n",
    "    else:\n",
    "        return strptime(month, '%b').tm_mon"
   ]
  },
  {
   "cell_type": "code",
   "execution_count": null,
   "metadata": {
    "ExecuteTime": {
     "end_time": "2020-10-26T21:15:54.651683Z",
     "start_time": "2020-10-26T21:15:54.468000Z"
    }
   },
   "outputs": [],
   "source": [
    "print('Noviembre:', get_month('Nov'))\n",
    "print('Noviembre:', get_month('November'))\n",
    "print('Abril:', get_month('Apr'))\n",
    "print('Abril:', get_month('April'))"
   ]
  },
  {
   "cell_type": "markdown",
   "metadata": {
    "ExecuteTime": {
     "end_time": "2020-10-13T14:52:00.994199Z",
     "start_time": "2020-10-13T14:52:00.990219Z"
    }
   },
   "source": [
    "Las temporadas se definirarán según el país, en éste caso es Estados Unidos. El diccionario contiene el nombre de la temporada y el mes en que inicia:"
   ]
  },
  {
   "cell_type": "code",
   "execution_count": null,
   "metadata": {
    "ExecuteTime": {
     "end_time": "2020-10-26T21:15:54.762754Z",
     "start_time": "2020-10-26T21:15:54.657653Z"
    }
   },
   "outputs": [],
   "source": [
    "SEASONS = {'Winter': 12, 'Summer': 7, 'Fall': 10, 'Spring': 4}"
   ]
  },
  {
   "cell_type": "markdown",
   "metadata": {},
   "source": [
    "* Ésta función obtiene una fecha como variable categórica y la transforma a datetime, si no corresponde al patron detectado la convierte a valor faltante. El resto de fechas no están definidas por un comportamiento, por lo tanto no es posible transformarlas una por una, y son mas de 100 categorías."
   ]
  },
  {
   "cell_type": "code",
   "execution_count": null,
   "metadata": {
    "ExecuteTime": {
     "end_time": "2020-10-26T21:15:54.859816Z",
     "start_time": "2020-10-26T21:15:54.764731Z"
    }
   },
   "outputs": [],
   "source": [
    "def get_date(date_sring):\n",
    "    try:\n",
    "        sep = date_sring.split()\n",
    "        # Primero verifica si es una temporada\n",
    "        if sep[0] in SEASONS.keys():\n",
    "            return datetime.datetime(year=int(sep[1]), month=SEASONS.get(sep[0]), day=1).date()\n",
    "\n",
    "        # Sino, utiliza la función anterior para obtener el número del mes a partir del nombre.\n",
    "        return datetime.datetime(year=int(sep[1]), month=get_month(sep[0]), day=1).date()\n",
    "    except:\n",
    "        # Retorna valor faltante si no se cumplen los dos casos, no es posible hacer más magia!!\n",
    "        return np.nan"
   ]
  },
  {
   "cell_type": "markdown",
   "metadata": {},
   "source": [
    "Ejemplo:"
   ]
  },
  {
   "cell_type": "code",
   "execution_count": null,
   "metadata": {
    "ExecuteTime": {
     "end_time": "2020-10-26T21:15:54.971662Z",
     "start_time": "2020-10-26T21:15:54.881729Z"
    }
   },
   "outputs": [],
   "source": [
    "example_date = 'Nov 2020'\n",
    "print('Noviembre', get_date(example_date))\n",
    "\n",
    "example_date = 'November 2020'\n",
    "print('Noviembre', get_date(example_date))\n",
    "\n",
    "example_date = 'Summer 2020'\n",
    "print('Verano', get_date(example_date))\n",
    "\n",
    "example_date = 'Winter 2020'\n",
    "print('Winter', get_date(example_date))"
   ]
  },
  {
   "cell_type": "markdown",
   "metadata": {},
   "source": [
    "* Transformando fechas categóricas:"
   ]
  },
  {
   "cell_type": "code",
   "execution_count": null,
   "metadata": {
    "ExecuteTime": {
     "end_time": "2020-10-26T21:15:55.233232Z",
     "start_time": "2020-10-26T21:15:55.222263Z"
    }
   },
   "outputs": [],
   "source": [
    "invalid_date_games.release_date = invalid_date_games.release_date.apply(lambda x: f'{get_date(x)}')\n",
    "invalid_date_games.release_date"
   ]
  },
  {
   "cell_type": "markdown",
   "metadata": {},
   "source": [
    "* Aplicando cambios sobre el dataframe original"
   ]
  },
  {
   "cell_type": "code",
   "execution_count": null,
   "metadata": {
    "ExecuteTime": {
     "end_time": "2020-10-26T21:15:55.317982Z",
     "start_time": "2020-10-26T21:15:55.236200Z"
    }
   },
   "outputs": [],
   "source": [
    "invalid_idx = invalid_date_games.Index.values\n",
    "data_games.loc[invalid_idx,\n",
    "               'release_date'] = invalid_date_games.release_date.values"
   ]
  },
  {
   "cell_type": "markdown",
   "metadata": {},
   "source": [
    "* Verificando los cambios en los índices donde previamente existían éstas categorías:"
   ]
  },
  {
   "cell_type": "code",
   "execution_count": null,
   "metadata": {
    "ExecuteTime": {
     "end_time": "2020-10-26T21:15:55.343918Z",
     "start_time": "2020-10-26T21:15:55.319977Z"
    }
   },
   "outputs": [],
   "source": [
    "data_games.loc[invalid_idx].head()"
   ]
  },
  {
   "cell_type": "markdown",
   "metadata": {},
   "source": [
    "Se ha completado el procedimiento de transformación de fecha de lanzamiento, con ésto es posible realizar un análisis exploratorio que conlleve Series de tiempo."
   ]
  },
  {
   "cell_type": "code",
   "execution_count": null,
   "metadata": {
    "ExecuteTime": {
     "end_time": "2020-10-26T21:15:55.355881Z",
     "start_time": "2020-10-26T21:15:55.345907Z"
    }
   },
   "outputs": [],
   "source": [
    "del invalid_date_games"
   ]
  },
  {
   "cell_type": "code",
   "execution_count": null,
   "metadata": {
    "ExecuteTime": {
     "end_time": "2020-10-26T21:15:55.368855Z",
     "start_time": "2020-10-26T21:15:55.357875Z"
    }
   },
   "outputs": [],
   "source": [
    "data_games.shape"
   ]
  },
  {
   "cell_type": "markdown",
   "metadata": {},
   "source": [
    "Finalmente, los valores faltantes resultantes:"
   ]
  },
  {
   "cell_type": "code",
   "execution_count": null,
   "metadata": {
    "ExecuteTime": {
     "end_time": "2020-10-26T21:15:55.401786Z",
     "start_time": "2020-10-26T21:15:55.371857Z"
    }
   },
   "outputs": [],
   "source": [
    "data_games.isna().sum()"
   ]
  },
  {
   "cell_type": "code",
   "execution_count": null,
   "metadata": {
    "ExecuteTime": {
     "end_time": "2020-10-26T21:15:55.927352Z",
     "start_time": "2020-10-26T21:15:55.403753Z"
    }
   },
   "outputs": [],
   "source": [
    "msno.matrix(data_games)"
   ]
  },
  {
   "cell_type": "markdown",
   "metadata": {},
   "source": [
    "### Preprocesamiento Reviews"
   ]
  },
  {
   "cell_type": "code",
   "execution_count": null,
   "metadata": {
    "ExecuteTime": {
     "end_time": "2020-10-26T21:15:55.945336Z",
     "start_time": "2020-10-26T21:15:55.929349Z"
    }
   },
   "outputs": [],
   "source": [
    "data_reviews.head()"
   ]
  },
  {
   "cell_type": "code",
   "execution_count": null,
   "metadata": {
    "ExecuteTime": {
     "end_time": "2020-10-26T21:15:55.959286Z",
     "start_time": "2020-10-26T21:15:55.948295Z"
    }
   },
   "outputs": [],
   "source": [
    "data_reviews.shape"
   ]
  },
  {
   "cell_type": "markdown",
   "metadata": {},
   "source": [
    "#### Reviews duplicados (Todos los campos)"
   ]
  },
  {
   "cell_type": "markdown",
   "metadata": {},
   "source": [
    "Se analiza si existen registros duplicados en el dataset:"
   ]
  },
  {
   "cell_type": "code",
   "execution_count": null,
   "metadata": {
    "ExecuteTime": {
     "end_time": "2020-10-26T21:17:10.074214Z",
     "start_time": "2020-10-26T21:15:55.960265Z"
    }
   },
   "outputs": [],
   "source": [
    "duplicated = data_reviews[data_reviews.duplicated()]\n",
    "duplicated.shape"
   ]
  },
  {
   "cell_type": "markdown",
   "metadata": {},
   "source": [
    "Se confirma la existencia registros duplicados, ahora se detalla un usuario aleatorio de éstos registros:"
   ]
  },
  {
   "cell_type": "code",
   "execution_count": null,
   "metadata": {
    "ExecuteTime": {
     "end_time": "2020-10-26T21:17:10.239938Z",
     "start_time": "2020-10-26T21:17:10.088184Z"
    }
   },
   "outputs": [],
   "source": [
    "duplicated.head()"
   ]
  },
  {
   "cell_type": "markdown",
   "metadata": {},
   "source": [
    "Para probar, se selecciona el usuario **\"feel it break\"**"
   ]
  },
  {
   "cell_type": "code",
   "execution_count": null,
   "metadata": {
    "ExecuteTime": {
     "end_time": "2020-10-26T21:17:13.139978Z",
     "start_time": "2020-10-26T21:17:10.243929Z"
    }
   },
   "outputs": [],
   "source": [
    "data_reviews[data_reviews.username == 'feel it break']"
   ]
  },
  {
   "cell_type": "markdown",
   "metadata": {},
   "source": [
    "En los 2 primeros registros de esta búsqueda se evidencia error de los datos, misma cantidad de horas, id de videojuego y fecha. Por lo tanto es razonable eliminar éstos registros."
   ]
  },
  {
   "cell_type": "code",
   "execution_count": null,
   "metadata": {
    "ExecuteTime": {
     "end_time": "2020-10-26T21:18:08.086952Z",
     "start_time": "2020-10-26T21:17:13.144967Z"
    }
   },
   "outputs": [],
   "source": [
    "data_reviews.drop_duplicates(inplace=True, ignore_index=True)"
   ]
  },
  {
   "cell_type": "code",
   "execution_count": null,
   "metadata": {
    "ExecuteTime": {
     "end_time": "2020-10-26T21:18:08.186831Z",
     "start_time": "2020-10-26T21:18:08.118867Z"
    }
   },
   "outputs": [],
   "source": [
    "data_reviews.shape"
   ]
  },
  {
   "cell_type": "code",
   "execution_count": null,
   "metadata": {
    "ExecuteTime": {
     "end_time": "2020-10-26T21:18:10.975135Z",
     "start_time": "2020-10-26T21:18:08.281767Z"
    }
   },
   "outputs": [],
   "source": [
    "data_reviews.isna().sum()"
   ]
  },
  {
   "cell_type": "markdown",
   "metadata": {},
   "source": [
    "#### Reviews duplicados (Username y product_id)"
   ]
  },
  {
   "cell_type": "markdown",
   "metadata": {},
   "source": [
    "Habiendo eliminado registros duplicados, nos queda realizar un tratamiento especial a aquellos usuarios que han comentado un videojuego más de una vez, la acción a ejecutar consiste en dejar el ultimo review de un usuario a un videojuego mediante la fecha."
   ]
  },
  {
   "cell_type": "markdown",
   "metadata": {},
   "source": [
    "Usuarios con más de un review a un videojuego:"
   ]
  },
  {
   "cell_type": "code",
   "execution_count": null,
   "metadata": {
    "ExecuteTime": {
     "end_time": "2020-10-26T21:18:17.549554Z",
     "start_time": "2020-10-26T21:18:10.986166Z"
    }
   },
   "outputs": [],
   "source": [
    "repeated_reviews = data_reviews[data_reviews.duplicated(\n",
    "    subset=['username', 'product_id'], keep=False)].sort_values(by='username')"
   ]
  },
  {
   "cell_type": "code",
   "execution_count": null,
   "metadata": {
    "ExecuteTime": {
     "end_time": "2020-10-26T21:18:17.587465Z",
     "start_time": "2020-10-26T21:18:17.553542Z"
    }
   },
   "outputs": [],
   "source": [
    "print('Reviews del mismo usuario al mismo videojuego:', repeated_reviews.shape[0])"
   ]
  },
  {
   "cell_type": "code",
   "execution_count": null,
   "metadata": {
    "ExecuteTime": {
     "end_time": "2020-10-26T21:18:17.727226Z",
     "start_time": "2020-10-26T21:18:17.600417Z"
    }
   },
   "outputs": [],
   "source": [
    "repeated_reviews.head()"
   ]
  },
  {
   "cell_type": "markdown",
   "metadata": {},
   "source": [
    "El usuario \"!?\" ha hecho dos comentarios al mismo videojuego (206210), el resultado entonces sería el último comentario realizado."
   ]
  },
  {
   "cell_type": "markdown",
   "metadata": {},
   "source": [
    "#### Últimos reviews por fecha"
   ]
  },
  {
   "cell_type": "code",
   "execution_count": null,
   "metadata": {
    "ExecuteTime": {
     "end_time": "2020-10-26T21:18:31.328518Z",
     "start_time": "2020-10-26T21:18:17.732213Z"
    }
   },
   "outputs": [],
   "source": [
    "# Para traer todas las columnas. Tarda mas!!\n",
    "unrepeated_reviews = data_reviews.sort_values(\n",
    "    by='date', ascending=False).drop_duplicates(subset=['username', 'product_id'])\n",
    "\n",
    "# unrepeated_reviews = data_reviews.groupby(\n",
    "#    ['username', 'product_id'], as_index=False).date.max()"
   ]
  },
  {
   "cell_type": "markdown",
   "metadata": {},
   "source": [
    "Verificando:"
   ]
  },
  {
   "cell_type": "code",
   "execution_count": null,
   "metadata": {
    "ExecuteTime": {
     "end_time": "2020-10-26T21:18:32.299967Z",
     "start_time": "2020-10-26T21:18:31.345438Z"
    }
   },
   "outputs": [],
   "source": [
    "unrepeated_reviews.query('username==\"!?\" & product_id==\"206210\"')"
   ]
  },
  {
   "cell_type": "code",
   "execution_count": null,
   "metadata": {
    "ExecuteTime": {
     "end_time": "2020-10-26T21:18:33.857817Z",
     "start_time": "2020-10-26T21:18:32.301955Z"
    }
   },
   "outputs": [],
   "source": [
    "data_reviews = unrepeated_reviews.copy()\n",
    "\n",
    "#Liberando espacio en memoria\n",
    "del repeated_reviews\n",
    "del unrepeated_reviews"
   ]
  },
  {
   "cell_type": "code",
   "execution_count": null,
   "metadata": {
    "ExecuteTime": {
     "end_time": "2020-10-26T21:18:36.253444Z",
     "start_time": "2020-10-26T21:18:33.859785Z"
    }
   },
   "outputs": [],
   "source": [
    "data_reviews.isna().sum()"
   ]
  },
  {
   "cell_type": "code",
   "execution_count": null,
   "metadata": {
    "ExecuteTime": {
     "end_time": "2020-10-26T21:18:36.262431Z",
     "start_time": "2020-10-26T21:18:36.256447Z"
    }
   },
   "outputs": [],
   "source": [
    "data_reviews.shape"
   ]
  },
  {
   "cell_type": "markdown",
   "metadata": {},
   "source": [
    "#### Tratamiento Horas faltantes"
   ]
  },
  {
   "cell_type": "markdown",
   "metadata": {},
   "source": [
    "Vemos que las horas faltantes son muy pocas, con solo calcular el promedio de las horas por cada usuario sería suficiente."
   ]
  },
  {
   "cell_type": "code",
   "execution_count": null,
   "metadata": {
    "ExecuteTime": {
     "end_time": "2020-10-26T21:18:51.062030Z",
     "start_time": "2020-10-26T21:18:36.267381Z"
    }
   },
   "outputs": [],
   "source": [
    "data_reviews.hours.fillna(data_reviews.groupby('username').hours.transform('mean'), inplace=True)"
   ]
  },
  {
   "cell_type": "code",
   "execution_count": null,
   "metadata": {
    "ExecuteTime": {
     "end_time": "2020-10-26T21:18:53.556377Z",
     "start_time": "2020-10-26T21:18:51.074024Z"
    }
   },
   "outputs": [],
   "source": [
    "data_reviews.isna().sum()"
   ]
  },
  {
   "cell_type": "markdown",
   "metadata": {
    "ExecuteTime": {
     "end_time": "2020-10-22T00:02:19.632618Z",
     "start_time": "2020-10-22T00:02:19.581755Z"
    }
   },
   "source": [
    "Aún existen horas faltantes, verémos que ocurre:"
   ]
  },
  {
   "cell_type": "code",
   "execution_count": null,
   "metadata": {
    "ExecuteTime": {
     "end_time": "2020-10-26T21:18:53.608264Z",
     "start_time": "2020-10-26T21:18:53.559357Z"
    }
   },
   "outputs": [],
   "source": [
    "data_reviews[data_reviews.hours.isna()]"
   ]
  },
  {
   "cell_type": "markdown",
   "metadata": {},
   "source": [
    "Explorando algunos usuarios de ésta búsqueda:"
   ]
  },
  {
   "cell_type": "code",
   "execution_count": null,
   "metadata": {
    "ExecuteTime": {
     "end_time": "2020-10-26T21:18:54.808039Z",
     "start_time": "2020-10-26T21:18:53.612217Z"
    }
   },
   "outputs": [],
   "source": [
    "USERNAMES = ['catsquad3', 'cardenas1149', 'MarbleMania']\n",
    "data_reviews.query('username in @USERNAMES')"
   ]
  },
  {
   "cell_type": "markdown",
   "metadata": {},
   "source": [
    "Aquí se demuestra que éstos usuarios solo han hecho review a un solo videojuego y no registran horas de juego. Por lo tanto, la única alternativa faltante es rellenarlos con el promedio de horas del id del videojuego en el que estuvieron interesados:"
   ]
  },
  {
   "cell_type": "code",
   "execution_count": null,
   "metadata": {
    "ExecuteTime": {
     "end_time": "2020-10-26T21:18:55.671748Z",
     "start_time": "2020-10-26T21:18:54.811015Z"
    }
   },
   "outputs": [],
   "source": [
    "data_reviews.hours.fillna(data_reviews.groupby('product_id').hours.transform('mean'), inplace=True)"
   ]
  },
  {
   "cell_type": "code",
   "execution_count": null,
   "metadata": {
    "ExecuteTime": {
     "end_time": "2020-10-26T21:18:58.131163Z",
     "start_time": "2020-10-26T21:18:55.673706Z"
    }
   },
   "outputs": [],
   "source": [
    "data_reviews.isna().sum()"
   ]
  },
  {
   "cell_type": "code",
   "execution_count": null,
   "metadata": {
    "ExecuteTime": {
     "end_time": "2020-10-26T21:18:58.172056Z",
     "start_time": "2020-10-26T21:18:58.134131Z"
    }
   },
   "outputs": [],
   "source": [
    "data_reviews[data_reviews.hours.isna()]"
   ]
  },
  {
   "cell_type": "markdown",
   "metadata": {},
   "source": [
    "Videojuegos que solo tienen un review con horas faltantes. Rellenando con el promedio total de horas:"
   ]
  },
  {
   "cell_type": "code",
   "execution_count": null,
   "metadata": {
    "ExecuteTime": {
     "end_time": "2020-10-26T21:18:58.262819Z",
     "start_time": "2020-10-26T21:18:58.174025Z"
    }
   },
   "outputs": [],
   "source": [
    "data_reviews.hours.fillna(data_reviews.hours.mean(), inplace=True)"
   ]
  },
  {
   "cell_type": "code",
   "execution_count": null,
   "metadata": {
    "ExecuteTime": {
     "end_time": "2020-10-26T21:19:00.780091Z",
     "start_time": "2020-10-26T21:18:58.264808Z"
    }
   },
   "outputs": [],
   "source": [
    "data_reviews.isna().sum()"
   ]
  },
  {
   "cell_type": "code",
   "execution_count": null,
   "metadata": {
    "ExecuteTime": {
     "end_time": "2020-10-26T21:19:00.788070Z",
     "start_time": "2020-10-26T21:19:00.783052Z"
    }
   },
   "outputs": [],
   "source": [
    "data_reviews.shape"
   ]
  },
  {
   "cell_type": "markdown",
   "metadata": {},
   "source": [
    "#### Separando reviews"
   ]
  },
  {
   "cell_type": "markdown",
   "metadata": {},
   "source": [
    "Se separarán en datasets diferentes los reviews de videojuegos y utilidades como se ha mencionado en apartados anteriores:"
   ]
  },
  {
   "cell_type": "code",
   "execution_count": null,
   "metadata": {
    "ExecuteTime": {
     "end_time": "2020-10-26T21:19:02.837559Z",
     "start_time": "2020-10-26T21:19:00.790032Z"
    }
   },
   "outputs": [],
   "source": [
    "# Filtrando reviews de videojuegos\n",
    "data_reviews_game = data_reviews.query('product_id not in @df_no_games.id')\n",
    "\n",
    "# Filtrando reviews de utilidades (Para exportar)\n",
    "data_reviews_utilites = data_reviews.query('product_id not in @data_games.id')"
   ]
  },
  {
   "cell_type": "code",
   "execution_count": null,
   "metadata": {
    "ExecuteTime": {
     "end_time": "2020-10-26T21:19:09.747128Z",
     "start_time": "2020-10-26T21:19:02.840552Z"
    }
   },
   "outputs": [],
   "source": [
    "# Dataset listo para exportar\n",
    "data_reviews = data_reviews_game.copy()\n",
    "\n",
    "del data_reviews_game"
   ]
  },
  {
   "cell_type": "code",
   "execution_count": null,
   "metadata": {
    "ExecuteTime": {
     "end_time": "2020-10-26T21:19:09.771030Z",
     "start_time": "2020-10-26T21:19:09.757070Z"
    }
   },
   "outputs": [],
   "source": [
    "print('Reviews games:', data_reviews.shape,\n",
    "      '- Reviews Utilites:', data_reviews_utilites.shape)"
   ]
  },
  {
   "cell_type": "markdown",
   "metadata": {},
   "source": [
    "### Exportando Datasets"
   ]
  },
  {
   "cell_type": "markdown",
   "metadata": {},
   "source": [
    "* Dataset de videojuegos:"
   ]
  },
  {
   "cell_type": "code",
   "execution_count": null,
   "metadata": {
    "ExecuteTime": {
     "end_time": "2020-10-26T21:22:41.378151Z",
     "start_time": "2020-10-26T21:19:55.786608Z"
    }
   },
   "outputs": [],
   "source": [
    "directory = 'data_processed_games'\n",
    "data_reviews.to_csv(f'{directory}/data_reviews_games.csv', index=False)\n",
    "data_games.to_csv(f'{directory}/data_games.csv', index=False)"
   ]
  },
  {
   "cell_type": "markdown",
   "metadata": {},
   "source": [
    "* Dataset de utilidades:"
   ]
  },
  {
   "cell_type": "code",
   "execution_count": null,
   "metadata": {
    "ExecuteTime": {
     "end_time": "2020-10-26T21:22:50.891729Z",
     "start_time": "2020-10-26T21:22:48.674538Z"
    }
   },
   "outputs": [],
   "source": [
    "directory = 'data_processed_utilities'\n",
    "data_reviews_utilites.to_csv(f'{directory}/data_reviews_utilites.csv', index=False)\n",
    "df_no_games.to_csv(f'{directory}/data_utilities.csv', index=False)"
   ]
  },
  {
   "cell_type": "markdown",
   "metadata": {},
   "source": [
    "### Lectura"
   ]
  },
  {
   "cell_type": "markdown",
   "metadata": {},
   "source": [
    "#### Videojuegos procesados:"
   ]
  },
  {
   "cell_type": "markdown",
   "metadata": {},
   "source": [
    "* Reviews: Se obliga a que la columna username sea tipo string porque existen usuarios cuyo nombre es \"null\" o \"N/A\", y Pandas los convierte a NaN. Ejemplo de usuario \"null\": https://steamcommunity.com/profiles/76561198170981531/"
   ]
  },
  {
   "cell_type": "code",
   "execution_count": null,
   "metadata": {
    "ExecuteTime": {
     "end_time": "2020-11-03T01:56:39.403299Z",
     "start_time": "2020-11-03T01:56:19.323180Z"
    }
   },
   "outputs": [],
   "source": [
    "directory = 'data_processed_games'\n",
    "data_reviews = pd.read_csv(\n",
    "    f'{directory}/data_reviews_games.csv', converters={'username': str, 'text': str})\n",
    "data_reviews.date = pd.to_datetime(data_reviews.date)"
   ]
  },
  {
   "cell_type": "markdown",
   "metadata": {},
   "source": [
    "* Videojuegos: Al exportar a CSV se pierde el formato de algunos datos, los géneros, tags y specs estaban compuestos por listas, en la sección de Preprocesamiento. En la lectura del archivo, aparecen como String, la siguiente función remueve las comillas simples y los corchetes en los extremos:"
   ]
  },
  {
   "cell_type": "code",
   "execution_count": null,
   "metadata": {
    "ExecuteTime": {
     "end_time": "2020-11-03T01:56:39.409252Z",
     "start_time": "2020-11-03T01:56:39.405264Z"
    }
   },
   "outputs": [],
   "source": [
    "def toList(x):\n",
    "    return x[1:-1].replace(\"'\", '').split(', ') if (x is not np.nan) else nan"
   ]
  },
  {
   "cell_type": "markdown",
   "metadata": {
    "ExecuteTime": {
     "end_time": "2020-10-22T20:30:28.619305Z",
     "start_time": "2020-10-22T20:30:28.605374Z"
    }
   },
   "source": [
    "Aquí se convierte cada elemento de tag en una lista:"
   ]
  },
  {
   "cell_type": "code",
   "execution_count": null,
   "metadata": {
    "ExecuteTime": {
     "end_time": "2020-11-03T01:56:39.604761Z",
     "start_time": "2020-11-03T01:56:39.412247Z"
    }
   },
   "outputs": [],
   "source": [
    "data_games = pd.read_csv(f'{directory}/data_games.csv',\n",
    "                         converters={\n",
    "                             'genres': lambda x: toList(x),\n",
    "                             'tags': lambda x: toList(x),\n",
    "                             'specs': lambda x: toList(x),\n",
    "                             'categories': lambda x: toList(x)\n",
    "                         })\n",
    "data_games.release_date = pd.to_datetime(data_games.release_date)"
   ]
  },
  {
   "cell_type": "code",
   "execution_count": null,
   "metadata": {
    "ExecuteTime": {
     "end_time": "2020-11-02T22:45:57.999394Z",
     "start_time": "2020-11-02T22:45:57.985431Z"
    }
   },
   "outputs": [],
   "source": [
    "data_reviews.dtypes"
   ]
  },
  {
   "cell_type": "code",
   "execution_count": null,
   "metadata": {
    "ExecuteTime": {
     "end_time": "2020-10-29T16:56:47.414717Z",
     "start_time": "2020-10-29T16:56:47.407725Z"
    }
   },
   "outputs": [],
   "source": [
    "data_games.dtypes"
   ]
  },
  {
   "cell_type": "code",
   "execution_count": null,
   "metadata": {
    "ExecuteTime": {
     "end_time": "2020-10-29T16:56:47.461610Z",
     "start_time": "2020-10-29T16:56:47.416702Z"
    }
   },
   "outputs": [],
   "source": [
    "data_games.head()"
   ]
  },
  {
   "cell_type": "code",
   "execution_count": null,
   "metadata": {
    "ExecuteTime": {
     "end_time": "2020-10-29T16:56:47.477539Z",
     "start_time": "2020-10-29T16:56:47.463578Z"
    }
   },
   "outputs": [],
   "source": [
    "data_reviews.head()"
   ]
  },
  {
   "cell_type": "code",
   "execution_count": null,
   "metadata": {
    "ExecuteTime": {
     "end_time": "2020-10-29T16:56:48.367096Z",
     "start_time": "2020-10-29T16:56:47.480542Z"
    }
   },
   "outputs": [],
   "source": [
    "data_reviews.isna().sum()"
   ]
  },
  {
   "cell_type": "markdown",
   "metadata": {},
   "source": [
    "### Consultas"
   ]
  },
  {
   "cell_type": "markdown",
   "metadata": {},
   "source": [
    "#### Usuarios únicos"
   ]
  },
  {
   "cell_type": "code",
   "execution_count": null,
   "metadata": {
    "ExecuteTime": {
     "end_time": "2020-10-29T16:56:52.746585Z",
     "start_time": "2020-10-29T16:56:48.369213Z"
    }
   },
   "outputs": [],
   "source": [
    "print(f'{len(data_reviews.username.value_counts())} usuarios únicos')"
   ]
  },
  {
   "cell_type": "markdown",
   "metadata": {},
   "source": [
    "#### Top 10 videojuegos más populares"
   ]
  },
  {
   "cell_type": "code",
   "execution_count": null,
   "metadata": {
    "ExecuteTime": {
     "end_time": "2020-10-29T16:56:53.030826Z",
     "start_time": "2020-10-29T16:56:52.749550Z"
    }
   },
   "outputs": [],
   "source": [
    "amount_by_productId = data_reviews.groupby('product_id').product_id.count().reset_index(name='amount')"
   ]
  },
  {
   "cell_type": "markdown",
   "metadata": {},
   "source": [
    "Merge entre videojuegos y reviews:"
   ]
  },
  {
   "cell_type": "code",
   "execution_count": null,
   "metadata": {
    "ExecuteTime": {
     "end_time": "2020-10-29T16:56:53.077674Z",
     "start_time": "2020-10-29T16:56:53.032791Z"
    }
   },
   "outputs": [],
   "source": [
    "reviews_games_amount = pd.merge(amount_by_productId, data_games, left_on='product_id',\n",
    "                               right_on='id').sort_values(by='amount', ascending=False)\n",
    "top10 = reviews_games_amount.head(10)"
   ]
  },
  {
   "cell_type": "code",
   "execution_count": null,
   "metadata": {
    "ExecuteTime": {
     "end_time": "2020-10-29T16:56:53.083655Z",
     "start_time": "2020-10-29T16:56:53.078667Z"
    }
   },
   "outputs": [],
   "source": [
    "# Valores para mostrar en la leyenda de cada barra\n",
    "HOVER_DATA_COLUMNS = ['publisher', 'release_date', 'genres', 'category_price']"
   ]
  },
  {
   "cell_type": "code",
   "execution_count": null,
   "metadata": {
    "ExecuteTime": {
     "end_time": "2020-10-29T16:56:58.745409Z",
     "start_time": "2020-10-29T16:56:53.085647Z"
    }
   },
   "outputs": [],
   "source": [
    "fig = px.bar(top10.sort_values(by='amount'), y='app_name', x='amount', color='amount', title='Videojuegos más populares',\n",
    "             color_continuous_scale='viridis',\n",
    "             labels={'app_name': 'Videojuegos',\n",
    "                     \"amount\": 'Cantidad de usuarios'},\n",
    "             hover_data=HOVER_DATA_COLUMNS,\n",
    "             width=900,\n",
    "             height=450\n",
    "             )\n",
    "fig.update_layout(paper_bgcolor='#FAFAFA',\n",
    "                  margin=dict(l=20, r=20, t=40, b=50)\n",
    "                  )\n",
    "# Jupyter\n",
    "#fig.show()\n",
    "\n",
    "# Static\n",
    "display(SVG(fig.to_image(format='svg')))"
   ]
  },
  {
   "cell_type": "code",
   "execution_count": null,
   "metadata": {
    "ExecuteTime": {
     "end_time": "2020-10-29T16:56:58.755351Z",
     "start_time": "2020-10-29T16:56:58.747372Z"
    }
   },
   "outputs": [],
   "source": [
    "del top10"
   ]
  },
  {
   "cell_type": "markdown",
   "metadata": {},
   "source": [
    "#### Videojuegos con más tiempo de juego"
   ]
  },
  {
   "cell_type": "code",
   "execution_count": null,
   "metadata": {
    "ExecuteTime": {
     "end_time": "2020-10-29T16:57:00.430961Z",
     "start_time": "2020-10-29T16:56:58.756349Z"
    }
   },
   "outputs": [],
   "source": [
    "hours_by_productId = data_reviews.groupby('product_id', as_index=False).hours.sum()\n",
    "\n",
    "reviews_games_hours = pd.merge(hours_by_productId, data_games, left_on='product_id',\n",
    "                               right_on='id').sort_values(by='hours', ascending=False)\n",
    "\n",
    "hours10 = reviews_games_hours.head(10).sort_values(by='hours')"
   ]
  },
  {
   "cell_type": "code",
   "execution_count": null,
   "metadata": {
    "ExecuteTime": {
     "end_time": "2020-10-29T16:57:00.588451Z",
     "start_time": "2020-10-29T16:57:00.432866Z"
    }
   },
   "outputs": [],
   "source": [
    "fig = px.bar(data_frame=hours10, y='app_name', x='hours', color='hours', title='Videojuegos con mas tiempo de juego',\n",
    "             color_continuous_scale='viridis',\n",
    "             labels={'app_name': 'Videojuegos', \"hours\": 'Horas de juego'},\n",
    "             hover_data=HOVER_DATA_COLUMNS,\n",
    "             width=900,\n",
    "             height=450\n",
    "             )\n",
    "\n",
    "fig.update_layout(paper_bgcolor='#FAFAFA',\n",
    "                  margin=dict(l=20, r=20, t=40, b=10)\n",
    "                  )\n",
    "#fig.show()\n",
    "display(SVG(fig.to_image(format='svg')))"
   ]
  },
  {
   "cell_type": "code",
   "execution_count": null,
   "metadata": {
    "ExecuteTime": {
     "end_time": "2020-10-29T16:57:00.596428Z",
     "start_time": "2020-10-29T16:57:00.590448Z"
    }
   },
   "outputs": [],
   "source": [
    "#Liberando memoria\n",
    "del hours_by_productId, reviews_games_hours, hours10"
   ]
  },
  {
   "cell_type": "markdown",
   "metadata": {},
   "source": [
    "#### Género más popular"
   ]
  },
  {
   "cell_type": "code",
   "execution_count": null,
   "metadata": {
    "ExecuteTime": {
     "end_time": "2020-10-29T16:57:00.638342Z",
     "start_time": "2020-10-29T16:57:00.598424Z"
    }
   },
   "outputs": [],
   "source": [
    "all_genres = list(itertools.chain(*data_games.genres))\n",
    "value, count = np.unique(all_genres, return_counts=True)\n",
    "order = np.argsort(count)"
   ]
  },
  {
   "cell_type": "code",
   "execution_count": null,
   "metadata": {
    "ExecuteTime": {
     "end_time": "2020-10-29T16:57:01.048221Z",
     "start_time": "2020-10-29T16:57:00.640310Z"
    }
   },
   "outputs": [],
   "source": [
    "fig = px.bar(x=count[order], y=value[order], color=count[order],\n",
    "             color_continuous_scale='emrld',\n",
    "             title='Géneros',\n",
    "             labels={\n",
    "                 'x': 'Cantidad de videojuegos',\n",
    "                 'y': 'Generos', 'color': 'Cantidad'},\n",
    "             width=850,\n",
    "             height=550,\n",
    "             # log_x=True,\n",
    "             )\n",
    "fig.update_layout(paper_bgcolor='#FAFAFA',\n",
    "                  margin=dict(l=10, r=20, t=5)\n",
    "                  )\n",
    "#fig.show()\n",
    "display(SVG(fig.to_image(format='svg')))"
   ]
  },
  {
   "cell_type": "markdown",
   "metadata": {},
   "source": [
    "#### Videojuegos de pago mas jugados"
   ]
  },
  {
   "cell_type": "code",
   "execution_count": null,
   "metadata": {
    "ExecuteTime": {
     "end_time": "2020-10-29T16:57:01.115068Z",
     "start_time": "2020-10-29T16:57:01.050216Z"
    }
   },
   "outputs": [],
   "source": [
    "df_items = data_games.query('category_price==\"paid\"')\n",
    "merge_paid_games = pd.merge(amount_by_productId, df_items, left_on='product_id',\n",
    "                            right_on='id').sort_values(by='amount', ascending=False).head(10)"
   ]
  },
  {
   "cell_type": "code",
   "execution_count": null,
   "metadata": {
    "ExecuteTime": {
     "end_time": "2020-10-29T16:57:01.241704Z",
     "start_time": "2020-10-29T16:57:01.117038Z"
    }
   },
   "outputs": [],
   "source": [
    "fig = px.bar(data_frame=merge_paid_games, x='app_name', y='amount', title='Videojuegos de pago mas jugados',\n",
    "             labels={'app_name': 'Videojuegos',\n",
    "                     'amount': 'Cantidad de usuarios'},\n",
    "             hover_data=HOVER_DATA_COLUMNS,\n",
    "             color=merge_paid_games.amount, color_continuous_scale='ylorrd',\n",
    "             width=800,\n",
    "             height=500\n",
    "             )\n",
    "\n",
    "fig.update_layout(paper_bgcolor='#FAFAFA',\n",
    "                  margin=dict(l=30, r=20, t=40, b=30)\n",
    "                  )\n",
    "#fig.show()\n",
    "display(SVG(fig.to_image(format='svg')))"
   ]
  },
  {
   "cell_type": "code",
   "execution_count": null,
   "metadata": {
    "ExecuteTime": {
     "end_time": "2020-10-29T16:57:01.249681Z",
     "start_time": "2020-10-29T16:57:01.243698Z"
    }
   },
   "outputs": [],
   "source": [
    "del merge_paid_games"
   ]
  },
  {
   "cell_type": "markdown",
   "metadata": {},
   "source": [
    "#### Videojuegos gratis mas jugados"
   ]
  },
  {
   "cell_type": "code",
   "execution_count": null,
   "metadata": {
    "ExecuteTime": {
     "end_time": "2020-10-29T16:57:01.273616Z",
     "start_time": "2020-10-29T16:57:01.254666Z"
    }
   },
   "outputs": [],
   "source": [
    "df_items = data_games.query('category_price==\"free\"')\n",
    "merge_free_games = pd.merge(amount_by_productId, df_items, left_on='product_id',\n",
    "                            right_on='id').sort_values(by='amount', ascending=False).head(10)"
   ]
  },
  {
   "cell_type": "code",
   "execution_count": null,
   "metadata": {
    "ExecuteTime": {
     "end_time": "2020-10-29T16:57:01.409286Z",
     "start_time": "2020-10-29T16:57:01.276609Z"
    }
   },
   "outputs": [],
   "source": [
    "fig = px.bar(data_frame=merge_free_games, x='app_name', y='amount', title='Videojuegos gratis mas jugados',\n",
    "             labels={'app_name': 'Videojuegos',\n",
    "                     'amount': 'Cantidad de usuarios', 'color': 'Cantidad'},\n",
    "             hover_data=HOVER_DATA_COLUMNS,\n",
    "             color=merge_free_games.amount, color_continuous_scale='ylorrd',\n",
    "             width=800,\n",
    "             height=500)\n",
    "\n",
    "fig.update_layout(paper_bgcolor='#FAFAFA',\n",
    "                  margin=dict(l=20, r=20, t=40, b=30)\n",
    "                  )\n",
    "#fig.show()\n",
    "display(SVG(fig.to_image(format='svg')))"
   ]
  },
  {
   "cell_type": "code",
   "execution_count": null,
   "metadata": {
    "ExecuteTime": {
     "end_time": "2020-10-29T16:57:01.416272Z",
     "start_time": "2020-10-29T16:57:01.411249Z"
    }
   },
   "outputs": [],
   "source": [
    "del merge_free_games"
   ]
  },
  {
   "cell_type": "markdown",
   "metadata": {},
   "source": [
    "#### Porcentaje de usuarios por precio de videojuego"
   ]
  },
  {
   "cell_type": "code",
   "execution_count": null,
   "metadata": {
    "ExecuteTime": {
     "end_time": "2020-10-29T16:57:01.627702Z",
     "start_time": "2020-10-29T16:57:01.417233Z"
    }
   },
   "outputs": [],
   "source": [
    "fig = px.pie(reviews_games_amount,\n",
    "             names='category_price',\n",
    "             values='amount',\n",
    "             title='% Usuarios por precio',\n",
    "             width=450,\n",
    "             height=350,\n",
    "             hole=0.4,\n",
    "             color_discrete_sequence=('#264653', '#E63946'),\n",
    "             labels={'category_price': 'Tipo Precio', 'amount': 'Cantidad'}\n",
    "             )\n",
    "\n",
    "fig.update_layout(\n",
    "    margin=dict(t=30, b=0),\n",
    "    legend=dict(font=dict(size=17)),\n",
    "    paper_bgcolor='#edf2f4'\n",
    ")\n",
    "fig.update_traces(textposition='inside', textinfo='percent+label')\n",
    "#fig.show()\n",
    "display(SVG(fig.to_image(format='svg')))"
   ]
  },
  {
   "cell_type": "markdown",
   "metadata": {},
   "source": [
    "El 81% de los usuarios prefieren pagar por videojuegos."
   ]
  },
  {
   "cell_type": "markdown",
   "metadata": {},
   "source": [
    "#### Series de tiempo"
   ]
  },
  {
   "cell_type": "markdown",
   "metadata": {},
   "source": [
    "##### -> Lanzamiento de videojuegos"
   ]
  },
  {
   "cell_type": "code",
   "execution_count": null,
   "metadata": {
    "ExecuteTime": {
     "end_time": "2020-10-29T16:57:01.647616Z",
     "start_time": "2020-10-29T16:57:01.629665Z"
    }
   },
   "outputs": [],
   "source": [
    "# Creando nueva columna para nombre del mes\n",
    "games = data_games.assign(\n",
    "    month_name=data_games.release_date.dt.month_name(),\n",
    "    year=data_games.release_date.dt.year\n",
    ")"
   ]
  },
  {
   "cell_type": "code",
   "execution_count": null,
   "metadata": {
    "ExecuteTime": {
     "end_time": "2020-10-29T16:57:01.667563Z",
     "start_time": "2020-10-29T16:57:01.649612Z"
    }
   },
   "outputs": [],
   "source": [
    "# Frecuencia de cada mes\n",
    "games_month = games.month_name.value_counts()\n",
    "\n",
    "# Pasando objeto value_counts a DataFrame\n",
    "games_month = pd.DataFrame(\n",
    "    {'month_name': games_month.index, 'amount': games_month.values})\n",
    "\n",
    "# Creando el numero del mes\n",
    "games_month['n_month'] = pd.to_datetime(\n",
    "    games_month.month_name, format='%B', errors='coerce').dt.month\n",
    "\n",
    "# Ordenando por numero de mes\n",
    "games_month.sort_values(by='n_month', inplace=True)"
   ]
  },
  {
   "cell_type": "code",
   "execution_count": null,
   "metadata": {
    "ExecuteTime": {
     "end_time": "2020-10-29T16:57:01.788242Z",
     "start_time": "2020-10-29T16:57:01.668560Z"
    }
   },
   "outputs": [],
   "source": [
    "fig = go.Figure()\n",
    "fig.add_trace(go.Scatter(\n",
    "    x=games_month.month_name,\n",
    "    y=games_month.amount,\n",
    "    marker={'size': 13, 'opacity': .7}\n",
    "))\n",
    "fig.update_layout( \n",
    "    paper_bgcolor='#FAFAFA',\n",
    "    title='Videojuegos / Fechas de lanzamiento',\n",
    "    autosize=False,\n",
    "    height=500,\n",
    "    width=900,\n",
    "    hoverdistance=100,\n",
    "    spikedistance=1000,\n",
    "    xaxis=dict(\n",
    "        title_text='Meses',\n",
    "        titlefont=dict(size=18),\n",
    "        showspikes=True,\n",
    "        spikethickness=2,\n",
    "        spikedash=\"dot\",\n",
    "        spikecolor=\"#999999\",\n",
    "        spikemode=\"across\"),\n",
    "    yaxis=dict(title_text=\"Videojuegos publicados\")\n",
    ")\n",
    "#fig.show()\n",
    "display(SVG(fig.to_image(format='svg')))"
   ]
  },
  {
   "cell_type": "markdown",
   "metadata": {},
   "source": [
    "La mayoría de los videojuegos pueden estar siguiendo una estrategia de marketing lo cual explica que el número de publicaciones se acrecenta enormemente en los últimos meses del año."
   ]
  },
  {
   "cell_type": "markdown",
   "metadata": {},
   "source": [
    "##### -> Videojuegos publicados por año"
   ]
  },
  {
   "cell_type": "code",
   "execution_count": null,
   "metadata": {
    "ExecuteTime": {
     "end_time": "2020-10-29T16:57:01.969756Z",
     "start_time": "2020-10-29T16:57:01.789248Z"
    }
   },
   "outputs": [],
   "source": [
    "games_year = games.year.value_counts()\n",
    "fig = px.bar(x=games_year.index, y=games_year.values, labels={\n",
    "             'x': 'Año', 'y': 'Cantidad', 'color': 'Cantidad'},\n",
    "             color=games_year.values,\n",
    "             title='Videojuegos publicados por año',\n",
    "             color_continuous_scale='spectral_r',\n",
    "             width=900,\n",
    "             height=520,\n",
    "             log_y=True\n",
    "             )\n",
    "\n",
    "fig.update_layout(paper_bgcolor='#FAFAFA',\n",
    "                  margin=dict(t=50, b=50)\n",
    "                  )\n",
    "fig.update_xaxes(rangeslider_visible=True)\n",
    "\n",
    "#fig.show()\n",
    "display(SVG(fig.to_image(format='svg')))"
   ]
  },
  {
   "cell_type": "markdown",
   "metadata": {},
   "source": [
    "La cantidad de videojuegos en escala logarítmica. Se evidencia un aumento en la producción de videojuegos al pasar de los años, sin embargo, los datos muestran un descenso brutal en los últimos dos años. "
   ]
  },
  {
   "cell_type": "code",
   "execution_count": null,
   "metadata": {
    "ExecuteTime": {
     "end_time": "2020-10-29T16:57:01.977736Z",
     "start_time": "2020-10-29T16:57:01.971751Z"
    }
   },
   "outputs": [],
   "source": [
    "del games, games_month, games_year"
   ]
  },
  {
   "cell_type": "markdown",
   "metadata": {},
   "source": [
    "##### -> Concentración de usuarios por mes"
   ]
  },
  {
   "cell_type": "code",
   "execution_count": null,
   "metadata": {
    "ExecuteTime": {
     "end_time": "2020-10-29T16:57:13.352715Z",
     "start_time": "2020-10-29T16:57:01.979739Z"
    }
   },
   "outputs": [],
   "source": [
    "users_by_month = data_reviews.assign(month_name=data_reviews.date.dt.month_name())\n",
    "\n",
    "users_by_month = users_by_month.month_name.value_counts()\n",
    "\n",
    "users_by_month = pd.DataFrame(\n",
    "    {'month_name': users_by_month.index, 'amount': users_by_month.values})\n",
    "\n",
    "users_by_month['month_number'] = pd.to_datetime(users_by_month.month_name,\n",
    "                                                format='%B', errors='coerce').dt.month\n",
    "\n",
    "users_by_month.sort_values(by='month_number', inplace=True)\n",
    "users_by_month"
   ]
  },
  {
   "cell_type": "code",
   "execution_count": null,
   "metadata": {
    "ExecuteTime": {
     "end_time": "2020-10-29T16:57:13.533235Z",
     "start_time": "2020-10-29T16:57:13.358700Z"
    }
   },
   "outputs": [],
   "source": [
    "fig = go.Figure()\n",
    "fig.add_trace(go.Scatter(\n",
    "    x=users_by_month.month_name,\n",
    "    y=users_by_month.amount,\n",
    "    line={'color': '#000000'},\n",
    "    marker={'size': 13, 'opacity': .7},\n",
    "))\n",
    "fig.update_layout(\n",
    "    paper_bgcolor='#FAFAFA',\n",
    "    title='Cantidad de usuarios por mes',\n",
    "    autosize=False,\n",
    "    width=900,\n",
    "    height=450,\n",
    "    hoverdistance=100,\n",
    "    spikedistance=1000,\n",
    "    margin=dict(t=50),\n",
    "    xaxis=dict(\n",
    "        title_text='Meses',\n",
    "        titlefont=dict(size=18),\n",
    "        showspikes=True,\n",
    "        spikethickness=3,\n",
    "        spikedash=\"dot\",\n",
    "        spikecolor=\"red\",\n",
    "        spikemode=\"across\"),\n",
    "    yaxis=dict(title_text=\"Cantidad\",  titlefont=dict(size=18))\n",
    ")\n",
    "#fig.show()\n",
    "display(SVG(fig.to_image(format='svg')))"
   ]
  },
  {
   "cell_type": "markdown",
   "metadata": {},
   "source": [
    "Vemos que se presentan 3 picos en la gráfica: A inicios, mitad y fin de año, lo cual puede estar relacionado a las temporadas de verano e invierno en Estados Unidos, en éstas épocas se concentran la mayoría de usuarios e invierten más horas de su tiempo libre en videojuegos de Steam."
   ]
  },
  {
   "cell_type": "code",
   "execution_count": null,
   "metadata": {
    "ExecuteTime": {
     "end_time": "2020-10-29T16:57:13.539218Z",
     "start_time": "2020-10-29T16:57:13.535231Z"
    }
   },
   "outputs": [],
   "source": [
    "del users_by_month"
   ]
  },
  {
   "cell_type": "markdown",
   "metadata": {},
   "source": [
    "##### -> 20 Videojuegos más antiguos"
   ]
  },
  {
   "cell_type": "code",
   "execution_count": null,
   "metadata": {
    "ExecuteTime": {
     "end_time": "2020-10-29T16:57:13.989070Z",
     "start_time": "2020-10-29T16:57:13.540215Z"
    }
   },
   "outputs": [],
   "source": [
    "older_games = data_games.drop(['url', 'categories'], axis=1).sort_values(\n",
    "    by='release_date', ascending=True).head(20)\n",
    "\n",
    "group_users = data_reviews.query('product_id in @older_games.id')\\\n",
    "    .groupby('product_id').product_id.count().reset_index(name='amount')\n",
    "\n",
    "older_games = pd.merge(\n",
    "    older_games, group_users, left_on='id', right_on='product_id')\n",
    "\n",
    "older_games['year'] = older_games.release_date.dt.year"
   ]
  },
  {
   "cell_type": "code",
   "execution_count": null,
   "metadata": {
    "ExecuteTime": {
     "end_time": "2020-10-29T16:57:14.301180Z",
     "start_time": "2020-10-29T16:57:13.991011Z"
    }
   },
   "outputs": [],
   "source": [
    "fig = px.bar(data_frame=older_games,\n",
    "             x='amount',\n",
    "             y='year',\n",
    "             #log_x=True,\n",
    "             color='app_name',\n",
    "             labels={'year': 'Año', 'amount': 'Cantidad de usuarios',\n",
    "                     'app_name': 'Videojuego'},\n",
    "             title='20 videojuegos más antiguos',\n",
    "             hover_data=HOVER_DATA_COLUMNS, orientation='h')\n",
    "\n",
    "fig.update_layout(\n",
    "    width=850,\n",
    "    height=550,\n",
    "    paper_bgcolor='#FAFAFA',\n",
    "    legend=dict(traceorder='reversed'),\n",
    "    margin=dict(t=50),\n",
    ")\n",
    "#fig.show()\n",
    "display(SVG(fig.to_image(format='svg')))"
   ]
  },
  {
   "cell_type": "markdown",
   "metadata": {},
   "source": [
    "El videojuego \"Dragon's Lair\" a pesar de ser el más antiguo es el que posee mayor cantidad de reviews entre los videojuegos de esa época."
   ]
  },
  {
   "cell_type": "code",
   "execution_count": null,
   "metadata": {
    "ExecuteTime": {
     "end_time": "2020-10-29T16:57:14.307164Z",
     "start_time": "2020-10-29T16:57:14.303177Z"
    }
   },
   "outputs": [],
   "source": [
    "del older_games, group_users"
   ]
  },
  {
   "cell_type": "markdown",
   "metadata": {},
   "source": [
    "#### Nube de palabras Videojuego más popular"
   ]
  },
  {
   "cell_type": "markdown",
   "metadata": {},
   "source": [
    "Inicializando variables:"
   ]
  },
  {
   "cell_type": "code",
   "execution_count": null,
   "metadata": {
    "ExecuteTime": {
     "end_time": "2020-10-29T16:57:14.375980Z",
     "start_time": "2020-10-29T16:57:14.310172Z"
    }
   },
   "outputs": [],
   "source": [
    "reviews = data_reviews[data_reviews.product_id ==\n",
    "                       reviews_games_amount.iloc[0].id].text\n",
    "stopwords = nltk.corpus.stopwords.words('english')\n",
    "wnl = WordNetLemmatizer()\n",
    "sentences=[]"
   ]
  },
  {
   "cell_type": "code",
   "execution_count": null,
   "metadata": {
    "ExecuteTime": {
     "end_time": "2020-10-29T16:58:03.547443Z",
     "start_time": "2020-10-29T16:57:14.379971Z"
    }
   },
   "outputs": [],
   "source": [
    "for review in reviews:\n",
    "    # Normalizando\n",
    "    sent = re.sub('[^a-zA-Z!¡?¿]', ' ', review).strip().lower()\n",
    "    words = nltk.word_tokenize(sent)\n",
    "    \n",
    "    # Aplicando Lematización\n",
    "    words = [wnl.lemmatize(word) for word in words]\n",
    "    words = [word for word in words if (\n",
    "        word not in stopwords) and len(word) > 2]    \n",
    "    words = \" \".join(words)\n",
    "    sentences.append(words)"
   ]
  },
  {
   "cell_type": "markdown",
   "metadata": {},
   "source": [
    "Formando una sola oración con todas las palabras:"
   ]
  },
  {
   "cell_type": "code",
   "execution_count": null,
   "metadata": {
    "ExecuteTime": {
     "end_time": "2020-10-29T16:58:03.571333Z",
     "start_time": "2020-10-29T16:58:03.549367Z"
    }
   },
   "outputs": [],
   "source": [
    "sentences = \" \".join(sentences)"
   ]
  },
  {
   "cell_type": "markdown",
   "metadata": {},
   "source": [
    "Imagen original:"
   ]
  },
  {
   "cell_type": "code",
   "execution_count": null,
   "metadata": {
    "ExecuteTime": {
     "end_time": "2020-10-29T16:58:03.875495Z",
     "start_time": "2020-10-29T16:58:03.573304Z"
    }
   },
   "outputs": [],
   "source": [
    "steam_img = Image.open('background.jpg')\n",
    "steam_img"
   ]
  },
  {
   "cell_type": "markdown",
   "metadata": {},
   "source": [
    "Procesando imagen para la nube de palabras:"
   ]
  },
  {
   "cell_type": "code",
   "execution_count": null,
   "metadata": {
    "ExecuteTime": {
     "end_time": "2020-10-29T16:58:04.010135Z",
     "start_time": "2020-10-29T16:58:03.906413Z"
    }
   },
   "outputs": [],
   "source": [
    "steam_img = np.array(steam_img)[::3, ::3]\n",
    "steam_mask = steam_img.copy()\n",
    "steam_mask[steam_mask.sum(axis=2) == 88] = 255\n",
    "\n",
    "edges = np.mean([gaussian_gradient_magnitude(steam_img[:, :, i]/255, .5)\n",
    "                 for i in range(3)], axis=0)\n",
    "steam_mask[edges > .200] = 255"
   ]
  },
  {
   "cell_type": "code",
   "execution_count": null,
   "metadata": {
    "ExecuteTime": {
     "end_time": "2020-10-29T16:58:15.625092Z",
     "start_time": "2020-10-29T16:58:04.012131Z"
    }
   },
   "outputs": [],
   "source": [
    "wc = WordCloud(mask=steam_mask, max_words=2800, relative_scaling=.7,\n",
    "               max_font_size=50, repeat=False, scale=3, contour_color='white')\n",
    "wc.generate(sentences)"
   ]
  },
  {
   "cell_type": "markdown",
   "metadata": {
    "ExecuteTime": {
     "end_time": "2020-10-24T03:20:08.283521Z",
     "start_time": "2020-10-24T03:20:08.275512Z"
    }
   },
   "source": [
    "Finalmente:"
   ]
  },
  {
   "cell_type": "code",
   "execution_count": null,
   "metadata": {
    "ExecuteTime": {
     "end_time": "2020-10-29T16:58:16.848751Z",
     "start_time": "2020-10-29T16:58:15.627066Z"
    }
   },
   "outputs": [],
   "source": [
    "image_color=ImageColorGenerator(steam_img)\n",
    "wc.recolor(color_func=image_color)\n",
    "wc.to_image()"
   ]
  },
  {
   "cell_type": "code",
   "execution_count": null,
   "metadata": {
    "ExecuteTime": {
     "end_time": "2020-10-29T16:58:16.854715Z",
     "start_time": "2020-10-29T16:58:16.850728Z"
    }
   },
   "outputs": [],
   "source": [
    "del steam_img, steam_mask, wc"
   ]
  },
  {
   "cell_type": "markdown",
   "metadata": {},
   "source": [
    "## Sistema de recomendación"
   ]
  },
  {
   "cell_type": "markdown",
   "metadata": {},
   "source": [
    "### Nuevos usuarios"
   ]
  },
  {
   "cell_type": "markdown",
   "metadata": {},
   "source": [
    "A los nuevos usuarios se les recomendará automáticamente los videojuegos más populares, al consumirlos serán tenidos en cuenta por el algoritmo recomendador para futuras recomendaciones:"
   ]
  },
  {
   "cell_type": "code",
   "execution_count": null,
   "metadata": {
    "ExecuteTime": {
     "end_time": "2020-10-29T17:06:20.522930Z",
     "start_time": "2020-10-29T17:06:20.514980Z"
    }
   },
   "outputs": [],
   "source": [
    "def plot_table(df):\n",
    "    COLUMNS_FOR_USER = ['app_name', 'url', 'category_price']\n",
    "    fig = go.Figure(go.Table(\n",
    "        header=dict(values=['Videojuego', 'Sitio web', 'Tipo de precio'],\n",
    "                    fill_color='#ffd166',\n",
    "                    font=dict(size=13)),\n",
    "        cells=dict(values=np.vstack(df[COLUMNS_FOR_USER].values).T,\n",
    "                   fill_color='#264653',\n",
    "                   line_color='black',\n",
    "                   line_width=.4,\n",
    "                   font=dict(color='#f1faee'),\n",
    "                   height=30),\n",
    "        columnwidth=[1.5, 4, 1]))\n",
    "\n",
    "    fig.update_layout(width=1000, height=350, margin=dict(t=10, b=0, l=0))\n",
    "    return display(SVG(fig.to_image('svg')))"
   ]
  },
  {
   "cell_type": "code",
   "execution_count": null,
   "metadata": {
    "ExecuteTime": {
     "end_time": "2020-10-29T16:58:16.991346Z",
     "start_time": "2020-10-29T16:58:16.870665Z"
    }
   },
   "outputs": [],
   "source": [
    "plot_table(reviews_games_amount.head(10))"
   ]
  },
  {
   "cell_type": "markdown",
   "metadata": {},
   "source": [
    "### Benchmark"
   ]
  },
  {
   "cell_type": "markdown",
   "metadata": {},
   "source": [
    "Antes de comenzar con modelos avanzados de recomendaciones, un buen inicio es crear un benchmark que sea capaz de recomendar videojuegos a usuarios basado en su popularidad, recordemos que éste no tiene en cuenta características de item, usuarios ni tampoco la interacción entre ellos:"
   ]
  },
  {
   "cell_type": "code",
   "execution_count": null,
   "metadata": {
    "ExecuteTime": {
     "end_time": "2020-10-29T16:58:16.999323Z",
     "start_time": "2020-10-29T16:58:16.993352Z"
    }
   },
   "outputs": [],
   "source": [
    "def get_popularity_recommendations(username, top=10):\n",
    "    df_recs = reviews_games_amount[~reviews_games_amount.id.isin(\n",
    "        data_reviews.query('username==@username').product_id)]\n",
    "    plot_table(df_recs.head(top))"
   ]
  },
  {
   "cell_type": "code",
   "execution_count": null,
   "metadata": {
    "ExecuteTime": {
     "end_time": "2020-10-29T16:58:17.351382Z",
     "start_time": "2020-10-29T16:58:17.002315Z"
    }
   },
   "outputs": [],
   "source": [
    "get_popularity_recommendations('Astral')"
   ]
  },
  {
   "cell_type": "markdown",
   "metadata": {},
   "source": [
    "### Filtro colaborativo"
   ]
  },
  {
   "cell_type": "markdown",
   "metadata": {},
   "source": [
    "La implementación de un filtro colaboratorio conlleva muchos retos, algunos de ellos se han estado solucionando en pasos anteriores con la limpieza y procesamiento de los datos, sin embargo, para el desarrollo de éste proyecto se realizó una etapa de investigación adicional para solucionar la ausencia de calificaciones entre los pares usuario-item el cual era un campo esperado cuando se importaron los datos.  \n",
    "Desde luego, en el consumo de contenidos digitales los usuarios no suelen brindar una calificación explícita que cuantifique su gusto o apreciación hacia cierto producto, un hecho que nos lleva a mirar este desafio como un problema que se volvería a repetir en un caso real. \n",
    "\n",
    "La metodología inicial consistió en calcular éstas calificaciones manualmente y posteriormente utilizar la libreria Surprise, pero era una práctica muy tediosa y poco recomendada segun algunos foros, no obstante recomendaban utilizar las Matrices de Factorización muy útiles para aproximar valoraciones implícitas. La búsqueda arrojó una serie de librerias, las más comunes son **Implicit** y **LightFM**, ambas con el mismo enfoque."
   ]
  },
  {
   "cell_type": "markdown",
   "metadata": {},
   "source": [
    "#### Mínimos Cuadrados"
   ]
  },
  {
   "cell_type": "markdown",
   "metadata": {},
   "source": [
    "La librería Implicit (https://implicit.readthedocs.io/en/latest/) ofrece muchas funcionalidades para implementar filtros colaborativos con ratings implícitos, el método de los Mínimos Cuadrados es uno de los algoritmos de las Máquinas Factoriales y fué el primero resultado de la búsqueda:"
   ]
  },
  {
   "cell_type": "code",
   "execution_count": null,
   "metadata": {
    "ExecuteTime": {
     "end_time": "2020-10-30T15:17:23.424996Z",
     "start_time": "2020-10-30T15:17:23.347170Z"
    }
   },
   "outputs": [],
   "source": [
    "from implicit.als import AlternatingLeastSquares, train_test_split\n",
    "from implicit.evaluation import ranking_metrics_at_k\n",
    "from scipy import sparse"
   ]
  },
  {
   "cell_type": "markdown",
   "metadata": {},
   "source": [
    "Creando merge entre dataset de reviews y videojuegos para tener la categoría del precio en cada review:"
   ]
  },
  {
   "cell_type": "code",
   "execution_count": null,
   "metadata": {
    "ExecuteTime": {
     "end_time": "2020-10-29T16:59:40.947625Z",
     "start_time": "2020-10-29T16:59:38.010481Z"
    }
   },
   "outputs": [],
   "source": [
    "reviews_games = pd.merge(data_reviews, data_games[['id', 'category_price']],\n",
    "                        left_on='product_id',\n",
    "                        right_on='id',\n",
    "                        how='left')"
   ]
  },
  {
   "cell_type": "code",
   "execution_count": null,
   "metadata": {
    "ExecuteTime": {
     "end_time": "2020-10-29T16:59:40.968583Z",
     "start_time": "2020-10-29T16:59:40.949621Z"
    }
   },
   "outputs": [],
   "source": [
    "reviews_games.head()"
   ]
  },
  {
   "cell_type": "markdown",
   "metadata": {
    "ExecuteTime": {
     "end_time": "2020-10-26T21:49:44.632682Z",
     "start_time": "2020-10-26T21:49:44.627668Z"
    }
   },
   "source": [
    "Convirtiendo a variable categórica el evento (Tipo de precio de videojuego) y el nombre de usuario:"
   ]
  },
  {
   "cell_type": "code",
   "execution_count": null,
   "metadata": {
    "ExecuteTime": {
     "end_time": "2020-10-29T16:59:52.191587Z",
     "start_time": "2020-10-29T16:59:40.970575Z"
    }
   },
   "outputs": [],
   "source": [
    "reviews_games['event'] = reviews_games['category_price'].astype(\n",
    "    'category').cat.codes.astype(float)\n",
    "reviews_games['user_code'] = reviews_games['username'].astype(\n",
    "    'category').cat.codes"
   ]
  },
  {
   "cell_type": "code",
   "execution_count": null,
   "metadata": {
    "ExecuteTime": {
     "end_time": "2020-10-29T16:59:52.203525Z",
     "start_time": "2020-10-29T16:59:52.193550Z"
    }
   },
   "outputs": [],
   "source": [
    "print(reviews_games.dtypes)"
   ]
  },
  {
   "cell_type": "markdown",
   "metadata": {},
   "source": [
    "Matriz de dispersión item-usuario y usuario-item:"
   ]
  },
  {
   "cell_type": "code",
   "execution_count": null,
   "metadata": {
    "ExecuteTime": {
     "end_time": "2020-10-29T16:59:53.892040Z",
     "start_time": "2020-10-29T16:59:52.205529Z"
    }
   },
   "outputs": [],
   "source": [
    "sparse_item_user = sparse.csr_matrix((reviews_games['hours'], (reviews_games['product_id'], reviews_games['user_code'])))\n",
    "sparse_user_item = sparse.csr_matrix((reviews_games['hours'], (reviews_games['user_code'], reviews_games['product_id'])))"
   ]
  },
  {
   "cell_type": "markdown",
   "metadata": {},
   "source": [
    "Creando el modelo:"
   ]
  },
  {
   "cell_type": "code",
   "execution_count": null,
   "metadata": {
    "ExecuteTime": {
     "end_time": "2020-10-29T16:59:53.900012Z",
     "start_time": "2020-10-29T16:59:53.894030Z"
    }
   },
   "outputs": [],
   "source": [
    "#Building the model\n",
    "model = AlternatingLeastSquares(factors=20, regularization=0.1, iterations=40)"
   ]
  },
  {
   "cell_type": "code",
   "execution_count": null,
   "metadata": {
    "ExecuteTime": {
     "end_time": "2020-10-29T16:59:54.042608Z",
     "start_time": "2020-10-29T16:59:53.901983Z"
    }
   },
   "outputs": [],
   "source": [
    "alpha_val = 40\n",
    "data_conf = (sparse_item_user * alpha_val).astype('double')"
   ]
  },
  {
   "cell_type": "markdown",
   "metadata": {},
   "source": [
    "Generando datos de entrenamiento y validación:|"
   ]
  },
  {
   "cell_type": "code",
   "execution_count": null,
   "metadata": {
    "ExecuteTime": {
     "end_time": "2020-10-29T16:59:54.655004Z",
     "start_time": "2020-10-29T16:59:54.045599Z"
    }
   },
   "outputs": [],
   "source": [
    "train, test = train_test_split(data_conf, .7)"
   ]
  },
  {
   "cell_type": "code",
   "execution_count": null,
   "metadata": {
    "ExecuteTime": {
     "end_time": "2020-10-29T16:59:54.662954Z",
     "start_time": "2020-10-29T16:59:54.656993Z"
    }
   },
   "outputs": [],
   "source": [
    "print('Shape:', train.getnnz(), test.getnnz())"
   ]
  },
  {
   "cell_type": "markdown",
   "metadata": {
    "ExecuteTime": {
     "end_time": "2020-10-26T22:03:08.266061Z",
     "start_time": "2020-10-26T22:03:08.262046Z"
    }
   },
   "source": [
    "Entrenando:"
   ]
  },
  {
   "cell_type": "code",
   "execution_count": null,
   "metadata": {
    "ExecuteTime": {
     "end_time": "2020-10-29T17:01:03.548568Z",
     "start_time": "2020-10-29T16:59:54.664941Z"
    }
   },
   "outputs": [],
   "source": [
    "model.fit(train)"
   ]
  },
  {
   "cell_type": "markdown",
   "metadata": {
    "ExecuteTime": {
     "end_time": "2020-10-26T22:03:20.343267Z",
     "start_time": "2020-10-26T22:03:20.338276Z"
    }
   },
   "source": [
    "Evaluando:"
   ]
  },
  {
   "cell_type": "code",
   "execution_count": null,
   "metadata": {
    "ExecuteTime": {
     "end_time": "2020-10-29T17:04:07.615405Z",
     "start_time": "2020-10-29T17:01:03.551561Z"
    }
   },
   "outputs": [],
   "source": [
    "ranking_metrics_at_k(model, train, test)"
   ]
  },
  {
   "cell_type": "markdown",
   "metadata": {},
   "source": [
    "Haciendo recomendaciones:"
   ]
  },
  {
   "cell_type": "code",
   "execution_count": null,
   "metadata": {
    "ExecuteTime": {
     "end_time": "2020-10-29T17:04:07.638343Z",
     "start_time": "2020-10-29T17:04:07.617400Z"
    }
   },
   "outputs": [],
   "source": [
    "user_id =  136494\n",
    "recommended = model.recommend(user_id, sparse_user_item)\n",
    "print(recommended)"
   ]
  },
  {
   "cell_type": "markdown",
   "metadata": {},
   "source": [
    "Vemos que ademas del id del item recomendado lo acompaña la calificacion implicita calculada por la libreria."
   ]
  },
  {
   "cell_type": "code",
   "execution_count": null,
   "metadata": {
    "ExecuteTime": {
     "end_time": "2020-10-29T17:04:07.647318Z",
     "start_time": "2020-10-29T17:04:07.640339Z"
    }
   },
   "outputs": [],
   "source": [
    "ids = [i[0] for i in recommended]\n",
    "ids"
   ]
  },
  {
   "cell_type": "code",
   "execution_count": null,
   "metadata": {
    "ExecuteTime": {
     "end_time": "2020-10-29T17:06:33.385060Z",
     "start_time": "2020-10-29T17:06:26.873012Z"
    }
   },
   "outputs": [],
   "source": [
    "plot_table(data_games.query('id in @ids'))"
   ]
  },
  {
   "cell_type": "markdown",
   "metadata": {},
   "source": [
    "Items similares:"
   ]
  },
  {
   "cell_type": "code",
   "execution_count": null,
   "metadata": {
    "ExecuteTime": {
     "end_time": "2020-10-29T17:06:33.566547Z",
     "start_time": "2020-10-29T17:06:33.388025Z"
    }
   },
   "outputs": [],
   "source": [
    "item_id = 239160\n",
    "ids=[i[0] for i in model.similar_items(item_id)]\n",
    "print(ids)\n",
    "plot_table(data_games.query('id in @ids'))"
   ]
  },
  {
   "cell_type": "code",
   "execution_count": null,
   "metadata": {
    "ExecuteTime": {
     "end_time": "2020-10-29T17:06:36.491676Z",
     "start_time": "2020-10-29T17:06:33.569540Z"
    }
   },
   "outputs": [],
   "source": [
    "del  model, reviews_games, train, test"
   ]
  },
  {
   "cell_type": "markdown",
   "metadata": {},
   "source": [
    "#### Matriz Factorial"
   ]
  },
  {
   "cell_type": "markdown",
   "metadata": {},
   "source": [
    "En el apartado anterior, se aplicó el método de los Mínimos Cuadrados, pero fué necesario convertir algunos tipos de datos a variable numérica discreta. La librería a continuación implementa el algoritmo de la Matriz de Factorización y evita realizar transformaciones adicionales. El framework adpota una nueva versión del algoritmo para trabajar con calificaciones implícitas:"
   ]
  },
  {
   "cell_type": "code",
   "execution_count": null,
   "metadata": {
    "ExecuteTime": {
     "end_time": "2020-11-03T01:56:39.634687Z",
     "start_time": "2020-11-03T01:56:39.606725Z"
    }
   },
   "outputs": [],
   "source": [
    "from lightfm import LightFM\n",
    "from lightfm.evaluation import precision_at_k, auc_score, recall_at_k\n",
    "from lightfm.cross_validation import random_train_test_split\n",
    "from lightfm.data import Dataset"
   ]
  },
  {
   "cell_type": "markdown",
   "metadata": {},
   "source": [
    "##### Sin features"
   ]
  },
  {
   "cell_type": "markdown",
   "metadata": {},
   "source": [
    "Implementando el modelo sin incluir las features de los videojuegos para poder evaluar su rendimiento:"
   ]
  },
  {
   "cell_type": "markdown",
   "metadata": {
    "ExecuteTime": {
     "end_time": "2020-10-30T15:35:00.334285Z",
     "start_time": "2020-10-30T15:35:00.329302Z"
    }
   },
   "source": [
    "* Renombrando columnas para dividir datos en entrenamiento y validación:"
   ]
  },
  {
   "cell_type": "code",
   "execution_count": null,
   "metadata": {
    "ExecuteTime": {
     "end_time": "2020-11-03T01:56:40.181187Z",
     "start_time": "2020-11-03T01:56:39.636645Z"
    }
   },
   "outputs": [],
   "source": [
    "data_reviews.rename(columns={'username': 'user_id',\n",
    "                             'product_id': 'item_id', 'hours': 'weight'}, inplace=True)"
   ]
  },
  {
   "cell_type": "code",
   "execution_count": null,
   "metadata": {
    "ExecuteTime": {
     "end_time": "2020-11-02T06:10:51.927761Z",
     "start_time": "2020-11-02T06:10:51.917789Z"
    }
   },
   "outputs": [],
   "source": [
    "data_reviews.columns"
   ]
  },
  {
   "cell_type": "markdown",
   "metadata": {},
   "source": [
    "* Preparando datos:"
   ]
  },
  {
   "cell_type": "code",
   "execution_count": null,
   "metadata": {
    "ExecuteTime": {
     "end_time": "2020-11-01T17:43:53.856885Z",
     "start_time": "2020-11-01T17:43:43.048796Z"
    }
   },
   "outputs": [],
   "source": [
    "data_interactions = Dataset()\n",
    "data_interactions.fit(\n",
    "    users=data_reviews['user_id'], items=data_reviews['item_id'], )"
   ]
  },
  {
   "cell_type": "code",
   "execution_count": null,
   "metadata": {
    "ExecuteTime": {
     "end_time": "2020-11-01T17:44:19.088433Z",
     "start_time": "2020-11-01T17:43:53.859885Z"
    }
   },
   "outputs": [],
   "source": [
    "interactions, weights = data_interactions.build_interactions(\n",
    "    data_reviews[['user_id', 'item_id', 'weight']].values)"
   ]
  },
  {
   "cell_type": "markdown",
   "metadata": {},
   "source": [
    "* Creando datos de entrenamiento y validación:"
   ]
  },
  {
   "cell_type": "code",
   "execution_count": null,
   "metadata": {
    "ExecuteTime": {
     "end_time": "2020-11-01T17:44:19.906294Z",
     "start_time": "2020-11-01T17:44:19.093398Z"
    }
   },
   "outputs": [],
   "source": [
    "random_state_interactions = np.random.RandomState(seed=42)\n",
    "train, test = random_train_test_split(\n",
    "    interactions, test_percentage=.2, random_state=random_state_interactions)"
   ]
  },
  {
   "cell_type": "code",
   "execution_count": null,
   "metadata": {
    "ExecuteTime": {
     "end_time": "2020-11-01T17:44:20.694114Z",
     "start_time": "2020-11-01T17:44:19.908206Z"
    }
   },
   "outputs": [],
   "source": [
    "random_state_weights = np.random.RandomState(seed=42)\n",
    "train_weights, test_weights = random_train_test_split(\n",
    "    interactions=weights, test_percentage=.2, random_state=random_state_weights)"
   ]
  },
  {
   "cell_type": "code",
   "execution_count": null,
   "metadata": {
    "ExecuteTime": {
     "end_time": "2020-11-01T17:44:20.701106Z",
     "start_time": "2020-11-01T17:44:20.696097Z"
    }
   },
   "outputs": [],
   "source": [
    "print('Shapes:', train.getnnz(), test.getnnz())"
   ]
  },
  {
   "cell_type": "markdown",
   "metadata": {},
   "source": [
    "* Creando el modelo:"
   ]
  },
  {
   "cell_type": "code",
   "execution_count": null,
   "metadata": {
    "ExecuteTime": {
     "end_time": "2020-11-01T21:47:17.803265Z",
     "start_time": "2020-11-01T21:47:17.797281Z"
    }
   },
   "outputs": [],
   "source": [
    "lightFM = LightFM(loss='logistic')"
   ]
  },
  {
   "cell_type": "markdown",
   "metadata": {
    "ExecuteTime": {
     "end_time": "2020-11-01T17:48:26.112003Z",
     "start_time": "2020-11-01T17:48:26.104989Z"
    }
   },
   "source": [
    "* Entrenamiento:"
   ]
  },
  {
   "cell_type": "code",
   "execution_count": null,
   "metadata": {
    "ExecuteTime": {
     "end_time": "2020-11-01T21:51:53.126746Z",
     "start_time": "2020-11-01T21:48:22.409367Z"
    }
   },
   "outputs": [],
   "source": [
    "lightFM.fit(train, sample_weight=train_weights, verbose=True, epochs=30)"
   ]
  },
  {
   "cell_type": "markdown",
   "metadata": {
    "ExecuteTime": {
     "end_time": "2020-11-01T16:51:50.658637Z",
     "start_time": "2020-11-01T16:51:50.652652Z"
    }
   },
   "source": [
    "6. Evaluación:"
   ]
  },
  {
   "cell_type": "code",
   "execution_count": null,
   "metadata": {
    "ExecuteTime": {
     "end_time": "2020-11-01T22:04:32.264651Z",
     "start_time": "2020-11-01T21:55:37.347381Z"
    }
   },
   "outputs": [],
   "source": [
    "precision_at_k = precision_at_k(lightFM, test_interactions=test, train_interactions=train).mean()\n",
    "print('Precision at k: %.7f' % precision_at_k)"
   ]
  },
  {
   "cell_type": "code",
   "execution_count": null,
   "metadata": {
    "ExecuteTime": {
     "end_time": "2020-11-01T22:13:49.583552Z",
     "start_time": "2020-11-01T22:04:32.267645Z"
    }
   },
   "outputs": [],
   "source": [
    "auc_score = auc_score(lightFM, test_interactions=test, train_interactions=train).mean()\n",
    "print('AUC Score: %.7f' % auc_score)"
   ]
  },
  {
   "cell_type": "code",
   "execution_count": null,
   "metadata": {
    "ExecuteTime": {
     "end_time": "2020-11-01T22:22:56.042982Z",
     "start_time": "2020-11-01T22:13:49.587541Z"
    }
   },
   "outputs": [],
   "source": [
    "recall_at_k = recall_at_k(lightFM, test_interactions=test, train_interactions=train).mean()\n",
    "print('Recall at k: %.7f' % recall_at_k)"
   ]
  },
  {
   "cell_type": "markdown",
   "metadata": {},
   "source": [
    "##### Incluyendo features de usuario e items"
   ]
  },
  {
   "cell_type": "markdown",
   "metadata": {},
   "source": [
    "En ésta etapa, el modelo se alimentará de las features de los videojuegos, actualmente contamos con el tipo de precio y categorías, para ello crearemos sus variables de dummy:"
   ]
  },
  {
   "cell_type": "markdown",
   "metadata": {},
   "source": [
    "* Categorías:"
   ]
  },
  {
   "cell_type": "code",
   "execution_count": null,
   "metadata": {
    "ExecuteTime": {
     "end_time": "2020-11-03T01:56:40.360708Z",
     "start_time": "2020-11-03T01:56:40.183181Z"
    }
   },
   "outputs": [],
   "source": [
    "all_categories = np.unique(list(itertools.chain(*data_games.categories)))\n",
    "len(all_categories)"
   ]
  },
  {
   "cell_type": "code",
   "execution_count": null,
   "metadata": {
    "ExecuteTime": {
     "end_time": "2020-11-03T01:56:40.370681Z",
     "start_time": "2020-11-03T01:56:40.362703Z"
    }
   },
   "outputs": [],
   "source": [
    "item_features = list(itertools.chain(*[[f'{f}:0', f'{f}:1'] for f in all_categories]))\n",
    "len(item_features)"
   ]
  },
  {
   "cell_type": "code",
   "execution_count": null,
   "metadata": {
    "ExecuteTime": {
     "end_time": "2020-11-03T01:56:40.393647Z",
     "start_time": "2020-11-03T01:56:40.373674Z"
    }
   },
   "outputs": [],
   "source": [
    "unique_price = np.unique(data_games.category_price)\n",
    "for price in unique_price:\n",
    "    item_features.append(f'category_price:{price}')\n",
    "len(item_features)"
   ]
  },
  {
   "cell_type": "code",
   "execution_count": null,
   "metadata": {
    "ExecuteTime": {
     "end_time": "2020-11-03T01:56:53.141447Z",
     "start_time": "2020-11-03T01:56:40.394616Z"
    }
   },
   "outputs": [],
   "source": [
    "data_with_features = Dataset()\n",
    "\n",
    "data_with_features.fit(users=data_reviews['user_id'],\n",
    "                       items=data_reviews['item_id'],\n",
    "                       item_features=item_features\n",
    "                       )"
   ]
  },
  {
   "cell_type": "markdown",
   "metadata": {},
   "source": [
    "* Interacciones:"
   ]
  },
  {
   "cell_type": "code",
   "execution_count": null,
   "metadata": {
    "ExecuteTime": {
     "end_time": "2020-11-03T01:56:57.899133Z",
     "start_time": "2020-11-03T01:56:57.690649Z"
    }
   },
   "outputs": [],
   "source": [
    "# Dejando solo las variables dummy y el id de cada videojuego\n",
    "games_with_reviews = data_games.query('id in @data_reviews.item_id').copy()"
   ]
  },
  {
   "cell_type": "code",
   "execution_count": null,
   "metadata": {
    "ExecuteTime": {
     "end_time": "2020-11-03T01:57:02.426051Z",
     "start_time": "2020-11-03T01:56:59.344226Z"
    }
   },
   "outputs": [],
   "source": [
    "for cat in all_categories:\n",
    "    games_with_reviews[cat] = games_with_reviews.categories.apply(\n",
    "        lambda x: 1 if cat in x else 0)"
   ]
  },
  {
   "cell_type": "code",
   "execution_count": null,
   "metadata": {
    "ExecuteTime": {
     "end_time": "2020-11-03T01:57:02.432962Z",
     "start_time": "2020-11-03T01:57:02.427977Z"
    }
   },
   "outputs": [],
   "source": [
    "games_id = games_with_reviews.id"
   ]
  },
  {
   "cell_type": "code",
   "execution_count": null,
   "metadata": {
    "ExecuteTime": {
     "end_time": "2020-11-03T01:57:02.559654Z",
     "start_time": "2020-11-03T01:57:02.435956Z"
    }
   },
   "outputs": [],
   "source": [
    "games_with_reviews.drop(\n",
    "    ['id', 'publisher', 'genres', 'app_name', 'url',\n",
    "        'release_date', 'categories'],\n",
    "    axis=1, inplace=True)"
   ]
  },
  {
   "cell_type": "code",
   "execution_count": null,
   "metadata": {
    "ExecuteTime": {
     "end_time": "2020-11-03T01:57:02.567606Z",
     "start_time": "2020-11-03T01:57:02.561619Z"
    }
   },
   "outputs": [],
   "source": [
    "games_with_reviews.columns"
   ]
  },
  {
   "cell_type": "code",
   "execution_count": null,
   "metadata": {
    "ExecuteTime": {
     "end_time": "2020-11-03T01:57:02.674319Z",
     "start_time": "2020-11-03T01:57:02.670398Z"
    }
   },
   "outputs": [],
   "source": [
    "def get_col_features(features):\n",
    "    result = []\n",
    "    for col, feature in zip(games_with_reviews.columns, features):\n",
    "        result.append(f'{col}:{feature}')\n",
    "    return result"
   ]
  },
  {
   "cell_type": "code",
   "execution_count": null,
   "metadata": {
    "ExecuteTime": {
     "end_time": "2020-11-03T01:57:06.251750Z",
     "start_time": "2020-11-03T01:57:02.881764Z"
    }
   },
   "outputs": [],
   "source": [
    "interactions_features = [i for i in games_with_reviews.values]\n",
    "pair_interactions_features = []\n",
    "for features in interactions_features:\n",
    "    pair_interactions_features.append(get_col_features(features))\n",
    "\n",
    "pair_interactions_features = list(zip(games_id, pair_interactions_features))"
   ]
  },
  {
   "cell_type": "code",
   "execution_count": null,
   "metadata": {
    "ExecuteTime": {
     "end_time": "2020-11-03T01:57:40.929023Z",
     "start_time": "2020-11-03T01:57:06.254743Z"
    }
   },
   "outputs": [],
   "source": [
    "# Creando interacciones\n",
    "interactions, weights = data_with_features.build_interactions(data_reviews[['user_id', 'item_id', 'weight']].values)\n",
    "\n",
    "# Transformando features\n",
    "item_features = data_with_features.build_item_features(pair_interactions_features)"
   ]
  },
  {
   "cell_type": "markdown",
   "metadata": {},
   "source": [
    "* Creando datos de entrenamiento y validación:"
   ]
  },
  {
   "cell_type": "code",
   "execution_count": null,
   "metadata": {
    "ExecuteTime": {
     "end_time": "2020-11-03T01:57:41.772821Z",
     "start_time": "2020-11-03T01:57:40.933970Z"
    }
   },
   "outputs": [],
   "source": [
    "random_state_interactions = np.random.RandomState(seed=42)\n",
    "\n",
    "train, test = random_train_test_split(\n",
    "    interactions, test_percentage=.2, random_state=random_state_interactions)"
   ]
  },
  {
   "cell_type": "code",
   "execution_count": null,
   "metadata": {
    "ExecuteTime": {
     "end_time": "2020-11-03T00:45:20.651260Z",
     "start_time": "2020-11-03T00:45:19.873334Z"
    }
   },
   "outputs": [],
   "source": [
    "random_state_weights = np.random.RandomState(seed=42)\n",
    "\n",
    "train_weights, test_weights = random_train_test_split(\n",
    "    interactions=weights, test_percentage=.2, random_state=random_state_weights)"
   ]
  },
  {
   "cell_type": "code",
   "execution_count": null,
   "metadata": {
    "ExecuteTime": {
     "end_time": "2020-11-03T00:45:20.660259Z",
     "start_time": "2020-11-03T00:45:20.653252Z"
    }
   },
   "outputs": [],
   "source": [
    "print('Shapes Interactions:', train.getnnz(), test.getnnz())\n",
    "print('Shapes Weights:', train_weights.getnnz(), test_weights.getnnz())"
   ]
  },
  {
   "cell_type": "markdown",
   "metadata": {},
   "source": [
    "* Creando el modelo:"
   ]
  },
  {
   "cell_type": "code",
   "execution_count": null,
   "metadata": {
    "ExecuteTime": {
     "end_time": "2020-11-03T01:57:41.782719Z",
     "start_time": "2020-11-03T01:57:41.774727Z"
    }
   },
   "outputs": [],
   "source": [
    "lightFM_with_features = LightFM(loss='logistic')"
   ]
  },
  {
   "cell_type": "markdown",
   "metadata": {
    "ExecuteTime": {
     "end_time": "2020-11-01T17:48:26.112003Z",
     "start_time": "2020-11-01T17:48:26.104989Z"
    }
   },
   "source": [
    "* Entrenamiento:"
   ]
  },
  {
   "cell_type": "code",
   "execution_count": null,
   "metadata": {
    "ExecuteTime": {
     "end_time": "2020-11-03T02:06:29.143857Z",
     "start_time": "2020-11-03T01:57:53.864660Z"
    }
   },
   "outputs": [],
   "source": [
    "lightFM_with_features.fit(\n",
    "    train, item_features=item_features, verbose=True, epochs=2)"
   ]
  },
  {
   "cell_type": "markdown",
   "metadata": {
    "ExecuteTime": {
     "end_time": "2020-11-01T16:51:50.658637Z",
     "start_time": "2020-11-01T16:51:50.652652Z"
    }
   },
   "source": [
    "* Evaluación:"
   ]
  },
  {
   "cell_type": "code",
   "execution_count": null,
   "metadata": {
    "ExecuteTime": {
     "start_time": "2020-11-03T02:06:39.505Z"
    }
   },
   "outputs": [],
   "source": [
    "precision_at_k_train = precision_at_k(\n",
    "    lightFM_with_features, train, item_features=item_features).mean()\n",
    "print('Precision at k (Train): %.7f' % precision_at_k_train)"
   ]
  },
  {
   "cell_type": "code",
   "execution_count": null,
   "metadata": {
    "ExecuteTime": {
     "start_time": "2020-11-02T21:16:46.352Z"
    }
   },
   "outputs": [],
   "source": [
    "auc_score = auc_score(lightFM_with_features, test_interactions=test, train_interactions=train, \n",
    "                      item_features=test_features).mean()\n",
    "print('AUC Score: %.7f' % auc_score)"
   ]
  },
  {
   "cell_type": "code",
   "execution_count": null,
   "metadata": {
    "ExecuteTime": {
     "end_time": "2020-11-01T22:22:56.042982Z",
     "start_time": "2020-11-01T22:13:49.587541Z"
    }
   },
   "outputs": [],
   "source": [
    "recall_at_k = recall_at_k(lighlightFM_with_featurestFM, test_interactions=test, train_interactions=train, \n",
    "                          item_features=test_features).mean()\n",
    "print('Recall at k: %.7f' % recall_at_k)"
   ]
  }
 ],
 "metadata": {
  "colab": {
   "collapsed_sections": [],
   "name": "DS_Proyecto_03_SR.ipynb",
   "provenance": []
  },
  "kernelspec": {
   "display_name": "Python 3",
   "language": "python",
   "name": "python3"
  },
  "language_info": {
   "codemirror_mode": {
    "name": "ipython",
    "version": 3
   },
   "file_extension": ".py",
   "mimetype": "text/x-python",
   "name": "python",
   "nbconvert_exporter": "python",
   "pygments_lexer": "ipython3",
   "version": "3.7.6"
  },
  "toc": {
   "base_numbering": 1,
   "nav_menu": {},
   "number_sections": true,
   "sideBar": true,
   "skip_h1_title": false,
   "title_cell": "Table of Contents",
   "title_sidebar": "Contents",
   "toc_cell": false,
   "toc_position": {
    "height": "calc(100% - 180px)",
    "left": "10px",
    "top": "150px",
    "width": "271.175px"
   },
   "toc_section_display": true,
   "toc_window_display": true
  }
 },
 "nbformat": 4,
 "nbformat_minor": 1
}