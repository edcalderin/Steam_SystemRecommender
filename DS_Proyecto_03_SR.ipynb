{
 "cells": [
  {
   "cell_type": "markdown",
   "metadata": {
    "colab_type": "text",
    "id": "gzJLet17WTzh"
   },
   "source": [
    "# Proyecto 03 - Sistemas de Recomendación\n",
    "\n",
    "## Dataset: STEAM\n",
    "\n",
    "**Recuerda descargar el dataset de [aquí](https://github.com/kang205/SASRec). Son dos archivos, uno de calificaciones y otro de información sobre los juegos.**\n",
    "\n",
    "En este notebook te dejamos unas celdas para que puedas comenzar a trabajar con este dataset. Sin embargo, **deberás** modificarlas para hacer un mejor manejo de datos. Algunas cosas a las que deberás prestar atención (tal vez no a todas):\n",
    "1. Tipos de datos: elige tipos de datos apropiados para cada columna.\n",
    "2. Descartar columnas poco informativas.\n",
    "3. Guardar en memoria datasets preprocesados para no tener que repetir código que tarde en correr.\n",
    "\n",
    "### Exploración de datos\n",
    "\n",
    "Dedícale un buen tiempo a hacer un Análisis Exploratorio de Datos. Elige preguntas que creas que puedas responder con este dataset. Por ejemplo, ¿cuáles son los juegos más populares?¿Y los menos populares?\n",
    "\n",
    "### Filtro Colaborativo\n",
    "\n",
    "Deberás implementar un sistema de recomendación colaborativo para este dataset. Ten en cuenta:\n",
    "\n",
    "1. Haz todas las transformaciones de datos que consideres necesarias. Justifica.\n",
    "1. Evalúa de forma apropiada sus resultados. Justifica la métrica elegida.\n",
    "1. Elige un modelo benchmark y compara tus resultados con este modelo.\n",
    "1. Optimiza los hiperparámetros de tu modelo.\n",
    "\n",
    "Puedes implementar un filtro colaborativo a partir de la similitud coseno o índice de Jaccard. ¿Puedes utilizar los métodos de la librería Surprise? Si no es así, busca implementaciones (por ejemplo, nuevas librerías) que sean apropiadas.\n",
    "\n",
    "Para comenzar a trabajar, puedes asumir que cada entrada es un enlace entre una persona usuaria y un item, **independientemente** de si la crítica es buena o mala. \n",
    "\n",
    "### Para pensar, investigar y, opcionalmente, implementar\n",
    "1. ¿Cómo harías para ponerle un valor a la calificación?\n",
    "1. ¿Cómo harías para agregar contenido? Por ejemplo, cuentas con el género, precio, fecha de lanzamiento y más información de los juegos.\n",
    "1. ¿Hay algo que te gustaría investigar o probar?\n",
    "\n",
    "### **¡Tómate tiempo para investigar y leer mucho!**"
   ]
  },
  {
   "cell_type": "code",
   "execution_count": 2,
   "metadata": {
    "ExecuteTime": {
     "end_time": "2020-10-23T04:15:17.766243Z",
     "start_time": "2020-10-23T04:15:15.151827Z"
    }
   },
   "outputs": [],
   "source": [
    "import gzip\n",
    "import pandas as pd\n",
    "import numpy as np\n",
    "import itertools\n",
    "import plotly.express as px\n",
    "import plotly.graph_objects as go\n",
    "import missingno as msno\n",
    "from time import strptime\n",
    "import datetime\n",
    "import re"
   ]
  },
  {
   "cell_type": "code",
   "execution_count": 2,
   "metadata": {
    "ExecuteTime": {
     "end_time": "2020-10-23T03:53:44.665279Z",
     "start_time": "2020-10-23T03:53:44.661290Z"
    },
    "colab": {},
    "colab_type": "code",
    "id": "lWZhtUxEWTzj"
   },
   "outputs": [],
   "source": [
    "def parse(path):\n",
    "    g = gzip.open(path, 'r')\n",
    "    for l in g:\n",
    "        yield eval(l)"
   ]
  },
  {
   "cell_type": "markdown",
   "metadata": {
    "colab_type": "text",
    "id": "BmEM25k4WTzw"
   },
   "source": [
    "#### Reviews"
   ]
  },
  {
   "cell_type": "markdown",
   "metadata": {},
   "source": [
    "Obteniendo todos los datos:"
   ]
  },
  {
   "cell_type": "code",
   "execution_count": 3,
   "metadata": {
    "ExecuteTime": {
     "end_time": "2020-10-23T03:59:06.552129Z",
     "start_time": "2020-10-23T03:53:44.669265Z"
    },
    "colab": {},
    "colab_type": "code",
    "id": "abAXItn1WTz0"
   },
   "outputs": [],
   "source": [
    "#contador = 0\n",
    "data_reviews = []\n",
    "# Vamos a guardar una de cada 10 reviews para no llenar la memoria RAM. Si pones n = 3, \n",
    "# abrira uno de cada tres, y asi.\n",
    "#n = 2\n",
    "for l in parse('steam_reviews.json.gz'):\n",
    "    #if contador%n == 0:\n",
    "    data_reviews.append(l)\n",
    "    #else:\n",
    "    #    pass\n",
    "    #contador += 1"
   ]
  },
  {
   "cell_type": "markdown",
   "metadata": {},
   "source": [
    "Recibimos las columnas necesarias para el preprocesamiento y análisis, además agiliza la conversión a DataFrame."
   ]
  },
  {
   "cell_type": "code",
   "execution_count": 4,
   "metadata": {
    "ExecuteTime": {
     "end_time": "2020-10-23T04:03:39.181208Z",
     "start_time": "2020-10-23T03:59:06.583148Z"
    }
   },
   "outputs": [],
   "source": [
    "data_reviews = pd.DataFrame(data_reviews, columns=[\n",
    "                            'username', 'hours', 'product_id', 'date', 'text'])"
   ]
  },
  {
   "cell_type": "markdown",
   "metadata": {},
   "source": [
    "Conversión tipos de dato para columna \"date\":"
   ]
  },
  {
   "cell_type": "code",
   "execution_count": 5,
   "metadata": {
    "ExecuteTime": {
     "end_time": "2020-10-23T04:05:30.402105Z",
     "start_time": "2020-10-23T04:03:39.212351Z"
    }
   },
   "outputs": [],
   "source": [
    "data_reviews['date'] = pd.to_datetime(data_reviews['date'])"
   ]
  },
  {
   "cell_type": "code",
   "execution_count": 6,
   "metadata": {
    "ExecuteTime": {
     "end_time": "2020-10-23T04:05:31.089491Z",
     "start_time": "2020-10-23T04:05:30.462955Z"
    }
   },
   "outputs": [
    {
     "data": {
      "text/plain": [
       "username              object\n",
       "hours                float64\n",
       "product_id            object\n",
       "date          datetime64[ns]\n",
       "text                  object\n",
       "dtype: object"
      ]
     },
     "execution_count": 6,
     "metadata": {},
     "output_type": "execute_result"
    }
   ],
   "source": [
    "data_reviews.dtypes"
   ]
  },
  {
   "cell_type": "code",
   "execution_count": 7,
   "metadata": {
    "ExecuteTime": {
     "end_time": "2020-10-23T04:05:32.181940Z",
     "start_time": "2020-10-23T04:05:31.092477Z"
    },
    "colab": {},
    "colab_type": "code",
    "id": "j24F0ZaYWT0E"
   },
   "outputs": [
    {
     "name": "stdout",
     "output_type": "stream",
     "text": [
      "(7793069, 5)\n"
     ]
    },
    {
     "data": {
      "text/html": [
       "<div>\n",
       "<style scoped>\n",
       "    .dataframe tbody tr th:only-of-type {\n",
       "        vertical-align: middle;\n",
       "    }\n",
       "\n",
       "    .dataframe tbody tr th {\n",
       "        vertical-align: top;\n",
       "    }\n",
       "\n",
       "    .dataframe thead th {\n",
       "        text-align: right;\n",
       "    }\n",
       "</style>\n",
       "<table border=\"1\" class=\"dataframe\">\n",
       "  <thead>\n",
       "    <tr style=\"text-align: right;\">\n",
       "      <th></th>\n",
       "      <th>username</th>\n",
       "      <th>hours</th>\n",
       "      <th>product_id</th>\n",
       "      <th>date</th>\n",
       "      <th>text</th>\n",
       "    </tr>\n",
       "  </thead>\n",
       "  <tbody>\n",
       "    <tr>\n",
       "      <th>0</th>\n",
       "      <td>Chaos Syren</td>\n",
       "      <td>0.1</td>\n",
       "      <td>725280</td>\n",
       "      <td>2017-12-17</td>\n",
       "      <td>This would not be acceptable as an entertainme...</td>\n",
       "    </tr>\n",
       "    <tr>\n",
       "      <th>1</th>\n",
       "      <td>₮ʜᴇ Wᴀʀᴛᴏɴ</td>\n",
       "      <td>51.1</td>\n",
       "      <td>328100</td>\n",
       "      <td>2017-12-27</td>\n",
       "      <td>looks like a facebook game</td>\n",
       "    </tr>\n",
       "    <tr>\n",
       "      <th>2</th>\n",
       "      <td>hello?&lt;</td>\n",
       "      <td>14.6</td>\n",
       "      <td>328100</td>\n",
       "      <td>2017-10-16</td>\n",
       "      <td>Better than Minecraft</td>\n",
       "    </tr>\n",
       "    <tr>\n",
       "      <th>3</th>\n",
       "      <td>Cyderine916</td>\n",
       "      <td>5.0</td>\n",
       "      <td>35140</td>\n",
       "      <td>2018-01-04</td>\n",
       "      <td>I love and idolized Batman and this game is Ma...</td>\n",
       "    </tr>\n",
       "    <tr>\n",
       "      <th>4</th>\n",
       "      <td>DarklyThinking</td>\n",
       "      <td>16.6</td>\n",
       "      <td>35140</td>\n",
       "      <td>2018-01-04</td>\n",
       "      <td>Still worth playing in 2018.\\nProbably my favo...</td>\n",
       "    </tr>\n",
       "  </tbody>\n",
       "</table>\n",
       "</div>"
      ],
      "text/plain": [
       "         username  hours product_id       date  \\\n",
       "0     Chaos Syren    0.1     725280 2017-12-17   \n",
       "1      ₮ʜᴇ Wᴀʀᴛᴏɴ   51.1     328100 2017-12-27   \n",
       "2         hello?<   14.6     328100 2017-10-16   \n",
       "3     Cyderine916    5.0      35140 2018-01-04   \n",
       "4  DarklyThinking   16.6      35140 2018-01-04   \n",
       "\n",
       "                                                text  \n",
       "0  This would not be acceptable as an entertainme...  \n",
       "1                         looks like a facebook game  \n",
       "2                              Better than Minecraft  \n",
       "3  I love and idolized Batman and this game is Ma...  \n",
       "4  Still worth playing in 2018.\\nProbably my favo...  "
      ]
     },
     "execution_count": 7,
     "metadata": {},
     "output_type": "execute_result"
    }
   ],
   "source": [
    "print(data_reviews.shape)\n",
    "data_reviews.head()"
   ]
  },
  {
   "cell_type": "code",
   "execution_count": 8,
   "metadata": {
    "ExecuteTime": {
     "end_time": "2020-10-23T04:05:37.119644Z",
     "start_time": "2020-10-23T04:05:32.224797Z"
    },
    "colab": {},
    "colab_type": "code",
    "id": "8F-EVRZ4WT0L"
   },
   "outputs": [
    {
     "data": {
      "text/plain": [
       "username      0.000000\n",
       "hours         0.340521\n",
       "product_id    0.000000\n",
       "date          0.000000\n",
       "text          0.000000\n",
       "dtype: float64"
      ]
     },
     "execution_count": 8,
     "metadata": {},
     "output_type": "execute_result"
    }
   ],
   "source": [
    "data_reviews.isna().sum()*100/len(data_reviews)"
   ]
  },
  {
   "cell_type": "markdown",
   "metadata": {
    "colab_type": "text",
    "id": "04ed3teRWT0T"
   },
   "source": [
    "#### Games"
   ]
  },
  {
   "cell_type": "code",
   "execution_count": 9,
   "metadata": {
    "ExecuteTime": {
     "end_time": "2020-10-23T04:05:50.232394Z",
     "start_time": "2020-10-23T04:05:37.128585Z"
    },
    "colab": {},
    "colab_type": "code",
    "id": "8wRb24Y5WT0U"
   },
   "outputs": [],
   "source": [
    "data_games = []\n",
    "for l in parse('steam_games.json.gz'):\n",
    "    data_games.append(l)\n",
    "data_games = pd.DataFrame(data_games)"
   ]
  },
  {
   "cell_type": "code",
   "execution_count": 10,
   "metadata": {
    "ExecuteTime": {
     "end_time": "2020-10-23T04:05:50.305212Z",
     "start_time": "2020-10-23T04:05:50.233372Z"
    },
    "colab": {},
    "colab_type": "code",
    "id": "sVR0Cs6SWT0b"
   },
   "outputs": [
    {
     "data": {
      "text/html": [
       "<div>\n",
       "<style scoped>\n",
       "    .dataframe tbody tr th:only-of-type {\n",
       "        vertical-align: middle;\n",
       "    }\n",
       "\n",
       "    .dataframe tbody tr th {\n",
       "        vertical-align: top;\n",
       "    }\n",
       "\n",
       "    .dataframe thead th {\n",
       "        text-align: right;\n",
       "    }\n",
       "</style>\n",
       "<table border=\"1\" class=\"dataframe\">\n",
       "  <thead>\n",
       "    <tr style=\"text-align: right;\">\n",
       "      <th></th>\n",
       "      <th>publisher</th>\n",
       "      <th>genres</th>\n",
       "      <th>app_name</th>\n",
       "      <th>title</th>\n",
       "      <th>url</th>\n",
       "      <th>release_date</th>\n",
       "      <th>tags</th>\n",
       "      <th>discount_price</th>\n",
       "      <th>reviews_url</th>\n",
       "      <th>specs</th>\n",
       "      <th>price</th>\n",
       "      <th>early_access</th>\n",
       "      <th>id</th>\n",
       "      <th>developer</th>\n",
       "      <th>sentiment</th>\n",
       "      <th>metascore</th>\n",
       "    </tr>\n",
       "  </thead>\n",
       "  <tbody>\n",
       "    <tr>\n",
       "      <th>0</th>\n",
       "      <td>Kotoshiro</td>\n",
       "      <td>[Action, Casual, Indie, Simulation, Strategy]</td>\n",
       "      <td>Lost Summoner Kitty</td>\n",
       "      <td>Lost Summoner Kitty</td>\n",
       "      <td>http://store.steampowered.com/app/761140/Lost_...</td>\n",
       "      <td>2018-01-04</td>\n",
       "      <td>[Strategy, Action, Indie, Casual, Simulation]</td>\n",
       "      <td>4.49</td>\n",
       "      <td>http://steamcommunity.com/app/761140/reviews/?...</td>\n",
       "      <td>[Single-player]</td>\n",
       "      <td>4.99</td>\n",
       "      <td>False</td>\n",
       "      <td>761140</td>\n",
       "      <td>Kotoshiro</td>\n",
       "      <td>NaN</td>\n",
       "      <td>NaN</td>\n",
       "    </tr>\n",
       "    <tr>\n",
       "      <th>1</th>\n",
       "      <td>Making Fun, Inc.</td>\n",
       "      <td>[Free to Play, Indie, RPG, Strategy]</td>\n",
       "      <td>Ironbound</td>\n",
       "      <td>Ironbound</td>\n",
       "      <td>http://store.steampowered.com/app/643980/Ironb...</td>\n",
       "      <td>2018-01-04</td>\n",
       "      <td>[Free to Play, Strategy, Indie, RPG, Card Game...</td>\n",
       "      <td>NaN</td>\n",
       "      <td>http://steamcommunity.com/app/643980/reviews/?...</td>\n",
       "      <td>[Single-player, Multi-player, Online Multi-Pla...</td>\n",
       "      <td>Free To Play</td>\n",
       "      <td>False</td>\n",
       "      <td>643980</td>\n",
       "      <td>Secret Level SRL</td>\n",
       "      <td>Mostly Positive</td>\n",
       "      <td>NaN</td>\n",
       "    </tr>\n",
       "  </tbody>\n",
       "</table>\n",
       "</div>"
      ],
      "text/plain": [
       "          publisher                                         genres  \\\n",
       "0         Kotoshiro  [Action, Casual, Indie, Simulation, Strategy]   \n",
       "1  Making Fun, Inc.           [Free to Play, Indie, RPG, Strategy]   \n",
       "\n",
       "              app_name                title  \\\n",
       "0  Lost Summoner Kitty  Lost Summoner Kitty   \n",
       "1            Ironbound            Ironbound   \n",
       "\n",
       "                                                 url release_date  \\\n",
       "0  http://store.steampowered.com/app/761140/Lost_...   2018-01-04   \n",
       "1  http://store.steampowered.com/app/643980/Ironb...   2018-01-04   \n",
       "\n",
       "                                                tags  discount_price  \\\n",
       "0      [Strategy, Action, Indie, Casual, Simulation]            4.49   \n",
       "1  [Free to Play, Strategy, Indie, RPG, Card Game...             NaN   \n",
       "\n",
       "                                         reviews_url  \\\n",
       "0  http://steamcommunity.com/app/761140/reviews/?...   \n",
       "1  http://steamcommunity.com/app/643980/reviews/?...   \n",
       "\n",
       "                                               specs         price  \\\n",
       "0                                    [Single-player]          4.99   \n",
       "1  [Single-player, Multi-player, Online Multi-Pla...  Free To Play   \n",
       "\n",
       "   early_access      id         developer        sentiment metascore  \n",
       "0         False  761140         Kotoshiro              NaN       NaN  \n",
       "1         False  643980  Secret Level SRL  Mostly Positive       NaN  "
      ]
     },
     "execution_count": 10,
     "metadata": {},
     "output_type": "execute_result"
    }
   ],
   "source": [
    "data_games.head(2)"
   ]
  },
  {
   "cell_type": "markdown",
   "metadata": {},
   "source": [
    "## Analisis Exploratorio "
   ]
  },
  {
   "cell_type": "markdown",
   "metadata": {},
   "source": [
    "El plan a llevar a cabo consiste en separar los videojuegos de las utilidades, complementos o elementos adicionales para que el sistema de recomendación basado en **filtro colaborativo** sea lo mas útil posible para el usuario, las utilidades son paquetes complementarios a un videojuego que ofrece Steam para brindar una mayor experiencia (Packs de personalización de personajes, sonidos de fondo, ambientación, etc) pero consideramos que no deben aparecer en la lista de recomendación porque quizás sea preferible para el usuario ver los videojuegos listos para instalar o jugar, en vez de ciertos items que requieren de un videojuego ya instalado.  \n",
    "Se decidio entonces elaborar otro mecanismo de recomendación para estas utilidades, no tan riguroso como el propuesto al inicio, pero que esté provisto con lo necesario, el algoritmo **basado en contenido** es una buena opción.\n",
    "\n",
    "Para poder realizar esta separación de registros se analizarán las categorías de los videojuegos manualmente al indagar el sitio web; una vez obtenido esto, se filtrará y exportarán los resultados en dos datasets diferentes. Lo mismo sucederá con los reviews, se incluirán en un dataset diferente aquellos reviews sobre las utilidades, además con ésto se logra reducir más la cantidad de reviews actual."
   ]
  },
  {
   "cell_type": "markdown",
   "metadata": {},
   "source": [
    "### Preprocesamiento Games"
   ]
  },
  {
   "cell_type": "code",
   "execution_count": 11,
   "metadata": {
    "ExecuteTime": {
     "end_time": "2020-10-23T04:05:50.354047Z",
     "start_time": "2020-10-23T04:05:50.310185Z"
    }
   },
   "outputs": [
    {
     "data": {
      "text/html": [
       "<div>\n",
       "<style scoped>\n",
       "    .dataframe tbody tr th:only-of-type {\n",
       "        vertical-align: middle;\n",
       "    }\n",
       "\n",
       "    .dataframe tbody tr th {\n",
       "        vertical-align: top;\n",
       "    }\n",
       "\n",
       "    .dataframe thead th {\n",
       "        text-align: right;\n",
       "    }\n",
       "</style>\n",
       "<table border=\"1\" class=\"dataframe\">\n",
       "  <thead>\n",
       "    <tr style=\"text-align: right;\">\n",
       "      <th></th>\n",
       "      <th>publisher</th>\n",
       "      <th>genres</th>\n",
       "      <th>app_name</th>\n",
       "      <th>title</th>\n",
       "      <th>url</th>\n",
       "      <th>release_date</th>\n",
       "      <th>tags</th>\n",
       "      <th>discount_price</th>\n",
       "      <th>reviews_url</th>\n",
       "      <th>specs</th>\n",
       "      <th>price</th>\n",
       "      <th>early_access</th>\n",
       "      <th>id</th>\n",
       "      <th>developer</th>\n",
       "      <th>sentiment</th>\n",
       "      <th>metascore</th>\n",
       "    </tr>\n",
       "  </thead>\n",
       "  <tbody>\n",
       "    <tr>\n",
       "      <th>0</th>\n",
       "      <td>Kotoshiro</td>\n",
       "      <td>[Action, Casual, Indie, Simulation, Strategy]</td>\n",
       "      <td>Lost Summoner Kitty</td>\n",
       "      <td>Lost Summoner Kitty</td>\n",
       "      <td>http://store.steampowered.com/app/761140/Lost_...</td>\n",
       "      <td>2018-01-04</td>\n",
       "      <td>[Strategy, Action, Indie, Casual, Simulation]</td>\n",
       "      <td>4.49</td>\n",
       "      <td>http://steamcommunity.com/app/761140/reviews/?...</td>\n",
       "      <td>[Single-player]</td>\n",
       "      <td>4.99</td>\n",
       "      <td>False</td>\n",
       "      <td>761140</td>\n",
       "      <td>Kotoshiro</td>\n",
       "      <td>NaN</td>\n",
       "      <td>NaN</td>\n",
       "    </tr>\n",
       "    <tr>\n",
       "      <th>1</th>\n",
       "      <td>Making Fun, Inc.</td>\n",
       "      <td>[Free to Play, Indie, RPG, Strategy]</td>\n",
       "      <td>Ironbound</td>\n",
       "      <td>Ironbound</td>\n",
       "      <td>http://store.steampowered.com/app/643980/Ironb...</td>\n",
       "      <td>2018-01-04</td>\n",
       "      <td>[Free to Play, Strategy, Indie, RPG, Card Game...</td>\n",
       "      <td>NaN</td>\n",
       "      <td>http://steamcommunity.com/app/643980/reviews/?...</td>\n",
       "      <td>[Single-player, Multi-player, Online Multi-Pla...</td>\n",
       "      <td>Free To Play</td>\n",
       "      <td>False</td>\n",
       "      <td>643980</td>\n",
       "      <td>Secret Level SRL</td>\n",
       "      <td>Mostly Positive</td>\n",
       "      <td>NaN</td>\n",
       "    </tr>\n",
       "    <tr>\n",
       "      <th>2</th>\n",
       "      <td>Poolians.com</td>\n",
       "      <td>[Casual, Free to Play, Indie, Simulation, Sports]</td>\n",
       "      <td>Real Pool 3D - Poolians</td>\n",
       "      <td>Real Pool 3D - Poolians</td>\n",
       "      <td>http://store.steampowered.com/app/670290/Real_...</td>\n",
       "      <td>2017-07-24</td>\n",
       "      <td>[Free to Play, Simulation, Sports, Casual, Ind...</td>\n",
       "      <td>NaN</td>\n",
       "      <td>http://steamcommunity.com/app/670290/reviews/?...</td>\n",
       "      <td>[Single-player, Multi-player, Online Multi-Pla...</td>\n",
       "      <td>Free to Play</td>\n",
       "      <td>False</td>\n",
       "      <td>670290</td>\n",
       "      <td>Poolians.com</td>\n",
       "      <td>Mostly Positive</td>\n",
       "      <td>NaN</td>\n",
       "    </tr>\n",
       "  </tbody>\n",
       "</table>\n",
       "</div>"
      ],
      "text/plain": [
       "          publisher                                             genres  \\\n",
       "0         Kotoshiro      [Action, Casual, Indie, Simulation, Strategy]   \n",
       "1  Making Fun, Inc.               [Free to Play, Indie, RPG, Strategy]   \n",
       "2      Poolians.com  [Casual, Free to Play, Indie, Simulation, Sports]   \n",
       "\n",
       "                  app_name                    title  \\\n",
       "0      Lost Summoner Kitty      Lost Summoner Kitty   \n",
       "1                Ironbound                Ironbound   \n",
       "2  Real Pool 3D - Poolians  Real Pool 3D - Poolians   \n",
       "\n",
       "                                                 url release_date  \\\n",
       "0  http://store.steampowered.com/app/761140/Lost_...   2018-01-04   \n",
       "1  http://store.steampowered.com/app/643980/Ironb...   2018-01-04   \n",
       "2  http://store.steampowered.com/app/670290/Real_...   2017-07-24   \n",
       "\n",
       "                                                tags  discount_price  \\\n",
       "0      [Strategy, Action, Indie, Casual, Simulation]            4.49   \n",
       "1  [Free to Play, Strategy, Indie, RPG, Card Game...             NaN   \n",
       "2  [Free to Play, Simulation, Sports, Casual, Ind...             NaN   \n",
       "\n",
       "                                         reviews_url  \\\n",
       "0  http://steamcommunity.com/app/761140/reviews/?...   \n",
       "1  http://steamcommunity.com/app/643980/reviews/?...   \n",
       "2  http://steamcommunity.com/app/670290/reviews/?...   \n",
       "\n",
       "                                               specs         price  \\\n",
       "0                                    [Single-player]          4.99   \n",
       "1  [Single-player, Multi-player, Online Multi-Pla...  Free To Play   \n",
       "2  [Single-player, Multi-player, Online Multi-Pla...  Free to Play   \n",
       "\n",
       "   early_access      id         developer        sentiment metascore  \n",
       "0         False  761140         Kotoshiro              NaN       NaN  \n",
       "1         False  643980  Secret Level SRL  Mostly Positive       NaN  \n",
       "2         False  670290      Poolians.com  Mostly Positive       NaN  "
      ]
     },
     "execution_count": 11,
     "metadata": {},
     "output_type": "execute_result"
    }
   ],
   "source": [
    "data_games.head(3)"
   ]
  },
  {
   "cell_type": "markdown",
   "metadata": {},
   "source": [
    "#### Valores faltantes"
   ]
  },
  {
   "cell_type": "code",
   "execution_count": 12,
   "metadata": {
    "ExecuteTime": {
     "end_time": "2020-10-23T04:05:50.439933Z",
     "start_time": "2020-10-23T04:05:50.356041Z"
    }
   },
   "outputs": [
    {
     "data": {
      "text/plain": [
       "publisher         25.056792\n",
       "genres            10.216275\n",
       "app_name           0.006224\n",
       "title              6.379337\n",
       "url                0.000000\n",
       "release_date       6.432239\n",
       "tags               0.507235\n",
       "discount_price    99.299829\n",
       "reviews_url        0.006224\n",
       "specs              2.084954\n",
       "price              4.285047\n",
       "early_access       0.000000\n",
       "id                 0.006224\n",
       "developer         10.266065\n",
       "sentiment         22.349463\n",
       "metascore         91.669519\n",
       "dtype: float64"
      ]
     },
     "execution_count": 12,
     "metadata": {},
     "output_type": "execute_result"
    }
   ],
   "source": [
    "data_games.isna().sum()*100/len(data_games)"
   ]
  },
  {
   "cell_type": "markdown",
   "metadata": {
    "ExecuteTime": {
     "end_time": "2020-10-21T22:52:35.421999Z",
     "start_time": "2020-10-21T22:52:35.412025Z"
    }
   },
   "source": [
    "Visualización de valores faltantes:"
   ]
  },
  {
   "cell_type": "code",
   "execution_count": 13,
   "metadata": {
    "ExecuteTime": {
     "end_time": "2020-10-23T04:05:52.943488Z",
     "start_time": "2020-10-23T04:05:50.441909Z"
    }
   },
   "outputs": [
    {
     "data": {
      "text/plain": [
       "<matplotlib.axes._subplots.AxesSubplot at 0x2b278a03cc8>"
      ]
     },
     "execution_count": 13,
     "metadata": {},
     "output_type": "execute_result"
    },
    {
     "data": {
      "image/png": "[encoded data removed]",
      "text/plain": [
       "<Figure size 1800x720 with 2 Axes>"
      ]
     },
     "metadata": {
      "needs_background": "light"
     },
     "output_type": "display_data"
    }
   ],
   "source": [
    "msno.matrix(data_games)"
   ]
  },
  {
   "cell_type": "code",
   "execution_count": 14,
   "metadata": {
    "ExecuteTime": {
     "end_time": "2020-10-23T04:05:52.953460Z",
     "start_time": "2020-10-23T04:05:52.946478Z"
    }
   },
   "outputs": [
    {
     "data": {
      "text/plain": [
       "(32135, 16)"
      ]
     },
     "execution_count": 14,
     "metadata": {},
     "output_type": "execute_result"
    }
   ],
   "source": [
    "data_games.shape"
   ]
  },
  {
   "cell_type": "markdown",
   "metadata": {},
   "source": [
    "Las columnas a continuación no otorgan valor para el análisis exploratorio, se incluyen algunas con valores faltantes superior al 90% del total de los datos. El resto de columnas no incluidas aqui servirán para un posterior análisis exploratorio."
   ]
  },
  {
   "cell_type": "code",
   "execution_count": 15,
   "metadata": {
    "ExecuteTime": {
     "end_time": "2020-10-23T04:05:53.093157Z",
     "start_time": "2020-10-23T04:05:52.955453Z"
    }
   },
   "outputs": [],
   "source": [
    "data_games.drop(columns=['title', 'discount_price', 'reviews_url',\n",
    "                         'early_access', 'developer', 'sentiment', 'metascore'], inplace=True)"
   ]
  },
  {
   "cell_type": "code",
   "execution_count": 16,
   "metadata": {
    "ExecuteTime": {
     "end_time": "2020-10-23T04:05:53.147972Z",
     "start_time": "2020-10-23T04:05:53.096085Z"
    }
   },
   "outputs": [
    {
     "data": {
      "text/plain": [
       "publisher       25.056792\n",
       "genres          10.216275\n",
       "app_name         0.006224\n",
       "url              0.000000\n",
       "release_date     6.432239\n",
       "tags             0.507235\n",
       "specs            2.084954\n",
       "price            4.285047\n",
       "id               0.006224\n",
       "dtype: float64"
      ]
     },
     "execution_count": 16,
     "metadata": {},
     "output_type": "execute_result"
    }
   ],
   "source": [
    "data_games.isna().sum()*100/len(data_games)"
   ]
  },
  {
   "cell_type": "markdown",
   "metadata": {},
   "source": [
    "##### Videjuegos con nombre faltante:"
   ]
  },
  {
   "cell_type": "markdown",
   "metadata": {},
   "source": [
    "El nombre de la aplicación es importante a la hora de conocer que aplicación se va a recomendar"
   ]
  },
  {
   "cell_type": "code",
   "execution_count": 17,
   "metadata": {
    "ExecuteTime": {
     "end_time": "2020-10-23T04:05:53.178863Z",
     "start_time": "2020-10-23T04:05:53.151934Z"
    }
   },
   "outputs": [
    {
     "data": {
      "text/html": [
       "<div>\n",
       "<style scoped>\n",
       "    .dataframe tbody tr th:only-of-type {\n",
       "        vertical-align: middle;\n",
       "    }\n",
       "\n",
       "    .dataframe tbody tr th {\n",
       "        vertical-align: top;\n",
       "    }\n",
       "\n",
       "    .dataframe thead th {\n",
       "        text-align: right;\n",
       "    }\n",
       "</style>\n",
       "<table border=\"1\" class=\"dataframe\">\n",
       "  <thead>\n",
       "    <tr style=\"text-align: right;\">\n",
       "      <th></th>\n",
       "      <th>publisher</th>\n",
       "      <th>genres</th>\n",
       "      <th>app_name</th>\n",
       "      <th>url</th>\n",
       "      <th>release_date</th>\n",
       "      <th>tags</th>\n",
       "      <th>specs</th>\n",
       "      <th>price</th>\n",
       "      <th>id</th>\n",
       "    </tr>\n",
       "  </thead>\n",
       "  <tbody>\n",
       "    <tr>\n",
       "      <th>74</th>\n",
       "      <td>NaN</td>\n",
       "      <td>NaN</td>\n",
       "      <td>NaN</td>\n",
       "      <td>http://store.steampowered.com/</td>\n",
       "      <td>NaN</td>\n",
       "      <td>NaN</td>\n",
       "      <td>NaN</td>\n",
       "      <td>19.99</td>\n",
       "      <td>NaN</td>\n",
       "    </tr>\n",
       "    <tr>\n",
       "      <th>2580</th>\n",
       "      <td>NaN</td>\n",
       "      <td>[Action, Indie]</td>\n",
       "      <td>NaN</td>\n",
       "      <td>http://store.steampowered.com/app/317160/_/</td>\n",
       "      <td>2014-08-26</td>\n",
       "      <td>[Action, Indie]</td>\n",
       "      <td>[Single-player, Game demo]</td>\n",
       "      <td>NaN</td>\n",
       "      <td>317160</td>\n",
       "    </tr>\n",
       "  </tbody>\n",
       "</table>\n",
       "</div>"
      ],
      "text/plain": [
       "     publisher           genres app_name  \\\n",
       "74         NaN              NaN      NaN   \n",
       "2580       NaN  [Action, Indie]      NaN   \n",
       "\n",
       "                                              url release_date  \\\n",
       "74                 http://store.steampowered.com/          NaN   \n",
       "2580  http://store.steampowered.com/app/317160/_/   2014-08-26   \n",
       "\n",
       "                 tags                       specs  price      id  \n",
       "74                NaN                         NaN  19.99     NaN  \n",
       "2580  [Action, Indie]  [Single-player, Game demo]    NaN  317160  "
      ]
     },
     "execution_count": 17,
     "metadata": {},
     "output_type": "execute_result"
    }
   ],
   "source": [
    "data_games[data_games.app_name.isna()]"
   ]
  },
  {
   "cell_type": "markdown",
   "metadata": {},
   "source": [
    "* Al parecer hay un videojuego que no existe (indice 74), se puede verificar examinando su url la cual no está compuesta por id ni nombre del videojuego.  \n",
    "* Con el segundo registro obtenido, al acceder a su url (http://store.steampowered.com/app/317160/_/) parece ser una versión Demo gratuita, no aparece el titulo, ni imagenes adjuntas pero tiene reviews de algunos usuarios, en la imagen portada de se logra apreciar su nombre (\"Duet\").  \n",
    "Al consultar otro videojuego con este mismo nombre encontramos la versión completa de pago con los datos completos."
   ]
  },
  {
   "cell_type": "code",
   "execution_count": 18,
   "metadata": {
    "ExecuteTime": {
     "end_time": "2020-10-23T04:05:53.214767Z",
     "start_time": "2020-10-23T04:05:53.181854Z"
    }
   },
   "outputs": [
    {
     "data": {
      "text/html": [
       "<div>\n",
       "<style scoped>\n",
       "    .dataframe tbody tr th:only-of-type {\n",
       "        vertical-align: middle;\n",
       "    }\n",
       "\n",
       "    .dataframe tbody tr th {\n",
       "        vertical-align: top;\n",
       "    }\n",
       "\n",
       "    .dataframe thead th {\n",
       "        text-align: right;\n",
       "    }\n",
       "</style>\n",
       "<table border=\"1\" class=\"dataframe\">\n",
       "  <thead>\n",
       "    <tr style=\"text-align: right;\">\n",
       "      <th></th>\n",
       "      <th>publisher</th>\n",
       "      <th>genres</th>\n",
       "      <th>app_name</th>\n",
       "      <th>url</th>\n",
       "      <th>release_date</th>\n",
       "      <th>tags</th>\n",
       "      <th>specs</th>\n",
       "      <th>price</th>\n",
       "      <th>id</th>\n",
       "    </tr>\n",
       "  </thead>\n",
       "  <tbody>\n",
       "    <tr>\n",
       "      <th>4103</th>\n",
       "      <td>Kumobius</td>\n",
       "      <td>[Action, Indie]</td>\n",
       "      <td>Duet</td>\n",
       "      <td>http://store.steampowered.com/app/292600/Duet/</td>\n",
       "      <td>2015-08-03</td>\n",
       "      <td>[Indie, Action, Minimalist, Great Soundtrack, ...</td>\n",
       "      <td>[Single-player, Steam Achievements, Full contr...</td>\n",
       "      <td>4.99</td>\n",
       "      <td>292600</td>\n",
       "    </tr>\n",
       "  </tbody>\n",
       "</table>\n",
       "</div>"
      ],
      "text/plain": [
       "     publisher           genres app_name  \\\n",
       "4103  Kumobius  [Action, Indie]     Duet   \n",
       "\n",
       "                                                 url release_date  \\\n",
       "4103  http://store.steampowered.com/app/292600/Duet/   2015-08-03   \n",
       "\n",
       "                                                   tags  \\\n",
       "4103  [Indie, Action, Minimalist, Great Soundtrack, ...   \n",
       "\n",
       "                                                  specs price      id  \n",
       "4103  [Single-player, Steam Achievements, Full contr...  4.99  292600  "
      ]
     },
     "execution_count": 18,
     "metadata": {},
     "output_type": "execute_result"
    }
   ],
   "source": [
    "data_games.query('app_name==\"Duet\"')"
   ]
  },
  {
   "cell_type": "markdown",
   "metadata": {},
   "source": [
    "Asignando nombre de videojuego faltante:"
   ]
  },
  {
   "cell_type": "code",
   "execution_count": 19,
   "metadata": {
    "ExecuteTime": {
     "end_time": "2020-10-23T04:05:53.225738Z",
     "start_time": "2020-10-23T04:05:53.217761Z"
    }
   },
   "outputs": [],
   "source": [
    "data_games.iloc[2580].app_name = 'Duet'"
   ]
  },
  {
   "cell_type": "markdown",
   "metadata": {},
   "source": [
    "Aplicando dropna() al dataset con valores faltantes por la columna **\"app_name\"**"
   ]
  },
  {
   "cell_type": "code",
   "execution_count": 20,
   "metadata": {
    "ExecuteTime": {
     "end_time": "2020-10-23T04:05:53.311510Z",
     "start_time": "2020-10-23T04:05:53.227733Z"
    }
   },
   "outputs": [
    {
     "data": {
      "text/plain": [
       "publisher       8051\n",
       "genres          3282\n",
       "app_name           0\n",
       "url                0\n",
       "release_date    2066\n",
       "tags             162\n",
       "specs            669\n",
       "price           1377\n",
       "id                 1\n",
       "dtype: int64"
      ]
     },
     "execution_count": 20,
     "metadata": {},
     "output_type": "execute_result"
    }
   ],
   "source": [
    "data_games.dropna(subset=['app_name'], inplace=True)\n",
    "data_games.isna().sum()"
   ]
  },
  {
   "cell_type": "markdown",
   "metadata": {},
   "source": [
    "##### Videojuegos con ID faltante"
   ]
  },
  {
   "cell_type": "markdown",
   "metadata": {},
   "source": [
    "El ID del videojuego también es un identificador importante y no se debe ignorar."
   ]
  },
  {
   "cell_type": "code",
   "execution_count": 21,
   "metadata": {
    "ExecuteTime": {
     "end_time": "2020-10-23T04:05:53.340429Z",
     "start_time": "2020-10-23T04:05:53.313502Z"
    },
    "scrolled": true
   },
   "outputs": [
    {
     "data": {
      "text/html": [
       "<div>\n",
       "<style scoped>\n",
       "    .dataframe tbody tr th:only-of-type {\n",
       "        vertical-align: middle;\n",
       "    }\n",
       "\n",
       "    .dataframe tbody tr th {\n",
       "        vertical-align: top;\n",
       "    }\n",
       "\n",
       "    .dataframe thead th {\n",
       "        text-align: right;\n",
       "    }\n",
       "</style>\n",
       "<table border=\"1\" class=\"dataframe\">\n",
       "  <thead>\n",
       "    <tr style=\"text-align: right;\">\n",
       "      <th></th>\n",
       "      <th>publisher</th>\n",
       "      <th>genres</th>\n",
       "      <th>app_name</th>\n",
       "      <th>url</th>\n",
       "      <th>release_date</th>\n",
       "      <th>tags</th>\n",
       "      <th>specs</th>\n",
       "      <th>price</th>\n",
       "      <th>id</th>\n",
       "    </tr>\n",
       "  </thead>\n",
       "  <tbody>\n",
       "    <tr>\n",
       "      <th>30961</th>\n",
       "      <td>Warner Bros. Interactive Entertainment, Feral ...</td>\n",
       "      <td>[Action, Adventure]</td>\n",
       "      <td>Batman: Arkham City - Game of the Year Edition</td>\n",
       "      <td>http://store.steampowered.com/app/200260</td>\n",
       "      <td>2012-09-07</td>\n",
       "      <td>[Action, Open World, Batman, Adventure, Stealt...</td>\n",
       "      <td>[Single-player, Steam Achievements, Steam Trad...</td>\n",
       "      <td>19.99</td>\n",
       "      <td>NaN</td>\n",
       "    </tr>\n",
       "  </tbody>\n",
       "</table>\n",
       "</div>"
      ],
      "text/plain": [
       "                                               publisher               genres  \\\n",
       "30961  Warner Bros. Interactive Entertainment, Feral ...  [Action, Adventure]   \n",
       "\n",
       "                                             app_name  \\\n",
       "30961  Batman: Arkham City - Game of the Year Edition   \n",
       "\n",
       "                                            url release_date  \\\n",
       "30961  http://store.steampowered.com/app/200260   2012-09-07   \n",
       "\n",
       "                                                    tags  \\\n",
       "30961  [Action, Open World, Batman, Adventure, Stealt...   \n",
       "\n",
       "                                                   specs  price   id  \n",
       "30961  [Single-player, Steam Achievements, Steam Trad...  19.99  NaN  "
      ]
     },
     "execution_count": 21,
     "metadata": {},
     "output_type": "execute_result"
    }
   ],
   "source": [
    "data_games[data_games.id.isna()]"
   ]
  },
  {
   "cell_type": "markdown",
   "metadata": {},
   "source": [
    "Vemos que la url contiene el id faltante y en este caso se obtuvo un solo registro, con un simple _\"copy - paste\"_ de este id y conociendo el índice se podría solucionar, pero en caso de haber obtenido multiples registros la tarea sería mas tediosa si se hace manualmente. Crear una iteración sobre éstos videojuegos para completar el id es lo mas viable en este caso:"
   ]
  },
  {
   "cell_type": "markdown",
   "metadata": {},
   "source": [
    "Split basico a una url para obtener el id:"
   ]
  },
  {
   "cell_type": "code",
   "execution_count": 22,
   "metadata": {
    "ExecuteTime": {
     "end_time": "2020-10-23T04:05:53.351403Z",
     "start_time": "2020-10-23T04:05:53.342427Z"
    }
   },
   "outputs": [
    {
     "data": {
      "text/plain": [
       "'200260'"
      ]
     },
     "execution_count": 22,
     "metadata": {},
     "output_type": "execute_result"
    }
   ],
   "source": [
    "'http://store.steampowered.com/app/200260'.split('app/')[1].split('/')[0]"
   ]
  },
  {
   "cell_type": "markdown",
   "metadata": {},
   "source": [
    "Aplicando la estrategia en un loop:"
   ]
  },
  {
   "cell_type": "code",
   "execution_count": 23,
   "metadata": {
    "ExecuteTime": {
     "end_time": "2020-10-23T04:05:53.379335Z",
     "start_time": "2020-10-23T04:05:53.361375Z"
    }
   },
   "outputs": [],
   "source": [
    "games_id_nan = data_games[data_games.id.isna()].index\n",
    "for idx in games_id_nan:\n",
    "    url = data_games.loc[idx].url\n",
    "    id_game = url.split('app/')[1].split('/')[0]\n",
    "    data_games.loc[idx].id = id_game"
   ]
  },
  {
   "cell_type": "code",
   "execution_count": 24,
   "metadata": {
    "ExecuteTime": {
     "end_time": "2020-10-23T04:05:53.402264Z",
     "start_time": "2020-10-23T04:05:53.382320Z"
    }
   },
   "outputs": [
    {
     "data": {
      "text/html": [
       "<div>\n",
       "<style scoped>\n",
       "    .dataframe tbody tr th:only-of-type {\n",
       "        vertical-align: middle;\n",
       "    }\n",
       "\n",
       "    .dataframe tbody tr th {\n",
       "        vertical-align: top;\n",
       "    }\n",
       "\n",
       "    .dataframe thead th {\n",
       "        text-align: right;\n",
       "    }\n",
       "</style>\n",
       "<table border=\"1\" class=\"dataframe\">\n",
       "  <thead>\n",
       "    <tr style=\"text-align: right;\">\n",
       "      <th></th>\n",
       "      <th>publisher</th>\n",
       "      <th>genres</th>\n",
       "      <th>app_name</th>\n",
       "      <th>url</th>\n",
       "      <th>release_date</th>\n",
       "      <th>tags</th>\n",
       "      <th>specs</th>\n",
       "      <th>price</th>\n",
       "      <th>id</th>\n",
       "    </tr>\n",
       "  </thead>\n",
       "  <tbody>\n",
       "    <tr>\n",
       "      <th>30961</th>\n",
       "      <td>Warner Bros. Interactive Entertainment, Feral ...</td>\n",
       "      <td>[Action, Adventure]</td>\n",
       "      <td>Batman: Arkham City - Game of the Year Edition</td>\n",
       "      <td>http://store.steampowered.com/app/200260</td>\n",
       "      <td>2012-09-07</td>\n",
       "      <td>[Action, Open World, Batman, Adventure, Stealt...</td>\n",
       "      <td>[Single-player, Steam Achievements, Steam Trad...</td>\n",
       "      <td>19.99</td>\n",
       "      <td>200260</td>\n",
       "    </tr>\n",
       "  </tbody>\n",
       "</table>\n",
       "</div>"
      ],
      "text/plain": [
       "                                               publisher               genres  \\\n",
       "30961  Warner Bros. Interactive Entertainment, Feral ...  [Action, Adventure]   \n",
       "\n",
       "                                             app_name  \\\n",
       "30961  Batman: Arkham City - Game of the Year Edition   \n",
       "\n",
       "                                            url release_date  \\\n",
       "30961  http://store.steampowered.com/app/200260   2012-09-07   \n",
       "\n",
       "                                                    tags  \\\n",
       "30961  [Action, Open World, Batman, Adventure, Stealt...   \n",
       "\n",
       "                                                   specs  price      id  \n",
       "30961  [Single-player, Steam Achievements, Steam Trad...  19.99  200260  "
      ]
     },
     "execution_count": 24,
     "metadata": {},
     "output_type": "execute_result"
    }
   ],
   "source": [
    "data_games[data_games.index==30961]"
   ]
  },
  {
   "cell_type": "code",
   "execution_count": 25,
   "metadata": {
    "ExecuteTime": {
     "end_time": "2020-10-23T04:05:53.449138Z",
     "start_time": "2020-10-23T04:05:53.404261Z"
    }
   },
   "outputs": [
    {
     "data": {
      "text/plain": [
       "publisher       8051\n",
       "genres          3282\n",
       "app_name           0\n",
       "url                0\n",
       "release_date    2066\n",
       "tags             162\n",
       "specs            669\n",
       "price           1377\n",
       "id                 0\n",
       "dtype: int64"
      ]
     },
     "execution_count": 25,
     "metadata": {},
     "output_type": "execute_result"
    }
   ],
   "source": [
    "data_games.isna().sum()"
   ]
  },
  {
   "cell_type": "code",
   "execution_count": 26,
   "metadata": {
    "ExecuteTime": {
     "end_time": "2020-10-23T04:05:53.462105Z",
     "start_time": "2020-10-23T04:05:53.451135Z"
    }
   },
   "outputs": [
    {
     "data": {
      "text/plain": [
       "(32134, 9)"
      ]
     },
     "execution_count": 26,
     "metadata": {},
     "output_type": "execute_result"
    }
   ],
   "source": [
    "data_games.shape"
   ]
  },
  {
   "cell_type": "markdown",
   "metadata": {},
   "source": [
    "#### Videojuegos duplicados"
   ]
  },
  {
   "cell_type": "markdown",
   "metadata": {},
   "source": [
    "Estrategia para eliminar videojuegos duplicados empezando por aquellos cuyo ID sea el mismo."
   ]
  },
  {
   "cell_type": "code",
   "execution_count": 27,
   "metadata": {
    "ExecuteTime": {
     "end_time": "2020-10-23T04:05:53.534909Z",
     "start_time": "2020-10-23T04:05:53.463105Z"
    },
    "scrolled": true
   },
   "outputs": [
    {
     "data": {
      "text/html": [
       "<div>\n",
       "<style scoped>\n",
       "    .dataframe tbody tr th:only-of-type {\n",
       "        vertical-align: middle;\n",
       "    }\n",
       "\n",
       "    .dataframe tbody tr th {\n",
       "        vertical-align: top;\n",
       "    }\n",
       "\n",
       "    .dataframe thead th {\n",
       "        text-align: right;\n",
       "    }\n",
       "</style>\n",
       "<table border=\"1\" class=\"dataframe\">\n",
       "  <thead>\n",
       "    <tr style=\"text-align: right;\">\n",
       "      <th></th>\n",
       "      <th>publisher</th>\n",
       "      <th>genres</th>\n",
       "      <th>app_name</th>\n",
       "      <th>url</th>\n",
       "      <th>release_date</th>\n",
       "      <th>tags</th>\n",
       "      <th>specs</th>\n",
       "      <th>price</th>\n",
       "      <th>id</th>\n",
       "    </tr>\n",
       "  </thead>\n",
       "  <tbody>\n",
       "    <tr>\n",
       "      <th>13894</th>\n",
       "      <td>Bethesda Softworks</td>\n",
       "      <td>[Action]</td>\n",
       "      <td>Wolfenstein II: The New Colossus</td>\n",
       "      <td>http://store.steampowered.com/app/612880/</td>\n",
       "      <td>2017-10-26</td>\n",
       "      <td>[Action, FPS, Gore, Violent, Alternate History...</td>\n",
       "      <td>[Single-player, Steam Achievements, Full contr...</td>\n",
       "      <td>59.99</td>\n",
       "      <td>612880</td>\n",
       "    </tr>\n",
       "    <tr>\n",
       "      <th>14573</th>\n",
       "      <td>Bethesda Softworks</td>\n",
       "      <td>[Action]</td>\n",
       "      <td>Wolfenstein II: The New Colossus</td>\n",
       "      <td>http://store.steampowered.com/app/612880/Wolfe...</td>\n",
       "      <td>2017-10-26</td>\n",
       "      <td>[Action, FPS, Gore, Violent, Alternate History...</td>\n",
       "      <td>[Single-player, Steam Achievements, Full contr...</td>\n",
       "      <td>59.99</td>\n",
       "      <td>612880</td>\n",
       "    </tr>\n",
       "    <tr>\n",
       "      <th>1068</th>\n",
       "      <td>Warner Bros. Interactive Entertainment, Feral ...</td>\n",
       "      <td>[Action, Adventure]</td>\n",
       "      <td>Batman: Arkham City - Game of the Year Edition</td>\n",
       "      <td>http://store.steampowered.com/app/200260/Batma...</td>\n",
       "      <td>2012-09-07</td>\n",
       "      <td>[Action, Open World, Batman, Adventure, Stealt...</td>\n",
       "      <td>[Single-player, Steam Achievements, Steam Trad...</td>\n",
       "      <td>19.99</td>\n",
       "      <td>200260</td>\n",
       "    </tr>\n",
       "    <tr>\n",
       "      <th>30961</th>\n",
       "      <td>Warner Bros. Interactive Entertainment, Feral ...</td>\n",
       "      <td>[Action, Adventure]</td>\n",
       "      <td>Batman: Arkham City - Game of the Year Edition</td>\n",
       "      <td>http://store.steampowered.com/app/200260</td>\n",
       "      <td>2012-09-07</td>\n",
       "      <td>[Action, Open World, Batman, Adventure, Stealt...</td>\n",
       "      <td>[Single-player, Steam Achievements, Steam Trad...</td>\n",
       "      <td>19.99</td>\n",
       "      <td>200260</td>\n",
       "    </tr>\n",
       "  </tbody>\n",
       "</table>\n",
       "</div>"
      ],
      "text/plain": [
       "                                               publisher               genres  \\\n",
       "13894                                 Bethesda Softworks             [Action]   \n",
       "14573                                 Bethesda Softworks             [Action]   \n",
       "1068   Warner Bros. Interactive Entertainment, Feral ...  [Action, Adventure]   \n",
       "30961  Warner Bros. Interactive Entertainment, Feral ...  [Action, Adventure]   \n",
       "\n",
       "                                             app_name  \\\n",
       "13894                Wolfenstein II: The New Colossus   \n",
       "14573                Wolfenstein II: The New Colossus   \n",
       "1068   Batman: Arkham City - Game of the Year Edition   \n",
       "30961  Batman: Arkham City - Game of the Year Edition   \n",
       "\n",
       "                                                     url release_date  \\\n",
       "13894          http://store.steampowered.com/app/612880/   2017-10-26   \n",
       "14573  http://store.steampowered.com/app/612880/Wolfe...   2017-10-26   \n",
       "1068   http://store.steampowered.com/app/200260/Batma...   2012-09-07   \n",
       "30961           http://store.steampowered.com/app/200260   2012-09-07   \n",
       "\n",
       "                                                    tags  \\\n",
       "13894  [Action, FPS, Gore, Violent, Alternate History...   \n",
       "14573  [Action, FPS, Gore, Violent, Alternate History...   \n",
       "1068   [Action, Open World, Batman, Adventure, Stealt...   \n",
       "30961  [Action, Open World, Batman, Adventure, Stealt...   \n",
       "\n",
       "                                                   specs  price      id  \n",
       "13894  [Single-player, Steam Achievements, Full contr...  59.99  612880  \n",
       "14573  [Single-player, Steam Achievements, Full contr...  59.99  612880  \n",
       "1068   [Single-player, Steam Achievements, Steam Trad...  19.99  200260  \n",
       "30961  [Single-player, Steam Achievements, Steam Trad...  19.99  200260  "
      ]
     },
     "execution_count": 27,
     "metadata": {},
     "output_type": "execute_result"
    }
   ],
   "source": [
    "data_games[data_games.duplicated(\n",
    "    subset=['id'], keep=False)].sort_values(by='publisher')"
   ]
  },
  {
   "cell_type": "code",
   "execution_count": 28,
   "metadata": {
    "ExecuteTime": {
     "end_time": "2020-10-23T04:05:53.594749Z",
     "start_time": "2020-10-23T04:05:53.536905Z"
    }
   },
   "outputs": [],
   "source": [
    "data_games.drop_duplicates(subset=['id'], ignore_index=True, inplace=True)"
   ]
  },
  {
   "cell_type": "code",
   "execution_count": 29,
   "metadata": {
    "ExecuteTime": {
     "end_time": "2020-10-23T04:05:53.603725Z",
     "start_time": "2020-10-23T04:05:53.596744Z"
    }
   },
   "outputs": [
    {
     "data": {
      "text/plain": [
       "(32132, 9)"
      ]
     },
     "execution_count": 29,
     "metadata": {},
     "output_type": "execute_result"
    }
   ],
   "source": [
    "data_games.shape"
   ]
  },
  {
   "cell_type": "code",
   "execution_count": 30,
   "metadata": {
    "ExecuteTime": {
     "end_time": "2020-10-23T04:05:53.658578Z",
     "start_time": "2020-10-23T04:05:53.609709Z"
    }
   },
   "outputs": [
    {
     "data": {
      "text/plain": [
       "publisher       8051\n",
       "genres          3282\n",
       "app_name           0\n",
       "url                0\n",
       "release_date    2066\n",
       "tags             162\n",
       "specs            669\n",
       "price           1377\n",
       "id                 0\n",
       "dtype: int64"
      ]
     },
     "execution_count": 30,
     "metadata": {},
     "output_type": "execute_result"
    }
   ],
   "source": [
    "data_games.isna().sum()"
   ]
  },
  {
   "cell_type": "markdown",
   "metadata": {},
   "source": [
    "#### Filtrado de categorías"
   ]
  },
  {
   "cell_type": "markdown",
   "metadata": {},
   "source": [
    "Se filtrarán aquellas categorías relacionadas a Hardware, Software, vídeos, etc que se encuentran en este dataset procurando dejar únicamente videojuegos válidos para el sistema de recomendación basado en filtro colaborativo. Los registros exentos permanecerán para una recomendación más simple; creemos que aunque al usuario solo le interesen videojuegos tal vez sienta curiosidad por explorar items adicionales que la plataforma Steam ofrece."
   ]
  },
  {
   "cell_type": "markdown",
   "metadata": {},
   "source": [
    "* Filtrando géneros y tags faltantes"
   ]
  },
  {
   "cell_type": "markdown",
   "metadata": {
    "ExecuteTime": {
     "end_time": "2020-10-21T23:23:32.913898Z",
     "start_time": "2020-10-21T23:23:32.908911Z"
    }
   },
   "source": [
    "Seleccionando videojuegos con género y especificación faltante, con éste filtro removemos una gran cantidad de utilidades y los almacenanos en otro dataframe:"
   ]
  },
  {
   "cell_type": "code",
   "execution_count": 31,
   "metadata": {
    "ExecuteTime": {
     "end_time": "2020-10-23T04:05:53.681528Z",
     "start_time": "2020-10-23T04:05:53.660573Z"
    }
   },
   "outputs": [
    {
     "name": "stdout",
     "output_type": "stream",
     "text": [
      "(383, 9)\n"
     ]
    }
   ],
   "source": [
    "isNan_genre_tag = data_games.genres.isna() & data_games.specs.isna()\n",
    "df_no_games = data_games[isNan_genre_tag]\n",
    "print(df_no_games.shape)"
   ]
  },
  {
   "cell_type": "code",
   "execution_count": 32,
   "metadata": {
    "ExecuteTime": {
     "end_time": "2020-10-23T04:05:53.731383Z",
     "start_time": "2020-10-23T04:05:53.683511Z"
    }
   },
   "outputs": [
    {
     "data": {
      "text/html": [
       "<div>\n",
       "<style scoped>\n",
       "    .dataframe tbody tr th:only-of-type {\n",
       "        vertical-align: middle;\n",
       "    }\n",
       "\n",
       "    .dataframe tbody tr th {\n",
       "        vertical-align: top;\n",
       "    }\n",
       "\n",
       "    .dataframe thead th {\n",
       "        text-align: right;\n",
       "    }\n",
       "</style>\n",
       "<table border=\"1\" class=\"dataframe\">\n",
       "  <thead>\n",
       "    <tr style=\"text-align: right;\">\n",
       "      <th></th>\n",
       "      <th>publisher</th>\n",
       "      <th>genres</th>\n",
       "      <th>app_name</th>\n",
       "      <th>url</th>\n",
       "      <th>release_date</th>\n",
       "      <th>tags</th>\n",
       "      <th>specs</th>\n",
       "      <th>price</th>\n",
       "      <th>id</th>\n",
       "    </tr>\n",
       "  </thead>\n",
       "  <tbody>\n",
       "    <tr>\n",
       "      <th>18469</th>\n",
       "      <td>NaN</td>\n",
       "      <td>NaN</td>\n",
       "      <td>The Unearthing</td>\n",
       "      <td>http://store.steampowered.com/app/440200/The_U...</td>\n",
       "      <td>2017-03-30</td>\n",
       "      <td>[Movie, Adventure]</td>\n",
       "      <td>NaN</td>\n",
       "      <td>1.99</td>\n",
       "      <td>440200</td>\n",
       "    </tr>\n",
       "    <tr>\n",
       "      <th>25222</th>\n",
       "      <td>NaN</td>\n",
       "      <td>NaN</td>\n",
       "      <td>Molly</td>\n",
       "      <td>http://store.steampowered.com/app/403810/Molly/</td>\n",
       "      <td>2014-03-07</td>\n",
       "      <td>[Comedy, Short, Drama]</td>\n",
       "      <td>NaN</td>\n",
       "      <td>1.99</td>\n",
       "      <td>403810</td>\n",
       "    </tr>\n",
       "    <tr>\n",
       "      <th>22967</th>\n",
       "      <td>NaN</td>\n",
       "      <td>NaN</td>\n",
       "      <td>Kindred Spirits on the Roof Drama CD Vol.2</td>\n",
       "      <td>http://store.steampowered.com/app/474230/Kindr...</td>\n",
       "      <td>2016-05-27</td>\n",
       "      <td>[Anime, Episodic]</td>\n",
       "      <td>NaN</td>\n",
       "      <td>9.99</td>\n",
       "      <td>474230</td>\n",
       "    </tr>\n",
       "    <tr>\n",
       "      <th>21434</th>\n",
       "      <td>NaN</td>\n",
       "      <td>NaN</td>\n",
       "      <td>Garden of Words</td>\n",
       "      <td>http://store.steampowered.com/app/518360/Garde...</td>\n",
       "      <td>2013-05-31</td>\n",
       "      <td>[Movie, Anime]</td>\n",
       "      <td>NaN</td>\n",
       "      <td>3.99</td>\n",
       "      <td>518360</td>\n",
       "    </tr>\n",
       "    <tr>\n",
       "      <th>21780</th>\n",
       "      <td>NaN</td>\n",
       "      <td>NaN</td>\n",
       "      <td>Kalen Chock Presents: Approaching Interiors</td>\n",
       "      <td>http://store.steampowered.com/app/519380/Kalen...</td>\n",
       "      <td>2016-08-29</td>\n",
       "      <td>[Design &amp; Illustration, Tutorial]</td>\n",
       "      <td>NaN</td>\n",
       "      <td>4.99</td>\n",
       "      <td>519380</td>\n",
       "    </tr>\n",
       "    <tr>\n",
       "      <th>...</th>\n",
       "      <td>...</td>\n",
       "      <td>...</td>\n",
       "      <td>...</td>\n",
       "      <td>...</td>\n",
       "      <td>...</td>\n",
       "      <td>...</td>\n",
       "      <td>...</td>\n",
       "      <td>...</td>\n",
       "      <td>...</td>\n",
       "    </tr>\n",
       "    <tr>\n",
       "      <th>15095</th>\n",
       "      <td>NaN</td>\n",
       "      <td>NaN</td>\n",
       "      <td>Portrait Drawing Fundamentals Course</td>\n",
       "      <td>http://store.steampowered.com/app/712540/Portr...</td>\n",
       "      <td>2012-11-30</td>\n",
       "      <td>[Tutorial]</td>\n",
       "      <td>NaN</td>\n",
       "      <td>59.99</td>\n",
       "      <td>712540</td>\n",
       "    </tr>\n",
       "    <tr>\n",
       "      <th>14586</th>\n",
       "      <td>NaN</td>\n",
       "      <td>NaN</td>\n",
       "      <td>WorldEnd: What Do You Do at the End of the Wor...</td>\n",
       "      <td>http://store.steampowered.com/app/683010/World...</td>\n",
       "      <td>2017-10-26</td>\n",
       "      <td>[Episodic, Anime]</td>\n",
       "      <td>NaN</td>\n",
       "      <td>1.99</td>\n",
       "      <td>683010</td>\n",
       "    </tr>\n",
       "    <tr>\n",
       "      <th>3394</th>\n",
       "      <td>NaN</td>\n",
       "      <td>NaN</td>\n",
       "      <td>From Bedrooms to Billions</td>\n",
       "      <td>http://store.steampowered.com/app/342430/From_...</td>\n",
       "      <td>2015-03-31</td>\n",
       "      <td>[Game Development, Documentary, Retro, Gaming]</td>\n",
       "      <td>NaN</td>\n",
       "      <td>9.99</td>\n",
       "      <td>342430</td>\n",
       "    </tr>\n",
       "    <tr>\n",
       "      <th>5140</th>\n",
       "      <td>NaN</td>\n",
       "      <td>NaN</td>\n",
       "      <td>Robotpencil Presents: Lighting Tools and Tips</td>\n",
       "      <td>http://store.steampowered.com/app/414840/Robot...</td>\n",
       "      <td>2016-01-14</td>\n",
       "      <td>[Design &amp; Illustration, Tutorial]</td>\n",
       "      <td>NaN</td>\n",
       "      <td>19.99</td>\n",
       "      <td>414840</td>\n",
       "    </tr>\n",
       "    <tr>\n",
       "      <th>17153</th>\n",
       "      <td>NaN</td>\n",
       "      <td>NaN</td>\n",
       "      <td>Lost Village</td>\n",
       "      <td>http://store.steampowered.com/app/626350/Lost_...</td>\n",
       "      <td>2017-06-21</td>\n",
       "      <td>[Anime, Episodic]</td>\n",
       "      <td>NaN</td>\n",
       "      <td>1.99</td>\n",
       "      <td>626350</td>\n",
       "    </tr>\n",
       "  </tbody>\n",
       "</table>\n",
       "<p>77 rows × 9 columns</p>\n",
       "</div>"
      ],
      "text/plain": [
       "      publisher genres                                           app_name  \\\n",
       "18469       NaN    NaN                                     The Unearthing   \n",
       "25222       NaN    NaN                                              Molly   \n",
       "22967       NaN    NaN         Kindred Spirits on the Roof Drama CD Vol.2   \n",
       "21434       NaN    NaN                                    Garden of Words   \n",
       "21780       NaN    NaN        Kalen Chock Presents: Approaching Interiors   \n",
       "...         ...    ...                                                ...   \n",
       "15095       NaN    NaN               Portrait Drawing Fundamentals Course   \n",
       "14586       NaN    NaN  WorldEnd: What Do You Do at the End of the Wor...   \n",
       "3394        NaN    NaN                          From Bedrooms to Billions   \n",
       "5140        NaN    NaN      Robotpencil Presents: Lighting Tools and Tips   \n",
       "17153       NaN    NaN                                       Lost Village   \n",
       "\n",
       "                                                     url release_date  \\\n",
       "18469  http://store.steampowered.com/app/440200/The_U...   2017-03-30   \n",
       "25222    http://store.steampowered.com/app/403810/Molly/   2014-03-07   \n",
       "22967  http://store.steampowered.com/app/474230/Kindr...   2016-05-27   \n",
       "21434  http://store.steampowered.com/app/518360/Garde...   2013-05-31   \n",
       "21780  http://store.steampowered.com/app/519380/Kalen...   2016-08-29   \n",
       "...                                                  ...          ...   \n",
       "15095  http://store.steampowered.com/app/712540/Portr...   2012-11-30   \n",
       "14586  http://store.steampowered.com/app/683010/World...   2017-10-26   \n",
       "3394   http://store.steampowered.com/app/342430/From_...   2015-03-31   \n",
       "5140   http://store.steampowered.com/app/414840/Robot...   2016-01-14   \n",
       "17153  http://store.steampowered.com/app/626350/Lost_...   2017-06-21   \n",
       "\n",
       "                                                 tags specs  price      id  \n",
       "18469                              [Movie, Adventure]   NaN   1.99  440200  \n",
       "25222                          [Comedy, Short, Drama]   NaN   1.99  403810  \n",
       "22967                               [Anime, Episodic]   NaN   9.99  474230  \n",
       "21434                                  [Movie, Anime]   NaN   3.99  518360  \n",
       "21780               [Design & Illustration, Tutorial]   NaN   4.99  519380  \n",
       "...                                               ...   ...    ...     ...  \n",
       "15095                                      [Tutorial]   NaN  59.99  712540  \n",
       "14586                               [Episodic, Anime]   NaN   1.99  683010  \n",
       "3394   [Game Development, Documentary, Retro, Gaming]   NaN   9.99  342430  \n",
       "5140                [Design & Illustration, Tutorial]   NaN  19.99  414840  \n",
       "17153                               [Anime, Episodic]   NaN   1.99  626350  \n",
       "\n",
       "[77 rows x 9 columns]"
      ]
     },
     "execution_count": 32,
     "metadata": {},
     "output_type": "execute_result"
    }
   ],
   "source": [
    "df_no_games.sample(frac=.2)"
   ]
  },
  {
   "cell_type": "code",
   "execution_count": 33,
   "metadata": {
    "ExecuteTime": {
     "end_time": "2020-10-23T04:05:53.763312Z",
     "start_time": "2020-10-23T04:05:53.734376Z"
    }
   },
   "outputs": [],
   "source": [
    "data_games = data_games[~isNan_genre_tag]"
   ]
  },
  {
   "cell_type": "code",
   "execution_count": 34,
   "metadata": {
    "ExecuteTime": {
     "end_time": "2020-10-23T04:05:53.778259Z",
     "start_time": "2020-10-23T04:05:53.768291Z"
    }
   },
   "outputs": [
    {
     "data": {
      "text/plain": [
       "(31749, 9)"
      ]
     },
     "execution_count": 34,
     "metadata": {},
     "output_type": "execute_result"
    }
   ],
   "source": [
    "data_games.shape"
   ]
  },
  {
   "cell_type": "code",
   "execution_count": 35,
   "metadata": {
    "ExecuteTime": {
     "end_time": "2020-10-23T04:05:53.829125Z",
     "start_time": "2020-10-23T04:05:53.781252Z"
    }
   },
   "outputs": [
    {
     "data": {
      "text/plain": [
       "publisher       7668\n",
       "genres          2899\n",
       "app_name           0\n",
       "url                0\n",
       "release_date    2066\n",
       "tags             155\n",
       "specs            286\n",
       "price           1369\n",
       "id                 0\n",
       "dtype: int64"
      ]
     },
     "execution_count": 35,
     "metadata": {},
     "output_type": "execute_result"
    }
   ],
   "source": [
    "data_games.isna().sum()"
   ]
  },
  {
   "cell_type": "markdown",
   "metadata": {},
   "source": [
    "* Rellenando genres, tags y specs faltantes con una lista vacia, para que las operaciones aplicadas a éstas columnas sea más fácil"
   ]
  },
  {
   "cell_type": "code",
   "execution_count": 36,
   "metadata": {
    "ExecuteTime": {
     "end_time": "2020-10-23T04:05:54.370684Z",
     "start_time": "2020-10-23T04:05:53.831116Z"
    }
   },
   "outputs": [],
   "source": [
    "for col in ['genres', 'tags', 'specs']:\n",
    "    data_games[col].fillna({i: [] for i in data_games.index}, inplace=True)"
   ]
  },
  {
   "cell_type": "code",
   "execution_count": 37,
   "metadata": {
    "ExecuteTime": {
     "end_time": "2020-10-23T04:05:54.417548Z",
     "start_time": "2020-10-23T04:05:54.372669Z"
    }
   },
   "outputs": [
    {
     "data": {
      "text/plain": [
       "publisher       7668\n",
       "genres             0\n",
       "app_name           0\n",
       "url                0\n",
       "release_date    2066\n",
       "tags               0\n",
       "specs              0\n",
       "price           1369\n",
       "id                 0\n",
       "dtype: int64"
      ]
     },
     "execution_count": 37,
     "metadata": {},
     "output_type": "execute_result"
    }
   ],
   "source": [
    "data_games.isna().sum()"
   ]
  },
  {
   "cell_type": "markdown",
   "metadata": {},
   "source": [
    "* Obteniendo categorias únicas para genres, tags y specs en cada registro:"
   ]
  },
  {
   "cell_type": "code",
   "execution_count": 38,
   "metadata": {
    "ExecuteTime": {
     "end_time": "2020-10-23T04:05:56.227918Z",
     "start_time": "2020-10-23T04:05:54.419543Z"
    }
   },
   "outputs": [],
   "source": [
    "#Todas las categorías\n",
    "data_games['categories'] = data_games['genres'] + data_games['tags'] + data_games['specs']\n",
    "\n",
    "#Obtencion de categorías únicas\n",
    "data_games['categories'] = [np.unique(cat) for cat in data_games.categories]\n",
    "\n",
    "#Removiendo caracteres, ej: Single-player singleplayer, Multiplayer, MultiPlayer, Multi-Player\n",
    "data_games['categories'] = [[re.sub(r'[^\\w\\s]', '', subcat).lower() for subcat in cat] for cat in data_games.categories]"
   ]
  },
  {
   "cell_type": "markdown",
   "metadata": {},
   "source": [
    "* Obteniendo categorías válidas (manualmente):"
   ]
  },
  {
   "cell_type": "code",
   "execution_count": 39,
   "metadata": {
    "ExecuteTime": {
     "end_time": "2020-10-23T04:05:56.692764Z",
     "start_time": "2020-10-23T04:05:56.228903Z"
    }
   },
   "outputs": [
    {
     "data": {
      "text/plain": [
       "array(['1980s', '1990s', '25d', '2d', '2d fighter', '360 video',\n",
       "       '3d platformer', '3d vision', '4 player local', '4x', '6dof',\n",
       "       'abstract', 'accounting', 'action', 'action rpg',\n",
       "       'actionadventure', 'adventure', 'agriculture', 'aliens',\n",
       "       'alternate history', 'america', 'animation  modeling',\n",
       "       'animation amp modeling', 'anime', 'arcade', 'arena shooter',\n",
       "       'artificial intelligence', 'assassin', 'asynchronous multiplayer',\n",
       "       'atmospheric', 'audio production', 'base building',\n",
       "       'based on a novel', 'basketball', 'batman', 'beat em up',\n",
       "       'benchmark', 'bikes', 'blood', 'board game', 'bowling', 'building',\n",
       "       'bullet hell', 'bullet time', 'capitalism', 'captions available',\n",
       "       'card game', 'cartoon', 'cartoony', 'casual',\n",
       "       'character action game', 'character customization', 'chess',\n",
       "       'choices matter', 'choose your own adventure', 'cinematic',\n",
       "       'city builder', 'classbased', 'classic', 'clicker', 'cold war',\n",
       "       'colorful', 'comedy', 'comic book', 'commentary available',\n",
       "       'competitive', 'conspiracy', 'controller', 'conversation', 'coop',\n",
       "       'coop campaign', 'crafting', 'crime', 'crossplatform multiplayer',\n",
       "       'crowdfunded', 'crpg', 'cult classic', 'cute', 'cyberpunk',\n",
       "       'cycling', 'dark', 'dark comedy', 'dark fantasy', 'dark humor',\n",
       "       'dating sim', 'demons', 'design  illustration',\n",
       "       'design amp illustration', 'destruction', 'detective', 'difficult',\n",
       "       'dinosaurs', 'diplomacy', 'documentary', 'downloadable content',\n",
       "       'dragons', 'drama', 'driving', 'dungeon crawler',\n",
       "       'dynamic narration', 'dystopian', 'early access', 'economy',\n",
       "       'education', 'episodic', 'esports', 'experience', 'experimental',\n",
       "       'exploration', 'faith', 'family friendly', 'fantasy', 'fastpaced',\n",
       "       'feature film', 'female protagonist', 'fighting', 'firstperson',\n",
       "       'fishing', 'flight', 'fmv', 'football', 'foreign', 'fps',\n",
       "       'free to play', 'full controller support', 'funny', 'futuristic',\n",
       "       'gambling', 'game demo', 'game development', 'gamemaker',\n",
       "       'gamepad', 'games workshop', 'gaming', 'god game', 'golf', 'gore',\n",
       "       'gothic', 'grand strategy', 'great soundtrack',\n",
       "       'gridbased movement', 'gun customization', 'hack and slash',\n",
       "       'hacking', 'handdrawn', 'hardware', 'heist', 'hex grid',\n",
       "       'hidden object', 'historical', 'horror', 'horses', 'htc vive',\n",
       "       'hunting', 'illuminati', 'inapp purchases',\n",
       "       'includes level editor', 'includes source sdk', 'indie',\n",
       "       'intentionally awkward controls', 'interactive fiction',\n",
       "       'inventory management', 'investigation', 'isometric', 'jrpg',\n",
       "       'keyboard  mouse', 'kickstarter', 'lara croft', 'lego', 'lemmings',\n",
       "       'level editor', 'linear', 'local coop', 'local multiplayer',\n",
       "       'loot', 'lorerich', 'lovecraftian', 'magic', 'management', 'mars',\n",
       "       'martial arts', 'massively multiplayer', 'match 3', 'mature',\n",
       "       'mechs', 'medieval', 'memes', 'metroidvania', 'military',\n",
       "       'mini golf', 'minimalist', 'mining', 'mmo', 'mmorpg', 'moba',\n",
       "       'mod', 'moddable', 'modern', 'mods', 'mods require hl1',\n",
       "       'mods require hl2', 'mouse only', 'movie', 'multiplayer',\n",
       "       'multiple endings', 'music', 'musicbased procedural generation',\n",
       "       'mystery', 'mystery dungeon', 'mythology', 'narration', 'naval',\n",
       "       'ninja', 'noir', 'nonlinear', 'nsfw', 'nudity', 'oculus rift',\n",
       "       'offroad', 'online coop', 'online multiplayer', 'onrails shooter',\n",
       "       'open world', 'otome', 'parkour', 'parody',\n",
       "       'partial controller support', 'partybased rpg', 'perma death',\n",
       "       'philisophical', 'photo editing', 'physics', 'pinball', 'pirates',\n",
       "       'pixel graphics', 'platformer', 'point  click', 'political',\n",
       "       'politics', 'pool', 'postapocalyptic', 'procedural generation',\n",
       "       'programming', 'psychedelic', 'psychological',\n",
       "       'psychological horror', 'puzzle', 'puzzleplatformer', 'pve', 'pvp',\n",
       "       'quicktime events', 'racing', 'real time tactics', 'realistic',\n",
       "       'realtime', 'realtime with pause', 'relaxing', 'remake',\n",
       "       'replay value', 'resource management', 'retro', 'rhythm', 'robots',\n",
       "       'roguelike', 'roguelite', 'romance', 'rome', 'roomscale', 'rpg',\n",
       "       'rpgmaker', 'rts', 'runner', 'sailing', 'sandbox', 'satire',\n",
       "       'science', 'scifi', 'score attack', 'seated', 'sexual content',\n",
       "       'sharedsplit screen', 'shoot em up', 'shooter', 'short',\n",
       "       'side scroller', 'silent protagonist', 'simulation',\n",
       "       'singleplayer', 'sniper', 'soccer', 'software',\n",
       "       'software training', 'sokoban', 'soundtrack', 'space', 'space sim',\n",
       "       'spectacle fighter', 'spelling', 'split screen', 'sports',\n",
       "       'standing', 'star wars', 'stats', 'stealth', 'steam achievements',\n",
       "       'steam cloud', 'steam leaderboards', 'steam machine',\n",
       "       'steam trading cards', 'steam turn notifications',\n",
       "       'steam workshop', 'steampunk', 'steamvr collectibles',\n",
       "       'story rich', 'strategy', 'strategy rpg', 'stylized', 'superhero',\n",
       "       'supernatural', 'surreal', 'survival', 'survival horror',\n",
       "       'swordplay', 'tactical', 'tactical rpg', 'tanks', 'teambased',\n",
       "       'textbased', 'third person', 'thirdperson shooter', 'thriller',\n",
       "       'time attack', 'time manipulation', 'time travel', 'topdown',\n",
       "       'topdown shooter', 'touchfriendly', 'tower defense',\n",
       "       'tracked motion controllers', 'trackir', 'trading',\n",
       "       'trading card game', 'trains', 'transhumanism', 'turnbased',\n",
       "       'turnbased combat', 'turnbased strategy', 'turnbased tactics',\n",
       "       'tutorial', 'twin stick shooter', 'typing', 'underground',\n",
       "       'underwater', 'utilities', 'valve anticheat enabled', 'vampire',\n",
       "       'video production', 'villain protagonist', 'violent',\n",
       "       'visual novel', 'voice control', 'voxel', 'vr',\n",
       "       'walking simulator', 'war', 'wargame', 'warhammer 40k',\n",
       "       'web publishing', 'werewolves', 'western', 'windows mixed reality',\n",
       "       'word game', 'world war i', 'world war ii', 'wrestling', 'zombies'],\n",
       "      dtype='<U32')"
      ]
     },
     "execution_count": 39,
     "metadata": {},
     "output_type": "execute_result"
    }
   ],
   "source": [
    "np.unique(list(itertools.chain(*data_games.categories)))"
   ]
  },
  {
   "cell_type": "markdown",
   "metadata": {},
   "source": [
    "* Verificando manualmente algunas de éstas categorías: En éste paso, realizamos una tediosa y necesaria labor de identificar cada una de estas categorías y aproximar su validez para un videojuego. Las categorías recoletadas se listan debajo."
   ]
  },
  {
   "cell_type": "code",
   "execution_count": 40,
   "metadata": {
    "ExecuteTime": {
     "end_time": "2020-10-23T04:05:56.705727Z",
     "start_time": "2020-10-23T04:05:56.697744Z"
    }
   },
   "outputs": [],
   "source": [
    "INVALID_CATEGORIES = ['photo editing', 'game development', 'documentary', 'video production', 'tutorial', 'software',\n",
    "                      'movie', 'software training', 'soundtrack', 'utilities', 'accounting', 'downloadable content']"
   ]
  },
  {
   "cell_type": "markdown",
   "metadata": {},
   "source": [
    "La categoría \"downloadable content\", por ejemplo, está relacionada con packs de videojuegos (Verificado al acceder a la URL). Es decir, en este dataset encontramos videojuegos con sus packs respectivos y éstos últimos son elementos que no deberían estar en el sistema de recomendación objetivo.\n",
    "Para evidenciar lo dicho anteriormente, filtramos por la categoria de ejemplo y notamos a simple vista que algunos registros son complementos de un videojuego con nombre \"SNOW\" e identificador \"244930\"."
   ]
  },
  {
   "cell_type": "code",
   "execution_count": 41,
   "metadata": {
    "ExecuteTime": {
     "end_time": "2020-10-23T04:05:56.720682Z",
     "start_time": "2020-10-23T04:05:56.707719Z"
    }
   },
   "outputs": [],
   "source": [
    "def getTuplesPandas(search_list):\n",
    "    return [game for game in data_games.itertuples()\n",
    "            if np.isin(search_list, game.categories).sum() > 0]"
   ]
  },
  {
   "cell_type": "code",
   "execution_count": 42,
   "metadata": {
    "ExecuteTime": {
     "end_time": "2020-10-23T04:05:58.631428Z",
     "start_time": "2020-10-23T04:05:56.723673Z"
    }
   },
   "outputs": [
    {
     "data": {
      "text/html": [
       "<div>\n",
       "<style scoped>\n",
       "    .dataframe tbody tr th:only-of-type {\n",
       "        vertical-align: middle;\n",
       "    }\n",
       "\n",
       "    .dataframe tbody tr th {\n",
       "        vertical-align: top;\n",
       "    }\n",
       "\n",
       "    .dataframe thead th {\n",
       "        text-align: right;\n",
       "    }\n",
       "</style>\n",
       "<table border=\"1\" class=\"dataframe\">\n",
       "  <thead>\n",
       "    <tr style=\"text-align: right;\">\n",
       "      <th></th>\n",
       "      <th>Index</th>\n",
       "      <th>publisher</th>\n",
       "      <th>genres</th>\n",
       "      <th>app_name</th>\n",
       "      <th>url</th>\n",
       "      <th>release_date</th>\n",
       "      <th>tags</th>\n",
       "      <th>specs</th>\n",
       "      <th>price</th>\n",
       "      <th>id</th>\n",
       "      <th>categories</th>\n",
       "    </tr>\n",
       "  </thead>\n",
       "  <tbody>\n",
       "    <tr>\n",
       "      <th>0</th>\n",
       "      <td>6</td>\n",
       "      <td>NaN</td>\n",
       "      <td>[Free to Play, Indie, Simulation, Sports]</td>\n",
       "      <td>SNOW - All Access Basic Pass</td>\n",
       "      <td>http://store.steampowered.com/app/774276/SNOW_...</td>\n",
       "      <td>2018-01-04</td>\n",
       "      <td>[Free to Play, Indie, Simulation, Sports]</td>\n",
       "      <td>[Single-player, Multi-player, Online Multi-Pla...</td>\n",
       "      <td>9.99</td>\n",
       "      <td>774276</td>\n",
       "      <td>[crossplatform multiplayer, downloadable conte...</td>\n",
       "    </tr>\n",
       "    <tr>\n",
       "      <th>1</th>\n",
       "      <td>7</td>\n",
       "      <td>Poppermost Productions</td>\n",
       "      <td>[Free to Play, Indie, Simulation, Sports]</td>\n",
       "      <td>SNOW - All Access Pro Pass</td>\n",
       "      <td>http://store.steampowered.com/app/774277/SNOW_...</td>\n",
       "      <td>2018-01-04</td>\n",
       "      <td>[Free to Play, Indie, Simulation, Sports]</td>\n",
       "      <td>[Single-player, Multi-player, Online Multi-Pla...</td>\n",
       "      <td>18.99</td>\n",
       "      <td>774277</td>\n",
       "      <td>[crossplatform multiplayer, downloadable conte...</td>\n",
       "    </tr>\n",
       "    <tr>\n",
       "      <th>2</th>\n",
       "      <td>8</td>\n",
       "      <td>Poppermost Productions</td>\n",
       "      <td>[Free to Play, Indie, Simulation, Sports]</td>\n",
       "      <td>SNOW - All Access Legend Pass</td>\n",
       "      <td>http://store.steampowered.com/app/774278/SNOW_...</td>\n",
       "      <td>2018-01-04</td>\n",
       "      <td>[Free to Play, Indie, Simulation, Sports]</td>\n",
       "      <td>[Single-player, Multi-player, Online Multi-Pla...</td>\n",
       "      <td>29.99</td>\n",
       "      <td>774278</td>\n",
       "      <td>[crossplatform multiplayer, downloadable conte...</td>\n",
       "    </tr>\n",
       "    <tr>\n",
       "      <th>3</th>\n",
       "      <td>16</td>\n",
       "      <td>Poppermost Productions</td>\n",
       "      <td>[Free to Play, Indie, Simulation, Sports]</td>\n",
       "      <td>SNOW - Starter Pack</td>\n",
       "      <td>http://store.steampowered.com/app/774271/SNOW_...</td>\n",
       "      <td>2018-01-03</td>\n",
       "      <td>[Free to Play, Indie, Simulation, Sports]</td>\n",
       "      <td>[Single-player, Multi-player, Online Multi-Pla...</td>\n",
       "      <td>14.99</td>\n",
       "      <td>774271</td>\n",
       "      <td>[crossplatform multiplayer, downloadable conte...</td>\n",
       "    </tr>\n",
       "    <tr>\n",
       "      <th>4</th>\n",
       "      <td>17</td>\n",
       "      <td>Apillo</td>\n",
       "      <td>[Adventure, Casual, Indie, Simulation, Strategy]</td>\n",
       "      <td>The first thrust of God - All Aircrafts</td>\n",
       "      <td>http://store.steampowered.com/app/773690/The_f...</td>\n",
       "      <td>2018-01-03</td>\n",
       "      <td>[Strategy, Adventure, Indie, Casual, Simulatio...</td>\n",
       "      <td>[Single-player, Downloadable Content, Steam Ac...</td>\n",
       "      <td>1.99</td>\n",
       "      <td>773690</td>\n",
       "      <td>[adventure, casual, downloadable content, indi...</td>\n",
       "    </tr>\n",
       "    <tr>\n",
       "      <th>5</th>\n",
       "      <td>18</td>\n",
       "      <td>Poppermost Productions</td>\n",
       "      <td>[Free to Play, Indie, Simulation, Sports]</td>\n",
       "      <td>SNOW - Lifetime Pack</td>\n",
       "      <td>http://store.steampowered.com/app/774279/SNOW_...</td>\n",
       "      <td>2018-01-03</td>\n",
       "      <td>[Free to Play, Indie, Simulation, Sports]</td>\n",
       "      <td>[Single-player, Multi-player, Online Multi-Pla...</td>\n",
       "      <td>59.99</td>\n",
       "      <td>774279</td>\n",
       "      <td>[crossplatform multiplayer, downloadable conte...</td>\n",
       "    </tr>\n",
       "    <tr>\n",
       "      <th>6</th>\n",
       "      <td>23</td>\n",
       "      <td>FrozenPepper</td>\n",
       "      <td>[Racing, Simulation, Sports]</td>\n",
       "      <td>RC Plane 3 - Canyon Scenario</td>\n",
       "      <td>http://store.steampowered.com/app/775880/RC_Pl...</td>\n",
       "      <td>2017-12-22</td>\n",
       "      <td>[Simulation, Racing, Sports]</td>\n",
       "      <td>[Single-player, Downloadable Content, Steam Ac...</td>\n",
       "      <td>2.99</td>\n",
       "      <td>775880</td>\n",
       "      <td>[downloadable content, partial controller supp...</td>\n",
       "    </tr>\n",
       "  </tbody>\n",
       "</table>\n",
       "</div>"
      ],
      "text/plain": [
       "   Index               publisher  \\\n",
       "0      6                     NaN   \n",
       "1      7  Poppermost Productions   \n",
       "2      8  Poppermost Productions   \n",
       "3     16  Poppermost Productions   \n",
       "4     17                  Apillo   \n",
       "5     18  Poppermost Productions   \n",
       "6     23            FrozenPepper   \n",
       "\n",
       "                                             genres  \\\n",
       "0         [Free to Play, Indie, Simulation, Sports]   \n",
       "1         [Free to Play, Indie, Simulation, Sports]   \n",
       "2         [Free to Play, Indie, Simulation, Sports]   \n",
       "3         [Free to Play, Indie, Simulation, Sports]   \n",
       "4  [Adventure, Casual, Indie, Simulation, Strategy]   \n",
       "5         [Free to Play, Indie, Simulation, Sports]   \n",
       "6                      [Racing, Simulation, Sports]   \n",
       "\n",
       "                                  app_name  \\\n",
       "0             SNOW - All Access Basic Pass   \n",
       "1               SNOW - All Access Pro Pass   \n",
       "2            SNOW - All Access Legend Pass   \n",
       "3                      SNOW - Starter Pack   \n",
       "4  The first thrust of God - All Aircrafts   \n",
       "5                     SNOW - Lifetime Pack   \n",
       "6             RC Plane 3 - Canyon Scenario   \n",
       "\n",
       "                                                 url release_date  \\\n",
       "0  http://store.steampowered.com/app/774276/SNOW_...   2018-01-04   \n",
       "1  http://store.steampowered.com/app/774277/SNOW_...   2018-01-04   \n",
       "2  http://store.steampowered.com/app/774278/SNOW_...   2018-01-04   \n",
       "3  http://store.steampowered.com/app/774271/SNOW_...   2018-01-03   \n",
       "4  http://store.steampowered.com/app/773690/The_f...   2018-01-03   \n",
       "5  http://store.steampowered.com/app/774279/SNOW_...   2018-01-03   \n",
       "6  http://store.steampowered.com/app/775880/RC_Pl...   2017-12-22   \n",
       "\n",
       "                                                tags  \\\n",
       "0          [Free to Play, Indie, Simulation, Sports]   \n",
       "1          [Free to Play, Indie, Simulation, Sports]   \n",
       "2          [Free to Play, Indie, Simulation, Sports]   \n",
       "3          [Free to Play, Indie, Simulation, Sports]   \n",
       "4  [Strategy, Adventure, Indie, Casual, Simulatio...   \n",
       "5          [Free to Play, Indie, Simulation, Sports]   \n",
       "6                       [Simulation, Racing, Sports]   \n",
       "\n",
       "                                               specs  price      id  \\\n",
       "0  [Single-player, Multi-player, Online Multi-Pla...   9.99  774276   \n",
       "1  [Single-player, Multi-player, Online Multi-Pla...  18.99  774277   \n",
       "2  [Single-player, Multi-player, Online Multi-Pla...  29.99  774278   \n",
       "3  [Single-player, Multi-player, Online Multi-Pla...  14.99  774271   \n",
       "4  [Single-player, Downloadable Content, Steam Ac...   1.99  773690   \n",
       "5  [Single-player, Multi-player, Online Multi-Pla...  59.99  774279   \n",
       "6  [Single-player, Downloadable Content, Steam Ac...   2.99  775880   \n",
       "\n",
       "                                          categories  \n",
       "0  [crossplatform multiplayer, downloadable conte...  \n",
       "1  [crossplatform multiplayer, downloadable conte...  \n",
       "2  [crossplatform multiplayer, downloadable conte...  \n",
       "3  [crossplatform multiplayer, downloadable conte...  \n",
       "4  [adventure, casual, downloadable content, indi...  \n",
       "5  [crossplatform multiplayer, downloadable conte...  \n",
       "6  [downloadable content, partial controller supp...  "
      ]
     },
     "execution_count": 42,
     "metadata": {},
     "output_type": "execute_result"
    }
   ],
   "source": [
    "pd.DataFrame(getTuplesPandas(['downloadable content'])).head(7)"
   ]
  },
  {
   "cell_type": "markdown",
   "metadata": {},
   "source": [
    "Buscando el videojuego SNOW:"
   ]
  },
  {
   "cell_type": "code",
   "execution_count": 43,
   "metadata": {
    "ExecuteTime": {
     "end_time": "2020-10-23T04:05:58.687249Z",
     "start_time": "2020-10-23T04:05:58.633392Z"
    }
   },
   "outputs": [
    {
     "data": {
      "text/html": [
       "<div>\n",
       "<style scoped>\n",
       "    .dataframe tbody tr th:only-of-type {\n",
       "        vertical-align: middle;\n",
       "    }\n",
       "\n",
       "    .dataframe tbody tr th {\n",
       "        vertical-align: top;\n",
       "    }\n",
       "\n",
       "    .dataframe thead th {\n",
       "        text-align: right;\n",
       "    }\n",
       "</style>\n",
       "<table border=\"1\" class=\"dataframe\">\n",
       "  <thead>\n",
       "    <tr style=\"text-align: right;\">\n",
       "      <th></th>\n",
       "      <th>publisher</th>\n",
       "      <th>genres</th>\n",
       "      <th>app_name</th>\n",
       "      <th>url</th>\n",
       "      <th>release_date</th>\n",
       "      <th>tags</th>\n",
       "      <th>specs</th>\n",
       "      <th>price</th>\n",
       "      <th>id</th>\n",
       "      <th>categories</th>\n",
       "    </tr>\n",
       "  </thead>\n",
       "  <tbody>\n",
       "    <tr>\n",
       "      <th>1647</th>\n",
       "      <td>Poppermost Productions</td>\n",
       "      <td>[Free to Play, Indie, Simulation, Sports, Earl...</td>\n",
       "      <td>SNOW</td>\n",
       "      <td>http://store.steampowered.com/app/244930/SNOW/</td>\n",
       "      <td>2013-10-10</td>\n",
       "      <td>[Early Access, Sports, Free to Play, Multiplay...</td>\n",
       "      <td>[Single-player, Multi-player, Online Multi-Pla...</td>\n",
       "      <td>Free to Play</td>\n",
       "      <td>244930</td>\n",
       "      <td>[action, adventure, casual, controller, crossp...</td>\n",
       "    </tr>\n",
       "  </tbody>\n",
       "</table>\n",
       "</div>"
      ],
      "text/plain": [
       "                   publisher  \\\n",
       "1647  Poppermost Productions   \n",
       "\n",
       "                                                 genres app_name  \\\n",
       "1647  [Free to Play, Indie, Simulation, Sports, Earl...     SNOW   \n",
       "\n",
       "                                                 url release_date  \\\n",
       "1647  http://store.steampowered.com/app/244930/SNOW/   2013-10-10   \n",
       "\n",
       "                                                   tags  \\\n",
       "1647  [Early Access, Sports, Free to Play, Multiplay...   \n",
       "\n",
       "                                                  specs         price      id  \\\n",
       "1647  [Single-player, Multi-player, Online Multi-Pla...  Free to Play  244930   \n",
       "\n",
       "                                             categories  \n",
       "1647  [action, adventure, casual, controller, crossp...  "
      ]
     },
     "execution_count": 43,
     "metadata": {},
     "output_type": "execute_result"
    }
   ],
   "source": [
    "data_games.query('id==\"244930\"')"
   ]
  },
  {
   "cell_type": "markdown",
   "metadata": {},
   "source": [
    "Esto confirma la existencia de muchos complementos, la estrategia mencionada al inicio es separar todos los complementos, utilidades y herramientas adicionales en otro dataset para realizar un análisis con ellos."
   ]
  },
  {
   "cell_type": "markdown",
   "metadata": {},
   "source": [
    "* Sumando al dataframe aquellos ítems de esas categorías:"
   ]
  },
  {
   "cell_type": "code",
   "execution_count": 44,
   "metadata": {
    "ExecuteTime": {
     "end_time": "2020-10-23T04:06:00.463101Z",
     "start_time": "2020-10-23T04:05:58.689241Z"
    }
   },
   "outputs": [],
   "source": [
    "df_no_games = df_no_games.append(getTuplesPandas(INVALID_CATEGORIES))"
   ]
  },
  {
   "cell_type": "code",
   "execution_count": 45,
   "metadata": {
    "ExecuteTime": {
     "end_time": "2020-10-23T04:06:00.471609Z",
     "start_time": "2020-10-23T04:06:00.463101Z"
    }
   },
   "outputs": [
    {
     "data": {
      "text/plain": [
       "(14146, 11)"
      ]
     },
     "execution_count": 45,
     "metadata": {},
     "output_type": "execute_result"
    }
   ],
   "source": [
    "df_no_games.shape"
   ]
  },
  {
   "cell_type": "code",
   "execution_count": 46,
   "metadata": {
    "ExecuteTime": {
     "end_time": "2020-10-23T04:06:00.482578Z",
     "start_time": "2020-10-23T04:06:00.473602Z"
    }
   },
   "outputs": [
    {
     "data": {
      "text/plain": [
       "Index(['publisher', 'genres', 'app_name', 'url', 'release_date', 'tags',\n",
       "       'specs', 'price', 'id', 'Index', 'categories'],\n",
       "      dtype='object')"
      ]
     },
     "execution_count": 46,
     "metadata": {},
     "output_type": "execute_result"
    }
   ],
   "source": [
    "df_no_games.columns"
   ]
  },
  {
   "cell_type": "code",
   "execution_count": 47,
   "metadata": {
    "ExecuteTime": {
     "end_time": "2020-10-23T04:06:00.519479Z",
     "start_time": "2020-10-23T04:06:00.485575Z"
    }
   },
   "outputs": [],
   "source": [
    "df_no_games.drop('Index', axis=1, inplace=True)"
   ]
  },
  {
   "cell_type": "code",
   "execution_count": 48,
   "metadata": {
    "ExecuteTime": {
     "end_time": "2020-10-23T04:06:00.540449Z",
     "start_time": "2020-10-23T04:06:00.522471Z"
    }
   },
   "outputs": [
    {
     "name": "stdout",
     "output_type": "stream",
     "text": [
      "(14146, 10)\n"
     ]
    },
    {
     "data": {
      "text/html": [
       "<div>\n",
       "<style scoped>\n",
       "    .dataframe tbody tr th:only-of-type {\n",
       "        vertical-align: middle;\n",
       "    }\n",
       "\n",
       "    .dataframe tbody tr th {\n",
       "        vertical-align: top;\n",
       "    }\n",
       "\n",
       "    .dataframe thead th {\n",
       "        text-align: right;\n",
       "    }\n",
       "</style>\n",
       "<table border=\"1\" class=\"dataframe\">\n",
       "  <thead>\n",
       "    <tr style=\"text-align: right;\">\n",
       "      <th></th>\n",
       "      <th>publisher</th>\n",
       "      <th>genres</th>\n",
       "      <th>app_name</th>\n",
       "      <th>url</th>\n",
       "      <th>release_date</th>\n",
       "      <th>tags</th>\n",
       "      <th>specs</th>\n",
       "      <th>price</th>\n",
       "      <th>id</th>\n",
       "      <th>categories</th>\n",
       "    </tr>\n",
       "  </thead>\n",
       "  <tbody>\n",
       "    <tr>\n",
       "      <th>26</th>\n",
       "      <td>NaN</td>\n",
       "      <td>NaN</td>\n",
       "      <td>Robotpencil Presents: Understanding 3D for Con...</td>\n",
       "      <td>http://store.steampowered.com/app/777910/Robot...</td>\n",
       "      <td>2018-01-03</td>\n",
       "      <td>[Design &amp; Illustration, Tutorial]</td>\n",
       "      <td>NaN</td>\n",
       "      <td>4.99</td>\n",
       "      <td>777910</td>\n",
       "      <td>NaN</td>\n",
       "    </tr>\n",
       "    <tr>\n",
       "      <th>2476</th>\n",
       "      <td>NaN</td>\n",
       "      <td>NaN</td>\n",
       "      <td>Us and the Game Industry</td>\n",
       "      <td>http://store.steampowered.com/app/360290/Us_an...</td>\n",
       "      <td>2014-07-28</td>\n",
       "      <td>[Indie, Game Development, Documentary, Gaming]</td>\n",
       "      <td>NaN</td>\n",
       "      <td>4.99</td>\n",
       "      <td>360290</td>\n",
       "      <td>NaN</td>\n",
       "    </tr>\n",
       "    <tr>\n",
       "      <th>2690</th>\n",
       "      <td>NaN</td>\n",
       "      <td>NaN</td>\n",
       "      <td>Double Action Dedicated Server</td>\n",
       "      <td>http://store.steampowered.com/app/317800/Doubl...</td>\n",
       "      <td>2014-10-01</td>\n",
       "      <td>[Free to Play]</td>\n",
       "      <td>NaN</td>\n",
       "      <td>NaN</td>\n",
       "      <td>317800</td>\n",
       "      <td>NaN</td>\n",
       "    </tr>\n",
       "    <tr>\n",
       "      <th>3394</th>\n",
       "      <td>NaN</td>\n",
       "      <td>NaN</td>\n",
       "      <td>From Bedrooms to Billions</td>\n",
       "      <td>http://store.steampowered.com/app/342430/From_...</td>\n",
       "      <td>2015-03-31</td>\n",
       "      <td>[Game Development, Documentary, Retro, Gaming]</td>\n",
       "      <td>NaN</td>\n",
       "      <td>9.99</td>\n",
       "      <td>342430</td>\n",
       "      <td>NaN</td>\n",
       "    </tr>\n",
       "    <tr>\n",
       "      <th>3478</th>\n",
       "      <td>NaN</td>\n",
       "      <td>NaN</td>\n",
       "      <td>Mortal Kombat: Legacy II</td>\n",
       "      <td>http://store.steampowered.com/app/362280/Morta...</td>\n",
       "      <td>2013-09-26</td>\n",
       "      <td>[Fighting, Action, Episodic, Free to Play]</td>\n",
       "      <td>NaN</td>\n",
       "      <td>Free</td>\n",
       "      <td>362280</td>\n",
       "      <td>NaN</td>\n",
       "    </tr>\n",
       "  </tbody>\n",
       "</table>\n",
       "</div>"
      ],
      "text/plain": [
       "     publisher genres                                           app_name  \\\n",
       "26         NaN    NaN  Robotpencil Presents: Understanding 3D for Con...   \n",
       "2476       NaN    NaN                           Us and the Game Industry   \n",
       "2690       NaN    NaN                     Double Action Dedicated Server   \n",
       "3394       NaN    NaN                          From Bedrooms to Billions   \n",
       "3478       NaN    NaN                           Mortal Kombat: Legacy II   \n",
       "\n",
       "                                                    url release_date  \\\n",
       "26    http://store.steampowered.com/app/777910/Robot...   2018-01-03   \n",
       "2476  http://store.steampowered.com/app/360290/Us_an...   2014-07-28   \n",
       "2690  http://store.steampowered.com/app/317800/Doubl...   2014-10-01   \n",
       "3394  http://store.steampowered.com/app/342430/From_...   2015-03-31   \n",
       "3478  http://store.steampowered.com/app/362280/Morta...   2013-09-26   \n",
       "\n",
       "                                                tags specs price      id  \\\n",
       "26                 [Design & Illustration, Tutorial]   NaN  4.99  777910   \n",
       "2476  [Indie, Game Development, Documentary, Gaming]   NaN  4.99  360290   \n",
       "2690                                  [Free to Play]   NaN   NaN  317800   \n",
       "3394  [Game Development, Documentary, Retro, Gaming]   NaN  9.99  342430   \n",
       "3478      [Fighting, Action, Episodic, Free to Play]   NaN  Free  362280   \n",
       "\n",
       "     categories  \n",
       "26          NaN  \n",
       "2476        NaN  \n",
       "2690        NaN  \n",
       "3394        NaN  \n",
       "3478        NaN  "
      ]
     },
     "execution_count": 48,
     "metadata": {},
     "output_type": "execute_result"
    }
   ],
   "source": [
    "print(df_no_games.shape)\n",
    "df_no_games.head()"
   ]
  },
  {
   "cell_type": "markdown",
   "metadata": {},
   "source": [
    "* Filtrando videojuegos:"
   ]
  },
  {
   "cell_type": "code",
   "execution_count": 49,
   "metadata": {
    "ExecuteTime": {
     "end_time": "2020-10-23T04:06:00.635243Z",
     "start_time": "2020-10-23T04:06:00.542444Z"
    }
   },
   "outputs": [],
   "source": [
    "data_games = data_games[~data_games.id.isin(df_no_games.id)]"
   ]
  },
  {
   "cell_type": "code",
   "execution_count": 50,
   "metadata": {
    "ExecuteTime": {
     "end_time": "2020-10-23T04:06:00.707055Z",
     "start_time": "2020-10-23T04:06:00.636209Z"
    }
   },
   "outputs": [
    {
     "data": {
      "text/plain": [
       "(17986, 10)"
      ]
     },
     "execution_count": 50,
     "metadata": {},
     "output_type": "execute_result"
    }
   ],
   "source": [
    "data_games.shape"
   ]
  },
  {
   "cell_type": "markdown",
   "metadata": {},
   "source": [
    "Eliminando columnas \"specs\" y \"tags\":"
   ]
  },
  {
   "cell_type": "code",
   "execution_count": 51,
   "metadata": {
    "ExecuteTime": {
     "end_time": "2020-10-23T04:06:00.786838Z",
     "start_time": "2020-10-23T04:06:00.709022Z"
    }
   },
   "outputs": [],
   "source": [
    "data_games.drop(['specs', 'tags'], inplace=True, axis=1)"
   ]
  },
  {
   "cell_type": "markdown",
   "metadata": {
    "ExecuteTime": {
     "end_time": "2020-10-21T23:29:56.544912Z",
     "start_time": "2020-10-21T23:29:56.539886Z"
    }
   },
   "source": [
    "Ahora, rellenando con valores faltantes las listas vacías en columna \"genres\":"
   ]
  },
  {
   "cell_type": "code",
   "execution_count": 52,
   "metadata": {
    "ExecuteTime": {
     "end_time": "2020-10-23T04:06:00.864629Z",
     "start_time": "2020-10-23T04:06:00.787804Z"
    }
   },
   "outputs": [],
   "source": [
    "data_games['genres'] = data_games['genres'].apply(lambda x: np.nan if len(x) == 0 else x)"
   ]
  },
  {
   "cell_type": "code",
   "execution_count": 53,
   "metadata": {
    "ExecuteTime": {
     "end_time": "2020-10-23T04:06:00.951512Z",
     "start_time": "2020-10-23T04:06:00.867592Z"
    }
   },
   "outputs": [
    {
     "data": {
      "text/plain": [
       "publisher       2097\n",
       "genres          2018\n",
       "app_name           0\n",
       "url                0\n",
       "release_date    1922\n",
       "price            920\n",
       "id                 0\n",
       "categories         0\n",
       "dtype: int64"
      ]
     },
     "execution_count": 53,
     "metadata": {},
     "output_type": "execute_result"
    }
   ],
   "source": [
    "data_games.isna().sum()"
   ]
  },
  {
   "cell_type": "markdown",
   "metadata": {},
   "source": [
    "#### Procesamiento de precios"
   ]
  },
  {
   "cell_type": "markdown",
   "metadata": {},
   "source": [
    "La columna \"price\" esta conforma por valores numéricos y categóricos:"
   ]
  },
  {
   "cell_type": "code",
   "execution_count": 54,
   "metadata": {
    "ExecuteTime": {
     "end_time": "2020-10-23T04:06:00.992388Z",
     "start_time": "2020-10-23T04:06:00.953481Z"
    }
   },
   "outputs": [],
   "source": [
    "category_prices = lambda x: np.unique(np.array([i for i in list(x) if type(i) == str]))"
   ]
  },
  {
   "cell_type": "markdown",
   "metadata": {},
   "source": [
    "* Categoría de precios"
   ]
  },
  {
   "cell_type": "code",
   "execution_count": 55,
   "metadata": {
    "ExecuteTime": {
     "end_time": "2020-10-23T04:06:01.029286Z",
     "start_time": "2020-10-23T04:06:00.994366Z"
    }
   },
   "outputs": [
    {
     "data": {
      "text/plain": [
       "array(['Free', 'Free Demo', 'Free HITMAN™ Holiday Pack', 'Free Mod',\n",
       "       'Free To Play', 'Free to Play', 'Play WARMACHINE: Tactics Demo',\n",
       "       'Play for Free!', 'Play the Demo', 'Third-party'], dtype='<U29')"
      ]
     },
     "execution_count": 55,
     "metadata": {},
     "output_type": "execute_result"
    }
   ],
   "source": [
    "category_prices(data_games.price)"
   ]
  },
  {
   "cell_type": "markdown",
   "metadata": {},
   "source": [
    "* Categoría de precios dataset de utilidades:"
   ]
  },
  {
   "cell_type": "code",
   "execution_count": 56,
   "metadata": {
    "ExecuteTime": {
     "end_time": "2020-10-23T04:06:01.074159Z",
     "start_time": "2020-10-23T04:06:01.031275Z"
    }
   },
   "outputs": [
    {
     "data": {
      "text/plain": [
       "array(['Free', 'Free Movie', 'Free To Play', 'Free to Play',\n",
       "       'Free to Try', 'Free to Use', 'Install Now', 'Install Theme',\n",
       "       'Play Now', 'Starting at $449.00', 'Starting at $499.00',\n",
       "       'Third-party'], dtype='<U19')"
      ]
     },
     "execution_count": 56,
     "metadata": {},
     "output_type": "execute_result"
    }
   ],
   "source": [
    "category_prices(df_no_games.price)"
   ]
  },
  {
   "cell_type": "markdown",
   "metadata": {},
   "source": [
    "Creando nuevas categorías para la columna precio, actualmente contamos con valores numéricos y categóricos, la única categoría que se transformará a \"paid\" es \"Starting at $499.00\" del dataset de utilidades, el resto quedará como \"free\".  \n",
    "Con la siguiente función se procesarán éstas categorías y al mismo tiempo, los valores faltantes se convertirán a \"paid\" (tal vez algunos sean videojuegos gratuitos pero ésto no tiene gran impacto en el análisis)."
   ]
  },
  {
   "cell_type": "code",
   "execution_count": 57,
   "metadata": {
    "ExecuteTime": {
     "end_time": "2020-10-23T04:06:01.094098Z",
     "start_time": "2020-10-23T04:06:01.076147Z"
    }
   },
   "outputs": [],
   "source": [
    "def transform_prices(df):\n",
    "    df['category_price'] = df.price.apply(\n",
    "        lambda p: 'paid' if (type(p) == float or p.startswith('Starting')) else 'free')\n",
    "    df.drop('price', axis=1, inplace=True)"
   ]
  },
  {
   "cell_type": "code",
   "execution_count": 58,
   "metadata": {
    "ExecuteTime": {
     "end_time": "2020-10-23T04:06:01.163911Z",
     "start_time": "2020-10-23T04:06:01.095095Z"
    }
   },
   "outputs": [
    {
     "data": {
      "text/html": [
       "<div>\n",
       "<style scoped>\n",
       "    .dataframe tbody tr th:only-of-type {\n",
       "        vertical-align: middle;\n",
       "    }\n",
       "\n",
       "    .dataframe tbody tr th {\n",
       "        vertical-align: top;\n",
       "    }\n",
       "\n",
       "    .dataframe thead th {\n",
       "        text-align: right;\n",
       "    }\n",
       "</style>\n",
       "<table border=\"1\" class=\"dataframe\">\n",
       "  <thead>\n",
       "    <tr style=\"text-align: right;\">\n",
       "      <th></th>\n",
       "      <th>publisher</th>\n",
       "      <th>genres</th>\n",
       "      <th>app_name</th>\n",
       "      <th>url</th>\n",
       "      <th>release_date</th>\n",
       "      <th>id</th>\n",
       "      <th>categories</th>\n",
       "      <th>category_price</th>\n",
       "    </tr>\n",
       "  </thead>\n",
       "  <tbody>\n",
       "    <tr>\n",
       "      <th>0</th>\n",
       "      <td>Kotoshiro</td>\n",
       "      <td>[Action, Casual, Indie, Simulation, Strategy]</td>\n",
       "      <td>Lost Summoner Kitty</td>\n",
       "      <td>http://store.steampowered.com/app/761140/Lost_...</td>\n",
       "      <td>2018-01-04</td>\n",
       "      <td>761140</td>\n",
       "      <td>[action, casual, indie, simulation, singleplay...</td>\n",
       "      <td>paid</td>\n",
       "    </tr>\n",
       "    <tr>\n",
       "      <th>1</th>\n",
       "      <td>Making Fun, Inc.</td>\n",
       "      <td>[Free to Play, Indie, RPG, Strategy]</td>\n",
       "      <td>Ironbound</td>\n",
       "      <td>http://store.steampowered.com/app/643980/Ironb...</td>\n",
       "      <td>2018-01-04</td>\n",
       "      <td>643980</td>\n",
       "      <td>[2d, board game, card game, character customiz...</td>\n",
       "      <td>free</td>\n",
       "    </tr>\n",
       "    <tr>\n",
       "      <th>2</th>\n",
       "      <td>Poolians.com</td>\n",
       "      <td>[Casual, Free to Play, Indie, Simulation, Sports]</td>\n",
       "      <td>Real Pool 3D - Poolians</td>\n",
       "      <td>http://store.steampowered.com/app/670290/Real_...</td>\n",
       "      <td>2017-07-24</td>\n",
       "      <td>670290</td>\n",
       "      <td>[casual, free to play, inapp purchases, indie,...</td>\n",
       "      <td>free</td>\n",
       "    </tr>\n",
       "    <tr>\n",
       "      <th>3</th>\n",
       "      <td>彼岸领域</td>\n",
       "      <td>[Action, Adventure, Casual]</td>\n",
       "      <td>弹炸人2222</td>\n",
       "      <td>http://store.steampowered.com/app/767400/2222/</td>\n",
       "      <td>2017-12-07</td>\n",
       "      <td>767400</td>\n",
       "      <td>[action, adventure, casual, singleplayer]</td>\n",
       "      <td>paid</td>\n",
       "    </tr>\n",
       "    <tr>\n",
       "      <th>4</th>\n",
       "      <td>NaN</td>\n",
       "      <td>NaN</td>\n",
       "      <td>Log Challenge</td>\n",
       "      <td>http://store.steampowered.com/app/773570/Log_C...</td>\n",
       "      <td>NaN</td>\n",
       "      <td>773570</td>\n",
       "      <td>[action, casual, full controller support, htc ...</td>\n",
       "      <td>paid</td>\n",
       "    </tr>\n",
       "  </tbody>\n",
       "</table>\n",
       "</div>"
      ],
      "text/plain": [
       "          publisher                                             genres  \\\n",
       "0         Kotoshiro      [Action, Casual, Indie, Simulation, Strategy]   \n",
       "1  Making Fun, Inc.               [Free to Play, Indie, RPG, Strategy]   \n",
       "2      Poolians.com  [Casual, Free to Play, Indie, Simulation, Sports]   \n",
       "3              彼岸领域                        [Action, Adventure, Casual]   \n",
       "4               NaN                                                NaN   \n",
       "\n",
       "                  app_name                                                url  \\\n",
       "0      Lost Summoner Kitty  http://store.steampowered.com/app/761140/Lost_...   \n",
       "1                Ironbound  http://store.steampowered.com/app/643980/Ironb...   \n",
       "2  Real Pool 3D - Poolians  http://store.steampowered.com/app/670290/Real_...   \n",
       "3                  弹炸人2222     http://store.steampowered.com/app/767400/2222/   \n",
       "4            Log Challenge  http://store.steampowered.com/app/773570/Log_C...   \n",
       "\n",
       "  release_date      id                                         categories  \\\n",
       "0   2018-01-04  761140  [action, casual, indie, simulation, singleplay...   \n",
       "1   2018-01-04  643980  [2d, board game, card game, character customiz...   \n",
       "2   2017-07-24  670290  [casual, free to play, inapp purchases, indie,...   \n",
       "3   2017-12-07  767400          [action, adventure, casual, singleplayer]   \n",
       "4          NaN  773570  [action, casual, full controller support, htc ...   \n",
       "\n",
       "  category_price  \n",
       "0           paid  \n",
       "1           free  \n",
       "2           free  \n",
       "3           paid  \n",
       "4           paid  "
      ]
     },
     "execution_count": 58,
     "metadata": {},
     "output_type": "execute_result"
    }
   ],
   "source": [
    "transform_prices(data_games)\n",
    "data_games.head()"
   ]
  },
  {
   "cell_type": "code",
   "execution_count": 59,
   "metadata": {
    "ExecuteTime": {
     "end_time": "2020-10-23T04:06:01.212810Z",
     "start_time": "2020-10-23T04:06:01.165907Z"
    }
   },
   "outputs": [
    {
     "data": {
      "text/html": [
       "<div>\n",
       "<style scoped>\n",
       "    .dataframe tbody tr th:only-of-type {\n",
       "        vertical-align: middle;\n",
       "    }\n",
       "\n",
       "    .dataframe tbody tr th {\n",
       "        vertical-align: top;\n",
       "    }\n",
       "\n",
       "    .dataframe thead th {\n",
       "        text-align: right;\n",
       "    }\n",
       "</style>\n",
       "<table border=\"1\" class=\"dataframe\">\n",
       "  <thead>\n",
       "    <tr style=\"text-align: right;\">\n",
       "      <th></th>\n",
       "      <th>publisher</th>\n",
       "      <th>genres</th>\n",
       "      <th>app_name</th>\n",
       "      <th>url</th>\n",
       "      <th>release_date</th>\n",
       "      <th>tags</th>\n",
       "      <th>specs</th>\n",
       "      <th>id</th>\n",
       "      <th>categories</th>\n",
       "      <th>category_price</th>\n",
       "    </tr>\n",
       "  </thead>\n",
       "  <tbody>\n",
       "    <tr>\n",
       "      <th>26</th>\n",
       "      <td>NaN</td>\n",
       "      <td>NaN</td>\n",
       "      <td>Robotpencil Presents: Understanding 3D for Con...</td>\n",
       "      <td>http://store.steampowered.com/app/777910/Robot...</td>\n",
       "      <td>2018-01-03</td>\n",
       "      <td>[Design &amp; Illustration, Tutorial]</td>\n",
       "      <td>NaN</td>\n",
       "      <td>777910</td>\n",
       "      <td>NaN</td>\n",
       "      <td>paid</td>\n",
       "    </tr>\n",
       "    <tr>\n",
       "      <th>2476</th>\n",
       "      <td>NaN</td>\n",
       "      <td>NaN</td>\n",
       "      <td>Us and the Game Industry</td>\n",
       "      <td>http://store.steampowered.com/app/360290/Us_an...</td>\n",
       "      <td>2014-07-28</td>\n",
       "      <td>[Indie, Game Development, Documentary, Gaming]</td>\n",
       "      <td>NaN</td>\n",
       "      <td>360290</td>\n",
       "      <td>NaN</td>\n",
       "      <td>paid</td>\n",
       "    </tr>\n",
       "    <tr>\n",
       "      <th>2690</th>\n",
       "      <td>NaN</td>\n",
       "      <td>NaN</td>\n",
       "      <td>Double Action Dedicated Server</td>\n",
       "      <td>http://store.steampowered.com/app/317800/Doubl...</td>\n",
       "      <td>2014-10-01</td>\n",
       "      <td>[Free to Play]</td>\n",
       "      <td>NaN</td>\n",
       "      <td>317800</td>\n",
       "      <td>NaN</td>\n",
       "      <td>paid</td>\n",
       "    </tr>\n",
       "    <tr>\n",
       "      <th>3394</th>\n",
       "      <td>NaN</td>\n",
       "      <td>NaN</td>\n",
       "      <td>From Bedrooms to Billions</td>\n",
       "      <td>http://store.steampowered.com/app/342430/From_...</td>\n",
       "      <td>2015-03-31</td>\n",
       "      <td>[Game Development, Documentary, Retro, Gaming]</td>\n",
       "      <td>NaN</td>\n",
       "      <td>342430</td>\n",
       "      <td>NaN</td>\n",
       "      <td>paid</td>\n",
       "    </tr>\n",
       "    <tr>\n",
       "      <th>3478</th>\n",
       "      <td>NaN</td>\n",
       "      <td>NaN</td>\n",
       "      <td>Mortal Kombat: Legacy II</td>\n",
       "      <td>http://store.steampowered.com/app/362280/Morta...</td>\n",
       "      <td>2013-09-26</td>\n",
       "      <td>[Fighting, Action, Episodic, Free to Play]</td>\n",
       "      <td>NaN</td>\n",
       "      <td>362280</td>\n",
       "      <td>NaN</td>\n",
       "      <td>free</td>\n",
       "    </tr>\n",
       "  </tbody>\n",
       "</table>\n",
       "</div>"
      ],
      "text/plain": [
       "     publisher genres                                           app_name  \\\n",
       "26         NaN    NaN  Robotpencil Presents: Understanding 3D for Con...   \n",
       "2476       NaN    NaN                           Us and the Game Industry   \n",
       "2690       NaN    NaN                     Double Action Dedicated Server   \n",
       "3394       NaN    NaN                          From Bedrooms to Billions   \n",
       "3478       NaN    NaN                           Mortal Kombat: Legacy II   \n",
       "\n",
       "                                                    url release_date  \\\n",
       "26    http://store.steampowered.com/app/777910/Robot...   2018-01-03   \n",
       "2476  http://store.steampowered.com/app/360290/Us_an...   2014-07-28   \n",
       "2690  http://store.steampowered.com/app/317800/Doubl...   2014-10-01   \n",
       "3394  http://store.steampowered.com/app/342430/From_...   2015-03-31   \n",
       "3478  http://store.steampowered.com/app/362280/Morta...   2013-09-26   \n",
       "\n",
       "                                                tags specs      id categories  \\\n",
       "26                 [Design & Illustration, Tutorial]   NaN  777910        NaN   \n",
       "2476  [Indie, Game Development, Documentary, Gaming]   NaN  360290        NaN   \n",
       "2690                                  [Free to Play]   NaN  317800        NaN   \n",
       "3394  [Game Development, Documentary, Retro, Gaming]   NaN  342430        NaN   \n",
       "3478      [Fighting, Action, Episodic, Free to Play]   NaN  362280        NaN   \n",
       "\n",
       "     category_price  \n",
       "26             paid  \n",
       "2476           paid  \n",
       "2690           paid  \n",
       "3394           paid  \n",
       "3478           free  "
      ]
     },
     "execution_count": 59,
     "metadata": {},
     "output_type": "execute_result"
    }
   ],
   "source": [
    "transform_prices(df_no_games)\n",
    "df_no_games.head()"
   ]
  },
  {
   "cell_type": "markdown",
   "metadata": {},
   "source": [
    "#### Procesamiento de fecha de lanzamiento"
   ]
  },
  {
   "cell_type": "markdown",
   "metadata": {},
   "source": [
    "En éste apartado, se transformarán algunas fechas del dataset de videojuegos al formato correcto, la columna release_date además de contener fechas de tipo datetime y valores faltantes, tiene valores categóricos del cual es posible convertirlos a datetime gracias a que algunos de ellos siguen el mismo patrón o comportamiento. \n",
    "Para el dataset de utilidades, no será necesario éste tipo de tratamiento."
   ]
  },
  {
   "cell_type": "code",
   "execution_count": 60,
   "metadata": {
    "ExecuteTime": {
     "end_time": "2020-10-23T04:06:01.239741Z",
     "start_time": "2020-10-23T04:06:01.214775Z"
    }
   },
   "outputs": [
    {
     "data": {
      "text/plain": [
       "2017-10-31    48\n",
       "2017-09-01    44\n",
       "2017-12-01    44\n",
       "2017-12-15    40\n",
       "2017-09-15    40\n",
       "              ..\n",
       "2009-01-13     1\n",
       "2003-12-31     1\n",
       "2012-06-07     1\n",
       "2005-07-12     1\n",
       "2013-01-12     1\n",
       "Name: release_date, Length: 3220, dtype: int64"
      ]
     },
     "execution_count": 60,
     "metadata": {},
     "output_type": "execute_result"
    }
   ],
   "source": [
    "data_games.release_date.value_counts()"
   ]
  },
  {
   "cell_type": "markdown",
   "metadata": {},
   "source": [
    "La siguiente función servirá para obtener aquellos valores que no corresponden a fechas válidas para poder examinar los valores categóricos:"
   ]
  },
  {
   "cell_type": "code",
   "execution_count": 61,
   "metadata": {
    "ExecuteTime": {
     "end_time": "2020-10-23T04:06:01.255665Z",
     "start_time": "2020-10-23T04:06:01.240709Z"
    }
   },
   "outputs": [],
   "source": [
    "def isDateValid(x): \n",
    "    try:\n",
    "        return datetime.datetime.strptime(x, '%Y-%m-%d')        \n",
    "    except:\n",
    "        return False"
   ]
  },
  {
   "cell_type": "code",
   "execution_count": 62,
   "metadata": {
    "ExecuteTime": {
     "end_time": "2020-10-23T04:06:01.547885Z",
     "start_time": "2020-10-23T04:06:01.257687Z"
    }
   },
   "outputs": [
    {
     "data": {
      "text/plain": [
       "0            Soon..\n",
       "1              2017\n",
       "2         Beta测试已开启\n",
       "3          Jun 2009\n",
       "4          Oct 2010\n",
       "           ...     \n",
       "247      15.01.2018\n",
       "248        Q1, 2018\n",
       "249     Coming Soon\n",
       "250            2016\n",
       "251    January 2018\n",
       "Name: release_date, Length: 252, dtype: object"
      ]
     },
     "execution_count": 62,
     "metadata": {},
     "output_type": "execute_result"
    }
   ],
   "source": [
    "invalid_date_games = data_games.query('release_date.notna()', engine='python')\n",
    "invalid_date_games = pd.DataFrame([i for i in invalid_date_games.itertuples() \n",
    "                                   if not isDateValid(i.release_date)])\n",
    "invalid_date_games.release_date"
   ]
  },
  {
   "cell_type": "markdown",
   "metadata": {},
   "source": [
    "De las categorías mostradas, las que tienen el nombre del mes (completo o abreviado) y año es posible convertirlas. El nombre de la temporada y el año presentan el mismo caso. **Ejemplos: Nov 2020, November 2020, Winter 2020, Summer 2020...**"
   ]
  },
  {
   "cell_type": "markdown",
   "metadata": {
    "ExecuteTime": {
     "end_time": "2020-10-13T14:46:45.071432Z",
     "start_time": "2020-10-13T14:46:45.065457Z"
    }
   },
   "source": [
    "* Para empezar, la función a continuación retorna el número del mes basado en el nombre, gracias a una de las librerías incluidas en Python."
   ]
  },
  {
   "cell_type": "code",
   "execution_count": 63,
   "metadata": {
    "ExecuteTime": {
     "end_time": "2020-10-23T04:06:01.743398Z",
     "start_time": "2020-10-23T04:06:01.548881Z"
    }
   },
   "outputs": [],
   "source": [
    "def get_month(month):\n",
    "    if len(month) > 3:\n",
    "        return strptime(month, '%B').tm_mon\n",
    "    else:\n",
    "        return strptime(month, '%b').tm_mon"
   ]
  },
  {
   "cell_type": "code",
   "execution_count": 64,
   "metadata": {
    "ExecuteTime": {
     "end_time": "2020-10-23T04:06:01.762342Z",
     "start_time": "2020-10-23T04:06:01.745356Z"
    }
   },
   "outputs": [
    {
     "name": "stdout",
     "output_type": "stream",
     "text": [
      "Noviembre: 11\n",
      "Noviembre: 11\n",
      "Abril: 4\n",
      "Abril: 4\n"
     ]
    }
   ],
   "source": [
    "print('Noviembre:', get_month('Nov'))\n",
    "print('Noviembre:', get_month('November'))\n",
    "print('Abril:', get_month('Apr'))\n",
    "print('Abril:', get_month('April'))"
   ]
  },
  {
   "cell_type": "markdown",
   "metadata": {
    "ExecuteTime": {
     "end_time": "2020-10-13T14:52:00.994199Z",
     "start_time": "2020-10-13T14:52:00.990219Z"
    }
   },
   "source": [
    "Las temporadas se definirarán según el país, en éste caso es Estados Unidos. El diccionario contiene el nombre de la temporada y el mes en que inicia:"
   ]
  },
  {
   "cell_type": "code",
   "execution_count": 65,
   "metadata": {
    "ExecuteTime": {
     "end_time": "2020-10-23T04:06:01.774304Z",
     "start_time": "2020-10-23T04:06:01.764305Z"
    }
   },
   "outputs": [],
   "source": [
    "SEASONS = {'Winter': 12, 'Summer': 7, 'Fall': 10, 'Spring': 4}"
   ]
  },
  {
   "cell_type": "markdown",
   "metadata": {},
   "source": [
    "* Ésta función obtiene una fecha como variable categórica y la transforma a datetime, si no corresponde al patron detectado la convierte a valor faltante. El resto de fechas no están definidas por un comportamiento, por lo tanto no es posible transformarlas una por una, y son mas de 100 categorías."
   ]
  },
  {
   "cell_type": "code",
   "execution_count": 66,
   "metadata": {
    "ExecuteTime": {
     "end_time": "2020-10-23T04:06:01.788266Z",
     "start_time": "2020-10-23T04:06:01.776294Z"
    }
   },
   "outputs": [],
   "source": [
    "def get_date(date_sring):\n",
    "    try:\n",
    "        sep = date_sring.split()\n",
    "        # Primero verifica si es una temporada\n",
    "        if sep[0] in SEASONS.keys():\n",
    "            return datetime.datetime(year=int(sep[1]), month=SEASONS.get(sep[0]), day=1).date()\n",
    "\n",
    "        # Sino, utiliza la función anterior para obtener el número del mes a partir del nombre.\n",
    "        return datetime.datetime(year=int(sep[1]), month=get_month(sep[0]), day=1).date()\n",
    "    except:\n",
    "        # Retorna valor faltante si no se cumplen los dos casos, no es posible hacer más magia!!\n",
    "        return np.nan"
   ]
  },
  {
   "cell_type": "markdown",
   "metadata": {},
   "source": [
    "Ejemplo:"
   ]
  },
  {
   "cell_type": "code",
   "execution_count": 67,
   "metadata": {
    "ExecuteTime": {
     "end_time": "2020-10-23T04:06:01.804203Z",
     "start_time": "2020-10-23T04:06:01.790240Z"
    }
   },
   "outputs": [
    {
     "name": "stdout",
     "output_type": "stream",
     "text": [
      "Noviembre 2020-11-01\n",
      "Noviembre 2020-11-01\n",
      "Verano 2020-07-01\n",
      "Winter 2020-12-01\n"
     ]
    }
   ],
   "source": [
    "example_date = 'Nov 2020'\n",
    "print('Noviembre', get_date(example_date))\n",
    "\n",
    "example_date = 'November 2020'\n",
    "print('Noviembre', get_date(example_date))\n",
    "\n",
    "example_date = 'Summer 2020'\n",
    "print('Verano', get_date(example_date))\n",
    "\n",
    "example_date = 'Winter 2020'\n",
    "print('Winter', get_date(example_date))"
   ]
  },
  {
   "cell_type": "markdown",
   "metadata": {},
   "source": [
    "* Transformando fechas categóricas:"
   ]
  },
  {
   "cell_type": "code",
   "execution_count": 68,
   "metadata": {
    "ExecuteTime": {
     "end_time": "2020-10-23T04:06:01.824176Z",
     "start_time": "2020-10-23T04:06:01.810215Z"
    }
   },
   "outputs": [
    {
     "data": {
      "text/plain": [
       "0             nan\n",
       "1             nan\n",
       "2             nan\n",
       "3      2009-06-01\n",
       "4      2010-10-01\n",
       "          ...    \n",
       "247           nan\n",
       "248           nan\n",
       "249           nan\n",
       "250           nan\n",
       "251    2018-01-01\n",
       "Name: release_date, Length: 252, dtype: object"
      ]
     },
     "execution_count": 68,
     "metadata": {},
     "output_type": "execute_result"
    }
   ],
   "source": [
    "invalid_date_games.release_date = invalid_date_games.release_date.apply(lambda x: f'{get_date(x)}')\n",
    "invalid_date_games.release_date"
   ]
  },
  {
   "cell_type": "markdown",
   "metadata": {},
   "source": [
    "* Aplicando cambios sobre el dataframe original"
   ]
  },
  {
   "cell_type": "code",
   "execution_count": 69,
   "metadata": {
    "ExecuteTime": {
     "end_time": "2020-10-23T04:06:01.837141Z",
     "start_time": "2020-10-23T04:06:01.826141Z"
    }
   },
   "outputs": [],
   "source": [
    "invalid_idx = invalid_date_games.Index.values\n",
    "data_games.loc[invalid_idx,\n",
    "               'release_date'] = invalid_date_games.release_date.values"
   ]
  },
  {
   "cell_type": "markdown",
   "metadata": {},
   "source": [
    "* Verificando los cambios en los índices donde previamente existían éstas categorías:"
   ]
  },
  {
   "cell_type": "code",
   "execution_count": 70,
   "metadata": {
    "ExecuteTime": {
     "end_time": "2020-10-23T04:06:01.868037Z",
     "start_time": "2020-10-23T04:06:01.838107Z"
    }
   },
   "outputs": [
    {
     "data": {
      "text/html": [
       "<div>\n",
       "<style scoped>\n",
       "    .dataframe tbody tr th:only-of-type {\n",
       "        vertical-align: middle;\n",
       "    }\n",
       "\n",
       "    .dataframe tbody tr th {\n",
       "        vertical-align: top;\n",
       "    }\n",
       "\n",
       "    .dataframe thead th {\n",
       "        text-align: right;\n",
       "    }\n",
       "</style>\n",
       "<table border=\"1\" class=\"dataframe\">\n",
       "  <thead>\n",
       "    <tr style=\"text-align: right;\">\n",
       "      <th></th>\n",
       "      <th>publisher</th>\n",
       "      <th>genres</th>\n",
       "      <th>app_name</th>\n",
       "      <th>url</th>\n",
       "      <th>release_date</th>\n",
       "      <th>id</th>\n",
       "      <th>categories</th>\n",
       "      <th>category_price</th>\n",
       "    </tr>\n",
       "  </thead>\n",
       "  <tbody>\n",
       "    <tr>\n",
       "      <th>10</th>\n",
       "      <td>Qucheza</td>\n",
       "      <td>[Action, Indie, Simulation, Early Access]</td>\n",
       "      <td>Uncanny Islands</td>\n",
       "      <td>http://store.steampowered.com/app/768570/Uncan...</td>\n",
       "      <td>nan</td>\n",
       "      <td>768570</td>\n",
       "      <td>[action, early access, indie, simulation, sing...</td>\n",
       "      <td>paid</td>\n",
       "    </tr>\n",
       "    <tr>\n",
       "      <th>43</th>\n",
       "      <td>Breakout Studio</td>\n",
       "      <td>[Indie, Massively Multiplayer, RPG, Early Access]</td>\n",
       "      <td>Life of Rome</td>\n",
       "      <td>http://store.steampowered.com/app/381620/Life_...</td>\n",
       "      <td>nan</td>\n",
       "      <td>381620</td>\n",
       "      <td>[character customization, crafting, early acce...</td>\n",
       "      <td>paid</td>\n",
       "    </tr>\n",
       "    <tr>\n",
       "      <th>44</th>\n",
       "      <td>zha7</td>\n",
       "      <td>[Adventure, Free to Play, RPG, Early Access]</td>\n",
       "      <td>Idle Adventure</td>\n",
       "      <td>http://store.steampowered.com/app/714020/Idle_...</td>\n",
       "      <td>nan</td>\n",
       "      <td>714020</td>\n",
       "      <td>[adventure, early access, free to play, mmo, r...</td>\n",
       "      <td>paid</td>\n",
       "    </tr>\n",
       "    <tr>\n",
       "      <th>249</th>\n",
       "      <td>Erik Svedäng</td>\n",
       "      <td>[Adventure, Indie]</td>\n",
       "      <td>Blueberry Garden</td>\n",
       "      <td>http://store.steampowered.com/app/29160/Bluebe...</td>\n",
       "      <td>2009-06-01</td>\n",
       "      <td>29160</td>\n",
       "      <td>[adventure, indie, puzzle, short, singleplayer]</td>\n",
       "      <td>paid</td>\n",
       "    </tr>\n",
       "    <tr>\n",
       "      <th>505</th>\n",
       "      <td>Paradox Interactive</td>\n",
       "      <td>[RPG, Strategy]</td>\n",
       "      <td>Age of Wonders II: The Wizard's Throne</td>\n",
       "      <td>http://store.steampowered.com/app/61510/Age_of...</td>\n",
       "      <td>2010-10-01</td>\n",
       "      <td>61510</td>\n",
       "      <td>[4x, classic, fantasy, multiplayer, rpg, singl...</td>\n",
       "      <td>paid</td>\n",
       "    </tr>\n",
       "  </tbody>\n",
       "</table>\n",
       "</div>"
      ],
      "text/plain": [
       "               publisher                                             genres  \\\n",
       "10               Qucheza          [Action, Indie, Simulation, Early Access]   \n",
       "43       Breakout Studio  [Indie, Massively Multiplayer, RPG, Early Access]   \n",
       "44                  zha7       [Adventure, Free to Play, RPG, Early Access]   \n",
       "249         Erik Svedäng                                 [Adventure, Indie]   \n",
       "505  Paradox Interactive                                    [RPG, Strategy]   \n",
       "\n",
       "                                   app_name  \\\n",
       "10                          Uncanny Islands   \n",
       "43                             Life of Rome   \n",
       "44                           Idle Adventure   \n",
       "249                        Blueberry Garden   \n",
       "505  Age of Wonders II: The Wizard's Throne   \n",
       "\n",
       "                                                   url release_date      id  \\\n",
       "10   http://store.steampowered.com/app/768570/Uncan...          nan  768570   \n",
       "43   http://store.steampowered.com/app/381620/Life_...          nan  381620   \n",
       "44   http://store.steampowered.com/app/714020/Idle_...          nan  714020   \n",
       "249  http://store.steampowered.com/app/29160/Bluebe...   2009-06-01   29160   \n",
       "505  http://store.steampowered.com/app/61510/Age_of...   2010-10-01   61510   \n",
       "\n",
       "                                            categories category_price  \n",
       "10   [action, early access, indie, simulation, sing...           paid  \n",
       "43   [character customization, crafting, early acce...           paid  \n",
       "44   [adventure, early access, free to play, mmo, r...           paid  \n",
       "249    [adventure, indie, puzzle, short, singleplayer]           paid  \n",
       "505  [4x, classic, fantasy, multiplayer, rpg, singl...           paid  "
      ]
     },
     "execution_count": 70,
     "metadata": {},
     "output_type": "execute_result"
    }
   ],
   "source": [
    "data_games.loc[invalid_idx].head()"
   ]
  },
  {
   "cell_type": "markdown",
   "metadata": {},
   "source": [
    "Se ha completado el procedimiento de transformación de fecha de lanzamiento, con ésto es posible realizar un análisis exploratorio que conlleve Series de tiempo."
   ]
  },
  {
   "cell_type": "code",
   "execution_count": 71,
   "metadata": {
    "ExecuteTime": {
     "end_time": "2020-10-23T04:06:01.878027Z",
     "start_time": "2020-10-23T04:06:01.870022Z"
    }
   },
   "outputs": [],
   "source": [
    "del invalid_date_games"
   ]
  },
  {
   "cell_type": "markdown",
   "metadata": {},
   "source": [
    "Finalmente, los valores faltantes resultantes:"
   ]
  },
  {
   "cell_type": "code",
   "execution_count": 72,
   "metadata": {
    "ExecuteTime": {
     "end_time": "2020-10-23T04:07:53.195043Z",
     "start_time": "2020-10-23T04:07:53.171108Z"
    }
   },
   "outputs": [
    {
     "data": {
      "text/plain": [
       "publisher         2097\n",
       "genres            2018\n",
       "app_name             0\n",
       "url                  0\n",
       "release_date      1922\n",
       "id                   0\n",
       "categories           0\n",
       "category_price       0\n",
       "dtype: int64"
      ]
     },
     "execution_count": 72,
     "metadata": {},
     "output_type": "execute_result"
    }
   ],
   "source": [
    "data_games.isna().sum()"
   ]
  },
  {
   "cell_type": "code",
   "execution_count": 73,
   "metadata": {
    "ExecuteTime": {
     "end_time": "2020-10-23T04:07:58.087104Z",
     "start_time": "2020-10-23T04:07:57.598414Z"
    }
   },
   "outputs": [
    {
     "data": {
      "text/plain": [
       "<matplotlib.axes._subplots.AxesSubplot at 0x2b266654b08>"
      ]
     },
     "execution_count": 73,
     "metadata": {},
     "output_type": "execute_result"
    },
    {
     "data": {
      "image/png": "[encoded data removed]",
      "text/plain": [
       "<Figure size 1800x720 with 2 Axes>"
      ]
     },
     "metadata": {
      "needs_background": "light"
     },
     "output_type": "display_data"
    }
   ],
   "source": [
    "msno.matrix(data_games)"
   ]
  },
  {
   "cell_type": "markdown",
   "metadata": {},
   "source": [
    "### Preprocesamiento Reviews"
   ]
  },
  {
   "cell_type": "code",
   "execution_count": 74,
   "metadata": {
    "ExecuteTime": {
     "end_time": "2020-10-23T04:08:06.781387Z",
     "start_time": "2020-10-23T04:08:06.728497Z"
    }
   },
   "outputs": [
    {
     "data": {
      "text/html": [
       "<div>\n",
       "<style scoped>\n",
       "    .dataframe tbody tr th:only-of-type {\n",
       "        vertical-align: middle;\n",
       "    }\n",
       "\n",
       "    .dataframe tbody tr th {\n",
       "        vertical-align: top;\n",
       "    }\n",
       "\n",
       "    .dataframe thead th {\n",
       "        text-align: right;\n",
       "    }\n",
       "</style>\n",
       "<table border=\"1\" class=\"dataframe\">\n",
       "  <thead>\n",
       "    <tr style=\"text-align: right;\">\n",
       "      <th></th>\n",
       "      <th>username</th>\n",
       "      <th>hours</th>\n",
       "      <th>product_id</th>\n",
       "      <th>date</th>\n",
       "      <th>text</th>\n",
       "    </tr>\n",
       "  </thead>\n",
       "  <tbody>\n",
       "    <tr>\n",
       "      <th>0</th>\n",
       "      <td>Chaos Syren</td>\n",
       "      <td>0.1</td>\n",
       "      <td>725280</td>\n",
       "      <td>2017-12-17</td>\n",
       "      <td>This would not be acceptable as an entertainme...</td>\n",
       "    </tr>\n",
       "    <tr>\n",
       "      <th>1</th>\n",
       "      <td>₮ʜᴇ Wᴀʀᴛᴏɴ</td>\n",
       "      <td>51.1</td>\n",
       "      <td>328100</td>\n",
       "      <td>2017-12-27</td>\n",
       "      <td>looks like a facebook game</td>\n",
       "    </tr>\n",
       "    <tr>\n",
       "      <th>2</th>\n",
       "      <td>hello?&lt;</td>\n",
       "      <td>14.6</td>\n",
       "      <td>328100</td>\n",
       "      <td>2017-10-16</td>\n",
       "      <td>Better than Minecraft</td>\n",
       "    </tr>\n",
       "    <tr>\n",
       "      <th>3</th>\n",
       "      <td>Cyderine916</td>\n",
       "      <td>5.0</td>\n",
       "      <td>35140</td>\n",
       "      <td>2018-01-04</td>\n",
       "      <td>I love and idolized Batman and this game is Ma...</td>\n",
       "    </tr>\n",
       "    <tr>\n",
       "      <th>4</th>\n",
       "      <td>DarklyThinking</td>\n",
       "      <td>16.6</td>\n",
       "      <td>35140</td>\n",
       "      <td>2018-01-04</td>\n",
       "      <td>Still worth playing in 2018.\\nProbably my favo...</td>\n",
       "    </tr>\n",
       "  </tbody>\n",
       "</table>\n",
       "</div>"
      ],
      "text/plain": [
       "         username  hours product_id       date  \\\n",
       "0     Chaos Syren    0.1     725280 2017-12-17   \n",
       "1      ₮ʜᴇ Wᴀʀᴛᴏɴ   51.1     328100 2017-12-27   \n",
       "2         hello?<   14.6     328100 2017-10-16   \n",
       "3     Cyderine916    5.0      35140 2018-01-04   \n",
       "4  DarklyThinking   16.6      35140 2018-01-04   \n",
       "\n",
       "                                                text  \n",
       "0  This would not be acceptable as an entertainme...  \n",
       "1                         looks like a facebook game  \n",
       "2                              Better than Minecraft  \n",
       "3  I love and idolized Batman and this game is Ma...  \n",
       "4  Still worth playing in 2018.\\nProbably my favo...  "
      ]
     },
     "execution_count": 74,
     "metadata": {},
     "output_type": "execute_result"
    }
   ],
   "source": [
    "data_reviews.head()"
   ]
  },
  {
   "cell_type": "code",
   "execution_count": 75,
   "metadata": {
    "ExecuteTime": {
     "end_time": "2020-10-23T04:08:08.626221Z",
     "start_time": "2020-10-23T04:08:08.621274Z"
    }
   },
   "outputs": [
    {
     "data": {
      "text/plain": [
       "(7793069, 5)"
      ]
     },
     "execution_count": 75,
     "metadata": {},
     "output_type": "execute_result"
    }
   ],
   "source": [
    "data_reviews.shape"
   ]
  },
  {
   "cell_type": "markdown",
   "metadata": {},
   "source": [
    "#### Reviews duplicados (Todos los campos)"
   ]
  },
  {
   "cell_type": "markdown",
   "metadata": {},
   "source": [
    "Se analiza si existen registros duplicados en el dataset:"
   ]
  },
  {
   "cell_type": "code",
   "execution_count": 76,
   "metadata": {
    "ExecuteTime": {
     "end_time": "2020-10-23T04:09:29.181528Z",
     "start_time": "2020-10-23T04:08:09.329111Z"
    }
   },
   "outputs": [
    {
     "data": {
      "text/plain": [
       "(831833, 5)"
      ]
     },
     "execution_count": 76,
     "metadata": {},
     "output_type": "execute_result"
    }
   ],
   "source": [
    "duplicated = data_reviews[data_reviews.duplicated()]\n",
    "duplicated.shape"
   ]
  },
  {
   "cell_type": "markdown",
   "metadata": {},
   "source": [
    "Se confirma la existencia registros duplicados, ahora se detalla un usuario aleatorio de éstos registros:"
   ]
  },
  {
   "cell_type": "code",
   "execution_count": 77,
   "metadata": {
    "ExecuteTime": {
     "end_time": "2020-10-23T04:09:29.314142Z",
     "start_time": "2020-10-23T04:09:29.203467Z"
    }
   },
   "outputs": [
    {
     "data": {
      "text/html": [
       "<div>\n",
       "<style scoped>\n",
       "    .dataframe tbody tr th:only-of-type {\n",
       "        vertical-align: middle;\n",
       "    }\n",
       "\n",
       "    .dataframe tbody tr th {\n",
       "        vertical-align: top;\n",
       "    }\n",
       "\n",
       "    .dataframe thead th {\n",
       "        text-align: right;\n",
       "    }\n",
       "</style>\n",
       "<table border=\"1\" class=\"dataframe\">\n",
       "  <thead>\n",
       "    <tr style=\"text-align: right;\">\n",
       "      <th></th>\n",
       "      <th>username</th>\n",
       "      <th>hours</th>\n",
       "      <th>product_id</th>\n",
       "      <th>date</th>\n",
       "      <th>text</th>\n",
       "    </tr>\n",
       "  </thead>\n",
       "  <tbody>\n",
       "    <tr>\n",
       "      <th>2435</th>\n",
       "      <td>Foggy Dreamer</td>\n",
       "      <td>2.2</td>\n",
       "      <td>308040</td>\n",
       "      <td>2017-11-04</td>\n",
       "      <td>PROS:\\n- Beautiful visuals and art\\n- Decent p...</td>\n",
       "    </tr>\n",
       "    <tr>\n",
       "      <th>2632</th>\n",
       "      <td>little gamer64</td>\n",
       "      <td>20.5</td>\n",
       "      <td>271590</td>\n",
       "      <td>2018-01-04</td>\n",
       "      <td>I love this game</td>\n",
       "    </tr>\n",
       "    <tr>\n",
       "      <th>3264</th>\n",
       "      <td>Space_Wafer</td>\n",
       "      <td>7.4</td>\n",
       "      <td>427730</td>\n",
       "      <td>2017-12-31</td>\n",
       "      <td>So fun</td>\n",
       "    </tr>\n",
       "    <tr>\n",
       "      <th>3498</th>\n",
       "      <td>xanderwhovian</td>\n",
       "      <td>25.5</td>\n",
       "      <td>8880</td>\n",
       "      <td>2014-08-27</td>\n",
       "      <td>freedom force is an absolutely amazing game, i...</td>\n",
       "    </tr>\n",
       "    <tr>\n",
       "      <th>4028</th>\n",
       "      <td>feel it break</td>\n",
       "      <td>53.6</td>\n",
       "      <td>61700</td>\n",
       "      <td>2017-05-30</td>\n",
       "      <td>Great and unique gameplay, lovely comic style ...</td>\n",
       "    </tr>\n",
       "  </tbody>\n",
       "</table>\n",
       "</div>"
      ],
      "text/plain": [
       "            username  hours product_id       date  \\\n",
       "2435   Foggy Dreamer    2.2     308040 2017-11-04   \n",
       "2632  little gamer64   20.5     271590 2018-01-04   \n",
       "3264     Space_Wafer    7.4     427730 2017-12-31   \n",
       "3498   xanderwhovian   25.5       8880 2014-08-27   \n",
       "4028   feel it break   53.6      61700 2017-05-30   \n",
       "\n",
       "                                                   text  \n",
       "2435  PROS:\\n- Beautiful visuals and art\\n- Decent p...  \n",
       "2632                                   I love this game  \n",
       "3264                                             So fun  \n",
       "3498  freedom force is an absolutely amazing game, i...  \n",
       "4028  Great and unique gameplay, lovely comic style ...  "
      ]
     },
     "execution_count": 77,
     "metadata": {},
     "output_type": "execute_result"
    }
   ],
   "source": [
    "duplicated.head()"
   ]
  },
  {
   "cell_type": "markdown",
   "metadata": {},
   "source": [
    "Para probar, se selecciona el usuario **\"feel it break\"**"
   ]
  },
  {
   "cell_type": "code",
   "execution_count": 78,
   "metadata": {
    "ExecuteTime": {
     "end_time": "2020-10-23T04:09:31.673372Z",
     "start_time": "2020-10-23T04:09:29.319130Z"
    }
   },
   "outputs": [
    {
     "data": {
      "text/html": [
       "<div>\n",
       "<style scoped>\n",
       "    .dataframe tbody tr th:only-of-type {\n",
       "        vertical-align: middle;\n",
       "    }\n",
       "\n",
       "    .dataframe tbody tr th {\n",
       "        vertical-align: top;\n",
       "    }\n",
       "\n",
       "    .dataframe thead th {\n",
       "        text-align: right;\n",
       "    }\n",
       "</style>\n",
       "<table border=\"1\" class=\"dataframe\">\n",
       "  <thead>\n",
       "    <tr style=\"text-align: right;\">\n",
       "      <th></th>\n",
       "      <th>username</th>\n",
       "      <th>hours</th>\n",
       "      <th>product_id</th>\n",
       "      <th>date</th>\n",
       "      <th>text</th>\n",
       "    </tr>\n",
       "  </thead>\n",
       "  <tbody>\n",
       "    <tr>\n",
       "      <th>3880</th>\n",
       "      <td>feel it break</td>\n",
       "      <td>53.6</td>\n",
       "      <td>61700</td>\n",
       "      <td>2017-05-30</td>\n",
       "      <td>Great and unique gameplay, lovely comic style ...</td>\n",
       "    </tr>\n",
       "    <tr>\n",
       "      <th>4028</th>\n",
       "      <td>feel it break</td>\n",
       "      <td>53.6</td>\n",
       "      <td>61700</td>\n",
       "      <td>2017-05-30</td>\n",
       "      <td>Great and unique gameplay, lovely comic style ...</td>\n",
       "    </tr>\n",
       "    <tr>\n",
       "      <th>179401</th>\n",
       "      <td>feel it break</td>\n",
       "      <td>14.5</td>\n",
       "      <td>48700</td>\n",
       "      <td>2017-12-30</td>\n",
       "      <td>Well the first few hours into the game I had a...</td>\n",
       "    </tr>\n",
       "    <tr>\n",
       "      <th>3498769</th>\n",
       "      <td>feel it break</td>\n",
       "      <td>3.1</td>\n",
       "      <td>435480</td>\n",
       "      <td>2017-12-07</td>\n",
       "      <td>What a f***ing piece of turd of a game this is...</td>\n",
       "    </tr>\n",
       "    <tr>\n",
       "      <th>5340520</th>\n",
       "      <td>feel it break</td>\n",
       "      <td>323.5</td>\n",
       "      <td>97330</td>\n",
       "      <td>2017-10-12</td>\n",
       "      <td>Of all the Magic Games that came out and that ...</td>\n",
       "    </tr>\n",
       "    <tr>\n",
       "      <th>5518204</th>\n",
       "      <td>feel it break</td>\n",
       "      <td>469.0</td>\n",
       "      <td>316010</td>\n",
       "      <td>2016-12-11</td>\n",
       "      <td>Pro: You can build own magic decks\\nCons: .......</td>\n",
       "    </tr>\n",
       "    <tr>\n",
       "      <th>6861873</th>\n",
       "      <td>feel it break</td>\n",
       "      <td>56.7</td>\n",
       "      <td>204450</td>\n",
       "      <td>2017-10-12</td>\n",
       "      <td>Amazing game, very fast paced, stylish, combat...</td>\n",
       "    </tr>\n",
       "  </tbody>\n",
       "</table>\n",
       "</div>"
      ],
      "text/plain": [
       "              username  hours product_id       date  \\\n",
       "3880     feel it break   53.6      61700 2017-05-30   \n",
       "4028     feel it break   53.6      61700 2017-05-30   \n",
       "179401   feel it break   14.5      48700 2017-12-30   \n",
       "3498769  feel it break    3.1     435480 2017-12-07   \n",
       "5340520  feel it break  323.5      97330 2017-10-12   \n",
       "5518204  feel it break  469.0     316010 2016-12-11   \n",
       "6861873  feel it break   56.7     204450 2017-10-12   \n",
       "\n",
       "                                                      text  \n",
       "3880     Great and unique gameplay, lovely comic style ...  \n",
       "4028     Great and unique gameplay, lovely comic style ...  \n",
       "179401   Well the first few hours into the game I had a...  \n",
       "3498769  What a f***ing piece of turd of a game this is...  \n",
       "5340520  Of all the Magic Games that came out and that ...  \n",
       "5518204  Pro: You can build own magic decks\\nCons: .......  \n",
       "6861873  Amazing game, very fast paced, stylish, combat...  "
      ]
     },
     "execution_count": 78,
     "metadata": {},
     "output_type": "execute_result"
    }
   ],
   "source": [
    "data_reviews[data_reviews.username == 'feel it break']"
   ]
  },
  {
   "cell_type": "markdown",
   "metadata": {},
   "source": [
    "En los 2 primeros registros de esta búsqueda se evidencia error de los datos, misma cantidad de horas, id de videojuego y fecha. Por lo tanto es razonable eliminar éstos registros."
   ]
  },
  {
   "cell_type": "code",
   "execution_count": 79,
   "metadata": {
    "ExecuteTime": {
     "end_time": "2020-10-23T04:10:26.462764Z",
     "start_time": "2020-10-23T04:09:31.677362Z"
    }
   },
   "outputs": [],
   "source": [
    "data_reviews.drop_duplicates(inplace=True, ignore_index=True)"
   ]
  },
  {
   "cell_type": "code",
   "execution_count": 80,
   "metadata": {
    "ExecuteTime": {
     "end_time": "2020-10-23T04:10:26.509635Z",
     "start_time": "2020-10-23T04:10:26.478383Z"
    }
   },
   "outputs": [
    {
     "data": {
      "text/plain": [
       "(6961236, 5)"
      ]
     },
     "execution_count": 80,
     "metadata": {},
     "output_type": "execute_result"
    }
   ],
   "source": [
    "data_reviews.shape"
   ]
  },
  {
   "cell_type": "code",
   "execution_count": 81,
   "metadata": {
    "ExecuteTime": {
     "end_time": "2020-10-23T04:10:28.535793Z",
     "start_time": "2020-10-23T04:10:26.509635Z"
    }
   },
   "outputs": [
    {
     "data": {
      "text/plain": [
       "username          0\n",
       "hours         25941\n",
       "product_id        0\n",
       "date              0\n",
       "text              0\n",
       "dtype: int64"
      ]
     },
     "execution_count": 81,
     "metadata": {},
     "output_type": "execute_result"
    }
   ],
   "source": [
    "data_reviews.isna().sum()"
   ]
  },
  {
   "cell_type": "markdown",
   "metadata": {},
   "source": [
    "#### Reviews duplicados (Username y product_id)"
   ]
  },
  {
   "cell_type": "markdown",
   "metadata": {},
   "source": [
    "Habiendo eliminado registros duplicados, nos queda realizar un tratamiento especial a aquellos usuarios que han comentado un videojuego más de una vez, la acción a ejecutar consiste en dejar el ultimo review de un usuario a un videojuego mediante la fecha."
   ]
  },
  {
   "cell_type": "markdown",
   "metadata": {},
   "source": [
    "Usuarios con más de un review a un videojuego:"
   ]
  },
  {
   "cell_type": "code",
   "execution_count": 82,
   "metadata": {
    "ExecuteTime": {
     "end_time": "2020-10-23T04:10:34.039443Z",
     "start_time": "2020-10-23T04:10:28.537788Z"
    }
   },
   "outputs": [],
   "source": [
    "repeated_reviews = data_reviews[data_reviews.duplicated(\n",
    "    subset=['username', 'product_id'], keep=False)].sort_values(by='username')"
   ]
  },
  {
   "cell_type": "code",
   "execution_count": 83,
   "metadata": {
    "ExecuteTime": {
     "end_time": "2020-10-23T04:10:34.067932Z",
     "start_time": "2020-10-23T04:10:34.053970Z"
    }
   },
   "outputs": [
    {
     "name": "stdout",
     "output_type": "stream",
     "text": [
      "Reviews del mismo usuario al mismo videojuego: 121801\n"
     ]
    }
   ],
   "source": [
    "print('Reviews del mismo usuario al mismo videojuego:', repeated_reviews.shape[0])"
   ]
  },
  {
   "cell_type": "code",
   "execution_count": 84,
   "metadata": {
    "ExecuteTime": {
     "end_time": "2020-10-23T04:10:34.136764Z",
     "start_time": "2020-10-23T04:10:34.074921Z"
    }
   },
   "outputs": [
    {
     "data": {
      "text/html": [
       "<div>\n",
       "<style scoped>\n",
       "    .dataframe tbody tr th:only-of-type {\n",
       "        vertical-align: middle;\n",
       "    }\n",
       "\n",
       "    .dataframe tbody tr th {\n",
       "        vertical-align: top;\n",
       "    }\n",
       "\n",
       "    .dataframe thead th {\n",
       "        text-align: right;\n",
       "    }\n",
       "</style>\n",
       "<table border=\"1\" class=\"dataframe\">\n",
       "  <thead>\n",
       "    <tr style=\"text-align: right;\">\n",
       "      <th></th>\n",
       "      <th>username</th>\n",
       "      <th>hours</th>\n",
       "      <th>product_id</th>\n",
       "      <th>date</th>\n",
       "      <th>text</th>\n",
       "    </tr>\n",
       "  </thead>\n",
       "  <tbody>\n",
       "    <tr>\n",
       "      <th>4441474</th>\n",
       "      <td>!?</td>\n",
       "      <td>1.2</td>\n",
       "      <td>206210</td>\n",
       "      <td>2014-04-08</td>\n",
       "      <td>After all this time still can't play this beca...</td>\n",
       "    </tr>\n",
       "    <tr>\n",
       "      <th>4435144</th>\n",
       "      <td>!?</td>\n",
       "      <td>3.2</td>\n",
       "      <td>206210</td>\n",
       "      <td>2014-07-01</td>\n",
       "      <td>Hard to get trading cards</td>\n",
       "    </tr>\n",
       "    <tr>\n",
       "      <th>3526482</th>\n",
       "      <td>#1</td>\n",
       "      <td>11.2</td>\n",
       "      <td>440</td>\n",
       "      <td>2015-01-02</td>\n",
       "      <td>✰✰✰✰✰</td>\n",
       "    </tr>\n",
       "    <tr>\n",
       "      <th>3500502</th>\n",
       "      <td>#1</td>\n",
       "      <td>13.2</td>\n",
       "      <td>440</td>\n",
       "      <td>2015-09-15</td>\n",
       "      <td>This game allows hours of fun, hundreds of dif...</td>\n",
       "    </tr>\n",
       "    <tr>\n",
       "      <th>4719243</th>\n",
       "      <td>#GWForJulvärd2018</td>\n",
       "      <td>129.4</td>\n",
       "      <td>346110</td>\n",
       "      <td>2017-09-03</td>\n",
       "      <td>grinding, grinding and more grinding. to get f...</td>\n",
       "    </tr>\n",
       "  </tbody>\n",
       "</table>\n",
       "</div>"
      ],
      "text/plain": [
       "                  username  hours product_id       date  \\\n",
       "4441474                 !?    1.2     206210 2014-04-08   \n",
       "4435144                 !?    3.2     206210 2014-07-01   \n",
       "3526482                 #1   11.2        440 2015-01-02   \n",
       "3500502                 #1   13.2        440 2015-09-15   \n",
       "4719243  #GWForJulvärd2018  129.4     346110 2017-09-03   \n",
       "\n",
       "                                                      text  \n",
       "4441474  After all this time still can't play this beca...  \n",
       "4435144                          Hard to get trading cards  \n",
       "3526482                                              ✰✰✰✰✰  \n",
       "3500502  This game allows hours of fun, hundreds of dif...  \n",
       "4719243  grinding, grinding and more grinding. to get f...  "
      ]
     },
     "execution_count": 84,
     "metadata": {},
     "output_type": "execute_result"
    }
   ],
   "source": [
    "repeated_reviews.head()"
   ]
  },
  {
   "cell_type": "markdown",
   "metadata": {},
   "source": [
    "El usuario \"!?\" ha hecho dos comentarios al mismo videojuego (206210), el resultado entonces sería el último comentario realizado."
   ]
  },
  {
   "cell_type": "markdown",
   "metadata": {},
   "source": [
    "#### Últimos reviews por fecha"
   ]
  },
  {
   "cell_type": "code",
   "execution_count": 85,
   "metadata": {
    "ExecuteTime": {
     "end_time": "2020-10-23T04:10:55.077100Z",
     "start_time": "2020-10-23T04:10:34.141736Z"
    }
   },
   "outputs": [],
   "source": [
    "# Para traer todas las columnas. Tarda mas!!\n",
    "unrepeated_reviews = data_reviews.sort_values(\n",
    "    by='date', ascending=False).drop_duplicates(subset=['username', 'product_id'])\n",
    "\n",
    "# unrepeated_reviews = data_reviews.groupby(\n",
    "#    ['username', 'product_id'], as_index=False).date.max()"
   ]
  },
  {
   "cell_type": "markdown",
   "metadata": {},
   "source": [
    "Verificando:"
   ]
  },
  {
   "cell_type": "code",
   "execution_count": 86,
   "metadata": {
    "ExecuteTime": {
     "end_time": "2020-10-23T04:10:56.063430Z",
     "start_time": "2020-10-23T04:10:55.086045Z"
    }
   },
   "outputs": [
    {
     "data": {
      "text/html": [
       "<div>\n",
       "<style scoped>\n",
       "    .dataframe tbody tr th:only-of-type {\n",
       "        vertical-align: middle;\n",
       "    }\n",
       "\n",
       "    .dataframe tbody tr th {\n",
       "        vertical-align: top;\n",
       "    }\n",
       "\n",
       "    .dataframe thead th {\n",
       "        text-align: right;\n",
       "    }\n",
       "</style>\n",
       "<table border=\"1\" class=\"dataframe\">\n",
       "  <thead>\n",
       "    <tr style=\"text-align: right;\">\n",
       "      <th></th>\n",
       "      <th>username</th>\n",
       "      <th>hours</th>\n",
       "      <th>product_id</th>\n",
       "      <th>date</th>\n",
       "      <th>text</th>\n",
       "    </tr>\n",
       "  </thead>\n",
       "  <tbody>\n",
       "    <tr>\n",
       "      <th>4435144</th>\n",
       "      <td>!?</td>\n",
       "      <td>3.2</td>\n",
       "      <td>206210</td>\n",
       "      <td>2014-07-01</td>\n",
       "      <td>Hard to get trading cards</td>\n",
       "    </tr>\n",
       "  </tbody>\n",
       "</table>\n",
       "</div>"
      ],
      "text/plain": [
       "        username  hours product_id       date                       text\n",
       "4435144       !?    3.2     206210 2014-07-01  Hard to get trading cards"
      ]
     },
     "execution_count": 86,
     "metadata": {},
     "output_type": "execute_result"
    }
   ],
   "source": [
    "unrepeated_reviews.query('username==\"!?\" & product_id==\"206210\"')"
   ]
  },
  {
   "cell_type": "code",
   "execution_count": 87,
   "metadata": {
    "ExecuteTime": {
     "end_time": "2020-10-23T04:10:57.538829Z",
     "start_time": "2020-10-23T04:10:56.066427Z"
    }
   },
   "outputs": [],
   "source": [
    "data_reviews = unrepeated_reviews.copy()\n",
    "\n",
    "#Liberando espacio en memoria\n",
    "del repeated_reviews\n",
    "del unrepeated_reviews"
   ]
  },
  {
   "cell_type": "code",
   "execution_count": 88,
   "metadata": {
    "ExecuteTime": {
     "end_time": "2020-10-23T04:11:00.014022Z",
     "start_time": "2020-10-23T04:10:57.542792Z"
    }
   },
   "outputs": [
    {
     "data": {
      "text/plain": [
       "username          0\n",
       "hours         25741\n",
       "product_id        0\n",
       "date              0\n",
       "text              0\n",
       "dtype: int64"
      ]
     },
     "execution_count": 88,
     "metadata": {},
     "output_type": "execute_result"
    }
   ],
   "source": [
    "data_reviews.isna().sum()"
   ]
  },
  {
   "cell_type": "code",
   "execution_count": 89,
   "metadata": {
    "ExecuteTime": {
     "end_time": "2020-10-23T04:11:00.025118Z",
     "start_time": "2020-10-23T04:11:00.018135Z"
    }
   },
   "outputs": [
    {
     "data": {
      "text/plain": [
       "(6889728, 5)"
      ]
     },
     "execution_count": 89,
     "metadata": {},
     "output_type": "execute_result"
    }
   ],
   "source": [
    "data_reviews.shape"
   ]
  },
  {
   "cell_type": "markdown",
   "metadata": {},
   "source": [
    "#### Tratamiento Horas faltantes"
   ]
  },
  {
   "cell_type": "markdown",
   "metadata": {},
   "source": [
    "Vemos que las horas faltantes son muy pocas, con solo calcular el promedio de las horas por cada usuario sería suficiente."
   ]
  },
  {
   "cell_type": "code",
   "execution_count": 90,
   "metadata": {
    "ExecuteTime": {
     "end_time": "2020-10-23T04:11:14.510617Z",
     "start_time": "2020-10-23T04:11:00.028110Z"
    }
   },
   "outputs": [],
   "source": [
    "data_reviews.hours.fillna(data_reviews.groupby('username').hours.transform('mean'), inplace=True)"
   ]
  },
  {
   "cell_type": "code",
   "execution_count": 91,
   "metadata": {
    "ExecuteTime": {
     "end_time": "2020-10-23T04:11:17.163349Z",
     "start_time": "2020-10-23T04:11:14.510617Z"
    }
   },
   "outputs": [
    {
     "data": {
      "text/plain": [
       "username         0\n",
       "hours         4264\n",
       "product_id       0\n",
       "date             0\n",
       "text             0\n",
       "dtype: int64"
      ]
     },
     "execution_count": 91,
     "metadata": {},
     "output_type": "execute_result"
    }
   ],
   "source": [
    "data_reviews.isna().sum()"
   ]
  },
  {
   "cell_type": "markdown",
   "metadata": {
    "ExecuteTime": {
     "end_time": "2020-10-22T00:02:19.632618Z",
     "start_time": "2020-10-22T00:02:19.581755Z"
    }
   },
   "source": [
    "Aún existen horas faltantes, verémos que ocurre:"
   ]
  },
  {
   "cell_type": "code",
   "execution_count": 92,
   "metadata": {
    "ExecuteTime": {
     "end_time": "2020-10-23T04:11:17.228138Z",
     "start_time": "2020-10-23T04:11:17.166306Z"
    }
   },
   "outputs": [
    {
     "data": {
      "text/html": [
       "<div>\n",
       "<style scoped>\n",
       "    .dataframe tbody tr th:only-of-type {\n",
       "        vertical-align: middle;\n",
       "    }\n",
       "\n",
       "    .dataframe tbody tr th {\n",
       "        vertical-align: top;\n",
       "    }\n",
       "\n",
       "    .dataframe thead th {\n",
       "        text-align: right;\n",
       "    }\n",
       "</style>\n",
       "<table border=\"1\" class=\"dataframe\">\n",
       "  <thead>\n",
       "    <tr style=\"text-align: right;\">\n",
       "      <th></th>\n",
       "      <th>username</th>\n",
       "      <th>hours</th>\n",
       "      <th>product_id</th>\n",
       "      <th>date</th>\n",
       "      <th>text</th>\n",
       "    </tr>\n",
       "  </thead>\n",
       "  <tbody>\n",
       "    <tr>\n",
       "      <th>708088</th>\n",
       "      <td>n4p4l44</td>\n",
       "      <td>NaN</td>\n",
       "      <td>353370</td>\n",
       "      <td>2018-01-05</td>\n",
       "      <td>I chose to buy the Steam Controller over an XB...</td>\n",
       "    </tr>\n",
       "    <tr>\n",
       "      <th>5300404</th>\n",
       "      <td>Drunk3n</td>\n",
       "      <td>NaN</td>\n",
       "      <td>353380</td>\n",
       "      <td>2018-01-04</td>\n",
       "      <td>Great, solves some casual gaming in the sofa.\\...</td>\n",
       "    </tr>\n",
       "    <tr>\n",
       "      <th>5300281</th>\n",
       "      <td>floodofnoise</td>\n",
       "      <td>NaN</td>\n",
       "      <td>353380</td>\n",
       "      <td>2018-01-04</td>\n",
       "      <td>This thing is incredible! I purchased one of t...</td>\n",
       "    </tr>\n",
       "    <tr>\n",
       "      <th>5300282</th>\n",
       "      <td>Mephisto Felis</td>\n",
       "      <td>NaN</td>\n",
       "      <td>353380</td>\n",
       "      <td>2018-01-04</td>\n",
       "      <td>That thing works amazing i love it to and for ...</td>\n",
       "    </tr>\n",
       "    <tr>\n",
       "      <th>708160</th>\n",
       "      <td>Ninja dos Bunnyhop</td>\n",
       "      <td>NaN</td>\n",
       "      <td>353370</td>\n",
       "      <td>2018-01-04</td>\n",
       "      <td>The lack of a seccond analog stick is a proble...</td>\n",
       "    </tr>\n",
       "    <tr>\n",
       "      <th>...</th>\n",
       "      <td>...</td>\n",
       "      <td>...</td>\n",
       "      <td>...</td>\n",
       "      <td>...</td>\n",
       "      <td>...</td>\n",
       "    </tr>\n",
       "    <tr>\n",
       "      <th>644963</th>\n",
       "      <td>aden_00</td>\n",
       "      <td>NaN</td>\n",
       "      <td>17700</td>\n",
       "      <td>2010-11-27</td>\n",
       "      <td>Great if your looking for a light milsim. and ...</td>\n",
       "    </tr>\n",
       "    <tr>\n",
       "      <th>2214784</th>\n",
       "      <td>func_door</td>\n",
       "      <td>NaN</td>\n",
       "      <td>15100</td>\n",
       "      <td>2010-11-22</td>\n",
       "      <td>probably the worst game I am ashamed to have l...</td>\n",
       "    </tr>\n",
       "    <tr>\n",
       "      <th>6339980</th>\n",
       "      <td>ChicoFuerte</td>\n",
       "      <td>NaN</td>\n",
       "      <td>4500</td>\n",
       "      <td>2010-11-19</td>\n",
       "      <td>Must-play FPS RPG</td>\n",
       "    </tr>\n",
       "    <tr>\n",
       "      <th>3151519</th>\n",
       "      <td>OhMe</td>\n",
       "      <td>NaN</td>\n",
       "      <td>2280</td>\n",
       "      <td>2010-11-19</td>\n",
       "      <td>This game is about big labyrinthic maps and ca...</td>\n",
       "    </tr>\n",
       "    <tr>\n",
       "      <th>6306317</th>\n",
       "      <td>Kohan</td>\n",
       "      <td>NaN</td>\n",
       "      <td>10180</td>\n",
       "      <td>2010-10-26</td>\n",
       "      <td>Used by Date 10th/Nov/2010</td>\n",
       "    </tr>\n",
       "  </tbody>\n",
       "</table>\n",
       "<p>4264 rows × 5 columns</p>\n",
       "</div>"
      ],
      "text/plain": [
       "                   username  hours product_id       date  \\\n",
       "708088              n4p4l44    NaN     353370 2018-01-05   \n",
       "5300404             Drunk3n    NaN     353380 2018-01-04   \n",
       "5300281        floodofnoise    NaN     353380 2018-01-04   \n",
       "5300282      Mephisto Felis    NaN     353380 2018-01-04   \n",
       "708160   Ninja dos Bunnyhop    NaN     353370 2018-01-04   \n",
       "...                     ...    ...        ...        ...   \n",
       "644963              aden_00    NaN      17700 2010-11-27   \n",
       "2214784           func_door    NaN      15100 2010-11-22   \n",
       "6339980         ChicoFuerte    NaN       4500 2010-11-19   \n",
       "3151519                OhMe    NaN       2280 2010-11-19   \n",
       "6306317               Kohan    NaN      10180 2010-10-26   \n",
       "\n",
       "                                                      text  \n",
       "708088   I chose to buy the Steam Controller over an XB...  \n",
       "5300404  Great, solves some casual gaming in the sofa.\\...  \n",
       "5300281  This thing is incredible! I purchased one of t...  \n",
       "5300282  That thing works amazing i love it to and for ...  \n",
       "708160   The lack of a seccond analog stick is a proble...  \n",
       "...                                                    ...  \n",
       "644963   Great if your looking for a light milsim. and ...  \n",
       "2214784  probably the worst game I am ashamed to have l...  \n",
       "6339980                                  Must-play FPS RPG  \n",
       "3151519  This game is about big labyrinthic maps and ca...  \n",
       "6306317                         Used by Date 10th/Nov/2010  \n",
       "\n",
       "[4264 rows x 5 columns]"
      ]
     },
     "execution_count": 92,
     "metadata": {},
     "output_type": "execute_result"
    }
   ],
   "source": [
    "data_reviews[data_reviews.hours.isna()]"
   ]
  },
  {
   "cell_type": "markdown",
   "metadata": {},
   "source": [
    "Explorando algunos usuarios de ésta búsqueda:"
   ]
  },
  {
   "cell_type": "code",
   "execution_count": 93,
   "metadata": {
    "ExecuteTime": {
     "end_time": "2020-10-23T04:11:18.446748Z",
     "start_time": "2020-10-23T04:11:17.230133Z"
    }
   },
   "outputs": [
    {
     "data": {
      "text/html": [
       "<div>\n",
       "<style scoped>\n",
       "    .dataframe tbody tr th:only-of-type {\n",
       "        vertical-align: middle;\n",
       "    }\n",
       "\n",
       "    .dataframe tbody tr th {\n",
       "        vertical-align: top;\n",
       "    }\n",
       "\n",
       "    .dataframe thead th {\n",
       "        text-align: right;\n",
       "    }\n",
       "</style>\n",
       "<table border=\"1\" class=\"dataframe\">\n",
       "  <thead>\n",
       "    <tr style=\"text-align: right;\">\n",
       "      <th></th>\n",
       "      <th>username</th>\n",
       "      <th>hours</th>\n",
       "      <th>product_id</th>\n",
       "      <th>date</th>\n",
       "      <th>text</th>\n",
       "    </tr>\n",
       "  </thead>\n",
       "  <tbody>\n",
       "    <tr>\n",
       "      <th>3421965</th>\n",
       "      <td>catsquad3</td>\n",
       "      <td>NaN</td>\n",
       "      <td>440</td>\n",
       "      <td>2017-06-28</td>\n",
       "      <td>rrrrrrr</td>\n",
       "    </tr>\n",
       "    <tr>\n",
       "      <th>293527</th>\n",
       "      <td>cardenas1149</td>\n",
       "      <td>NaN</td>\n",
       "      <td>271590</td>\n",
       "      <td>2017-06-17</td>\n",
       "      <td>I recently spent a little over $1200 for a gam...</td>\n",
       "    </tr>\n",
       "    <tr>\n",
       "      <th>3449101</th>\n",
       "      <td>MarbleMania</td>\n",
       "      <td>NaN</td>\n",
       "      <td>440</td>\n",
       "      <td>2017-01-09</td>\n",
       "      <td>7/3 would recommend</td>\n",
       "    </tr>\n",
       "  </tbody>\n",
       "</table>\n",
       "</div>"
      ],
      "text/plain": [
       "             username  hours product_id       date  \\\n",
       "3421965     catsquad3    NaN        440 2017-06-28   \n",
       "293527   cardenas1149    NaN     271590 2017-06-17   \n",
       "3449101   MarbleMania    NaN        440 2017-01-09   \n",
       "\n",
       "                                                      text  \n",
       "3421965                                            rrrrrrr  \n",
       "293527   I recently spent a little over $1200 for a gam...  \n",
       "3449101                                7/3 would recommend  "
      ]
     },
     "execution_count": 93,
     "metadata": {},
     "output_type": "execute_result"
    }
   ],
   "source": [
    "USERNAMES = ['catsquad3', 'cardenas1149', 'MarbleMania']\n",
    "data_reviews.query('username in @USERNAMES')"
   ]
  },
  {
   "cell_type": "markdown",
   "metadata": {},
   "source": [
    "Aquí se demuestra que éstos usuarios solo han hecho review a un solo videojuego y no registran horas de juego. Por lo tanto, la única alternativa faltante es rellenarlos con el promedio de horas del id del videojuego en el que estuvieron interesados:"
   ]
  },
  {
   "cell_type": "code",
   "execution_count": 94,
   "metadata": {
    "ExecuteTime": {
     "end_time": "2020-10-23T04:11:19.321417Z",
     "start_time": "2020-10-23T04:11:18.449714Z"
    }
   },
   "outputs": [],
   "source": [
    "data_reviews.hours.fillna(data_reviews.groupby('product_id').hours.transform('mean'), inplace=True)"
   ]
  },
  {
   "cell_type": "code",
   "execution_count": 95,
   "metadata": {
    "ExecuteTime": {
     "end_time": "2020-10-23T04:11:21.871818Z",
     "start_time": "2020-10-23T04:11:19.324375Z"
    }
   },
   "outputs": [
    {
     "data": {
      "text/plain": [
       "username      0\n",
       "hours         3\n",
       "product_id    0\n",
       "date          0\n",
       "text          0\n",
       "dtype: int64"
      ]
     },
     "execution_count": 95,
     "metadata": {},
     "output_type": "execute_result"
    }
   ],
   "source": [
    "data_reviews.isna().sum()"
   ]
  },
  {
   "cell_type": "code",
   "execution_count": 96,
   "metadata": {
    "ExecuteTime": {
     "end_time": "2020-10-23T04:11:21.901701Z",
     "start_time": "2020-10-23T04:11:21.874747Z"
    }
   },
   "outputs": [
    {
     "data": {
      "text/html": [
       "<div>\n",
       "<style scoped>\n",
       "    .dataframe tbody tr th:only-of-type {\n",
       "        vertical-align: middle;\n",
       "    }\n",
       "\n",
       "    .dataframe tbody tr th {\n",
       "        vertical-align: top;\n",
       "    }\n",
       "\n",
       "    .dataframe thead th {\n",
       "        text-align: right;\n",
       "    }\n",
       "</style>\n",
       "<table border=\"1\" class=\"dataframe\">\n",
       "  <thead>\n",
       "    <tr style=\"text-align: right;\">\n",
       "      <th></th>\n",
       "      <th>username</th>\n",
       "      <th>hours</th>\n",
       "      <th>product_id</th>\n",
       "      <th>date</th>\n",
       "      <th>text</th>\n",
       "    </tr>\n",
       "  </thead>\n",
       "  <tbody>\n",
       "    <tr>\n",
       "      <th>527380</th>\n",
       "      <td>OGK_Demipimp</td>\n",
       "      <td>NaN</td>\n",
       "      <td>538610</td>\n",
       "      <td>2017-12-18</td>\n",
       "      <td>Its a text file in your gamefolder I like to t...</td>\n",
       "    </tr>\n",
       "    <tr>\n",
       "      <th>2447770</th>\n",
       "      <td>ZombieIsBest</td>\n",
       "      <td>NaN</td>\n",
       "      <td>492580</td>\n",
       "      <td>2017-06-24</td>\n",
       "      <td>Do not buy doesn't show up in game waste of money</td>\n",
       "    </tr>\n",
       "    <tr>\n",
       "      <th>3298398</th>\n",
       "      <td>BytonMcHawk</td>\n",
       "      <td>NaN</td>\n",
       "      <td>584630</td>\n",
       "      <td>2017-04-20</td>\n",
       "      <td>10/10 worth the second computer monitor after ...</td>\n",
       "    </tr>\n",
       "  </tbody>\n",
       "</table>\n",
       "</div>"
      ],
      "text/plain": [
       "             username  hours product_id       date  \\\n",
       "527380   OGK_Demipimp    NaN     538610 2017-12-18   \n",
       "2447770  ZombieIsBest    NaN     492580 2017-06-24   \n",
       "3298398   BytonMcHawk    NaN     584630 2017-04-20   \n",
       "\n",
       "                                                      text  \n",
       "527380   Its a text file in your gamefolder I like to t...  \n",
       "2447770  Do not buy doesn't show up in game waste of money  \n",
       "3298398  10/10 worth the second computer monitor after ...  "
      ]
     },
     "execution_count": 96,
     "metadata": {},
     "output_type": "execute_result"
    }
   ],
   "source": [
    "data_reviews[data_reviews.hours.isna()]"
   ]
  },
  {
   "cell_type": "markdown",
   "metadata": {},
   "source": [
    "Videojuegos que solo tienen un review con horas faltantes. Rellenando con el promedio total de horas:"
   ]
  },
  {
   "cell_type": "code",
   "execution_count": 97,
   "metadata": {
    "ExecuteTime": {
     "end_time": "2020-10-23T04:11:21.995455Z",
     "start_time": "2020-10-23T04:11:21.904690Z"
    }
   },
   "outputs": [],
   "source": [
    "data_reviews.hours.fillna(data_reviews.hours.mean(), inplace=True)"
   ]
  },
  {
   "cell_type": "code",
   "execution_count": 98,
   "metadata": {
    "ExecuteTime": {
     "end_time": "2020-10-23T04:11:24.484955Z",
     "start_time": "2020-10-23T04:11:22.002430Z"
    }
   },
   "outputs": [
    {
     "data": {
      "text/plain": [
       "username      0\n",
       "hours         0\n",
       "product_id    0\n",
       "date          0\n",
       "text          0\n",
       "dtype: int64"
      ]
     },
     "execution_count": 98,
     "metadata": {},
     "output_type": "execute_result"
    }
   ],
   "source": [
    "data_reviews.isna().sum()"
   ]
  },
  {
   "cell_type": "code",
   "execution_count": 99,
   "metadata": {
    "ExecuteTime": {
     "end_time": "2020-10-23T04:11:24.492904Z",
     "start_time": "2020-10-23T04:11:24.486944Z"
    }
   },
   "outputs": [
    {
     "data": {
      "text/plain": [
       "(6889728, 5)"
      ]
     },
     "execution_count": 99,
     "metadata": {},
     "output_type": "execute_result"
    }
   ],
   "source": [
    "data_reviews.shape"
   ]
  },
  {
   "cell_type": "markdown",
   "metadata": {},
   "source": [
    "#### Separando reviews"
   ]
  },
  {
   "cell_type": "markdown",
   "metadata": {},
   "source": [
    "Se separarán en datasets diferentes los reviews de videojuegos y utilidades como se ha mencionado en apartados anteriores:"
   ]
  },
  {
   "cell_type": "code",
   "execution_count": 100,
   "metadata": {
    "ExecuteTime": {
     "end_time": "2020-10-23T04:11:26.631093Z",
     "start_time": "2020-10-23T04:11:24.497887Z"
    }
   },
   "outputs": [],
   "source": [
    "# Filtrando reviews de videojuegos\n",
    "data_reviews_game = data_reviews.query('product_id not in @df_no_games.id')\n",
    "\n",
    "# Filtrando reviews de utilidades (Para exportar)\n",
    "data_reviews_utilites = data_reviews.query('product_id not in @data_games.id')"
   ]
  },
  {
   "cell_type": "code",
   "execution_count": 101,
   "metadata": {
    "ExecuteTime": {
     "end_time": "2020-10-23T04:11:28.977256Z",
     "start_time": "2020-10-23T04:11:26.631093Z"
    }
   },
   "outputs": [],
   "source": [
    "# Dataset listo para exportar\n",
    "data_reviews = data_reviews_game.copy()\n",
    "\n",
    "del data_reviews_game"
   ]
  },
  {
   "cell_type": "code",
   "execution_count": 102,
   "metadata": {
    "ExecuteTime": {
     "end_time": "2020-10-23T04:11:28.986240Z",
     "start_time": "2020-10-23T04:11:28.979226Z"
    }
   },
   "outputs": [
    {
     "name": "stdout",
     "output_type": "stream",
     "text": [
      "Reviews games: (6796871, 5) - Reviews Utilites: (92857, 5)\n"
     ]
    }
   ],
   "source": [
    "print('Reviews games:', data_reviews.shape,\n",
    "      '- Reviews Utilites:', data_reviews_utilites.shape)"
   ]
  },
  {
   "cell_type": "markdown",
   "metadata": {},
   "source": [
    "### Exportando Datasets"
   ]
  },
  {
   "cell_type": "markdown",
   "metadata": {},
   "source": [
    "* Dataset de videojuegos:"
   ]
  },
  {
   "cell_type": "code",
   "execution_count": 104,
   "metadata": {
    "ExecuteTime": {
     "end_time": "2020-10-23T04:14:34.258729Z",
     "start_time": "2020-10-23T04:12:10.179819Z"
    }
   },
   "outputs": [],
   "source": [
    "directory = 'data_processed_games'\n",
    "data_reviews.to_csv(f'{directory}/data_reviews_games.csv', index=False)\n",
    "data_games.to_csv(f'{directory}/data_games.csv', index=False)"
   ]
  },
  {
   "cell_type": "markdown",
   "metadata": {},
   "source": [
    "* Dataset de utilidades:"
   ]
  },
  {
   "cell_type": "code",
   "execution_count": 105,
   "metadata": {
    "ExecuteTime": {
     "end_time": "2020-10-23T04:14:36.791991Z",
     "start_time": "2020-10-23T04:14:34.264594Z"
    }
   },
   "outputs": [],
   "source": [
    "directory = 'data_processed_utilites'\n",
    "data_reviews_utilites.to_csv(f'{directory}/data_reviews_utilites.csv', index=False)\n",
    "df_no_games.to_csv(f'{directory}/data_utilites.csv', index=False)"
   ]
  },
  {
   "cell_type": "markdown",
   "metadata": {},
   "source": [
    "### Lectura"
   ]
  },
  {
   "cell_type": "markdown",
   "metadata": {},
   "source": [
    "#### Videojuegos procesados:"
   ]
  },
  {
   "cell_type": "markdown",
   "metadata": {},
   "source": [
    "* Reviews: Se obliga a que la columna username sea tipo string porque existen usuarios cuyo nombre es \"null\" o \"N/A\", y Pandas los convierte a NaN. Ejemplo de usuario \"null\": https://steamcommunity.com/profiles/76561198170981531/"
   ]
  },
  {
   "cell_type": "code",
   "execution_count": 3,
   "metadata": {
    "ExecuteTime": {
     "end_time": "2020-10-23T04:15:40.994785Z",
     "start_time": "2020-10-23T04:15:19.283694Z"
    }
   },
   "outputs": [],
   "source": [
    "directory = 'data_processed_games'\n",
    "data_reviews = pd.read_csv(\n",
    "    f'{directory}/data_reviews_games.csv', converters={'username': str, 'text': str})\n",
    "data_reviews.date = pd.to_datetime(data_reviews.date)"
   ]
  },
  {
   "cell_type": "markdown",
   "metadata": {},
   "source": [
    "* Videojuegos: Al exportar a CSV se pierde el formato de algunos datos, los géneros, tags y specs estaban compuestos por listas, en la sección de Preprocesamiento. En la lectura del archivo, aparecen como String, la siguiente función remueve las comillas simples y los corchetes en los extremos:"
   ]
  },
  {
   "cell_type": "code",
   "execution_count": 4,
   "metadata": {
    "ExecuteTime": {
     "end_time": "2020-10-23T04:15:41.000740Z",
     "start_time": "2020-10-23T04:15:40.996779Z"
    }
   },
   "outputs": [],
   "source": [
    "def toList(x):\n",
    "    return x[1:-1].replace(\"'\", '').split(', ') if (x is not np.nan) else nan"
   ]
  },
  {
   "cell_type": "markdown",
   "metadata": {
    "ExecuteTime": {
     "end_time": "2020-10-22T20:30:28.619305Z",
     "start_time": "2020-10-22T20:30:28.605374Z"
    }
   },
   "source": [
    "Aquí se convierte cada elemento de tag en una lista:"
   ]
  },
  {
   "cell_type": "code",
   "execution_count": 5,
   "metadata": {
    "ExecuteTime": {
     "end_time": "2020-10-23T04:15:41.209227Z",
     "start_time": "2020-10-23T04:15:41.002735Z"
    }
   },
   "outputs": [],
   "source": [
    "data_games = pd.read_csv(f'{directory}/data_games.csv',\n",
    "                         converters={\n",
    "                             'genres': lambda x: toList(x),\n",
    "                             'tags': lambda x: toList(x),\n",
    "                             'specs': lambda x: toList(x),\n",
    "                             'categories': lambda x: toList(x)\n",
    "                         })\n",
    "data_games.release_date = pd.to_datetime(data_games.release_date)"
   ]
  },
  {
   "cell_type": "code",
   "execution_count": 6,
   "metadata": {
    "ExecuteTime": {
     "end_time": "2020-10-23T04:15:41.220179Z",
     "start_time": "2020-10-23T04:15:41.211177Z"
    }
   },
   "outputs": [
    {
     "data": {
      "text/plain": [
       "username              object\n",
       "hours                float64\n",
       "product_id             int64\n",
       "date          datetime64[ns]\n",
       "text                  object\n",
       "dtype: object"
      ]
     },
     "execution_count": 6,
     "metadata": {},
     "output_type": "execute_result"
    }
   ],
   "source": [
    "data_reviews.dtypes"
   ]
  },
  {
   "cell_type": "code",
   "execution_count": 7,
   "metadata": {
    "ExecuteTime": {
     "end_time": "2020-10-23T04:15:41.235115Z",
     "start_time": "2020-10-23T04:15:41.222148Z"
    }
   },
   "outputs": [
    {
     "data": {
      "text/plain": [
       "publisher                 object\n",
       "genres                    object\n",
       "app_name                  object\n",
       "url                       object\n",
       "release_date      datetime64[ns]\n",
       "id                         int64\n",
       "categories                object\n",
       "category_price            object\n",
       "dtype: object"
      ]
     },
     "execution_count": 7,
     "metadata": {},
     "output_type": "execute_result"
    }
   ],
   "source": [
    "data_games.dtypes"
   ]
  },
  {
   "cell_type": "code",
   "execution_count": 8,
   "metadata": {
    "ExecuteTime": {
     "end_time": "2020-10-23T04:15:41.269023Z",
     "start_time": "2020-10-23T04:15:41.238121Z"
    }
   },
   "outputs": [
    {
     "data": {
      "text/html": [
       "<div>\n",
       "<style scoped>\n",
       "    .dataframe tbody tr th:only-of-type {\n",
       "        vertical-align: middle;\n",
       "    }\n",
       "\n",
       "    .dataframe tbody tr th {\n",
       "        vertical-align: top;\n",
       "    }\n",
       "\n",
       "    .dataframe thead th {\n",
       "        text-align: right;\n",
       "    }\n",
       "</style>\n",
       "<table border=\"1\" class=\"dataframe\">\n",
       "  <thead>\n",
       "    <tr style=\"text-align: right;\">\n",
       "      <th></th>\n",
       "      <th>publisher</th>\n",
       "      <th>genres</th>\n",
       "      <th>app_name</th>\n",
       "      <th>url</th>\n",
       "      <th>release_date</th>\n",
       "      <th>id</th>\n",
       "      <th>categories</th>\n",
       "      <th>category_price</th>\n",
       "    </tr>\n",
       "  </thead>\n",
       "  <tbody>\n",
       "    <tr>\n",
       "      <th>0</th>\n",
       "      <td>Kotoshiro</td>\n",
       "      <td>[Action, Casual, Indie, Simulation, Strategy]</td>\n",
       "      <td>Lost Summoner Kitty</td>\n",
       "      <td>http://store.steampowered.com/app/761140/Lost_...</td>\n",
       "      <td>2018-01-04</td>\n",
       "      <td>761140</td>\n",
       "      <td>[action, casual, indie, simulation, singleplay...</td>\n",
       "      <td>paid</td>\n",
       "    </tr>\n",
       "    <tr>\n",
       "      <th>1</th>\n",
       "      <td>Making Fun, Inc.</td>\n",
       "      <td>[Free to Play, Indie, RPG, Strategy]</td>\n",
       "      <td>Ironbound</td>\n",
       "      <td>http://store.steampowered.com/app/643980/Ironb...</td>\n",
       "      <td>2018-01-04</td>\n",
       "      <td>643980</td>\n",
       "      <td>[2d, board game, card game, character customiz...</td>\n",
       "      <td>free</td>\n",
       "    </tr>\n",
       "    <tr>\n",
       "      <th>2</th>\n",
       "      <td>Poolians.com</td>\n",
       "      <td>[Casual, Free to Play, Indie, Simulation, Sports]</td>\n",
       "      <td>Real Pool 3D - Poolians</td>\n",
       "      <td>http://store.steampowered.com/app/670290/Real_...</td>\n",
       "      <td>2017-07-24</td>\n",
       "      <td>670290</td>\n",
       "      <td>[casual, free to play, inapp purchases, indie,...</td>\n",
       "      <td>free</td>\n",
       "    </tr>\n",
       "    <tr>\n",
       "      <th>3</th>\n",
       "      <td>彼岸领域</td>\n",
       "      <td>[Action, Adventure, Casual]</td>\n",
       "      <td>弹炸人2222</td>\n",
       "      <td>http://store.steampowered.com/app/767400/2222/</td>\n",
       "      <td>2017-12-07</td>\n",
       "      <td>767400</td>\n",
       "      <td>[action, adventure, casual, singleplayer]</td>\n",
       "      <td>paid</td>\n",
       "    </tr>\n",
       "    <tr>\n",
       "      <th>4</th>\n",
       "      <td>NaN</td>\n",
       "      <td>[]</td>\n",
       "      <td>Log Challenge</td>\n",
       "      <td>http://store.steampowered.com/app/773570/Log_C...</td>\n",
       "      <td>NaT</td>\n",
       "      <td>773570</td>\n",
       "      <td>[action, casual, full controller support, htc ...</td>\n",
       "      <td>paid</td>\n",
       "    </tr>\n",
       "  </tbody>\n",
       "</table>\n",
       "</div>"
      ],
      "text/plain": [
       "          publisher                                             genres  \\\n",
       "0         Kotoshiro      [Action, Casual, Indie, Simulation, Strategy]   \n",
       "1  Making Fun, Inc.               [Free to Play, Indie, RPG, Strategy]   \n",
       "2      Poolians.com  [Casual, Free to Play, Indie, Simulation, Sports]   \n",
       "3              彼岸领域                        [Action, Adventure, Casual]   \n",
       "4               NaN                                                 []   \n",
       "\n",
       "                  app_name                                                url  \\\n",
       "0      Lost Summoner Kitty  http://store.steampowered.com/app/761140/Lost_...   \n",
       "1                Ironbound  http://store.steampowered.com/app/643980/Ironb...   \n",
       "2  Real Pool 3D - Poolians  http://store.steampowered.com/app/670290/Real_...   \n",
       "3                  弹炸人2222     http://store.steampowered.com/app/767400/2222/   \n",
       "4            Log Challenge  http://store.steampowered.com/app/773570/Log_C...   \n",
       "\n",
       "  release_date      id                                         categories  \\\n",
       "0   2018-01-04  761140  [action, casual, indie, simulation, singleplay...   \n",
       "1   2018-01-04  643980  [2d, board game, card game, character customiz...   \n",
       "2   2017-07-24  670290  [casual, free to play, inapp purchases, indie,...   \n",
       "3   2017-12-07  767400          [action, adventure, casual, singleplayer]   \n",
       "4          NaT  773570  [action, casual, full controller support, htc ...   \n",
       "\n",
       "  category_price  \n",
       "0           paid  \n",
       "1           free  \n",
       "2           free  \n",
       "3           paid  \n",
       "4           paid  "
      ]
     },
     "execution_count": 8,
     "metadata": {},
     "output_type": "execute_result"
    }
   ],
   "source": [
    "data_games.head()"
   ]
  },
  {
   "cell_type": "code",
   "execution_count": 9,
   "metadata": {
    "ExecuteTime": {
     "end_time": "2020-10-23T04:15:41.288003Z",
     "start_time": "2020-10-23T04:15:41.271019Z"
    }
   },
   "outputs": [
    {
     "data": {
      "text/html": [
       "<div>\n",
       "<style scoped>\n",
       "    .dataframe tbody tr th:only-of-type {\n",
       "        vertical-align: middle;\n",
       "    }\n",
       "\n",
       "    .dataframe tbody tr th {\n",
       "        vertical-align: top;\n",
       "    }\n",
       "\n",
       "    .dataframe thead th {\n",
       "        text-align: right;\n",
       "    }\n",
       "</style>\n",
       "<table border=\"1\" class=\"dataframe\">\n",
       "  <thead>\n",
       "    <tr style=\"text-align: right;\">\n",
       "      <th></th>\n",
       "      <th>username</th>\n",
       "      <th>hours</th>\n",
       "      <th>product_id</th>\n",
       "      <th>date</th>\n",
       "      <th>text</th>\n",
       "    </tr>\n",
       "  </thead>\n",
       "  <tbody>\n",
       "    <tr>\n",
       "      <th>0</th>\n",
       "      <td>✪ switzerleλve</td>\n",
       "      <td>21.9</td>\n",
       "      <td>220</td>\n",
       "      <td>2018-01-05</td>\n",
       "      <td>The game is extremely immersive and had me on ...</td>\n",
       "    </tr>\n",
       "    <tr>\n",
       "      <th>1</th>\n",
       "      <td>RockLass</td>\n",
       "      <td>16.5</td>\n",
       "      <td>435030</td>\n",
       "      <td>2018-01-05</td>\n",
       "      <td>Quite enjoyable even for the long haul. Haven'...</td>\n",
       "    </tr>\n",
       "    <tr>\n",
       "      <th>2</th>\n",
       "      <td>Locke Kosta</td>\n",
       "      <td>2.9</td>\n",
       "      <td>232750</td>\n",
       "      <td>2018-01-05</td>\n",
       "      <td>I gave this game a real shot, but the ♥♥♥♥♥♥ n...</td>\n",
       "    </tr>\n",
       "    <tr>\n",
       "      <th>3</th>\n",
       "      <td>Feena</td>\n",
       "      <td>6.8</td>\n",
       "      <td>344440</td>\n",
       "      <td>2018-01-05</td>\n",
       "      <td>A classic hidden objects game with a good stor...</td>\n",
       "    </tr>\n",
       "    <tr>\n",
       "      <th>4</th>\n",
       "      <td>DanVanDam</td>\n",
       "      <td>13.6</td>\n",
       "      <td>404680</td>\n",
       "      <td>2018-01-05</td>\n",
       "      <td>I spent so far a good amount of time with this...</td>\n",
       "    </tr>\n",
       "  </tbody>\n",
       "</table>\n",
       "</div>"
      ],
      "text/plain": [
       "         username  hours  product_id       date  \\\n",
       "0  ✪ switzerleλve   21.9         220 2018-01-05   \n",
       "1        RockLass   16.5      435030 2018-01-05   \n",
       "2     Locke Kosta    2.9      232750 2018-01-05   \n",
       "3           Feena    6.8      344440 2018-01-05   \n",
       "4       DanVanDam   13.6      404680 2018-01-05   \n",
       "\n",
       "                                                text  \n",
       "0  The game is extremely immersive and had me on ...  \n",
       "1  Quite enjoyable even for the long haul. Haven'...  \n",
       "2  I gave this game a real shot, but the ♥♥♥♥♥♥ n...  \n",
       "3  A classic hidden objects game with a good stor...  \n",
       "4  I spent so far a good amount of time with this...  "
      ]
     },
     "execution_count": 9,
     "metadata": {},
     "output_type": "execute_result"
    }
   ],
   "source": [
    "data_reviews.head()"
   ]
  },
  {
   "cell_type": "code",
   "execution_count": 10,
   "metadata": {
    "ExecuteTime": {
     "end_time": "2020-10-23T04:15:42.165304Z",
     "start_time": "2020-10-23T04:15:41.290965Z"
    }
   },
   "outputs": [
    {
     "data": {
      "text/plain": [
       "username      0\n",
       "hours         0\n",
       "product_id    0\n",
       "date          0\n",
       "text          0\n",
       "dtype: int64"
      ]
     },
     "execution_count": 10,
     "metadata": {},
     "output_type": "execute_result"
    }
   ],
   "source": [
    "data_reviews.isna().sum()"
   ]
  },
  {
   "cell_type": "markdown",
   "metadata": {},
   "source": [
    "### Consultas"
   ]
  },
  {
   "cell_type": "markdown",
   "metadata": {},
   "source": [
    "#### Usuarios únicos"
   ]
  },
  {
   "cell_type": "code",
   "execution_count": 11,
   "metadata": {
    "ExecuteTime": {
     "end_time": "2020-10-23T04:15:46.415221Z",
     "start_time": "2020-10-23T04:15:42.167301Z"
    }
   },
   "outputs": [
    {
     "name": "stdout",
     "output_type": "stream",
     "text": [
      "2548509 usuarios únicos\n"
     ]
    }
   ],
   "source": [
    "print(f'{len(data_reviews.username.value_counts())} usuarios únicos')"
   ]
  },
  {
   "cell_type": "markdown",
   "metadata": {},
   "source": [
    "#### Top 10 videojuegos más populares"
   ]
  },
  {
   "cell_type": "code",
   "execution_count": 70,
   "metadata": {
    "ExecuteTime": {
     "end_time": "2020-10-23T04:58:41.697757Z",
     "start_time": "2020-10-23T04:58:41.423481Z"
    }
   },
   "outputs": [],
   "source": [
    "amount_by_productId = data_reviews.groupby('product_id').product_id.count().reset_index(name='amount')"
   ]
  },
  {
   "cell_type": "markdown",
   "metadata": {},
   "source": [
    "Merge entre videojuegos y reviews:"
   ]
  },
  {
   "cell_type": "code",
   "execution_count": 71,
   "metadata": {
    "ExecuteTime": {
     "end_time": "2020-10-23T04:58:42.723486Z",
     "start_time": "2020-10-23T04:58:42.628747Z"
    }
   },
   "outputs": [],
   "source": [
    "reviews_games_amount = pd.merge(amount_by_productId, data_games, left_on='product_id',\n",
    "                               right_on='id').sort_values(by='amount', ascending=False)\n",
    "top10 = reviews_games_amount.head(10)"
   ]
  },
  {
   "cell_type": "code",
   "execution_count": 77,
   "metadata": {
    "ExecuteTime": {
     "end_time": "2020-10-23T05:00:25.554711Z",
     "start_time": "2020-10-23T05:00:25.550743Z"
    }
   },
   "outputs": [],
   "source": [
    "# Valores para mostrar en la leyenda de cada barra\n",
    "HOVER_DATA_COLUMNS = ['publisher', 'release_date', 'genres', 'category_price']"
   ]
  },
  {
   "cell_type": "code",
   "execution_count": 79,
   "metadata": {
    "ExecuteTime": {
     "end_time": "2020-10-23T05:00:48.035694Z",
     "start_time": "2020-10-23T05:00:47.907011Z"
    }
   },
   "outputs": [
    {
     "data": {
      "image/svg+xml": [
       "<svg class=\"main-svg\" xmlns=\"http://www.w3.org/2000/svg\" xmlns:xlink=\"http://www.w3.org/1999/xlink\" width=\"700\" height=\"450\" style=\"\" viewBox=\"0 0 700 450\"><rect x=\"0\" y=\"0\" width=\"700\" height=\"450\" style=\"fill: rgb(255, 255, 255); fill-opacity: 1;\"/><defs id=\"defs-6aed35\"><g class=\"clips\"><clipPath id=\"clip6aed35xyplot\" class=\"plotclip\"><rect width=\"384\" height=\"360\"/></clipPath><clipPath class=\"axesclip\" id=\"clip6aed35x\"><rect x=\"152\" y=\"0\" width=\"384\" height=\"450\"/></clipPath><clipPath class=\"axesclip\" id=\"clip6aed35y\"><rect x=\"0\" y=\"40\" width=\"700\" height=\"360\"/></clipPath><clipPath class=\"axesclip\" id=\"clip6aed35xy\"><rect x=\"152\" y=\"40\" width=\"384\" height=\"360\"/></clipPath></g><g class=\"gradients\"><linearGradient x1=\"0\" x2=\"0\" y1=\"1\" y2=\"0\" id=\"g6aed35-cbcoloraxis\"><stop offset=\"0%\" stop-color=\"rgb(68, 1, 84)\" stop-opacity=\"1\"/><stop offset=\"11.11111111111111%\" stop-color=\"rgb(72, 40, 120)\" stop-opacity=\"1\"/><stop offset=\"22.22222222222222%\" stop-color=\"rgb(62, 73, 137)\" stop-opacity=\"1\"/><stop offset=\"33.33333333333333%\" stop-color=\"rgb(49, 104, 142)\" stop-opacity=\"1\"/><stop offset=\"44.44444444444444%\" stop-color=\"rgb(38, 130, 142)\" stop-opacity=\"1\"/><stop offset=\"55.55555555555556%\" stop-color=\"rgb(31, 158, 137)\" stop-opacity=\"1\"/><stop offset=\"66.66666666666666%\" stop-color=\"rgb(53, 183, 121)\" stop-opacity=\"1\"/><stop offset=\"77.77777777777779%\" stop-color=\"rgb(110, 206, 88)\" stop-opacity=\"1\"/><stop offset=\"88.88888888888889%\" stop-color=\"rgb(181, 222, 43)\" stop-opacity=\"1\"/><stop offset=\"100%\" stop-color=\"rgb(253, 231, 37)\" stop-opacity=\"1\"/></linearGradient></g></defs><g class=\"bglayer\"><rect class=\"bg\" x=\"152\" y=\"40\" width=\"384\" height=\"360\" style=\"fill: rgb(229, 236, 246); fill-opacity: 1; stroke-width: 0;\"/></g><g class=\"layer-below\"><g class=\"imagelayer\"/><g class=\"shapelayer\"/></g><g class=\"cartesianlayer\"><g class=\"subplot xy\"><g class=\"layer-subplot\"><g class=\"shapelayer\"/><g class=\"imagelayer\"/></g><g class=\"gridlayer\"><g class=\"x\"><path class=\"xgrid crisp\" transform=\"translate(302.34000000000003,0)\" d=\"M0,40v360\" style=\"stroke: rgb(255, 255, 255); stroke-opacity: 1; stroke-width: 1px;\"/><path class=\"xgrid crisp\" transform=\"translate(452.67,0)\" d=\"M0,40v360\" style=\"stroke: rgb(255, 255, 255); stroke-opacity: 1; stroke-width: 1px;\"/></g><g class=\"y\"/></g><g class=\"zerolinelayer\"><path class=\"xzl zl crisp\" transform=\"translate(152,0)\" d=\"M0,40v360\" style=\"stroke: rgb(255, 255, 255); stroke-opacity: 1; stroke-width: 2px;\"/></g><path class=\"xlines-below\"/><path class=\"ylines-below\"/><g class=\"overlines-below\"/><g class=\"xaxislayer-below\"/><g class=\"yaxislayer-below\"/><g class=\"overaxes-below\"/><g class=\"plot\" transform=\"translate(152, 40)\" clip-path=\"url('#clip6aed35xyplot')\"><g class=\"barlayer mlayer\"><g class=\"trace bars\" style=\"opacity: 1;\"><g class=\"points\"><g class=\"point\"><path d=\"M0,356.4V327.6H116.82V356.4Z\" style=\"vector-effect: non-scaling-stroke; opacity: 1; stroke-width: 0.5px; fill: rgb(68, 1, 84); fill-opacity: 1; stroke: rgb(229, 236, 246); stroke-opacity: 1;\"/></g><g class=\"point\"><path d=\"M0,320.4V291.6H116.84V320.4Z\" style=\"vector-effect: non-scaling-stroke; opacity: 1; stroke-width: 0.5px; fill: rgb(68, 1, 84); fill-opacity: 1; stroke: rgb(229, 236, 246); stroke-opacity: 1;\"/></g><g class=\"point\"><path d=\"M0,284.4V255.6H119.36V284.4Z\" style=\"vector-effect: non-scaling-stroke; opacity: 1; stroke-width: 0.5px; fill: rgb(68, 5, 87); fill-opacity: 1; stroke: rgb(229, 236, 246); stroke-opacity: 1;\"/></g><g class=\"point\"><path d=\"M0,248.4V219.6H121.19V248.4Z\" style=\"vector-effect: non-scaling-stroke; opacity: 1; stroke-width: 0.5px; fill: rgb(69, 7, 90); fill-opacity: 1; stroke: rgb(229, 236, 246); stroke-opacity: 1;\"/></g><g class=\"point\"><path d=\"M0,212.4V183.6H125.82V212.4Z\" style=\"vector-effect: non-scaling-stroke; opacity: 1; stroke-width: 0.5px; fill: rgb(69, 14, 96); fill-opacity: 1; stroke: rgb(229, 236, 246); stroke-opacity: 1;\"/></g><g class=\"point\"><path d=\"M0,176.4V147.6H137.14V176.4Z\" style=\"vector-effect: non-scaling-stroke; opacity: 1; stroke-width: 0.5px; fill: rgb(71, 30, 111); fill-opacity: 1; stroke: rgb(229, 236, 246); stroke-opacity: 1;\"/></g><g class=\"point\"><path d=\"M0,140.4V111.6H144.45V140.4Z\" style=\"vector-effect: non-scaling-stroke; opacity: 1; stroke-width: 0.5px; fill: rgb(72, 40, 120); fill-opacity: 1; stroke: rgb(229, 236, 246); stroke-opacity: 1;\"/></g><g class=\"point\"><path d=\"M0,104.4V75.6H152.09V104.4Z\" style=\"vector-effect: non-scaling-stroke; opacity: 1; stroke-width: 0.5px; fill: rgb(69, 49, 125); fill-opacity: 1; stroke: rgb(229, 236, 246); stroke-opacity: 1;\"/></g><g class=\"point\"><path d=\"M0,68.4V39.6H204.55V68.4Z\" style=\"vector-effect: non-scaling-stroke; opacity: 1; stroke-width: 0.5px; fill: rgb(47, 109, 142); fill-opacity: 1; stroke: rgb(229, 236, 246); stroke-opacity: 1;\"/></g><g class=\"point\"><path d=\"M0,32.4V3.6H364.8V32.4Z\" style=\"vector-effect: non-scaling-stroke; opacity: 1; stroke-width: 0.5px; fill: rgb(253, 231, 37); fill-opacity: 1; stroke: rgb(229, 236, 246); stroke-opacity: 1;\"/></g></g></g></g></g><g class=\"overplot\"/><path class=\"xlines-above crisp\" style=\"fill: none;\" d=\"M0,0\"/><path class=\"ylines-above crisp\" style=\"fill: none;\" d=\"M0,0\"/><g class=\"overlines-above\"/><g class=\"xaxislayer-above\"><g class=\"xtick\"><text text-anchor=\"middle\" x=\"0\" y=\"413\" transform=\"translate(152,0)\" style=\"font-family: 'Open Sans', verdana, arial, sans-serif; font-size: 12px; fill: rgb(42, 63, 95); fill-opacity: 1; white-space: pre;\">0</text></g><g class=\"xtick\"><text text-anchor=\"middle\" x=\"0\" y=\"413\" transform=\"translate(302.34000000000003,0)\" style=\"font-family: 'Open Sans', verdana, arial, sans-serif; font-size: 12px; fill: rgb(42, 63, 95); fill-opacity: 1; white-space: pre;\">50k</text></g><g class=\"xtick\"><text text-anchor=\"middle\" x=\"0\" y=\"413\" transform=\"translate(452.67,0)\" style=\"font-family: 'Open Sans', verdana, arial, sans-serif; font-size: 12px; fill: rgb(42, 63, 95); fill-opacity: 1; white-space: pre;\">100k</text></g></g><g class=\"yaxislayer-above\"><g class=\"ytick\"><text text-anchor=\"end\" x=\"151\" y=\"4.199999999999999\" transform=\"translate(0,382)\" style=\"font-family: 'Open Sans', verdana, arial, sans-serif; font-size: 12px; fill: rgb(42, 63, 95); fill-opacity: 1; white-space: pre;\">Portal 2</text></g><g class=\"ytick\"><text text-anchor=\"end\" x=\"151\" y=\"4.199999999999999\" transform=\"translate(0,346)\" style=\"font-family: 'Open Sans', verdana, arial, sans-serif; font-size: 12px; fill: rgb(42, 63, 95); fill-opacity: 1; white-space: pre;\">Warframe</text></g><g class=\"ytick\"><text text-anchor=\"end\" x=\"151\" y=\"4.199999999999999\" transform=\"translate(0,310)\" style=\"font-family: 'Open Sans', verdana, arial, sans-serif; font-size: 12px; fill: rgb(42, 63, 95); fill-opacity: 1; white-space: pre;\">DayZ</text></g><g class=\"ytick\"><text text-anchor=\"end\" x=\"151\" y=\"4.199999999999999\" transform=\"translate(0,274)\" style=\"font-family: 'Open Sans', verdana, arial, sans-serif; font-size: 12px; fill: rgb(42, 63, 95); fill-opacity: 1; white-space: pre;\">Undertale</text></g><g class=\"ytick\"><text text-anchor=\"end\" x=\"151\" y=\"4.199999999999999\" transform=\"translate(0,238)\" style=\"font-family: 'Open Sans', verdana, arial, sans-serif; font-size: 12px; fill: rgb(42, 63, 95); fill-opacity: 1; white-space: pre;\">Grand Theft Auto V</text></g><g class=\"ytick\"><text text-anchor=\"end\" x=\"151\" y=\"4.199999999999999\" transform=\"translate(0,202)\" style=\"font-family: 'Open Sans', verdana, arial, sans-serif; font-size: 12px; fill: rgb(42, 63, 95); fill-opacity: 1; white-space: pre;\">Robocraft</text></g><g class=\"ytick\"><text text-anchor=\"end\" x=\"151\" y=\"4.199999999999999\" transform=\"translate(0,166)\" style=\"font-family: 'Open Sans', verdana, arial, sans-serif; font-size: 12px; fill: rgb(42, 63, 95); fill-opacity: 1; white-space: pre;\">Fallout 4</text></g><g class=\"ytick\"><text text-anchor=\"end\" x=\"151\" y=\"4.199999999999999\" transform=\"translate(0,130)\" style=\"font-family: 'Open Sans', verdana, arial, sans-serif; font-size: 12px; fill: rgb(42, 63, 95); fill-opacity: 1; white-space: pre;\">Borderlands 2</text></g><g class=\"ytick\"><text text-anchor=\"end\" x=\"151\" y=\"4.199999999999999\" transform=\"translate(0,94)\" style=\"font-family: 'Open Sans', verdana, arial, sans-serif; font-size: 12px; fill: rgb(42, 63, 95); fill-opacity: 1; white-space: pre;\">Rust</text></g><g class=\"ytick\"><text text-anchor=\"end\" x=\"151\" y=\"4.199999999999999\" transform=\"translate(0,58)\" style=\"font-family: 'Open Sans', verdana, arial, sans-serif; font-size: 12px; fill: rgb(42, 63, 95); fill-opacity: 1; white-space: pre;\">Team Fortress 2</text></g></g><g class=\"overaxes-above\"/></g></g><g class=\"polarlayer\"/><g class=\"ternarylayer\"/><g class=\"geolayer\"/><g class=\"funnelarealayer\"/><g class=\"pielayer\"/><g class=\"treemaplayer\"/><g class=\"sunburstlayer\"/><g class=\"glimages\"/><defs id=\"topdefs-6aed35\"><g class=\"clips\"/></defs><g class=\"layer-above\"><g class=\"imagelayer\"/><g class=\"shapelayer\"/></g><g class=\"infolayer\"><g class=\"cbcoloraxis colorbar\" transform=\"translate(152,40)\"><rect class=\"cbbg\" x=\"392\" y=\"0\" width=\"146.859375\" height=\"360\" style=\"fill: rgb(0, 0, 0); fill-opacity: 0; stroke: rgb(68, 68, 68); stroke-opacity: 1; stroke-width: 0;\"/><g class=\"cbfills\" transform=\"translate(0,29)\"><rect class=\"cbfill\" x=\"402\" width=\"30\" y=\"0\" height=\"321\" style=\"stroke: none; fill: url('#g6aed35-cbcoloraxis');\"/></g><g class=\"cblines\" transform=\"translate(0,29)\"/><g class=\"cbaxis crisp\" transform=\"translate(0,-40)\"><g class=\"ycbcoloraxistick\"><text text-anchor=\"start\" x=\"434.9\" y=\"4.199999999999999\" transform=\"translate(0,385.54625)\" style=\"font-family: 'Open Sans', verdana, arial, sans-serif; font-size: 12px; fill: rgb(42, 63, 95); fill-opacity: 1; white-space: pre;\">40k</text></g><g class=\"ycbcoloraxistick\"><text text-anchor=\"start\" x=\"434.9\" y=\"4.199999999999999\" transform=\"translate(0,346.66625)\" style=\"font-family: 'Open Sans', verdana, arial, sans-serif; font-size: 12px; fill: rgb(42, 63, 95); fill-opacity: 1; white-space: pre;\">50k</text></g><g class=\"ycbcoloraxistick\"><text text-anchor=\"start\" x=\"434.9\" y=\"4.199999999999999\" transform=\"translate(0,307.79625)\" style=\"font-family: 'Open Sans', verdana, arial, sans-serif; font-size: 12px; fill: rgb(42, 63, 95); fill-opacity: 1; white-space: pre;\">60k</text></g><g class=\"ycbcoloraxistick\"><text text-anchor=\"start\" x=\"434.9\" y=\"4.199999999999999\" transform=\"translate(0,268.92625000000004)\" style=\"font-family: 'Open Sans', verdana, arial, sans-serif; font-size: 12px; fill: rgb(42, 63, 95); fill-opacity: 1; white-space: pre;\">70k</text></g><g class=\"ycbcoloraxistick\"><text text-anchor=\"start\" x=\"434.9\" y=\"4.199999999999999\" transform=\"translate(0,230.05625000000003)\" style=\"font-family: 'Open Sans', verdana, arial, sans-serif; font-size: 12px; fill: rgb(42, 63, 95); fill-opacity: 1; white-space: pre;\">80k</text></g><g class=\"ycbcoloraxistick\"><text text-anchor=\"start\" x=\"434.9\" y=\"4.199999999999999\" transform=\"translate(0,191.18625000000003)\" style=\"font-family: 'Open Sans', verdana, arial, sans-serif; font-size: 12px; fill: rgb(42, 63, 95); fill-opacity: 1; white-space: pre;\">90k</text></g><g class=\"ycbcoloraxistick\"><text text-anchor=\"start\" x=\"434.9\" y=\"4.199999999999999\" transform=\"translate(0,152.31625000000003)\" style=\"font-family: 'Open Sans', verdana, arial, sans-serif; font-size: 12px; fill: rgb(42, 63, 95); fill-opacity: 1; white-space: pre;\">100k</text></g><g class=\"ycbcoloraxistick\"><text text-anchor=\"start\" x=\"434.9\" y=\"4.199999999999999\" transform=\"translate(0,113.44625000000002)\" style=\"font-family: 'Open Sans', verdana, arial, sans-serif; font-size: 12px; fill: rgb(42, 63, 95); fill-opacity: 1; white-space: pre;\">110k</text></g><g class=\"ycbcoloraxistick\"><text text-anchor=\"start\" x=\"434.9\" y=\"4.199999999999999\" transform=\"translate(0,74.57625000000003)\" style=\"font-family: 'Open Sans', verdana, arial, sans-serif; font-size: 12px; fill: rgb(42, 63, 95); fill-opacity: 1; white-space: pre;\">120k</text></g></g><g class=\"cbtitleunshift\" transform=\"translate(-152,-40)\"><g class=\"cbtitle\" transform=\"translate(0,0)\"><text class=\"ycbcoloraxistitle\" x=\"553.6800000000001\" y=\"62\" text-anchor=\"start\" style=\"font-family: 'Open Sans', verdana, arial, sans-serif; font-size: 12px; fill: rgb(42, 63, 95); opacity: 1; font-weight: normal; white-space: pre;\">Cantidad de usuarios</text></g></g><rect class=\"cboutline\" x=\"402\" y=\"29.40625\" width=\"30\" height=\"320.59375\" style=\"stroke: rgb(68, 68, 68); stroke-opacity: 1; fill: none; stroke-width: 0;\"/></g><g class=\"g-gtitle\"><text class=\"gtitle\" x=\"35\" y=\"20\" text-anchor=\"start\" dy=\"0em\" style=\"font-family: 'Open Sans', verdana, arial, sans-serif; font-size: 17px; fill: rgb(42, 63, 95); opacity: 1; font-weight: normal; white-space: pre;\">Videojuegos más populares</text></g><g class=\"g-xtitle\"><text class=\"xtitle\" x=\"344\" y=\"440.20625\" text-anchor=\"middle\" style=\"font-family: 'Open Sans', verdana, arial, sans-serif; font-size: 14px; fill: rgb(42, 63, 95); opacity: 1; font-weight: normal; white-space: pre;\">Cantidad de usuarios</text></g><g class=\"g-ytitle\" transform=\"translate(4.3935546875,0)\"><text class=\"ytitle\" transform=\"rotate(-90,10.012499999999989,220)\" x=\"10.012499999999989\" y=\"220\" text-anchor=\"middle\" style=\"font-family: 'Open Sans', verdana, arial, sans-serif; font-size: 14px; fill: rgb(42, 63, 95); opacity: 1; font-weight: normal; white-space: pre;\">Videojuegos</text></g></g></svg>"
      ]
     },
     "metadata": {},
     "output_type": "display_data"
    }
   ],
   "source": [
    "fig = px.bar(top10.sort_values(by='amount'), y='app_name', x='amount', color='amount', title='Videojuegos más populares',\n",
    "             color_continuous_scale='viridis',\n",
    "             labels={'app_name': 'Videojuegos',\n",
    "                     \"amount\": 'Cantidad de usuarios'},\n",
    "             hover_data=HOVER_DATA_COLUMNS)\n",
    "fig.update_layout(\n",
    "    autosize=False,\n",
    "    width=800,\n",
    "    height=500,\n",
    "    margin=dict(l=20, r=20, t=40, b=10)\n",
    ")\n",
    "fig.show('svg')"
   ]
  },
  {
   "cell_type": "code",
   "execution_count": 80,
   "metadata": {
    "ExecuteTime": {
     "end_time": "2020-10-23T05:00:49.828283Z",
     "start_time": "2020-10-23T05:00:49.824294Z"
    }
   },
   "outputs": [],
   "source": [
    "del top10"
   ]
  },
  {
   "cell_type": "markdown",
   "metadata": {},
   "source": [
    "#### Videojuegos con más tiempo de juego"
   ]
  },
  {
   "cell_type": "code",
   "execution_count": 81,
   "metadata": {
    "ExecuteTime": {
     "end_time": "2020-10-23T05:00:52.615990Z",
     "start_time": "2020-10-23T05:00:52.310769Z"
    }
   },
   "outputs": [],
   "source": [
    "hours_by_productId = data_reviews.groupby('product_id', as_index=False).hours.sum()\n",
    "\n",
    "reviews_games_hours = pd.merge(hours_by_productId, data_games, left_on='product_id',\n",
    "                               right_on='id').sort_values(by='hours', ascending=False)\n",
    "\n",
    "hours10 = reviews_games_hours.head(10).sort_values(by='hours')"
   ]
  },
  {
   "cell_type": "code",
   "execution_count": 82,
   "metadata": {
    "ExecuteTime": {
     "end_time": "2020-10-23T05:01:02.516192Z",
     "start_time": "2020-10-23T05:01:02.398507Z"
    }
   },
   "outputs": [
    {
     "data": {
      "image/svg+xml": [
       "<svg class=\"main-svg\" xmlns=\"http://www.w3.org/2000/svg\" xmlns:xlink=\"http://www.w3.org/1999/xlink\" width=\"700\" height=\"450\" style=\"\" viewBox=\"0 0 700 450\"><rect x=\"0\" y=\"0\" width=\"700\" height=\"450\" style=\"fill: rgb(255, 255, 255); fill-opacity: 1;\"/><defs id=\"defs-b8b4a6\"><g class=\"clips\"><clipPath id=\"clipb8b4a6xyplot\" class=\"plotclip\"><rect width=\"384\" height=\"360\"/></clipPath><clipPath class=\"axesclip\" id=\"clipb8b4a6x\"><rect x=\"187\" y=\"0\" width=\"384\" height=\"450\"/></clipPath><clipPath class=\"axesclip\" id=\"clipb8b4a6y\"><rect x=\"0\" y=\"40\" width=\"700\" height=\"360\"/></clipPath><clipPath class=\"axesclip\" id=\"clipb8b4a6xy\"><rect x=\"187\" y=\"40\" width=\"384\" height=\"360\"/></clipPath></g><g class=\"gradients\"><linearGradient x1=\"0\" x2=\"0\" y1=\"1\" y2=\"0\" id=\"gb8b4a6-cbcoloraxis\"><stop offset=\"0%\" stop-color=\"rgb(68, 1, 84)\" stop-opacity=\"1\"/><stop offset=\"11.11111111111111%\" stop-color=\"rgb(72, 40, 120)\" stop-opacity=\"1\"/><stop offset=\"22.22222222222222%\" stop-color=\"rgb(62, 73, 137)\" stop-opacity=\"1\"/><stop offset=\"33.33333333333333%\" stop-color=\"rgb(49, 104, 142)\" stop-opacity=\"1\"/><stop offset=\"44.44444444444444%\" stop-color=\"rgb(38, 130, 142)\" stop-opacity=\"1\"/><stop offset=\"55.55555555555556%\" stop-color=\"rgb(31, 158, 137)\" stop-opacity=\"1\"/><stop offset=\"66.66666666666666%\" stop-color=\"rgb(53, 183, 121)\" stop-opacity=\"1\"/><stop offset=\"77.77777777777779%\" stop-color=\"rgb(110, 206, 88)\" stop-opacity=\"1\"/><stop offset=\"88.88888888888889%\" stop-color=\"rgb(181, 222, 43)\" stop-opacity=\"1\"/><stop offset=\"100%\" stop-color=\"rgb(253, 231, 37)\" stop-opacity=\"1\"/></linearGradient></g></defs><g class=\"bglayer\"><rect class=\"bg\" x=\"187\" y=\"40\" width=\"384\" height=\"360\" style=\"fill: rgb(229, 236, 246); fill-opacity: 1; stroke-width: 0;\"/></g><g class=\"layer-below\"><g class=\"imagelayer\"/><g class=\"shapelayer\"/></g><g class=\"cartesianlayer\"><g class=\"subplot xy\"><g class=\"layer-subplot\"><g class=\"shapelayer\"/><g class=\"imagelayer\"/></g><g class=\"gridlayer\"><g class=\"x\"><path class=\"xgrid crisp\" transform=\"translate(269.47,0)\" d=\"M0,40v360\" style=\"stroke: rgb(255, 255, 255); stroke-opacity: 1; stroke-width: 1px;\"/><path class=\"xgrid crisp\" transform=\"translate(351.94,0)\" d=\"M0,40v360\" style=\"stroke: rgb(255, 255, 255); stroke-opacity: 1; stroke-width: 1px;\"/><path class=\"xgrid crisp\" transform=\"translate(434.40999999999997,0)\" d=\"M0,40v360\" style=\"stroke: rgb(255, 255, 255); stroke-opacity: 1; stroke-width: 1px;\"/><path class=\"xgrid crisp\" transform=\"translate(516.88,0)\" d=\"M0,40v360\" style=\"stroke: rgb(255, 255, 255); stroke-opacity: 1; stroke-width: 1px;\"/></g><g class=\"y\"/></g><g class=\"zerolinelayer\"><path class=\"xzl zl crisp\" transform=\"translate(187,0)\" d=\"M0,40v360\" style=\"stroke: rgb(255, 255, 255); stroke-opacity: 1; stroke-width: 2px;\"/></g><path class=\"xlines-below\"/><path class=\"ylines-below\"/><g class=\"overlines-below\"/><g class=\"xaxislayer-below\"/><g class=\"yaxislayer-below\"/><g class=\"overaxes-below\"/><g class=\"plot\" transform=\"translate(187, 40)\" clip-path=\"url('#clipb8b4a6xyplot')\"><g class=\"barlayer mlayer\"><g class=\"trace bars\" style=\"opacity: 1;\"><g class=\"points\"><g class=\"point\"><path d=\"M0,356.4V327.6H38.75V356.4Z\" style=\"vector-effect: non-scaling-stroke; opacity: 1; stroke-width: 0.5px; fill: rgb(68, 1, 84); fill-opacity: 1; stroke: rgb(229, 236, 246); stroke-opacity: 1;\"/></g><g class=\"point\"><path d=\"M0,320.4V291.6H40.75V320.4Z\" style=\"vector-effect: non-scaling-stroke; opacity: 1; stroke-width: 0.5px; fill: rgb(68, 3, 86); fill-opacity: 1; stroke: rgb(229, 236, 246); stroke-opacity: 1;\"/></g><g class=\"point\"><path d=\"M0,284.4V255.6H42.2V284.4Z\" style=\"vector-effect: non-scaling-stroke; opacity: 1; stroke-width: 0.5px; fill: rgb(68, 5, 87); fill-opacity: 1; stroke: rgb(229, 236, 246); stroke-opacity: 1;\"/></g><g class=\"point\"><path d=\"M0,248.4V219.6H44.74V248.4Z\" style=\"vector-effect: non-scaling-stroke; opacity: 1; stroke-width: 0.5px; fill: rgb(69, 7, 90); fill-opacity: 1; stroke: rgb(229, 236, 246); stroke-opacity: 1;\"/></g><g class=\"point\"><path d=\"M0,212.4V183.6H63.51V212.4Z\" style=\"vector-effect: non-scaling-stroke; opacity: 1; stroke-width: 0.5px; fill: rgb(71, 28, 109); fill-opacity: 1; stroke: rgb(229, 236, 246); stroke-opacity: 1;\"/></g><g class=\"point\"><path d=\"M0,176.4V147.6H73.52V176.4Z\" style=\"vector-effect: non-scaling-stroke; opacity: 1; stroke-width: 0.5px; fill: rgb(72, 38, 119); fill-opacity: 1; stroke: rgb(229, 236, 246); stroke-opacity: 1;\"/></g><g class=\"point\"><path d=\"M0,140.4V111.6H75.66V140.4Z\" style=\"vector-effect: non-scaling-stroke; opacity: 1; stroke-width: 0.5px; fill: rgb(72, 41, 120); fill-opacity: 1; stroke: rgb(229, 236, 246); stroke-opacity: 1;\"/></g><g class=\"point\"><path d=\"M0,104.4V75.6H98.44V104.4Z\" style=\"vector-effect: non-scaling-stroke; opacity: 1; stroke-width: 0.5px; fill: rgb(66, 61, 131); fill-opacity: 1; stroke: rgb(229, 236, 246); stroke-opacity: 1;\"/></g><g class=\"point\"><path d=\"M0,68.4V39.6H120.86V68.4Z\" style=\"vector-effect: non-scaling-stroke; opacity: 1; stroke-width: 0.5px; fill: rgb(59, 81, 138); fill-opacity: 1; stroke: rgb(229, 236, 246); stroke-opacity: 1;\"/></g><g class=\"point\"><path d=\"M0,32.4V3.6H364.8V32.4Z\" style=\"vector-effect: non-scaling-stroke; opacity: 1; stroke-width: 0.5px; fill: rgb(253, 231, 37); fill-opacity: 1; stroke: rgb(229, 236, 246); stroke-opacity: 1;\"/></g></g></g></g></g><g class=\"overplot\"/><path class=\"xlines-above crisp\" style=\"fill: none;\" d=\"M0,0\"/><path class=\"ylines-above crisp\" style=\"fill: none;\" d=\"M0,0\"/><g class=\"overlines-above\"/><g class=\"xaxislayer-above\"><g class=\"xtick\"><text text-anchor=\"middle\" x=\"0\" y=\"413\" transform=\"translate(187,0)\" style=\"font-family: 'Open Sans', verdana, arial, sans-serif; font-size: 12px; fill: rgb(42, 63, 95); fill-opacity: 1; white-space: pre;\">0</text></g><g class=\"xtick\"><text text-anchor=\"middle\" x=\"0\" y=\"413\" transform=\"translate(269.47,0)\" style=\"font-family: 'Open Sans', verdana, arial, sans-serif; font-size: 12px; fill: rgb(42, 63, 95); fill-opacity: 1; white-space: pre;\">20M</text></g><g class=\"xtick\"><text text-anchor=\"middle\" x=\"0\" y=\"413\" transform=\"translate(351.94,0)\" style=\"font-family: 'Open Sans', verdana, arial, sans-serif; font-size: 12px; fill: rgb(42, 63, 95); fill-opacity: 1; white-space: pre;\">40M</text></g><g class=\"xtick\"><text text-anchor=\"middle\" x=\"0\" y=\"413\" transform=\"translate(434.40999999999997,0)\" style=\"font-family: 'Open Sans', verdana, arial, sans-serif; font-size: 12px; fill: rgb(42, 63, 95); fill-opacity: 1; white-space: pre;\">60M</text></g><g class=\"xtick\"><text text-anchor=\"middle\" x=\"0\" y=\"413\" transform=\"translate(516.88,0)\" style=\"font-family: 'Open Sans', verdana, arial, sans-serif; font-size: 12px; fill: rgb(42, 63, 95); fill-opacity: 1; white-space: pre;\">80M</text></g></g><g class=\"yaxislayer-above\"><g class=\"ytick\"><text text-anchor=\"end\" x=\"186\" y=\"4.199999999999999\" transform=\"translate(0,382)\" style=\"font-family: 'Open Sans', verdana, arial, sans-serif; font-size: 12px; fill: rgb(42, 63, 95); fill-opacity: 1; white-space: pre;\">DayZ</text></g><g class=\"ytick\"><text text-anchor=\"end\" x=\"186\" y=\"4.199999999999999\" transform=\"translate(0,346)\" style=\"font-family: 'Open Sans', verdana, arial, sans-serif; font-size: 12px; fill: rgb(42, 63, 95); fill-opacity: 1; white-space: pre;\">Counter-Strike: Source</text></g><g class=\"ytick\"><text text-anchor=\"end\" x=\"186\" y=\"4.199999999999999\" transform=\"translate(0,310)\" style=\"font-family: 'Open Sans', verdana, arial, sans-serif; font-size: 12px; fill: rgb(42, 63, 95); fill-opacity: 1; white-space: pre;\">Mount &amp; Blade: Warband</text></g><g class=\"ytick\"><text text-anchor=\"end\" x=\"186\" y=\"4.199999999999999\" transform=\"translate(0,274)\" style=\"font-family: 'Open Sans', verdana, arial, sans-serif; font-size: 12px; fill: rgb(42, 63, 95); fill-opacity: 1; white-space: pre;\">Fallout 4</text></g><g class=\"ytick\"><text text-anchor=\"end\" x=\"186\" y=\"4.199999999999999\" transform=\"translate(0,238)\" style=\"font-family: 'Open Sans', verdana, arial, sans-serif; font-size: 12px; fill: rgb(42, 63, 95); fill-opacity: 1; white-space: pre;\">ARK: Survival Evolved</text></g><g class=\"ytick\"><text text-anchor=\"end\" x=\"186\" y=\"4.199999999999999\" transform=\"translate(0,202)\" style=\"font-family: 'Open Sans', verdana, arial, sans-serif; font-size: 12px; fill: rgb(42, 63, 95); fill-opacity: 1; white-space: pre;\">Arma 3</text></g><g class=\"ytick\"><text text-anchor=\"end\" x=\"186\" y=\"4.199999999999999\" transform=\"translate(0,166)\" style=\"font-family: 'Open Sans', verdana, arial, sans-serif; font-size: 12px; fill: rgb(42, 63, 95); fill-opacity: 1; white-space: pre;\">Garry's Mod</text></g><g class=\"ytick\"><text text-anchor=\"end\" x=\"186\" y=\"4.199999999999999\" transform=\"translate(0,130)\" style=\"font-family: 'Open Sans', verdana, arial, sans-serif; font-size: 12px; fill: rgb(42, 63, 95); fill-opacity: 1; white-space: pre;\">Warframe</text></g><g class=\"ytick\"><text text-anchor=\"end\" x=\"186\" y=\"4.199999999999999\" transform=\"translate(0,94)\" style=\"font-family: 'Open Sans', verdana, arial, sans-serif; font-size: 12px; fill: rgb(42, 63, 95); fill-opacity: 1; white-space: pre;\">Rust</text></g><g class=\"ytick\"><text text-anchor=\"end\" x=\"186\" y=\"4.199999999999999\" transform=\"translate(0,58)\" style=\"font-family: 'Open Sans', verdana, arial, sans-serif; font-size: 12px; fill: rgb(42, 63, 95); fill-opacity: 1; white-space: pre;\">Team Fortress 2</text></g></g><g class=\"overaxes-above\"/></g></g><g class=\"polarlayer\"/><g class=\"ternarylayer\"/><g class=\"geolayer\"/><g class=\"funnelarealayer\"/><g class=\"pielayer\"/><g class=\"treemaplayer\"/><g class=\"sunburstlayer\"/><g class=\"glimages\"/><defs id=\"topdefs-b8b4a6\"><g class=\"clips\"/></defs><g class=\"layer-above\"><g class=\"imagelayer\"/><g class=\"shapelayer\"/></g><g class=\"infolayer\"><g class=\"cbcoloraxis colorbar\" transform=\"translate(187,40)\"><rect class=\"cbbg\" x=\"392\" y=\"0\" width=\"111.046875\" height=\"360\" style=\"fill: rgb(0, 0, 0); fill-opacity: 0; stroke: rgb(68, 68, 68); stroke-opacity: 1; stroke-width: 0;\"/><g class=\"cbfills\" transform=\"translate(0,29)\"><rect class=\"cbfill\" x=\"402\" width=\"30\" y=\"0\" height=\"321\" style=\"stroke: none; fill: url('#gb8b4a6-cbcoloraxis');\"/></g><g class=\"cblines\" transform=\"translate(0,29)\"/><g class=\"cbaxis crisp\" transform=\"translate(0,-40)\"><g class=\"ycbcoloraxistick\"><text text-anchor=\"start\" x=\"434.9\" y=\"4.199999999999999\" transform=\"translate(0,387.55625)\" style=\"font-family: 'Open Sans', verdana, arial, sans-serif; font-size: 12px; fill: rgb(42, 63, 95); fill-opacity: 1; white-space: pre;\">10M</text></g><g class=\"ycbcoloraxistick\"><text text-anchor=\"start\" x=\"434.9\" y=\"4.199999999999999\" transform=\"translate(0,347.00625)\" style=\"font-family: 'Open Sans', verdana, arial, sans-serif; font-size: 12px; fill: rgb(42, 63, 95); fill-opacity: 1; white-space: pre;\">20M</text></g><g class=\"ycbcoloraxistick\"><text text-anchor=\"start\" x=\"434.9\" y=\"4.199999999999999\" transform=\"translate(0,306.46625000000006)\" style=\"font-family: 'Open Sans', verdana, arial, sans-serif; font-size: 12px; fill: rgb(42, 63, 95); fill-opacity: 1; white-space: pre;\">30M</text></g><g class=\"ycbcoloraxistick\"><text text-anchor=\"start\" x=\"434.9\" y=\"4.199999999999999\" transform=\"translate(0,265.91625)\" style=\"font-family: 'Open Sans', verdana, arial, sans-serif; font-size: 12px; fill: rgb(42, 63, 95); fill-opacity: 1; white-space: pre;\">40M</text></g><g class=\"ycbcoloraxistick\"><text text-anchor=\"start\" x=\"434.9\" y=\"4.199999999999999\" transform=\"translate(0,225.37625000000003)\" style=\"font-family: 'Open Sans', verdana, arial, sans-serif; font-size: 12px; fill: rgb(42, 63, 95); fill-opacity: 1; white-space: pre;\">50M</text></g><g class=\"ycbcoloraxistick\"><text text-anchor=\"start\" x=\"434.9\" y=\"4.199999999999999\" transform=\"translate(0,184.82625000000002)\" style=\"font-family: 'Open Sans', verdana, arial, sans-serif; font-size: 12px; fill: rgb(42, 63, 95); fill-opacity: 1; white-space: pre;\">60M</text></g><g class=\"ycbcoloraxistick\"><text text-anchor=\"start\" x=\"434.9\" y=\"4.199999999999999\" transform=\"translate(0,144.28625000000002)\" style=\"font-family: 'Open Sans', verdana, arial, sans-serif; font-size: 12px; fill: rgb(42, 63, 95); fill-opacity: 1; white-space: pre;\">70M</text></g><g class=\"ycbcoloraxistick\"><text text-anchor=\"start\" x=\"434.9\" y=\"4.199999999999999\" transform=\"translate(0,103.73625000000003)\" style=\"font-family: 'Open Sans', verdana, arial, sans-serif; font-size: 12px; fill: rgb(42, 63, 95); fill-opacity: 1; white-space: pre;\">80M</text></g></g><g class=\"cbtitleunshift\" transform=\"translate(-187,-40)\"><g class=\"cbtitle\" transform=\"translate(0,0)\"><text class=\"ycbcoloraxistitle\" x=\"588.6800000000001\" y=\"62\" text-anchor=\"start\" style=\"font-family: 'Open Sans', verdana, arial, sans-serif; font-size: 12px; fill: rgb(42, 63, 95); opacity: 1; font-weight: normal; white-space: pre;\">Horas de juego</text></g></g><rect class=\"cboutline\" x=\"402\" y=\"29.40625\" width=\"30\" height=\"320.59375\" style=\"stroke: rgb(68, 68, 68); stroke-opacity: 1; fill: none; stroke-width: 0;\"/></g><g class=\"g-gtitle\"><text class=\"gtitle\" x=\"35\" y=\"20\" text-anchor=\"start\" dy=\"0em\" style=\"font-family: 'Open Sans', verdana, arial, sans-serif; font-size: 17px; fill: rgb(42, 63, 95); opacity: 1; font-weight: normal; white-space: pre;\">Videojuegos con mas tiempo de juego</text></g><g class=\"g-xtitle\"><text class=\"xtitle\" x=\"379\" y=\"440.20625\" text-anchor=\"middle\" style=\"font-family: 'Open Sans', verdana, arial, sans-serif; font-size: 14px; fill: rgb(42, 63, 95); opacity: 1; font-weight: normal; white-space: pre;\">Horas de juego</text></g><g class=\"g-ytitle\" transform=\"translate(4.0654296875,0)\"><text class=\"ytitle\" transform=\"rotate(-90,10.340624999999989,220)\" x=\"10.340624999999989\" y=\"220\" text-anchor=\"middle\" style=\"font-family: 'Open Sans', verdana, arial, sans-serif; font-size: 14px; fill: rgb(42, 63, 95); opacity: 1; font-weight: normal; white-space: pre;\">Videojuegos</text></g></g></svg>"
      ]
     },
     "metadata": {},
     "output_type": "display_data"
    }
   ],
   "source": [
    "fig = px.bar(data_frame=hours10, y='app_name', x='hours', color='hours', title='Videojuegos con mas tiempo de juego',\n",
    "             color_continuous_scale='viridis',\n",
    "             labels={'app_name': 'Videojuegos', \"hours\": 'Horas de juego'},\n",
    "             hover_data=HOVER_DATA_COLUMNS)\n",
    "\n",
    "fig.update_layout(\n",
    "    autosize=False,\n",
    "    width=800,\n",
    "    height=500,\n",
    "    margin=dict(l=20, r=20, t=40, b=10)\n",
    ")\n",
    "fig.show('svg')"
   ]
  },
  {
   "cell_type": "code",
   "execution_count": 83,
   "metadata": {
    "ExecuteTime": {
     "end_time": "2020-10-23T05:01:03.599682Z",
     "start_time": "2020-10-23T05:01:03.594698Z"
    }
   },
   "outputs": [],
   "source": [
    "#Liberando memoria\n",
    "del hours_by_productId, reviews_games_hours, hours10"
   ]
  },
  {
   "cell_type": "markdown",
   "metadata": {},
   "source": [
    "#### Género más popular"
   ]
  },
  {
   "cell_type": "code",
   "execution_count": 84,
   "metadata": {
    "ExecuteTime": {
     "end_time": "2020-10-23T05:01:04.917469Z",
     "start_time": "2020-10-23T05:01:04.882563Z"
    }
   },
   "outputs": [],
   "source": [
    "all_genres = list(itertools.chain(*data_games.genres))\n",
    "value, count = np.unique(all_genres, return_counts=True)\n",
    "order = np.argsort(count)"
   ]
  },
  {
   "cell_type": "code",
   "execution_count": 85,
   "metadata": {
    "ExecuteTime": {
     "end_time": "2020-10-23T05:01:08.835395Z",
     "start_time": "2020-10-23T05:01:08.573096Z"
    }
   },
   "outputs": [
    {
     "data": {
      "image/svg+xml": [
       "<svg class=\"main-svg\" xmlns=\"http://www.w3.org/2000/svg\" xmlns:xlink=\"http://www.w3.org/1999/xlink\" width=\"700\" height=\"450\" style=\"\" viewBox=\"0 0 700 450\"><rect x=\"0\" y=\"0\" width=\"700\" height=\"450\" style=\"fill: rgb(255, 255, 255); fill-opacity: 1;\"/><defs id=\"defs-9efdc0\"><g class=\"clips\"><clipPath id=\"clip9efdc0xyplot\" class=\"plotclip\"><rect width=\"399\" height=\"371\"/></clipPath><clipPath class=\"axesclip\" id=\"clip9efdc0x\"><rect x=\"217\" y=\"0\" width=\"399\" height=\"450\"/></clipPath><clipPath class=\"axesclip\" id=\"clip9efdc0y\"><rect x=\"0\" y=\"36\" width=\"700\" height=\"371\"/></clipPath><clipPath class=\"axesclip\" id=\"clip9efdc0xy\"><rect x=\"217\" y=\"36\" width=\"399\" height=\"371\"/></clipPath></g><g class=\"gradients\"><linearGradient x1=\"0\" x2=\"0\" y1=\"1\" y2=\"0\" id=\"g9efdc0-cbcoloraxis\"><stop offset=\"0%\" stop-color=\"rgb(211, 242, 163)\" stop-opacity=\"1\"/><stop offset=\"16.666666666666664%\" stop-color=\"rgb(151, 225, 150)\" stop-opacity=\"1\"/><stop offset=\"33.33333333333333%\" stop-color=\"rgb(108, 192, 139)\" stop-opacity=\"1\"/><stop offset=\"50%\" stop-color=\"rgb(76, 155, 130)\" stop-opacity=\"1\"/><stop offset=\"66.66666666666666%\" stop-color=\"rgb(33, 122, 121)\" stop-opacity=\"1\"/><stop offset=\"83.33333333333334%\" stop-color=\"rgb(16, 89, 101)\" stop-opacity=\"1\"/><stop offset=\"100%\" stop-color=\"rgb(7, 64, 80)\" stop-opacity=\"1\"/></linearGradient></g></defs><g class=\"bglayer\"><rect class=\"bg\" x=\"217\" y=\"36\" width=\"399\" height=\"371\" style=\"fill: rgb(229, 236, 246); fill-opacity: 1; stroke-width: 0;\"/></g><g class=\"layer-below\"><g class=\"imagelayer\"/><g class=\"shapelayer\"/></g><g class=\"cartesianlayer\"><g class=\"subplot xy\"><g class=\"layer-subplot\"><g class=\"shapelayer\"/><g class=\"imagelayer\"/></g><g class=\"gridlayer\"><g class=\"x\"><path class=\"xgrid crisp\" transform=\"translate(287.14,0)\" d=\"M0,36v371\" style=\"stroke: rgb(255, 255, 255); stroke-opacity: 1; stroke-width: 1px;\"/><path class=\"xgrid crisp\" transform=\"translate(357.28,0)\" d=\"M0,36v371\" style=\"stroke: rgb(255, 255, 255); stroke-opacity: 1; stroke-width: 1px;\"/><path class=\"xgrid crisp\" transform=\"translate(427.43,0)\" d=\"M0,36v371\" style=\"stroke: rgb(255, 255, 255); stroke-opacity: 1; stroke-width: 1px;\"/><path class=\"xgrid crisp\" transform=\"translate(497.57,0)\" d=\"M0,36v371\" style=\"stroke: rgb(255, 255, 255); stroke-opacity: 1; stroke-width: 1px;\"/><path class=\"xgrid crisp\" transform=\"translate(567.71,0)\" d=\"M0,36v371\" style=\"stroke: rgb(255, 255, 255); stroke-opacity: 1; stroke-width: 1px;\"/></g><g class=\"y\"/></g><g class=\"zerolinelayer\"><path class=\"xzl zl crisp\" transform=\"translate(217,0)\" d=\"M0,36v371\" style=\"stroke: rgb(255, 255, 255); stroke-opacity: 1; stroke-width: 2px;\"/></g><path class=\"xlines-below\"/><path class=\"ylines-below\"/><g class=\"overlines-below\"/><g class=\"xaxislayer-below\"/><g class=\"yaxislayer-below\"/><g class=\"overaxes-below\"/><g class=\"plot\" transform=\"translate(217, 36)\" clip-path=\"url('#clip9efdc0xyplot')\"><g class=\"barlayer mlayer\"><g class=\"trace bars\" style=\"opacity: 1;\"><g class=\"points\"><g class=\"point\"><path d=\"M0,368.94V352.45H0.07V368.94Z\" style=\"vector-effect: non-scaling-stroke; opacity: 1; stroke-width: 0.5px; fill: rgb(211, 242, 163); fill-opacity: 1; stroke: rgb(229, 236, 246); stroke-opacity: 1;\"/></g><g class=\"point\"><path d=\"M0,348.33V331.84H0.46V348.33Z\" style=\"vector-effect: non-scaling-stroke; opacity: 1; stroke-width: 0.5px; fill: rgb(211, 242, 163); fill-opacity: 1; stroke: rgb(229, 236, 246); stroke-opacity: 1;\"/></g><g class=\"point\"><path d=\"M0,327.72V311.23H0.84V327.72Z\" style=\"vector-effect: non-scaling-stroke; opacity: 1; stroke-width: 0.5px; fill: rgb(210, 242, 163); fill-opacity: 1; stroke: rgb(229, 236, 246); stroke-opacity: 1;\"/></g><g class=\"point\"><path d=\"M0,307.11V290.62H0.95V307.11Z\" style=\"vector-effect: non-scaling-stroke; opacity: 1; stroke-width: 0.5px; fill: rgb(210, 242, 163); fill-opacity: 1; stroke: rgb(229, 236, 246); stroke-opacity: 1;\"/></g><g class=\"point\"><path d=\"M0,286.49V270.01H1.26V286.49Z\" style=\"vector-effect: non-scaling-stroke; opacity: 1; stroke-width: 0.5px; fill: rgb(210, 242, 163); fill-opacity: 1; stroke: rgb(229, 236, 246); stroke-opacity: 1;\"/></g><g class=\"point\"><path d=\"M0,265.88V249.39H15.99V265.88Z\" style=\"vector-effect: non-scaling-stroke; opacity: 1; stroke-width: 0.5px; fill: rgb(196, 238, 160); fill-opacity: 1; stroke: rgb(229, 236, 246); stroke-opacity: 1;\"/></g><g class=\"point\"><path d=\"M0,245.27V228.78H20.69V245.27Z\" style=\"vector-effect: non-scaling-stroke; opacity: 1; stroke-width: 0.5px; fill: rgb(191, 236, 159); fill-opacity: 1; stroke: rgb(229, 236, 246); stroke-opacity: 1;\"/></g><g class=\"point\"><path d=\"M0,224.66V208.17H21.67V224.66Z\" style=\"vector-effect: non-scaling-stroke; opacity: 1; stroke-width: 0.5px; fill: rgb(190, 236, 159); fill-opacity: 1; stroke: rgb(229, 236, 246); stroke-opacity: 1;\"/></g><g class=\"point\"><path d=\"M0,204.05V187.56H30.83V204.05Z\" style=\"vector-effect: non-scaling-stroke; opacity: 1; stroke-width: 0.5px; fill: rgb(182, 234, 157); fill-opacity: 1; stroke: rgb(229, 236, 246); stroke-opacity: 1;\"/></g><g class=\"point\"><path d=\"M0,183.44V166.95H50.29V183.44Z\" style=\"vector-effect: non-scaling-stroke; opacity: 1; stroke-width: 0.5px; fill: rgb(163, 228, 153); fill-opacity: 1; stroke: rgb(229, 236, 246); stroke-opacity: 1;\"/></g><g class=\"point\"><path d=\"M0,162.83V146.34H70.77V162.83Z\" style=\"vector-effect: non-scaling-stroke; opacity: 1; stroke-width: 0.5px; fill: rgb(146, 221, 149); fill-opacity: 1; stroke: rgb(229, 236, 246); stroke-opacity: 1;\"/></g><g class=\"point\"><path d=\"M0,142.22V125.73H89.75V142.22Z\" style=\"vector-effect: non-scaling-stroke; opacity: 1; stroke-width: 0.5px; fill: rgb(133, 211, 145); fill-opacity: 1; stroke: rgb(229, 236, 246); stroke-opacity: 1;\"/></g><g class=\"point\"><path d=\"M0,121.61V105.12H97.08V121.61Z\" style=\"vector-effect: non-scaling-stroke; opacity: 1; stroke-width: 0.5px; fill: rgb(128, 207, 144); fill-opacity: 1; stroke: rgb(229, 236, 246); stroke-opacity: 1;\"/></g><g class=\"point\"><path d=\"M0,100.99V84.51H122.29V100.99Z\" style=\"vector-effect: non-scaling-stroke; opacity: 1; stroke-width: 0.5px; fill: rgb(111, 194, 140); fill-opacity: 1; stroke: rgb(229, 236, 246); stroke-opacity: 1;\"/></g><g class=\"point\"><path d=\"M0,80.38V63.89H184.51V80.38Z\" style=\"vector-effect: non-scaling-stroke; opacity: 1; stroke-width: 0.5px; fill: rgb(79, 158, 131); fill-opacity: 1; stroke: rgb(229, 236, 246); stroke-opacity: 1;\"/></g><g class=\"point\"><path d=\"M0,59.77V43.28H203.55V59.77Z\" style=\"vector-effect: non-scaling-stroke; opacity: 1; stroke-width: 0.5px; fill: rgb(66, 148, 128); fill-opacity: 1; stroke: rgb(229, 236, 246); stroke-opacity: 1;\"/></g><g class=\"point\"><path d=\"M0,39.16V22.67H246.83V39.16Z\" style=\"vector-effect: non-scaling-stroke; opacity: 1; stroke-width: 0.5px; fill: rgb(37, 125, 122); fill-opacity: 1; stroke: rgb(229, 236, 246); stroke-opacity: 1;\"/></g><g class=\"point\"><path d=\"M0,18.55V2.06H379.05V18.55Z\" style=\"vector-effect: non-scaling-stroke; opacity: 1; stroke-width: 0.5px; fill: rgb(7, 64, 80); fill-opacity: 1; stroke: rgb(229, 236, 246); stroke-opacity: 1;\"/></g></g></g></g></g><g class=\"overplot\"/><path class=\"xlines-above crisp\" style=\"fill: none;\" d=\"M0,0\"/><path class=\"ylines-above crisp\" style=\"fill: none;\" d=\"M0,0\"/><g class=\"overlines-above\"/><g class=\"xaxislayer-above\"><g class=\"xtick\"><text text-anchor=\"middle\" x=\"0\" y=\"420\" transform=\"translate(217,0)\" style=\"font-family: 'Open Sans', verdana, arial, sans-serif; font-size: 12px; fill: rgb(42, 63, 95); fill-opacity: 1; white-space: pre;\">0</text></g><g class=\"xtick\"><text text-anchor=\"middle\" x=\"0\" y=\"420\" transform=\"translate(287.14,0)\" style=\"font-family: 'Open Sans', verdana, arial, sans-serif; font-size: 12px; fill: rgb(42, 63, 95); fill-opacity: 1; white-space: pre;\">2k</text></g><g class=\"xtick\"><text text-anchor=\"middle\" x=\"0\" y=\"420\" transform=\"translate(357.28,0)\" style=\"font-family: 'Open Sans', verdana, arial, sans-serif; font-size: 12px; fill: rgb(42, 63, 95); fill-opacity: 1; white-space: pre;\">4k</text></g><g class=\"xtick\"><text text-anchor=\"middle\" x=\"0\" y=\"420\" transform=\"translate(427.43,0)\" style=\"font-family: 'Open Sans', verdana, arial, sans-serif; font-size: 12px; fill: rgb(42, 63, 95); fill-opacity: 1; white-space: pre;\">6k</text></g><g class=\"xtick\"><text text-anchor=\"middle\" x=\"0\" y=\"420\" transform=\"translate(497.57,0)\" style=\"font-family: 'Open Sans', verdana, arial, sans-serif; font-size: 12px; fill: rgb(42, 63, 95); fill-opacity: 1; white-space: pre;\">8k</text></g><g class=\"xtick\"><text text-anchor=\"middle\" x=\"0\" y=\"420\" transform=\"translate(567.71,0)\" style=\"font-family: 'Open Sans', verdana, arial, sans-serif; font-size: 12px; fill: rgb(42, 63, 95); fill-opacity: 1; white-space: pre;\">10k</text></g></g><g class=\"yaxislayer-above\"><g class=\"ytick\"><text text-anchor=\"end\" x=\"216\" y=\"4.199999999999999\" transform=\"translate(0,396.69)\" style=\"font-family: 'Open Sans', verdana, arial, sans-serif; font-size: 12px; fill: rgb(42, 63, 95); fill-opacity: 1; white-space: pre;\">Web Publishing</text></g><g class=\"ytick\"><text text-anchor=\"end\" x=\"216\" y=\"4.199999999999999\" transform=\"translate(0,376.08)\" style=\"font-family: 'Open Sans', verdana, arial, sans-serif; font-size: 12px; fill: rgb(42, 63, 95); fill-opacity: 1; white-space: pre;\">Audio Production</text></g><g class=\"ytick\"><text text-anchor=\"end\" x=\"216\" y=\"4.199999999999999\" transform=\"translate(0,355.47)\" style=\"font-family: 'Open Sans', verdana, arial, sans-serif; font-size: 12px; fill: rgb(42, 63, 95); fill-opacity: 1; white-space: pre;\">Animation &amp; Modeling</text></g><g class=\"ytick\"><text text-anchor=\"end\" x=\"216\" y=\"4.199999999999999\" transform=\"translate(0,334.86)\" style=\"font-family: 'Open Sans', verdana, arial, sans-serif; font-size: 12px; fill: rgb(42, 63, 95); fill-opacity: 1; white-space: pre;\">Education</text></g><g class=\"ytick\"><text text-anchor=\"end\" x=\"216\" y=\"4.199999999999999\" transform=\"translate(0,314.25)\" style=\"font-family: 'Open Sans', verdana, arial, sans-serif; font-size: 12px; fill: rgb(42, 63, 95); fill-opacity: 1; white-space: pre;\">Design &amp; Illustration</text></g><g class=\"ytick\"><text text-anchor=\"end\" x=\"216\" y=\"4.199999999999999\" transform=\"translate(0,293.64)\" style=\"font-family: 'Open Sans', verdana, arial, sans-serif; font-size: 12px; fill: rgb(42, 63, 95); fill-opacity: 1; white-space: pre;\">Massively Multiplayer</text></g><g class=\"ytick\"><text text-anchor=\"end\" x=\"216\" y=\"4.199999999999999\" transform=\"translate(0,273.03)\" style=\"font-family: 'Open Sans', verdana, arial, sans-serif; font-size: 12px; fill: rgb(42, 63, 95); fill-opacity: 1; white-space: pre;\">Racing</text></g><g class=\"ytick\"><text text-anchor=\"end\" x=\"216\" y=\"4.199999999999999\" transform=\"translate(0,252.42)\" style=\"font-family: 'Open Sans', verdana, arial, sans-serif; font-size: 12px; fill: rgb(42, 63, 95); fill-opacity: 1; white-space: pre;\">Sports</text></g><g class=\"ytick\"><text text-anchor=\"end\" x=\"216\" y=\"4.199999999999999\" transform=\"translate(0,231.81)\" style=\"font-family: 'Open Sans', verdana, arial, sans-serif; font-size: 12px; fill: rgb(42, 63, 95); fill-opacity: 1; white-space: pre;\">Free to Play</text></g><g class=\"ytick\"><text text-anchor=\"end\" x=\"216\" y=\"4.199999999999999\" transform=\"translate(0,211.19)\" style=\"font-family: 'Open Sans', verdana, arial, sans-serif; font-size: 12px; fill: rgb(42, 63, 95); fill-opacity: 1; white-space: pre;\">Early Access</text></g><g class=\"ytick\"><text text-anchor=\"end\" x=\"216\" y=\"4.199999999999999\" transform=\"translate(0,190.58)\" style=\"font-family: 'Open Sans', verdana, arial, sans-serif; font-size: 12px; fill: rgb(42, 63, 95); fill-opacity: 1; white-space: pre;\"></text></g><g class=\"ytick\"><text text-anchor=\"end\" x=\"216\" y=\"4.199999999999999\" transform=\"translate(0,169.97)\" style=\"font-family: 'Open Sans', verdana, arial, sans-serif; font-size: 12px; fill: rgb(42, 63, 95); fill-opacity: 1; white-space: pre;\">Simulation</text></g><g class=\"ytick\"><text text-anchor=\"end\" x=\"216\" y=\"4.199999999999999\" transform=\"translate(0,149.36)\" style=\"font-family: 'Open Sans', verdana, arial, sans-serif; font-size: 12px; fill: rgb(42, 63, 95); fill-opacity: 1; white-space: pre;\">RPG</text></g><g class=\"ytick\"><text text-anchor=\"end\" x=\"216\" y=\"4.199999999999999\" transform=\"translate(0,128.75)\" style=\"font-family: 'Open Sans', verdana, arial, sans-serif; font-size: 12px; fill: rgb(42, 63, 95); fill-opacity: 1; white-space: pre;\">Strategy</text></g><g class=\"ytick\"><text text-anchor=\"end\" x=\"216\" y=\"4.199999999999999\" transform=\"translate(0,108.14)\" style=\"font-family: 'Open Sans', verdana, arial, sans-serif; font-size: 12px; fill: rgb(42, 63, 95); fill-opacity: 1; white-space: pre;\">Casual</text></g><g class=\"ytick\"><text text-anchor=\"end\" x=\"216\" y=\"4.199999999999999\" transform=\"translate(0,87.53)\" style=\"font-family: 'Open Sans', verdana, arial, sans-serif; font-size: 12px; fill: rgb(42, 63, 95); fill-opacity: 1; white-space: pre;\">Adventure</text></g><g class=\"ytick\"><text text-anchor=\"end\" x=\"216\" y=\"4.199999999999999\" transform=\"translate(0,66.92)\" style=\"font-family: 'Open Sans', verdana, arial, sans-serif; font-size: 12px; fill: rgb(42, 63, 95); fill-opacity: 1; white-space: pre;\">Action</text></g><g class=\"ytick\"><text text-anchor=\"end\" x=\"216\" y=\"4.199999999999999\" transform=\"translate(0,46.31)\" style=\"font-family: 'Open Sans', verdana, arial, sans-serif; font-size: 12px; fill: rgb(42, 63, 95); fill-opacity: 1; white-space: pre;\">Indie</text></g></g><g class=\"overaxes-above\"/></g></g><g class=\"polarlayer\"/><g class=\"ternarylayer\"/><g class=\"geolayer\"/><g class=\"funnelarealayer\"/><g class=\"pielayer\"/><g class=\"treemaplayer\"/><g class=\"sunburstlayer\"/><g class=\"glimages\"/><defs id=\"topdefs-9efdc0\"><g class=\"clips\"/></defs><g class=\"layer-above\"><g class=\"imagelayer\"/><g class=\"shapelayer\"/></g><g class=\"infolayer\"><g class=\"cbcoloraxis colorbar\" transform=\"translate(245,39)\"><rect class=\"cbbg\" x=\"378\" y=\"0\" width=\"73.796875\" height=\"368\" style=\"fill: rgb(0, 0, 0); fill-opacity: 0; stroke: rgb(68, 68, 68); stroke-opacity: 1; stroke-width: 0;\"/><g class=\"cbfills\" transform=\"translate(0,29)\"><rect class=\"cbfill\" x=\"388\" width=\"30\" y=\"0\" height=\"329\" style=\"stroke: none; fill: url('#g9efdc0-cbcoloraxis');\"/></g><g class=\"cblines\" transform=\"translate(0,29)\"/><g class=\"cbaxis crisp\" transform=\"translate(0,-39)\"><g class=\"ycbcoloraxistick\"><text text-anchor=\"start\" x=\"420.9\" y=\"4.199999999999999\" transform=\"translate(0,336.24625)\" style=\"font-family: 'Open Sans', verdana, arial, sans-serif; font-size: 12px; fill: rgb(42, 63, 95); fill-opacity: 1; white-space: pre;\">2k</text></g><g class=\"ycbcoloraxistick\"><text text-anchor=\"start\" x=\"420.9\" y=\"4.199999999999999\" transform=\"translate(0,275.42625)\" style=\"font-family: 'Open Sans', verdana, arial, sans-serif; font-size: 12px; fill: rgb(42, 63, 95); fill-opacity: 1; white-space: pre;\">4k</text></g><g class=\"ycbcoloraxistick\"><text text-anchor=\"start\" x=\"420.9\" y=\"4.199999999999999\" transform=\"translate(0,214.60625)\" style=\"font-family: 'Open Sans', verdana, arial, sans-serif; font-size: 12px; fill: rgb(42, 63, 95); fill-opacity: 1; white-space: pre;\">6k</text></g><g class=\"ycbcoloraxistick\"><text text-anchor=\"start\" x=\"420.9\" y=\"4.199999999999999\" transform=\"translate(0,153.79625)\" style=\"font-family: 'Open Sans', verdana, arial, sans-serif; font-size: 12px; fill: rgb(42, 63, 95); fill-opacity: 1; white-space: pre;\">8k</text></g><g class=\"ycbcoloraxistick\"><text text-anchor=\"start\" x=\"420.9\" y=\"4.199999999999999\" transform=\"translate(0,92.97625)\" style=\"font-family: 'Open Sans', verdana, arial, sans-serif; font-size: 12px; fill: rgb(42, 63, 95); fill-opacity: 1; white-space: pre;\">10k</text></g></g><g class=\"cbtitleunshift\" transform=\"translate(-245,-39)\"><g class=\"cbtitle\" transform=\"translate(0,0)\"><text class=\"ycbcoloraxistitle\" x=\"633.4200000000001\" y=\"61\" text-anchor=\"start\" style=\"font-family: 'Open Sans', verdana, arial, sans-serif; font-size: 12px; fill: rgb(42, 63, 95); opacity: 1; font-weight: normal; white-space: pre;\">Cantidad</text></g></g><rect class=\"cboutline\" x=\"388\" y=\"29.40625\" width=\"30\" height=\"328.59375\" style=\"stroke: rgb(68, 68, 68); stroke-opacity: 1; fill: none; stroke-width: 0;\"/></g><g class=\"g-gtitle\"><text class=\"gtitle\" x=\"35\" y=\"18\" text-anchor=\"start\" dy=\"0em\" style=\"font-family: 'Open Sans', verdana, arial, sans-serif; font-size: 17px; fill: rgb(42, 63, 95); opacity: 1; font-weight: normal; white-space: pre;\">Generos</text></g><g class=\"g-xtitle\" transform=\"translate(0,-0.40937500000001137)\"><text class=\"xtitle\" x=\"416.5\" y=\"447.20625\" text-anchor=\"middle\" style=\"font-family: 'Open Sans', verdana, arial, sans-serif; font-size: 14px; fill: rgb(42, 63, 95); opacity: 1; font-weight: normal; white-space: pre;\">Cantidad de videojuegos</text></g><g class=\"g-ytitle\" transform=\"translate(39.2060546875,0)\"><text class=\"ytitle\" transform=\"rotate(-90,-24.80000000000001,221.5)\" x=\"-24.80000000000001\" y=\"221.5\" text-anchor=\"middle\" style=\"font-family: 'Open Sans', verdana, arial, sans-serif; font-size: 14px; fill: rgb(42, 63, 95); opacity: 1; font-weight: normal; white-space: pre;\">Generos</text></g></g></svg>"
      ]
     },
     "metadata": {},
     "output_type": "display_data"
    }
   ],
   "source": [
    "fig = px.bar(x=count[order], y=value[order], color=count[order], color_continuous_scale='emrld', title='Generos', labels={\n",
    "    'x': 'Cantidad de videojuegos', 'y': 'Generos', 'color': 'Cantidad'})\n",
    "fig.update_layout(\n",
    "    autosize=False,\n",
    "    width=800,\n",
    "    height=500,\n",
    "    margin=dict(l=20, r=20, t=3, b=10)\n",
    ")\n",
    "fig.show('svg')"
   ]
  },
  {
   "cell_type": "markdown",
   "metadata": {},
   "source": [
    "#### Videojuegos de pago mas jugados"
   ]
  },
  {
   "cell_type": "code",
   "execution_count": 87,
   "metadata": {
    "ExecuteTime": {
     "end_time": "2020-10-23T05:01:30.570842Z",
     "start_time": "2020-10-23T05:01:30.528945Z"
    }
   },
   "outputs": [],
   "source": [
    "df_items = data_games.query('category_price==\"paid\"')\n",
    "merge_paid_games = pd.merge(amount_by_productId, df_items, left_on='product_id',\n",
    "                            right_on='id').sort_values(by='amount', ascending=False).head(10)"
   ]
  },
  {
   "cell_type": "code",
   "execution_count": 90,
   "metadata": {
    "ExecuteTime": {
     "end_time": "2020-10-23T05:02:01.749165Z",
     "start_time": "2020-10-23T05:02:01.632481Z"
    }
   },
   "outputs": [
    {
     "data": {
      "image/svg+xml": [
       "<svg class=\"main-svg\" xmlns=\"http://www.w3.org/2000/svg\" xmlns:xlink=\"http://www.w3.org/1999/xlink\" width=\"700\" height=\"450\" style=\"\" viewBox=\"0 0 700 450\"><rect x=\"0\" y=\"0\" width=\"700\" height=\"450\" style=\"fill: rgb(255, 255, 255); fill-opacity: 1;\"/><defs id=\"defs-35d6de\"><g class=\"clips\"><clipPath id=\"clip35d6dexyplot\" class=\"plotclip\"><rect width=\"471\" height=\"292\"/></clipPath><clipPath class=\"axesclip\" id=\"clip35d6dex\"><rect x=\"60\" y=\"0\" width=\"471\" height=\"450\"/></clipPath><clipPath class=\"axesclip\" id=\"clip35d6dey\"><rect x=\"0\" y=\"40\" width=\"700\" height=\"292\"/></clipPath><clipPath class=\"axesclip\" id=\"clip35d6dexy\"><rect x=\"60\" y=\"40\" width=\"471\" height=\"292\"/></clipPath></g><g class=\"gradients\"><linearGradient x1=\"0\" x2=\"0\" y1=\"1\" y2=\"0\" id=\"g35d6de-cbcoloraxis\"><stop offset=\"0%\" stop-color=\"rgb(255, 255, 204)\" stop-opacity=\"1\"/><stop offset=\"12.5%\" stop-color=\"rgb(255, 237, 160)\" stop-opacity=\"1\"/><stop offset=\"25%\" stop-color=\"rgb(254, 217, 118)\" stop-opacity=\"1\"/><stop offset=\"37.5%\" stop-color=\"rgb(254, 178, 76)\" stop-opacity=\"1\"/><stop offset=\"50%\" stop-color=\"rgb(253, 141, 60)\" stop-opacity=\"1\"/><stop offset=\"62.5%\" stop-color=\"rgb(252, 78, 42)\" stop-opacity=\"1\"/><stop offset=\"75%\" stop-color=\"rgb(227, 26, 28)\" stop-opacity=\"1\"/><stop offset=\"87.5%\" stop-color=\"rgb(189, 0, 38)\" stop-opacity=\"1\"/><stop offset=\"100%\" stop-color=\"rgb(128, 0, 38)\" stop-opacity=\"1\"/></linearGradient></g></defs><g class=\"bglayer\"><rect class=\"bg\" x=\"60\" y=\"40\" width=\"471\" height=\"292\" style=\"fill: rgb(229, 236, 246); fill-opacity: 1; stroke-width: 0;\"/></g><g class=\"layer-below\"><g class=\"imagelayer\"/><g class=\"shapelayer\"/></g><g class=\"cartesianlayer\"><g class=\"subplot xy\"><g class=\"layer-subplot\"><g class=\"shapelayer\"/><g class=\"imagelayer\"/></g><g class=\"gridlayer\"><g class=\"x\"/><g class=\"y\"><path class=\"ygrid crisp\" transform=\"translate(0,291.23)\" d=\"M60,0h471\" style=\"stroke: rgb(255, 255, 255); stroke-opacity: 1; stroke-width: 1px;\"/><path class=\"ygrid crisp\" transform=\"translate(0,250.45)\" d=\"M60,0h471\" style=\"stroke: rgb(255, 255, 255); stroke-opacity: 1; stroke-width: 1px;\"/><path class=\"ygrid crisp\" transform=\"translate(0,209.68)\" d=\"M60,0h471\" style=\"stroke: rgb(255, 255, 255); stroke-opacity: 1; stroke-width: 1px;\"/><path class=\"ygrid crisp\" transform=\"translate(0,168.9)\" d=\"M60,0h471\" style=\"stroke: rgb(255, 255, 255); stroke-opacity: 1; stroke-width: 1px;\"/><path class=\"ygrid crisp\" transform=\"translate(0,128.13)\" d=\"M60,0h471\" style=\"stroke: rgb(255, 255, 255); stroke-opacity: 1; stroke-width: 1px;\"/><path class=\"ygrid crisp\" transform=\"translate(0,87.35)\" d=\"M60,0h471\" style=\"stroke: rgb(255, 255, 255); stroke-opacity: 1; stroke-width: 1px;\"/><path class=\"ygrid crisp\" transform=\"translate(0,46.58)\" d=\"M60,0h471\" style=\"stroke: rgb(255, 255, 255); stroke-opacity: 1; stroke-width: 1px;\"/></g></g><g class=\"zerolinelayer\"><path class=\"yzl zl crisp\" transform=\"translate(0,332)\" d=\"M60,0h471\" style=\"stroke: rgb(255, 255, 255); stroke-opacity: 1; stroke-width: 2px;\"/></g><path class=\"xlines-below\"/><path class=\"ylines-below\"/><g class=\"overlines-below\"/><g class=\"xaxislayer-below\"/><g class=\"yaxislayer-below\"/><g class=\"overaxes-below\"/><g class=\"plot\" transform=\"translate(60, 40)\" clip-path=\"url('#clip35d6dexyplot')\"><g class=\"barlayer mlayer\"><g class=\"trace bars\" style=\"opacity: 1;\"><g class=\"points\"><g class=\"point\"><path d=\"M4.71,292V14.6H42.39V292Z\" style=\"vector-effect: non-scaling-stroke; opacity: 1; stroke-width: 0.5px; fill: rgb(128, 0, 38); fill-opacity: 1; stroke: rgb(229, 236, 246); stroke-opacity: 1;\"/></g><g class=\"point\"><path d=\"M51.81,292V85.75H89.49V292Z\" style=\"vector-effect: non-scaling-stroke; opacity: 1; stroke-width: 0.5px; fill: rgb(253, 123, 55); fill-opacity: 1; stroke: rgb(229, 236, 246); stroke-opacity: 1;\"/></g><g class=\"point\"><path d=\"M98.91,292V96.11H136.59V292Z\" style=\"vector-effect: non-scaling-stroke; opacity: 1; stroke-width: 0.5px; fill: rgb(253, 151, 64); fill-opacity: 1; stroke: rgb(229, 236, 246); stroke-opacity: 1;\"/></g><g class=\"point\"><path d=\"M146.01,292V121.37H183.69V292Z\" style=\"vector-effect: non-scaling-stroke; opacity: 1; stroke-width: 0.5px; fill: rgb(254, 201, 100); fill-opacity: 1; stroke: rgb(229, 236, 246); stroke-opacity: 1;\"/></g><g class=\"point\"><path d=\"M193.11,292V127.64H230.79V292Z\" style=\"vector-effect: non-scaling-stroke; opacity: 1; stroke-width: 0.5px; fill: rgb(254, 213, 114); fill-opacity: 1; stroke: rgb(229, 236, 246); stroke-opacity: 1;\"/></g><g class=\"point\"><path d=\"M240.21,292V130.13H277.89V292Z\" style=\"vector-effect: non-scaling-stroke; opacity: 1; stroke-width: 0.5px; fill: rgb(254, 218, 120); fill-opacity: 1; stroke: rgb(229, 236, 246); stroke-opacity: 1;\"/></g><g class=\"point\"><path d=\"M287.31,292V133.58H324.99V292Z\" style=\"vector-effect: non-scaling-stroke; opacity: 1; stroke-width: 0.5px; fill: rgb(254, 221, 127); fill-opacity: 1; stroke: rgb(229, 236, 246); stroke-opacity: 1;\"/></g><g class=\"point\"><path d=\"M334.41,292V154.75H372.09V292Z\" style=\"vector-effect: non-scaling-stroke; opacity: 1; stroke-width: 0.5px; fill: rgb(255, 243, 174); fill-opacity: 1; stroke: rgb(229, 236, 246); stroke-opacity: 1;\"/></g><g class=\"point\"><path d=\"M381.51,292V167.4H419.19V292Z\" style=\"vector-effect: non-scaling-stroke; opacity: 1; stroke-width: 0.5px; fill: rgb(255, 255, 203); fill-opacity: 1; stroke: rgb(229, 236, 246); stroke-opacity: 1;\"/></g><g class=\"point\"><path d=\"M428.61,292V167.64H466.29V292Z\" style=\"vector-effect: non-scaling-stroke; opacity: 1; stroke-width: 0.5px; fill: rgb(255, 255, 204); fill-opacity: 1; stroke: rgb(229, 236, 246); stroke-opacity: 1;\"/></g></g></g></g></g><g class=\"overplot\"/><path class=\"xlines-above crisp\" style=\"fill: none;\" d=\"M0,0\"/><path class=\"ylines-above crisp\" style=\"fill: none;\" d=\"M0,0\"/><g class=\"overlines-above\"/><g class=\"xaxislayer-above\"><g class=\"xtick\"><text text-anchor=\"start\" x=\"0\" y=\"345\" transform=\"translate(83.55,0) rotate(30,0,339)\" style=\"font-family: 'Open Sans', verdana, arial, sans-serif; font-size: 12px; fill: rgb(42, 63, 95); fill-opacity: 1; white-space: pre;\">Rust</text></g><g class=\"xtick\"><text text-anchor=\"start\" x=\"0\" y=\"345\" transform=\"translate(130.65,0) rotate(30,0,339)\" style=\"font-family: 'Open Sans', verdana, arial, sans-serif; font-size: 12px; fill: rgb(42, 63, 95); fill-opacity: 1; white-space: pre;\">Borderlands 2</text></g><g class=\"xtick\"><text text-anchor=\"start\" x=\"0\" y=\"345\" transform=\"translate(177.75,0) rotate(30,0,339)\" style=\"font-family: 'Open Sans', verdana, arial, sans-serif; font-size: 12px; fill: rgb(42, 63, 95); fill-opacity: 1; white-space: pre;\">Fallout 4</text></g><g class=\"xtick\"><text text-anchor=\"start\" x=\"0\" y=\"345\" transform=\"translate(224.85,0) rotate(30,0,339)\" style=\"font-family: 'Open Sans', verdana, arial, sans-serif; font-size: 12px; fill: rgb(42, 63, 95); fill-opacity: 1; white-space: pre;\">Grand Theft Auto V</text></g><g class=\"xtick\"><text text-anchor=\"start\" x=\"0\" y=\"345\" transform=\"translate(271.95,0) rotate(30,0,339)\" style=\"font-family: 'Open Sans', verdana, arial, sans-serif; font-size: 12px; fill: rgb(42, 63, 95); fill-opacity: 1; white-space: pre;\">Undertale</text></g><g class=\"xtick\"><text text-anchor=\"start\" x=\"0\" y=\"345\" transform=\"translate(319.05,0) rotate(30,0,339)\" style=\"font-family: 'Open Sans', verdana, arial, sans-serif; font-size: 12px; fill: rgb(42, 63, 95); fill-opacity: 1; white-space: pre;\">DayZ</text></g><g class=\"xtick\"><text text-anchor=\"start\" x=\"0\" y=\"345\" transform=\"translate(366.15,0) rotate(30,0,339)\" style=\"font-family: 'Open Sans', verdana, arial, sans-serif; font-size: 12px; fill: rgb(42, 63, 95); fill-opacity: 1; white-space: pre;\">Portal 2</text></g><g class=\"xtick\"><text text-anchor=\"start\" x=\"0\" y=\"345\" transform=\"translate(413.25,0) rotate(30,0,339)\" style=\"font-family: 'Open Sans', verdana, arial, sans-serif; font-size: 12px; fill: rgb(42, 63, 95); fill-opacity: 1; white-space: pre;\">Garry's Mod</text></g><g class=\"xtick\"><text text-anchor=\"start\" x=\"0\" y=\"345\" transform=\"translate(460.35,0) rotate(30,0,339)\" style=\"font-family: 'Open Sans', verdana, arial, sans-serif; font-size: 12px; fill: rgb(42, 63, 95); fill-opacity: 1; white-space: pre;\">ARK: Survival Evolved</text></g><g class=\"xtick\"><text text-anchor=\"start\" x=\"0\" y=\"345\" transform=\"translate(507.45,0) rotate(30,0,339)\" style=\"font-family: 'Open Sans', verdana, arial, sans-serif; font-size: 12px; fill: rgb(42, 63, 95); fill-opacity: 1; white-space: pre;\">H1Z1</text></g></g><g class=\"yaxislayer-above\"><g class=\"ytick\"><text text-anchor=\"end\" x=\"59\" y=\"4.199999999999999\" transform=\"translate(0,332)\" style=\"font-family: 'Open Sans', verdana, arial, sans-serif; font-size: 12px; fill: rgb(42, 63, 95); fill-opacity: 1; white-space: pre;\">0</text></g><g class=\"ytick\"><text text-anchor=\"end\" x=\"59\" y=\"4.199999999999999\" transform=\"translate(0,291.23)\" style=\"font-family: 'Open Sans', verdana, arial, sans-serif; font-size: 12px; fill: rgb(42, 63, 95); fill-opacity: 1; white-space: pre;\">10k</text></g><g class=\"ytick\"><text text-anchor=\"end\" x=\"59\" y=\"4.199999999999999\" transform=\"translate(0,250.45)\" style=\"font-family: 'Open Sans', verdana, arial, sans-serif; font-size: 12px; fill: rgb(42, 63, 95); fill-opacity: 1; white-space: pre;\">20k</text></g><g class=\"ytick\"><text text-anchor=\"end\" x=\"59\" y=\"4.199999999999999\" transform=\"translate(0,209.68)\" style=\"font-family: 'Open Sans', verdana, arial, sans-serif; font-size: 12px; fill: rgb(42, 63, 95); fill-opacity: 1; white-space: pre;\">30k</text></g><g class=\"ytick\"><text text-anchor=\"end\" x=\"59\" y=\"4.199999999999999\" transform=\"translate(0,168.9)\" style=\"font-family: 'Open Sans', verdana, arial, sans-serif; font-size: 12px; fill: rgb(42, 63, 95); fill-opacity: 1; white-space: pre;\">40k</text></g><g class=\"ytick\"><text text-anchor=\"end\" x=\"59\" y=\"4.199999999999999\" transform=\"translate(0,128.13)\" style=\"font-family: 'Open Sans', verdana, arial, sans-serif; font-size: 12px; fill: rgb(42, 63, 95); fill-opacity: 1; white-space: pre;\">50k</text></g><g class=\"ytick\"><text text-anchor=\"end\" x=\"59\" y=\"4.199999999999999\" transform=\"translate(0,87.35)\" style=\"font-family: 'Open Sans', verdana, arial, sans-serif; font-size: 12px; fill: rgb(42, 63, 95); fill-opacity: 1; white-space: pre;\">60k</text></g><g class=\"ytick\"><text text-anchor=\"end\" x=\"59\" y=\"4.199999999999999\" transform=\"translate(0,46.58)\" style=\"font-family: 'Open Sans', verdana, arial, sans-serif; font-size: 12px; fill: rgb(42, 63, 95); fill-opacity: 1; white-space: pre;\">70k</text></g></g><g class=\"overaxes-above\"/></g></g><g class=\"polarlayer\"/><g class=\"ternarylayer\"/><g class=\"geolayer\"/><g class=\"funnelarealayer\"/><g class=\"pielayer\"/><g class=\"treemaplayer\"/><g class=\"sunburstlayer\"/><g class=\"glimages\"/><defs id=\"topdefs-35d6de\"><g class=\"clips\"/></defs><g class=\"layer-above\"><g class=\"imagelayer\"/><g class=\"shapelayer\"/></g><g class=\"infolayer\"><g class=\"cbcoloraxis colorbar\" transform=\"translate(60,40)\"><rect class=\"cbbg\" x=\"480\" y=\"0\" width=\"147.59375\" height=\"292\" style=\"fill: rgb(0, 0, 0); fill-opacity: 0; stroke: rgb(68, 68, 68); stroke-opacity: 1; stroke-width: 0;\"/><g class=\"cbfills\" transform=\"translate(0,29)\"><rect class=\"cbfill\" x=\"490\" width=\"30\" y=\"0\" height=\"253\" style=\"stroke: none; fill: url('#g35d6de-cbcoloraxis');\"/></g><g class=\"cblines\" transform=\"translate(0,29)\"/><g class=\"cbaxis crisp\" transform=\"translate(0,-40)\"><g class=\"ycbcoloraxistick\"><text text-anchor=\"start\" x=\"522.9\" y=\"4.199999999999999\" transform=\"translate(0,258.06624999999997)\" style=\"font-family: 'Open Sans', verdana, arial, sans-serif; font-size: 12px; fill: rgb(42, 63, 95); fill-opacity: 1; white-space: pre;\">40k</text></g><g class=\"ycbcoloraxistick\"><text text-anchor=\"start\" x=\"522.9\" y=\"4.199999999999999\" transform=\"translate(0,190.76625)\" style=\"font-family: 'Open Sans', verdana, arial, sans-serif; font-size: 12px; fill: rgb(42, 63, 95); fill-opacity: 1; white-space: pre;\">50k</text></g><g class=\"ycbcoloraxistick\"><text text-anchor=\"start\" x=\"522.9\" y=\"4.199999999999999\" transform=\"translate(0,123.46625)\" style=\"font-family: 'Open Sans', verdana, arial, sans-serif; font-size: 12px; fill: rgb(42, 63, 95); fill-opacity: 1; white-space: pre;\">60k</text></g></g><g class=\"cbtitleunshift\" transform=\"translate(-60,-40)\"><g class=\"cbtitle\" transform=\"translate(0,0)\"><text class=\"ycbcoloraxistitle\" x=\"550.4200000000001\" y=\"62.00000000000001\" text-anchor=\"start\" style=\"font-family: 'Open Sans', verdana, arial, sans-serif; font-size: 12px; fill: rgb(42, 63, 95); opacity: 1; font-weight: normal; white-space: pre;\">Cantidad de usuarios</text></g></g><rect class=\"cboutline\" x=\"490\" y=\"29.40625\" width=\"30\" height=\"252.59375\" style=\"stroke: rgb(68, 68, 68); stroke-opacity: 1; fill: none; stroke-width: 0;\"/></g><g class=\"g-gtitle\"><text class=\"gtitle\" x=\"35\" y=\"20\" text-anchor=\"start\" dy=\"0em\" style=\"font-family: 'Open Sans', verdana, arial, sans-serif; font-size: 17px; fill: rgb(42, 63, 95); opacity: 1; font-weight: normal; white-space: pre;\">Videojuegos de pago mas jugados</text></g><g class=\"g-xtitle\"><text class=\"xtitle\" x=\"295.5\" y=\"438.1888702392578\" text-anchor=\"middle\" style=\"font-family: 'Open Sans', verdana, arial, sans-serif; font-size: 14px; fill: rgb(42, 63, 95); opacity: 1; font-weight: normal; white-space: pre;\">Videojuegos</text></g><g class=\"g-ytitle\" transform=\"translate(2.5654296875,0)\"><text class=\"ytitle\" transform=\"rotate(-90,11.840625000000003,186)\" x=\"11.840625000000003\" y=\"186\" text-anchor=\"middle\" style=\"font-family: 'Open Sans', verdana, arial, sans-serif; font-size: 14px; fill: rgb(42, 63, 95); opacity: 1; font-weight: normal; white-space: pre;\">Cantidad de usuarios</text></g></g></svg>"
      ]
     },
     "metadata": {},
     "output_type": "display_data"
    }
   ],
   "source": [
    "fig = px.bar(data_frame=merge_paid_games, x='app_name', y='amount', title='Videojuegos de pago mas jugados',\n",
    "             labels={'app_name': 'Videojuegos',\n",
    "                     'amount': 'Cantidad de usuarios'},\n",
    "             hover_data=HOVER_DATA_COLUMNS,\n",
    "             color=merge_paid_games.amount, color_continuous_scale='ylorrd')\n",
    "fig.update_layout(\n",
    "    autosize=False,\n",
    "    width=800,\n",
    "    height=500,\n",
    "    margin=dict(l=30, r=20, t=40, b=30)\n",
    ")\n",
    "fig.show('svg')"
   ]
  },
  {
   "cell_type": "code",
   "execution_count": 91,
   "metadata": {
    "ExecuteTime": {
     "end_time": "2020-10-23T05:02:03.356647Z",
     "start_time": "2020-10-23T05:02:03.351663Z"
    }
   },
   "outputs": [],
   "source": [
    "del merge_paid_games"
   ]
  },
  {
   "cell_type": "markdown",
   "metadata": {},
   "source": [
    "#### Videojuegos gratis mas jugados"
   ]
  },
  {
   "cell_type": "code",
   "execution_count": 92,
   "metadata": {
    "ExecuteTime": {
     "end_time": "2020-10-23T05:02:17.192764Z",
     "start_time": "2020-10-23T05:02:17.175816Z"
    }
   },
   "outputs": [],
   "source": [
    "df_items = data_games.query('category_price==\"free\"')\n",
    "merge_free_games = pd.merge(amount_by_productId, df_items, left_on='product_id',\n",
    "                            right_on='id').sort_values(by='amount', ascending=False).head(10)"
   ]
  },
  {
   "cell_type": "code",
   "execution_count": 93,
   "metadata": {
    "ExecuteTime": {
     "end_time": "2020-10-23T05:02:25.181912Z",
     "start_time": "2020-10-23T05:02:25.061236Z"
    }
   },
   "outputs": [
    {
     "data": {
      "image/svg+xml": [
       "<svg class=\"main-svg\" xmlns=\"http://www.w3.org/2000/svg\" xmlns:xlink=\"http://www.w3.org/1999/xlink\" width=\"700\" height=\"450\" style=\"\" viewBox=\"0 0 700 450\"><rect x=\"0\" y=\"0\" width=\"700\" height=\"450\" style=\"fill: rgb(255, 255, 255); fill-opacity: 1;\"/><defs id=\"defs-560111\"><g class=\"clips\"><clipPath id=\"clip560111xyplot\" class=\"plotclip\"><rect width=\"463\" height=\"279\"/></clipPath><clipPath class=\"axesclip\" id=\"clip560111x\"><rect x=\"68\" y=\"0\" width=\"463\" height=\"450\"/></clipPath><clipPath class=\"axesclip\" id=\"clip560111y\"><rect x=\"0\" y=\"40\" width=\"700\" height=\"279\"/></clipPath><clipPath class=\"axesclip\" id=\"clip560111xy\"><rect x=\"68\" y=\"40\" width=\"463\" height=\"279\"/></clipPath></g><g class=\"gradients\"><linearGradient x1=\"0\" x2=\"0\" y1=\"1\" y2=\"0\" id=\"g560111-cbcoloraxis\"><stop offset=\"0%\" stop-color=\"rgb(255, 255, 204)\" stop-opacity=\"1\"/><stop offset=\"12.5%\" stop-color=\"rgb(255, 237, 160)\" stop-opacity=\"1\"/><stop offset=\"25%\" stop-color=\"rgb(254, 217, 118)\" stop-opacity=\"1\"/><stop offset=\"37.5%\" stop-color=\"rgb(254, 178, 76)\" stop-opacity=\"1\"/><stop offset=\"50%\" stop-color=\"rgb(253, 141, 60)\" stop-opacity=\"1\"/><stop offset=\"62.5%\" stop-color=\"rgb(252, 78, 42)\" stop-opacity=\"1\"/><stop offset=\"75%\" stop-color=\"rgb(227, 26, 28)\" stop-opacity=\"1\"/><stop offset=\"87.5%\" stop-color=\"rgb(189, 0, 38)\" stop-opacity=\"1\"/><stop offset=\"100%\" stop-color=\"rgb(128, 0, 38)\" stop-opacity=\"1\"/></linearGradient></g></defs><g class=\"bglayer\"><rect class=\"bg\" x=\"68\" y=\"40\" width=\"463\" height=\"279\" style=\"fill: rgb(229, 236, 246); fill-opacity: 1; stroke-width: 0;\"/></g><g class=\"layer-below\"><g class=\"imagelayer\"/><g class=\"shapelayer\"/></g><g class=\"cartesianlayer\"><g class=\"subplot xy\"><g class=\"layer-subplot\"><g class=\"shapelayer\"/><g class=\"imagelayer\"/></g><g class=\"gridlayer\"><g class=\"x\"/><g class=\"y\"><path class=\"ygrid crisp\" transform=\"translate(0,275.31)\" d=\"M68,0h463\" style=\"stroke: rgb(255, 255, 255); stroke-opacity: 1; stroke-width: 1px;\"/><path class=\"ygrid crisp\" transform=\"translate(0,231.62)\" d=\"M68,0h463\" style=\"stroke: rgb(255, 255, 255); stroke-opacity: 1; stroke-width: 1px;\"/><path class=\"ygrid crisp\" transform=\"translate(0,187.93)\" d=\"M68,0h463\" style=\"stroke: rgb(255, 255, 255); stroke-opacity: 1; stroke-width: 1px;\"/><path class=\"ygrid crisp\" transform=\"translate(0,144.24)\" d=\"M68,0h463\" style=\"stroke: rgb(255, 255, 255); stroke-opacity: 1; stroke-width: 1px;\"/><path class=\"ygrid crisp\" transform=\"translate(0,100.53999999999999)\" d=\"M68,0h463\" style=\"stroke: rgb(255, 255, 255); stroke-opacity: 1; stroke-width: 1px;\"/><path class=\"ygrid crisp\" transform=\"translate(0,56.85)\" d=\"M68,0h463\" style=\"stroke: rgb(255, 255, 255); stroke-opacity: 1; stroke-width: 1px;\"/></g></g><g class=\"zerolinelayer\"><path class=\"yzl zl crisp\" transform=\"translate(0,319)\" d=\"M68,0h463\" style=\"stroke: rgb(255, 255, 255); stroke-opacity: 1; stroke-width: 2px;\"/></g><path class=\"xlines-below\"/><path class=\"ylines-below\"/><g class=\"overlines-below\"/><g class=\"xaxislayer-below\"/><g class=\"yaxislayer-below\"/><g class=\"overaxes-below\"/><g class=\"plot\" transform=\"translate(68, 40)\" clip-path=\"url('#clip560111xyplot')\"><g class=\"barlayer mlayer\"><g class=\"trace bars\" style=\"opacity: 1;\"><g class=\"points\"><g class=\"point\"><path d=\"M4.63,279V13.95H41.67V279Z\" style=\"vector-effect: non-scaling-stroke; opacity: 1; stroke-width: 0.5px; fill: rgb(128, 0, 38); fill-opacity: 1; stroke: rgb(229, 236, 246); stroke-opacity: 1;\"/></g><g class=\"point\"><path d=\"M50.93,279V179.36H87.97V279Z\" style=\"vector-effect: non-scaling-stroke; opacity: 1; stroke-width: 0.5px; fill: rgb(254, 212, 113); fill-opacity: 1; stroke: rgb(229, 236, 246); stroke-opacity: 1;\"/></g><g class=\"point\"><path d=\"M97.23,279V194.11H134.27V279Z\" style=\"vector-effect: non-scaling-stroke; opacity: 1; stroke-width: 0.5px; fill: rgb(254, 225, 135); fill-opacity: 1; stroke: rgb(229, 236, 246); stroke-opacity: 1;\"/></g><g class=\"point\"><path d=\"M143.53,279V200.74H180.57V279Z\" style=\"vector-effect: non-scaling-stroke; opacity: 1; stroke-width: 0.5px; fill: rgb(255, 230, 144); fill-opacity: 1; stroke: rgb(229, 236, 246); stroke-opacity: 1;\"/></g><g class=\"point\"><path d=\"M189.83,279V202.28H226.87V279Z\" style=\"vector-effect: non-scaling-stroke; opacity: 1; stroke-width: 0.5px; fill: rgb(255, 231, 147); fill-opacity: 1; stroke: rgb(229, 236, 246); stroke-opacity: 1;\"/></g><g class=\"point\"><path d=\"M236.13,279V216.41H273.17V279Z\" style=\"vector-effect: non-scaling-stroke; opacity: 1; stroke-width: 0.5px; fill: rgb(255, 240, 168); fill-opacity: 1; stroke: rgb(229, 236, 246); stroke-opacity: 1;\"/></g><g class=\"point\"><path d=\"M282.43,279V227.38H319.47V279Z\" style=\"vector-effect: non-scaling-stroke; opacity: 1; stroke-width: 0.5px; fill: rgb(255, 247, 185); fill-opacity: 1; stroke: rgb(229, 236, 246); stroke-opacity: 1;\"/></g><g class=\"point\"><path d=\"M328.73,279V228.83H365.77V279Z\" style=\"vector-effect: non-scaling-stroke; opacity: 1; stroke-width: 0.5px; fill: rgb(255, 248, 188); fill-opacity: 1; stroke: rgb(229, 236, 246); stroke-opacity: 1;\"/></g><g class=\"point\"><path d=\"M375.03,279V234.86H412.07V279Z\" style=\"vector-effect: non-scaling-stroke; opacity: 1; stroke-width: 0.5px; fill: rgb(255, 252, 197); fill-opacity: 1; stroke: rgb(229, 236, 246); stroke-opacity: 1;\"/></g><g class=\"point\"><path d=\"M421.33,279V239.32H458.37V279Z\" style=\"vector-effect: non-scaling-stroke; opacity: 1; stroke-width: 0.5px; fill: rgb(255, 255, 204); fill-opacity: 1; stroke: rgb(229, 236, 246); stroke-opacity: 1;\"/></g></g></g></g></g><g class=\"overplot\"/><path class=\"xlines-above crisp\" style=\"fill: none;\" d=\"M0,0\"/><path class=\"ylines-above crisp\" style=\"fill: none;\" d=\"M0,0\"/><g class=\"overlines-above\"/><g class=\"xaxislayer-above\"><g class=\"xtick\"><text text-anchor=\"start\" x=\"0\" y=\"332\" transform=\"translate(91.15,0) rotate(30,0,326)\" style=\"font-family: 'Open Sans', verdana, arial, sans-serif; font-size: 12px; fill: rgb(42, 63, 95); fill-opacity: 1; white-space: pre;\">Team Fortress 2</text></g><g class=\"xtick\"><text text-anchor=\"start\" x=\"0\" y=\"332\" transform=\"translate(137.45,0) rotate(30,0,326)\" style=\"font-family: 'Open Sans', verdana, arial, sans-serif; font-size: 12px; fill: rgb(42, 63, 95); fill-opacity: 1; white-space: pre;\">Robocraft</text></g><g class=\"xtick\"><text text-anchor=\"start\" x=\"0\" y=\"332\" transform=\"translate(183.75,0) rotate(30,0,326)\" style=\"font-family: 'Open Sans', verdana, arial, sans-serif; font-size: 12px; fill: rgb(42, 63, 95); fill-opacity: 1; white-space: pre;\">Warframe</text></g><g class=\"xtick\"><text text-anchor=\"start\" x=\"0\" y=\"332\" transform=\"translate(230.05,0) rotate(30,0,326)\" style=\"font-family: 'Open Sans', verdana, arial, sans-serif; font-size: 12px; fill: rgb(42, 63, 95); fill-opacity: 1; white-space: pre;\">Heroes &amp; Generals</text></g><g class=\"xtick\"><text text-anchor=\"start\" x=\"0\" y=\"332\" transform=\"translate(276.35,0) rotate(30,0,326)\" style=\"font-family: 'Open Sans', verdana, arial, sans-serif; font-size: 12px; fill: rgb(42, 63, 95); fill-opacity: 1; white-space: pre;\">Life is Strange - Episode 1</text></g><g class=\"xtick\"><text text-anchor=\"start\" x=\"0\" y=\"332\" transform=\"translate(322.65,0) rotate(30,0,326)\" style=\"font-family: 'Open Sans', verdana, arial, sans-serif; font-size: 12px; fill: rgb(42, 63, 95); fill-opacity: 1; white-space: pre;\">Paladins®</text></g><g class=\"xtick\"><text text-anchor=\"start\" x=\"0\" y=\"332\" transform=\"translate(368.95,0) rotate(30,0,326)\" style=\"font-family: 'Open Sans', verdana, arial, sans-serif; font-size: 12px; fill: rgb(42, 63, 95); fill-opacity: 1; white-space: pre;\">Trove</text></g><g class=\"xtick\"><text text-anchor=\"start\" x=\"0\" y=\"332\" transform=\"translate(415.25,0) rotate(30,0,326)\" style=\"font-family: 'Open Sans', verdana, arial, sans-serif; font-size: 12px; fill: rgb(42, 63, 95); fill-opacity: 1; white-space: pre;\">Brawlhalla</text></g><g class=\"xtick\"><text text-anchor=\"start\" x=\"0\" y=\"332\" transform=\"translate(461.55,0) rotate(30,0,326)\" style=\"font-family: 'Open Sans', verdana, arial, sans-serif; font-size: 12px; fill: rgb(42, 63, 95); fill-opacity: 1; white-space: pre;\">No More Room in Hell</text></g><g class=\"xtick\"><text text-anchor=\"start\" x=\"0\" y=\"332\" transform=\"translate(507.85,0) rotate(30,0,326)\" style=\"font-family: 'Open Sans', verdana, arial, sans-serif; font-size: 12px; fill: rgb(42, 63, 95); fill-opacity: 1; white-space: pre;\">Emily is Away</text></g></g><g class=\"yaxislayer-above\"><g class=\"ytick\"><text text-anchor=\"end\" x=\"67\" y=\"4.199999999999999\" transform=\"translate(0,319)\" style=\"font-family: 'Open Sans', verdana, arial, sans-serif; font-size: 12px; fill: rgb(42, 63, 95); fill-opacity: 1; white-space: pre;\">0</text></g><g class=\"ytick\"><text text-anchor=\"end\" x=\"67\" y=\"4.199999999999999\" transform=\"translate(0,275.31)\" style=\"font-family: 'Open Sans', verdana, arial, sans-serif; font-size: 12px; fill: rgb(42, 63, 95); fill-opacity: 1; white-space: pre;\">20k</text></g><g class=\"ytick\"><text text-anchor=\"end\" x=\"67\" y=\"4.199999999999999\" transform=\"translate(0,231.62)\" style=\"font-family: 'Open Sans', verdana, arial, sans-serif; font-size: 12px; fill: rgb(42, 63, 95); fill-opacity: 1; white-space: pre;\">40k</text></g><g class=\"ytick\"><text text-anchor=\"end\" x=\"67\" y=\"4.199999999999999\" transform=\"translate(0,187.93)\" style=\"font-family: 'Open Sans', verdana, arial, sans-serif; font-size: 12px; fill: rgb(42, 63, 95); fill-opacity: 1; white-space: pre;\">60k</text></g><g class=\"ytick\"><text text-anchor=\"end\" x=\"67\" y=\"4.199999999999999\" transform=\"translate(0,144.24)\" style=\"font-family: 'Open Sans', verdana, arial, sans-serif; font-size: 12px; fill: rgb(42, 63, 95); fill-opacity: 1; white-space: pre;\">80k</text></g><g class=\"ytick\"><text text-anchor=\"end\" x=\"67\" y=\"4.199999999999999\" transform=\"translate(0,100.53999999999999)\" style=\"font-family: 'Open Sans', verdana, arial, sans-serif; font-size: 12px; fill: rgb(42, 63, 95); fill-opacity: 1; white-space: pre;\">100k</text></g><g class=\"ytick\"><text text-anchor=\"end\" x=\"67\" y=\"4.199999999999999\" transform=\"translate(0,56.85)\" style=\"font-family: 'Open Sans', verdana, arial, sans-serif; font-size: 12px; fill: rgb(42, 63, 95); fill-opacity: 1; white-space: pre;\">120k</text></g></g><g class=\"overaxes-above\"/></g></g><g class=\"polarlayer\"/><g class=\"ternarylayer\"/><g class=\"geolayer\"/><g class=\"funnelarealayer\"/><g class=\"pielayer\"/><g class=\"treemaplayer\"/><g class=\"sunburstlayer\"/><g class=\"glimages\"/><defs id=\"topdefs-560111\"><g class=\"clips\"/></defs><g class=\"layer-above\"><g class=\"imagelayer\"/><g class=\"shapelayer\"/></g><g class=\"infolayer\"><g class=\"cbcoloraxis colorbar\" transform=\"translate(68,40)\"><rect class=\"cbbg\" x=\"472\" y=\"0\" width=\"147.4375\" height=\"279\" style=\"fill: rgb(0, 0, 0); fill-opacity: 0; stroke: rgb(68, 68, 68); stroke-opacity: 1; stroke-width: 0;\"/><g class=\"cbfills\" transform=\"translate(0,29)\"><rect class=\"cbfill\" x=\"482\" width=\"30\" y=\"0\" height=\"240\" style=\"stroke: none; fill: url('#g560111-cbcoloraxis');\"/></g><g class=\"cblines\" transform=\"translate(0,29)\"/><g class=\"cbaxis crisp\" transform=\"translate(0,-40)\"><g class=\"ycbcoloraxistick\"><text text-anchor=\"start\" x=\"514.9\" y=\"4.199999999999999\" transform=\"translate(0,304.73625000000004)\" style=\"font-family: 'Open Sans', verdana, arial, sans-serif; font-size: 12px; fill: rgb(42, 63, 95); fill-opacity: 1; white-space: pre;\">20k</text></g><g class=\"ycbcoloraxistick\"><text text-anchor=\"start\" x=\"514.9\" y=\"4.199999999999999\" transform=\"translate(0,258.28625)\" style=\"font-family: 'Open Sans', verdana, arial, sans-serif; font-size: 12px; fill: rgb(42, 63, 95); fill-opacity: 1; white-space: pre;\">40k</text></g><g class=\"ycbcoloraxistick\"><text text-anchor=\"start\" x=\"514.9\" y=\"4.199999999999999\" transform=\"translate(0,211.84625)\" style=\"font-family: 'Open Sans', verdana, arial, sans-serif; font-size: 12px; fill: rgb(42, 63, 95); fill-opacity: 1; white-space: pre;\">60k</text></g><g class=\"ycbcoloraxistick\"><text text-anchor=\"start\" x=\"514.9\" y=\"4.199999999999999\" transform=\"translate(0,165.39625)\" style=\"font-family: 'Open Sans', verdana, arial, sans-serif; font-size: 12px; fill: rgb(42, 63, 95); fill-opacity: 1; white-space: pre;\">80k</text></g><g class=\"ycbcoloraxistick\"><text text-anchor=\"start\" x=\"514.9\" y=\"4.199999999999999\" transform=\"translate(0,118.94624999999999)\" style=\"font-family: 'Open Sans', verdana, arial, sans-serif; font-size: 12px; fill: rgb(42, 63, 95); fill-opacity: 1; white-space: pre;\">100k</text></g><g class=\"ycbcoloraxistick\"><text text-anchor=\"start\" x=\"514.9\" y=\"4.199999999999999\" transform=\"translate(0,72.49625)\" style=\"font-family: 'Open Sans', verdana, arial, sans-serif; font-size: 12px; fill: rgb(42, 63, 95); fill-opacity: 1; white-space: pre;\">120k</text></g></g><g class=\"cbtitleunshift\" transform=\"translate(-68,-40)\"><g class=\"cbtitle\" transform=\"translate(0,0)\"><text class=\"ycbcoloraxistitle\" x=\"550.26\" y=\"62\" text-anchor=\"start\" style=\"font-family: 'Open Sans', verdana, arial, sans-serif; font-size: 12px; fill: rgb(42, 63, 95); opacity: 1; font-weight: normal; white-space: pre;\">Cantidad de usuarios</text></g></g><rect class=\"cboutline\" x=\"482\" y=\"29.40625\" width=\"30\" height=\"239.59375\" style=\"stroke: rgb(68, 68, 68); stroke-opacity: 1; fill: none; stroke-width: 0;\"/></g><g class=\"g-gtitle\"><text class=\"gtitle\" x=\"35\" y=\"20\" text-anchor=\"start\" dy=\"0em\" style=\"font-family: 'Open Sans', verdana, arial, sans-serif; font-size: 17px; fill: rgb(42, 63, 95); opacity: 1; font-weight: normal; white-space: pre;\">Videojuegos gratis mas jugados</text></g><g class=\"g-xtitle\"><text class=\"xtitle\" x=\"299.5\" y=\"437.5013702392578\" text-anchor=\"middle\" style=\"font-family: 'Open Sans', verdana, arial, sans-serif; font-size: 14px; fill: rgb(42, 63, 95); opacity: 1; font-weight: normal; white-space: pre;\">Videojuegos</text></g><g class=\"g-ytitle\" transform=\"translate(2.2060546875,0)\"><text class=\"ytitle\" transform=\"rotate(-90,12.200000000000003,179.5)\" x=\"12.200000000000003\" y=\"179.5\" text-anchor=\"middle\" style=\"font-family: 'Open Sans', verdana, arial, sans-serif; font-size: 14px; fill: rgb(42, 63, 95); opacity: 1; font-weight: normal; white-space: pre;\">Cantidad de usuarios</text></g></g></svg>"
      ]
     },
     "metadata": {},
     "output_type": "display_data"
    }
   ],
   "source": [
    "fig = px.bar(data_frame=merge_free_games, x='app_name', y='amount', title='Videojuegos gratis mas jugados',\n",
    "             labels={'app_name': 'Videojuegos',\n",
    "                     'amount': 'Cantidad de usuarios', 'color': 'Cantidad'},\n",
    "             hover_data=HOVER_DATA_COLUMNS,\n",
    "             color=merge_free_games.amount, color_continuous_scale='ylorrd')\n",
    "\n",
    "fig.update_layout(\n",
    "    autosize=False,\n",
    "    width=800,\n",
    "    height=500,\n",
    "    margin=dict(l=20, r=20, t=40, b=30)\n",
    ")\n",
    "fig.show('svg')"
   ]
  },
  {
   "cell_type": "code",
   "execution_count": 94,
   "metadata": {
    "ExecuteTime": {
     "end_time": "2020-10-23T05:02:30.879579Z",
     "start_time": "2020-10-23T05:02:30.874596Z"
    }
   },
   "outputs": [],
   "source": [
    "del merge_free_games"
   ]
  },
  {
   "cell_type": "markdown",
   "metadata": {},
   "source": [
    "#### Cantidad de usuarios por precio de videojuego"
   ]
  },
  {
   "cell_type": "code",
   "execution_count": 95,
   "metadata": {
    "ExecuteTime": {
     "end_time": "2020-10-23T05:04:07.224380Z",
     "start_time": "2020-10-23T05:04:07.198443Z"
    }
   },
   "outputs": [
    {
     "data": {
      "text/html": [
       "<div>\n",
       "<style scoped>\n",
       "    .dataframe tbody tr th:only-of-type {\n",
       "        vertical-align: middle;\n",
       "    }\n",
       "\n",
       "    .dataframe tbody tr th {\n",
       "        vertical-align: top;\n",
       "    }\n",
       "\n",
       "    .dataframe thead th {\n",
       "        text-align: right;\n",
       "    }\n",
       "</style>\n",
       "<table border=\"1\" class=\"dataframe\">\n",
       "  <thead>\n",
       "    <tr style=\"text-align: right;\">\n",
       "      <th></th>\n",
       "      <th>category_price</th>\n",
       "      <th>amount</th>\n",
       "    </tr>\n",
       "  </thead>\n",
       "  <tbody>\n",
       "    <tr>\n",
       "      <th>1</th>\n",
       "      <td>paid</td>\n",
       "      <td>0.81345</td>\n",
       "    </tr>\n",
       "    <tr>\n",
       "      <th>0</th>\n",
       "      <td>free</td>\n",
       "      <td>0.18655</td>\n",
       "    </tr>\n",
       "  </tbody>\n",
       "</table>\n",
       "</div>"
      ],
      "text/plain": [
       "  category_price   amount\n",
       "1           paid  0.81345\n",
       "0           free  0.18655"
      ]
     },
     "execution_count": 95,
     "metadata": {},
     "output_type": "execute_result"
    }
   ],
   "source": [
    "sum_amount_categories = (reviews_games_amount.groupby('category_price').amount.sum() /\n",
    "                         reviews_games_amount.amount.sum()).to_frame(name='amount').reset_index()\n",
    "\n",
    "sum_amount_categories.sort_values(by='amount', ascending=False, inplace=True)\n",
    "sum_amount_categories"
   ]
  },
  {
   "cell_type": "code",
   "execution_count": 96,
   "metadata": {
    "ExecuteTime": {
     "end_time": "2020-10-23T05:04:09.383786Z",
     "start_time": "2020-10-23T05:04:09.267091Z"
    }
   },
   "outputs": [
    {
     "data": {
      "image/svg+xml": [
       "<svg class=\"main-svg\" xmlns=\"http://www.w3.org/2000/svg\" xmlns:xlink=\"http://www.w3.org/1999/xlink\" width=\"700\" height=\"450\" style=\"\" viewBox=\"0 0 700 450\"><rect x=\"0\" y=\"0\" width=\"700\" height=\"450\" style=\"fill: rgb(255, 255, 255); fill-opacity: 1;\"/><defs id=\"defs-8bfdab\"><g class=\"clips\"><clipPath id=\"clip8bfdabxyplot\" class=\"plotclip\"><rect width=\"539\" height=\"358\"/></clipPath><clipPath class=\"axesclip\" id=\"clip8bfdabx\"><rect x=\"57\" y=\"0\" width=\"539\" height=\"450\"/></clipPath><clipPath class=\"axesclip\" id=\"clip8bfdaby\"><rect x=\"0\" y=\"40\" width=\"700\" height=\"358\"/></clipPath><clipPath class=\"axesclip\" id=\"clip8bfdabxy\"><rect x=\"57\" y=\"40\" width=\"539\" height=\"358\"/></clipPath></g><g class=\"gradients\"/></defs><g class=\"bglayer\"><rect class=\"bg\" x=\"57\" y=\"40\" width=\"539\" height=\"358\" style=\"fill: rgb(229, 236, 246); fill-opacity: 1; stroke-width: 0;\"/></g><g class=\"layer-below\"><g class=\"imagelayer\"/><g class=\"shapelayer\"/></g><g class=\"cartesianlayer\"><g class=\"subplot xy\"><g class=\"layer-subplot\"><g class=\"shapelayer\"/><g class=\"imagelayer\"/></g><g class=\"gridlayer\"><g class=\"x\"/><g class=\"y\"><path class=\"ygrid crisp\" transform=\"translate(0,356.19)\" d=\"M57,0h539\" style=\"stroke: rgb(255, 255, 255); stroke-opacity: 1; stroke-width: 1px;\"/><path class=\"ygrid crisp\" transform=\"translate(0,314.38)\" d=\"M57,0h539\" style=\"stroke: rgb(255, 255, 255); stroke-opacity: 1; stroke-width: 1px;\"/><path class=\"ygrid crisp\" transform=\"translate(0,272.57)\" d=\"M57,0h539\" style=\"stroke: rgb(255, 255, 255); stroke-opacity: 1; stroke-width: 1px;\"/><path class=\"ygrid crisp\" transform=\"translate(0,230.76)\" d=\"M57,0h539\" style=\"stroke: rgb(255, 255, 255); stroke-opacity: 1; stroke-width: 1px;\"/><path class=\"ygrid crisp\" transform=\"translate(0,188.95)\" d=\"M57,0h539\" style=\"stroke: rgb(255, 255, 255); stroke-opacity: 1; stroke-width: 1px;\"/><path class=\"ygrid crisp\" transform=\"translate(0,147.14)\" d=\"M57,0h539\" style=\"stroke: rgb(255, 255, 255); stroke-opacity: 1; stroke-width: 1px;\"/><path class=\"ygrid crisp\" transform=\"translate(0,105.33)\" d=\"M57,0h539\" style=\"stroke: rgb(255, 255, 255); stroke-opacity: 1; stroke-width: 1px;\"/><path class=\"ygrid crisp\" transform=\"translate(0,63.519999999999996)\" d=\"M57,0h539\" style=\"stroke: rgb(255, 255, 255); stroke-opacity: 1; stroke-width: 1px;\"/></g></g><g class=\"zerolinelayer\"><path class=\"yzl zl crisp\" transform=\"translate(0,398)\" d=\"M57,0h539\" style=\"stroke: rgb(255, 255, 255); stroke-opacity: 1; stroke-width: 2px;\"/></g><path class=\"xlines-below\"/><path class=\"ylines-below\"/><g class=\"overlines-below\"/><g class=\"xaxislayer-below\"/><g class=\"yaxislayer-below\"/><g class=\"overaxes-below\"/><g class=\"plot\" transform=\"translate(57, 40)\" clip-path=\"url('#clip8bfdabxyplot')\"><g class=\"barlayer mlayer\"><g class=\"trace bars\" style=\"opacity: 1;\"><g class=\"points\"><g class=\"point\"><path d=\"M26.95,358V17.9H242.55V358Z\" style=\"vector-effect: non-scaling-stroke; opacity: 1; stroke-width: 0.5px; fill: rgb(99, 110, 250); fill-opacity: 1; stroke: rgb(229, 236, 246); stroke-opacity: 1;\"/></g></g></g><g class=\"trace bars\" style=\"opacity: 1;\"><g class=\"points\"><g class=\"point\"><path d=\"M296.45,358V280H512.05V358Z\" style=\"vector-effect: non-scaling-stroke; opacity: 1; stroke-width: 0.5px; fill: rgb(239, 85, 59); fill-opacity: 1; stroke: rgb(229, 236, 246); stroke-opacity: 1;\"/></g></g></g></g></g><g class=\"overplot\"/><path class=\"xlines-above crisp\" d=\"M0,0\" style=\"fill: none;\"/><path class=\"ylines-above crisp\" d=\"M0,0\" style=\"fill: none;\"/><g class=\"overlines-above\"/><g class=\"xaxislayer-above\"><g class=\"xtick\"><text text-anchor=\"middle\" x=\"0\" y=\"411\" transform=\"translate(191.75,0)\" style=\"font-family: 'Open Sans', verdana, arial, sans-serif; font-size: 12px; fill: rgb(42, 63, 95); fill-opacity: 1; white-space: pre;\">paid</text></g><g class=\"xtick\"><text text-anchor=\"middle\" x=\"0\" y=\"411\" transform=\"translate(461.25,0)\" style=\"font-family: 'Open Sans', verdana, arial, sans-serif; font-size: 12px; fill: rgb(42, 63, 95); fill-opacity: 1; white-space: pre;\">free</text></g></g><g class=\"yaxislayer-above\"><g class=\"ytick\"><text text-anchor=\"end\" x=\"56\" y=\"4.199999999999999\" transform=\"translate(0,398)\" style=\"font-family: 'Open Sans', verdana, arial, sans-serif; font-size: 12px; fill: rgb(42, 63, 95); fill-opacity: 1; white-space: pre;\">0</text></g><g class=\"ytick\"><text text-anchor=\"end\" x=\"56\" y=\"4.199999999999999\" transform=\"translate(0,356.19)\" style=\"font-family: 'Open Sans', verdana, arial, sans-serif; font-size: 12px; fill: rgb(42, 63, 95); fill-opacity: 1; white-space: pre;\">0.1</text></g><g class=\"ytick\"><text text-anchor=\"end\" x=\"56\" y=\"4.199999999999999\" transform=\"translate(0,314.38)\" style=\"font-family: 'Open Sans', verdana, arial, sans-serif; font-size: 12px; fill: rgb(42, 63, 95); fill-opacity: 1; white-space: pre;\">0.2</text></g><g class=\"ytick\"><text text-anchor=\"end\" x=\"56\" y=\"4.199999999999999\" transform=\"translate(0,272.57)\" style=\"font-family: 'Open Sans', verdana, arial, sans-serif; font-size: 12px; fill: rgb(42, 63, 95); fill-opacity: 1; white-space: pre;\">0.3</text></g><g class=\"ytick\"><text text-anchor=\"end\" x=\"56\" y=\"4.199999999999999\" transform=\"translate(0,230.76)\" style=\"font-family: 'Open Sans', verdana, arial, sans-serif; font-size: 12px; fill: rgb(42, 63, 95); fill-opacity: 1; white-space: pre;\">0.4</text></g><g class=\"ytick\"><text text-anchor=\"end\" x=\"56\" y=\"4.199999999999999\" transform=\"translate(0,188.95)\" style=\"font-family: 'Open Sans', verdana, arial, sans-serif; font-size: 12px; fill: rgb(42, 63, 95); fill-opacity: 1; white-space: pre;\">0.5</text></g><g class=\"ytick\"><text text-anchor=\"end\" x=\"56\" y=\"4.199999999999999\" transform=\"translate(0,147.14)\" style=\"font-family: 'Open Sans', verdana, arial, sans-serif; font-size: 12px; fill: rgb(42, 63, 95); fill-opacity: 1; white-space: pre;\">0.6</text></g><g class=\"ytick\"><text text-anchor=\"end\" x=\"56\" y=\"4.199999999999999\" transform=\"translate(0,105.33)\" style=\"font-family: 'Open Sans', verdana, arial, sans-serif; font-size: 12px; fill: rgb(42, 63, 95); fill-opacity: 1; white-space: pre;\">0.7</text></g><g class=\"ytick\"><text text-anchor=\"end\" x=\"56\" y=\"4.199999999999999\" transform=\"translate(0,63.519999999999996)\" style=\"font-family: 'Open Sans', verdana, arial, sans-serif; font-size: 12px; fill: rgb(42, 63, 95); fill-opacity: 1; white-space: pre;\">0.8</text></g></g><g class=\"overaxes-above\"/></g></g><g class=\"polarlayer\"/><g class=\"ternarylayer\"/><g class=\"geolayer\"/><g class=\"funnelarealayer\"/><g class=\"pielayer\"/><g class=\"treemaplayer\"/><g class=\"sunburstlayer\"/><g class=\"glimages\"/><defs id=\"topdefs-8bfdab\"><g class=\"clips\"/><clipPath id=\"legend8bfdab\"><rect width=\"81\" height=\"64\" x=\"0\" y=\"0\"/></clipPath></defs><g class=\"layer-above\"><g class=\"imagelayer\"/><g class=\"shapelayer\"/></g><g class=\"infolayer\"><g class=\"legend\" pointer-events=\"all\" transform=\"translate(606.78, 40)\"><rect class=\"bg\" shape-rendering=\"crispEdges\" width=\"81\" height=\"64\" x=\"0\" y=\"0\" style=\"stroke: rgb(68, 68, 68); stroke-opacity: 1; fill: rgb(255, 255, 255); fill-opacity: 1; stroke-width: 0px;\"/><g class=\"scrollbox\" transform=\"translate(0, 0)\" clip-path=\"url('#legend8bfdab')\"><text class=\"legendtitletext\" text-anchor=\"start\" x=\"2\" y=\"15.600000000000001\" style=\"font-family: 'Open Sans', verdana, arial, sans-serif; font-size: 12px; fill: rgb(42, 63, 95); fill-opacity: 1; white-space: pre;\">Categoria</text><g class=\"groups\" transform=\"translate(0, 0)\"><g class=\"traces\" transform=\"translate(0, 30.1)\" style=\"opacity: 1;\"><text class=\"legendtext\" text-anchor=\"start\" x=\"40\" y=\"4.680000000000001\" style=\"font-family: 'Open Sans', verdana, arial, sans-serif; font-size: 12px; fill: rgb(42, 63, 95); fill-opacity: 1; white-space: pre;\">Pago</text><g class=\"layers\" style=\"opacity: 1;\"><g class=\"legendfill\"/><g class=\"legendlines\"/><g class=\"legendsymbols\"><g class=\"legendpoints\"><path class=\"legendundefined\" d=\"M6,6H-6V-6H6Z\" transform=\"translate(20,0)\" style=\"stroke-width: 0.5px; fill: rgb(99, 110, 250); fill-opacity: 1; stroke: rgb(229, 236, 246); stroke-opacity: 1;\"/></g></g></g><rect class=\"legendtoggle\" pointer-events=\"all\" x=\"0\" y=\"-9.5\" width=\"75.84375\" height=\"19\" style=\"cursor: pointer; fill: rgb(0, 0, 0); fill-opacity: 0;\"/></g></g><g class=\"groups\" transform=\"translate(0, 0)\"><g class=\"traces\" transform=\"translate(0, 49.1)\" style=\"opacity: 1;\"><text class=\"legendtext\" text-anchor=\"start\" x=\"40\" y=\"4.680000000000001\" style=\"font-family: 'Open Sans', verdana, arial, sans-serif; font-size: 12px; fill: rgb(42, 63, 95); fill-opacity: 1; white-space: pre;\">Gratis</text><g class=\"layers\" style=\"opacity: 1;\"><g class=\"legendfill\"/><g class=\"legendlines\"/><g class=\"legendsymbols\"><g class=\"legendpoints\"><path class=\"legendundefined\" d=\"M6,6H-6V-6H6Z\" transform=\"translate(20,0)\" style=\"stroke-width: 0.5px; fill: rgb(239, 85, 59); fill-opacity: 1; stroke: rgb(229, 236, 246); stroke-opacity: 1;\"/></g></g></g><rect class=\"legendtoggle\" pointer-events=\"all\" x=\"0\" y=\"-9.5\" width=\"75.84375\" height=\"19\" style=\"cursor: pointer; fill: rgb(0, 0, 0); fill-opacity: 0;\"/></g></g></g><rect class=\"scrollbar\" rx=\"20\" ry=\"3\" width=\"0\" height=\"0\" x=\"0\" y=\"0\" style=\"fill: rgb(128, 139, 164); fill-opacity: 1;\"/></g><g class=\"g-gtitle\"><text class=\"gtitle\" x=\"35\" y=\"20\" text-anchor=\"start\" dy=\"0em\" style=\"font-family: 'Open Sans', verdana, arial, sans-serif; font-size: 17px; fill: rgb(42, 63, 95); opacity: 1; font-weight: normal; white-space: pre;\">% Usuarios por precio</text></g><g class=\"g-xtitle\"><text class=\"xtitle\" x=\"326.5\" y=\"438.20625\" text-anchor=\"middle\" style=\"font-family: 'Open Sans', verdana, arial, sans-serif; font-size: 14px; fill: rgb(42, 63, 95); opacity: 1; font-weight: normal; white-space: pre;\">Precios</text></g><g class=\"g-ytitle\" transform=\"translate(2.8310546875,0)\"><text class=\"ytitle\" transform=\"rotate(-90,11.575000000000003,219)\" x=\"11.575000000000003\" y=\"219\" text-anchor=\"middle\" style=\"font-family: 'Open Sans', verdana, arial, sans-serif; font-size: 14px; fill: rgb(42, 63, 95); opacity: 1; font-weight: normal; white-space: pre;\">% Usuarios</text></g></g></svg>"
      ]
     },
     "metadata": {},
     "output_type": "display_data"
    }
   ],
   "source": [
    "fig = px.bar(sum_amount_categories, x='category_price',\n",
    "             y='amount', title='% Usuarios por precio', color=['Pago', 'Gratis'],  width=500, height=400,\n",
    "             labels={'category_price': 'Precios', 'amount': '% Usuarios', 'color': 'Categoria'})\n",
    "fig.update_layout(\n",
    "    autosize=False,\n",
    "    width=500,\n",
    "    height=400,\n",
    "    margin=dict(l=20, r=20, t=40, b=30)\n",
    ")\n",
    "fig.show('svg')"
   ]
  },
  {
   "cell_type": "markdown",
   "metadata": {},
   "source": [
    "#### Series de tiempo"
   ]
  },
  {
   "cell_type": "markdown",
   "metadata": {},
   "source": [
    "##### Lanzamiento de videojuegos"
   ]
  },
  {
   "cell_type": "code",
   "execution_count": 97,
   "metadata": {
    "ExecuteTime": {
     "end_time": "2020-10-23T05:04:12.340268Z",
     "start_time": "2020-10-23T05:04:12.312348Z"
    }
   },
   "outputs": [],
   "source": [
    "# Creando nueva columna para nombre del mes\n",
    "games = data_games.assign(\n",
    "    month_name=data_games.release_date.dt.month_name())\n",
    "\n",
    "# Frecuencia de cada mes\n",
    "games = games.month_name.value_counts()\n",
    "\n",
    "# Pasando objeto value_counts a DataFrame\n",
    "games = pd.DataFrame({'month_name': games.index, 'amount': games.values})\n",
    "\n",
    "# Creando el numero del mes\n",
    "games['n_month'] = pd.to_datetime(\n",
    "    games.month_name, format='%B', errors='coerce').dt.month\n",
    "\n",
    "# Ordenando por numero de mes\n",
    "games.sort_values(by='n_month', inplace=True)"
   ]
  },
  {
   "cell_type": "code",
   "execution_count": 98,
   "metadata": {
    "ExecuteTime": {
     "end_time": "2020-10-23T05:04:27.353859Z",
     "start_time": "2020-10-23T05:04:27.296019Z"
    }
   },
   "outputs": [
    {
     "data": {
      "image/svg+xml": [
       "<svg class=\"main-svg\" xmlns=\"http://www.w3.org/2000/svg\" xmlns:xlink=\"http://www.w3.org/1999/xlink\" width=\"700\" height=\"450\" style=\"\" viewBox=\"0 0 700 450\"><rect x=\"0\" y=\"0\" width=\"700\" height=\"450\" style=\"fill: rgb(255, 255, 255); fill-opacity: 1;\"/><defs id=\"defs-4117a0\"><g class=\"clips\"><clipPath id=\"clip4117a0xyplot\" class=\"plotclip\"><rect width=\"540\" height=\"263\"/></clipPath><clipPath class=\"axesclip\" id=\"clip4117a0x\"><rect x=\"80\" y=\"0\" width=\"540\" height=\"450\"/></clipPath><clipPath class=\"axesclip\" id=\"clip4117a0y\"><rect x=\"0\" y=\"100\" width=\"700\" height=\"263\"/></clipPath><clipPath class=\"axesclip\" id=\"clip4117a0xy\"><rect x=\"80\" y=\"100\" width=\"540\" height=\"263\"/></clipPath></g><g class=\"gradients\"/></defs><g class=\"bglayer\"><rect class=\"bg\" x=\"80\" y=\"100\" width=\"540\" height=\"263\" style=\"fill: rgb(229, 236, 246); fill-opacity: 1; stroke-width: 0;\"/></g><g class=\"layer-below\"><g class=\"imagelayer\"/><g class=\"shapelayer\"/></g><g class=\"cartesianlayer\"><g class=\"subplot xy\"><g class=\"layer-subplot\"><g class=\"shapelayer\"/><g class=\"imagelayer\"/></g><g class=\"gridlayer\"><g class=\"x\"><path class=\"xgrid crisp\" transform=\"translate(115.13,0)\" d=\"M0,100v263\" style=\"stroke: rgb(255, 255, 255); stroke-opacity: 1; stroke-width: 1px;\"/><path class=\"xgrid crisp\" transform=\"translate(157.82999999999998,0)\" d=\"M0,100v263\" style=\"stroke: rgb(255, 255, 255); stroke-opacity: 1; stroke-width: 1px;\"/><path class=\"xgrid crisp\" transform=\"translate(200.53,0)\" d=\"M0,100v263\" style=\"stroke: rgb(255, 255, 255); stroke-opacity: 1; stroke-width: 1px;\"/><path class=\"xgrid crisp\" transform=\"translate(243.24,0)\" d=\"M0,100v263\" style=\"stroke: rgb(255, 255, 255); stroke-opacity: 1; stroke-width: 1px;\"/><path class=\"xgrid crisp\" transform=\"translate(285.94,0)\" d=\"M0,100v263\" style=\"stroke: rgb(255, 255, 255); stroke-opacity: 1; stroke-width: 1px;\"/><path class=\"xgrid crisp\" transform=\"translate(328.65,0)\" d=\"M0,100v263\" style=\"stroke: rgb(255, 255, 255); stroke-opacity: 1; stroke-width: 1px;\"/><path class=\"xgrid crisp\" transform=\"translate(371.35,0)\" d=\"M0,100v263\" style=\"stroke: rgb(255, 255, 255); stroke-opacity: 1; stroke-width: 1px;\"/><path class=\"xgrid crisp\" transform=\"translate(414.06,0)\" d=\"M0,100v263\" style=\"stroke: rgb(255, 255, 255); stroke-opacity: 1; stroke-width: 1px;\"/><path class=\"xgrid crisp\" transform=\"translate(456.76,0)\" d=\"M0,100v263\" style=\"stroke: rgb(255, 255, 255); stroke-opacity: 1; stroke-width: 1px;\"/><path class=\"xgrid crisp\" transform=\"translate(499.47,0)\" d=\"M0,100v263\" style=\"stroke: rgb(255, 255, 255); stroke-opacity: 1; stroke-width: 1px;\"/><path class=\"xgrid crisp\" transform=\"translate(542.1700000000001,0)\" d=\"M0,100v263\" style=\"stroke: rgb(255, 255, 255); stroke-opacity: 1; stroke-width: 1px;\"/><path class=\"xgrid crisp\" transform=\"translate(584.88,0)\" d=\"M0,100v263\" style=\"stroke: rgb(255, 255, 255); stroke-opacity: 1; stroke-width: 1px;\"/></g><g class=\"y\"><path class=\"ygrid crisp\" transform=\"translate(0,342.33000000000004)\" d=\"M80,0h540\" style=\"stroke: rgb(255, 255, 255); stroke-opacity: 1; stroke-width: 1px;\"/><path class=\"ygrid crisp\" transform=\"translate(0,281.68)\" d=\"M80,0h540\" style=\"stroke: rgb(255, 255, 255); stroke-opacity: 1; stroke-width: 1px;\"/><path class=\"ygrid crisp\" transform=\"translate(0,221.04000000000002)\" d=\"M80,0h540\" style=\"stroke: rgb(255, 255, 255); stroke-opacity: 1; stroke-width: 1px;\"/><path class=\"ygrid crisp\" transform=\"translate(0,160.39)\" d=\"M80,0h540\" style=\"stroke: rgb(255, 255, 255); stroke-opacity: 1; stroke-width: 1px;\"/></g></g><g class=\"zerolinelayer\"/><path class=\"xlines-below\"/><path class=\"ylines-below\"/><g class=\"overlines-below\"/><g class=\"xaxislayer-below\"/><g class=\"yaxislayer-below\"/><g class=\"overaxes-below\"/><g class=\"plot\" transform=\"translate(80, 100)\" clip-path=\"url('#clip4117a0xyplot')\"><g class=\"scatterlayer mlayer\"><g class=\"trace scatter tracef980d8\" style=\"stroke-miterlimit: 2; opacity: 1;\"><g class=\"fills\"/><g class=\"errorbars\"/><g class=\"lines\"><path class=\"js-line\" d=\"M35.13,241.72L77.83,230.2L120.53,193.81L163.24,202.61L205.94,194.72L248.65,198.36L291.35,136.81L334.06,89.81L376.76,54.93L419.47,21.27L462.17,74.95L504.88,91.93\" style=\"vector-effect: non-scaling-stroke; fill: none; stroke: rgb(99, 110, 250); stroke-opacity: 1; stroke-width: 2px; opacity: 1;\"/></g><g class=\"points\"><path class=\"point\" transform=\"translate(35.13,241.72)\" d=\"M6.5,0A6.5,6.5 0 1,1 0,-6.5A6.5,6.5 0 0,1 6.5,0Z\" style=\"opacity: 0.7; stroke-width: 0px; fill: rgb(99, 110, 250); fill-opacity: 1;\"/><path class=\"point\" transform=\"translate(77.83,230.2)\" d=\"M6.5,0A6.5,6.5 0 1,1 0,-6.5A6.5,6.5 0 0,1 6.5,0Z\" style=\"opacity: 0.7; stroke-width: 0px; fill: rgb(99, 110, 250); fill-opacity: 1;\"/><path class=\"point\" transform=\"translate(120.53,193.81)\" d=\"M6.5,0A6.5,6.5 0 1,1 0,-6.5A6.5,6.5 0 0,1 6.5,0Z\" style=\"opacity: 0.7; stroke-width: 0px; fill: rgb(99, 110, 250); fill-opacity: 1;\"/><path class=\"point\" transform=\"translate(163.24,202.61)\" d=\"M6.5,0A6.5,6.5 0 1,1 0,-6.5A6.5,6.5 0 0,1 6.5,0Z\" style=\"opacity: 0.7; stroke-width: 0px; fill: rgb(99, 110, 250); fill-opacity: 1;\"/><path class=\"point\" transform=\"translate(205.94,194.72)\" d=\"M6.5,0A6.5,6.5 0 1,1 0,-6.5A6.5,6.5 0 0,1 6.5,0Z\" style=\"opacity: 0.7; stroke-width: 0px; fill: rgb(99, 110, 250); fill-opacity: 1;\"/><path class=\"point\" transform=\"translate(248.65,198.36)\" d=\"M6.5,0A6.5,6.5 0 1,1 0,-6.5A6.5,6.5 0 0,1 6.5,0Z\" style=\"opacity: 0.7; stroke-width: 0px; fill: rgb(99, 110, 250); fill-opacity: 1;\"/><path class=\"point\" transform=\"translate(291.35,136.81)\" d=\"M6.5,0A6.5,6.5 0 1,1 0,-6.5A6.5,6.5 0 0,1 6.5,0Z\" style=\"opacity: 0.7; stroke-width: 0px; fill: rgb(99, 110, 250); fill-opacity: 1;\"/><path class=\"point\" transform=\"translate(334.06,89.81)\" d=\"M6.5,0A6.5,6.5 0 1,1 0,-6.5A6.5,6.5 0 0,1 6.5,0Z\" style=\"opacity: 0.7; stroke-width: 0px; fill: rgb(99, 110, 250); fill-opacity: 1;\"/><path class=\"point\" transform=\"translate(376.76,54.93)\" d=\"M6.5,0A6.5,6.5 0 1,1 0,-6.5A6.5,6.5 0 0,1 6.5,0Z\" style=\"opacity: 0.7; stroke-width: 0px; fill: rgb(99, 110, 250); fill-opacity: 1;\"/><path class=\"point\" transform=\"translate(419.47,21.27)\" d=\"M6.5,0A6.5,6.5 0 1,1 0,-6.5A6.5,6.5 0 0,1 6.5,0Z\" style=\"opacity: 0.7; stroke-width: 0px; fill: rgb(99, 110, 250); fill-opacity: 1;\"/><path class=\"point\" transform=\"translate(462.17,74.95)\" d=\"M6.5,0A6.5,6.5 0 1,1 0,-6.5A6.5,6.5 0 0,1 6.5,0Z\" style=\"opacity: 0.7; stroke-width: 0px; fill: rgb(99, 110, 250); fill-opacity: 1;\"/><path class=\"point\" transform=\"translate(504.88,91.93)\" d=\"M6.5,0A6.5,6.5 0 1,1 0,-6.5A6.5,6.5 0 0,1 6.5,0Z\" style=\"opacity: 0.7; stroke-width: 0px; fill: rgb(99, 110, 250); fill-opacity: 1;\"/></g><g class=\"text\"/></g></g></g><g class=\"overplot\"/><path class=\"xlines-above crisp\" d=\"M0,0\" style=\"fill: none;\"/><path class=\"ylines-above crisp\" d=\"M0,0\" style=\"fill: none;\"/><g class=\"overlines-above\"/><g class=\"xaxislayer-above\"><g class=\"xtick\"><text text-anchor=\"start\" x=\"0\" y=\"376\" transform=\"translate(115.13,0) rotate(30,0,370)\" style=\"font-family: 'Open Sans', verdana, arial, sans-serif; font-size: 12px; fill: rgb(42, 63, 95); fill-opacity: 1; white-space: pre;\">January</text></g><g class=\"xtick\"><text text-anchor=\"start\" x=\"0\" y=\"376\" transform=\"translate(157.82999999999998,0) rotate(30,0,370)\" style=\"font-family: 'Open Sans', verdana, arial, sans-serif; font-size: 12px; fill: rgb(42, 63, 95); fill-opacity: 1; white-space: pre;\">February</text></g><g class=\"xtick\"><text text-anchor=\"start\" x=\"0\" y=\"376\" transform=\"translate(200.53,0) rotate(30,0,370)\" style=\"font-family: 'Open Sans', verdana, arial, sans-serif; font-size: 12px; fill: rgb(42, 63, 95); fill-opacity: 1; white-space: pre;\">March</text></g><g class=\"xtick\"><text text-anchor=\"start\" x=\"0\" y=\"376\" transform=\"translate(243.24,0) rotate(30,0,370)\" style=\"font-family: 'Open Sans', verdana, arial, sans-serif; font-size: 12px; fill: rgb(42, 63, 95); fill-opacity: 1; white-space: pre;\">April</text></g><g class=\"xtick\"><text text-anchor=\"start\" x=\"0\" y=\"376\" transform=\"translate(285.94,0) rotate(30,0,370)\" style=\"font-family: 'Open Sans', verdana, arial, sans-serif; font-size: 12px; fill: rgb(42, 63, 95); fill-opacity: 1; white-space: pre;\">May</text></g><g class=\"xtick\"><text text-anchor=\"start\" x=\"0\" y=\"376\" transform=\"translate(328.65,0) rotate(30,0,370)\" style=\"font-family: 'Open Sans', verdana, arial, sans-serif; font-size: 12px; fill: rgb(42, 63, 95); fill-opacity: 1; white-space: pre;\">June</text></g><g class=\"xtick\"><text text-anchor=\"start\" x=\"0\" y=\"376\" transform=\"translate(371.35,0) rotate(30,0,370)\" style=\"font-family: 'Open Sans', verdana, arial, sans-serif; font-size: 12px; fill: rgb(42, 63, 95); fill-opacity: 1; white-space: pre;\">July</text></g><g class=\"xtick\"><text text-anchor=\"start\" x=\"0\" y=\"376\" transform=\"translate(414.06,0) rotate(30,0,370)\" style=\"font-family: 'Open Sans', verdana, arial, sans-serif; font-size: 12px; fill: rgb(42, 63, 95); fill-opacity: 1; white-space: pre;\">August</text></g><g class=\"xtick\"><text text-anchor=\"start\" x=\"0\" y=\"376\" transform=\"translate(456.76,0) rotate(30,0,370)\" style=\"font-family: 'Open Sans', verdana, arial, sans-serif; font-size: 12px; fill: rgb(42, 63, 95); fill-opacity: 1; white-space: pre;\">September</text></g><g class=\"xtick\"><text text-anchor=\"start\" x=\"0\" y=\"376\" transform=\"translate(499.47,0) rotate(30,0,370)\" style=\"font-family: 'Open Sans', verdana, arial, sans-serif; font-size: 12px; fill: rgb(42, 63, 95); fill-opacity: 1; white-space: pre;\">October</text></g><g class=\"xtick\"><text text-anchor=\"start\" x=\"0\" y=\"376\" transform=\"translate(542.1700000000001,0) rotate(30,0,370)\" style=\"font-family: 'Open Sans', verdana, arial, sans-serif; font-size: 12px; fill: rgb(42, 63, 95); fill-opacity: 1; white-space: pre;\">November</text></g><g class=\"xtick\"><text text-anchor=\"start\" x=\"0\" y=\"376\" transform=\"translate(584.88,0) rotate(30,0,370)\" style=\"font-family: 'Open Sans', verdana, arial, sans-serif; font-size: 12px; fill: rgb(42, 63, 95); fill-opacity: 1; white-space: pre;\">December</text></g></g><g class=\"yaxislayer-above\"><g class=\"ytick\"><text text-anchor=\"end\" x=\"79\" y=\"4.199999999999999\" transform=\"translate(0,342.33000000000004)\" style=\"font-family: 'Open Sans', verdana, arial, sans-serif; font-size: 12px; fill: rgb(42, 63, 95); fill-opacity: 1; white-space: pre;\">1000</text></g><g class=\"ytick\"><text text-anchor=\"end\" x=\"79\" y=\"4.199999999999999\" transform=\"translate(0,281.68)\" style=\"font-family: 'Open Sans', verdana, arial, sans-serif; font-size: 12px; fill: rgb(42, 63, 95); fill-opacity: 1; white-space: pre;\">1200</text></g><g class=\"ytick\"><text text-anchor=\"end\" x=\"79\" y=\"4.199999999999999\" transform=\"translate(0,221.04000000000002)\" style=\"font-family: 'Open Sans', verdana, arial, sans-serif; font-size: 12px; fill: rgb(42, 63, 95); fill-opacity: 1; white-space: pre;\">1400</text></g><g class=\"ytick\"><text text-anchor=\"end\" x=\"79\" y=\"4.199999999999999\" transform=\"translate(0,160.39)\" style=\"font-family: 'Open Sans', verdana, arial, sans-serif; font-size: 12px; fill: rgb(42, 63, 95); fill-opacity: 1; white-space: pre;\">1600</text></g></g><g class=\"overaxes-above\"/></g></g><g class=\"polarlayer\"/><g class=\"ternarylayer\"/><g class=\"geolayer\"/><g class=\"funnelarealayer\"/><g class=\"pielayer\"/><g class=\"treemaplayer\"/><g class=\"sunburstlayer\"/><g class=\"glimages\"/><defs id=\"topdefs-4117a0\"><g class=\"clips\"/></defs><g class=\"layer-above\"><g class=\"imagelayer\"/><g class=\"shapelayer\"/></g><g class=\"infolayer\"><g class=\"g-gtitle\"><text class=\"gtitle\" x=\"35\" y=\"50\" text-anchor=\"start\" dy=\"0em\" style=\"font-family: 'Open Sans', verdana, arial, sans-serif; font-size: 17px; fill: rgb(42, 63, 95); opacity: 1; font-weight: normal; white-space: pre;\">Videojuegos / Fechas de lanzamiento</text></g><g class=\"g-xtitle\"><text class=\"xtitle\" x=\"350\" y=\"438.18417892456057\" text-anchor=\"middle\" style=\"font-family: 'Open Sans', verdana, arial, sans-serif; font-size: 18px; fill: rgb(42, 63, 95); opacity: 1; font-weight: normal; white-space: pre;\">Meses</text></g><g class=\"g-ytitle\"><text class=\"ytitle\" transform=\"rotate(-90,20.884375,231.5)\" x=\"20.884375\" y=\"231.5\" text-anchor=\"middle\" style=\"font-family: 'Open Sans', verdana, arial, sans-serif; font-size: 18px; fill: rgb(42, 63, 95); opacity: 1; font-weight: normal; white-space: pre;\">Videojuegos publicados</text></g></g></svg>"
      ]
     },
     "metadata": {},
     "output_type": "display_data"
    }
   ],
   "source": [
    "fig = go.Figure()\n",
    "fig.add_trace(go.Scatter(\n",
    "    x=games.month_name,\n",
    "    y=games.amount,\n",
    "    marker={'size': 13, 'opacity': .7},\n",
    "))\n",
    "fig.update_layout(\n",
    "    title='Videojuegos / Fechas de lanzamiento',\n",
    "    autosize=False,\n",
    "    height=500,\n",
    "    width=950,\n",
    "    hoverdistance=100,\n",
    "    spikedistance=1000,\n",
    "    xaxis=dict(\n",
    "        title_text='Meses',\n",
    "        titlefont=dict(size=18),\n",
    "        showspikes=True,\n",
    "        spikethickness=2,\n",
    "        spikedash=\"dot\",\n",
    "        spikecolor=\"#999999\",\n",
    "        spikemode=\"across\"),\n",
    "    yaxis=dict(title_text=\"Videojuegos publicados\", titlefont=dict(size=18))\n",
    ")\n",
    "fig.show('svg')"
   ]
  },
  {
   "cell_type": "markdown",
   "metadata": {},
   "source": [
    "La mayoría de los videojuegos pueden estar siguiendo una estrategia de marketing lo cual explica que el número de publicaciones se acrecenta enormemente en los últimos meses del año."
   ]
  },
  {
   "cell_type": "code",
   "execution_count": 99,
   "metadata": {
    "ExecuteTime": {
     "end_time": "2020-10-23T05:04:29.103637Z",
     "start_time": "2020-10-23T05:04:29.099650Z"
    }
   },
   "outputs": [],
   "source": [
    "del games"
   ]
  },
  {
   "cell_type": "markdown",
   "metadata": {},
   "source": [
    "##### Concentración de usuarios en el año"
   ]
  },
  {
   "cell_type": "code",
   "execution_count": 100,
   "metadata": {
    "ExecuteTime": {
     "end_time": "2020-10-23T05:04:34.953450Z",
     "start_time": "2020-10-23T05:04:31.606293Z"
    }
   },
   "outputs": [
    {
     "data": {
      "text/html": [
       "<div>\n",
       "<style scoped>\n",
       "    .dataframe tbody tr th:only-of-type {\n",
       "        vertical-align: middle;\n",
       "    }\n",
       "\n",
       "    .dataframe tbody tr th {\n",
       "        vertical-align: top;\n",
       "    }\n",
       "\n",
       "    .dataframe thead th {\n",
       "        text-align: right;\n",
       "    }\n",
       "</style>\n",
       "<table border=\"1\" class=\"dataframe\">\n",
       "  <thead>\n",
       "    <tr style=\"text-align: right;\">\n",
       "      <th></th>\n",
       "      <th>month_name</th>\n",
       "      <th>amount</th>\n",
       "      <th>month_number</th>\n",
       "    </tr>\n",
       "  </thead>\n",
       "  <tbody>\n",
       "    <tr>\n",
       "      <th>4</th>\n",
       "      <td>January</td>\n",
       "      <td>589377</td>\n",
       "      <td>1</td>\n",
       "    </tr>\n",
       "    <tr>\n",
       "      <th>8</th>\n",
       "      <td>February</td>\n",
       "      <td>450825</td>\n",
       "      <td>2</td>\n",
       "    </tr>\n",
       "    <tr>\n",
       "      <th>9</th>\n",
       "      <td>March</td>\n",
       "      <td>423092</td>\n",
       "      <td>3</td>\n",
       "    </tr>\n",
       "    <tr>\n",
       "      <th>11</th>\n",
       "      <td>April</td>\n",
       "      <td>397294</td>\n",
       "      <td>4</td>\n",
       "    </tr>\n",
       "    <tr>\n",
       "      <th>10</th>\n",
       "      <td>May</td>\n",
       "      <td>421504</td>\n",
       "      <td>5</td>\n",
       "    </tr>\n",
       "    <tr>\n",
       "      <th>2</th>\n",
       "      <td>June</td>\n",
       "      <td>657788</td>\n",
       "      <td>6</td>\n",
       "    </tr>\n",
       "    <tr>\n",
       "      <th>3</th>\n",
       "      <td>July</td>\n",
       "      <td>610100</td>\n",
       "      <td>7</td>\n",
       "    </tr>\n",
       "    <tr>\n",
       "      <th>5</th>\n",
       "      <td>August</td>\n",
       "      <td>498117</td>\n",
       "      <td>8</td>\n",
       "    </tr>\n",
       "    <tr>\n",
       "      <th>7</th>\n",
       "      <td>September</td>\n",
       "      <td>457885</td>\n",
       "      <td>9</td>\n",
       "    </tr>\n",
       "    <tr>\n",
       "      <th>6</th>\n",
       "      <td>October</td>\n",
       "      <td>491182</td>\n",
       "      <td>10</td>\n",
       "    </tr>\n",
       "    <tr>\n",
       "      <th>0</th>\n",
       "      <td>November</td>\n",
       "      <td>928487</td>\n",
       "      <td>11</td>\n",
       "    </tr>\n",
       "    <tr>\n",
       "      <th>1</th>\n",
       "      <td>December</td>\n",
       "      <td>871220</td>\n",
       "      <td>12</td>\n",
       "    </tr>\n",
       "  </tbody>\n",
       "</table>\n",
       "</div>"
      ],
      "text/plain": [
       "   month_name  amount  month_number\n",
       "4     January  589377             1\n",
       "8    February  450825             2\n",
       "9       March  423092             3\n",
       "11      April  397294             4\n",
       "10        May  421504             5\n",
       "2        June  657788             6\n",
       "3        July  610100             7\n",
       "5      August  498117             8\n",
       "7   September  457885             9\n",
       "6     October  491182            10\n",
       "0    November  928487            11\n",
       "1    December  871220            12"
      ]
     },
     "execution_count": 100,
     "metadata": {},
     "output_type": "execute_result"
    }
   ],
   "source": [
    "users_by_month = data_reviews.assign(month_name=data_reviews.date.dt.month_name())\n",
    "\n",
    "users_by_month = users_by_month.month_name.value_counts()\n",
    "\n",
    "users_by_month = pd.DataFrame(\n",
    "    {'month_name': users_by_month.index, 'amount': users_by_month.values})\n",
    "\n",
    "users_by_month['month_number'] = pd.to_datetime(users_by_month.month_name,\n",
    "                                                format='%B', errors='coerce').dt.month\n",
    "\n",
    "users_by_month.sort_values(by='month_number', inplace=True)\n",
    "users_by_month"
   ]
  },
  {
   "cell_type": "code",
   "execution_count": 102,
   "metadata": {
    "ExecuteTime": {
     "end_time": "2020-10-23T05:04:43.273196Z",
     "start_time": "2020-10-23T05:04:43.200392Z"
    }
   },
   "outputs": [
    {
     "data": {
      "image/svg+xml": [
       "<svg class=\"main-svg\" xmlns=\"http://www.w3.org/2000/svg\" xmlns:xlink=\"http://www.w3.org/1999/xlink\" width=\"700\" height=\"450\" style=\"\" viewBox=\"0 0 700 450\"><rect x=\"0\" y=\"0\" width=\"700\" height=\"450\" style=\"fill: rgb(255, 255, 255); fill-opacity: 1;\"/><defs id=\"defs-f75719\"><g class=\"clips\"><clipPath id=\"clipf75719xyplot\" class=\"plotclip\"><rect width=\"540\" height=\"263\"/></clipPath><clipPath class=\"axesclip\" id=\"clipf75719x\"><rect x=\"80\" y=\"0\" width=\"540\" height=\"450\"/></clipPath><clipPath class=\"axesclip\" id=\"clipf75719y\"><rect x=\"0\" y=\"100\" width=\"700\" height=\"263\"/></clipPath><clipPath class=\"axesclip\" id=\"clipf75719xy\"><rect x=\"80\" y=\"100\" width=\"540\" height=\"263\"/></clipPath></g><g class=\"gradients\"/></defs><g class=\"bglayer\"><rect class=\"bg\" x=\"80\" y=\"100\" width=\"540\" height=\"263\" style=\"fill: rgb(229, 236, 246); fill-opacity: 1; stroke-width: 0;\"/></g><g class=\"layer-below\"><g class=\"imagelayer\"/><g class=\"shapelayer\"/></g><g class=\"cartesianlayer\"><g class=\"subplot xy\"><g class=\"layer-subplot\"><g class=\"shapelayer\"/><g class=\"imagelayer\"/></g><g class=\"gridlayer\"><g class=\"x\"><path class=\"xgrid crisp\" transform=\"translate(115.13,0)\" d=\"M0,100v263\" style=\"stroke: rgb(255, 255, 255); stroke-opacity: 1; stroke-width: 1px;\"/><path class=\"xgrid crisp\" transform=\"translate(157.82999999999998,0)\" d=\"M0,100v263\" style=\"stroke: rgb(255, 255, 255); stroke-opacity: 1; stroke-width: 1px;\"/><path class=\"xgrid crisp\" transform=\"translate(200.53,0)\" d=\"M0,100v263\" style=\"stroke: rgb(255, 255, 255); stroke-opacity: 1; stroke-width: 1px;\"/><path class=\"xgrid crisp\" transform=\"translate(243.24,0)\" d=\"M0,100v263\" style=\"stroke: rgb(255, 255, 255); stroke-opacity: 1; stroke-width: 1px;\"/><path class=\"xgrid crisp\" transform=\"translate(285.94,0)\" d=\"M0,100v263\" style=\"stroke: rgb(255, 255, 255); stroke-opacity: 1; stroke-width: 1px;\"/><path class=\"xgrid crisp\" transform=\"translate(328.65,0)\" d=\"M0,100v263\" style=\"stroke: rgb(255, 255, 255); stroke-opacity: 1; stroke-width: 1px;\"/><path class=\"xgrid crisp\" transform=\"translate(371.35,0)\" d=\"M0,100v263\" style=\"stroke: rgb(255, 255, 255); stroke-opacity: 1; stroke-width: 1px;\"/><path class=\"xgrid crisp\" transform=\"translate(414.06,0)\" d=\"M0,100v263\" style=\"stroke: rgb(255, 255, 255); stroke-opacity: 1; stroke-width: 1px;\"/><path class=\"xgrid crisp\" transform=\"translate(456.76,0)\" d=\"M0,100v263\" style=\"stroke: rgb(255, 255, 255); stroke-opacity: 1; stroke-width: 1px;\"/><path class=\"xgrid crisp\" transform=\"translate(499.47,0)\" d=\"M0,100v263\" style=\"stroke: rgb(255, 255, 255); stroke-opacity: 1; stroke-width: 1px;\"/><path class=\"xgrid crisp\" transform=\"translate(542.1700000000001,0)\" d=\"M0,100v263\" style=\"stroke: rgb(255, 255, 255); stroke-opacity: 1; stroke-width: 1px;\"/><path class=\"xgrid crisp\" transform=\"translate(584.88,0)\" d=\"M0,100v263\" style=\"stroke: rgb(255, 255, 255); stroke-opacity: 1; stroke-width: 1px;\"/></g><g class=\"y\"><path class=\"ygrid crisp\" transform=\"translate(0,340.6)\" d=\"M80,0h540\" style=\"stroke: rgb(255, 255, 255); stroke-opacity: 1; stroke-width: 1px;\"/><path class=\"ygrid crisp\" transform=\"translate(0,299.1)\" d=\"M80,0h540\" style=\"stroke: rgb(255, 255, 255); stroke-opacity: 1; stroke-width: 1px;\"/><path class=\"ygrid crisp\" transform=\"translate(0,257.6)\" d=\"M80,0h540\" style=\"stroke: rgb(255, 255, 255); stroke-opacity: 1; stroke-width: 1px;\"/><path class=\"ygrid crisp\" transform=\"translate(0,216.1)\" d=\"M80,0h540\" style=\"stroke: rgb(255, 255, 255); stroke-opacity: 1; stroke-width: 1px;\"/><path class=\"ygrid crisp\" transform=\"translate(0,174.6)\" d=\"M80,0h540\" style=\"stroke: rgb(255, 255, 255); stroke-opacity: 1; stroke-width: 1px;\"/><path class=\"ygrid crisp\" transform=\"translate(0,133.1)\" d=\"M80,0h540\" style=\"stroke: rgb(255, 255, 255); stroke-opacity: 1; stroke-width: 1px;\"/></g></g><g class=\"zerolinelayer\"/><path class=\"xlines-below\"/><path class=\"ylines-below\"/><g class=\"overlines-below\"/><g class=\"xaxislayer-below\"/><g class=\"yaxislayer-below\"/><g class=\"overaxes-below\"/><g class=\"plot\" transform=\"translate(80, 100)\" clip-path=\"url('#clipf75719xyplot')\"><g class=\"scatterlayer mlayer\"><g class=\"trace scatter trace8cdb69\" style=\"stroke-miterlimit: 2; opacity: 1;\"><g class=\"fills\"/><g class=\"errorbars\"/><g class=\"lines\"><path class=\"js-line\" d=\"M35.13,162.01L77.83,219.51L120.53,231.02L163.24,241.73L205.94,231.68L248.65,133.62L291.35,153.41L334.06,199.88L376.76,216.58L419.47,202.76L462.17,21.27L504.88,45.04\" style=\"vector-effect: non-scaling-stroke; fill: none; stroke: rgb(0, 0, 0); stroke-opacity: 1; stroke-width: 2px; opacity: 1;\"/></g><g class=\"points\"><path class=\"point\" transform=\"translate(35.13,162.01)\" d=\"M6.5,0A6.5,6.5 0 1,1 0,-6.5A6.5,6.5 0 0,1 6.5,0Z\" style=\"opacity: 0.7; stroke-width: 0px; fill: rgb(0, 0, 0); fill-opacity: 1;\"/><path class=\"point\" transform=\"translate(77.83,219.51)\" d=\"M6.5,0A6.5,6.5 0 1,1 0,-6.5A6.5,6.5 0 0,1 6.5,0Z\" style=\"opacity: 0.7; stroke-width: 0px; fill: rgb(0, 0, 0); fill-opacity: 1;\"/><path class=\"point\" transform=\"translate(120.53,231.02)\" d=\"M6.5,0A6.5,6.5 0 1,1 0,-6.5A6.5,6.5 0 0,1 6.5,0Z\" style=\"opacity: 0.7; stroke-width: 0px; fill: rgb(0, 0, 0); fill-opacity: 1;\"/><path class=\"point\" transform=\"translate(163.24,241.73)\" d=\"M6.5,0A6.5,6.5 0 1,1 0,-6.5A6.5,6.5 0 0,1 6.5,0Z\" style=\"opacity: 0.7; stroke-width: 0px; fill: rgb(0, 0, 0); fill-opacity: 1;\"/><path class=\"point\" transform=\"translate(205.94,231.68)\" d=\"M6.5,0A6.5,6.5 0 1,1 0,-6.5A6.5,6.5 0 0,1 6.5,0Z\" style=\"opacity: 0.7; stroke-width: 0px; fill: rgb(0, 0, 0); fill-opacity: 1;\"/><path class=\"point\" transform=\"translate(248.65,133.62)\" d=\"M6.5,0A6.5,6.5 0 1,1 0,-6.5A6.5,6.5 0 0,1 6.5,0Z\" style=\"opacity: 0.7; stroke-width: 0px; fill: rgb(0, 0, 0); fill-opacity: 1;\"/><path class=\"point\" transform=\"translate(291.35,153.41)\" d=\"M6.5,0A6.5,6.5 0 1,1 0,-6.5A6.5,6.5 0 0,1 6.5,0Z\" style=\"opacity: 0.7; stroke-width: 0px; fill: rgb(0, 0, 0); fill-opacity: 1;\"/><path class=\"point\" transform=\"translate(334.06,199.88)\" d=\"M6.5,0A6.5,6.5 0 1,1 0,-6.5A6.5,6.5 0 0,1 6.5,0Z\" style=\"opacity: 0.7; stroke-width: 0px; fill: rgb(0, 0, 0); fill-opacity: 1;\"/><path class=\"point\" transform=\"translate(376.76,216.58)\" d=\"M6.5,0A6.5,6.5 0 1,1 0,-6.5A6.5,6.5 0 0,1 6.5,0Z\" style=\"opacity: 0.7; stroke-width: 0px; fill: rgb(0, 0, 0); fill-opacity: 1;\"/><path class=\"point\" transform=\"translate(419.47,202.76)\" d=\"M6.5,0A6.5,6.5 0 1,1 0,-6.5A6.5,6.5 0 0,1 6.5,0Z\" style=\"opacity: 0.7; stroke-width: 0px; fill: rgb(0, 0, 0); fill-opacity: 1;\"/><path class=\"point\" transform=\"translate(462.17,21.27)\" d=\"M6.5,0A6.5,6.5 0 1,1 0,-6.5A6.5,6.5 0 0,1 6.5,0Z\" style=\"opacity: 0.7; stroke-width: 0px; fill: rgb(0, 0, 0); fill-opacity: 1;\"/><path class=\"point\" transform=\"translate(504.88,45.04)\" d=\"M6.5,0A6.5,6.5 0 1,1 0,-6.5A6.5,6.5 0 0,1 6.5,0Z\" style=\"opacity: 0.7; stroke-width: 0px; fill: rgb(0, 0, 0); fill-opacity: 1;\"/></g><g class=\"text\"/></g></g></g><g class=\"overplot\"/><path class=\"xlines-above crisp\" d=\"M0,0\" style=\"fill: none;\"/><path class=\"ylines-above crisp\" d=\"M0,0\" style=\"fill: none;\"/><g class=\"overlines-above\"/><g class=\"xaxislayer-above\"><g class=\"xtick\"><text text-anchor=\"start\" x=\"0\" y=\"376\" transform=\"translate(115.13,0) rotate(30,0,370)\" style=\"font-family: 'Open Sans', verdana, arial, sans-serif; font-size: 12px; fill: rgb(42, 63, 95); fill-opacity: 1; white-space: pre;\">January</text></g><g class=\"xtick\"><text text-anchor=\"start\" x=\"0\" y=\"376\" transform=\"translate(157.82999999999998,0) rotate(30,0,370)\" style=\"font-family: 'Open Sans', verdana, arial, sans-serif; font-size: 12px; fill: rgb(42, 63, 95); fill-opacity: 1; white-space: pre;\">February</text></g><g class=\"xtick\"><text text-anchor=\"start\" x=\"0\" y=\"376\" transform=\"translate(200.53,0) rotate(30,0,370)\" style=\"font-family: 'Open Sans', verdana, arial, sans-serif; font-size: 12px; fill: rgb(42, 63, 95); fill-opacity: 1; white-space: pre;\">March</text></g><g class=\"xtick\"><text text-anchor=\"start\" x=\"0\" y=\"376\" transform=\"translate(243.24,0) rotate(30,0,370)\" style=\"font-family: 'Open Sans', verdana, arial, sans-serif; font-size: 12px; fill: rgb(42, 63, 95); fill-opacity: 1; white-space: pre;\">April</text></g><g class=\"xtick\"><text text-anchor=\"start\" x=\"0\" y=\"376\" transform=\"translate(285.94,0) rotate(30,0,370)\" style=\"font-family: 'Open Sans', verdana, arial, sans-serif; font-size: 12px; fill: rgb(42, 63, 95); fill-opacity: 1; white-space: pre;\">May</text></g><g class=\"xtick\"><text text-anchor=\"start\" x=\"0\" y=\"376\" transform=\"translate(328.65,0) rotate(30,0,370)\" style=\"font-family: 'Open Sans', verdana, arial, sans-serif; font-size: 12px; fill: rgb(42, 63, 95); fill-opacity: 1; white-space: pre;\">June</text></g><g class=\"xtick\"><text text-anchor=\"start\" x=\"0\" y=\"376\" transform=\"translate(371.35,0) rotate(30,0,370)\" style=\"font-family: 'Open Sans', verdana, arial, sans-serif; font-size: 12px; fill: rgb(42, 63, 95); fill-opacity: 1; white-space: pre;\">July</text></g><g class=\"xtick\"><text text-anchor=\"start\" x=\"0\" y=\"376\" transform=\"translate(414.06,0) rotate(30,0,370)\" style=\"font-family: 'Open Sans', verdana, arial, sans-serif; font-size: 12px; fill: rgb(42, 63, 95); fill-opacity: 1; white-space: pre;\">August</text></g><g class=\"xtick\"><text text-anchor=\"start\" x=\"0\" y=\"376\" transform=\"translate(456.76,0) rotate(30,0,370)\" style=\"font-family: 'Open Sans', verdana, arial, sans-serif; font-size: 12px; fill: rgb(42, 63, 95); fill-opacity: 1; white-space: pre;\">September</text></g><g class=\"xtick\"><text text-anchor=\"start\" x=\"0\" y=\"376\" transform=\"translate(499.47,0) rotate(30,0,370)\" style=\"font-family: 'Open Sans', verdana, arial, sans-serif; font-size: 12px; fill: rgb(42, 63, 95); fill-opacity: 1; white-space: pre;\">October</text></g><g class=\"xtick\"><text text-anchor=\"start\" x=\"0\" y=\"376\" transform=\"translate(542.1700000000001,0) rotate(30,0,370)\" style=\"font-family: 'Open Sans', verdana, arial, sans-serif; font-size: 12px; fill: rgb(42, 63, 95); fill-opacity: 1; white-space: pre;\">November</text></g><g class=\"xtick\"><text text-anchor=\"start\" x=\"0\" y=\"376\" transform=\"translate(584.88,0) rotate(30,0,370)\" style=\"font-family: 'Open Sans', verdana, arial, sans-serif; font-size: 12px; fill: rgb(42, 63, 95); fill-opacity: 1; white-space: pre;\">December</text></g></g><g class=\"yaxislayer-above\"><g class=\"ytick\"><text text-anchor=\"end\" x=\"79\" y=\"4.199999999999999\" transform=\"translate(0,340.6)\" style=\"font-family: 'Open Sans', verdana, arial, sans-serif; font-size: 12px; fill: rgb(42, 63, 95); fill-opacity: 1; white-space: pre;\">0.4M</text></g><g class=\"ytick\"><text text-anchor=\"end\" x=\"79\" y=\"4.199999999999999\" transform=\"translate(0,299.1)\" style=\"font-family: 'Open Sans', verdana, arial, sans-serif; font-size: 12px; fill: rgb(42, 63, 95); fill-opacity: 1; white-space: pre;\">0.5M</text></g><g class=\"ytick\"><text text-anchor=\"end\" x=\"79\" y=\"4.199999999999999\" transform=\"translate(0,257.6)\" style=\"font-family: 'Open Sans', verdana, arial, sans-serif; font-size: 12px; fill: rgb(42, 63, 95); fill-opacity: 1; white-space: pre;\">0.6M</text></g><g class=\"ytick\"><text text-anchor=\"end\" x=\"79\" y=\"4.199999999999999\" transform=\"translate(0,216.1)\" style=\"font-family: 'Open Sans', verdana, arial, sans-serif; font-size: 12px; fill: rgb(42, 63, 95); fill-opacity: 1; white-space: pre;\">0.7M</text></g><g class=\"ytick\"><text text-anchor=\"end\" x=\"79\" y=\"4.199999999999999\" transform=\"translate(0,174.6)\" style=\"font-family: 'Open Sans', verdana, arial, sans-serif; font-size: 12px; fill: rgb(42, 63, 95); fill-opacity: 1; white-space: pre;\">0.8M</text></g><g class=\"ytick\"><text text-anchor=\"end\" x=\"79\" y=\"4.199999999999999\" transform=\"translate(0,133.1)\" style=\"font-family: 'Open Sans', verdana, arial, sans-serif; font-size: 12px; fill: rgb(42, 63, 95); fill-opacity: 1; white-space: pre;\">0.9M</text></g></g><g class=\"overaxes-above\"/></g></g><g class=\"polarlayer\"/><g class=\"ternarylayer\"/><g class=\"geolayer\"/><g class=\"funnelarealayer\"/><g class=\"pielayer\"/><g class=\"treemaplayer\"/><g class=\"sunburstlayer\"/><g class=\"glimages\"/><defs id=\"topdefs-f75719\"><g class=\"clips\"/></defs><g class=\"layer-above\"><g class=\"imagelayer\"/><g class=\"shapelayer\"/></g><g class=\"infolayer\"><g class=\"g-gtitle\"><text class=\"gtitle\" x=\"35\" y=\"50\" text-anchor=\"start\" dy=\"0em\" style=\"font-family: 'Open Sans', verdana, arial, sans-serif; font-size: 17px; fill: rgb(42, 63, 95); opacity: 1; font-weight: normal; white-space: pre;\">Usuarios activos en el año</text></g><g class=\"g-xtitle\"><text class=\"xtitle\" x=\"350\" y=\"438.18417892456057\" text-anchor=\"middle\" style=\"font-family: 'Open Sans', verdana, arial, sans-serif; font-size: 18px; fill: rgb(42, 63, 95); opacity: 1; font-weight: normal; white-space: pre;\">Meses</text></g><g class=\"g-ytitle\"><text class=\"ytitle\" transform=\"rotate(-90,21.65,231.5)\" x=\"21.65\" y=\"231.5\" text-anchor=\"middle\" style=\"font-family: 'Open Sans', verdana, arial, sans-serif; font-size: 18px; fill: rgb(42, 63, 95); opacity: 1; font-weight: normal; white-space: pre;\">Cantidad de usuarios</text></g></g></svg>"
      ]
     },
     "metadata": {},
     "output_type": "display_data"
    }
   ],
   "source": [
    "fig = go.Figure()\n",
    "fig.add_trace(go.Scatter(\n",
    "    x=users_by_month.month_name,\n",
    "    y=users_by_month.amount,\n",
    "    line={'color': '#000000'},\n",
    "    marker={'size': 13, 'opacity': .7},\n",
    "))\n",
    "fig.update_layout(\n",
    "    title='Usuarios activos en el año',\n",
    "    autosize=False,\n",
    "    height=500,\n",
    "    width=950,\n",
    "    hoverdistance=100,\n",
    "    spikedistance=1000,\n",
    "    xaxis=dict(\n",
    "        title_text='Meses',\n",
    "        titlefont=dict(size=18),\n",
    "        showspikes=True,\n",
    "        spikethickness=2,\n",
    "        spikedash=\"dot\",\n",
    "        spikecolor=\"red\",\n",
    "        spikemode=\"across\"),\n",
    "    yaxis=dict(title_text=\"Cantidad de usuarios\", titlefont=dict(size=18))\n",
    ")\n",
    "fig.show('svg')"
   ]
  },
  {
   "cell_type": "markdown",
   "metadata": {},
   "source": [
    "Vemos que se presentan 3 picos en la gráfica: A inicios, mitad y fin de año, lo cual puede estar relacionado a las temporadas de verano e invierno en Estados Unidos, en éstas épocas se concentran la mayoría de usuarios e invierten más horas de su tiempo libre en videojuegos de Steam."
   ]
  },
  {
   "cell_type": "code",
   "execution_count": 103,
   "metadata": {
    "ExecuteTime": {
     "end_time": "2020-10-23T05:04:53.254556Z",
     "start_time": "2020-10-23T05:04:53.250575Z"
    }
   },
   "outputs": [],
   "source": [
    "del users_by_month"
   ]
  },
  {
   "cell_type": "markdown",
   "metadata": {},
   "source": [
    "##### 20 Videojuegos más antiguos"
   ]
  },
  {
   "cell_type": "code",
   "execution_count": 243,
   "metadata": {
    "ExecuteTime": {
     "end_time": "2020-10-23T06:26:48.529816Z",
     "start_time": "2020-10-23T06:26:48.198725Z"
    }
   },
   "outputs": [],
   "source": [
    "older_games = data_games.drop(['url', 'categories'], axis=1).sort_values(\n",
    "    by='release_date', ascending=True).head(20)\n",
    "\n",
    "group_users = data_reviews.query('product_id in @older_games.id')\\\n",
    "    .groupby('product_id').product_id.count().reset_index(name='amount')\n",
    "\n",
    "older_games = pd.merge(older_games, group_users, left_on='id',\n",
    "                       right_on='product_id')\n",
    "\n",
    "older_games['year'] = older_games.release_date.dt.year\n",
    "\n",
    "older_games.sort_values(by='year', ascending=False, inplace=True)"
   ]
  },
  {
   "cell_type": "code",
   "execution_count": 244,
   "metadata": {
    "ExecuteTime": {
     "end_time": "2020-10-23T06:28:59.817898Z",
     "start_time": "2020-10-23T06:28:59.618429Z"
    }
   },
   "outputs": [
    {
     "data": {
      "image/svg+xml": [
       "<svg class=\"main-svg\" xmlns=\"http://www.w3.org/2000/svg\" xmlns:xlink=\"http://www.w3.org/1999/xlink\" width=\"700\" height=\"450\" style=\"\" viewBox=\"0 0 700 450\"><rect x=\"0\" y=\"0\" width=\"700\" height=\"450\" style=\"fill: rgb(255, 255, 255); fill-opacity: 1;\"/><defs id=\"defs-a40024\"><g class=\"clips\"><clipPath id=\"clipa40024xyplot\" class=\"plotclip\"><rect width=\"317\" height=\"310\"/></clipPath><clipPath class=\"axesclip\" id=\"clipa40024x\"><rect x=\"80\" y=\"0\" width=\"317\" height=\"450\"/></clipPath><clipPath class=\"axesclip\" id=\"clipa40024y\"><rect x=\"0\" y=\"60\" width=\"700\" height=\"310\"/></clipPath><clipPath class=\"axesclip\" id=\"clipa40024xy\"><rect x=\"80\" y=\"60\" width=\"317\" height=\"310\"/></clipPath></g><g class=\"gradients\"/></defs><g class=\"bglayer\"><rect class=\"bg\" x=\"80\" y=\"60\" width=\"317\" height=\"310\" style=\"fill: rgb(229, 236, 246); fill-opacity: 1; stroke-width: 0;\"/></g><g class=\"layer-below\"><g class=\"imagelayer\"/><g class=\"shapelayer\"/></g><g class=\"cartesianlayer\"><g class=\"subplot xy\"><g class=\"layer-subplot\"><g class=\"shapelayer\"/><g class=\"imagelayer\"/></g><g class=\"gridlayer\"><g class=\"x\"/><g class=\"y\"><path class=\"ygrid crisp\" transform=\"translate(0,327.07)\" d=\"M80,0h317\" style=\"stroke: rgb(255, 255, 255); stroke-opacity: 1; stroke-width: 1px;\"/><path class=\"ygrid crisp\" transform=\"translate(0,284.14)\" d=\"M80,0h317\" style=\"stroke: rgb(255, 255, 255); stroke-opacity: 1; stroke-width: 1px;\"/><path class=\"ygrid crisp\" transform=\"translate(0,241.21)\" d=\"M80,0h317\" style=\"stroke: rgb(255, 255, 255); stroke-opacity: 1; stroke-width: 1px;\"/><path class=\"ygrid crisp\" transform=\"translate(0,198.28)\" d=\"M80,0h317\" style=\"stroke: rgb(255, 255, 255); stroke-opacity: 1; stroke-width: 1px;\"/><path class=\"ygrid crisp\" transform=\"translate(0,155.35)\" d=\"M80,0h317\" style=\"stroke: rgb(255, 255, 255); stroke-opacity: 1; stroke-width: 1px;\"/><path class=\"ygrid crisp\" transform=\"translate(0,112.42)\" d=\"M80,0h317\" style=\"stroke: rgb(255, 255, 255); stroke-opacity: 1; stroke-width: 1px;\"/><path class=\"ygrid crisp\" transform=\"translate(0,69.49)\" d=\"M80,0h317\" style=\"stroke: rgb(255, 255, 255); stroke-opacity: 1; stroke-width: 1px;\"/></g></g><g class=\"zerolinelayer\"><path class=\"yzl zl crisp\" transform=\"translate(0,370)\" d=\"M80,0h317\" style=\"stroke: rgb(255, 255, 255); stroke-opacity: 1; stroke-width: 2px;\"/></g><path class=\"xlines-below\"/><path class=\"ylines-below\"/><g class=\"overlines-below\"/><g class=\"xaxislayer-below\"/><g class=\"yaxislayer-below\"/><g class=\"overaxes-below\"/><g class=\"plot\" transform=\"translate(80, 60)\" clip-path=\"url('#clipa40024xyplot')\"><g class=\"barlayer mlayer\"><g class=\"trace bars\" style=\"opacity: 1;\"><g class=\"points\"><g class=\"point\"><path d=\"M276.24,310V238.74H312.47V310Z\" style=\"vector-effect: non-scaling-stroke; opacity: 1; stroke-width: 0.5px; fill: rgb(99, 110, 250); fill-opacity: 1; stroke: rgb(229, 236, 246); stroke-opacity: 1;\"/></g></g></g><g class=\"trace bars\" style=\"opacity: 1;\"><g class=\"points\"><g class=\"point\"><path d=\"M276.24,238.74V237.88H312.47V238.74Z\" style=\"vector-effect: non-scaling-stroke; opacity: 1; stroke-width: 0.5px; fill: rgb(239, 85, 59); fill-opacity: 1; stroke: rgb(229, 236, 246); stroke-opacity: 1;\"/></g></g></g><g class=\"trace bars\" style=\"opacity: 1;\"><g class=\"points\"><g class=\"point\"><path d=\"M276.24,237.88V211.26H312.47V237.88Z\" style=\"vector-effect: non-scaling-stroke; opacity: 1; stroke-width: 0.5px; fill: rgb(0, 204, 150); fill-opacity: 1; stroke: rgb(229, 236, 246); stroke-opacity: 1;\"/></g></g></g><g class=\"trace bars\" style=\"opacity: 1;\"><g class=\"points\"><g class=\"point\"><path d=\"M276.24,211.26V185.5H312.47V211.26Z\" style=\"vector-effect: non-scaling-stroke; opacity: 1; stroke-width: 0.5px; fill: rgb(171, 99, 250); fill-opacity: 1; stroke: rgb(229, 236, 246); stroke-opacity: 1;\"/></g></g></g><g class=\"trace bars\" style=\"opacity: 1;\"><g class=\"points\"><g class=\"point\"><path d=\"M276.24,185.5V181.21H312.47V185.5Z\" style=\"vector-effect: non-scaling-stroke; opacity: 1; stroke-width: 0.5px; fill: rgb(255, 161, 90); fill-opacity: 1; stroke: rgb(229, 236, 246); stroke-opacity: 1;\"/></g></g></g><g class=\"trace bars\" style=\"opacity: 1;\"><g class=\"points\"><g class=\"point\"><path d=\"M276.24,181.21V107.37H312.47V181.21Z\" style=\"vector-effect: non-scaling-stroke; opacity: 1; stroke-width: 0.5px; fill: rgb(25, 211, 243); fill-opacity: 1; stroke: rgb(229, 236, 246); stroke-opacity: 1;\"/></g></g></g><g class=\"trace bars\" style=\"opacity: 1;\"><g class=\"points\"><g class=\"point\"><path d=\"M230.96,310V122.83H267.19V310Z\" style=\"vector-effect: non-scaling-stroke; opacity: 1; stroke-width: 0.5px; fill: rgb(255, 102, 146); fill-opacity: 1; stroke: rgb(229, 236, 246); stroke-opacity: 1;\"/></g></g></g><g class=\"trace bars\" style=\"opacity: 1;\"><g class=\"points\"><g class=\"point\"><path d=\"M230.96,122.83V38.68H267.19V122.83Z\" style=\"vector-effect: non-scaling-stroke; opacity: 1; stroke-width: 0.5px; fill: rgb(182, 232, 128); fill-opacity: 1; stroke: rgb(229, 236, 246); stroke-opacity: 1;\"/></g></g></g><g class=\"trace bars\" style=\"opacity: 1;\"><g class=\"points\"><g class=\"point\"><path d=\"M230.96,38.68V32.67H267.19V38.68Z\" style=\"vector-effect: non-scaling-stroke; opacity: 1; stroke-width: 0.5px; fill: rgb(255, 151, 255); fill-opacity: 1; stroke: rgb(229, 236, 246); stroke-opacity: 1;\"/></g></g></g><g class=\"trace bars\" style=\"opacity: 1;\"><g class=\"points\"><g class=\"point\"><path d=\"M230.96,32.67V30.1H267.19V32.67Z\" style=\"vector-effect: non-scaling-stroke; opacity: 1; stroke-width: 0.5px; fill: rgb(254, 203, 82); fill-opacity: 1; stroke: rgb(229, 236, 246); stroke-opacity: 1;\"/></g></g></g><g class=\"trace bars\" style=\"opacity: 1;\"><g class=\"points\"><g class=\"point\"><path d=\"M230.96,30.1V15.5H267.19V30.1Z\" style=\"vector-effect: non-scaling-stroke; opacity: 1; stroke-width: 0.5px; fill: rgb(99, 110, 250); fill-opacity: 1; stroke: rgb(229, 236, 246); stroke-opacity: 1;\"/></g></g></g><g class=\"trace bars\" style=\"opacity: 1;\"><g class=\"points\"><g class=\"point\"><path d=\"M185.67,310V295.4H221.9V310Z\" style=\"vector-effect: non-scaling-stroke; opacity: 1; stroke-width: 0.5px; fill: rgb(239, 85, 59); fill-opacity: 1; stroke: rgb(229, 236, 246); stroke-opacity: 1;\"/></g></g></g><g class=\"trace bars\" style=\"opacity: 1;\"><g class=\"points\"><g class=\"point\"><path d=\"M185.67,295.4V268.79H221.9V295.4Z\" style=\"vector-effect: non-scaling-stroke; opacity: 1; stroke-width: 0.5px; fill: rgb(0, 204, 150); fill-opacity: 1; stroke: rgb(229, 236, 246); stroke-opacity: 1;\"/></g></g></g><g class=\"trace bars\" style=\"opacity: 1;\"><g class=\"points\"><g class=\"point\"><path d=\"M185.67,268.79V249.9H221.9V268.79Z\" style=\"vector-effect: non-scaling-stroke; opacity: 1; stroke-width: 0.5px; fill: rgb(171, 99, 250); fill-opacity: 1; stroke: rgb(229, 236, 246); stroke-opacity: 1;\"/></g></g></g><g class=\"trace bars\" style=\"opacity: 1;\"><g class=\"points\"><g class=\"point\"><path d=\"M185.67,249.9V247.32H221.9V249.9Z\" style=\"vector-effect: non-scaling-stroke; opacity: 1; stroke-width: 0.5px; fill: rgb(255, 161, 90); fill-opacity: 1; stroke: rgb(229, 236, 246); stroke-opacity: 1;\"/></g></g></g><g class=\"trace bars\" style=\"opacity: 1;\"><g class=\"points\"><g class=\"point\"><path d=\"M140.39,310V297.12H176.61V310Z\" style=\"vector-effect: non-scaling-stroke; opacity: 1; stroke-width: 0.5px; fill: rgb(25, 211, 243); fill-opacity: 1; stroke: rgb(229, 236, 246); stroke-opacity: 1;\"/></g></g></g><g class=\"trace bars\" style=\"opacity: 1;\"><g class=\"points\"><g class=\"point\"><path d=\"M95.1,310V300.56H131.33V310Z\" style=\"vector-effect: non-scaling-stroke; opacity: 1; stroke-width: 0.5px; fill: rgb(255, 102, 146); fill-opacity: 1; stroke: rgb(229, 236, 246); stroke-opacity: 1;\"/></g></g></g><g class=\"trace bars\" style=\"opacity: 1;\"><g class=\"points\"><g class=\"point\"><path d=\"M49.81,310V264.49H86.04V310Z\" style=\"vector-effect: non-scaling-stroke; opacity: 1; stroke-width: 0.5px; fill: rgb(182, 232, 128); fill-opacity: 1; stroke: rgb(229, 236, 246); stroke-opacity: 1;\"/></g></g></g><g class=\"trace bars\" style=\"opacity: 1;\"><g class=\"points\"><g class=\"point\"><path d=\"M49.81,264.49V254.19H86.04V264.49Z\" style=\"vector-effect: non-scaling-stroke; opacity: 1; stroke-width: 0.5px; fill: rgb(255, 151, 255); fill-opacity: 1; stroke: rgb(229, 236, 246); stroke-opacity: 1;\"/></g></g></g><g class=\"trace bars\" style=\"opacity: 1;\"><g class=\"points\"><g class=\"point\"><path d=\"M4.53,310V88.48H40.76V310Z\" style=\"vector-effect: non-scaling-stroke; opacity: 1; stroke-width: 0.5px; fill: rgb(254, 203, 82); fill-opacity: 1; stroke: rgb(229, 236, 246); stroke-opacity: 1;\"/></g></g></g></g></g><g class=\"overplot\"/><path class=\"xlines-above crisp\" d=\"M0,0\" style=\"fill: none;\"/><path class=\"ylines-above crisp\" d=\"M0,0\" style=\"fill: none;\"/><g class=\"overlines-above\"/><g class=\"xaxislayer-above\"><g class=\"xtick\"><text text-anchor=\"middle\" x=\"0\" y=\"383\" transform=\"translate(147.93,0)\" style=\"font-family: 'Open Sans', verdana, arial, sans-serif; font-size: 12px; fill: rgb(42, 63, 95); fill-opacity: 1; white-space: pre;\">1984</text></g><g class=\"xtick\"><text text-anchor=\"middle\" x=\"0\" y=\"383\" transform=\"translate(238.5,0)\" style=\"font-family: 'Open Sans', verdana, arial, sans-serif; font-size: 12px; fill: rgb(42, 63, 95); fill-opacity: 1; white-space: pre;\">1986</text></g><g class=\"xtick\"><text text-anchor=\"middle\" x=\"0\" y=\"383\" transform=\"translate(329.07,0)\" style=\"font-family: 'Open Sans', verdana, arial, sans-serif; font-size: 12px; fill: rgb(42, 63, 95); fill-opacity: 1; white-space: pre;\">1988</text></g></g><g class=\"yaxislayer-above\"><g class=\"ytick\"><text text-anchor=\"end\" x=\"79\" y=\"4.199999999999999\" transform=\"translate(0,370)\" style=\"font-family: 'Open Sans', verdana, arial, sans-serif; font-size: 12px; fill: rgb(42, 63, 95); fill-opacity: 1; white-space: pre;\">0</text></g><g class=\"ytick\"><text text-anchor=\"end\" x=\"79\" y=\"4.199999999999999\" transform=\"translate(0,327.07)\" style=\"font-family: 'Open Sans', verdana, arial, sans-serif; font-size: 12px; fill: rgb(42, 63, 95); fill-opacity: 1; white-space: pre;\">50</text></g><g class=\"ytick\"><text text-anchor=\"end\" x=\"79\" y=\"4.199999999999999\" transform=\"translate(0,284.14)\" style=\"font-family: 'Open Sans', verdana, arial, sans-serif; font-size: 12px; fill: rgb(42, 63, 95); fill-opacity: 1; white-space: pre;\">100</text></g><g class=\"ytick\"><text text-anchor=\"end\" x=\"79\" y=\"4.199999999999999\" transform=\"translate(0,241.21)\" style=\"font-family: 'Open Sans', verdana, arial, sans-serif; font-size: 12px; fill: rgb(42, 63, 95); fill-opacity: 1; white-space: pre;\">150</text></g><g class=\"ytick\"><text text-anchor=\"end\" x=\"79\" y=\"4.199999999999999\" transform=\"translate(0,198.28)\" style=\"font-family: 'Open Sans', verdana, arial, sans-serif; font-size: 12px; fill: rgb(42, 63, 95); fill-opacity: 1; white-space: pre;\">200</text></g><g class=\"ytick\"><text text-anchor=\"end\" x=\"79\" y=\"4.199999999999999\" transform=\"translate(0,155.35)\" style=\"font-family: 'Open Sans', verdana, arial, sans-serif; font-size: 12px; fill: rgb(42, 63, 95); fill-opacity: 1; white-space: pre;\">250</text></g><g class=\"ytick\"><text text-anchor=\"end\" x=\"79\" y=\"4.199999999999999\" transform=\"translate(0,112.42)\" style=\"font-family: 'Open Sans', verdana, arial, sans-serif; font-size: 12px; fill: rgb(42, 63, 95); fill-opacity: 1; white-space: pre;\">300</text></g><g class=\"ytick\"><text text-anchor=\"end\" x=\"79\" y=\"4.199999999999999\" transform=\"translate(0,69.49)\" style=\"font-family: 'Open Sans', verdana, arial, sans-serif; font-size: 12px; fill: rgb(42, 63, 95); fill-opacity: 1; white-space: pre;\">350</text></g></g><g class=\"overaxes-above\"/></g></g><g class=\"polarlayer\"/><g class=\"ternarylayer\"/><g class=\"geolayer\"/><g class=\"funnelarealayer\"/><g class=\"pielayer\"/><g class=\"treemaplayer\"/><g class=\"sunburstlayer\"/><g class=\"glimages\"/><defs id=\"topdefs-a40024\"><g class=\"clips\"/><clipPath id=\"legenda40024\"><rect width=\"285\" height=\"310\" x=\"0\" y=\"0\"/></clipPath></defs><g class=\"layer-above\"><g class=\"imagelayer\"/><g class=\"shapelayer\"/></g><g class=\"infolayer\"><g class=\"legend\" pointer-events=\"all\" transform=\"translate(403.34000000000003, 60)\"><rect class=\"bg\" shape-rendering=\"crispEdges\" width=\"285\" height=\"310\" x=\"0\" y=\"0\" style=\"stroke: rgb(68, 68, 68); stroke-opacity: 1; fill: rgb(255, 255, 255); fill-opacity: 1; stroke-width: 0px;\"/><g class=\"scrollbox\" transform=\"translate(0, 0)\" clip-path=\"url('#legenda40024')\"><text class=\"legendtitletext\" text-anchor=\"start\" x=\"2\" y=\"15.600000000000001\" style=\"font-family: 'Open Sans', verdana, arial, sans-serif; font-size: 12px; fill: rgb(42, 63, 95); fill-opacity: 1; white-space: pre;\">app_name</text><g class=\"groups\" transform=\"translate(0, 0)\"><g class=\"traces\" transform=\"translate(0, 30.1)\" style=\"opacity: 1;\"><text class=\"legendtext\" text-anchor=\"start\" x=\"40\" y=\"4.680000000000001\" style=\"font-family: 'Open Sans', verdana, arial, sans-serif; font-size: 12px; fill: rgb(42, 63, 95); fill-opacity: 1; white-space: pre;\">Indiana Jones® and the Last Crusade™</text><g class=\"layers\" style=\"opacity: 1;\"><g class=\"legendfill\"/><g class=\"legendlines\"/><g class=\"legendsymbols\"><g class=\"legendpoints\"><path class=\"legendundefined\" d=\"M6,6H-6V-6H6Z\" transform=\"translate(20,0)\" style=\"stroke-width: 0.5px; fill: rgb(99, 110, 250); fill-opacity: 1; stroke: rgb(229, 236, 246); stroke-opacity: 1;\"/></g></g></g><rect class=\"legendtoggle\" pointer-events=\"all\" x=\"0\" y=\"-9.5\" width=\"279.765625\" height=\"19\" style=\"cursor: pointer; fill: rgb(0, 0, 0); fill-opacity: 0;\"/></g></g><g class=\"groups\" transform=\"translate(0, 0)\"><g class=\"traces\" transform=\"translate(0, 49.1)\" style=\"opacity: 1;\"><text class=\"legendtext\" text-anchor=\"start\" x=\"40\" y=\"4.680000000000001\" style=\"font-family: 'Open Sans', verdana, arial, sans-serif; font-size: 12px; fill: rgb(42, 63, 95); fill-opacity: 1; white-space: pre;\">Space Rogue Classic</text><g class=\"layers\" style=\"opacity: 1;\"><g class=\"legendfill\"/><g class=\"legendlines\"/><g class=\"legendsymbols\"><g class=\"legendpoints\"><path class=\"legendundefined\" d=\"M6,6H-6V-6H6Z\" transform=\"translate(20,0)\" style=\"stroke-width: 0.5px; fill: rgb(239, 85, 59); fill-opacity: 1; stroke: rgb(229, 236, 246); stroke-opacity: 1;\"/></g></g></g><rect class=\"legendtoggle\" pointer-events=\"all\" x=\"0\" y=\"-9.5\" width=\"279.765625\" height=\"19\" style=\"cursor: pointer; fill: rgb(0, 0, 0); fill-opacity: 0;\"/></g></g><g class=\"groups\" transform=\"translate(0, 0)\"><g class=\"traces\" transform=\"translate(0, 68.1)\" style=\"opacity: 1;\"><text class=\"legendtext\" text-anchor=\"start\" x=\"40\" y=\"4.680000000000001\" style=\"font-family: 'Open Sans', verdana, arial, sans-serif; font-size: 12px; fill: rgb(42, 63, 95); fill-opacity: 1; white-space: pre;\">Tex Murphy: Mean Streets</text><g class=\"layers\" style=\"opacity: 1;\"><g class=\"legendfill\"/><g class=\"legendlines\"/><g class=\"legendsymbols\"><g class=\"legendpoints\"><path class=\"legendundefined\" d=\"M6,6H-6V-6H6Z\" transform=\"translate(20,0)\" style=\"stroke-width: 0.5px; fill: rgb(0, 204, 150); fill-opacity: 1; stroke: rgb(229, 236, 246); stroke-opacity: 1;\"/></g></g></g><rect class=\"legendtoggle\" pointer-events=\"all\" x=\"0\" y=\"-9.5\" width=\"279.765625\" height=\"19\" style=\"cursor: pointer; fill: rgb(0, 0, 0); fill-opacity: 0;\"/></g></g><g class=\"groups\" transform=\"translate(0, 0)\"><g class=\"traces\" transform=\"translate(0, 87.1)\" style=\"opacity: 1;\"><text class=\"legendtext\" text-anchor=\"start\" x=\"40\" y=\"4.680000000000001\" style=\"font-family: 'Open Sans', verdana, arial, sans-serif; font-size: 12px; fill: rgb(42, 63, 95); fill-opacity: 1; white-space: pre;\">The Adventures of Super Mario Bros. 3</text><g class=\"layers\" style=\"opacity: 1;\"><g class=\"legendfill\"/><g class=\"legendlines\"/><g class=\"legendsymbols\"><g class=\"legendpoints\"><path class=\"legendundefined\" d=\"M6,6H-6V-6H6Z\" transform=\"translate(20,0)\" style=\"stroke-width: 0.5px; fill: rgb(171, 99, 250); fill-opacity: 1; stroke: rgb(229, 236, 246); stroke-opacity: 1;\"/></g></g></g><rect class=\"legendtoggle\" pointer-events=\"all\" x=\"0\" y=\"-9.5\" width=\"279.765625\" height=\"19\" style=\"cursor: pointer; fill: rgb(0, 0, 0); fill-opacity: 0;\"/></g></g><g class=\"groups\" transform=\"translate(0, 0)\"><g class=\"traces\" transform=\"translate(0, 106.1)\" style=\"opacity: 1;\"><text class=\"legendtext\" text-anchor=\"start\" x=\"40\" y=\"4.680000000000001\" style=\"font-family: 'Open Sans', verdana, arial, sans-serif; font-size: 12px; fill: rgb(42, 63, 95); fill-opacity: 1; white-space: pre;\">Tank: M1A1 Abrams Battle Simulation</text><g class=\"layers\" style=\"opacity: 1;\"><g class=\"legendfill\"/><g class=\"legendlines\"/><g class=\"legendsymbols\"><g class=\"legendpoints\"><path class=\"legendundefined\" d=\"M6,6H-6V-6H6Z\" transform=\"translate(20,0)\" style=\"stroke-width: 0.5px; fill: rgb(255, 161, 90); fill-opacity: 1; stroke: rgb(229, 236, 246); stroke-opacity: 1;\"/></g></g></g><rect class=\"legendtoggle\" pointer-events=\"all\" x=\"0\" y=\"-9.5\" width=\"279.765625\" height=\"19\" style=\"cursor: pointer; fill: rgb(0, 0, 0); fill-opacity: 0;\"/></g></g><g class=\"groups\" transform=\"translate(0, 0)\"><g class=\"traces\" transform=\"translate(0, 125.1)\" style=\"opacity: 1;\"><text class=\"legendtext\" text-anchor=\"start\" x=\"40\" y=\"4.680000000000001\" style=\"font-family: 'Open Sans', verdana, arial, sans-serif; font-size: 12px; fill: rgb(42, 63, 95); fill-opacity: 1; white-space: pre;\">Sword of the Samurai</text><g class=\"layers\" style=\"opacity: 1;\"><g class=\"legendfill\"/><g class=\"legendlines\"/><g class=\"legendsymbols\"><g class=\"legendpoints\"><path class=\"legendundefined\" d=\"M6,6H-6V-6H6Z\" transform=\"translate(20,0)\" style=\"stroke-width: 0.5px; fill: rgb(25, 211, 243); fill-opacity: 1; stroke: rgb(229, 236, 246); stroke-opacity: 1;\"/></g></g></g><rect class=\"legendtoggle\" pointer-events=\"all\" x=\"0\" y=\"-9.5\" width=\"279.765625\" height=\"19\" style=\"cursor: pointer; fill: rgb(0, 0, 0); fill-opacity: 0;\"/></g></g><g class=\"groups\" transform=\"translate(0, 0)\"><g class=\"traces\" transform=\"translate(0, 144.1)\" style=\"opacity: 1;\"><text class=\"legendtext\" text-anchor=\"start\" x=\"40\" y=\"4.680000000000001\" style=\"font-family: 'Open Sans', verdana, arial, sans-serif; font-size: 12px; fill: rgb(42, 63, 95); fill-opacity: 1; white-space: pre;\">Wasteland 1 - The Original Classic</text><g class=\"layers\" style=\"opacity: 1;\"><g class=\"legendfill\"/><g class=\"legendlines\"/><g class=\"legendsymbols\"><g class=\"legendpoints\"><path class=\"legendundefined\" d=\"M6,6H-6V-6H6Z\" transform=\"translate(20,0)\" style=\"stroke-width: 0.5px; fill: rgb(255, 102, 146); fill-opacity: 1; stroke: rgb(229, 236, 246); stroke-opacity: 1;\"/></g></g></g><rect class=\"legendtoggle\" pointer-events=\"all\" x=\"0\" y=\"-9.5\" width=\"279.765625\" height=\"19\" style=\"cursor: pointer; fill: rgb(0, 0, 0); fill-opacity: 0;\"/></g></g><g class=\"groups\" transform=\"translate(0, 0)\"><g class=\"traces\" transform=\"translate(0, 163.1)\" style=\"opacity: 1;\"><text class=\"legendtext\" text-anchor=\"start\" x=\"40\" y=\"4.680000000000001\" style=\"font-family: 'Open Sans', verdana, arial, sans-serif; font-size: 12px; fill: rgb(42, 63, 95); fill-opacity: 1; white-space: pre;\">Gold Rush! Classic</text><g class=\"layers\" style=\"opacity: 1;\"><g class=\"legendfill\"/><g class=\"legendlines\"/><g class=\"legendsymbols\"><g class=\"legendpoints\"><path class=\"legendundefined\" d=\"M6,6H-6V-6H6Z\" transform=\"translate(20,0)\" style=\"stroke-width: 0.5px; fill: rgb(182, 232, 128); fill-opacity: 1; stroke: rgb(229, 236, 246); stroke-opacity: 1;\"/></g></g></g><rect class=\"legendtoggle\" pointer-events=\"all\" x=\"0\" y=\"-9.5\" width=\"279.765625\" height=\"19\" style=\"cursor: pointer; fill: rgb(0, 0, 0); fill-opacity: 0;\"/></g></g><g class=\"groups\" transform=\"translate(0, 0)\"><g class=\"traces\" transform=\"translate(0, 182.1)\" style=\"opacity: 1;\"><text class=\"legendtext\" text-anchor=\"start\" x=\"40\" y=\"4.680000000000001\" style=\"font-family: 'Open Sans', verdana, arial, sans-serif; font-size: 12px; fill: rgb(42, 63, 95); fill-opacity: 1; white-space: pre;\">Battle Chess</text><g class=\"layers\" style=\"opacity: 1;\"><g class=\"legendfill\"/><g class=\"legendlines\"/><g class=\"legendsymbols\"><g class=\"legendpoints\"><path class=\"legendundefined\" d=\"M6,6H-6V-6H6Z\" transform=\"translate(20,0)\" style=\"stroke-width: 0.5px; fill: rgb(255, 151, 255); fill-opacity: 1; stroke: rgb(229, 236, 246); stroke-opacity: 1;\"/></g></g></g><rect class=\"legendtoggle\" pointer-events=\"all\" x=\"0\" y=\"-9.5\" width=\"279.765625\" height=\"19\" style=\"cursor: pointer; fill: rgb(0, 0, 0); fill-opacity: 0;\"/></g></g><g class=\"groups\" transform=\"translate(0, 0)\"><g class=\"traces\" transform=\"translate(0, 201.1)\" style=\"opacity: 1;\"><text class=\"legendtext\" text-anchor=\"start\" x=\"40\" y=\"4.680000000000001\" style=\"font-family: 'Open Sans', verdana, arial, sans-serif; font-size: 12px; fill: rgb(42, 63, 95); fill-opacity: 1; white-space: pre;\">Falcon A.T.</text><g class=\"layers\" style=\"opacity: 1;\"><g class=\"legendfill\"/><g class=\"legendlines\"/><g class=\"legendsymbols\"><g class=\"legendpoints\"><path class=\"legendundefined\" d=\"M6,6H-6V-6H6Z\" transform=\"translate(20,0)\" style=\"stroke-width: 0.5px; fill: rgb(254, 203, 82); fill-opacity: 1; stroke: rgb(229, 236, 246); stroke-opacity: 1;\"/></g></g></g><rect class=\"legendtoggle\" pointer-events=\"all\" x=\"0\" y=\"-9.5\" width=\"279.765625\" height=\"19\" style=\"cursor: pointer; fill: rgb(0, 0, 0); fill-opacity: 0;\"/></g></g><g class=\"groups\" transform=\"translate(0, 0)\"><g class=\"traces\" transform=\"translate(0, 220.1)\" style=\"opacity: 1;\"><text class=\"legendtext\" text-anchor=\"start\" x=\"40\" y=\"4.680000000000001\" style=\"font-family: 'Open Sans', verdana, arial, sans-serif; font-size: 12px; fill: rgb(42, 63, 95); fill-opacity: 1; white-space: pre;\">F-19 Stealth Fighter</text><g class=\"layers\" style=\"opacity: 1;\"><g class=\"legendfill\"/><g class=\"legendlines\"/><g class=\"legendsymbols\"><g class=\"legendpoints\"><path class=\"legendundefined\" d=\"M6,6H-6V-6H6Z\" transform=\"translate(20,0)\" style=\"stroke-width: 0.5px; fill: rgb(99, 110, 250); fill-opacity: 1; stroke: rgb(229, 236, 246); stroke-opacity: 1;\"/></g></g></g><rect class=\"legendtoggle\" pointer-events=\"all\" x=\"0\" y=\"-9.5\" width=\"279.765625\" height=\"19\" style=\"cursor: pointer; fill: rgb(0, 0, 0); fill-opacity: 0;\"/></g></g><g class=\"groups\" transform=\"translate(0, 0)\"><g class=\"traces\" transform=\"translate(0, 239.1)\" style=\"opacity: 1;\"><text class=\"legendtext\" text-anchor=\"start\" x=\"40\" y=\"4.680000000000001\" style=\"font-family: 'Open Sans', verdana, arial, sans-serif; font-size: 12px; fill: rgb(42, 63, 95); fill-opacity: 1; white-space: pre;\">Maniac Mansion</text><g class=\"layers\" style=\"opacity: 1;\"><g class=\"legendfill\"/><g class=\"legendlines\"/><g class=\"legendsymbols\"><g class=\"legendpoints\"><path class=\"legendundefined\" d=\"M6,6H-6V-6H6Z\" transform=\"translate(20,0)\" style=\"stroke-width: 0.5px; fill: rgb(239, 85, 59); fill-opacity: 1; stroke: rgb(229, 236, 246); stroke-opacity: 1;\"/></g></g></g><rect class=\"legendtoggle\" pointer-events=\"all\" x=\"0\" y=\"-9.5\" width=\"279.765625\" height=\"19\" style=\"cursor: pointer; fill: rgb(0, 0, 0); fill-opacity: 0;\"/></g></g><g class=\"groups\" transform=\"translate(0, 0)\"><g class=\"traces\" transform=\"translate(0, 258.1)\" style=\"opacity: 1;\"><text class=\"legendtext\" text-anchor=\"start\" x=\"40\" y=\"4.680000000000001\" style=\"font-family: 'Open Sans', verdana, arial, sans-serif; font-size: 12px; fill: rgb(42, 63, 95); fill-opacity: 1; white-space: pre;\">Police Quest™ Collection</text><g class=\"layers\" style=\"opacity: 1;\"><g class=\"legendfill\"/><g class=\"legendlines\"/><g class=\"legendsymbols\"><g class=\"legendpoints\"><path class=\"legendundefined\" d=\"M6,6H-6V-6H6Z\" transform=\"translate(20,0)\" style=\"stroke-width: 0.5px; fill: rgb(0, 204, 150); fill-opacity: 1; stroke: rgb(229, 236, 246); stroke-opacity: 1;\"/></g></g></g><rect class=\"legendtoggle\" pointer-events=\"all\" x=\"0\" y=\"-9.5\" width=\"279.765625\" height=\"19\" style=\"cursor: pointer; fill: rgb(0, 0, 0); fill-opacity: 0;\"/></g></g><g class=\"groups\" transform=\"translate(0, 0)\"><g class=\"traces\" transform=\"translate(0, 277.1)\" style=\"opacity: 1;\"><text class=\"legendtext\" text-anchor=\"start\" x=\"40\" y=\"4.680000000000001\" style=\"font-family: 'Open Sans', verdana, arial, sans-serif; font-size: 12px; fill: rgb(42, 63, 95); fill-opacity: 1; white-space: pre;\">Sid Meier's Pirates! Gold Plus (Classic)</text><g class=\"layers\" style=\"opacity: 1;\"><g class=\"legendfill\"/><g class=\"legendlines\"/><g class=\"legendsymbols\"><g class=\"legendpoints\"><path class=\"legendundefined\" d=\"M6,6H-6V-6H6Z\" transform=\"translate(20,0)\" style=\"stroke-width: 0.5px; fill: rgb(171, 99, 250); fill-opacity: 1; stroke: rgb(229, 236, 246); stroke-opacity: 1;\"/></g></g></g><rect class=\"legendtoggle\" pointer-events=\"all\" x=\"0\" y=\"-9.5\" width=\"279.765625\" height=\"19\" style=\"cursor: pointer; fill: rgb(0, 0, 0); fill-opacity: 0;\"/></g></g><g class=\"groups\" transform=\"translate(0, 0)\"><g class=\"traces\" transform=\"translate(0, 296.1)\" style=\"opacity: 1;\"><text class=\"legendtext\" text-anchor=\"start\" x=\"40\" y=\"4.680000000000001\" style=\"font-family: 'Open Sans', verdana, arial, sans-serif; font-size: 12px; fill: rgb(42, 63, 95); fill-opacity: 1; white-space: pre;\">Falcon</text><g class=\"layers\" style=\"opacity: 1;\"><g class=\"legendfill\"/><g class=\"legendlines\"/><g class=\"legendsymbols\"><g class=\"legendpoints\"><path class=\"legendundefined\" d=\"M6,6H-6V-6H6Z\" transform=\"translate(20,0)\" style=\"stroke-width: 0.5px; fill: rgb(255, 161, 90); fill-opacity: 1; stroke: rgb(229, 236, 246); stroke-opacity: 1;\"/></g></g></g><rect class=\"legendtoggle\" pointer-events=\"all\" x=\"0\" y=\"-9.5\" width=\"279.765625\" height=\"19\" style=\"cursor: pointer; fill: rgb(0, 0, 0); fill-opacity: 0;\"/></g></g><g class=\"groups\" transform=\"translate(0, 0)\"><g class=\"traces\" transform=\"translate(0, 315.1)\" style=\"opacity: 1;\"><text class=\"legendtext\" text-anchor=\"start\" x=\"40\" y=\"4.680000000000001\" style=\"font-family: 'Open Sans', verdana, arial, sans-serif; font-size: 12px; fill: rgb(42, 63, 95); fill-opacity: 1; white-space: pre;\">Alter Ego</text><g class=\"layers\" style=\"opacity: 1;\"><g class=\"legendfill\"/><g class=\"legendlines\"/><g class=\"legendsymbols\"><g class=\"legendpoints\"><path class=\"legendundefined\" d=\"M6,6H-6V-6H6Z\" transform=\"translate(20,0)\" style=\"stroke-width: 0.5px; fill: rgb(25, 211, 243); fill-opacity: 1; stroke: rgb(229, 236, 246); stroke-opacity: 1;\"/></g></g></g><rect class=\"legendtoggle\" pointer-events=\"all\" x=\"0\" y=\"-9.5\" width=\"279.765625\" height=\"19\" style=\"cursor: pointer; fill: rgb(0, 0, 0); fill-opacity: 0;\"/></g></g><g class=\"groups\" transform=\"translate(0, 0)\"><g class=\"traces\" transform=\"translate(0, 334.1)\" style=\"opacity: 1;\"><text class=\"legendtext\" text-anchor=\"start\" x=\"40\" y=\"4.680000000000001\" style=\"font-family: 'Open Sans', verdana, arial, sans-serif; font-size: 12px; fill: rgb(42, 63, 95); fill-opacity: 1; white-space: pre;\">Silent Service</text><g class=\"layers\" style=\"opacity: 1;\"><g class=\"legendfill\"/><g class=\"legendlines\"/><g class=\"legendsymbols\"><g class=\"legendpoints\"><path class=\"legendundefined\" d=\"M6,6H-6V-6H6Z\" transform=\"translate(20,0)\" style=\"stroke-width: 0.5px; fill: rgb(255, 102, 146); fill-opacity: 1; stroke: rgb(229, 236, 246); stroke-opacity: 1;\"/></g></g></g><rect class=\"legendtoggle\" pointer-events=\"all\" x=\"0\" y=\"-9.5\" width=\"279.765625\" height=\"19\" style=\"cursor: pointer; fill: rgb(0, 0, 0); fill-opacity: 0;\"/></g></g><g class=\"groups\" transform=\"translate(0, 0)\"><g class=\"traces\" transform=\"translate(0, 353.1)\" style=\"opacity: 1;\"><text class=\"legendtext\" text-anchor=\"start\" x=\"40\" y=\"4.680000000000001\" style=\"font-family: 'Open Sans', verdana, arial, sans-serif; font-size: 12px; fill: rgb(42, 63, 95); fill-opacity: 1; white-space: pre;\">Space Ace</text><g class=\"layers\" style=\"opacity: 1;\"><g class=\"legendfill\"/><g class=\"legendlines\"/><g class=\"legendsymbols\"><g class=\"legendpoints\"><path class=\"legendundefined\" d=\"M6,6H-6V-6H6Z\" transform=\"translate(20,0)\" style=\"stroke-width: 0.5px; fill: rgb(182, 232, 128); fill-opacity: 1; stroke: rgb(229, 236, 246); stroke-opacity: 1;\"/></g></g></g><rect class=\"legendtoggle\" pointer-events=\"all\" x=\"0\" y=\"-9.5\" width=\"279.765625\" height=\"19\" style=\"cursor: pointer; fill: rgb(0, 0, 0); fill-opacity: 0;\"/></g></g><g class=\"groups\" transform=\"translate(0, 0)\"><g class=\"traces\" transform=\"translate(0, 372.1)\" style=\"opacity: 1;\"><text class=\"legendtext\" text-anchor=\"start\" x=\"40\" y=\"4.680000000000001\" style=\"font-family: 'Open Sans', verdana, arial, sans-serif; font-size: 12px; fill: rgb(42, 63, 95); fill-opacity: 1; white-space: pre;\">The Castles of Dr. Creep</text><g class=\"layers\" style=\"opacity: 1;\"><g class=\"legendfill\"/><g class=\"legendlines\"/><g class=\"legendsymbols\"><g class=\"legendpoints\"><path class=\"legendundefined\" d=\"M6,6H-6V-6H6Z\" transform=\"translate(20,0)\" style=\"stroke-width: 0.5px; fill: rgb(255, 151, 255); fill-opacity: 1; stroke: rgb(229, 236, 246); stroke-opacity: 1;\"/></g></g></g><rect class=\"legendtoggle\" pointer-events=\"all\" x=\"0\" y=\"-9.5\" width=\"279.765625\" height=\"19\" style=\"cursor: pointer; fill: rgb(0, 0, 0); fill-opacity: 0;\"/></g></g><g class=\"groups\" transform=\"translate(0, 0)\"><g class=\"traces\" transform=\"translate(0, 391.1)\" style=\"opacity: 1;\"><text class=\"legendtext\" text-anchor=\"start\" x=\"40\" y=\"4.680000000000001\" style=\"font-family: 'Open Sans', verdana, arial, sans-serif; font-size: 12px; fill: rgb(42, 63, 95); fill-opacity: 1; white-space: pre;\">Dragon's Lair</text><g class=\"layers\" style=\"opacity: 1;\"><g class=\"legendfill\"/><g class=\"legendlines\"/><g class=\"legendsymbols\"><g class=\"legendpoints\"><path class=\"legendundefined\" d=\"M6,6H-6V-6H6Z\" transform=\"translate(20,0)\" style=\"stroke-width: 0.5px; fill: rgb(254, 203, 82); fill-opacity: 1; stroke: rgb(229, 236, 246); stroke-opacity: 1;\"/></g></g></g><rect class=\"legendtoggle\" pointer-events=\"all\" x=\"0\" y=\"-9.5\" width=\"279.765625\" height=\"19\" style=\"cursor: pointer; fill: rgb(0, 0, 0); fill-opacity: 0;\"/></g></g></g><rect class=\"scrollbar\" rx=\"20\" ry=\"3\" width=\"0\" height=\"0\" x=\"0\" y=\"0\" style=\"fill: rgb(128, 139, 164); fill-opacity: 1;\"/></g><g class=\"g-gtitle\"/><g class=\"g-xtitle\"><text class=\"xtitle\" x=\"238.5\" y=\"410.20625\" text-anchor=\"middle\" style=\"font-family: 'Open Sans', verdana, arial, sans-serif; font-size: 14px; fill: rgb(42, 63, 95); opacity: 1; font-weight: normal; white-space: pre;\">year</text></g><g class=\"g-ytitle\"><text class=\"ytitle\" transform=\"rotate(-90,31.309375000000003,215)\" x=\"31.309375000000003\" y=\"215\" text-anchor=\"middle\" style=\"font-family: 'Open Sans', verdana, arial, sans-serif; font-size: 14px; fill: rgb(42, 63, 95); opacity: 1; font-weight: normal; white-space: pre;\">amount</text></g></g></svg>"
      ]
     },
     "metadata": {},
     "output_type": "display_data"
    }
   ],
   "source": [
    "fig = px.bar(data_frame=older_games, x='year',\n",
    "             y='amount', color='app_name', )\n",
    "fig.show('svg')"
   ]
  },
  {
   "cell_type": "markdown",
   "metadata": {
    "ExecuteTime": {
     "end_time": "2020-10-23T04:49:08.825543Z",
     "start_time": "2020-10-23T04:49:08.822579Z"
    }
   },
   "source": [
    "##### 20 Videojuegos más nuevos"
   ]
  },
  {
   "cell_type": "code",
   "execution_count": null,
   "metadata": {},
   "outputs": [],
   "source": []
  },
  {
   "cell_type": "markdown",
   "metadata": {},
   "source": [
    "#### Algo con NPL"
   ]
  },
  {
   "cell_type": "code",
   "execution_count": null,
   "metadata": {},
   "outputs": [],
   "source": []
  },
  {
   "cell_type": "markdown",
   "metadata": {},
   "source": [
    "**Liberando memoria**"
   ]
  },
  {
   "cell_type": "code",
   "execution_count": 255,
   "metadata": {
    "ExecuteTime": {
     "end_time": "2020-10-13T01:54:56.513255Z",
     "start_time": "2020-10-13T01:54:56.216051Z"
    }
   },
   "outputs": [
    {
     "data": {
      "text/plain": [
       "16300"
      ]
     },
     "execution_count": 255,
     "metadata": {},
     "output_type": "execute_result"
    }
   ],
   "source": [
    "gc.collect()"
   ]
  },
  {
   "cell_type": "markdown",
   "metadata": {},
   "source": [
    "## Sistema de recomendacion"
   ]
  },
  {
   "cell_type": "markdown",
   "metadata": {},
   "source": [
    "### Generando calificaciones"
   ]
  },
  {
   "cell_type": "code",
   "execution_count": 35,
   "metadata": {
    "ExecuteTime": {
     "end_time": "2020-10-15T04:15:19.351596Z",
     "start_time": "2020-10-15T04:15:14.448710Z"
    }
   },
   "outputs": [
    {
     "data": {
      "text/plain": [
       "username\n",
       "! ! ŦŕĩŽǿЯëќ™ ! !           1\n",
       "! A DIGGER'S GOTTA DIG !    1\n",
       "! AgRee                     1\n",
       "! Dr Feelgood               1\n",
       "! EREN                      1\n",
       "                           ..\n",
       "󰀑Flaming Axe󰀑               1\n",
       "󰀒Nullz󰀒                     1\n",
       "󰀒Vosim󰀒                     1\n",
       "󰀒abdarrahman802             1\n",
       "󰀗S-Rabbit󰀗                  1\n",
       "Name: product_id, Length: 493231, dtype: int64"
      ]
     },
     "execution_count": 35,
     "metadata": {},
     "output_type": "execute_result"
    }
   ],
   "source": [
    "games_played_per_user = new_data_reviews.groupby(\"username\").product_id.nunique()\n",
    "games_played_per_user"
   ]
  },
  {
   "cell_type": "code",
   "execution_count": 34,
   "metadata": {
    "ExecuteTime": {
     "end_time": "2020-10-15T04:14:23.658194Z",
     "start_time": "2020-10-15T04:14:23.648173Z"
    }
   },
   "outputs": [
    {
     "data": {
      "text/plain": [
       "1.3970237564176393"
      ]
     },
     "execution_count": 34,
     "metadata": {},
     "output_type": "execute_result"
    }
   ],
   "source": [
    "average_games_played = games_played_per_user.mean()\n",
    "average_games_played"
   ]
  },
  {
   "cell_type": "code",
   "execution_count": 36,
   "metadata": {
    "ExecuteTime": {
     "end_time": "2020-10-15T04:16:55.975251Z",
     "start_time": "2020-10-15T04:16:55.942307Z"
    }
   },
   "outputs": [
    {
     "data": {
      "text/plain": [
       "count    493231.000000\n",
       "mean          1.396857\n",
       "std           1.592501\n",
       "min           1.000000\n",
       "25%           1.000000\n",
       "50%           1.000000\n",
       "75%           1.000000\n",
       "max         139.000000\n",
       "Name: product_id, dtype: float64"
      ]
     },
     "execution_count": 36,
     "metadata": {},
     "output_type": "execute_result"
    }
   ],
   "source": [
    "games_played_per_user.describe()"
   ]
  },
  {
   "cell_type": "code",
   "execution_count": 37,
   "metadata": {
    "ExecuteTime": {
     "end_time": "2020-10-15T04:18:39.156952Z",
     "start_time": "2020-10-15T04:18:39.140013Z"
    }
   },
   "outputs": [
    {
     "ename": "NameError",
     "evalue": "name 'games_played' is not defined",
     "output_type": "error",
     "traceback": [
      "\u001b[1;31m---------------------------------------------------------------------------\u001b[0m",
      "\u001b[1;31mNameError\u001b[0m                                 Traceback (most recent call last)",
      "\u001b[1;32m<ipython-input-37-379bb101994e>\u001b[0m in \u001b[0;36m<module>\u001b[1;34m\u001b[0m\n\u001b[1;32m----> 1\u001b[1;33m \u001b[0mweighted_games_played\u001b[0m \u001b[1;33m=\u001b[0m \u001b[0mgames_played\u001b[0m \u001b[1;33m*\u001b[0m \u001b[1;33m(\u001b[0m\u001b[0maverage_games_played\u001b[0m \u001b[1;33m/\u001b[0m \u001b[0mgames_played_per_user\u001b[0m\u001b[1;33m)\u001b[0m\u001b[1;33m\u001b[0m\u001b[1;33m\u001b[0m\u001b[0m\n\u001b[0m",
      "\u001b[1;31mNameError\u001b[0m: name 'games_played' is not defined"
     ]
    }
   ],
   "source": [
    "weighted_games_played = games_played * (average_games_played / games_played_per_user)"
   ]
  },
  {
   "cell_type": "markdown",
   "metadata": {},
   "source": [
    "### Filtro colaborativo"
   ]
  },
  {
   "cell_type": "code",
   "execution_count": null,
   "metadata": {},
   "outputs": [],
   "source": []
  }
 ],
 "metadata": {
  "colab": {
   "collapsed_sections": [],
   "name": "DS_Proyecto_03_SR.ipynb",
   "provenance": []
  },
  "kernelspec": {
   "display_name": "Python 3",
   "language": "python",
   "name": "python3"
  },
  "language_info": {
   "codemirror_mode": {
    "name": "ipython",
    "version": 3
   },
   "file_extension": ".py",
   "mimetype": "text/x-python",
   "name": "python",
   "nbconvert_exporter": "python",
   "pygments_lexer": "ipython3",
   "version": "3.7.6"
  },
  "toc": {
   "base_numbering": 1,
   "nav_menu": {},
   "number_sections": true,
   "sideBar": true,
   "skip_h1_title": false,
   "title_cell": "Table of Contents",
   "title_sidebar": "Contents",
   "toc_cell": false,
   "toc_position": {
    "height": "calc(100% - 180px)",
    "left": "10px",
    "top": "150px",
    "width": "307.2px"
   },
   "toc_section_display": true,
   "toc_window_display": true
  }
 },
 "nbformat": 4,
 "nbformat_minor": 1
}
